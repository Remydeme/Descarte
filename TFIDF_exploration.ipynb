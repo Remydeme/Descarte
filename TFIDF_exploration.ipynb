{
  "nbformat": 4,
  "nbformat_minor": 0,
  "metadata": {
    "colab": {
      "name": "TFIDF_exploration.ipynb",
      "provenance": [],
      "collapsed_sections": [],
      "machine_shape": "hm",
      "include_colab_link": true
    },
    "kernelspec": {
      "name": "python3",
      "display_name": "Python 3"
    },
    "widgets": {
      "application/vnd.jupyter.widget-state+json": {
        "a0107e1571d647c78e2600dee67abee2": {
          "model_module": "@jupyter-widgets/controls",
          "model_name": "HBoxModel",
          "state": {
            "_view_name": "HBoxView",
            "_dom_classes": [],
            "_model_name": "HBoxModel",
            "_view_module": "@jupyter-widgets/controls",
            "_model_module_version": "1.5.0",
            "_view_count": null,
            "_view_module_version": "1.5.0",
            "box_style": "",
            "layout": "IPY_MODEL_8b16dff392144aabb0777d9226ef6b14",
            "_model_module": "@jupyter-widgets/controls",
            "children": [
              "IPY_MODEL_9418fd7af50e4355a0f78185edf54fe4",
              "IPY_MODEL_e1e70cd7385a46c189ae78dbfd5c4149"
            ]
          }
        },
        "8b16dff392144aabb0777d9226ef6b14": {
          "model_module": "@jupyter-widgets/base",
          "model_name": "LayoutModel",
          "state": {
            "_view_name": "LayoutView",
            "grid_template_rows": null,
            "right": null,
            "justify_content": null,
            "_view_module": "@jupyter-widgets/base",
            "overflow": null,
            "_model_module_version": "1.2.0",
            "_view_count": null,
            "flex_flow": null,
            "width": null,
            "min_width": null,
            "border": null,
            "align_items": null,
            "bottom": null,
            "_model_module": "@jupyter-widgets/base",
            "top": null,
            "grid_column": null,
            "overflow_y": null,
            "overflow_x": null,
            "grid_auto_flow": null,
            "grid_area": null,
            "grid_template_columns": null,
            "flex": null,
            "_model_name": "LayoutModel",
            "justify_items": null,
            "grid_row": null,
            "max_height": null,
            "align_content": null,
            "visibility": null,
            "align_self": null,
            "height": null,
            "min_height": null,
            "padding": null,
            "grid_auto_rows": null,
            "grid_gap": null,
            "max_width": null,
            "order": null,
            "_view_module_version": "1.2.0",
            "grid_template_areas": null,
            "object_position": null,
            "object_fit": null,
            "grid_auto_columns": null,
            "margin": null,
            "display": null,
            "left": null
          }
        },
        "9418fd7af50e4355a0f78185edf54fe4": {
          "model_module": "@jupyter-widgets/controls",
          "model_name": "FloatProgressModel",
          "state": {
            "_view_name": "ProgressView",
            "style": "IPY_MODEL_c78a1fee60ee4d19876a3ea73a8add23",
            "_dom_classes": [],
            "description": "100%",
            "_model_name": "FloatProgressModel",
            "bar_style": "success",
            "max": 3,
            "_view_module": "@jupyter-widgets/controls",
            "_model_module_version": "1.5.0",
            "value": 3,
            "_view_count": null,
            "_view_module_version": "1.5.0",
            "orientation": "horizontal",
            "min": 0,
            "description_tooltip": null,
            "_model_module": "@jupyter-widgets/controls",
            "layout": "IPY_MODEL_ef170b848a0c4d55a7c36c004cba7040"
          }
        },
        "e1e70cd7385a46c189ae78dbfd5c4149": {
          "model_module": "@jupyter-widgets/controls",
          "model_name": "HTMLModel",
          "state": {
            "_view_name": "HTMLView",
            "style": "IPY_MODEL_d46c74e5785d4a918fc6100729547fdc",
            "_dom_classes": [],
            "description": "",
            "_model_name": "HTMLModel",
            "placeholder": "​",
            "_view_module": "@jupyter-widgets/controls",
            "_model_module_version": "1.5.0",
            "value": " 3/3 [54:58&lt;00:00, 1099.55s/it]",
            "_view_count": null,
            "_view_module_version": "1.5.0",
            "description_tooltip": null,
            "_model_module": "@jupyter-widgets/controls",
            "layout": "IPY_MODEL_b4b2a5a75c574b1080b18e813b8ca50d"
          }
        },
        "c78a1fee60ee4d19876a3ea73a8add23": {
          "model_module": "@jupyter-widgets/controls",
          "model_name": "ProgressStyleModel",
          "state": {
            "_view_name": "StyleView",
            "_model_name": "ProgressStyleModel",
            "description_width": "initial",
            "_view_module": "@jupyter-widgets/base",
            "_model_module_version": "1.5.0",
            "_view_count": null,
            "_view_module_version": "1.2.0",
            "bar_color": null,
            "_model_module": "@jupyter-widgets/controls"
          }
        },
        "ef170b848a0c4d55a7c36c004cba7040": {
          "model_module": "@jupyter-widgets/base",
          "model_name": "LayoutModel",
          "state": {
            "_view_name": "LayoutView",
            "grid_template_rows": null,
            "right": null,
            "justify_content": null,
            "_view_module": "@jupyter-widgets/base",
            "overflow": null,
            "_model_module_version": "1.2.0",
            "_view_count": null,
            "flex_flow": null,
            "width": null,
            "min_width": null,
            "border": null,
            "align_items": null,
            "bottom": null,
            "_model_module": "@jupyter-widgets/base",
            "top": null,
            "grid_column": null,
            "overflow_y": null,
            "overflow_x": null,
            "grid_auto_flow": null,
            "grid_area": null,
            "grid_template_columns": null,
            "flex": null,
            "_model_name": "LayoutModel",
            "justify_items": null,
            "grid_row": null,
            "max_height": null,
            "align_content": null,
            "visibility": null,
            "align_self": null,
            "height": null,
            "min_height": null,
            "padding": null,
            "grid_auto_rows": null,
            "grid_gap": null,
            "max_width": null,
            "order": null,
            "_view_module_version": "1.2.0",
            "grid_template_areas": null,
            "object_position": null,
            "object_fit": null,
            "grid_auto_columns": null,
            "margin": null,
            "display": null,
            "left": null
          }
        },
        "d46c74e5785d4a918fc6100729547fdc": {
          "model_module": "@jupyter-widgets/controls",
          "model_name": "DescriptionStyleModel",
          "state": {
            "_view_name": "StyleView",
            "_model_name": "DescriptionStyleModel",
            "description_width": "",
            "_view_module": "@jupyter-widgets/base",
            "_model_module_version": "1.5.0",
            "_view_count": null,
            "_view_module_version": "1.2.0",
            "_model_module": "@jupyter-widgets/controls"
          }
        },
        "b4b2a5a75c574b1080b18e813b8ca50d": {
          "model_module": "@jupyter-widgets/base",
          "model_name": "LayoutModel",
          "state": {
            "_view_name": "LayoutView",
            "grid_template_rows": null,
            "right": null,
            "justify_content": null,
            "_view_module": "@jupyter-widgets/base",
            "overflow": null,
            "_model_module_version": "1.2.0",
            "_view_count": null,
            "flex_flow": null,
            "width": null,
            "min_width": null,
            "border": null,
            "align_items": null,
            "bottom": null,
            "_model_module": "@jupyter-widgets/base",
            "top": null,
            "grid_column": null,
            "overflow_y": null,
            "overflow_x": null,
            "grid_auto_flow": null,
            "grid_area": null,
            "grid_template_columns": null,
            "flex": null,
            "_model_name": "LayoutModel",
            "justify_items": null,
            "grid_row": null,
            "max_height": null,
            "align_content": null,
            "visibility": null,
            "align_self": null,
            "height": null,
            "min_height": null,
            "padding": null,
            "grid_auto_rows": null,
            "grid_gap": null,
            "max_width": null,
            "order": null,
            "_view_module_version": "1.2.0",
            "grid_template_areas": null,
            "object_position": null,
            "object_fit": null,
            "grid_auto_columns": null,
            "margin": null,
            "display": null,
            "left": null
          }
        }
      }
    }
  },
  "cells": [
    {
      "cell_type": "markdown",
      "metadata": {
        "id": "view-in-github",
        "colab_type": "text"
      },
      "source": [
        "<a href=\"https://colab.research.google.com/github/Remydeme/Descarte/blob/master/TFIDF_exploration.ipynb\" target=\"_parent\"><img src=\"https://colab.research.google.com/assets/colab-badge.svg\" alt=\"Open In Colab\"/></a>"
      ]
    },
    {
      "cell_type": "code",
      "metadata": {
        "id": "Ysit-fyY6Z5a",
        "colab_type": "code",
        "colab": {}
      },
      "source": [
        "!pip install seaborn \n",
        "!pip install spacy \n",
        "!pip install pyldavis\n",
        "!pip install bokeh\n",
        "!pip3 install spacy\n",
        "!python3 -m spacy download en_core_web_sm\n",
        "!pip install tqdm\n",
        "!pip install eli5\n",
        "!pip install lime\n",
        "!pip install skater\n",
        "!pip install --upgrade gensim\n",
        "!pip install shap\n",
        "!pip install plotly \n",
        "!pip install chart_studio\n",
        "!pip install lime"
      ],
      "execution_count": null,
      "outputs": []
    },
    {
      "cell_type": "markdown",
      "metadata": {
        "id": "hwul9e3XSU6h",
        "colab_type": "text"
      },
      "source": [
        "# Introduction \n",
        "\n",
        "\n",
        "In this notebook we will study the TF-IDF in depth. We will work on the 20 news groups dataset.\n",
        "\n",
        "Our goals : \n",
        "\n",
        "* prepare the dataset for the training \n",
        "\n",
        "* Study the dataset vocab \n",
        "\n",
        "* See how we configure the TFidfVectorizer \n",
        "\n",
        "* In the training part we will see:\n",
        "\n",
        "    * The influence of the ngram_range parameter on machine learning model performance.\n",
        "    * The improvement of the f1-score when we merge the importance matrices of two tfidf, one configured for word analysis and the other for character analysis.\n",
        "    * The impact of the max_feature parameter.\n",
        "\n",
        "* Validate our assumptions on the **FakeNews** dataset.\n",
        "\n",
        "**If you are already familiar with  the TF-IDF and how to prepare a text dataset I advice you to jump to TFIDF training section**\n",
        "\n",
        "**Note**: This notebook is rich in content. You can directly use the summary to access to the conclusion.\n",
        "---\n",
        "\n",
        "**Results** :  on the **Kaggle FakeNews dataset** our best f1-score is 99.2%. This allows us to rank first for this Kaggle competition \n"
      ]
    },
    {
      "cell_type": "markdown",
      "metadata": {
        "id": "r1vaYp4bUPlU",
        "colab_type": "text"
      },
      "source": [
        "# TF-IDF \n",
        "\n",
        "## How it works\n",
        "\n",
        "### TF-IDF \n",
        "\n",
        "Here TF means **Term Frequency** and IDF means **Inverse Document Frequency**. TF has the same explanation as in **bag of words** (BOW) model.\n",
        "\n",
        "By taking the **inverse of the document** frequency TF-IDF vectorizer has given an importance to the rarity of a word.\n",
        "\n",
        "\n",
        "* **TF** : Number of times the word appears in the text / number of words in the text\n",
        "\n",
        "![Texte alternatif…](https://miro.medium.com/proxy/1*HM0Vcdrx2RApOyjp_ZeW_Q.png)\n",
        "\n",
        "* **IDF** : log(Number of documents in which the word appears / number of documents)  \n",
        "\n",
        "![Texte alternatif…](https://miro.medium.com/proxy/1*A5YGwFpcTd0YTCdgoiHFUw.png)\n",
        "\n",
        "* **TF-IDF = TF * IDF** \n",
        "\n",
        "![Texte alternatif…](https://miro.medium.com/proxy/1*nSqHXwOIJ2fa_EFLTh5KYw.png)\n",
        "\n",
        "* **TF** : counts the number of times each word appears in the text. He therefore measures the importance of the word in the text. The probability of the word in the text.\n",
        "\n",
        "* **IDF** : Measure the importance of each word in the whole corpus of text. It answers the question: Is this word a theme in documents?\n",
        "\n",
        "These two terms combined provide a weighting of the importance of each word with respect to the section it is in.\n",
        "\n",
        "## Goal\n",
        "\n",
        "1. Determine if when we couple two TF-IDF, one for characters and another for words it's improves the accuracy of our model.\n",
        "\n",
        "2. Determine how to properly configure our **TF-IDF**. We will focus on the **ngram_range** and **max_feature**.\n",
        "\n",
        "3. Study the impact of vocabulary size.\n",
        "\n",
        "\n",
        "\n"
      ]
    },
    {
      "cell_type": "markdown",
      "metadata": {
        "id": "GO0QDymd8Pqt",
        "colab_type": "text"
      },
      "source": [
        "# Dataset\n"
      ]
    },
    {
      "cell_type": "code",
      "metadata": {
        "id": "Vt7t2fW-T_Uu",
        "colab_type": "code",
        "colab": {}
      },
      "source": [
        "from sklearn.datasets import fetch_20newsgroups\n",
        "import pandas as pd\n",
        "\n",
        "def twenty_newsgroup_to_csv():\n",
        "    newsgroups_train = fetch_20newsgroups(subset='train', remove=('headers', 'footers', 'quotes'))\n",
        "\n",
        "    df = pd.DataFrame([newsgroups_train.data, newsgroups_train.target.tolist()]).T\n",
        "    df.columns = ['text', 'target']\n",
        "\n",
        "    targets = pd.DataFrame( newsgroups_train.target_names)\n",
        "    targets.columns=['title']\n",
        "\n",
        "    out = pd.merge(df, targets, left_on='target', right_index=True)\n",
        "    out['date'] = pd.to_datetime('now')\n",
        "    return out "
      ],
      "execution_count": null,
      "outputs": []
    },
    {
      "cell_type": "code",
      "metadata": {
        "id": "uaGjeAKMT460",
        "colab_type": "code",
        "colab": {
          "base_uri": "https://localhost:8080/",
          "height": 51
        },
        "outputId": "838d3eca-9f2a-4114-9895-f0dc0c38c0bb"
      },
      "source": [
        "news = twenty_newsgroup_to_csv()"
      ],
      "execution_count": null,
      "outputs": [
        {
          "output_type": "stream",
          "text": [
            "Downloading 20news dataset. This may take a few minutes.\n",
            "Downloading dataset from https://ndownloader.figshare.com/files/5975967 (14 MB)\n"
          ],
          "name": "stderr"
        }
      ]
    },
    {
      "cell_type": "code",
      "metadata": {
        "id": "LUDjWmH5ULAF",
        "colab_type": "code",
        "colab": {}
      },
      "source": [
        "news = news[['text', 'target', 'title']]"
      ],
      "execution_count": null,
      "outputs": []
    },
    {
      "cell_type": "code",
      "metadata": {
        "id": "FpgmBGJmkO7P",
        "colab_type": "code",
        "colab": {
          "base_uri": "https://localhost:8080/",
          "height": 669
        },
        "outputId": "75a684b6-9f12-4e0a-e21b-f5b6a55619e7"
      },
      "source": [
        "distribution = news.title.value_counts()\n",
        "distribution = pd.DataFrame({'Category' : distribution.index, 'Frequency' : distribution.values})\n",
        "distribution"
      ],
      "execution_count": null,
      "outputs": [
        {
          "output_type": "execute_result",
          "data": {
            "text/html": [
              "<div>\n",
              "<style scoped>\n",
              "    .dataframe tbody tr th:only-of-type {\n",
              "        vertical-align: middle;\n",
              "    }\n",
              "\n",
              "    .dataframe tbody tr th {\n",
              "        vertical-align: top;\n",
              "    }\n",
              "\n",
              "    .dataframe thead th {\n",
              "        text-align: right;\n",
              "    }\n",
              "</style>\n",
              "<table border=\"1\" class=\"dataframe\">\n",
              "  <thead>\n",
              "    <tr style=\"text-align: right;\">\n",
              "      <th></th>\n",
              "      <th>Category</th>\n",
              "      <th>Frequency</th>\n",
              "    </tr>\n",
              "  </thead>\n",
              "  <tbody>\n",
              "    <tr>\n",
              "      <th>0</th>\n",
              "      <td>rec.sport.hockey</td>\n",
              "      <td>600</td>\n",
              "    </tr>\n",
              "    <tr>\n",
              "      <th>1</th>\n",
              "      <td>soc.religion.christian</td>\n",
              "      <td>599</td>\n",
              "    </tr>\n",
              "    <tr>\n",
              "      <th>2</th>\n",
              "      <td>rec.motorcycles</td>\n",
              "      <td>598</td>\n",
              "    </tr>\n",
              "    <tr>\n",
              "      <th>3</th>\n",
              "      <td>rec.sport.baseball</td>\n",
              "      <td>597</td>\n",
              "    </tr>\n",
              "    <tr>\n",
              "      <th>4</th>\n",
              "      <td>sci.crypt</td>\n",
              "      <td>595</td>\n",
              "    </tr>\n",
              "    <tr>\n",
              "      <th>5</th>\n",
              "      <td>sci.med</td>\n",
              "      <td>594</td>\n",
              "    </tr>\n",
              "    <tr>\n",
              "      <th>6</th>\n",
              "      <td>rec.autos</td>\n",
              "      <td>594</td>\n",
              "    </tr>\n",
              "    <tr>\n",
              "      <th>7</th>\n",
              "      <td>sci.space</td>\n",
              "      <td>593</td>\n",
              "    </tr>\n",
              "    <tr>\n",
              "      <th>8</th>\n",
              "      <td>comp.windows.x</td>\n",
              "      <td>593</td>\n",
              "    </tr>\n",
              "    <tr>\n",
              "      <th>9</th>\n",
              "      <td>sci.electronics</td>\n",
              "      <td>591</td>\n",
              "    </tr>\n",
              "    <tr>\n",
              "      <th>10</th>\n",
              "      <td>comp.os.ms-windows.misc</td>\n",
              "      <td>591</td>\n",
              "    </tr>\n",
              "    <tr>\n",
              "      <th>11</th>\n",
              "      <td>comp.sys.ibm.pc.hardware</td>\n",
              "      <td>590</td>\n",
              "    </tr>\n",
              "    <tr>\n",
              "      <th>12</th>\n",
              "      <td>misc.forsale</td>\n",
              "      <td>585</td>\n",
              "    </tr>\n",
              "    <tr>\n",
              "      <th>13</th>\n",
              "      <td>comp.graphics</td>\n",
              "      <td>584</td>\n",
              "    </tr>\n",
              "    <tr>\n",
              "      <th>14</th>\n",
              "      <td>comp.sys.mac.hardware</td>\n",
              "      <td>578</td>\n",
              "    </tr>\n",
              "    <tr>\n",
              "      <th>15</th>\n",
              "      <td>talk.politics.mideast</td>\n",
              "      <td>564</td>\n",
              "    </tr>\n",
              "    <tr>\n",
              "      <th>16</th>\n",
              "      <td>talk.politics.guns</td>\n",
              "      <td>546</td>\n",
              "    </tr>\n",
              "    <tr>\n",
              "      <th>17</th>\n",
              "      <td>alt.atheism</td>\n",
              "      <td>480</td>\n",
              "    </tr>\n",
              "    <tr>\n",
              "      <th>18</th>\n",
              "      <td>talk.politics.misc</td>\n",
              "      <td>465</td>\n",
              "    </tr>\n",
              "    <tr>\n",
              "      <th>19</th>\n",
              "      <td>talk.religion.misc</td>\n",
              "      <td>377</td>\n",
              "    </tr>\n",
              "  </tbody>\n",
              "</table>\n",
              "</div>"
            ],
            "text/plain": [
              "                    Category  Frequency\n",
              "0           rec.sport.hockey        600\n",
              "1     soc.religion.christian        599\n",
              "2            rec.motorcycles        598\n",
              "3         rec.sport.baseball        597\n",
              "4                  sci.crypt        595\n",
              "5                    sci.med        594\n",
              "6                  rec.autos        594\n",
              "7                  sci.space        593\n",
              "8             comp.windows.x        593\n",
              "9            sci.electronics        591\n",
              "10   comp.os.ms-windows.misc        591\n",
              "11  comp.sys.ibm.pc.hardware        590\n",
              "12              misc.forsale        585\n",
              "13             comp.graphics        584\n",
              "14     comp.sys.mac.hardware        578\n",
              "15     talk.politics.mideast        564\n",
              "16        talk.politics.guns        546\n",
              "17               alt.atheism        480\n",
              "18        talk.politics.misc        465\n",
              "19        talk.religion.misc        377"
            ]
          },
          "metadata": {
            "tags": []
          },
          "execution_count": 5
        }
      ]
    },
    {
      "cell_type": "markdown",
      "metadata": {
        "id": "mRwRG--19oOn",
        "colab_type": "text"
      },
      "source": [
        "### Text frequency analysis "
      ]
    },
    {
      "cell_type": "code",
      "metadata": {
        "id": "pupNePJZLj4P",
        "colab_type": "code",
        "colab": {
          "base_uri": "https://localhost:8080/",
          "height": 542
        },
        "outputId": "fbffed71-8056-4b41-ae12-a64955731862"
      },
      "source": [
        "import plotly.express as px \n",
        "\n",
        "px.bar(distribution, x=\"Frequency\", y='Category', color='Category', orientation='h', labels={'Category': 'Thème', 'Frequency' : 'Nombre de textes'})"
      ],
      "execution_count": null,
      "outputs": [
        {
          "output_type": "display_data",
          "data": {
            "text/html": [
              "<html>\n",
              "<head><meta charset=\"utf-8\" /></head>\n",
              "<body>\n",
              "    <div>\n",
              "            <script src=\"https://cdnjs.cloudflare.com/ajax/libs/mathjax/2.7.5/MathJax.js?config=TeX-AMS-MML_SVG\"></script><script type=\"text/javascript\">if (window.MathJax) {MathJax.Hub.Config({SVG: {font: \"STIX-Web\"}});}</script>\n",
              "                <script type=\"text/javascript\">window.PlotlyConfig = {MathJaxConfig: 'local'};</script>\n",
              "        <script src=\"https://cdn.plot.ly/plotly-latest.min.js\"></script>    \n",
              "            <div id=\"c8892378-9eb1-4835-9c24-b2c0b30f0c86\" class=\"plotly-graph-div\" style=\"height:525px; width:100%;\"></div>\n",
              "            <script type=\"text/javascript\">\n",
              "                \n",
              "                    window.PLOTLYENV=window.PLOTLYENV || {};\n",
              "                    \n",
              "                if (document.getElementById(\"c8892378-9eb1-4835-9c24-b2c0b30f0c86\")) {\n",
              "                    Plotly.newPlot(\n",
              "                        'c8892378-9eb1-4835-9c24-b2c0b30f0c86',\n",
              "                        [{\"alignmentgroup\": \"True\", \"hoverlabel\": {\"namelength\": 0}, \"hovertemplate\": \"Th\\u00e8me=%{y}<br>Nombre de textes=%{x}\", \"legendgroup\": \"Th\\u00e8me=rec.sport.hockey\", \"marker\": {\"color\": \"#636efa\"}, \"name\": \"Th\\u00e8me=rec.sport.hockey\", \"offsetgroup\": \"Th\\u00e8me=rec.sport.hockey\", \"orientation\": \"h\", \"showlegend\": true, \"textposition\": \"auto\", \"type\": \"bar\", \"x\": [600], \"xaxis\": \"x\", \"y\": [\"rec.sport.hockey\"], \"yaxis\": \"y\"}, {\"alignmentgroup\": \"True\", \"hoverlabel\": {\"namelength\": 0}, \"hovertemplate\": \"Th\\u00e8me=%{y}<br>Nombre de textes=%{x}\", \"legendgroup\": \"Th\\u00e8me=soc.religion.christian\", \"marker\": {\"color\": \"#EF553B\"}, \"name\": \"Th\\u00e8me=soc.religion.christian\", \"offsetgroup\": \"Th\\u00e8me=soc.religion.christian\", \"orientation\": \"h\", \"showlegend\": true, \"textposition\": \"auto\", \"type\": \"bar\", \"x\": [599], \"xaxis\": \"x\", \"y\": [\"soc.religion.christian\"], \"yaxis\": \"y\"}, {\"alignmentgroup\": \"True\", \"hoverlabel\": {\"namelength\": 0}, \"hovertemplate\": \"Th\\u00e8me=%{y}<br>Nombre de textes=%{x}\", \"legendgroup\": \"Th\\u00e8me=rec.motorcycles\", \"marker\": {\"color\": \"#00cc96\"}, \"name\": \"Th\\u00e8me=rec.motorcycles\", \"offsetgroup\": \"Th\\u00e8me=rec.motorcycles\", \"orientation\": \"h\", \"showlegend\": true, \"textposition\": \"auto\", \"type\": \"bar\", \"x\": [598], \"xaxis\": \"x\", \"y\": [\"rec.motorcycles\"], \"yaxis\": \"y\"}, {\"alignmentgroup\": \"True\", \"hoverlabel\": {\"namelength\": 0}, \"hovertemplate\": \"Th\\u00e8me=%{y}<br>Nombre de textes=%{x}\", \"legendgroup\": \"Th\\u00e8me=rec.sport.baseball\", \"marker\": {\"color\": \"#ab63fa\"}, \"name\": \"Th\\u00e8me=rec.sport.baseball\", \"offsetgroup\": \"Th\\u00e8me=rec.sport.baseball\", \"orientation\": \"h\", \"showlegend\": true, \"textposition\": \"auto\", \"type\": \"bar\", \"x\": [597], \"xaxis\": \"x\", \"y\": [\"rec.sport.baseball\"], \"yaxis\": \"y\"}, {\"alignmentgroup\": \"True\", \"hoverlabel\": {\"namelength\": 0}, \"hovertemplate\": \"Th\\u00e8me=%{y}<br>Nombre de textes=%{x}\", \"legendgroup\": \"Th\\u00e8me=sci.crypt\", \"marker\": {\"color\": \"#FFA15A\"}, \"name\": \"Th\\u00e8me=sci.crypt\", \"offsetgroup\": \"Th\\u00e8me=sci.crypt\", \"orientation\": \"h\", \"showlegend\": true, \"textposition\": \"auto\", \"type\": \"bar\", \"x\": [595], \"xaxis\": \"x\", \"y\": [\"sci.crypt\"], \"yaxis\": \"y\"}, {\"alignmentgroup\": \"True\", \"hoverlabel\": {\"namelength\": 0}, \"hovertemplate\": \"Th\\u00e8me=%{y}<br>Nombre de textes=%{x}\", \"legendgroup\": \"Th\\u00e8me=sci.med\", \"marker\": {\"color\": \"#19d3f3\"}, \"name\": \"Th\\u00e8me=sci.med\", \"offsetgroup\": \"Th\\u00e8me=sci.med\", \"orientation\": \"h\", \"showlegend\": true, \"textposition\": \"auto\", \"type\": \"bar\", \"x\": [594], \"xaxis\": \"x\", \"y\": [\"sci.med\"], \"yaxis\": \"y\"}, {\"alignmentgroup\": \"True\", \"hoverlabel\": {\"namelength\": 0}, \"hovertemplate\": \"Th\\u00e8me=%{y}<br>Nombre de textes=%{x}\", \"legendgroup\": \"Th\\u00e8me=rec.autos\", \"marker\": {\"color\": \"#FF6692\"}, \"name\": \"Th\\u00e8me=rec.autos\", \"offsetgroup\": \"Th\\u00e8me=rec.autos\", \"orientation\": \"h\", \"showlegend\": true, \"textposition\": \"auto\", \"type\": \"bar\", \"x\": [594], \"xaxis\": \"x\", \"y\": [\"rec.autos\"], \"yaxis\": \"y\"}, {\"alignmentgroup\": \"True\", \"hoverlabel\": {\"namelength\": 0}, \"hovertemplate\": \"Th\\u00e8me=%{y}<br>Nombre de textes=%{x}\", \"legendgroup\": \"Th\\u00e8me=sci.space\", \"marker\": {\"color\": \"#B6E880\"}, \"name\": \"Th\\u00e8me=sci.space\", \"offsetgroup\": \"Th\\u00e8me=sci.space\", \"orientation\": \"h\", \"showlegend\": true, \"textposition\": \"auto\", \"type\": \"bar\", \"x\": [593], \"xaxis\": \"x\", \"y\": [\"sci.space\"], \"yaxis\": \"y\"}, {\"alignmentgroup\": \"True\", \"hoverlabel\": {\"namelength\": 0}, \"hovertemplate\": \"Th\\u00e8me=%{y}<br>Nombre de textes=%{x}\", \"legendgroup\": \"Th\\u00e8me=comp.windows.x\", \"marker\": {\"color\": \"#FF97FF\"}, \"name\": \"Th\\u00e8me=comp.windows.x\", \"offsetgroup\": \"Th\\u00e8me=comp.windows.x\", \"orientation\": \"h\", \"showlegend\": true, \"textposition\": \"auto\", \"type\": \"bar\", \"x\": [593], \"xaxis\": \"x\", \"y\": [\"comp.windows.x\"], \"yaxis\": \"y\"}, {\"alignmentgroup\": \"True\", \"hoverlabel\": {\"namelength\": 0}, \"hovertemplate\": \"Th\\u00e8me=%{y}<br>Nombre de textes=%{x}\", \"legendgroup\": \"Th\\u00e8me=sci.electronics\", \"marker\": {\"color\": \"#FECB52\"}, \"name\": \"Th\\u00e8me=sci.electronics\", \"offsetgroup\": \"Th\\u00e8me=sci.electronics\", \"orientation\": \"h\", \"showlegend\": true, \"textposition\": \"auto\", \"type\": \"bar\", \"x\": [591], \"xaxis\": \"x\", \"y\": [\"sci.electronics\"], \"yaxis\": \"y\"}, {\"alignmentgroup\": \"True\", \"hoverlabel\": {\"namelength\": 0}, \"hovertemplate\": \"Th\\u00e8me=%{y}<br>Nombre de textes=%{x}\", \"legendgroup\": \"Th\\u00e8me=comp.os.ms-windows.misc\", \"marker\": {\"color\": \"#636efa\"}, \"name\": \"Th\\u00e8me=comp.os.ms-windows.misc\", \"offsetgroup\": \"Th\\u00e8me=comp.os.ms-windows.misc\", \"orientation\": \"h\", \"showlegend\": true, \"textposition\": \"auto\", \"type\": \"bar\", \"x\": [591], \"xaxis\": \"x\", \"y\": [\"comp.os.ms-windows.misc\"], \"yaxis\": \"y\"}, {\"alignmentgroup\": \"True\", \"hoverlabel\": {\"namelength\": 0}, \"hovertemplate\": \"Th\\u00e8me=%{y}<br>Nombre de textes=%{x}\", \"legendgroup\": \"Th\\u00e8me=comp.sys.ibm.pc.hardware\", \"marker\": {\"color\": \"#EF553B\"}, \"name\": \"Th\\u00e8me=comp.sys.ibm.pc.hardware\", \"offsetgroup\": \"Th\\u00e8me=comp.sys.ibm.pc.hardware\", \"orientation\": \"h\", \"showlegend\": true, \"textposition\": \"auto\", \"type\": \"bar\", \"x\": [590], \"xaxis\": \"x\", \"y\": [\"comp.sys.ibm.pc.hardware\"], \"yaxis\": \"y\"}, {\"alignmentgroup\": \"True\", \"hoverlabel\": {\"namelength\": 0}, \"hovertemplate\": \"Th\\u00e8me=%{y}<br>Nombre de textes=%{x}\", \"legendgroup\": \"Th\\u00e8me=misc.forsale\", \"marker\": {\"color\": \"#00cc96\"}, \"name\": \"Th\\u00e8me=misc.forsale\", \"offsetgroup\": \"Th\\u00e8me=misc.forsale\", \"orientation\": \"h\", \"showlegend\": true, \"textposition\": \"auto\", \"type\": \"bar\", \"x\": [585], \"xaxis\": \"x\", \"y\": [\"misc.forsale\"], \"yaxis\": \"y\"}, {\"alignmentgroup\": \"True\", \"hoverlabel\": {\"namelength\": 0}, \"hovertemplate\": \"Th\\u00e8me=%{y}<br>Nombre de textes=%{x}\", \"legendgroup\": \"Th\\u00e8me=comp.graphics\", \"marker\": {\"color\": \"#ab63fa\"}, \"name\": \"Th\\u00e8me=comp.graphics\", \"offsetgroup\": \"Th\\u00e8me=comp.graphics\", \"orientation\": \"h\", \"showlegend\": true, \"textposition\": \"auto\", \"type\": \"bar\", \"x\": [584], \"xaxis\": \"x\", \"y\": [\"comp.graphics\"], \"yaxis\": \"y\"}, {\"alignmentgroup\": \"True\", \"hoverlabel\": {\"namelength\": 0}, \"hovertemplate\": \"Th\\u00e8me=%{y}<br>Nombre de textes=%{x}\", \"legendgroup\": \"Th\\u00e8me=comp.sys.mac.hardware\", \"marker\": {\"color\": \"#FFA15A\"}, \"name\": \"Th\\u00e8me=comp.sys.mac.hardware\", \"offsetgroup\": \"Th\\u00e8me=comp.sys.mac.hardware\", \"orientation\": \"h\", \"showlegend\": true, \"textposition\": \"auto\", \"type\": \"bar\", \"x\": [578], \"xaxis\": \"x\", \"y\": [\"comp.sys.mac.hardware\"], \"yaxis\": \"y\"}, {\"alignmentgroup\": \"True\", \"hoverlabel\": {\"namelength\": 0}, \"hovertemplate\": \"Th\\u00e8me=%{y}<br>Nombre de textes=%{x}\", \"legendgroup\": \"Th\\u00e8me=talk.politics.mideast\", \"marker\": {\"color\": \"#19d3f3\"}, \"name\": \"Th\\u00e8me=talk.politics.mideast\", \"offsetgroup\": \"Th\\u00e8me=talk.politics.mideast\", \"orientation\": \"h\", \"showlegend\": true, \"textposition\": \"auto\", \"type\": \"bar\", \"x\": [564], \"xaxis\": \"x\", \"y\": [\"talk.politics.mideast\"], \"yaxis\": \"y\"}, {\"alignmentgroup\": \"True\", \"hoverlabel\": {\"namelength\": 0}, \"hovertemplate\": \"Th\\u00e8me=%{y}<br>Nombre de textes=%{x}\", \"legendgroup\": \"Th\\u00e8me=talk.politics.guns\", \"marker\": {\"color\": \"#FF6692\"}, \"name\": \"Th\\u00e8me=talk.politics.guns\", \"offsetgroup\": \"Th\\u00e8me=talk.politics.guns\", \"orientation\": \"h\", \"showlegend\": true, \"textposition\": \"auto\", \"type\": \"bar\", \"x\": [546], \"xaxis\": \"x\", \"y\": [\"talk.politics.guns\"], \"yaxis\": \"y\"}, {\"alignmentgroup\": \"True\", \"hoverlabel\": {\"namelength\": 0}, \"hovertemplate\": \"Th\\u00e8me=%{y}<br>Nombre de textes=%{x}\", \"legendgroup\": \"Th\\u00e8me=alt.atheism\", \"marker\": {\"color\": \"#B6E880\"}, \"name\": \"Th\\u00e8me=alt.atheism\", \"offsetgroup\": \"Th\\u00e8me=alt.atheism\", \"orientation\": \"h\", \"showlegend\": true, \"textposition\": \"auto\", \"type\": \"bar\", \"x\": [480], \"xaxis\": \"x\", \"y\": [\"alt.atheism\"], \"yaxis\": \"y\"}, {\"alignmentgroup\": \"True\", \"hoverlabel\": {\"namelength\": 0}, \"hovertemplate\": \"Th\\u00e8me=%{y}<br>Nombre de textes=%{x}\", \"legendgroup\": \"Th\\u00e8me=talk.politics.misc\", \"marker\": {\"color\": \"#FF97FF\"}, \"name\": \"Th\\u00e8me=talk.politics.misc\", \"offsetgroup\": \"Th\\u00e8me=talk.politics.misc\", \"orientation\": \"h\", \"showlegend\": true, \"textposition\": \"auto\", \"type\": \"bar\", \"x\": [465], \"xaxis\": \"x\", \"y\": [\"talk.politics.misc\"], \"yaxis\": \"y\"}, {\"alignmentgroup\": \"True\", \"hoverlabel\": {\"namelength\": 0}, \"hovertemplate\": \"Th\\u00e8me=%{y}<br>Nombre de textes=%{x}\", \"legendgroup\": \"Th\\u00e8me=talk.religion.misc\", \"marker\": {\"color\": \"#FECB52\"}, \"name\": \"Th\\u00e8me=talk.religion.misc\", \"offsetgroup\": \"Th\\u00e8me=talk.religion.misc\", \"orientation\": \"h\", \"showlegend\": true, \"textposition\": \"auto\", \"type\": \"bar\", \"x\": [377], \"xaxis\": \"x\", \"y\": [\"talk.religion.misc\"], \"yaxis\": \"y\"}],\n",
              "                        {\"barmode\": \"relative\", \"legend\": {\"tracegroupgap\": 0}, \"margin\": {\"t\": 60}, \"template\": {\"data\": {\"bar\": [{\"error_x\": {\"color\": \"#2a3f5f\"}, \"error_y\": {\"color\": \"#2a3f5f\"}, \"marker\": {\"line\": {\"color\": \"#E5ECF6\", \"width\": 0.5}}, \"type\": \"bar\"}], \"barpolar\": [{\"marker\": {\"line\": {\"color\": \"#E5ECF6\", \"width\": 0.5}}, \"type\": \"barpolar\"}], \"carpet\": [{\"aaxis\": {\"endlinecolor\": \"#2a3f5f\", \"gridcolor\": \"white\", \"linecolor\": \"white\", \"minorgridcolor\": \"white\", \"startlinecolor\": \"#2a3f5f\"}, \"baxis\": {\"endlinecolor\": \"#2a3f5f\", \"gridcolor\": \"white\", \"linecolor\": \"white\", \"minorgridcolor\": \"white\", \"startlinecolor\": \"#2a3f5f\"}, \"type\": \"carpet\"}], \"choropleth\": [{\"colorbar\": {\"outlinewidth\": 0, \"ticks\": \"\"}, \"type\": \"choropleth\"}], \"contour\": [{\"colorbar\": {\"outlinewidth\": 0, \"ticks\": \"\"}, \"colorscale\": [[0.0, \"#0d0887\"], [0.1111111111111111, \"#46039f\"], [0.2222222222222222, \"#7201a8\"], [0.3333333333333333, \"#9c179e\"], [0.4444444444444444, \"#bd3786\"], [0.5555555555555556, \"#d8576b\"], [0.6666666666666666, \"#ed7953\"], [0.7777777777777778, \"#fb9f3a\"], [0.8888888888888888, \"#fdca26\"], [1.0, \"#f0f921\"]], \"type\": \"contour\"}], \"contourcarpet\": [{\"colorbar\": {\"outlinewidth\": 0, \"ticks\": \"\"}, \"type\": \"contourcarpet\"}], \"heatmap\": [{\"colorbar\": {\"outlinewidth\": 0, \"ticks\": \"\"}, \"colorscale\": [[0.0, \"#0d0887\"], [0.1111111111111111, \"#46039f\"], [0.2222222222222222, \"#7201a8\"], [0.3333333333333333, \"#9c179e\"], [0.4444444444444444, \"#bd3786\"], [0.5555555555555556, \"#d8576b\"], [0.6666666666666666, \"#ed7953\"], [0.7777777777777778, \"#fb9f3a\"], [0.8888888888888888, \"#fdca26\"], [1.0, \"#f0f921\"]], \"type\": \"heatmap\"}], \"heatmapgl\": [{\"colorbar\": {\"outlinewidth\": 0, \"ticks\": \"\"}, \"colorscale\": [[0.0, \"#0d0887\"], [0.1111111111111111, \"#46039f\"], [0.2222222222222222, \"#7201a8\"], [0.3333333333333333, \"#9c179e\"], [0.4444444444444444, \"#bd3786\"], [0.5555555555555556, \"#d8576b\"], [0.6666666666666666, \"#ed7953\"], [0.7777777777777778, \"#fb9f3a\"], [0.8888888888888888, \"#fdca26\"], [1.0, \"#f0f921\"]], \"type\": \"heatmapgl\"}], \"histogram\": [{\"marker\": {\"colorbar\": {\"outlinewidth\": 0, \"ticks\": \"\"}}, \"type\": \"histogram\"}], \"histogram2d\": [{\"colorbar\": {\"outlinewidth\": 0, \"ticks\": \"\"}, \"colorscale\": [[0.0, \"#0d0887\"], [0.1111111111111111, \"#46039f\"], [0.2222222222222222, \"#7201a8\"], [0.3333333333333333, \"#9c179e\"], [0.4444444444444444, \"#bd3786\"], [0.5555555555555556, \"#d8576b\"], [0.6666666666666666, \"#ed7953\"], [0.7777777777777778, \"#fb9f3a\"], [0.8888888888888888, \"#fdca26\"], [1.0, \"#f0f921\"]], \"type\": \"histogram2d\"}], \"histogram2dcontour\": [{\"colorbar\": {\"outlinewidth\": 0, \"ticks\": \"\"}, \"colorscale\": [[0.0, \"#0d0887\"], [0.1111111111111111, \"#46039f\"], [0.2222222222222222, \"#7201a8\"], [0.3333333333333333, \"#9c179e\"], [0.4444444444444444, \"#bd3786\"], [0.5555555555555556, \"#d8576b\"], [0.6666666666666666, \"#ed7953\"], [0.7777777777777778, \"#fb9f3a\"], [0.8888888888888888, \"#fdca26\"], [1.0, \"#f0f921\"]], \"type\": \"histogram2dcontour\"}], \"mesh3d\": [{\"colorbar\": {\"outlinewidth\": 0, \"ticks\": \"\"}, \"type\": \"mesh3d\"}], \"parcoords\": [{\"line\": {\"colorbar\": {\"outlinewidth\": 0, \"ticks\": \"\"}}, \"type\": \"parcoords\"}], \"pie\": [{\"automargin\": true, \"type\": \"pie\"}], \"scatter\": [{\"marker\": {\"colorbar\": {\"outlinewidth\": 0, \"ticks\": \"\"}}, \"type\": \"scatter\"}], \"scatter3d\": [{\"line\": {\"colorbar\": {\"outlinewidth\": 0, \"ticks\": \"\"}}, \"marker\": {\"colorbar\": {\"outlinewidth\": 0, \"ticks\": \"\"}}, \"type\": \"scatter3d\"}], \"scattercarpet\": [{\"marker\": {\"colorbar\": {\"outlinewidth\": 0, \"ticks\": \"\"}}, \"type\": \"scattercarpet\"}], \"scattergeo\": [{\"marker\": {\"colorbar\": {\"outlinewidth\": 0, \"ticks\": \"\"}}, \"type\": \"scattergeo\"}], \"scattergl\": [{\"marker\": {\"colorbar\": {\"outlinewidth\": 0, \"ticks\": \"\"}}, \"type\": \"scattergl\"}], \"scattermapbox\": [{\"marker\": {\"colorbar\": {\"outlinewidth\": 0, \"ticks\": \"\"}}, \"type\": \"scattermapbox\"}], \"scatterpolar\": [{\"marker\": {\"colorbar\": {\"outlinewidth\": 0, \"ticks\": \"\"}}, \"type\": \"scatterpolar\"}], \"scatterpolargl\": [{\"marker\": {\"colorbar\": {\"outlinewidth\": 0, \"ticks\": \"\"}}, \"type\": \"scatterpolargl\"}], \"scatterternary\": [{\"marker\": {\"colorbar\": {\"outlinewidth\": 0, \"ticks\": \"\"}}, \"type\": \"scatterternary\"}], \"surface\": [{\"colorbar\": {\"outlinewidth\": 0, \"ticks\": \"\"}, \"colorscale\": [[0.0, \"#0d0887\"], [0.1111111111111111, \"#46039f\"], [0.2222222222222222, \"#7201a8\"], [0.3333333333333333, \"#9c179e\"], [0.4444444444444444, \"#bd3786\"], [0.5555555555555556, \"#d8576b\"], [0.6666666666666666, \"#ed7953\"], [0.7777777777777778, \"#fb9f3a\"], [0.8888888888888888, \"#fdca26\"], [1.0, \"#f0f921\"]], \"type\": \"surface\"}], \"table\": [{\"cells\": {\"fill\": {\"color\": \"#EBF0F8\"}, \"line\": {\"color\": \"white\"}}, \"header\": {\"fill\": {\"color\": \"#C8D4E3\"}, \"line\": {\"color\": \"white\"}}, \"type\": \"table\"}]}, \"layout\": {\"annotationdefaults\": {\"arrowcolor\": \"#2a3f5f\", \"arrowhead\": 0, \"arrowwidth\": 1}, \"coloraxis\": {\"colorbar\": {\"outlinewidth\": 0, \"ticks\": \"\"}}, \"colorscale\": {\"diverging\": [[0, \"#8e0152\"], [0.1, \"#c51b7d\"], [0.2, \"#de77ae\"], [0.3, \"#f1b6da\"], [0.4, \"#fde0ef\"], [0.5, \"#f7f7f7\"], [0.6, \"#e6f5d0\"], [0.7, \"#b8e186\"], [0.8, \"#7fbc41\"], [0.9, \"#4d9221\"], [1, \"#276419\"]], \"sequential\": [[0.0, \"#0d0887\"], [0.1111111111111111, \"#46039f\"], [0.2222222222222222, \"#7201a8\"], [0.3333333333333333, \"#9c179e\"], [0.4444444444444444, \"#bd3786\"], [0.5555555555555556, \"#d8576b\"], [0.6666666666666666, \"#ed7953\"], [0.7777777777777778, \"#fb9f3a\"], [0.8888888888888888, \"#fdca26\"], [1.0, \"#f0f921\"]], \"sequentialminus\": [[0.0, \"#0d0887\"], [0.1111111111111111, \"#46039f\"], [0.2222222222222222, \"#7201a8\"], [0.3333333333333333, \"#9c179e\"], [0.4444444444444444, \"#bd3786\"], [0.5555555555555556, \"#d8576b\"], [0.6666666666666666, \"#ed7953\"], [0.7777777777777778, \"#fb9f3a\"], [0.8888888888888888, \"#fdca26\"], [1.0, \"#f0f921\"]]}, \"colorway\": [\"#636efa\", \"#EF553B\", \"#00cc96\", \"#ab63fa\", \"#FFA15A\", \"#19d3f3\", \"#FF6692\", \"#B6E880\", \"#FF97FF\", \"#FECB52\"], \"font\": {\"color\": \"#2a3f5f\"}, \"geo\": {\"bgcolor\": \"white\", \"lakecolor\": \"white\", \"landcolor\": \"#E5ECF6\", \"showlakes\": true, \"showland\": true, \"subunitcolor\": \"white\"}, \"hoverlabel\": {\"align\": \"left\"}, \"hovermode\": \"closest\", \"mapbox\": {\"style\": \"light\"}, \"paper_bgcolor\": \"white\", \"plot_bgcolor\": \"#E5ECF6\", \"polar\": {\"angularaxis\": {\"gridcolor\": \"white\", \"linecolor\": \"white\", \"ticks\": \"\"}, \"bgcolor\": \"#E5ECF6\", \"radialaxis\": {\"gridcolor\": \"white\", \"linecolor\": \"white\", \"ticks\": \"\"}}, \"scene\": {\"xaxis\": {\"backgroundcolor\": \"#E5ECF6\", \"gridcolor\": \"white\", \"gridwidth\": 2, \"linecolor\": \"white\", \"showbackground\": true, \"ticks\": \"\", \"zerolinecolor\": \"white\"}, \"yaxis\": {\"backgroundcolor\": \"#E5ECF6\", \"gridcolor\": \"white\", \"gridwidth\": 2, \"linecolor\": \"white\", \"showbackground\": true, \"ticks\": \"\", \"zerolinecolor\": \"white\"}, \"zaxis\": {\"backgroundcolor\": \"#E5ECF6\", \"gridcolor\": \"white\", \"gridwidth\": 2, \"linecolor\": \"white\", \"showbackground\": true, \"ticks\": \"\", \"zerolinecolor\": \"white\"}}, \"shapedefaults\": {\"line\": {\"color\": \"#2a3f5f\"}}, \"ternary\": {\"aaxis\": {\"gridcolor\": \"white\", \"linecolor\": \"white\", \"ticks\": \"\"}, \"baxis\": {\"gridcolor\": \"white\", \"linecolor\": \"white\", \"ticks\": \"\"}, \"bgcolor\": \"#E5ECF6\", \"caxis\": {\"gridcolor\": \"white\", \"linecolor\": \"white\", \"ticks\": \"\"}}, \"title\": {\"x\": 0.05}, \"xaxis\": {\"automargin\": true, \"gridcolor\": \"white\", \"linecolor\": \"white\", \"ticks\": \"\", \"title\": {\"standoff\": 15}, \"zerolinecolor\": \"white\", \"zerolinewidth\": 2}, \"yaxis\": {\"automargin\": true, \"gridcolor\": \"white\", \"linecolor\": \"white\", \"ticks\": \"\", \"title\": {\"standoff\": 15}, \"zerolinecolor\": \"white\", \"zerolinewidth\": 2}}}, \"xaxis\": {\"anchor\": \"y\", \"domain\": [0.0, 1.0], \"title\": {\"text\": \"Nombre de textes\"}}, \"yaxis\": {\"anchor\": \"x\", \"categoryarray\": [\"talk.religion.misc\", \"talk.politics.misc\", \"alt.atheism\", \"talk.politics.guns\", \"talk.politics.mideast\", \"comp.sys.mac.hardware\", \"comp.graphics\", \"misc.forsale\", \"comp.sys.ibm.pc.hardware\", \"comp.os.ms-windows.misc\", \"sci.electronics\", \"comp.windows.x\", \"sci.space\", \"rec.autos\", \"sci.med\", \"sci.crypt\", \"rec.sport.baseball\", \"rec.motorcycles\", \"soc.religion.christian\", \"rec.sport.hockey\"], \"categoryorder\": \"array\", \"domain\": [0.0, 1.0], \"title\": {\"text\": \"Th\\u00e8me\"}}},\n",
              "                        {\"responsive\": true}\n",
              "                    ).then(function(){\n",
              "                            \n",
              "var gd = document.getElementById('c8892378-9eb1-4835-9c24-b2c0b30f0c86');\n",
              "var x = new MutationObserver(function (mutations, observer) {{\n",
              "        var display = window.getComputedStyle(gd).display;\n",
              "        if (!display || display === 'none') {{\n",
              "            console.log([gd, 'removed!']);\n",
              "            Plotly.purge(gd);\n",
              "            observer.disconnect();\n",
              "        }}\n",
              "}});\n",
              "\n",
              "// Listen for the removal of the full notebook cells\n",
              "var notebookContainer = gd.closest('#notebook-container');\n",
              "if (notebookContainer) {{\n",
              "    x.observe(notebookContainer, {childList: true});\n",
              "}}\n",
              "\n",
              "// Listen for the clearing of the current output cell\n",
              "var outputEl = gd.closest('.output');\n",
              "if (outputEl) {{\n",
              "    x.observe(outputEl, {childList: true});\n",
              "}}\n",
              "\n",
              "                        })\n",
              "                };\n",
              "                \n",
              "            </script>\n",
              "        </div>\n",
              "</body>\n",
              "</html>"
            ]
          },
          "metadata": {
            "tags": []
          }
        }
      ]
    },
    {
      "cell_type": "code",
      "metadata": {
        "id": "h0sVGjQjOLKC",
        "colab_type": "code",
        "colab": {
          "base_uri": "https://localhost:8080/",
          "height": 297
        },
        "outputId": "9d66ce0c-053d-458c-a0bf-f52a60fdf48c"
      },
      "source": [
        "distribution.describe()"
      ],
      "execution_count": null,
      "outputs": [
        {
          "output_type": "execute_result",
          "data": {
            "text/html": [
              "<div>\n",
              "<style scoped>\n",
              "    .dataframe tbody tr th:only-of-type {\n",
              "        vertical-align: middle;\n",
              "    }\n",
              "\n",
              "    .dataframe tbody tr th {\n",
              "        vertical-align: top;\n",
              "    }\n",
              "\n",
              "    .dataframe thead th {\n",
              "        text-align: right;\n",
              "    }\n",
              "</style>\n",
              "<table border=\"1\" class=\"dataframe\">\n",
              "  <thead>\n",
              "    <tr style=\"text-align: right;\">\n",
              "      <th></th>\n",
              "      <th>Frequency</th>\n",
              "    </tr>\n",
              "  </thead>\n",
              "  <tbody>\n",
              "    <tr>\n",
              "      <th>count</th>\n",
              "      <td>20.000000</td>\n",
              "    </tr>\n",
              "    <tr>\n",
              "      <th>mean</th>\n",
              "      <td>565.700000</td>\n",
              "    </tr>\n",
              "    <tr>\n",
              "      <th>std</th>\n",
              "      <td>58.251813</td>\n",
              "    </tr>\n",
              "    <tr>\n",
              "      <th>min</th>\n",
              "      <td>377.000000</td>\n",
              "    </tr>\n",
              "    <tr>\n",
              "      <th>25%</th>\n",
              "      <td>574.500000</td>\n",
              "    </tr>\n",
              "    <tr>\n",
              "      <th>50%</th>\n",
              "      <td>591.000000</td>\n",
              "    </tr>\n",
              "    <tr>\n",
              "      <th>75%</th>\n",
              "      <td>594.250000</td>\n",
              "    </tr>\n",
              "    <tr>\n",
              "      <th>max</th>\n",
              "      <td>600.000000</td>\n",
              "    </tr>\n",
              "  </tbody>\n",
              "</table>\n",
              "</div>"
            ],
            "text/plain": [
              "        Frequency\n",
              "count   20.000000\n",
              "mean   565.700000\n",
              "std     58.251813\n",
              "min    377.000000\n",
              "25%    574.500000\n",
              "50%    591.000000\n",
              "75%    594.250000\n",
              "max    600.000000"
            ]
          },
          "metadata": {
            "tags": []
          },
          "execution_count": 7
        }
      ]
    },
    {
      "cell_type": "markdown",
      "metadata": {
        "id": "0PqSn6v5K9za",
        "colab_type": "text"
      },
      "source": [
        "Our dataset contains 20 different classes. It is well distributed. We have an average of 565 texts and a standard deviation of 58 texts. The least well represented classes are respectively in order: religion, politics and atheism."
      ]
    },
    {
      "cell_type": "markdown",
      "metadata": {
        "id": "BOGX9bChpPs0",
        "colab_type": "text"
      },
      "source": [
        "## Cleaning \n",
        "\n",
        "\n",
        "Before we train our model on the texts we have to clean these texts and put them in a format (token & vector) understandable by our model.\n",
        "\n",
        "Here are some small standard cleaning functions. We use spacy tokenizer and lexer."
      ]
    },
    {
      "cell_type": "code",
      "metadata": {
        "id": "ElWHQ6uHq2KI",
        "colab_type": "code",
        "colab": {
          "base_uri": "https://localhost:8080/",
          "height": 34
        },
        "outputId": "1214476f-656b-450b-9972-57ba761b335b"
      },
      "source": [
        "import spacy\n",
        "import en_core_web_sm\n",
        "\n",
        "print(f'Spacy version {spacy.__version__}')\n",
        "nlp = en_core_web_sm.load()\n",
        "stop_words = spacy.lang.en.STOP_WORDS\n",
        "punctuations = spacy.lang.punctuation.LIST_PUNCT"
      ],
      "execution_count": null,
      "outputs": [
        {
          "output_type": "stream",
          "text": [
            "Spacy version 2.2.4\n"
          ],
          "name": "stdout"
        }
      ]
    },
    {
      "cell_type": "markdown",
      "metadata": {
        "id": "QMP256-Io-CQ",
        "colab_type": "text"
      },
      "source": [
        "Prepare text:\n",
        "\n",
        "1. Lowercase all characters\n",
        "\n",
        "2. Apply lemming. replaces the adjective, verb with the root forms (sometimes called synonyms in search context) of inflected (derived) words.\n",
        "\n",
        "3. Remove the frequent words \"STOP WORDS\" from the English vocabulary.\n",
        "\n",
        "4. We also remove unnecessary characters (Work done by hand).\n",
        "\n",
        "See : [About lemming](https://www.datacamp.com/community/tutorials/stemming-lemmatization-python?utm_source=adwords_ppc&utm_campaignid=9942305733&utm_adgroupid=100189364546&utm_device=c&utm_keyword=&utm_matchtype=b&utm_network=g&utm_adpostion=&utm_creative=332602034352&utm_targetid=aud-763347114660:dsa-929501846124&utm_loc_interest_ms=&utm_loc_physical_ms=9056441&gclid=CjwKCAjwltH3BRB6EiwAhj0IUGeOuxWdfLC-fyH9hxPsjdJJms60PPpkPv-WZCJKR5TwL9QtVkrPAhoCuLYQAvD_BwE)"
      ]
    },
    {
      "cell_type": "code",
      "metadata": {
        "id": "I48aBV5mnk3q",
        "colab_type": "code",
        "colab": {}
      },
      "source": [
        "def prepareText(text, punctuation=True, lemming=True, stop_word=True):\n",
        "    \"\"\"\n",
        "    Prepare the text by removing punctuation, stop words and doing lemming \n",
        "    :param text: \n",
        "    :return: text \n",
        "    \"\"\"     \n",
        "    clean_text = nlp(text)\n",
        "    \n",
        "    #lowering word\n",
        "    #lemming \n",
        "    # if words is pronoun don't apply lemming because spacy convert the words \n",
        "    # in \"_PRON-\" \n",
        "    if lemming == True:\n",
        "        clean_text = [word.lemma_.lower().strip() if word.lemma_ != \"-PRON-\" else word.lower_ for word in clean_text]\n",
        "    \n",
        "    #remove stop words\n",
        "    if stop_word == True:\n",
        "        clean_text = [ word for word in clean_text if (word not in stop_words) ]\n",
        "    # remove punctuation \n",
        "    if punctuation == True:\n",
        "        clean_text = [word for word in clean_text if word.isalpha() ]\n",
        "    \n",
        "    #remove single char [b-Z] we only keep 'a'\n",
        "    clean_text = [ word for word in clean_text if (len(word) != 1 and word != 'a') ]\n",
        "\n",
        "    #clean_text = [ word for word in clean_text if (word not in noisy_words)]\n",
        "\n",
        "\n",
        "    return clean_text"
      ],
      "execution_count": null,
      "outputs": []
    },
    {
      "cell_type": "markdown",
      "metadata": {
        "id": "W-_rbW8mpUb9",
        "colab_type": "text"
      },
      "source": [
        "This function remove Url and mail punctuation characters. "
      ]
    },
    {
      "cell_type": "code",
      "metadata": {
        "id": "hnfaMjBGpIZL",
        "colab_type": "code",
        "colab": {}
      },
      "source": [
        "def standardize_text(df, text_field):\n",
        "    df[text_field] = df[text_field].str.replace(r\"http\\S+\", \"\")\n",
        "    df[text_field] = df[text_field].str.replace(r\"http\", \"\")\n",
        "    df[text_field] = df[text_field].str.replace(r\"@\\S+\", \"\")\n",
        "    df[text_field] = df[text_field].str.replace(r\"[^A-Za-z0-9(),!?@\\'\\`\\\"\\_\\n]\", \" \")\n",
        "    df[text_field] = df[text_field].str.replace(r\"@\", \"at\")\n",
        "    return df"
      ],
      "execution_count": null,
      "outputs": []
    },
    {
      "cell_type": "markdown",
      "metadata": {
        "id": "_CR2DTDzjaEb",
        "colab_type": "text"
      },
      "source": [
        "## Vocabulary\n",
        "\n",
        "Let's do a detailed study of our dataset texts composition . We are going to make a study on 3 categories religions, auto and hockey.\n",
        "\n",
        "\n",
        "1. Size of the vocabulary \n",
        "\n",
        "2. Study of the distribution (# words per text)"
      ]
    },
    {
      "cell_type": "code",
      "metadata": {
        "id": "bGdhUFSNm-8z",
        "colab_type": "code",
        "colab": {}
      },
      "source": [
        "news  = [ news[news[\"title\"] == \"rec.sport.hockey\"], news[news[\"title\"] == \"soc.religion.christian\"], news[news[\"title\"] == \"rec.autos\"] ]\n",
        "news = pd.concat(news)"
      ],
      "execution_count": null,
      "outputs": []
    },
    {
      "cell_type": "markdown",
      "metadata": {
        "id": "dqiLs7wHkwMl",
        "colab_type": "text"
      },
      "source": [
        "### Size of the vocabulary "
      ]
    },
    {
      "cell_type": "code",
      "metadata": {
        "id": "WNPdFAYFnGWR",
        "colab_type": "code",
        "colab": {}
      },
      "source": [
        "text_stack = \" \"\n",
        "for text in news.text:\n",
        "  text_stack += text"
      ],
      "execution_count": null,
      "outputs": []
    },
    {
      "cell_type": "markdown",
      "metadata": {
        "id": "v3-L8ukLkARf",
        "colab_type": "text"
      },
      "source": [
        "We have merged all of our texts into one. The goal is to determine the size of our vocabulary."
      ]
    },
    {
      "cell_type": "code",
      "metadata": {
        "id": "Klfd9C0TlN2m",
        "colab_type": "code",
        "colab": {}
      },
      "source": [
        "splited_text = text_stack.split(' ')"
      ],
      "execution_count": null,
      "outputs": []
    },
    {
      "cell_type": "code",
      "metadata": {
        "id": "P8NWwRn4lVKx",
        "colab_type": "code",
        "colab": {
          "base_uri": "https://localhost:8080/",
          "height": 34
        },
        "outputId": "57730930-02a5-440d-da5a-b98a6f7b733e"
      },
      "source": [
        "print(f\"The corpus of texts is made up of : {len(splited_text)} words\")"
      ],
      "execution_count": null,
      "outputs": [
        {
          "output_type": "stream",
          "text": [
            "The corpus of texts is made up of : 410409 words\n"
          ],
          "name": "stdout"
        }
      ]
    },
    {
      "cell_type": "markdown",
      "metadata": {
        "id": "X_5hVtC9nOH1",
        "colab_type": "text"
      },
      "source": [
        "To determine the size of our vocabulary we will use the CountVectorizer object. It will analyze our text and build a dictionary containing the vocabulary.\n",
        "\n",
        "We pass it in parameter to our **\"prepareText\"** method. Our method will reduce the size of our texts by removing irrelevant elements (frequent words, punctuation ...).  "
      ]
    },
    {
      "cell_type": "code",
      "metadata": {
        "id": "QLjJEWnxoYsr",
        "colab_type": "code",
        "colab": {}
      },
      "source": [
        "from sklearn.feature_extraction.text import CountVectorizer\n",
        "\n",
        "cvect = CountVectorizer(tokenizer=prepareText, ngram_range=(1,1))\n",
        "cvect_3 = CountVectorizer(tokenizer=prepareText, ngram_range=(1,3))"
      ],
      "execution_count": null,
      "outputs": []
    },
    {
      "cell_type": "code",
      "metadata": {
        "id": "JoouNEpYrBAz",
        "colab_type": "code",
        "colab": {}
      },
      "source": [
        "news = standardize_text(df=news, text_field='text')"
      ],
      "execution_count": null,
      "outputs": []
    },
    {
      "cell_type": "code",
      "metadata": {
        "id": "ZVBwZIHKrJqJ",
        "colab_type": "code",
        "colab": {}
      },
      "source": [
        "corpus = news.text.to_list()\n",
        "cvect.fit(corpus)\n",
        "print(\"\")"
      ],
      "execution_count": null,
      "outputs": []
    },
    {
      "cell_type": "code",
      "metadata": {
        "id": "DQyb8XAQu_Ll",
        "colab_type": "code",
        "colab": {}
      },
      "source": [
        "cvect_3.fit(corpus)\n",
        "print(\"\")"
      ],
      "execution_count": null,
      "outputs": []
    },
    {
      "cell_type": "code",
      "metadata": {
        "id": "YARH4NqvrMYR",
        "colab_type": "code",
        "colab": {
          "base_uri": "https://localhost:8080/",
          "height": 34
        },
        "outputId": "f3a6061c-ca76-43df-b3cf-b1071350cba8"
      },
      "source": [
        "print(f\"Our vocabulary contains:  {len(cvect.vocabulary_)} words.\")"
      ],
      "execution_count": null,
      "outputs": [
        {
          "output_type": "stream",
          "text": [
            "Our vocabulary contains:  15487 words.\n"
          ],
          "name": "stdout"
        }
      ]
    },
    {
      "cell_type": "code",
      "metadata": {
        "id": "jMs_gyk5vT2x",
        "colab_type": "code",
        "colab": {
          "base_uri": "https://localhost:8080/",
          "height": 34
        },
        "outputId": "bfae91ba-7e6f-4931-f0b4-c77878fa6ad6"
      },
      "source": [
        "print(f\"The vocabulary with ngram_range = (1,3) contains :  {len(cvect_3.vocabulary_)} words\")"
      ],
      "execution_count": null,
      "outputs": [
        {
          "output_type": "stream",
          "text": [
            "The vocabulary with ngram_range = (1,3) contains :  259269 words\n"
          ],
          "name": "stdout"
        }
      ]
    },
    {
      "cell_type": "code",
      "metadata": {
        "id": "wbR5xkem_15Y",
        "colab_type": "code",
        "colab": {
          "base_uri": "https://localhost:8080/",
          "height": 34
        },
        "outputId": "cb23a2f0-2c9d-4f09-96c6-6d1e9e6f7edd"
      },
      "source": [
        "(259269) / 15487"
      ],
      "execution_count": null,
      "outputs": [
        {
          "output_type": "execute_result",
          "data": {
            "text/plain": [
              "16.74107315813263"
            ]
          },
          "metadata": {
            "tags": []
          },
          "execution_count": 21
        }
      ]
    },
    {
      "cell_type": "markdown",
      "metadata": {
        "id": "AljfifFS_6Dk",
        "colab_type": "text"
      },
      "source": [
        "The vocabulary size increases considerably with the use of ngram. Here, with NGRAM_range = (1,3), the size of our vocabulary is multiplied by **16.7**."
      ]
    },
    {
      "cell_type": "code",
      "metadata": {
        "id": "bJ-yZPluuFQp",
        "colab_type": "code",
        "colab": {
          "base_uri": "https://localhost:8080/",
          "height": 357
        },
        "outputId": "a34728b3-cfb3-4e77-cabf-a66d8f5ea3ab"
      },
      "source": [
        "cvect.get_feature_names()[10:30]"
      ],
      "execution_count": null,
      "outputs": [
        {
          "output_type": "execute_result",
          "data": {
            "text/plain": [
              "['abbie',\n",
              " 'abbreviation',\n",
              " 'abc',\n",
              " 'abe',\n",
              " 'abhorent',\n",
              " 'abhorrent',\n",
              " 'abide',\n",
              " 'abideth',\n",
              " 'abiding',\n",
              " 'ability',\n",
              " 'abiogenesis',\n",
              " 'able',\n",
              " 'ablility',\n",
              " 'ably',\n",
              " 'aboard',\n",
              " 'abode',\n",
              " 'abolish',\n",
              " 'abolition',\n",
              " 'abomination',\n",
              " 'abort']"
            ]
          },
          "metadata": {
            "tags": []
          },
          "execution_count": 22
        }
      ]
    },
    {
      "cell_type": "markdown",
      "metadata": {
        "id": "-o_6Ic57utEV",
        "colab_type": "text"
      },
      "source": [
        "## Word distribution\n",
        "\n",
        "We want to count the number of words per text for each category. To determine if the length of the texts has an impact on the classification made by our model.\n",
        "\n",
        " "
      ]
    },
    {
      "cell_type": "code",
      "metadata": {
        "id": "ZFJH2P54BBvU",
        "colab_type": "code",
        "colab": {}
      },
      "source": [
        "def lenText(text):\n",
        "  \"\"\"\n",
        "    Count the number of token present in a text. \n",
        "    @params text : text that we want to analyse \n",
        "  \"\"\"\n",
        "  return len(text.split(' '))"
      ],
      "execution_count": null,
      "outputs": []
    },
    {
      "cell_type": "code",
      "metadata": {
        "id": "aIY5tkFFAdwb",
        "colab_type": "code",
        "colab": {}
      },
      "source": [
        "text_size_df = news.text.apply(lenText)"
      ],
      "execution_count": null,
      "outputs": []
    },
    {
      "cell_type": "code",
      "metadata": {
        "id": "4KSXwTb9Bvtu",
        "colab_type": "code",
        "colab": {}
      },
      "source": [
        "news['text_size'] = text_size_df"
      ],
      "execution_count": null,
      "outputs": []
    },
    {
      "cell_type": "code",
      "metadata": {
        "id": "SIecDJ-SB3nU",
        "colab_type": "code",
        "colab": {
          "base_uri": "https://localhost:8080/",
          "height": 204
        },
        "outputId": "a672a9f0-136d-42e0-d023-c5fbbd6e54fb"
      },
      "source": [
        "news.head()"
      ],
      "execution_count": null,
      "outputs": [
        {
          "output_type": "execute_result",
          "data": {
            "text/html": [
              "<div>\n",
              "<style scoped>\n",
              "    .dataframe tbody tr th:only-of-type {\n",
              "        vertical-align: middle;\n",
              "    }\n",
              "\n",
              "    .dataframe tbody tr th {\n",
              "        vertical-align: top;\n",
              "    }\n",
              "\n",
              "    .dataframe thead th {\n",
              "        text-align: right;\n",
              "    }\n",
              "</style>\n",
              "<table border=\"1\" class=\"dataframe\">\n",
              "  <thead>\n",
              "    <tr style=\"text-align: right;\">\n",
              "      <th></th>\n",
              "      <th>text</th>\n",
              "      <th>target</th>\n",
              "      <th>title</th>\n",
              "      <th>text_size</th>\n",
              "    </tr>\n",
              "  </thead>\n",
              "  <tbody>\n",
              "    <tr>\n",
              "      <th>21</th>\n",
              "      <td>\\nI think that Mike Foligno was the captain of...</td>\n",
              "      <td>10</td>\n",
              "      <td>rec.sport.hockey</td>\n",
              "      <td>90</td>\n",
              "    </tr>\n",
              "    <tr>\n",
              "      <th>35</th>\n",
              "      <td>\\nFunny you should mention this  one time on H...</td>\n",
              "      <td>10</td>\n",
              "      <td>rec.sport.hockey</td>\n",
              "      <td>71</td>\n",
              "    </tr>\n",
              "    <tr>\n",
              "      <th>57</th>\n",
              "      <td>\\nNo no no!!!  It's a squid!  Keep the traditi...</td>\n",
              "      <td>10</td>\n",
              "      <td>rec.sport.hockey</td>\n",
              "      <td>23</td>\n",
              "    </tr>\n",
              "    <tr>\n",
              "      <th>88</th>\n",
              "      <td>\\n                                           \\...</td>\n",
              "      <td>10</td>\n",
              "      <td>rec.sport.hockey</td>\n",
              "      <td>75</td>\n",
              "    </tr>\n",
              "    <tr>\n",
              "      <th>113</th>\n",
              "      <td>\\n\\nWell I don't see any smileys here   I am t...</td>\n",
              "      <td>10</td>\n",
              "      <td>rec.sport.hockey</td>\n",
              "      <td>44</td>\n",
              "    </tr>\n",
              "  </tbody>\n",
              "</table>\n",
              "</div>"
            ],
            "text/plain": [
              "                                                  text  ... text_size\n",
              "21   \\nI think that Mike Foligno was the captain of...  ...        90\n",
              "35   \\nFunny you should mention this  one time on H...  ...        71\n",
              "57   \\nNo no no!!!  It's a squid!  Keep the traditi...  ...        23\n",
              "88   \\n                                           \\...  ...        75\n",
              "113  \\n\\nWell I don't see any smileys here   I am t...  ...        44\n",
              "\n",
              "[5 rows x 4 columns]"
            ]
          },
          "metadata": {
            "tags": []
          },
          "execution_count": 26
        }
      ]
    },
    {
      "cell_type": "code",
      "metadata": {
        "id": "I_5i3JPgDuIY",
        "colab_type": "code",
        "colab": {
          "base_uri": "https://localhost:8080/",
          "height": 542
        },
        "outputId": "c42f95f2-2999-4885-c8a9-a9701a2500cb"
      },
      "source": [
        "import plotly.express as px\n",
        "\n",
        "px.box(news, x='text_size', y='title', color='title',  orientation='h', category_orders={'title' : ['rec.autos', 'soc.religion.christian', 'rec.sport.hockey']})"
      ],
      "execution_count": null,
      "outputs": [
        {
          "output_type": "display_data",
          "data": {
            "text/html": [
              "<html>\n",
              "<head><meta charset=\"utf-8\" /></head>\n",
              "<body>\n",
              "    <div>\n",
              "            <script src=\"https://cdnjs.cloudflare.com/ajax/libs/mathjax/2.7.5/MathJax.js?config=TeX-AMS-MML_SVG\"></script><script type=\"text/javascript\">if (window.MathJax) {MathJax.Hub.Config({SVG: {font: \"STIX-Web\"}});}</script>\n",
              "                <script type=\"text/javascript\">window.PlotlyConfig = {MathJaxConfig: 'local'};</script>\n",
              "        <script src=\"https://cdn.plot.ly/plotly-latest.min.js\"></script>    \n",
              "            <div id=\"e29962cf-e138-4d8c-840d-4caeb4a44927\" class=\"plotly-graph-div\" style=\"height:525px; width:100%;\"></div>\n",
              "            <script type=\"text/javascript\">\n",
              "                \n",
              "                    window.PLOTLYENV=window.PLOTLYENV || {};\n",
              "                    \n",
              "                if (document.getElementById(\"e29962cf-e138-4d8c-840d-4caeb4a44927\")) {\n",
              "                    Plotly.newPlot(\n",
              "                        'e29962cf-e138-4d8c-840d-4caeb4a44927',\n",
              "                        [{\"alignmentgroup\": \"True\", \"hoverlabel\": {\"namelength\": 0}, \"hovertemplate\": \"title=%{y}<br>text_size=%{x}\", \"legendgroup\": \"title=rec.autos\", \"marker\": {\"color\": \"#636efa\"}, \"name\": \"title=rec.autos\", \"notched\": false, \"offsetgroup\": \"title=rec.autos\", \"orientation\": \"h\", \"showlegend\": true, \"type\": \"box\", \"x\": [96, 2936, 84, 383, 69, 93, 41, 269, 110, 22, 56, 35, 47, 258, 41, 67, 760, 34, 13, 116, 6, 136, 64, 146, 60, 43, 77, 89, 47, 190, 285, 53, 184, 50, 308, 67, 46, 76, 1, 1, 128, 311, 77, 1, 1, 1, 212, 385, 178, 54, 193, 57, 176, 121, 98, 299, 127, 328, 74, 285, 59, 23, 151, 97, 271, 52, 123, 221, 1, 723, 200, 42, 1962, 103, 90, 49, 107, 54, 24, 4, 71, 87, 58, 26, 194, 294, 1779, 165, 71, 116, 103, 49, 55, 139, 323, 89, 82, 117, 18, 179, 42, 17, 38, 16, 242, 19, 49, 85, 193, 101, 70, 108, 43, 66, 16, 133, 165, 98, 18, 40, 301, 35, 32, 234, 791, 45, 84, 1, 38, 173, 377, 1, 41, 1, 123, 42, 1, 38, 112, 55, 48, 17, 200, 905, 98, 147, 9, 22, 60, 249, 181, 58, 33, 202, 59, 161, 168, 125, 118, 66, 47, 107, 79, 310, 64, 78, 25, 208, 42, 167, 67, 31, 1, 135, 42, 584, 81, 97, 294, 65, 99, 211, 109, 102, 23, 62, 5, 1, 119, 883, 2, 285, 54, 134, 27, 156, 1, 63, 63, 1, 63, 126, 179, 981, 281, 14, 246, 1, 151, 132, 38, 39, 258, 79, 145, 18, 55, 73, 59, 1, 47, 37, 62, 24, 354, 27, 77, 88, 1, 2684, 352, 67, 86, 174, 49, 13, 30, 40, 15, 119, 479, 73, 176, 94, 234, 208, 31, 148, 5, 151, 137, 104, 407, 1, 29, 345, 107, 44, 104, 41, 1, 101, 37, 53, 279, 421, 36, 174, 78, 43, 30, 107, 19, 100, 47, 71, 33, 340, 207, 224, 45, 856, 45, 107, 20, 122, 54, 81, 131, 111, 279, 52, 46, 277, 111, 160, 156, 14, 79, 49, 1, 899, 133, 61, 415, 150, 599, 176, 180, 13, 1, 144, 1, 481, 388, 209, 45, 221, 6004, 12, 145, 118, 111, 107, 642, 75, 344, 193, 41, 41, 163, 54, 13, 8, 193, 18, 708, 5, 14, 24, 66, 483, 82, 54, 720, 226, 39, 36, 76, 1, 73, 203, 17, 142, 86, 117, 124, 27, 1, 44, 53, 44, 41, 51, 3, 203, 1, 84, 14, 56, 11, 57, 158, 14, 25, 1, 62, 89, 66, 30, 72, 32, 86, 84, 224, 17, 159, 10, 22, 58, 32, 158, 47, 11, 65, 246, 39, 36, 85, 166, 95, 101, 55, 55, 83, 65, 80, 32, 139, 99, 31, 1, 136, 173, 361, 145, 184, 16, 37, 49, 220, 35, 61, 141, 30, 24, 59, 184, 53, 11, 157, 104, 251, 90, 174, 54, 344, 117, 70, 74, 24, 33, 154, 29, 47, 70, 243, 187, 20, 23, 49, 47, 72, 63, 148, 65, 189, 101, 71, 145, 67, 67, 35, 36, 294, 200, 88, 60, 221, 35, 184, 657, 48, 115, 50, 191, 25, 160, 238, 45, 33, 41, 41, 329, 88, 263, 73, 35, 50, 272, 1, 249, 106, 59, 170, 14, 242, 144, 150, 1, 805, 40, 221, 135, 77, 61, 100, 340, 98, 102, 170, 180, 181, 16, 70, 166, 48, 209, 55, 2, 216, 114, 155, 132, 25, 36, 121, 48, 15, 40, 332, 79, 10, 176, 1, 119, 138, 77, 99, 83, 90, 104, 20, 88, 47, 64, 67, 1, 83, 54, 34, 208, 34, 32, 199, 6, 138, 69, 30, 83, 92, 42, 122, 65, 179, 13, 54, 38, 78, 63, 470, 96, 41, 147, 71, 791, 163, 184, 1, 94, 216, 129, 148, 411, 56, 192, 44, 80, 230, 1, 208, 44, 118, 123], \"x0\": \" \", \"xaxis\": \"x\", \"y\": [\"rec.autos\", \"rec.autos\", \"rec.autos\", \"rec.autos\", \"rec.autos\", \"rec.autos\", \"rec.autos\", \"rec.autos\", \"rec.autos\", \"rec.autos\", \"rec.autos\", \"rec.autos\", \"rec.autos\", \"rec.autos\", \"rec.autos\", \"rec.autos\", \"rec.autos\", \"rec.autos\", \"rec.autos\", \"rec.autos\", \"rec.autos\", \"rec.autos\", \"rec.autos\", \"rec.autos\", \"rec.autos\", \"rec.autos\", \"rec.autos\", \"rec.autos\", \"rec.autos\", \"rec.autos\", \"rec.autos\", \"rec.autos\", \"rec.autos\", \"rec.autos\", \"rec.autos\", \"rec.autos\", \"rec.autos\", \"rec.autos\", \"rec.autos\", \"rec.autos\", \"rec.autos\", \"rec.autos\", \"rec.autos\", \"rec.autos\", \"rec.autos\", \"rec.autos\", \"rec.autos\", \"rec.autos\", \"rec.autos\", \"rec.autos\", \"rec.autos\", \"rec.autos\", \"rec.autos\", \"rec.autos\", \"rec.autos\", \"rec.autos\", \"rec.autos\", \"rec.autos\", \"rec.autos\", \"rec.autos\", \"rec.autos\", \"rec.autos\", \"rec.autos\", \"rec.autos\", \"rec.autos\", \"rec.autos\", \"rec.autos\", \"rec.autos\", \"rec.autos\", \"rec.autos\", \"rec.autos\", \"rec.autos\", \"rec.autos\", \"rec.autos\", \"rec.autos\", \"rec.autos\", \"rec.autos\", \"rec.autos\", \"rec.autos\", \"rec.autos\", \"rec.autos\", \"rec.autos\", \"rec.autos\", \"rec.autos\", \"rec.autos\", \"rec.autos\", \"rec.autos\", \"rec.autos\", \"rec.autos\", \"rec.autos\", \"rec.autos\", \"rec.autos\", \"rec.autos\", \"rec.autos\", \"rec.autos\", \"rec.autos\", \"rec.autos\", \"rec.autos\", \"rec.autos\", \"rec.autos\", \"rec.autos\", \"rec.autos\", \"rec.autos\", \"rec.autos\", \"rec.autos\", \"rec.autos\", \"rec.autos\", \"rec.autos\", \"rec.autos\", \"rec.autos\", \"rec.autos\", \"rec.autos\", \"rec.autos\", \"rec.autos\", \"rec.autos\", \"rec.autos\", \"rec.autos\", \"rec.autos\", \"rec.autos\", \"rec.autos\", \"rec.autos\", \"rec.autos\", \"rec.autos\", \"rec.autos\", \"rec.autos\", \"rec.autos\", \"rec.autos\", \"rec.autos\", \"rec.autos\", \"rec.autos\", \"rec.autos\", \"rec.autos\", \"rec.autos\", \"rec.autos\", \"rec.autos\", \"rec.autos\", \"rec.autos\", \"rec.autos\", \"rec.autos\", \"rec.autos\", \"rec.autos\", \"rec.autos\", \"rec.autos\", \"rec.autos\", \"rec.autos\", \"rec.autos\", \"rec.autos\", \"rec.autos\", \"rec.autos\", \"rec.autos\", \"rec.autos\", \"rec.autos\", \"rec.autos\", \"rec.autos\", \"rec.autos\", \"rec.autos\", \"rec.autos\", \"rec.autos\", \"rec.autos\", \"rec.autos\", \"rec.autos\", \"rec.autos\", \"rec.autos\", \"rec.autos\", \"rec.autos\", \"rec.autos\", \"rec.autos\", \"rec.autos\", \"rec.autos\", \"rec.autos\", \"rec.autos\", \"rec.autos\", \"rec.autos\", \"rec.autos\", \"rec.autos\", \"rec.autos\", \"rec.autos\", \"rec.autos\", \"rec.autos\", \"rec.autos\", \"rec.autos\", \"rec.autos\", \"rec.autos\", \"rec.autos\", \"rec.autos\", \"rec.autos\", \"rec.autos\", \"rec.autos\", \"rec.autos\", \"rec.autos\", \"rec.autos\", \"rec.autos\", \"rec.autos\", \"rec.autos\", \"rec.autos\", \"rec.autos\", \"rec.autos\", \"rec.autos\", \"rec.autos\", \"rec.autos\", \"rec.autos\", \"rec.autos\", \"rec.autos\", \"rec.autos\", \"rec.autos\", \"rec.autos\", \"rec.autos\", \"rec.autos\", \"rec.autos\", \"rec.autos\", \"rec.autos\", \"rec.autos\", \"rec.autos\", \"rec.autos\", \"rec.autos\", \"rec.autos\", \"rec.autos\", \"rec.autos\", \"rec.autos\", \"rec.autos\", \"rec.autos\", \"rec.autos\", \"rec.autos\", \"rec.autos\", \"rec.autos\", \"rec.autos\", \"rec.autos\", \"rec.autos\", \"rec.autos\", \"rec.autos\", \"rec.autos\", \"rec.autos\", \"rec.autos\", \"rec.autos\", \"rec.autos\", \"rec.autos\", \"rec.autos\", \"rec.autos\", \"rec.autos\", \"rec.autos\", \"rec.autos\", \"rec.autos\", \"rec.autos\", \"rec.autos\", \"rec.autos\", \"rec.autos\", \"rec.autos\", \"rec.autos\", \"rec.autos\", \"rec.autos\", \"rec.autos\", \"rec.autos\", \"rec.autos\", \"rec.autos\", \"rec.autos\", \"rec.autos\", \"rec.autos\", \"rec.autos\", \"rec.autos\", \"rec.autos\", \"rec.autos\", \"rec.autos\", \"rec.autos\", \"rec.autos\", \"rec.autos\", \"rec.autos\", \"rec.autos\", \"rec.autos\", \"rec.autos\", \"rec.autos\", \"rec.autos\", \"rec.autos\", \"rec.autos\", \"rec.autos\", \"rec.autos\", \"rec.autos\", \"rec.autos\", \"rec.autos\", \"rec.autos\", \"rec.autos\", \"rec.autos\", \"rec.autos\", \"rec.autos\", \"rec.autos\", \"rec.autos\", \"rec.autos\", \"rec.autos\", \"rec.autos\", \"rec.autos\", \"rec.autos\", \"rec.autos\", \"rec.autos\", \"rec.autos\", \"rec.autos\", \"rec.autos\", \"rec.autos\", \"rec.autos\", \"rec.autos\", \"rec.autos\", \"rec.autos\", \"rec.autos\", \"rec.autos\", \"rec.autos\", \"rec.autos\", \"rec.autos\", \"rec.autos\", \"rec.autos\", \"rec.autos\", \"rec.autos\", \"rec.autos\", \"rec.autos\", \"rec.autos\", \"rec.autos\", \"rec.autos\", \"rec.autos\", \"rec.autos\", \"rec.autos\", \"rec.autos\", \"rec.autos\", \"rec.autos\", \"rec.autos\", \"rec.autos\", \"rec.autos\", \"rec.autos\", \"rec.autos\", \"rec.autos\", \"rec.autos\", \"rec.autos\", \"rec.autos\", \"rec.autos\", \"rec.autos\", \"rec.autos\", \"rec.autos\", \"rec.autos\", \"rec.autos\", \"rec.autos\", \"rec.autos\", \"rec.autos\", \"rec.autos\", \"rec.autos\", \"rec.autos\", \"rec.autos\", \"rec.autos\", \"rec.autos\", \"rec.autos\", \"rec.autos\", \"rec.autos\", \"rec.autos\", \"rec.autos\", \"rec.autos\", \"rec.autos\", \"rec.autos\", \"rec.autos\", \"rec.autos\", \"rec.autos\", \"rec.autos\", \"rec.autos\", \"rec.autos\", \"rec.autos\", \"rec.autos\", \"rec.autos\", \"rec.autos\", \"rec.autos\", \"rec.autos\", \"rec.autos\", \"rec.autos\", \"rec.autos\", \"rec.autos\", \"rec.autos\", \"rec.autos\", \"rec.autos\", \"rec.autos\", \"rec.autos\", \"rec.autos\", \"rec.autos\", \"rec.autos\", \"rec.autos\", \"rec.autos\", \"rec.autos\", \"rec.autos\", \"rec.autos\", \"rec.autos\", \"rec.autos\", \"rec.autos\", \"rec.autos\", \"rec.autos\", \"rec.autos\", \"rec.autos\", \"rec.autos\", \"rec.autos\", \"rec.autos\", \"rec.autos\", \"rec.autos\", \"rec.autos\", \"rec.autos\", \"rec.autos\", \"rec.autos\", \"rec.autos\", \"rec.autos\", \"rec.autos\", \"rec.autos\", \"rec.autos\", \"rec.autos\", \"rec.autos\", \"rec.autos\", \"rec.autos\", \"rec.autos\", \"rec.autos\", \"rec.autos\", \"rec.autos\", \"rec.autos\", \"rec.autos\", \"rec.autos\", \"rec.autos\", \"rec.autos\", \"rec.autos\", \"rec.autos\", \"rec.autos\", \"rec.autos\", \"rec.autos\", \"rec.autos\", \"rec.autos\", \"rec.autos\", \"rec.autos\", \"rec.autos\", \"rec.autos\", \"rec.autos\", \"rec.autos\", \"rec.autos\", \"rec.autos\", \"rec.autos\", \"rec.autos\", \"rec.autos\", \"rec.autos\", \"rec.autos\", \"rec.autos\", \"rec.autos\", \"rec.autos\", \"rec.autos\", \"rec.autos\", \"rec.autos\", \"rec.autos\", \"rec.autos\", \"rec.autos\", \"rec.autos\", \"rec.autos\", \"rec.autos\", \"rec.autos\", \"rec.autos\", \"rec.autos\", \"rec.autos\", \"rec.autos\", \"rec.autos\", \"rec.autos\", \"rec.autos\", \"rec.autos\", \"rec.autos\", \"rec.autos\", \"rec.autos\", \"rec.autos\", \"rec.autos\", \"rec.autos\", \"rec.autos\", \"rec.autos\", \"rec.autos\", \"rec.autos\", \"rec.autos\", \"rec.autos\", \"rec.autos\", \"rec.autos\", \"rec.autos\", \"rec.autos\", \"rec.autos\", \"rec.autos\", \"rec.autos\", \"rec.autos\", \"rec.autos\", \"rec.autos\", \"rec.autos\", \"rec.autos\", \"rec.autos\", \"rec.autos\", \"rec.autos\", \"rec.autos\", \"rec.autos\", \"rec.autos\", \"rec.autos\", \"rec.autos\", \"rec.autos\", \"rec.autos\", \"rec.autos\", \"rec.autos\", \"rec.autos\", \"rec.autos\", \"rec.autos\", \"rec.autos\", \"rec.autos\", \"rec.autos\", \"rec.autos\", \"rec.autos\", \"rec.autos\", \"rec.autos\", \"rec.autos\", \"rec.autos\", \"rec.autos\", \"rec.autos\", \"rec.autos\", \"rec.autos\", \"rec.autos\", \"rec.autos\", \"rec.autos\", \"rec.autos\", \"rec.autos\", \"rec.autos\", \"rec.autos\", \"rec.autos\", \"rec.autos\", \"rec.autos\", \"rec.autos\", \"rec.autos\", \"rec.autos\", \"rec.autos\", \"rec.autos\", \"rec.autos\", \"rec.autos\", \"rec.autos\", \"rec.autos\", \"rec.autos\", \"rec.autos\", \"rec.autos\", \"rec.autos\", \"rec.autos\", \"rec.autos\", \"rec.autos\", \"rec.autos\", \"rec.autos\", \"rec.autos\", \"rec.autos\", \"rec.autos\", \"rec.autos\", \"rec.autos\", \"rec.autos\", \"rec.autos\", \"rec.autos\", \"rec.autos\", \"rec.autos\", \"rec.autos\", \"rec.autos\", \"rec.autos\", \"rec.autos\", \"rec.autos\", \"rec.autos\", \"rec.autos\", \"rec.autos\", \"rec.autos\", \"rec.autos\", \"rec.autos\", \"rec.autos\", \"rec.autos\", \"rec.autos\", \"rec.autos\", \"rec.autos\", \"rec.autos\", \"rec.autos\", \"rec.autos\", \"rec.autos\", \"rec.autos\", \"rec.autos\", \"rec.autos\", \"rec.autos\", \"rec.autos\", \"rec.autos\", \"rec.autos\", \"rec.autos\", \"rec.autos\", \"rec.autos\", \"rec.autos\", \"rec.autos\", \"rec.autos\", \"rec.autos\", \"rec.autos\", \"rec.autos\", \"rec.autos\", \"rec.autos\", \"rec.autos\", \"rec.autos\", \"rec.autos\", \"rec.autos\", \"rec.autos\", \"rec.autos\", \"rec.autos\", \"rec.autos\", \"rec.autos\", \"rec.autos\"], \"y0\": \" \", \"yaxis\": \"y\"}, {\"alignmentgroup\": \"True\", \"hoverlabel\": {\"namelength\": 0}, \"hovertemplate\": \"title=%{y}<br>text_size=%{x}\", \"legendgroup\": \"title=soc.religion.christian\", \"marker\": {\"color\": \"#EF553B\"}, \"name\": \"title=soc.religion.christian\", \"notched\": false, \"offsetgroup\": \"title=soc.religion.christian\", \"orientation\": \"h\", \"showlegend\": true, \"type\": \"box\", \"x\": [357, 157, 413, 156, 105, 119, 53, 205, 225, 787, 677, 419, 117, 54, 113, 159, 1379, 17, 205, 6, 1554, 175, 64, 74, 19, 158, 217, 15, 729, 147, 167, 191, 1, 795, 223, 133, 165, 732, 544, 55, 89, 735, 653, 222, 341, 31, 185, 42, 878, 102, 75, 121, 219, 317, 161, 726, 249, 208, 179, 57, 142, 239, 139, 57, 461, 103, 696, 203, 26, 169, 124, 122, 142, 75, 221, 268, 1692, 397, 357, 67, 38, 59, 20, 201, 322, 692, 97, 353, 225, 251, 191, 18, 1352, 44, 102, 131, 113, 102, 823, 424, 123, 122, 265, 85, 221, 97, 134, 153, 68, 1, 78, 178, 667, 29, 58, 534, 418, 120, 1, 634, 139, 1416, 286, 311, 244, 163, 304, 168, 281, 45, 206, 72, 49, 576, 99, 139, 137, 958, 99, 215, 174, 359, 375, 142, 385, 553, 4, 164, 223, 223, 328, 196, 385, 580, 119, 649, 211, 88, 43, 260, 510, 52, 176, 299, 803, 2, 272, 115, 113, 479, 189, 169, 17, 68, 121, 412, 1059, 1, 130, 134, 63, 1141, 410, 72, 6, 113, 154, 171, 463, 14, 414, 430, 253, 137, 131, 324, 147, 395, 373, 378, 195, 272, 27, 131, 399, 270, 173, 34, 235, 176, 138, 847, 441, 2292, 357, 153, 80, 375, 79, 1268, 119, 118, 410, 243, 160, 229, 588, 433, 181, 59, 227, 155, 377, 14, 227, 151, 58, 231, 412, 374, 33, 73, 985, 364, 295, 63, 1, 427, 598, 67, 139, 173, 1, 143, 221, 171, 84, 178, 86, 174, 137, 33, 53, 60, 363, 1128, 582, 205, 195, 354, 888, 499, 124, 1945, 753, 105, 62, 1563, 53, 207, 3, 26, 432, 412, 79, 380, 1470, 5921, 124, 315, 62, 175, 793, 1197, 109, 38, 358, 217, 106, 415, 278, 841, 321, 269, 12, 715, 91, 284, 249, 30, 2750, 357, 286, 90, 219, 82, 984, 465, 677, 312, 223, 170, 512, 59, 192, 19, 128, 138, 101, 93, 492, 489, 63, 113, 14, 383, 111, 982, 135, 353, 105, 274, 60, 18, 182, 358, 158, 58, 33, 45, 111, 25, 133, 704, 55, 44, 176, 379, 24, 1, 294, 154, 43, 8, 3079, 1450, 454, 862, 10, 66, 40, 222, 208, 52, 129, 241, 37, 543, 918, 419, 22, 106, 111, 151, 1040, 109, 48, 14, 23, 110, 900, 223, 506, 49, 114, 413, 36, 103, 851, 213, 300, 122, 13, 25, 537, 202, 13, 96, 93, 158, 1939, 85, 363, 800, 566, 56, 475, 212, 68, 1300, 49, 139, 15, 251, 116, 325, 100, 247, 393, 173, 57, 37, 509, 125, 69, 131, 510, 352, 228, 166, 295, 538, 60, 66, 318, 52, 264, 105, 781, 1045, 53, 57, 87, 18, 250, 165, 16, 1085, 131, 73, 318, 1595, 181, 40, 177, 452, 67, 395, 435, 197, 99, 111, 38, 72, 123, 117, 348, 40, 73, 1426, 601, 154, 122, 402, 1289, 127, 191, 317, 32, 61, 56, 37, 121, 86, 223, 161, 152, 129, 294, 99, 326, 44, 458, 211, 251, 115, 183, 717, 423, 201, 465, 214, 16, 130, 102, 217, 336, 1255, 474, 893, 136, 182, 147, 303, 364, 131, 164, 337, 182, 203, 400, 159, 131, 70, 1068, 1924, 308, 290, 260, 77, 40, 45, 287, 384, 154, 198, 794, 183, 86, 322, 39, 202, 30, 89, 1455, 326, 255, 396, 673, 112, 105, 646, 68, 376, 229, 226, 21, 460, 1389, 102, 266, 132, 581, 326, 85, 269, 718, 73, 297, 42, 628, 72, 563, 29, 230, 469, 23, 392, 177, 289, 618, 70, 512, 85, 48, 69, 153, 132, 437], \"x0\": \" \", \"xaxis\": \"x\", \"y\": [\"soc.religion.christian\", \"soc.religion.christian\", \"soc.religion.christian\", \"soc.religion.christian\", \"soc.religion.christian\", \"soc.religion.christian\", \"soc.religion.christian\", \"soc.religion.christian\", \"soc.religion.christian\", \"soc.religion.christian\", \"soc.religion.christian\", \"soc.religion.christian\", \"soc.religion.christian\", \"soc.religion.christian\", \"soc.religion.christian\", \"soc.religion.christian\", \"soc.religion.christian\", \"soc.religion.christian\", \"soc.religion.christian\", \"soc.religion.christian\", \"soc.religion.christian\", \"soc.religion.christian\", \"soc.religion.christian\", \"soc.religion.christian\", \"soc.religion.christian\", \"soc.religion.christian\", \"soc.religion.christian\", \"soc.religion.christian\", \"soc.religion.christian\", \"soc.religion.christian\", \"soc.religion.christian\", \"soc.religion.christian\", \"soc.religion.christian\", \"soc.religion.christian\", \"soc.religion.christian\", \"soc.religion.christian\", \"soc.religion.christian\", \"soc.religion.christian\", \"soc.religion.christian\", \"soc.religion.christian\", \"soc.religion.christian\", \"soc.religion.christian\", \"soc.religion.christian\", \"soc.religion.christian\", \"soc.religion.christian\", \"soc.religion.christian\", \"soc.religion.christian\", \"soc.religion.christian\", \"soc.religion.christian\", \"soc.religion.christian\", \"soc.religion.christian\", \"soc.religion.christian\", \"soc.religion.christian\", \"soc.religion.christian\", \"soc.religion.christian\", \"soc.religion.christian\", \"soc.religion.christian\", \"soc.religion.christian\", \"soc.religion.christian\", \"soc.religion.christian\", \"soc.religion.christian\", \"soc.religion.christian\", \"soc.religion.christian\", \"soc.religion.christian\", \"soc.religion.christian\", \"soc.religion.christian\", \"soc.religion.christian\", \"soc.religion.christian\", \"soc.religion.christian\", \"soc.religion.christian\", \"soc.religion.christian\", \"soc.religion.christian\", \"soc.religion.christian\", \"soc.religion.christian\", \"soc.religion.christian\", \"soc.religion.christian\", \"soc.religion.christian\", \"soc.religion.christian\", \"soc.religion.christian\", \"soc.religion.christian\", \"soc.religion.christian\", \"soc.religion.christian\", \"soc.religion.christian\", \"soc.religion.christian\", \"soc.religion.christian\", \"soc.religion.christian\", \"soc.religion.christian\", \"soc.religion.christian\", \"soc.religion.christian\", \"soc.religion.christian\", \"soc.religion.christian\", \"soc.religion.christian\", \"soc.religion.christian\", \"soc.religion.christian\", \"soc.religion.christian\", \"soc.religion.christian\", \"soc.religion.christian\", \"soc.religion.christian\", \"soc.religion.christian\", \"soc.religion.christian\", \"soc.religion.christian\", \"soc.religion.christian\", \"soc.religion.christian\", \"soc.religion.christian\", \"soc.religion.christian\", \"soc.religion.christian\", \"soc.religion.christian\", \"soc.religion.christian\", \"soc.religion.christian\", \"soc.religion.christian\", \"soc.religion.christian\", \"soc.religion.christian\", \"soc.religion.christian\", \"soc.religion.christian\", \"soc.religion.christian\", \"soc.religion.christian\", \"soc.religion.christian\", \"soc.religion.christian\", \"soc.religion.christian\", \"soc.religion.christian\", \"soc.religion.christian\", \"soc.religion.christian\", \"soc.religion.christian\", \"soc.religion.christian\", \"soc.religion.christian\", \"soc.religion.christian\", \"soc.religion.christian\", \"soc.religion.christian\", \"soc.religion.christian\", \"soc.religion.christian\", \"soc.religion.christian\", \"soc.religion.christian\", \"soc.religion.christian\", \"soc.religion.christian\", \"soc.religion.christian\", \"soc.religion.christian\", \"soc.religion.christian\", \"soc.religion.christian\", \"soc.religion.christian\", \"soc.religion.christian\", \"soc.religion.christian\", \"soc.religion.christian\", \"soc.religion.christian\", \"soc.religion.christian\", \"soc.religion.christian\", \"soc.religion.christian\", \"soc.religion.christian\", \"soc.religion.christian\", \"soc.religion.christian\", \"soc.religion.christian\", \"soc.religion.christian\", \"soc.religion.christian\", \"soc.religion.christian\", \"soc.religion.christian\", \"soc.religion.christian\", \"soc.religion.christian\", \"soc.religion.christian\", \"soc.religion.christian\", \"soc.religion.christian\", \"soc.religion.christian\", \"soc.religion.christian\", \"soc.religion.christian\", \"soc.religion.christian\", \"soc.religion.christian\", \"soc.religion.christian\", \"soc.religion.christian\", \"soc.religion.christian\", \"soc.religion.christian\", \"soc.religion.christian\", \"soc.religion.christian\", \"soc.religion.christian\", \"soc.religion.christian\", \"soc.religion.christian\", \"soc.religion.christian\", \"soc.religion.christian\", \"soc.religion.christian\", \"soc.religion.christian\", \"soc.religion.christian\", \"soc.religion.christian\", \"soc.religion.christian\", \"soc.religion.christian\", \"soc.religion.christian\", \"soc.religion.christian\", \"soc.religion.christian\", \"soc.religion.christian\", \"soc.religion.christian\", \"soc.religion.christian\", \"soc.religion.christian\", \"soc.religion.christian\", \"soc.religion.christian\", \"soc.religion.christian\", \"soc.religion.christian\", \"soc.religion.christian\", \"soc.religion.christian\", \"soc.religion.christian\", \"soc.religion.christian\", \"soc.religion.christian\", \"soc.religion.christian\", \"soc.religion.christian\", \"soc.religion.christian\", \"soc.religion.christian\", \"soc.religion.christian\", \"soc.religion.christian\", \"soc.religion.christian\", \"soc.religion.christian\", \"soc.religion.christian\", \"soc.religion.christian\", \"soc.religion.christian\", \"soc.religion.christian\", \"soc.religion.christian\", \"soc.religion.christian\", \"soc.religion.christian\", \"soc.religion.christian\", \"soc.religion.christian\", \"soc.religion.christian\", \"soc.religion.christian\", \"soc.religion.christian\", \"soc.religion.christian\", \"soc.religion.christian\", \"soc.religion.christian\", \"soc.religion.christian\", \"soc.religion.christian\", \"soc.religion.christian\", \"soc.religion.christian\", \"soc.religion.christian\", \"soc.religion.christian\", \"soc.religion.christian\", \"soc.religion.christian\", \"soc.religion.christian\", \"soc.religion.christian\", \"soc.religion.christian\", \"soc.religion.christian\", \"soc.religion.christian\", \"soc.religion.christian\", \"soc.religion.christian\", \"soc.religion.christian\", \"soc.religion.christian\", \"soc.religion.christian\", \"soc.religion.christian\", \"soc.religion.christian\", \"soc.religion.christian\", \"soc.religion.christian\", \"soc.religion.christian\", \"soc.religion.christian\", \"soc.religion.christian\", \"soc.religion.christian\", \"soc.religion.christian\", \"soc.religion.christian\", \"soc.religion.christian\", \"soc.religion.christian\", \"soc.religion.christian\", \"soc.religion.christian\", \"soc.religion.christian\", \"soc.religion.christian\", \"soc.religion.christian\", \"soc.religion.christian\", \"soc.religion.christian\", \"soc.religion.christian\", \"soc.religion.christian\", \"soc.religion.christian\", \"soc.religion.christian\", \"soc.religion.christian\", \"soc.religion.christian\", \"soc.religion.christian\", \"soc.religion.christian\", \"soc.religion.christian\", \"soc.religion.christian\", \"soc.religion.christian\", \"soc.religion.christian\", \"soc.religion.christian\", \"soc.religion.christian\", \"soc.religion.christian\", \"soc.religion.christian\", \"soc.religion.christian\", \"soc.religion.christian\", \"soc.religion.christian\", \"soc.religion.christian\", \"soc.religion.christian\", \"soc.religion.christian\", \"soc.religion.christian\", \"soc.religion.christian\", \"soc.religion.christian\", \"soc.religion.christian\", \"soc.religion.christian\", \"soc.religion.christian\", \"soc.religion.christian\", \"soc.religion.christian\", \"soc.religion.christian\", \"soc.religion.christian\", \"soc.religion.christian\", \"soc.religion.christian\", \"soc.religion.christian\", \"soc.religion.christian\", \"soc.religion.christian\", \"soc.religion.christian\", \"soc.religion.christian\", \"soc.religion.christian\", \"soc.religion.christian\", \"soc.religion.christian\", \"soc.religion.christian\", \"soc.religion.christian\", \"soc.religion.christian\", \"soc.religion.christian\", \"soc.religion.christian\", \"soc.religion.christian\", \"soc.religion.christian\", \"soc.religion.christian\", \"soc.religion.christian\", \"soc.religion.christian\", \"soc.religion.christian\", \"soc.religion.christian\", \"soc.religion.christian\", \"soc.religion.christian\", \"soc.religion.christian\", \"soc.religion.christian\", \"soc.religion.christian\", \"soc.religion.christian\", \"soc.religion.christian\", \"soc.religion.christian\", \"soc.religion.christian\", \"soc.religion.christian\", \"soc.religion.christian\", \"soc.religion.christian\", \"soc.religion.christian\", \"soc.religion.christian\", \"soc.religion.christian\", \"soc.religion.christian\", \"soc.religion.christian\", \"soc.religion.christian\", \"soc.religion.christian\", \"soc.religion.christian\", \"soc.religion.christian\", \"soc.religion.christian\", \"soc.religion.christian\", \"soc.religion.christian\", \"soc.religion.christian\", \"soc.religion.christian\", \"soc.religion.christian\", \"soc.religion.christian\", \"soc.religion.christian\", \"soc.religion.christian\", \"soc.religion.christian\", \"soc.religion.christian\", \"soc.religion.christian\", \"soc.religion.christian\", \"soc.religion.christian\", \"soc.religion.christian\", \"soc.religion.christian\", \"soc.religion.christian\", \"soc.religion.christian\", \"soc.religion.christian\", \"soc.religion.christian\", \"soc.religion.christian\", \"soc.religion.christian\", \"soc.religion.christian\", \"soc.religion.christian\", \"soc.religion.christian\", \"soc.religion.christian\", \"soc.religion.christian\", \"soc.religion.christian\", \"soc.religion.christian\", \"soc.religion.christian\", \"soc.religion.christian\", \"soc.religion.christian\", \"soc.religion.christian\", \"soc.religion.christian\", \"soc.religion.christian\", \"soc.religion.christian\", \"soc.religion.christian\", \"soc.religion.christian\", \"soc.religion.christian\", \"soc.religion.christian\", \"soc.religion.christian\", \"soc.religion.christian\", \"soc.religion.christian\", \"soc.religion.christian\", \"soc.religion.christian\", \"soc.religion.christian\", \"soc.religion.christian\", \"soc.religion.christian\", \"soc.religion.christian\", \"soc.religion.christian\", \"soc.religion.christian\", \"soc.religion.christian\", \"soc.religion.christian\", \"soc.religion.christian\", \"soc.religion.christian\", \"soc.religion.christian\", \"soc.religion.christian\", \"soc.religion.christian\", \"soc.religion.christian\", \"soc.religion.christian\", \"soc.religion.christian\", \"soc.religion.christian\", \"soc.religion.christian\", \"soc.religion.christian\", \"soc.religion.christian\", \"soc.religion.christian\", \"soc.religion.christian\", \"soc.religion.christian\", \"soc.religion.christian\", \"soc.religion.christian\", \"soc.religion.christian\", \"soc.religion.christian\", \"soc.religion.christian\", \"soc.religion.christian\", \"soc.religion.christian\", \"soc.religion.christian\", \"soc.religion.christian\", \"soc.religion.christian\", \"soc.religion.christian\", \"soc.religion.christian\", \"soc.religion.christian\", \"soc.religion.christian\", \"soc.religion.christian\", \"soc.religion.christian\", \"soc.religion.christian\", \"soc.religion.christian\", \"soc.religion.christian\", \"soc.religion.christian\", \"soc.religion.christian\", \"soc.religion.christian\", \"soc.religion.christian\", \"soc.religion.christian\", \"soc.religion.christian\", \"soc.religion.christian\", \"soc.religion.christian\", \"soc.religion.christian\", \"soc.religion.christian\", \"soc.religion.christian\", \"soc.religion.christian\", \"soc.religion.christian\", \"soc.religion.christian\", \"soc.religion.christian\", \"soc.religion.christian\", \"soc.religion.christian\", \"soc.religion.christian\", \"soc.religion.christian\", \"soc.religion.christian\", \"soc.religion.christian\", \"soc.religion.christian\", \"soc.religion.christian\", \"soc.religion.christian\", \"soc.religion.christian\", \"soc.religion.christian\", \"soc.religion.christian\", \"soc.religion.christian\", \"soc.religion.christian\", \"soc.religion.christian\", \"soc.religion.christian\", \"soc.religion.christian\", \"soc.religion.christian\", \"soc.religion.christian\", \"soc.religion.christian\", \"soc.religion.christian\", \"soc.religion.christian\", \"soc.religion.christian\", \"soc.religion.christian\", \"soc.religion.christian\", \"soc.religion.christian\", \"soc.religion.christian\", \"soc.religion.christian\", \"soc.religion.christian\", \"soc.religion.christian\", \"soc.religion.christian\", \"soc.religion.christian\", \"soc.religion.christian\", \"soc.religion.christian\", \"soc.religion.christian\", \"soc.religion.christian\", \"soc.religion.christian\", \"soc.religion.christian\", \"soc.religion.christian\", \"soc.religion.christian\", \"soc.religion.christian\", \"soc.religion.christian\", \"soc.religion.christian\", \"soc.religion.christian\", \"soc.religion.christian\", \"soc.religion.christian\", \"soc.religion.christian\", \"soc.religion.christian\", \"soc.religion.christian\", \"soc.religion.christian\", \"soc.religion.christian\", \"soc.religion.christian\", \"soc.religion.christian\", \"soc.religion.christian\", \"soc.religion.christian\", \"soc.religion.christian\", \"soc.religion.christian\", \"soc.religion.christian\", \"soc.religion.christian\", \"soc.religion.christian\", \"soc.religion.christian\", \"soc.religion.christian\", \"soc.religion.christian\", \"soc.religion.christian\", \"soc.religion.christian\", \"soc.religion.christian\", \"soc.religion.christian\", \"soc.religion.christian\", \"soc.religion.christian\", \"soc.religion.christian\", \"soc.religion.christian\", \"soc.religion.christian\", \"soc.religion.christian\", \"soc.religion.christian\", \"soc.religion.christian\", \"soc.religion.christian\", \"soc.religion.christian\", \"soc.religion.christian\", \"soc.religion.christian\", \"soc.religion.christian\", \"soc.religion.christian\", \"soc.religion.christian\", \"soc.religion.christian\", \"soc.religion.christian\", \"soc.religion.christian\", \"soc.religion.christian\", \"soc.religion.christian\", \"soc.religion.christian\", \"soc.religion.christian\", \"soc.religion.christian\", \"soc.religion.christian\", \"soc.religion.christian\", \"soc.religion.christian\", \"soc.religion.christian\", \"soc.religion.christian\", \"soc.religion.christian\", \"soc.religion.christian\", \"soc.religion.christian\", \"soc.religion.christian\", \"soc.religion.christian\", \"soc.religion.christian\", \"soc.religion.christian\", \"soc.religion.christian\", \"soc.religion.christian\", \"soc.religion.christian\", \"soc.religion.christian\", \"soc.religion.christian\", \"soc.religion.christian\", \"soc.religion.christian\", \"soc.religion.christian\", \"soc.religion.christian\", \"soc.religion.christian\", \"soc.religion.christian\", \"soc.religion.christian\", \"soc.religion.christian\", \"soc.religion.christian\", \"soc.religion.christian\", \"soc.religion.christian\", \"soc.religion.christian\", \"soc.religion.christian\", \"soc.religion.christian\", \"soc.religion.christian\", \"soc.religion.christian\", \"soc.religion.christian\", \"soc.religion.christian\", \"soc.religion.christian\", \"soc.religion.christian\", \"soc.religion.christian\", \"soc.religion.christian\", \"soc.religion.christian\", \"soc.religion.christian\", \"soc.religion.christian\", \"soc.religion.christian\", \"soc.religion.christian\", \"soc.religion.christian\", \"soc.religion.christian\", \"soc.religion.christian\", \"soc.religion.christian\", \"soc.religion.christian\", \"soc.religion.christian\", \"soc.religion.christian\", \"soc.religion.christian\", \"soc.religion.christian\", \"soc.religion.christian\", \"soc.religion.christian\", \"soc.religion.christian\", \"soc.religion.christian\", \"soc.religion.christian\", \"soc.religion.christian\", \"soc.religion.christian\", \"soc.religion.christian\", \"soc.religion.christian\", \"soc.religion.christian\", \"soc.religion.christian\", \"soc.religion.christian\", \"soc.religion.christian\", \"soc.religion.christian\", \"soc.religion.christian\", \"soc.religion.christian\", \"soc.religion.christian\", \"soc.religion.christian\", \"soc.religion.christian\", \"soc.religion.christian\", \"soc.religion.christian\", \"soc.religion.christian\"], \"y0\": \" \", \"yaxis\": \"y\"}, {\"alignmentgroup\": \"True\", \"hoverlabel\": {\"namelength\": 0}, \"hovertemplate\": \"title=%{y}<br>text_size=%{x}\", \"legendgroup\": \"title=rec.sport.hockey\", \"marker\": {\"color\": \"#00cc96\"}, \"name\": \"title=rec.sport.hockey\", \"notched\": false, \"offsetgroup\": \"title=rec.sport.hockey\", \"orientation\": \"h\", \"showlegend\": true, \"type\": \"box\", \"x\": [90, 71, 23, 75, 44, 19, 24, 436, 137, 113, 40, 54, 53, 92, 63, 98, 42, 39, 150, 195, 1098, 187, 1, 168, 389, 1066, 7, 115, 3280, 3, 25, 70, 55, 85, 52, 78, 49, 21, 121, 44, 102, 287, 112, 4522, 97, 77, 275, 55, 6, 153, 30, 462, 435, 43, 39, 374, 61, 1, 200, 515, 410, 25, 1406, 193, 91, 37, 442, 76, 21, 108, 36, 181, 1, 63, 44, 63, 276, 576, 65, 39, 757, 21, 236, 164, 66, 15, 69, 141, 144, 61, 34, 88, 40, 635, 188, 182, 32, 61, 180, 259, 142, 1, 126, 9, 115, 42, 673, 210, 247, 143, 214, 182, 86, 44, 102, 38, 1988, 273, 103, 38, 76, 5, 1, 171, 164, 38, 188, 53, 145, 40, 66, 67, 83, 37, 420, 68, 53, 50, 132, 183, 206, 519, 234, 10, 91, 133, 181, 6, 92, 2801, 27, 14, 66, 66, 77, 171, 111, 11, 72, 56, 102, 1, 5, 57, 20, 114, 556, 294, 274, 71, 37, 1566, 149, 9, 78, 44, 24, 25, 59, 185, 240, 1047, 590, 90, 66, 21, 57, 279, 49, 32, 334, 2024, 62, 242, 65, 257, 120, 8, 60, 74, 38, 56, 34, 218, 25, 1, 70, 1267, 5, 554, 40, 65, 224, 787, 49, 49, 16, 86, 250, 440, 132, 65, 676, 135, 249, 45, 1717, 294, 76, 45, 50, 159, 141, 2665, 179, 174, 220, 45, 73, 6025, 1, 3582, 16, 15, 462, 106, 110, 58, 30, 181, 375, 63, 145, 13, 42, 52, 85, 45, 87, 55, 35, 776, 129, 212, 47, 147, 33, 81, 70, 111, 47, 61, 120, 233, 24, 1, 85, 43, 1076, 35, 134, 802, 38, 117, 100, 125, 230, 26, 3, 41, 1586, 54, 31, 596, 2310, 58, 49, 251, 197, 166, 110, 484, 116, 52, 14, 169, 61, 47, 41, 144, 128, 181, 191, 58, 31, 45, 1, 86, 71, 88, 283, 91, 102, 99, 266, 297, 53, 615, 38, 133, 6, 47, 123, 87, 25, 14, 65, 44, 80, 213, 1, 1375, 421, 147, 153, 161, 110, 30, 562, 1142, 103, 1125, 43, 116, 6, 50, 236, 273, 93, 826, 3, 735, 1586, 200, 78, 123, 150, 746, 222, 150, 92, 13, 73, 5, 682, 131, 99, 14, 18, 266, 103, 21, 157, 3559, 394, 790, 1300, 75, 31, 59, 117, 11, 1727, 96, 87, 1819, 26, 62, 52, 31, 181, 273, 276, 31, 65, 38, 43, 91, 299, 100, 422, 269, 85, 155, 173, 5727, 143, 103, 73, 15, 64, 187, 123, 119, 136, 66, 1, 257, 61, 140, 90, 76, 97, 155, 37, 213, 590, 95, 316, 27, 77, 159, 104, 29, 435, 198, 429, 429, 61, 45, 13, 54, 100, 2742, 60, 73, 38, 272, 343, 6980, 1074, 460, 23, 146, 21, 261, 39, 10, 1, 108, 109, 30, 198, 51, 5, 298, 240, 41, 13, 27, 262, 61, 87, 135, 83, 21090, 18, 144, 538, 336, 259, 280, 105, 230, 18, 78, 109, 53, 136, 92, 3824, 54, 236, 381, 158, 622, 260, 62, 33, 113, 364, 19589, 670, 54, 94, 1222, 144, 93, 369, 105, 248, 343, 200, 139, 1011, 13, 24, 406, 84, 110, 116, 48, 151, 63, 537, 130, 68, 23, 49, 123, 68, 166, 31, 101, 37, 263, 227, 57, 83, 46, 13, 1, 45, 69, 170, 32, 50, 1, 10, 117, 1, 55, 96, 23, 353, 183, 89, 71, 3609, 31, 6933, 122, 345, 21, 300, 139, 5000, 481, 37, 323, 365, 78, 57, 25, 104, 20, 208, 258, 7, 46, 413, 88, 45, 54, 104, 23, 34, 120, 190, 183], \"x0\": \" \", \"xaxis\": \"x\", \"y\": [\"rec.sport.hockey\", \"rec.sport.hockey\", \"rec.sport.hockey\", \"rec.sport.hockey\", \"rec.sport.hockey\", \"rec.sport.hockey\", \"rec.sport.hockey\", \"rec.sport.hockey\", \"rec.sport.hockey\", \"rec.sport.hockey\", \"rec.sport.hockey\", \"rec.sport.hockey\", \"rec.sport.hockey\", \"rec.sport.hockey\", \"rec.sport.hockey\", \"rec.sport.hockey\", \"rec.sport.hockey\", \"rec.sport.hockey\", \"rec.sport.hockey\", \"rec.sport.hockey\", \"rec.sport.hockey\", \"rec.sport.hockey\", \"rec.sport.hockey\", \"rec.sport.hockey\", \"rec.sport.hockey\", \"rec.sport.hockey\", \"rec.sport.hockey\", \"rec.sport.hockey\", \"rec.sport.hockey\", \"rec.sport.hockey\", \"rec.sport.hockey\", \"rec.sport.hockey\", \"rec.sport.hockey\", \"rec.sport.hockey\", \"rec.sport.hockey\", \"rec.sport.hockey\", \"rec.sport.hockey\", \"rec.sport.hockey\", \"rec.sport.hockey\", \"rec.sport.hockey\", \"rec.sport.hockey\", \"rec.sport.hockey\", \"rec.sport.hockey\", \"rec.sport.hockey\", \"rec.sport.hockey\", \"rec.sport.hockey\", \"rec.sport.hockey\", \"rec.sport.hockey\", \"rec.sport.hockey\", \"rec.sport.hockey\", \"rec.sport.hockey\", \"rec.sport.hockey\", \"rec.sport.hockey\", \"rec.sport.hockey\", \"rec.sport.hockey\", \"rec.sport.hockey\", \"rec.sport.hockey\", \"rec.sport.hockey\", \"rec.sport.hockey\", \"rec.sport.hockey\", \"rec.sport.hockey\", \"rec.sport.hockey\", \"rec.sport.hockey\", \"rec.sport.hockey\", \"rec.sport.hockey\", \"rec.sport.hockey\", \"rec.sport.hockey\", \"rec.sport.hockey\", \"rec.sport.hockey\", \"rec.sport.hockey\", \"rec.sport.hockey\", \"rec.sport.hockey\", \"rec.sport.hockey\", \"rec.sport.hockey\", \"rec.sport.hockey\", \"rec.sport.hockey\", \"rec.sport.hockey\", \"rec.sport.hockey\", \"rec.sport.hockey\", \"rec.sport.hockey\", \"rec.sport.hockey\", \"rec.sport.hockey\", \"rec.sport.hockey\", \"rec.sport.hockey\", \"rec.sport.hockey\", \"rec.sport.hockey\", \"rec.sport.hockey\", \"rec.sport.hockey\", \"rec.sport.hockey\", \"rec.sport.hockey\", \"rec.sport.hockey\", \"rec.sport.hockey\", \"rec.sport.hockey\", \"rec.sport.hockey\", \"rec.sport.hockey\", \"rec.sport.hockey\", \"rec.sport.hockey\", \"rec.sport.hockey\", \"rec.sport.hockey\", \"rec.sport.hockey\", \"rec.sport.hockey\", \"rec.sport.hockey\", \"rec.sport.hockey\", \"rec.sport.hockey\", \"rec.sport.hockey\", \"rec.sport.hockey\", \"rec.sport.hockey\", \"rec.sport.hockey\", \"rec.sport.hockey\", \"rec.sport.hockey\", \"rec.sport.hockey\", \"rec.sport.hockey\", \"rec.sport.hockey\", \"rec.sport.hockey\", \"rec.sport.hockey\", \"rec.sport.hockey\", \"rec.sport.hockey\", \"rec.sport.hockey\", \"rec.sport.hockey\", \"rec.sport.hockey\", \"rec.sport.hockey\", \"rec.sport.hockey\", \"rec.sport.hockey\", \"rec.sport.hockey\", \"rec.sport.hockey\", \"rec.sport.hockey\", \"rec.sport.hockey\", \"rec.sport.hockey\", \"rec.sport.hockey\", \"rec.sport.hockey\", \"rec.sport.hockey\", \"rec.sport.hockey\", \"rec.sport.hockey\", \"rec.sport.hockey\", \"rec.sport.hockey\", \"rec.sport.hockey\", \"rec.sport.hockey\", \"rec.sport.hockey\", \"rec.sport.hockey\", \"rec.sport.hockey\", \"rec.sport.hockey\", \"rec.sport.hockey\", \"rec.sport.hockey\", \"rec.sport.hockey\", \"rec.sport.hockey\", \"rec.sport.hockey\", \"rec.sport.hockey\", \"rec.sport.hockey\", \"rec.sport.hockey\", \"rec.sport.hockey\", \"rec.sport.hockey\", \"rec.sport.hockey\", \"rec.sport.hockey\", \"rec.sport.hockey\", \"rec.sport.hockey\", \"rec.sport.hockey\", \"rec.sport.hockey\", \"rec.sport.hockey\", \"rec.sport.hockey\", \"rec.sport.hockey\", \"rec.sport.hockey\", \"rec.sport.hockey\", \"rec.sport.hockey\", \"rec.sport.hockey\", \"rec.sport.hockey\", \"rec.sport.hockey\", \"rec.sport.hockey\", \"rec.sport.hockey\", \"rec.sport.hockey\", \"rec.sport.hockey\", \"rec.sport.hockey\", \"rec.sport.hockey\", \"rec.sport.hockey\", \"rec.sport.hockey\", \"rec.sport.hockey\", \"rec.sport.hockey\", \"rec.sport.hockey\", \"rec.sport.hockey\", \"rec.sport.hockey\", \"rec.sport.hockey\", \"rec.sport.hockey\", \"rec.sport.hockey\", \"rec.sport.hockey\", \"rec.sport.hockey\", \"rec.sport.hockey\", \"rec.sport.hockey\", \"rec.sport.hockey\", \"rec.sport.hockey\", \"rec.sport.hockey\", \"rec.sport.hockey\", \"rec.sport.hockey\", \"rec.sport.hockey\", \"rec.sport.hockey\", \"rec.sport.hockey\", \"rec.sport.hockey\", \"rec.sport.hockey\", \"rec.sport.hockey\", \"rec.sport.hockey\", \"rec.sport.hockey\", \"rec.sport.hockey\", \"rec.sport.hockey\", \"rec.sport.hockey\", \"rec.sport.hockey\", \"rec.sport.hockey\", \"rec.sport.hockey\", \"rec.sport.hockey\", \"rec.sport.hockey\", \"rec.sport.hockey\", \"rec.sport.hockey\", \"rec.sport.hockey\", \"rec.sport.hockey\", \"rec.sport.hockey\", \"rec.sport.hockey\", \"rec.sport.hockey\", \"rec.sport.hockey\", \"rec.sport.hockey\", \"rec.sport.hockey\", \"rec.sport.hockey\", \"rec.sport.hockey\", \"rec.sport.hockey\", \"rec.sport.hockey\", \"rec.sport.hockey\", \"rec.sport.hockey\", \"rec.sport.hockey\", \"rec.sport.hockey\", \"rec.sport.hockey\", \"rec.sport.hockey\", \"rec.sport.hockey\", \"rec.sport.hockey\", \"rec.sport.hockey\", \"rec.sport.hockey\", \"rec.sport.hockey\", \"rec.sport.hockey\", \"rec.sport.hockey\", \"rec.sport.hockey\", \"rec.sport.hockey\", \"rec.sport.hockey\", \"rec.sport.hockey\", \"rec.sport.hockey\", \"rec.sport.hockey\", \"rec.sport.hockey\", \"rec.sport.hockey\", \"rec.sport.hockey\", \"rec.sport.hockey\", \"rec.sport.hockey\", \"rec.sport.hockey\", \"rec.sport.hockey\", \"rec.sport.hockey\", \"rec.sport.hockey\", \"rec.sport.hockey\", \"rec.sport.hockey\", \"rec.sport.hockey\", \"rec.sport.hockey\", \"rec.sport.hockey\", \"rec.sport.hockey\", \"rec.sport.hockey\", \"rec.sport.hockey\", \"rec.sport.hockey\", \"rec.sport.hockey\", \"rec.sport.hockey\", \"rec.sport.hockey\", \"rec.sport.hockey\", \"rec.sport.hockey\", \"rec.sport.hockey\", \"rec.sport.hockey\", \"rec.sport.hockey\", \"rec.sport.hockey\", \"rec.sport.hockey\", \"rec.sport.hockey\", \"rec.sport.hockey\", \"rec.sport.hockey\", \"rec.sport.hockey\", \"rec.sport.hockey\", \"rec.sport.hockey\", \"rec.sport.hockey\", \"rec.sport.hockey\", \"rec.sport.hockey\", \"rec.sport.hockey\", \"rec.sport.hockey\", \"rec.sport.hockey\", \"rec.sport.hockey\", \"rec.sport.hockey\", \"rec.sport.hockey\", \"rec.sport.hockey\", \"rec.sport.hockey\", \"rec.sport.hockey\", \"rec.sport.hockey\", \"rec.sport.hockey\", \"rec.sport.hockey\", \"rec.sport.hockey\", \"rec.sport.hockey\", \"rec.sport.hockey\", \"rec.sport.hockey\", \"rec.sport.hockey\", \"rec.sport.hockey\", \"rec.sport.hockey\", \"rec.sport.hockey\", \"rec.sport.hockey\", \"rec.sport.hockey\", \"rec.sport.hockey\", \"rec.sport.hockey\", \"rec.sport.hockey\", \"rec.sport.hockey\", \"rec.sport.hockey\", \"rec.sport.hockey\", \"rec.sport.hockey\", \"rec.sport.hockey\", \"rec.sport.hockey\", \"rec.sport.hockey\", \"rec.sport.hockey\", \"rec.sport.hockey\", \"rec.sport.hockey\", \"rec.sport.hockey\", \"rec.sport.hockey\", \"rec.sport.hockey\", \"rec.sport.hockey\", \"rec.sport.hockey\", \"rec.sport.hockey\", \"rec.sport.hockey\", \"rec.sport.hockey\", \"rec.sport.hockey\", \"rec.sport.hockey\", \"rec.sport.hockey\", \"rec.sport.hockey\", \"rec.sport.hockey\", \"rec.sport.hockey\", \"rec.sport.hockey\", \"rec.sport.hockey\", \"rec.sport.hockey\", \"rec.sport.hockey\", \"rec.sport.hockey\", \"rec.sport.hockey\", \"rec.sport.hockey\", \"rec.sport.hockey\", \"rec.sport.hockey\", \"rec.sport.hockey\", \"rec.sport.hockey\", \"rec.sport.hockey\", \"rec.sport.hockey\", \"rec.sport.hockey\", \"rec.sport.hockey\", \"rec.sport.hockey\", \"rec.sport.hockey\", \"rec.sport.hockey\", \"rec.sport.hockey\", \"rec.sport.hockey\", \"rec.sport.hockey\", \"rec.sport.hockey\", \"rec.sport.hockey\", \"rec.sport.hockey\", \"rec.sport.hockey\", \"rec.sport.hockey\", \"rec.sport.hockey\", \"rec.sport.hockey\", \"rec.sport.hockey\", \"rec.sport.hockey\", \"rec.sport.hockey\", \"rec.sport.hockey\", \"rec.sport.hockey\", \"rec.sport.hockey\", \"rec.sport.hockey\", \"rec.sport.hockey\", \"rec.sport.hockey\", \"rec.sport.hockey\", \"rec.sport.hockey\", \"rec.sport.hockey\", \"rec.sport.hockey\", \"rec.sport.hockey\", \"rec.sport.hockey\", \"rec.sport.hockey\", \"rec.sport.hockey\", \"rec.sport.hockey\", \"rec.sport.hockey\", \"rec.sport.hockey\", \"rec.sport.hockey\", \"rec.sport.hockey\", \"rec.sport.hockey\", \"rec.sport.hockey\", \"rec.sport.hockey\", \"rec.sport.hockey\", \"rec.sport.hockey\", \"rec.sport.hockey\", \"rec.sport.hockey\", \"rec.sport.hockey\", \"rec.sport.hockey\", \"rec.sport.hockey\", \"rec.sport.hockey\", \"rec.sport.hockey\", \"rec.sport.hockey\", \"rec.sport.hockey\", \"rec.sport.hockey\", \"rec.sport.hockey\", \"rec.sport.hockey\", \"rec.sport.hockey\", \"rec.sport.hockey\", \"rec.sport.hockey\", \"rec.sport.hockey\", \"rec.sport.hockey\", \"rec.sport.hockey\", \"rec.sport.hockey\", \"rec.sport.hockey\", \"rec.sport.hockey\", \"rec.sport.hockey\", \"rec.sport.hockey\", \"rec.sport.hockey\", \"rec.sport.hockey\", \"rec.sport.hockey\", \"rec.sport.hockey\", \"rec.sport.hockey\", \"rec.sport.hockey\", \"rec.sport.hockey\", \"rec.sport.hockey\", \"rec.sport.hockey\", \"rec.sport.hockey\", \"rec.sport.hockey\", \"rec.sport.hockey\", \"rec.sport.hockey\", \"rec.sport.hockey\", \"rec.sport.hockey\", \"rec.sport.hockey\", \"rec.sport.hockey\", \"rec.sport.hockey\", \"rec.sport.hockey\", \"rec.sport.hockey\", \"rec.sport.hockey\", \"rec.sport.hockey\", \"rec.sport.hockey\", \"rec.sport.hockey\", \"rec.sport.hockey\", \"rec.sport.hockey\", \"rec.sport.hockey\", \"rec.sport.hockey\", \"rec.sport.hockey\", \"rec.sport.hockey\", \"rec.sport.hockey\", \"rec.sport.hockey\", \"rec.sport.hockey\", \"rec.sport.hockey\", \"rec.sport.hockey\", \"rec.sport.hockey\", \"rec.sport.hockey\", \"rec.sport.hockey\", \"rec.sport.hockey\", \"rec.sport.hockey\", \"rec.sport.hockey\", \"rec.sport.hockey\", \"rec.sport.hockey\", \"rec.sport.hockey\", \"rec.sport.hockey\", \"rec.sport.hockey\", \"rec.sport.hockey\", \"rec.sport.hockey\", \"rec.sport.hockey\", \"rec.sport.hockey\", \"rec.sport.hockey\", \"rec.sport.hockey\", \"rec.sport.hockey\", \"rec.sport.hockey\", \"rec.sport.hockey\", \"rec.sport.hockey\", \"rec.sport.hockey\", \"rec.sport.hockey\", \"rec.sport.hockey\", \"rec.sport.hockey\", \"rec.sport.hockey\", \"rec.sport.hockey\", \"rec.sport.hockey\", \"rec.sport.hockey\", \"rec.sport.hockey\", \"rec.sport.hockey\", \"rec.sport.hockey\", \"rec.sport.hockey\", \"rec.sport.hockey\", \"rec.sport.hockey\", \"rec.sport.hockey\", \"rec.sport.hockey\", \"rec.sport.hockey\", \"rec.sport.hockey\", \"rec.sport.hockey\", \"rec.sport.hockey\", \"rec.sport.hockey\", \"rec.sport.hockey\", \"rec.sport.hockey\", \"rec.sport.hockey\", \"rec.sport.hockey\", \"rec.sport.hockey\", \"rec.sport.hockey\", \"rec.sport.hockey\", \"rec.sport.hockey\", \"rec.sport.hockey\", \"rec.sport.hockey\", \"rec.sport.hockey\", \"rec.sport.hockey\", \"rec.sport.hockey\", \"rec.sport.hockey\", \"rec.sport.hockey\", \"rec.sport.hockey\", \"rec.sport.hockey\", \"rec.sport.hockey\", \"rec.sport.hockey\", \"rec.sport.hockey\", \"rec.sport.hockey\", \"rec.sport.hockey\", \"rec.sport.hockey\", \"rec.sport.hockey\", \"rec.sport.hockey\", \"rec.sport.hockey\", \"rec.sport.hockey\", \"rec.sport.hockey\", \"rec.sport.hockey\", \"rec.sport.hockey\", \"rec.sport.hockey\", \"rec.sport.hockey\", \"rec.sport.hockey\", \"rec.sport.hockey\", \"rec.sport.hockey\", \"rec.sport.hockey\", \"rec.sport.hockey\", \"rec.sport.hockey\", \"rec.sport.hockey\", \"rec.sport.hockey\", \"rec.sport.hockey\", \"rec.sport.hockey\", \"rec.sport.hockey\", \"rec.sport.hockey\", \"rec.sport.hockey\", \"rec.sport.hockey\", \"rec.sport.hockey\", \"rec.sport.hockey\", \"rec.sport.hockey\", \"rec.sport.hockey\", \"rec.sport.hockey\", \"rec.sport.hockey\", \"rec.sport.hockey\", \"rec.sport.hockey\", \"rec.sport.hockey\", \"rec.sport.hockey\", \"rec.sport.hockey\", \"rec.sport.hockey\", \"rec.sport.hockey\", \"rec.sport.hockey\", \"rec.sport.hockey\", \"rec.sport.hockey\", \"rec.sport.hockey\", \"rec.sport.hockey\", \"rec.sport.hockey\", \"rec.sport.hockey\", \"rec.sport.hockey\", \"rec.sport.hockey\", \"rec.sport.hockey\", \"rec.sport.hockey\", \"rec.sport.hockey\", \"rec.sport.hockey\", \"rec.sport.hockey\", \"rec.sport.hockey\", \"rec.sport.hockey\", \"rec.sport.hockey\", \"rec.sport.hockey\", \"rec.sport.hockey\", \"rec.sport.hockey\", \"rec.sport.hockey\", \"rec.sport.hockey\", \"rec.sport.hockey\", \"rec.sport.hockey\", \"rec.sport.hockey\", \"rec.sport.hockey\", \"rec.sport.hockey\", \"rec.sport.hockey\", \"rec.sport.hockey\", \"rec.sport.hockey\", \"rec.sport.hockey\", \"rec.sport.hockey\", \"rec.sport.hockey\", \"rec.sport.hockey\", \"rec.sport.hockey\", \"rec.sport.hockey\", \"rec.sport.hockey\", \"rec.sport.hockey\", \"rec.sport.hockey\", \"rec.sport.hockey\", \"rec.sport.hockey\", \"rec.sport.hockey\", \"rec.sport.hockey\", \"rec.sport.hockey\", \"rec.sport.hockey\", \"rec.sport.hockey\", \"rec.sport.hockey\", \"rec.sport.hockey\", \"rec.sport.hockey\", \"rec.sport.hockey\", \"rec.sport.hockey\", \"rec.sport.hockey\", \"rec.sport.hockey\", \"rec.sport.hockey\", \"rec.sport.hockey\", \"rec.sport.hockey\", \"rec.sport.hockey\", \"rec.sport.hockey\", \"rec.sport.hockey\", \"rec.sport.hockey\"], \"y0\": \" \", \"yaxis\": \"y\"}],\n",
              "                        {\"boxmode\": \"group\", \"legend\": {\"tracegroupgap\": 0}, \"margin\": {\"t\": 60}, \"template\": {\"data\": {\"bar\": [{\"error_x\": {\"color\": \"#2a3f5f\"}, \"error_y\": {\"color\": \"#2a3f5f\"}, \"marker\": {\"line\": {\"color\": \"#E5ECF6\", \"width\": 0.5}}, \"type\": \"bar\"}], \"barpolar\": [{\"marker\": {\"line\": {\"color\": \"#E5ECF6\", \"width\": 0.5}}, \"type\": \"barpolar\"}], \"carpet\": [{\"aaxis\": {\"endlinecolor\": \"#2a3f5f\", \"gridcolor\": \"white\", \"linecolor\": \"white\", \"minorgridcolor\": \"white\", \"startlinecolor\": \"#2a3f5f\"}, \"baxis\": {\"endlinecolor\": \"#2a3f5f\", \"gridcolor\": \"white\", \"linecolor\": \"white\", \"minorgridcolor\": \"white\", \"startlinecolor\": \"#2a3f5f\"}, \"type\": \"carpet\"}], \"choropleth\": [{\"colorbar\": {\"outlinewidth\": 0, \"ticks\": \"\"}, \"type\": \"choropleth\"}], \"contour\": [{\"colorbar\": {\"outlinewidth\": 0, \"ticks\": \"\"}, \"colorscale\": [[0.0, \"#0d0887\"], [0.1111111111111111, \"#46039f\"], [0.2222222222222222, \"#7201a8\"], [0.3333333333333333, \"#9c179e\"], [0.4444444444444444, \"#bd3786\"], [0.5555555555555556, \"#d8576b\"], [0.6666666666666666, \"#ed7953\"], [0.7777777777777778, \"#fb9f3a\"], [0.8888888888888888, \"#fdca26\"], [1.0, \"#f0f921\"]], \"type\": \"contour\"}], \"contourcarpet\": [{\"colorbar\": {\"outlinewidth\": 0, \"ticks\": \"\"}, \"type\": \"contourcarpet\"}], \"heatmap\": [{\"colorbar\": {\"outlinewidth\": 0, \"ticks\": \"\"}, \"colorscale\": [[0.0, \"#0d0887\"], [0.1111111111111111, \"#46039f\"], [0.2222222222222222, \"#7201a8\"], [0.3333333333333333, \"#9c179e\"], [0.4444444444444444, \"#bd3786\"], [0.5555555555555556, \"#d8576b\"], [0.6666666666666666, \"#ed7953\"], [0.7777777777777778, \"#fb9f3a\"], [0.8888888888888888, \"#fdca26\"], [1.0, \"#f0f921\"]], \"type\": \"heatmap\"}], \"heatmapgl\": [{\"colorbar\": {\"outlinewidth\": 0, \"ticks\": \"\"}, \"colorscale\": [[0.0, \"#0d0887\"], [0.1111111111111111, \"#46039f\"], [0.2222222222222222, \"#7201a8\"], [0.3333333333333333, \"#9c179e\"], [0.4444444444444444, \"#bd3786\"], [0.5555555555555556, \"#d8576b\"], [0.6666666666666666, \"#ed7953\"], [0.7777777777777778, \"#fb9f3a\"], [0.8888888888888888, \"#fdca26\"], [1.0, \"#f0f921\"]], \"type\": \"heatmapgl\"}], \"histogram\": [{\"marker\": {\"colorbar\": {\"outlinewidth\": 0, \"ticks\": \"\"}}, \"type\": \"histogram\"}], \"histogram2d\": [{\"colorbar\": {\"outlinewidth\": 0, \"ticks\": \"\"}, \"colorscale\": [[0.0, \"#0d0887\"], [0.1111111111111111, \"#46039f\"], [0.2222222222222222, \"#7201a8\"], [0.3333333333333333, \"#9c179e\"], [0.4444444444444444, \"#bd3786\"], [0.5555555555555556, \"#d8576b\"], [0.6666666666666666, \"#ed7953\"], [0.7777777777777778, \"#fb9f3a\"], [0.8888888888888888, \"#fdca26\"], [1.0, \"#f0f921\"]], \"type\": \"histogram2d\"}], \"histogram2dcontour\": [{\"colorbar\": {\"outlinewidth\": 0, \"ticks\": \"\"}, \"colorscale\": [[0.0, \"#0d0887\"], [0.1111111111111111, \"#46039f\"], [0.2222222222222222, \"#7201a8\"], [0.3333333333333333, \"#9c179e\"], [0.4444444444444444, \"#bd3786\"], [0.5555555555555556, \"#d8576b\"], [0.6666666666666666, \"#ed7953\"], [0.7777777777777778, \"#fb9f3a\"], [0.8888888888888888, \"#fdca26\"], [1.0, \"#f0f921\"]], \"type\": \"histogram2dcontour\"}], \"mesh3d\": [{\"colorbar\": {\"outlinewidth\": 0, \"ticks\": \"\"}, \"type\": \"mesh3d\"}], \"parcoords\": [{\"line\": {\"colorbar\": {\"outlinewidth\": 0, \"ticks\": \"\"}}, \"type\": \"parcoords\"}], \"pie\": [{\"automargin\": true, \"type\": \"pie\"}], \"scatter\": [{\"marker\": {\"colorbar\": {\"outlinewidth\": 0, \"ticks\": \"\"}}, \"type\": \"scatter\"}], \"scatter3d\": [{\"line\": {\"colorbar\": {\"outlinewidth\": 0, \"ticks\": \"\"}}, \"marker\": {\"colorbar\": {\"outlinewidth\": 0, \"ticks\": \"\"}}, \"type\": \"scatter3d\"}], \"scattercarpet\": [{\"marker\": {\"colorbar\": {\"outlinewidth\": 0, \"ticks\": \"\"}}, \"type\": \"scattercarpet\"}], \"scattergeo\": [{\"marker\": {\"colorbar\": {\"outlinewidth\": 0, \"ticks\": \"\"}}, \"type\": \"scattergeo\"}], \"scattergl\": [{\"marker\": {\"colorbar\": {\"outlinewidth\": 0, \"ticks\": \"\"}}, \"type\": \"scattergl\"}], \"scattermapbox\": [{\"marker\": {\"colorbar\": {\"outlinewidth\": 0, \"ticks\": \"\"}}, \"type\": \"scattermapbox\"}], \"scatterpolar\": [{\"marker\": {\"colorbar\": {\"outlinewidth\": 0, \"ticks\": \"\"}}, \"type\": \"scatterpolar\"}], \"scatterpolargl\": [{\"marker\": {\"colorbar\": {\"outlinewidth\": 0, \"ticks\": \"\"}}, \"type\": \"scatterpolargl\"}], \"scatterternary\": [{\"marker\": {\"colorbar\": {\"outlinewidth\": 0, \"ticks\": \"\"}}, \"type\": \"scatterternary\"}], \"surface\": [{\"colorbar\": {\"outlinewidth\": 0, \"ticks\": \"\"}, \"colorscale\": [[0.0, \"#0d0887\"], [0.1111111111111111, \"#46039f\"], [0.2222222222222222, \"#7201a8\"], [0.3333333333333333, \"#9c179e\"], [0.4444444444444444, \"#bd3786\"], [0.5555555555555556, \"#d8576b\"], [0.6666666666666666, \"#ed7953\"], [0.7777777777777778, \"#fb9f3a\"], [0.8888888888888888, \"#fdca26\"], [1.0, \"#f0f921\"]], \"type\": \"surface\"}], \"table\": [{\"cells\": {\"fill\": {\"color\": \"#EBF0F8\"}, \"line\": {\"color\": \"white\"}}, \"header\": {\"fill\": {\"color\": \"#C8D4E3\"}, \"line\": {\"color\": \"white\"}}, \"type\": \"table\"}]}, \"layout\": {\"annotationdefaults\": {\"arrowcolor\": \"#2a3f5f\", \"arrowhead\": 0, \"arrowwidth\": 1}, \"coloraxis\": {\"colorbar\": {\"outlinewidth\": 0, \"ticks\": \"\"}}, \"colorscale\": {\"diverging\": [[0, \"#8e0152\"], [0.1, \"#c51b7d\"], [0.2, \"#de77ae\"], [0.3, \"#f1b6da\"], [0.4, \"#fde0ef\"], [0.5, \"#f7f7f7\"], [0.6, \"#e6f5d0\"], [0.7, \"#b8e186\"], [0.8, \"#7fbc41\"], [0.9, \"#4d9221\"], [1, \"#276419\"]], \"sequential\": [[0.0, \"#0d0887\"], [0.1111111111111111, \"#46039f\"], [0.2222222222222222, \"#7201a8\"], [0.3333333333333333, \"#9c179e\"], [0.4444444444444444, \"#bd3786\"], [0.5555555555555556, \"#d8576b\"], [0.6666666666666666, \"#ed7953\"], [0.7777777777777778, \"#fb9f3a\"], [0.8888888888888888, \"#fdca26\"], [1.0, \"#f0f921\"]], \"sequentialminus\": [[0.0, \"#0d0887\"], [0.1111111111111111, \"#46039f\"], [0.2222222222222222, \"#7201a8\"], [0.3333333333333333, \"#9c179e\"], [0.4444444444444444, \"#bd3786\"], [0.5555555555555556, \"#d8576b\"], [0.6666666666666666, \"#ed7953\"], [0.7777777777777778, \"#fb9f3a\"], [0.8888888888888888, \"#fdca26\"], [1.0, \"#f0f921\"]]}, \"colorway\": [\"#636efa\", \"#EF553B\", \"#00cc96\", \"#ab63fa\", \"#FFA15A\", \"#19d3f3\", \"#FF6692\", \"#B6E880\", \"#FF97FF\", \"#FECB52\"], \"font\": {\"color\": \"#2a3f5f\"}, \"geo\": {\"bgcolor\": \"white\", \"lakecolor\": \"white\", \"landcolor\": \"#E5ECF6\", \"showlakes\": true, \"showland\": true, \"subunitcolor\": \"white\"}, \"hoverlabel\": {\"align\": \"left\"}, \"hovermode\": \"closest\", \"mapbox\": {\"style\": \"light\"}, \"paper_bgcolor\": \"white\", \"plot_bgcolor\": \"#E5ECF6\", \"polar\": {\"angularaxis\": {\"gridcolor\": \"white\", \"linecolor\": \"white\", \"ticks\": \"\"}, \"bgcolor\": \"#E5ECF6\", \"radialaxis\": {\"gridcolor\": \"white\", \"linecolor\": \"white\", \"ticks\": \"\"}}, \"scene\": {\"xaxis\": {\"backgroundcolor\": \"#E5ECF6\", \"gridcolor\": \"white\", \"gridwidth\": 2, \"linecolor\": \"white\", \"showbackground\": true, \"ticks\": \"\", \"zerolinecolor\": \"white\"}, \"yaxis\": {\"backgroundcolor\": \"#E5ECF6\", \"gridcolor\": \"white\", \"gridwidth\": 2, \"linecolor\": \"white\", \"showbackground\": true, \"ticks\": \"\", \"zerolinecolor\": \"white\"}, \"zaxis\": {\"backgroundcolor\": \"#E5ECF6\", \"gridcolor\": \"white\", \"gridwidth\": 2, \"linecolor\": \"white\", \"showbackground\": true, \"ticks\": \"\", \"zerolinecolor\": \"white\"}}, \"shapedefaults\": {\"line\": {\"color\": \"#2a3f5f\"}}, \"ternary\": {\"aaxis\": {\"gridcolor\": \"white\", \"linecolor\": \"white\", \"ticks\": \"\"}, \"baxis\": {\"gridcolor\": \"white\", \"linecolor\": \"white\", \"ticks\": \"\"}, \"bgcolor\": \"#E5ECF6\", \"caxis\": {\"gridcolor\": \"white\", \"linecolor\": \"white\", \"ticks\": \"\"}}, \"title\": {\"x\": 0.05}, \"xaxis\": {\"automargin\": true, \"gridcolor\": \"white\", \"linecolor\": \"white\", \"ticks\": \"\", \"title\": {\"standoff\": 15}, \"zerolinecolor\": \"white\", \"zerolinewidth\": 2}, \"yaxis\": {\"automargin\": true, \"gridcolor\": \"white\", \"linecolor\": \"white\", \"ticks\": \"\", \"title\": {\"standoff\": 15}, \"zerolinecolor\": \"white\", \"zerolinewidth\": 2}}}, \"xaxis\": {\"anchor\": \"y\", \"domain\": [0.0, 1.0], \"title\": {\"text\": \"text_size\"}}, \"yaxis\": {\"anchor\": \"x\", \"categoryarray\": [\"rec.sport.hockey\", \"soc.religion.christian\", \"rec.autos\"], \"categoryorder\": \"array\", \"domain\": [0.0, 1.0], \"title\": {\"text\": \"title\"}}},\n",
              "                        {\"responsive\": true}\n",
              "                    ).then(function(){\n",
              "                            \n",
              "var gd = document.getElementById('e29962cf-e138-4d8c-840d-4caeb4a44927');\n",
              "var x = new MutationObserver(function (mutations, observer) {{\n",
              "        var display = window.getComputedStyle(gd).display;\n",
              "        if (!display || display === 'none') {{\n",
              "            console.log([gd, 'removed!']);\n",
              "            Plotly.purge(gd);\n",
              "            observer.disconnect();\n",
              "        }}\n",
              "}});\n",
              "\n",
              "// Listen for the removal of the full notebook cells\n",
              "var notebookContainer = gd.closest('#notebook-container');\n",
              "if (notebookContainer) {{\n",
              "    x.observe(notebookContainer, {childList: true});\n",
              "}}\n",
              "\n",
              "// Listen for the clearing of the current output cell\n",
              "var outputEl = gd.closest('.output');\n",
              "if (outputEl) {{\n",
              "    x.observe(outputEl, {childList: true});\n",
              "}}\n",
              "\n",
              "                        })\n",
              "                };\n",
              "                \n",
              "            </script>\n",
              "        </div>\n",
              "</body>\n",
              "</html>"
            ]
          },
          "metadata": {
            "tags": []
          }
        }
      ]
    },
    {
      "cell_type": "markdown",
      "metadata": {
        "id": "KXt6T07DJCRa",
        "colab_type": "text"
      },
      "source": [
        "Here we can observe that the texts for the different categories have very different lengths.\n",
        "\n",
        "* The autos category has short text compared to other categories. **75%** of the texts are less than 160 tokens in length (before cleaning).\n",
        "\n",
        "* Text about religion are generally longer in this corpus.  **50% of them have a length greater than 160 tokens**. \n"
      ]
    },
    {
      "cell_type": "markdown",
      "metadata": {
        "id": "xTSAglXrCk64",
        "colab_type": "text"
      },
      "source": [
        "So our texts, before we applied the cleaning, have on average 269 tokens. Let's see after cleaning. "
      ]
    },
    {
      "cell_type": "code",
      "metadata": {
        "id": "wmK19IZ7C4da",
        "colab_type": "code",
        "colab": {}
      },
      "source": [
        "cleaned_text = news.text.apply(prepareText)"
      ],
      "execution_count": null,
      "outputs": []
    },
    {
      "cell_type": "code",
      "metadata": {
        "id": "MMaBSTkSDWX6",
        "colab_type": "code",
        "colab": {}
      },
      "source": [
        "news['cleaned_text'] = cleaned_text"
      ],
      "execution_count": null,
      "outputs": []
    },
    {
      "cell_type": "code",
      "metadata": {
        "id": "mLzH9pjBCj9b",
        "colab_type": "code",
        "colab": {}
      },
      "source": [
        "cleaned_text_size = [len(tokens) for tokens in news.cleaned_text]"
      ],
      "execution_count": null,
      "outputs": []
    },
    {
      "cell_type": "code",
      "metadata": {
        "id": "nNCQso8bDcku",
        "colab_type": "code",
        "colab": {}
      },
      "source": [
        "news['cleaned_text_size'] = cleaned_text_size"
      ],
      "execution_count": null,
      "outputs": []
    },
    {
      "cell_type": "code",
      "metadata": {
        "id": "H1ve6ynwDh5n",
        "colab_type": "code",
        "colab": {
          "base_uri": "https://localhost:8080/",
          "height": 170
        },
        "outputId": "0e008dfa-7d77-45bc-dcae-e35411094472"
      },
      "source": [
        "news.cleaned_text_size.describe()"
      ],
      "execution_count": null,
      "outputs": [
        {
          "output_type": "execute_result",
          "data": {
            "text/plain": [
              "count    1793.000000\n",
              "mean       79.447295\n",
              "std       190.363558\n",
              "min         0.000000\n",
              "25%        18.000000\n",
              "50%        41.000000\n",
              "75%        82.000000\n",
              "max      6158.000000\n",
              "Name: cleaned_text_size, dtype: float64"
            ]
          },
          "metadata": {
            "tags": []
          },
          "execution_count": 32
        }
      ]
    },
    {
      "cell_type": "code",
      "metadata": {
        "id": "R52q-prrGol_",
        "colab_type": "code",
        "colab": {
          "base_uri": "https://localhost:8080/",
          "height": 542
        },
        "outputId": "7f703b70-3c5a-454c-8920-33e00cbe9bba"
      },
      "source": [
        "import plotly.express as px\n",
        "\n",
        "px.box(news, x='cleaned_text_size', y='title', color='title',  orientation='h', category_orders={'title' : ['rec.autos', 'soc.religion.christian', 'rec.sport.hockey']}, labels={'title' : 'Thème', 'cleaned_text_size' : 'Nombre de mot par texte'})"
      ],
      "execution_count": null,
      "outputs": [
        {
          "output_type": "display_data",
          "data": {
            "text/html": [
              "<html>\n",
              "<head><meta charset=\"utf-8\" /></head>\n",
              "<body>\n",
              "    <div>\n",
              "            <script src=\"https://cdnjs.cloudflare.com/ajax/libs/mathjax/2.7.5/MathJax.js?config=TeX-AMS-MML_SVG\"></script><script type=\"text/javascript\">if (window.MathJax) {MathJax.Hub.Config({SVG: {font: \"STIX-Web\"}});}</script>\n",
              "                <script type=\"text/javascript\">window.PlotlyConfig = {MathJaxConfig: 'local'};</script>\n",
              "        <script src=\"https://cdn.plot.ly/plotly-latest.min.js\"></script>    \n",
              "            <div id=\"35259b0e-611d-4e7b-8d54-24a8a07120bb\" class=\"plotly-graph-div\" style=\"height:525px; width:100%;\"></div>\n",
              "            <script type=\"text/javascript\">\n",
              "                \n",
              "                    window.PLOTLYENV=window.PLOTLYENV || {};\n",
              "                    \n",
              "                if (document.getElementById(\"35259b0e-611d-4e7b-8d54-24a8a07120bb\")) {\n",
              "                    Plotly.newPlot(\n",
              "                        '35259b0e-611d-4e7b-8d54-24a8a07120bb',\n",
              "                        [{\"alignmentgroup\": \"True\", \"hoverlabel\": {\"namelength\": 0}, \"hovertemplate\": \"Th\\u00e8me=%{y}<br>Nombre de mot par texte=%{x}\", \"legendgroup\": \"Th\\u00e8me=rec.autos\", \"marker\": {\"color\": \"#636efa\"}, \"name\": \"Th\\u00e8me=rec.autos\", \"notched\": false, \"offsetgroup\": \"Th\\u00e8me=rec.autos\", \"orientation\": \"h\", \"showlegend\": true, \"type\": \"box\", \"x\": [32, 602, 39, 156, 29, 42, 15, 82, 42, 11, 17, 14, 22, 102, 15, 18, 19, 12, 6, 40, 2, 58, 14, 51, 19, 16, 18, 28, 17, 75, 77, 22, 75, 13, 66, 27, 14, 29, 0, 0, 51, 123, 26, 0, 0, 0, 75, 160, 38, 25, 72, 23, 57, 43, 31, 99, 59, 102, 19, 140, 29, 13, 49, 47, 83, 19, 53, 88, 0, 246, 32, 13, 887, 42, 34, 22, 42, 21, 13, 2, 22, 38, 27, 14, 82, 125, 225, 62, 32, 49, 35, 17, 19, 64, 128, 27, 28, 38, 10, 57, 16, 5, 4, 7, 86, 8, 21, 27, 60, 26, 31, 46, 17, 28, 8, 36, 59, 31, 7, 17, 112, 14, 12, 83, 296, 17, 34, 0, 16, 84, 117, 0, 26, 0, 44, 19, 0, 22, 40, 18, 11, 5, 56, 339, 31, 63, 1, 12, 29, 83, 65, 20, 13, 42, 32, 70, 62, 44, 48, 27, 17, 39, 25, 100, 25, 27, 10, 83, 18, 64, 19, 8, 0, 55, 16, 217, 41, 32, 135, 27, 37, 77, 18, 39, 8, 23, 2, 0, 46, 384, 2, 140, 26, 48, 16, 48, 1, 23, 19, 0, 23, 54, 76, 446, 114, 2, 67, 0, 58, 46, 13, 16, 124, 36, 50, 7, 21, 31, 28, 0, 24, 15, 23, 12, 129, 13, 29, 38, 0, 920, 106, 30, 33, 73, 18, 5, 5, 17, 4, 47, 144, 20, 71, 46, 93, 63, 8, 73, 2, 60, 44, 35, 93, 0, 7, 132, 40, 17, 41, 13, 0, 15, 14, 23, 100, 200, 11, 29, 24, 13, 13, 29, 6, 37, 22, 26, 16, 96, 31, 95, 25, 91, 20, 29, 9, 53, 17, 33, 22, 50, 107, 18, 14, 127, 53, 63, 54, 3, 32, 19, 0, 358, 51, 23, 83, 72, 199, 48, 76, 6, 0, 20, 0, 82, 150, 69, 16, 101, 2064, 4, 52, 38, 42, 44, 251, 20, 147, 61, 19, 10, 65, 23, 4, 5, 23, 4, 23, 2, 4, 8, 16, 132, 27, 25, 235, 80, 12, 12, 30, 0, 35, 91, 6, 54, 26, 46, 50, 6, 0, 17, 18, 10, 21, 17, 2, 73, 0, 26, 7, 21, 3, 24, 53, 6, 14, 0, 21, 41, 26, 15, 19, 12, 30, 32, 84, 8, 59, 6, 9, 8, 7, 62, 20, 4, 28, 78, 15, 16, 36, 38, 36, 23, 19, 18, 32, 21, 22, 14, 49, 36, 9, 0, 52, 40, 66, 74, 45, 9, 12, 16, 84, 15, 24, 54, 8, 6, 21, 62, 22, 5, 60, 19, 98, 30, 13, 17, 103, 40, 28, 31, 8, 10, 45, 10, 17, 31, 37, 75, 7, 10, 15, 25, 27, 27, 70, 19, 59, 74, 34, 57, 30, 26, 13, 11, 103, 76, 40, 24, 79, 12, 56, 201, 24, 45, 22, 31, 9, 67, 111, 21, 10, 18, 21, 78, 34, 82, 31, 11, 24, 37, 0, 79, 49, 21, 60, 3, 91, 63, 59, 0, 72, 15, 82, 56, 34, 16, 40, 148, 43, 29, 63, 90, 67, 6, 39, 69, 18, 43, 33, 1, 38, 44, 46, 49, 10, 14, 50, 16, 2, 13, 82, 32, 3, 76, 0, 39, 42, 28, 36, 23, 45, 37, 9, 36, 17, 25, 19, 0, 29, 21, 15, 46, 14, 4, 68, 2, 46, 30, 14, 26, 32, 23, 35, 26, 79, 5, 20, 19, 8, 29, 178, 46, 26, 57, 23, 40, 78, 74, 0, 32, 69, 56, 50, 142, 10, 66, 19, 35, 114, 0, 84, 15, 44, 46], \"x0\": \" \", \"xaxis\": \"x\", \"y\": [\"rec.autos\", \"rec.autos\", \"rec.autos\", \"rec.autos\", \"rec.autos\", \"rec.autos\", \"rec.autos\", \"rec.autos\", \"rec.autos\", \"rec.autos\", \"rec.autos\", \"rec.autos\", \"rec.autos\", \"rec.autos\", \"rec.autos\", \"rec.autos\", \"rec.autos\", \"rec.autos\", \"rec.autos\", \"rec.autos\", \"rec.autos\", \"rec.autos\", \"rec.autos\", \"rec.autos\", \"rec.autos\", \"rec.autos\", \"rec.autos\", \"rec.autos\", \"rec.autos\", \"rec.autos\", \"rec.autos\", \"rec.autos\", \"rec.autos\", \"rec.autos\", \"rec.autos\", \"rec.autos\", \"rec.autos\", \"rec.autos\", \"rec.autos\", \"rec.autos\", \"rec.autos\", \"rec.autos\", \"rec.autos\", \"rec.autos\", \"rec.autos\", \"rec.autos\", \"rec.autos\", \"rec.autos\", \"rec.autos\", \"rec.autos\", \"rec.autos\", \"rec.autos\", \"rec.autos\", \"rec.autos\", \"rec.autos\", \"rec.autos\", \"rec.autos\", \"rec.autos\", \"rec.autos\", \"rec.autos\", \"rec.autos\", \"rec.autos\", \"rec.autos\", \"rec.autos\", \"rec.autos\", \"rec.autos\", \"rec.autos\", \"rec.autos\", \"rec.autos\", \"rec.autos\", \"rec.autos\", \"rec.autos\", \"rec.autos\", \"rec.autos\", \"rec.autos\", \"rec.autos\", \"rec.autos\", \"rec.autos\", \"rec.autos\", \"rec.autos\", \"rec.autos\", \"rec.autos\", \"rec.autos\", \"rec.autos\", \"rec.autos\", \"rec.autos\", \"rec.autos\", \"rec.autos\", \"rec.autos\", \"rec.autos\", \"rec.autos\", \"rec.autos\", \"rec.autos\", \"rec.autos\", \"rec.autos\", \"rec.autos\", \"rec.autos\", \"rec.autos\", \"rec.autos\", \"rec.autos\", \"rec.autos\", \"rec.autos\", \"rec.autos\", \"rec.autos\", \"rec.autos\", \"rec.autos\", \"rec.autos\", \"rec.autos\", \"rec.autos\", \"rec.autos\", \"rec.autos\", \"rec.autos\", \"rec.autos\", \"rec.autos\", \"rec.autos\", \"rec.autos\", \"rec.autos\", \"rec.autos\", \"rec.autos\", \"rec.autos\", \"rec.autos\", \"rec.autos\", \"rec.autos\", \"rec.autos\", \"rec.autos\", \"rec.autos\", \"rec.autos\", \"rec.autos\", \"rec.autos\", \"rec.autos\", \"rec.autos\", \"rec.autos\", \"rec.autos\", \"rec.autos\", \"rec.autos\", \"rec.autos\", \"rec.autos\", \"rec.autos\", \"rec.autos\", \"rec.autos\", \"rec.autos\", \"rec.autos\", \"rec.autos\", \"rec.autos\", \"rec.autos\", \"rec.autos\", \"rec.autos\", \"rec.autos\", \"rec.autos\", \"rec.autos\", \"rec.autos\", \"rec.autos\", \"rec.autos\", \"rec.autos\", \"rec.autos\", \"rec.autos\", \"rec.autos\", \"rec.autos\", \"rec.autos\", \"rec.autos\", \"rec.autos\", \"rec.autos\", \"rec.autos\", \"rec.autos\", \"rec.autos\", \"rec.autos\", \"rec.autos\", \"rec.autos\", \"rec.autos\", \"rec.autos\", \"rec.autos\", \"rec.autos\", \"rec.autos\", \"rec.autos\", \"rec.autos\", \"rec.autos\", \"rec.autos\", \"rec.autos\", \"rec.autos\", \"rec.autos\", \"rec.autos\", \"rec.autos\", \"rec.autos\", \"rec.autos\", \"rec.autos\", \"rec.autos\", \"rec.autos\", \"rec.autos\", \"rec.autos\", \"rec.autos\", \"rec.autos\", \"rec.autos\", \"rec.autos\", \"rec.autos\", \"rec.autos\", \"rec.autos\", \"rec.autos\", \"rec.autos\", \"rec.autos\", \"rec.autos\", \"rec.autos\", \"rec.autos\", \"rec.autos\", \"rec.autos\", \"rec.autos\", \"rec.autos\", \"rec.autos\", \"rec.autos\", \"rec.autos\", \"rec.autos\", \"rec.autos\", \"rec.autos\", \"rec.autos\", \"rec.autos\", \"rec.autos\", \"rec.autos\", \"rec.autos\", \"rec.autos\", \"rec.autos\", \"rec.autos\", \"rec.autos\", \"rec.autos\", \"rec.autos\", \"rec.autos\", \"rec.autos\", \"rec.autos\", \"rec.autos\", \"rec.autos\", \"rec.autos\", \"rec.autos\", \"rec.autos\", \"rec.autos\", \"rec.autos\", \"rec.autos\", \"rec.autos\", \"rec.autos\", \"rec.autos\", \"rec.autos\", \"rec.autos\", \"rec.autos\", \"rec.autos\", \"rec.autos\", \"rec.autos\", \"rec.autos\", \"rec.autos\", \"rec.autos\", \"rec.autos\", \"rec.autos\", \"rec.autos\", \"rec.autos\", \"rec.autos\", \"rec.autos\", \"rec.autos\", \"rec.autos\", \"rec.autos\", \"rec.autos\", \"rec.autos\", \"rec.autos\", \"rec.autos\", \"rec.autos\", \"rec.autos\", \"rec.autos\", \"rec.autos\", \"rec.autos\", \"rec.autos\", \"rec.autos\", \"rec.autos\", \"rec.autos\", \"rec.autos\", \"rec.autos\", \"rec.autos\", \"rec.autos\", \"rec.autos\", \"rec.autos\", \"rec.autos\", \"rec.autos\", \"rec.autos\", \"rec.autos\", \"rec.autos\", \"rec.autos\", \"rec.autos\", \"rec.autos\", \"rec.autos\", \"rec.autos\", \"rec.autos\", \"rec.autos\", \"rec.autos\", \"rec.autos\", \"rec.autos\", \"rec.autos\", \"rec.autos\", \"rec.autos\", \"rec.autos\", \"rec.autos\", \"rec.autos\", \"rec.autos\", \"rec.autos\", \"rec.autos\", \"rec.autos\", \"rec.autos\", \"rec.autos\", \"rec.autos\", \"rec.autos\", \"rec.autos\", \"rec.autos\", \"rec.autos\", \"rec.autos\", \"rec.autos\", \"rec.autos\", \"rec.autos\", \"rec.autos\", \"rec.autos\", \"rec.autos\", \"rec.autos\", \"rec.autos\", \"rec.autos\", \"rec.autos\", \"rec.autos\", \"rec.autos\", \"rec.autos\", \"rec.autos\", \"rec.autos\", \"rec.autos\", \"rec.autos\", \"rec.autos\", \"rec.autos\", \"rec.autos\", \"rec.autos\", \"rec.autos\", \"rec.autos\", \"rec.autos\", \"rec.autos\", \"rec.autos\", \"rec.autos\", \"rec.autos\", \"rec.autos\", \"rec.autos\", \"rec.autos\", \"rec.autos\", \"rec.autos\", \"rec.autos\", \"rec.autos\", \"rec.autos\", \"rec.autos\", \"rec.autos\", \"rec.autos\", \"rec.autos\", \"rec.autos\", \"rec.autos\", \"rec.autos\", \"rec.autos\", \"rec.autos\", \"rec.autos\", \"rec.autos\", \"rec.autos\", \"rec.autos\", \"rec.autos\", \"rec.autos\", \"rec.autos\", \"rec.autos\", \"rec.autos\", \"rec.autos\", \"rec.autos\", \"rec.autos\", \"rec.autos\", \"rec.autos\", \"rec.autos\", \"rec.autos\", \"rec.autos\", \"rec.autos\", \"rec.autos\", \"rec.autos\", \"rec.autos\", \"rec.autos\", \"rec.autos\", \"rec.autos\", \"rec.autos\", \"rec.autos\", \"rec.autos\", \"rec.autos\", \"rec.autos\", \"rec.autos\", \"rec.autos\", \"rec.autos\", \"rec.autos\", \"rec.autos\", \"rec.autos\", \"rec.autos\", \"rec.autos\", \"rec.autos\", \"rec.autos\", \"rec.autos\", \"rec.autos\", \"rec.autos\", \"rec.autos\", \"rec.autos\", \"rec.autos\", \"rec.autos\", \"rec.autos\", \"rec.autos\", \"rec.autos\", \"rec.autos\", \"rec.autos\", \"rec.autos\", \"rec.autos\", \"rec.autos\", \"rec.autos\", \"rec.autos\", \"rec.autos\", \"rec.autos\", \"rec.autos\", \"rec.autos\", \"rec.autos\", \"rec.autos\", \"rec.autos\", \"rec.autos\", \"rec.autos\", \"rec.autos\", \"rec.autos\", \"rec.autos\", \"rec.autos\", \"rec.autos\", \"rec.autos\", \"rec.autos\", \"rec.autos\", \"rec.autos\", \"rec.autos\", \"rec.autos\", \"rec.autos\", \"rec.autos\", \"rec.autos\", \"rec.autos\", \"rec.autos\", \"rec.autos\", \"rec.autos\", \"rec.autos\", \"rec.autos\", \"rec.autos\", \"rec.autos\", \"rec.autos\", \"rec.autos\", \"rec.autos\", \"rec.autos\", \"rec.autos\", \"rec.autos\", \"rec.autos\", \"rec.autos\", \"rec.autos\", \"rec.autos\", \"rec.autos\", \"rec.autos\", \"rec.autos\", \"rec.autos\", \"rec.autos\", \"rec.autos\", \"rec.autos\", \"rec.autos\", \"rec.autos\", \"rec.autos\", \"rec.autos\", \"rec.autos\", \"rec.autos\", \"rec.autos\", \"rec.autos\", \"rec.autos\", \"rec.autos\", \"rec.autos\", \"rec.autos\", \"rec.autos\", \"rec.autos\", \"rec.autos\", \"rec.autos\", \"rec.autos\", \"rec.autos\", \"rec.autos\", \"rec.autos\", \"rec.autos\", \"rec.autos\", \"rec.autos\", \"rec.autos\", \"rec.autos\", \"rec.autos\", \"rec.autos\", \"rec.autos\", \"rec.autos\", \"rec.autos\", \"rec.autos\", \"rec.autos\", \"rec.autos\", \"rec.autos\", \"rec.autos\", \"rec.autos\", \"rec.autos\", \"rec.autos\", \"rec.autos\", \"rec.autos\", \"rec.autos\", \"rec.autos\", \"rec.autos\", \"rec.autos\", \"rec.autos\", \"rec.autos\", \"rec.autos\", \"rec.autos\", \"rec.autos\", \"rec.autos\", \"rec.autos\", \"rec.autos\", \"rec.autos\", \"rec.autos\", \"rec.autos\", \"rec.autos\", \"rec.autos\", \"rec.autos\", \"rec.autos\", \"rec.autos\", \"rec.autos\", \"rec.autos\", \"rec.autos\", \"rec.autos\", \"rec.autos\", \"rec.autos\", \"rec.autos\", \"rec.autos\", \"rec.autos\", \"rec.autos\", \"rec.autos\", \"rec.autos\", \"rec.autos\", \"rec.autos\", \"rec.autos\", \"rec.autos\", \"rec.autos\", \"rec.autos\", \"rec.autos\", \"rec.autos\", \"rec.autos\", \"rec.autos\", \"rec.autos\", \"rec.autos\", \"rec.autos\", \"rec.autos\", \"rec.autos\", \"rec.autos\", \"rec.autos\", \"rec.autos\", \"rec.autos\", \"rec.autos\", \"rec.autos\", \"rec.autos\", \"rec.autos\", \"rec.autos\", \"rec.autos\", \"rec.autos\", \"rec.autos\", \"rec.autos\", \"rec.autos\", \"rec.autos\", \"rec.autos\", \"rec.autos\", \"rec.autos\", \"rec.autos\", \"rec.autos\", \"rec.autos\", \"rec.autos\", \"rec.autos\", \"rec.autos\", \"rec.autos\", \"rec.autos\", \"rec.autos\", \"rec.autos\", \"rec.autos\", \"rec.autos\", \"rec.autos\", \"rec.autos\", \"rec.autos\", \"rec.autos\", \"rec.autos\", \"rec.autos\", \"rec.autos\", \"rec.autos\", \"rec.autos\", \"rec.autos\", \"rec.autos\", \"rec.autos\", \"rec.autos\", \"rec.autos\", \"rec.autos\", \"rec.autos\", \"rec.autos\", \"rec.autos\", \"rec.autos\", \"rec.autos\", \"rec.autos\"], \"y0\": \" \", \"yaxis\": \"y\"}, {\"alignmentgroup\": \"True\", \"hoverlabel\": {\"namelength\": 0}, \"hovertemplate\": \"Th\\u00e8me=%{y}<br>Nombre de mot par texte=%{x}\", \"legendgroup\": \"Th\\u00e8me=soc.religion.christian\", \"marker\": {\"color\": \"#EF553B\"}, \"name\": \"Th\\u00e8me=soc.religion.christian\", \"notched\": false, \"offsetgroup\": \"Th\\u00e8me=soc.religion.christian\", \"orientation\": \"h\", \"showlegend\": true, \"type\": \"box\", \"x\": [123, 68, 139, 63, 39, 43, 15, 92, 87, 272, 264, 135, 49, 22, 47, 62, 410, 6, 89, 2, 553, 67, 29, 30, 9, 68, 96, 10, 275, 57, 60, 78, 0, 273, 90, 53, 57, 244, 218, 20, 37, 268, 265, 82, 119, 16, 60, 18, 344, 37, 24, 47, 67, 139, 70, 267, 87, 75, 63, 16, 58, 65, 28, 25, 183, 42, 201, 82, 18, 49, 47, 47, 46, 28, 101, 98, 492, 147, 123, 26, 21, 21, 4, 51, 98, 249, 37, 142, 88, 94, 67, 5, 417, 20, 29, 48, 20, 44, 292, 99, 36, 55, 82, 32, 66, 44, 57, 61, 35, 0, 19, 41, 200, 8, 21, 85, 149, 27, 0, 239, 58, 517, 118, 105, 74, 70, 85, 70, 89, 13, 25, 24, 20, 255, 40, 56, 63, 390, 31, 60, 67, 57, 157, 59, 128, 187, 0, 23, 49, 81, 55, 82, 69, 219, 45, 177, 80, 35, 15, 70, 158, 21, 60, 104, 325, 0, 105, 48, 42, 177, 66, 60, 10, 28, 42, 169, 419, 0, 58, 49, 26, 415, 71, 23, 3, 44, 53, 65, 130, 6, 121, 119, 109, 50, 58, 97, 58, 172, 139, 162, 72, 141, 10, 55, 136, 78, 69, 5, 64, 70, 43, 418, 153, 791, 117, 61, 30, 93, 44, 481, 55, 48, 140, 74, 70, 93, 209, 148, 78, 19, 77, 65, 153, 4, 84, 52, 16, 75, 170, 135, 10, 23, 218, 128, 106, 25, 0, 179, 209, 25, 64, 74, 0, 45, 87, 59, 31, 23, 29, 65, 53, 14, 22, 20, 129, 408, 208, 85, 77, 124, 320, 182, 42, 925, 280, 48, 21, 711, 17, 73, 1, 11, 156, 138, 33, 136, 475, 1117, 54, 131, 29, 69, 282, 361, 43, 12, 138, 77, 37, 137, 114, 267, 114, 87, 6, 139, 37, 114, 93, 8, 923, 106, 116, 38, 80, 39, 322, 163, 280, 114, 84, 51, 94, 21, 73, 6, 48, 69, 39, 32, 194, 183, 20, 42, 9, 136, 50, 330, 63, 117, 32, 90, 19, 4, 70, 127, 56, 26, 9, 15, 35, 10, 55, 267, 23, 16, 50, 163, 11, 0, 107, 44, 18, 3, 686, 480, 152, 346, 4, 24, 14, 81, 69, 24, 61, 102, 10, 215, 335, 109, 10, 38, 45, 55, 305, 50, 21, 5, 12, 45, 312, 75, 191, 22, 42, 111, 13, 37, 371, 53, 125, 42, 2, 7, 211, 55, 5, 41, 26, 49, 286, 31, 120, 288, 210, 16, 146, 70, 24, 447, 16, 55, 6, 109, 40, 112, 48, 78, 142, 62, 17, 10, 185, 30, 21, 55, 209, 119, 78, 51, 90, 178, 27, 25, 102, 27, 97, 49, 177, 101, 16, 23, 21, 6, 96, 62, 6, 413, 46, 29, 32, 542, 59, 13, 67, 154, 22, 147, 129, 26, 35, 46, 12, 25, 49, 48, 119, 16, 24, 569, 61, 50, 45, 128, 164, 51, 46, 124, 10, 34, 20, 20, 63, 33, 94, 60, 47, 50, 107, 52, 126, 14, 112, 68, 114, 48, 37, 186, 138, 82, 187, 73, 7, 38, 39, 95, 94, 491, 173, 232, 48, 78, 65, 116, 149, 40, 65, 132, 71, 55, 112, 60, 52, 25, 297, 342, 102, 105, 87, 31, 18, 18, 103, 138, 55, 73, 216, 86, 34, 102, 10, 71, 13, 29, 491, 123, 63, 151, 189, 34, 31, 256, 27, 156, 100, 53, 10, 181, 401, 38, 114, 36, 212, 142, 11, 77, 274, 26, 100, 13, 214, 29, 229, 15, 82, 182, 8, 169, 46, 113, 223, 22, 176, 34, 22, 35, 64, 46, 186], \"x0\": \" \", \"xaxis\": \"x\", \"y\": [\"soc.religion.christian\", \"soc.religion.christian\", \"soc.religion.christian\", \"soc.religion.christian\", \"soc.religion.christian\", \"soc.religion.christian\", \"soc.religion.christian\", \"soc.religion.christian\", \"soc.religion.christian\", \"soc.religion.christian\", \"soc.religion.christian\", \"soc.religion.christian\", \"soc.religion.christian\", \"soc.religion.christian\", \"soc.religion.christian\", \"soc.religion.christian\", \"soc.religion.christian\", \"soc.religion.christian\", \"soc.religion.christian\", \"soc.religion.christian\", \"soc.religion.christian\", \"soc.religion.christian\", \"soc.religion.christian\", \"soc.religion.christian\", \"soc.religion.christian\", \"soc.religion.christian\", \"soc.religion.christian\", \"soc.religion.christian\", \"soc.religion.christian\", \"soc.religion.christian\", \"soc.religion.christian\", \"soc.religion.christian\", \"soc.religion.christian\", \"soc.religion.christian\", \"soc.religion.christian\", \"soc.religion.christian\", \"soc.religion.christian\", \"soc.religion.christian\", \"soc.religion.christian\", \"soc.religion.christian\", \"soc.religion.christian\", \"soc.religion.christian\", \"soc.religion.christian\", \"soc.religion.christian\", \"soc.religion.christian\", \"soc.religion.christian\", \"soc.religion.christian\", \"soc.religion.christian\", \"soc.religion.christian\", \"soc.religion.christian\", \"soc.religion.christian\", \"soc.religion.christian\", \"soc.religion.christian\", \"soc.religion.christian\", \"soc.religion.christian\", \"soc.religion.christian\", \"soc.religion.christian\", \"soc.religion.christian\", \"soc.religion.christian\", \"soc.religion.christian\", \"soc.religion.christian\", \"soc.religion.christian\", \"soc.religion.christian\", \"soc.religion.christian\", \"soc.religion.christian\", \"soc.religion.christian\", \"soc.religion.christian\", \"soc.religion.christian\", \"soc.religion.christian\", \"soc.religion.christian\", \"soc.religion.christian\", \"soc.religion.christian\", \"soc.religion.christian\", \"soc.religion.christian\", \"soc.religion.christian\", \"soc.religion.christian\", \"soc.religion.christian\", \"soc.religion.christian\", \"soc.religion.christian\", \"soc.religion.christian\", \"soc.religion.christian\", \"soc.religion.christian\", \"soc.religion.christian\", \"soc.religion.christian\", \"soc.religion.christian\", \"soc.religion.christian\", \"soc.religion.christian\", \"soc.religion.christian\", \"soc.religion.christian\", \"soc.religion.christian\", \"soc.religion.christian\", \"soc.religion.christian\", \"soc.religion.christian\", \"soc.religion.christian\", \"soc.religion.christian\", \"soc.religion.christian\", \"soc.religion.christian\", \"soc.religion.christian\", \"soc.religion.christian\", \"soc.religion.christian\", \"soc.religion.christian\", \"soc.religion.christian\", \"soc.religion.christian\", \"soc.religion.christian\", \"soc.religion.christian\", \"soc.religion.christian\", \"soc.religion.christian\", \"soc.religion.christian\", \"soc.religion.christian\", \"soc.religion.christian\", \"soc.religion.christian\", \"soc.religion.christian\", \"soc.religion.christian\", \"soc.religion.christian\", \"soc.religion.christian\", \"soc.religion.christian\", \"soc.religion.christian\", \"soc.religion.christian\", \"soc.religion.christian\", \"soc.religion.christian\", \"soc.religion.christian\", \"soc.religion.christian\", \"soc.religion.christian\", \"soc.religion.christian\", \"soc.religion.christian\", \"soc.religion.christian\", \"soc.religion.christian\", \"soc.religion.christian\", \"soc.religion.christian\", \"soc.religion.christian\", \"soc.religion.christian\", \"soc.religion.christian\", \"soc.religion.christian\", \"soc.religion.christian\", \"soc.religion.christian\", \"soc.religion.christian\", \"soc.religion.christian\", \"soc.religion.christian\", \"soc.religion.christian\", \"soc.religion.christian\", \"soc.religion.christian\", \"soc.religion.christian\", \"soc.religion.christian\", \"soc.religion.christian\", \"soc.religion.christian\", \"soc.religion.christian\", \"soc.religion.christian\", \"soc.religion.christian\", \"soc.religion.christian\", \"soc.religion.christian\", \"soc.religion.christian\", \"soc.religion.christian\", \"soc.religion.christian\", \"soc.religion.christian\", \"soc.religion.christian\", \"soc.religion.christian\", \"soc.religion.christian\", \"soc.religion.christian\", \"soc.religion.christian\", \"soc.religion.christian\", \"soc.religion.christian\", \"soc.religion.christian\", \"soc.religion.christian\", \"soc.religion.christian\", \"soc.religion.christian\", \"soc.religion.christian\", \"soc.religion.christian\", \"soc.religion.christian\", \"soc.religion.christian\", \"soc.religion.christian\", \"soc.religion.christian\", \"soc.religion.christian\", \"soc.religion.christian\", \"soc.religion.christian\", \"soc.religion.christian\", \"soc.religion.christian\", \"soc.religion.christian\", \"soc.religion.christian\", \"soc.religion.christian\", \"soc.religion.christian\", \"soc.religion.christian\", \"soc.religion.christian\", \"soc.religion.christian\", \"soc.religion.christian\", \"soc.religion.christian\", \"soc.religion.christian\", \"soc.religion.christian\", \"soc.religion.christian\", \"soc.religion.christian\", \"soc.religion.christian\", \"soc.religion.christian\", \"soc.religion.christian\", \"soc.religion.christian\", \"soc.religion.christian\", \"soc.religion.christian\", \"soc.religion.christian\", \"soc.religion.christian\", \"soc.religion.christian\", \"soc.religion.christian\", \"soc.religion.christian\", \"soc.religion.christian\", \"soc.religion.christian\", \"soc.religion.christian\", \"soc.religion.christian\", \"soc.religion.christian\", \"soc.religion.christian\", \"soc.religion.christian\", \"soc.religion.christian\", \"soc.religion.christian\", \"soc.religion.christian\", \"soc.religion.christian\", \"soc.religion.christian\", \"soc.religion.christian\", \"soc.religion.christian\", \"soc.religion.christian\", \"soc.religion.christian\", \"soc.religion.christian\", \"soc.religion.christian\", \"soc.religion.christian\", \"soc.religion.christian\", \"soc.religion.christian\", \"soc.religion.christian\", \"soc.religion.christian\", \"soc.religion.christian\", \"soc.religion.christian\", \"soc.religion.christian\", \"soc.religion.christian\", \"soc.religion.christian\", \"soc.religion.christian\", \"soc.religion.christian\", \"soc.religion.christian\", \"soc.religion.christian\", \"soc.religion.christian\", \"soc.religion.christian\", \"soc.religion.christian\", \"soc.religion.christian\", \"soc.religion.christian\", \"soc.religion.christian\", \"soc.religion.christian\", \"soc.religion.christian\", \"soc.religion.christian\", \"soc.religion.christian\", \"soc.religion.christian\", \"soc.religion.christian\", \"soc.religion.christian\", \"soc.religion.christian\", \"soc.religion.christian\", \"soc.religion.christian\", \"soc.religion.christian\", \"soc.religion.christian\", \"soc.religion.christian\", \"soc.religion.christian\", \"soc.religion.christian\", \"soc.religion.christian\", \"soc.religion.christian\", \"soc.religion.christian\", \"soc.religion.christian\", \"soc.religion.christian\", \"soc.religion.christian\", \"soc.religion.christian\", \"soc.religion.christian\", \"soc.religion.christian\", \"soc.religion.christian\", \"soc.religion.christian\", \"soc.religion.christian\", \"soc.religion.christian\", \"soc.religion.christian\", \"soc.religion.christian\", \"soc.religion.christian\", \"soc.religion.christian\", \"soc.religion.christian\", \"soc.religion.christian\", \"soc.religion.christian\", \"soc.religion.christian\", \"soc.religion.christian\", \"soc.religion.christian\", \"soc.religion.christian\", \"soc.religion.christian\", \"soc.religion.christian\", \"soc.religion.christian\", \"soc.religion.christian\", \"soc.religion.christian\", \"soc.religion.christian\", \"soc.religion.christian\", \"soc.religion.christian\", \"soc.religion.christian\", \"soc.religion.christian\", \"soc.religion.christian\", \"soc.religion.christian\", \"soc.religion.christian\", \"soc.religion.christian\", \"soc.religion.christian\", \"soc.religion.christian\", \"soc.religion.christian\", \"soc.religion.christian\", \"soc.religion.christian\", \"soc.religion.christian\", \"soc.religion.christian\", \"soc.religion.christian\", \"soc.religion.christian\", \"soc.religion.christian\", \"soc.religion.christian\", \"soc.religion.christian\", \"soc.religion.christian\", \"soc.religion.christian\", \"soc.religion.christian\", \"soc.religion.christian\", \"soc.religion.christian\", \"soc.religion.christian\", \"soc.religion.christian\", \"soc.religion.christian\", \"soc.religion.christian\", \"soc.religion.christian\", \"soc.religion.christian\", \"soc.religion.christian\", \"soc.religion.christian\", \"soc.religion.christian\", \"soc.religion.christian\", \"soc.religion.christian\", \"soc.religion.christian\", \"soc.religion.christian\", \"soc.religion.christian\", \"soc.religion.christian\", \"soc.religion.christian\", \"soc.religion.christian\", \"soc.religion.christian\", \"soc.religion.christian\", \"soc.religion.christian\", \"soc.religion.christian\", \"soc.religion.christian\", \"soc.religion.christian\", \"soc.religion.christian\", \"soc.religion.christian\", \"soc.religion.christian\", \"soc.religion.christian\", \"soc.religion.christian\", \"soc.religion.christian\", \"soc.religion.christian\", \"soc.religion.christian\", \"soc.religion.christian\", \"soc.religion.christian\", \"soc.religion.christian\", \"soc.religion.christian\", \"soc.religion.christian\", \"soc.religion.christian\", \"soc.religion.christian\", \"soc.religion.christian\", \"soc.religion.christian\", \"soc.religion.christian\", \"soc.religion.christian\", \"soc.religion.christian\", \"soc.religion.christian\", \"soc.religion.christian\", \"soc.religion.christian\", \"soc.religion.christian\", \"soc.religion.christian\", \"soc.religion.christian\", \"soc.religion.christian\", \"soc.religion.christian\", \"soc.religion.christian\", \"soc.religion.christian\", \"soc.religion.christian\", \"soc.religion.christian\", \"soc.religion.christian\", \"soc.religion.christian\", \"soc.religion.christian\", \"soc.religion.christian\", \"soc.religion.christian\", \"soc.religion.christian\", \"soc.religion.christian\", \"soc.religion.christian\", \"soc.religion.christian\", \"soc.religion.christian\", \"soc.religion.christian\", \"soc.religion.christian\", \"soc.religion.christian\", \"soc.religion.christian\", \"soc.religion.christian\", \"soc.religion.christian\", \"soc.religion.christian\", \"soc.religion.christian\", \"soc.religion.christian\", \"soc.religion.christian\", \"soc.religion.christian\", \"soc.religion.christian\", \"soc.religion.christian\", \"soc.religion.christian\", \"soc.religion.christian\", \"soc.religion.christian\", \"soc.religion.christian\", \"soc.religion.christian\", \"soc.religion.christian\", \"soc.religion.christian\", \"soc.religion.christian\", \"soc.religion.christian\", \"soc.religion.christian\", \"soc.religion.christian\", \"soc.religion.christian\", \"soc.religion.christian\", \"soc.religion.christian\", \"soc.religion.christian\", \"soc.religion.christian\", \"soc.religion.christian\", \"soc.religion.christian\", \"soc.religion.christian\", \"soc.religion.christian\", \"soc.religion.christian\", \"soc.religion.christian\", \"soc.religion.christian\", \"soc.religion.christian\", \"soc.religion.christian\", \"soc.religion.christian\", \"soc.religion.christian\", \"soc.religion.christian\", \"soc.religion.christian\", \"soc.religion.christian\", \"soc.religion.christian\", \"soc.religion.christian\", \"soc.religion.christian\", \"soc.religion.christian\", \"soc.religion.christian\", \"soc.religion.christian\", \"soc.religion.christian\", \"soc.religion.christian\", \"soc.religion.christian\", \"soc.religion.christian\", \"soc.religion.christian\", \"soc.religion.christian\", \"soc.religion.christian\", \"soc.religion.christian\", \"soc.religion.christian\", \"soc.religion.christian\", \"soc.religion.christian\", \"soc.religion.christian\", \"soc.religion.christian\", \"soc.religion.christian\", \"soc.religion.christian\", \"soc.religion.christian\", \"soc.religion.christian\", \"soc.religion.christian\", \"soc.religion.christian\", \"soc.religion.christian\", \"soc.religion.christian\", \"soc.religion.christian\", \"soc.religion.christian\", \"soc.religion.christian\", \"soc.religion.christian\", \"soc.religion.christian\", \"soc.religion.christian\", \"soc.religion.christian\", \"soc.religion.christian\", \"soc.religion.christian\", \"soc.religion.christian\", \"soc.religion.christian\", \"soc.religion.christian\", \"soc.religion.christian\", \"soc.religion.christian\", \"soc.religion.christian\", \"soc.religion.christian\", \"soc.religion.christian\", \"soc.religion.christian\", \"soc.religion.christian\", \"soc.religion.christian\", \"soc.religion.christian\", \"soc.religion.christian\", \"soc.religion.christian\", \"soc.religion.christian\", \"soc.religion.christian\", \"soc.religion.christian\", \"soc.religion.christian\", \"soc.religion.christian\", \"soc.religion.christian\", \"soc.religion.christian\", \"soc.religion.christian\", \"soc.religion.christian\", \"soc.religion.christian\", \"soc.religion.christian\", \"soc.religion.christian\", \"soc.religion.christian\", \"soc.religion.christian\", \"soc.religion.christian\", \"soc.religion.christian\", \"soc.religion.christian\", \"soc.religion.christian\", \"soc.religion.christian\", \"soc.religion.christian\", \"soc.religion.christian\", \"soc.religion.christian\", \"soc.religion.christian\", \"soc.religion.christian\", \"soc.religion.christian\", \"soc.religion.christian\", \"soc.religion.christian\", \"soc.religion.christian\", \"soc.religion.christian\", \"soc.religion.christian\", \"soc.religion.christian\", \"soc.religion.christian\", \"soc.religion.christian\", \"soc.religion.christian\", \"soc.religion.christian\", \"soc.religion.christian\", \"soc.religion.christian\", \"soc.religion.christian\", \"soc.religion.christian\", \"soc.religion.christian\", \"soc.religion.christian\", \"soc.religion.christian\", \"soc.religion.christian\", \"soc.religion.christian\", \"soc.religion.christian\", \"soc.religion.christian\", \"soc.religion.christian\", \"soc.religion.christian\", \"soc.religion.christian\", \"soc.religion.christian\", \"soc.religion.christian\", \"soc.religion.christian\", \"soc.religion.christian\", \"soc.religion.christian\", \"soc.religion.christian\", \"soc.religion.christian\", \"soc.religion.christian\", \"soc.religion.christian\", \"soc.religion.christian\", \"soc.religion.christian\", \"soc.religion.christian\", \"soc.religion.christian\", \"soc.religion.christian\", \"soc.religion.christian\", \"soc.religion.christian\", \"soc.religion.christian\", \"soc.religion.christian\", \"soc.religion.christian\", \"soc.religion.christian\", \"soc.religion.christian\", \"soc.religion.christian\", \"soc.religion.christian\", \"soc.religion.christian\", \"soc.religion.christian\", \"soc.religion.christian\", \"soc.religion.christian\", \"soc.religion.christian\", \"soc.religion.christian\", \"soc.religion.christian\", \"soc.religion.christian\", \"soc.religion.christian\", \"soc.religion.christian\", \"soc.religion.christian\", \"soc.religion.christian\", \"soc.religion.christian\", \"soc.religion.christian\", \"soc.religion.christian\", \"soc.religion.christian\", \"soc.religion.christian\", \"soc.religion.christian\", \"soc.religion.christian\", \"soc.religion.christian\", \"soc.religion.christian\", \"soc.religion.christian\", \"soc.religion.christian\", \"soc.religion.christian\", \"soc.religion.christian\", \"soc.religion.christian\", \"soc.religion.christian\", \"soc.religion.christian\", \"soc.religion.christian\", \"soc.religion.christian\", \"soc.religion.christian\", \"soc.religion.christian\", \"soc.religion.christian\", \"soc.religion.christian\", \"soc.religion.christian\", \"soc.religion.christian\", \"soc.religion.christian\", \"soc.religion.christian\", \"soc.religion.christian\", \"soc.religion.christian\", \"soc.religion.christian\", \"soc.religion.christian\", \"soc.religion.christian\", \"soc.religion.christian\", \"soc.religion.christian\", \"soc.religion.christian\", \"soc.religion.christian\", \"soc.religion.christian\", \"soc.religion.christian\", \"soc.religion.christian\", \"soc.religion.christian\", \"soc.religion.christian\", \"soc.religion.christian\", \"soc.religion.christian\", \"soc.religion.christian\", \"soc.religion.christian\", \"soc.religion.christian\", \"soc.religion.christian\", \"soc.religion.christian\", \"soc.religion.christian\", \"soc.religion.christian\"], \"y0\": \" \", \"yaxis\": \"y\"}, {\"alignmentgroup\": \"True\", \"hoverlabel\": {\"namelength\": 0}, \"hovertemplate\": \"Th\\u00e8me=%{y}<br>Nombre de mot par texte=%{x}\", \"legendgroup\": \"Th\\u00e8me=rec.sport.hockey\", \"marker\": {\"color\": \"#00cc96\"}, \"name\": \"Th\\u00e8me=rec.sport.hockey\", \"notched\": false, \"offsetgroup\": \"Th\\u00e8me=rec.sport.hockey\", \"orientation\": \"h\", \"showlegend\": true, \"type\": \"box\", \"x\": [38, 22, 8, 13, 9, 10, 8, 168, 46, 54, 14, 19, 25, 31, 24, 45, 19, 18, 64, 74, 348, 86, 0, 70, 151, 161, 2, 39, 371, 0, 8, 34, 21, 29, 23, 34, 18, 11, 42, 13, 30, 128, 44, 521, 35, 26, 91, 26, 3, 52, 12, 172, 160, 27, 14, 151, 22, 0, 70, 73, 23, 12, 611, 88, 50, 16, 153, 31, 5, 43, 14, 76, 0, 22, 25, 22, 107, 236, 38, 11, 300, 11, 88, 62, 38, 7, 18, 50, 55, 21, 14, 41, 19, 37, 78, 83, 12, 24, 66, 83, 60, 1, 55, 3, 44, 15, 145, 69, 88, 59, 92, 59, 36, 18, 43, 16, 219, 131, 37, 16, 31, 2, 0, 55, 66, 14, 67, 20, 49, 15, 22, 28, 18, 66, 165, 25, 20, 20, 22, 50, 106, 196, 41, 4, 60, 57, 71, 4, 37, 1199, 14, 8, 26, 30, 36, 66, 60, 2, 32, 31, 23, 0, 1, 16, 9, 44, 182, 51, 84, 33, 12, 654, 69, 3, 22, 13, 8, 13, 25, 75, 79, 467, 221, 39, 21, 14, 24, 145, 22, 17, 142, 906, 22, 89, 18, 64, 63, 3, 23, 26, 12, 19, 15, 96, 9, 0, 26, 116, 2, 177, 22, 29, 82, 185, 7, 25, 10, 37, 98, 150, 60, 18, 199, 56, 122, 12, 453, 109, 77, 17, 25, 68, 50, 898, 68, 68, 112, 14, 20, 630, 0, 312, 6, 5, 185, 30, 39, 22, 13, 60, 161, 21, 62, 7, 15, 14, 31, 21, 35, 17, 13, 161, 53, 101, 17, 58, 10, 27, 27, 40, 15, 23, 36, 101, 9, 0, 27, 17, 214, 19, 58, 352, 18, 40, 39, 45, 84, 13, 4, 15, 273, 10, 11, 217, 252, 25, 17, 94, 73, 75, 46, 203, 45, 20, 6, 82, 16, 15, 14, 54, 43, 49, 87, 28, 12, 14, 0, 34, 23, 36, 53, 46, 43, 52, 99, 94, 20, 209, 20, 57, 3, 20, 66, 36, 11, 6, 28, 20, 32, 88, 0, 428, 146, 51, 48, 61, 18, 11, 211, 394, 10, 495, 19, 52, 5, 24, 83, 74, 40, 109, 2, 296, 273, 67, 43, 49, 64, 286, 78, 44, 27, 2, 29, 1, 226, 49, 35, 4, 10, 96, 41, 8, 60, 385, 125, 281, 131, 25, 10, 23, 39, 4, 275, 38, 40, 519, 11, 27, 22, 15, 44, 94, 104, 12, 27, 16, 13, 47, 72, 38, 160, 104, 42, 62, 83, 713, 65, 54, 34, 6, 16, 86, 74, 45, 66, 24, 0, 45, 19, 72, 37, 26, 23, 70, 16, 75, 245, 35, 111, 14, 38, 51, 38, 12, 49, 49, 65, 138, 21, 14, 3, 24, 39, 511, 26, 36, 16, 84, 129, 579, 116, 216, 9, 55, 10, 111, 20, 5, 0, 41, 49, 15, 67, 18, 3, 111, 93, 21, 3, 12, 89, 22, 38, 44, 25, 1357, 5, 62, 92, 148, 124, 100, 41, 70, 6, 28, 32, 22, 55, 40, 593, 9, 91, 173, 73, 13, 108, 27, 12, 52, 139, 6158, 120, 28, 34, 84, 54, 34, 130, 51, 54, 143, 77, 58, 51, 3, 9, 41, 33, 43, 23, 16, 72, 24, 193, 57, 27, 7, 11, 44, 26, 64, 14, 48, 12, 112, 66, 17, 32, 18, 5, 0, 18, 15, 69, 17, 20, 0, 3, 47, 0, 26, 29, 12, 156, 85, 36, 30, 236, 12, 562, 46, 115, 4, 116, 58, 470, 126, 16, 95, 78, 21, 18, 12, 38, 9, 90, 100, 3, 15, 150, 32, 16, 18, 41, 10, 11, 40, 49, 76], \"x0\": \" \", \"xaxis\": \"x\", \"y\": [\"rec.sport.hockey\", \"rec.sport.hockey\", \"rec.sport.hockey\", \"rec.sport.hockey\", \"rec.sport.hockey\", \"rec.sport.hockey\", \"rec.sport.hockey\", \"rec.sport.hockey\", \"rec.sport.hockey\", \"rec.sport.hockey\", \"rec.sport.hockey\", \"rec.sport.hockey\", \"rec.sport.hockey\", \"rec.sport.hockey\", \"rec.sport.hockey\", \"rec.sport.hockey\", \"rec.sport.hockey\", \"rec.sport.hockey\", \"rec.sport.hockey\", \"rec.sport.hockey\", \"rec.sport.hockey\", \"rec.sport.hockey\", \"rec.sport.hockey\", \"rec.sport.hockey\", \"rec.sport.hockey\", \"rec.sport.hockey\", \"rec.sport.hockey\", \"rec.sport.hockey\", \"rec.sport.hockey\", \"rec.sport.hockey\", \"rec.sport.hockey\", \"rec.sport.hockey\", \"rec.sport.hockey\", \"rec.sport.hockey\", \"rec.sport.hockey\", \"rec.sport.hockey\", \"rec.sport.hockey\", \"rec.sport.hockey\", \"rec.sport.hockey\", \"rec.sport.hockey\", \"rec.sport.hockey\", \"rec.sport.hockey\", \"rec.sport.hockey\", \"rec.sport.hockey\", \"rec.sport.hockey\", \"rec.sport.hockey\", \"rec.sport.hockey\", \"rec.sport.hockey\", \"rec.sport.hockey\", \"rec.sport.hockey\", \"rec.sport.hockey\", \"rec.sport.hockey\", \"rec.sport.hockey\", \"rec.sport.hockey\", \"rec.sport.hockey\", \"rec.sport.hockey\", \"rec.sport.hockey\", \"rec.sport.hockey\", \"rec.sport.hockey\", \"rec.sport.hockey\", \"rec.sport.hockey\", \"rec.sport.hockey\", \"rec.sport.hockey\", \"rec.sport.hockey\", \"rec.sport.hockey\", \"rec.sport.hockey\", \"rec.sport.hockey\", \"rec.sport.hockey\", \"rec.sport.hockey\", \"rec.sport.hockey\", \"rec.sport.hockey\", \"rec.sport.hockey\", \"rec.sport.hockey\", \"rec.sport.hockey\", \"rec.sport.hockey\", \"rec.sport.hockey\", \"rec.sport.hockey\", \"rec.sport.hockey\", \"rec.sport.hockey\", \"rec.sport.hockey\", \"rec.sport.hockey\", \"rec.sport.hockey\", \"rec.sport.hockey\", \"rec.sport.hockey\", \"rec.sport.hockey\", \"rec.sport.hockey\", \"rec.sport.hockey\", \"rec.sport.hockey\", \"rec.sport.hockey\", \"rec.sport.hockey\", \"rec.sport.hockey\", \"rec.sport.hockey\", \"rec.sport.hockey\", \"rec.sport.hockey\", \"rec.sport.hockey\", \"rec.sport.hockey\", \"rec.sport.hockey\", \"rec.sport.hockey\", \"rec.sport.hockey\", \"rec.sport.hockey\", \"rec.sport.hockey\", \"rec.sport.hockey\", \"rec.sport.hockey\", \"rec.sport.hockey\", \"rec.sport.hockey\", \"rec.sport.hockey\", \"rec.sport.hockey\", \"rec.sport.hockey\", \"rec.sport.hockey\", \"rec.sport.hockey\", \"rec.sport.hockey\", \"rec.sport.hockey\", \"rec.sport.hockey\", \"rec.sport.hockey\", \"rec.sport.hockey\", \"rec.sport.hockey\", \"rec.sport.hockey\", \"rec.sport.hockey\", \"rec.sport.hockey\", \"rec.sport.hockey\", \"rec.sport.hockey\", \"rec.sport.hockey\", \"rec.sport.hockey\", \"rec.sport.hockey\", \"rec.sport.hockey\", \"rec.sport.hockey\", \"rec.sport.hockey\", \"rec.sport.hockey\", \"rec.sport.hockey\", \"rec.sport.hockey\", \"rec.sport.hockey\", \"rec.sport.hockey\", \"rec.sport.hockey\", \"rec.sport.hockey\", \"rec.sport.hockey\", \"rec.sport.hockey\", \"rec.sport.hockey\", \"rec.sport.hockey\", \"rec.sport.hockey\", \"rec.sport.hockey\", \"rec.sport.hockey\", \"rec.sport.hockey\", \"rec.sport.hockey\", \"rec.sport.hockey\", \"rec.sport.hockey\", \"rec.sport.hockey\", \"rec.sport.hockey\", \"rec.sport.hockey\", \"rec.sport.hockey\", \"rec.sport.hockey\", \"rec.sport.hockey\", \"rec.sport.hockey\", \"rec.sport.hockey\", \"rec.sport.hockey\", \"rec.sport.hockey\", \"rec.sport.hockey\", \"rec.sport.hockey\", \"rec.sport.hockey\", \"rec.sport.hockey\", \"rec.sport.hockey\", \"rec.sport.hockey\", \"rec.sport.hockey\", \"rec.sport.hockey\", \"rec.sport.hockey\", \"rec.sport.hockey\", \"rec.sport.hockey\", \"rec.sport.hockey\", \"rec.sport.hockey\", \"rec.sport.hockey\", \"rec.sport.hockey\", \"rec.sport.hockey\", \"rec.sport.hockey\", \"rec.sport.hockey\", \"rec.sport.hockey\", \"rec.sport.hockey\", \"rec.sport.hockey\", \"rec.sport.hockey\", \"rec.sport.hockey\", \"rec.sport.hockey\", \"rec.sport.hockey\", \"rec.sport.hockey\", \"rec.sport.hockey\", \"rec.sport.hockey\", \"rec.sport.hockey\", \"rec.sport.hockey\", \"rec.sport.hockey\", \"rec.sport.hockey\", \"rec.sport.hockey\", \"rec.sport.hockey\", \"rec.sport.hockey\", \"rec.sport.hockey\", \"rec.sport.hockey\", \"rec.sport.hockey\", \"rec.sport.hockey\", \"rec.sport.hockey\", \"rec.sport.hockey\", \"rec.sport.hockey\", \"rec.sport.hockey\", \"rec.sport.hockey\", \"rec.sport.hockey\", \"rec.sport.hockey\", \"rec.sport.hockey\", \"rec.sport.hockey\", \"rec.sport.hockey\", \"rec.sport.hockey\", \"rec.sport.hockey\", \"rec.sport.hockey\", \"rec.sport.hockey\", \"rec.sport.hockey\", \"rec.sport.hockey\", \"rec.sport.hockey\", \"rec.sport.hockey\", \"rec.sport.hockey\", \"rec.sport.hockey\", \"rec.sport.hockey\", \"rec.sport.hockey\", \"rec.sport.hockey\", \"rec.sport.hockey\", \"rec.sport.hockey\", \"rec.sport.hockey\", \"rec.sport.hockey\", \"rec.sport.hockey\", \"rec.sport.hockey\", \"rec.sport.hockey\", \"rec.sport.hockey\", \"rec.sport.hockey\", \"rec.sport.hockey\", \"rec.sport.hockey\", \"rec.sport.hockey\", \"rec.sport.hockey\", \"rec.sport.hockey\", \"rec.sport.hockey\", \"rec.sport.hockey\", \"rec.sport.hockey\", \"rec.sport.hockey\", \"rec.sport.hockey\", \"rec.sport.hockey\", \"rec.sport.hockey\", \"rec.sport.hockey\", \"rec.sport.hockey\", \"rec.sport.hockey\", \"rec.sport.hockey\", \"rec.sport.hockey\", \"rec.sport.hockey\", \"rec.sport.hockey\", \"rec.sport.hockey\", \"rec.sport.hockey\", \"rec.sport.hockey\", \"rec.sport.hockey\", \"rec.sport.hockey\", \"rec.sport.hockey\", \"rec.sport.hockey\", \"rec.sport.hockey\", \"rec.sport.hockey\", \"rec.sport.hockey\", \"rec.sport.hockey\", \"rec.sport.hockey\", \"rec.sport.hockey\", \"rec.sport.hockey\", \"rec.sport.hockey\", \"rec.sport.hockey\", \"rec.sport.hockey\", \"rec.sport.hockey\", \"rec.sport.hockey\", \"rec.sport.hockey\", \"rec.sport.hockey\", \"rec.sport.hockey\", \"rec.sport.hockey\", \"rec.sport.hockey\", \"rec.sport.hockey\", \"rec.sport.hockey\", \"rec.sport.hockey\", \"rec.sport.hockey\", \"rec.sport.hockey\", \"rec.sport.hockey\", \"rec.sport.hockey\", \"rec.sport.hockey\", \"rec.sport.hockey\", \"rec.sport.hockey\", \"rec.sport.hockey\", \"rec.sport.hockey\", \"rec.sport.hockey\", \"rec.sport.hockey\", \"rec.sport.hockey\", \"rec.sport.hockey\", \"rec.sport.hockey\", \"rec.sport.hockey\", \"rec.sport.hockey\", \"rec.sport.hockey\", \"rec.sport.hockey\", \"rec.sport.hockey\", \"rec.sport.hockey\", \"rec.sport.hockey\", \"rec.sport.hockey\", \"rec.sport.hockey\", \"rec.sport.hockey\", \"rec.sport.hockey\", \"rec.sport.hockey\", \"rec.sport.hockey\", \"rec.sport.hockey\", \"rec.sport.hockey\", \"rec.sport.hockey\", \"rec.sport.hockey\", \"rec.sport.hockey\", \"rec.sport.hockey\", \"rec.sport.hockey\", \"rec.sport.hockey\", \"rec.sport.hockey\", \"rec.sport.hockey\", \"rec.sport.hockey\", \"rec.sport.hockey\", \"rec.sport.hockey\", \"rec.sport.hockey\", \"rec.sport.hockey\", \"rec.sport.hockey\", \"rec.sport.hockey\", \"rec.sport.hockey\", \"rec.sport.hockey\", \"rec.sport.hockey\", \"rec.sport.hockey\", \"rec.sport.hockey\", \"rec.sport.hockey\", \"rec.sport.hockey\", \"rec.sport.hockey\", \"rec.sport.hockey\", \"rec.sport.hockey\", \"rec.sport.hockey\", \"rec.sport.hockey\", \"rec.sport.hockey\", \"rec.sport.hockey\", \"rec.sport.hockey\", \"rec.sport.hockey\", \"rec.sport.hockey\", \"rec.sport.hockey\", \"rec.sport.hockey\", \"rec.sport.hockey\", \"rec.sport.hockey\", \"rec.sport.hockey\", \"rec.sport.hockey\", \"rec.sport.hockey\", \"rec.sport.hockey\", \"rec.sport.hockey\", \"rec.sport.hockey\", \"rec.sport.hockey\", \"rec.sport.hockey\", \"rec.sport.hockey\", \"rec.sport.hockey\", \"rec.sport.hockey\", \"rec.sport.hockey\", \"rec.sport.hockey\", \"rec.sport.hockey\", \"rec.sport.hockey\", \"rec.sport.hockey\", \"rec.sport.hockey\", \"rec.sport.hockey\", \"rec.sport.hockey\", \"rec.sport.hockey\", \"rec.sport.hockey\", \"rec.sport.hockey\", \"rec.sport.hockey\", \"rec.sport.hockey\", \"rec.sport.hockey\", \"rec.sport.hockey\", \"rec.sport.hockey\", \"rec.sport.hockey\", \"rec.sport.hockey\", \"rec.sport.hockey\", \"rec.sport.hockey\", \"rec.sport.hockey\", \"rec.sport.hockey\", \"rec.sport.hockey\", \"rec.sport.hockey\", \"rec.sport.hockey\", \"rec.sport.hockey\", \"rec.sport.hockey\", \"rec.sport.hockey\", \"rec.sport.hockey\", \"rec.sport.hockey\", \"rec.sport.hockey\", \"rec.sport.hockey\", \"rec.sport.hockey\", \"rec.sport.hockey\", \"rec.sport.hockey\", \"rec.sport.hockey\", \"rec.sport.hockey\", \"rec.sport.hockey\", \"rec.sport.hockey\", \"rec.sport.hockey\", \"rec.sport.hockey\", \"rec.sport.hockey\", \"rec.sport.hockey\", \"rec.sport.hockey\", \"rec.sport.hockey\", \"rec.sport.hockey\", \"rec.sport.hockey\", \"rec.sport.hockey\", \"rec.sport.hockey\", \"rec.sport.hockey\", \"rec.sport.hockey\", \"rec.sport.hockey\", \"rec.sport.hockey\", \"rec.sport.hockey\", \"rec.sport.hockey\", \"rec.sport.hockey\", \"rec.sport.hockey\", \"rec.sport.hockey\", \"rec.sport.hockey\", \"rec.sport.hockey\", \"rec.sport.hockey\", \"rec.sport.hockey\", \"rec.sport.hockey\", \"rec.sport.hockey\", \"rec.sport.hockey\", \"rec.sport.hockey\", \"rec.sport.hockey\", \"rec.sport.hockey\", \"rec.sport.hockey\", \"rec.sport.hockey\", \"rec.sport.hockey\", \"rec.sport.hockey\", \"rec.sport.hockey\", \"rec.sport.hockey\", \"rec.sport.hockey\", \"rec.sport.hockey\", \"rec.sport.hockey\", \"rec.sport.hockey\", \"rec.sport.hockey\", \"rec.sport.hockey\", \"rec.sport.hockey\", \"rec.sport.hockey\", \"rec.sport.hockey\", \"rec.sport.hockey\", \"rec.sport.hockey\", \"rec.sport.hockey\", \"rec.sport.hockey\", \"rec.sport.hockey\", \"rec.sport.hockey\", \"rec.sport.hockey\", \"rec.sport.hockey\", \"rec.sport.hockey\", \"rec.sport.hockey\", \"rec.sport.hockey\", \"rec.sport.hockey\", \"rec.sport.hockey\", \"rec.sport.hockey\", \"rec.sport.hockey\", \"rec.sport.hockey\", \"rec.sport.hockey\", \"rec.sport.hockey\", \"rec.sport.hockey\", \"rec.sport.hockey\", \"rec.sport.hockey\", \"rec.sport.hockey\", \"rec.sport.hockey\", \"rec.sport.hockey\", \"rec.sport.hockey\", \"rec.sport.hockey\", \"rec.sport.hockey\", \"rec.sport.hockey\", \"rec.sport.hockey\", \"rec.sport.hockey\", \"rec.sport.hockey\", \"rec.sport.hockey\", \"rec.sport.hockey\", \"rec.sport.hockey\", \"rec.sport.hockey\", \"rec.sport.hockey\", \"rec.sport.hockey\", \"rec.sport.hockey\", \"rec.sport.hockey\", \"rec.sport.hockey\", \"rec.sport.hockey\", \"rec.sport.hockey\", \"rec.sport.hockey\", \"rec.sport.hockey\", \"rec.sport.hockey\", \"rec.sport.hockey\", \"rec.sport.hockey\", \"rec.sport.hockey\", \"rec.sport.hockey\", \"rec.sport.hockey\", \"rec.sport.hockey\", \"rec.sport.hockey\", \"rec.sport.hockey\", \"rec.sport.hockey\", \"rec.sport.hockey\", \"rec.sport.hockey\", \"rec.sport.hockey\", \"rec.sport.hockey\", \"rec.sport.hockey\", \"rec.sport.hockey\", \"rec.sport.hockey\", \"rec.sport.hockey\", \"rec.sport.hockey\", \"rec.sport.hockey\", \"rec.sport.hockey\", \"rec.sport.hockey\", \"rec.sport.hockey\", \"rec.sport.hockey\", \"rec.sport.hockey\", \"rec.sport.hockey\", \"rec.sport.hockey\", \"rec.sport.hockey\", \"rec.sport.hockey\", \"rec.sport.hockey\", \"rec.sport.hockey\", \"rec.sport.hockey\", \"rec.sport.hockey\", \"rec.sport.hockey\", \"rec.sport.hockey\", \"rec.sport.hockey\", \"rec.sport.hockey\", \"rec.sport.hockey\", \"rec.sport.hockey\", \"rec.sport.hockey\", \"rec.sport.hockey\", \"rec.sport.hockey\", \"rec.sport.hockey\", \"rec.sport.hockey\", \"rec.sport.hockey\", \"rec.sport.hockey\", \"rec.sport.hockey\", \"rec.sport.hockey\", \"rec.sport.hockey\", \"rec.sport.hockey\", \"rec.sport.hockey\", \"rec.sport.hockey\", \"rec.sport.hockey\", \"rec.sport.hockey\", \"rec.sport.hockey\", \"rec.sport.hockey\", \"rec.sport.hockey\", \"rec.sport.hockey\", \"rec.sport.hockey\", \"rec.sport.hockey\", \"rec.sport.hockey\", \"rec.sport.hockey\", \"rec.sport.hockey\", \"rec.sport.hockey\", \"rec.sport.hockey\", \"rec.sport.hockey\", \"rec.sport.hockey\", \"rec.sport.hockey\", \"rec.sport.hockey\", \"rec.sport.hockey\", \"rec.sport.hockey\", \"rec.sport.hockey\", \"rec.sport.hockey\", \"rec.sport.hockey\", \"rec.sport.hockey\", \"rec.sport.hockey\", \"rec.sport.hockey\", \"rec.sport.hockey\", \"rec.sport.hockey\", \"rec.sport.hockey\", \"rec.sport.hockey\", \"rec.sport.hockey\", \"rec.sport.hockey\", \"rec.sport.hockey\", \"rec.sport.hockey\", \"rec.sport.hockey\", \"rec.sport.hockey\", \"rec.sport.hockey\", \"rec.sport.hockey\", \"rec.sport.hockey\", \"rec.sport.hockey\", \"rec.sport.hockey\", \"rec.sport.hockey\", \"rec.sport.hockey\", \"rec.sport.hockey\", \"rec.sport.hockey\", \"rec.sport.hockey\", \"rec.sport.hockey\", \"rec.sport.hockey\", \"rec.sport.hockey\", \"rec.sport.hockey\", \"rec.sport.hockey\", \"rec.sport.hockey\", \"rec.sport.hockey\", \"rec.sport.hockey\", \"rec.sport.hockey\", \"rec.sport.hockey\", \"rec.sport.hockey\", \"rec.sport.hockey\", \"rec.sport.hockey\", \"rec.sport.hockey\", \"rec.sport.hockey\", \"rec.sport.hockey\", \"rec.sport.hockey\", \"rec.sport.hockey\", \"rec.sport.hockey\", \"rec.sport.hockey\", \"rec.sport.hockey\", \"rec.sport.hockey\", \"rec.sport.hockey\", \"rec.sport.hockey\", \"rec.sport.hockey\", \"rec.sport.hockey\", \"rec.sport.hockey\", \"rec.sport.hockey\"], \"y0\": \" \", \"yaxis\": \"y\"}],\n",
              "                        {\"boxmode\": \"group\", \"legend\": {\"tracegroupgap\": 0}, \"margin\": {\"t\": 60}, \"template\": {\"data\": {\"bar\": [{\"error_x\": {\"color\": \"#2a3f5f\"}, \"error_y\": {\"color\": \"#2a3f5f\"}, \"marker\": {\"line\": {\"color\": \"#E5ECF6\", \"width\": 0.5}}, \"type\": \"bar\"}], \"barpolar\": [{\"marker\": {\"line\": {\"color\": \"#E5ECF6\", \"width\": 0.5}}, \"type\": \"barpolar\"}], \"carpet\": [{\"aaxis\": {\"endlinecolor\": \"#2a3f5f\", \"gridcolor\": \"white\", \"linecolor\": \"white\", \"minorgridcolor\": \"white\", \"startlinecolor\": \"#2a3f5f\"}, \"baxis\": {\"endlinecolor\": \"#2a3f5f\", \"gridcolor\": \"white\", \"linecolor\": \"white\", \"minorgridcolor\": \"white\", \"startlinecolor\": \"#2a3f5f\"}, \"type\": \"carpet\"}], \"choropleth\": [{\"colorbar\": {\"outlinewidth\": 0, \"ticks\": \"\"}, \"type\": \"choropleth\"}], \"contour\": [{\"colorbar\": {\"outlinewidth\": 0, \"ticks\": \"\"}, \"colorscale\": [[0.0, \"#0d0887\"], [0.1111111111111111, \"#46039f\"], [0.2222222222222222, \"#7201a8\"], [0.3333333333333333, \"#9c179e\"], [0.4444444444444444, \"#bd3786\"], [0.5555555555555556, \"#d8576b\"], [0.6666666666666666, \"#ed7953\"], [0.7777777777777778, \"#fb9f3a\"], [0.8888888888888888, \"#fdca26\"], [1.0, \"#f0f921\"]], \"type\": \"contour\"}], \"contourcarpet\": [{\"colorbar\": {\"outlinewidth\": 0, \"ticks\": \"\"}, \"type\": \"contourcarpet\"}], \"heatmap\": [{\"colorbar\": {\"outlinewidth\": 0, \"ticks\": \"\"}, \"colorscale\": [[0.0, \"#0d0887\"], [0.1111111111111111, \"#46039f\"], [0.2222222222222222, \"#7201a8\"], [0.3333333333333333, \"#9c179e\"], [0.4444444444444444, \"#bd3786\"], [0.5555555555555556, \"#d8576b\"], [0.6666666666666666, \"#ed7953\"], [0.7777777777777778, \"#fb9f3a\"], [0.8888888888888888, \"#fdca26\"], [1.0, \"#f0f921\"]], \"type\": \"heatmap\"}], \"heatmapgl\": [{\"colorbar\": {\"outlinewidth\": 0, \"ticks\": \"\"}, \"colorscale\": [[0.0, \"#0d0887\"], [0.1111111111111111, \"#46039f\"], [0.2222222222222222, \"#7201a8\"], [0.3333333333333333, \"#9c179e\"], [0.4444444444444444, \"#bd3786\"], [0.5555555555555556, \"#d8576b\"], [0.6666666666666666, \"#ed7953\"], [0.7777777777777778, \"#fb9f3a\"], [0.8888888888888888, \"#fdca26\"], [1.0, \"#f0f921\"]], \"type\": \"heatmapgl\"}], \"histogram\": [{\"marker\": {\"colorbar\": {\"outlinewidth\": 0, \"ticks\": \"\"}}, \"type\": \"histogram\"}], \"histogram2d\": [{\"colorbar\": {\"outlinewidth\": 0, \"ticks\": \"\"}, \"colorscale\": [[0.0, \"#0d0887\"], [0.1111111111111111, \"#46039f\"], [0.2222222222222222, \"#7201a8\"], [0.3333333333333333, \"#9c179e\"], [0.4444444444444444, \"#bd3786\"], [0.5555555555555556, \"#d8576b\"], [0.6666666666666666, \"#ed7953\"], [0.7777777777777778, \"#fb9f3a\"], [0.8888888888888888, \"#fdca26\"], [1.0, \"#f0f921\"]], \"type\": \"histogram2d\"}], \"histogram2dcontour\": [{\"colorbar\": {\"outlinewidth\": 0, \"ticks\": \"\"}, \"colorscale\": [[0.0, \"#0d0887\"], [0.1111111111111111, \"#46039f\"], [0.2222222222222222, \"#7201a8\"], [0.3333333333333333, \"#9c179e\"], [0.4444444444444444, \"#bd3786\"], [0.5555555555555556, \"#d8576b\"], [0.6666666666666666, \"#ed7953\"], [0.7777777777777778, \"#fb9f3a\"], [0.8888888888888888, \"#fdca26\"], [1.0, \"#f0f921\"]], \"type\": \"histogram2dcontour\"}], \"mesh3d\": [{\"colorbar\": {\"outlinewidth\": 0, \"ticks\": \"\"}, \"type\": \"mesh3d\"}], \"parcoords\": [{\"line\": {\"colorbar\": {\"outlinewidth\": 0, \"ticks\": \"\"}}, \"type\": \"parcoords\"}], \"pie\": [{\"automargin\": true, \"type\": \"pie\"}], \"scatter\": [{\"marker\": {\"colorbar\": {\"outlinewidth\": 0, \"ticks\": \"\"}}, \"type\": \"scatter\"}], \"scatter3d\": [{\"line\": {\"colorbar\": {\"outlinewidth\": 0, \"ticks\": \"\"}}, \"marker\": {\"colorbar\": {\"outlinewidth\": 0, \"ticks\": \"\"}}, \"type\": \"scatter3d\"}], \"scattercarpet\": [{\"marker\": {\"colorbar\": {\"outlinewidth\": 0, \"ticks\": \"\"}}, \"type\": \"scattercarpet\"}], \"scattergeo\": [{\"marker\": {\"colorbar\": {\"outlinewidth\": 0, \"ticks\": \"\"}}, \"type\": \"scattergeo\"}], \"scattergl\": [{\"marker\": {\"colorbar\": {\"outlinewidth\": 0, \"ticks\": \"\"}}, \"type\": \"scattergl\"}], \"scattermapbox\": [{\"marker\": {\"colorbar\": {\"outlinewidth\": 0, \"ticks\": \"\"}}, \"type\": \"scattermapbox\"}], \"scatterpolar\": [{\"marker\": {\"colorbar\": {\"outlinewidth\": 0, \"ticks\": \"\"}}, \"type\": \"scatterpolar\"}], \"scatterpolargl\": [{\"marker\": {\"colorbar\": {\"outlinewidth\": 0, \"ticks\": \"\"}}, \"type\": \"scatterpolargl\"}], \"scatterternary\": [{\"marker\": {\"colorbar\": {\"outlinewidth\": 0, \"ticks\": \"\"}}, \"type\": \"scatterternary\"}], \"surface\": [{\"colorbar\": {\"outlinewidth\": 0, \"ticks\": \"\"}, \"colorscale\": [[0.0, \"#0d0887\"], [0.1111111111111111, \"#46039f\"], [0.2222222222222222, \"#7201a8\"], [0.3333333333333333, \"#9c179e\"], [0.4444444444444444, \"#bd3786\"], [0.5555555555555556, \"#d8576b\"], [0.6666666666666666, \"#ed7953\"], [0.7777777777777778, \"#fb9f3a\"], [0.8888888888888888, \"#fdca26\"], [1.0, \"#f0f921\"]], \"type\": \"surface\"}], \"table\": [{\"cells\": {\"fill\": {\"color\": \"#EBF0F8\"}, \"line\": {\"color\": \"white\"}}, \"header\": {\"fill\": {\"color\": \"#C8D4E3\"}, \"line\": {\"color\": \"white\"}}, \"type\": \"table\"}]}, \"layout\": {\"annotationdefaults\": {\"arrowcolor\": \"#2a3f5f\", \"arrowhead\": 0, \"arrowwidth\": 1}, \"coloraxis\": {\"colorbar\": {\"outlinewidth\": 0, \"ticks\": \"\"}}, \"colorscale\": {\"diverging\": [[0, \"#8e0152\"], [0.1, \"#c51b7d\"], [0.2, \"#de77ae\"], [0.3, \"#f1b6da\"], [0.4, \"#fde0ef\"], [0.5, \"#f7f7f7\"], [0.6, \"#e6f5d0\"], [0.7, \"#b8e186\"], [0.8, \"#7fbc41\"], [0.9, \"#4d9221\"], [1, \"#276419\"]], \"sequential\": [[0.0, \"#0d0887\"], [0.1111111111111111, \"#46039f\"], [0.2222222222222222, \"#7201a8\"], [0.3333333333333333, \"#9c179e\"], [0.4444444444444444, \"#bd3786\"], [0.5555555555555556, \"#d8576b\"], [0.6666666666666666, \"#ed7953\"], [0.7777777777777778, \"#fb9f3a\"], [0.8888888888888888, \"#fdca26\"], [1.0, \"#f0f921\"]], \"sequentialminus\": [[0.0, \"#0d0887\"], [0.1111111111111111, \"#46039f\"], [0.2222222222222222, \"#7201a8\"], [0.3333333333333333, \"#9c179e\"], [0.4444444444444444, \"#bd3786\"], [0.5555555555555556, \"#d8576b\"], [0.6666666666666666, \"#ed7953\"], [0.7777777777777778, \"#fb9f3a\"], [0.8888888888888888, \"#fdca26\"], [1.0, \"#f0f921\"]]}, \"colorway\": [\"#636efa\", \"#EF553B\", \"#00cc96\", \"#ab63fa\", \"#FFA15A\", \"#19d3f3\", \"#FF6692\", \"#B6E880\", \"#FF97FF\", \"#FECB52\"], \"font\": {\"color\": \"#2a3f5f\"}, \"geo\": {\"bgcolor\": \"white\", \"lakecolor\": \"white\", \"landcolor\": \"#E5ECF6\", \"showlakes\": true, \"showland\": true, \"subunitcolor\": \"white\"}, \"hoverlabel\": {\"align\": \"left\"}, \"hovermode\": \"closest\", \"mapbox\": {\"style\": \"light\"}, \"paper_bgcolor\": \"white\", \"plot_bgcolor\": \"#E5ECF6\", \"polar\": {\"angularaxis\": {\"gridcolor\": \"white\", \"linecolor\": \"white\", \"ticks\": \"\"}, \"bgcolor\": \"#E5ECF6\", \"radialaxis\": {\"gridcolor\": \"white\", \"linecolor\": \"white\", \"ticks\": \"\"}}, \"scene\": {\"xaxis\": {\"backgroundcolor\": \"#E5ECF6\", \"gridcolor\": \"white\", \"gridwidth\": 2, \"linecolor\": \"white\", \"showbackground\": true, \"ticks\": \"\", \"zerolinecolor\": \"white\"}, \"yaxis\": {\"backgroundcolor\": \"#E5ECF6\", \"gridcolor\": \"white\", \"gridwidth\": 2, \"linecolor\": \"white\", \"showbackground\": true, \"ticks\": \"\", \"zerolinecolor\": \"white\"}, \"zaxis\": {\"backgroundcolor\": \"#E5ECF6\", \"gridcolor\": \"white\", \"gridwidth\": 2, \"linecolor\": \"white\", \"showbackground\": true, \"ticks\": \"\", \"zerolinecolor\": \"white\"}}, \"shapedefaults\": {\"line\": {\"color\": \"#2a3f5f\"}}, \"ternary\": {\"aaxis\": {\"gridcolor\": \"white\", \"linecolor\": \"white\", \"ticks\": \"\"}, \"baxis\": {\"gridcolor\": \"white\", \"linecolor\": \"white\", \"ticks\": \"\"}, \"bgcolor\": \"#E5ECF6\", \"caxis\": {\"gridcolor\": \"white\", \"linecolor\": \"white\", \"ticks\": \"\"}}, \"title\": {\"x\": 0.05}, \"xaxis\": {\"automargin\": true, \"gridcolor\": \"white\", \"linecolor\": \"white\", \"ticks\": \"\", \"title\": {\"standoff\": 15}, \"zerolinecolor\": \"white\", \"zerolinewidth\": 2}, \"yaxis\": {\"automargin\": true, \"gridcolor\": \"white\", \"linecolor\": \"white\", \"ticks\": \"\", \"title\": {\"standoff\": 15}, \"zerolinecolor\": \"white\", \"zerolinewidth\": 2}}}, \"xaxis\": {\"anchor\": \"y\", \"domain\": [0.0, 1.0], \"title\": {\"text\": \"Nombre de mot par texte\"}}, \"yaxis\": {\"anchor\": \"x\", \"categoryarray\": [\"rec.sport.hockey\", \"soc.religion.christian\", \"rec.autos\"], \"categoryorder\": \"array\", \"domain\": [0.0, 1.0], \"title\": {\"text\": \"Th\\u00e8me\"}}},\n",
              "                        {\"responsive\": true}\n",
              "                    ).then(function(){\n",
              "                            \n",
              "var gd = document.getElementById('35259b0e-611d-4e7b-8d54-24a8a07120bb');\n",
              "var x = new MutationObserver(function (mutations, observer) {{\n",
              "        var display = window.getComputedStyle(gd).display;\n",
              "        if (!display || display === 'none') {{\n",
              "            console.log([gd, 'removed!']);\n",
              "            Plotly.purge(gd);\n",
              "            observer.disconnect();\n",
              "        }}\n",
              "}});\n",
              "\n",
              "// Listen for the removal of the full notebook cells\n",
              "var notebookContainer = gd.closest('#notebook-container');\n",
              "if (notebookContainer) {{\n",
              "    x.observe(notebookContainer, {childList: true});\n",
              "}}\n",
              "\n",
              "// Listen for the clearing of the current output cell\n",
              "var outputEl = gd.closest('.output');\n",
              "if (outputEl) {{\n",
              "    x.observe(outputEl, {childList: true});\n",
              "}}\n",
              "\n",
              "                        })\n",
              "                };\n",
              "                \n",
              "            </script>\n",
              "        </div>\n",
              "</body>\n",
              "</html>"
            ]
          },
          "metadata": {
            "tags": []
          }
        }
      ]
    },
    {
      "cell_type": "code",
      "metadata": {
        "id": "DMJ_gJWrLtVL",
        "colab_type": "code",
        "colab": {
          "base_uri": "https://localhost:8080/",
          "height": 527
        },
        "outputId": "ec3d1d79-c653-4977-b4e3-5a236a0e0017"
      },
      "source": [
        "for category in ['rec.autos', 'soc.religion.christian', 'rec.sport.hockey']:\n",
        "  print(str(20 * '-') + category + str(20 * '-'))\n",
        "  print(news[news['title'] == category].describe())"
      ],
      "execution_count": null,
      "outputs": [
        {
          "output_type": "stream",
          "text": [
            "--------------------rec.autos--------------------\n",
            "         text_size  cleaned_text_size\n",
            "count   594.000000         594.000000\n",
            "mean    146.872054          49.422559\n",
            "std     335.808029         110.693148\n",
            "min       1.000000           0.000000\n",
            "25%      41.000000          15.000000\n",
            "50%      78.000000          28.000000\n",
            "75%     159.750000          55.750000\n",
            "max    6004.000000        2064.000000\n",
            "--------------------soc.religion.christian--------------------\n",
            "         text_size  cleaned_text_size\n",
            "count   599.000000         599.000000\n",
            "mean    307.662771         103.799666\n",
            "std     429.153452         126.694983\n",
            "min       1.000000           0.000000\n",
            "25%      86.500000          31.000000\n",
            "50%     176.000000          63.000000\n",
            "75%     374.500000         125.500000\n",
            "max    5921.000000        1117.000000\n",
            "--------------------rec.sport.hockey--------------------\n",
            "          text_size  cleaned_text_size\n",
            "count    600.000000         600.000000\n",
            "mean     353.473333          84.860000\n",
            "std     1369.577197         280.608194\n",
            "min        1.000000           0.000000\n",
            "25%       45.000000          16.750000\n",
            "50%       93.000000          37.000000\n",
            "75%      213.000000          75.000000\n",
            "max    21090.000000        6158.000000\n"
          ],
          "name": "stdout"
        }
      ]
    },
    {
      "cell_type": "markdown",
      "metadata": {
        "id": "MyY8_QwIDpfT",
        "colab_type": "text"
      },
      "source": [
        "**After cleaning the text mean length is equal to 79 tokens. The cleaning remove almost 2/3 of the tokens.** \n",
        "\n",
        "* after the cleaning the class:\n",
        "   * Autos have lost 2/3 of its information\n",
        "   * Religion have lost 2/3 of its information\n",
        "   * Hockey have lost 3/4 of its information\n",
        "\n",
        "* The category **Christian** after cleaning has texts containing about 50% more words than the autos class and 20% more words than the hockey class. Our classes doesn't have texts of the same length. \n",
        "\n",
        "\n",
        "\n",
        "**1. Does the number of words in a text have an impact on its classification ?** \n",
        "\n",
        "The TFIDF algorithm first designs a vocabulary from all of the texts. The TF-IDF score is calculated for each word of the vocabulary, we determine the important words at this stage, and therefore the \"themes\". When we make a prediction, our algorithm use those words (which represent themes) in a text in order to classify it in the right category. The prediction of our model will therefore depend on the words present in the text.\n",
        "\n",
        "The longer a text, the more words it will contain. Probably several words from many themes. And therefore, our algorithm will be able to classify it better. Moreover, the probability of **overlap** (that several themes are found in the text) will also be higher."
      ]
    },
    {
      "cell_type": "markdown",
      "metadata": {
        "id": "bDwHie34Dywg",
        "colab_type": "text"
      },
      "source": [
        "# TF-IDF configuration\n",
        "\n",
        "With scikit-learn, there are two ways to perform an analysis by TF-IDF:\n",
        "\n",
        "1. Apply the **CountVectorizer** algoirthm which build a vocabulary from the text corpus, applies a cleaning function, transforms the words into tokens and builds a term-frequency matrix for each texts that have been pass to the fit_tranform method. \n",
        "\n",
        "Then we apply TFidfTransformer. It will multiply those matrix by the IDF **Inverse document frequency**.\n",
        "\n",
        "2. Use the TFIdfVectorizer which performs those two operations at once. Using the **fit_transform** method.\n",
        "\n",
        "We use the second method.\n"
      ]
    },
    {
      "cell_type": "code",
      "metadata": {
        "id": "JJ3Y3RvTekYS",
        "colab_type": "code",
        "colab": {}
      },
      "source": [
        "from sklearn.feature_extraction.text import TfidfVectorizer"
      ],
      "execution_count": null,
      "outputs": []
    },
    {
      "cell_type": "markdown",
      "metadata": {
        "id": "Jv0f_9PrZlhl",
        "colab_type": "text"
      },
      "source": [
        "\n",
        "Let's see how to configure the TFIdfVectorizer. We apply it on 2 small medical articles selected on the web. \n",
        "\n",
        "In this part we will analyze how configuration of the TFIDVectorizer. We will focus on three parameters. \n",
        "\n",
        "\n",
        "* ngram_range : {tuple} (min_n, max_n), default=(1, 1)\n",
        "\n",
        "The lower and upper boundary of the range of n-values for different n-grams to be extracted. All values of n such that min_n <= n <= max_n will be used. For example an ngram_range of (1, 1) means only unigrams, (1, 2) means unigrams and bigrams, and (2, 2) means only bigrams. \n",
        "\n",
        "* max_featuresint, default=None\n",
        "\n",
        "If not None, build a vocabulary that only consider the top max_features ordered by term frequency across the corpus.\n",
        "\n",
        "\n",
        "* analyzer{‘word’, ‘char’, ‘char_wb’} or callable, default=’word’\n",
        "\n",
        "Whether the feature should be made of word or character n-grams. Option ‘char_wb’ creates character n-grams only from text inside word boundaries; n-grams at the edges of words are padded with space.\n",
        "\n",
        "There are other features that can be adjusted. [for more](https://scikit-learn.org/stable/modules/generated/sklearn.feature_extraction.text.TfidfVectorizer.html) "
      ]
    },
    {
      "cell_type": "code",
      "metadata": {
        "id": "AHlZk4tPRn-o",
        "colab_type": "code",
        "colab": {}
      },
      "source": [
        "import numpy as np \n",
        "\n",
        "tfidf_words_3 = TfidfVectorizer(tokenizer=prepareText, max_features=20,  ngram_range=(1,3), analyzer='word', dtype=np.float32)\n",
        "tfidf_words_2 = TfidfVectorizer(tokenizer=prepareText, max_features=20, ngram_range=(1,2) , analyzer='word', dtype=np.float32)\n",
        "tfidf_words_1 = TfidfVectorizer(tokenizer=prepareText, max_features=20, ngram_range=(1,1) , analyzer='word', dtype=np.float32)"
      ],
      "execution_count": null,
      "outputs": []
    },
    {
      "cell_type": "markdown",
      "metadata": {
        "id": "ShlvPHHjRtts",
        "colab_type": "text"
      },
      "source": [
        "* **Tokenizer**: we apply our \"tokenization\" function **prepareText**\n",
        "* **max_feature**: limit our vocabulary to the 20 most \n",
        "important vocabulary words.\n",
        "* **ngram_range**: (1,3) we  build ngrams of 1 to 3 words (analyzer = 'words')."
      ]
    },
    {
      "cell_type": "code",
      "metadata": {
        "id": "sJzmmRoWRsih",
        "colab_type": "code",
        "colab": {}
      },
      "source": [
        "texte1 = \"\"\" A DNA molecule encoding a polypeptide having at least one immunogenic determinants of the CCV spike protein, said CCV spike protein having an amino acid sequence shown in SEQ ID No. 2, 4, or 6, said polypeptide being capable of eliciting a protective immune response in a dog against CCV infection or disease.\"\"\""
      ],
      "execution_count": null,
      "outputs": []
    },
    {
      "cell_type": "code",
      "metadata": {
        "id": "rkYuF7FlUImJ",
        "colab_type": "code",
        "colab": {}
      },
      "source": [
        "texte2 = \"\"\"Dr Saif said that the veterinary community has a long experience with coronaviruses causing severe disease in domestic animals and can therefore provide assistance in the understanding the epidemiology of the disease, development of models, pathogenicity studies, and mechanisms of prevention and control for SARS.\"\"\""
      ],
      "execution_count": null,
      "outputs": []
    },
    {
      "cell_type": "code",
      "metadata": {
        "id": "5iVJhfDxSe8E",
        "colab_type": "code",
        "colab": {}
      },
      "source": [
        "tfidf_words_3.fit([texte1, texte2])\n",
        "tfidf_words_2.fit([texte1, texte2])\n",
        "tfidf_words_1.fit([texte1, texte2])"
      ],
      "execution_count": null,
      "outputs": []
    },
    {
      "cell_type": "code",
      "metadata": {
        "id": "XIdXWgx4fw1W",
        "colab_type": "code",
        "colab": {
          "base_uri": "https://localhost:8080/",
          "height": 357
        },
        "outputId": "790ef798-364f-42f6-8ab5-2cb5eedd7dc1"
      },
      "source": [
        "tfidf_words_3.vocabulary_"
      ],
      "execution_count": null,
      "outputs": [
        {
          "output_type": "execute_result",
          "data": {
            "text/plain": [
              "{'ccv': 0,\n",
              " 'ccv spike': 1,\n",
              " 'ccv spike protein': 2,\n",
              " 'disease': 3,\n",
              " 'infection disease': 4,\n",
              " 'pathogenicity study mechanism': 5,\n",
              " 'polypeptide': 6,\n",
              " 'polypeptide capable': 7,\n",
              " 'polypeptide capable elicit': 8,\n",
              " 'polypeptide immunogenic': 9,\n",
              " 'polypeptide immunogenic determinant': 10,\n",
              " 'prevention': 11,\n",
              " 'prevention control': 12,\n",
              " 'prevention control sars': 13,\n",
              " 'protective': 14,\n",
              " 'protective immune': 15,\n",
              " 'protective immune response': 16,\n",
              " 'protein': 17,\n",
              " 'spike': 18,\n",
              " 'spike protein': 19}"
            ]
          },
          "metadata": {
            "tags": []
          },
          "execution_count": 40
        }
      ]
    },
    {
      "cell_type": "code",
      "metadata": {
        "id": "z9BOqPBznqtV",
        "colab_type": "code",
        "colab": {
          "base_uri": "https://localhost:8080/",
          "height": 34
        },
        "outputId": "370071bd-8fe5-474c-dd63-aab3eafad8f0"
      },
      "source": [
        "print(f'The vocabulary size for our example is {len(tfidf_words_3.vocabulary_)} words')"
      ],
      "execution_count": null,
      "outputs": [
        {
          "output_type": "stream",
          "text": [
            "The vocabulary size for our example is 20 words\n"
          ],
          "name": "stdout"
        }
      ]
    },
    {
      "cell_type": "markdown",
      "metadata": {
        "id": "Kad8YnBQS2qO",
        "colab_type": "text"
      },
      "source": [
        "\n",
        "1. Our model has built the vocabulary with our word trigrams.\n",
        "\n",
        "```\n",
        "\n",
        " 'acid': 0,\n",
        " 'acid sequence': 1,\n",
        " 'acid sequence seq': 2,\n",
        "\n",
        "```\n",
        "\n",
        "\n"
      ]
    },
    {
      "cell_type": "markdown",
      "metadata": {
        "id": "yWyjT7NPuQJj",
        "colab_type": "text"
      },
      "source": [
        "#### TFIDF appliqué sur le Texte 1"
      ]
    },
    {
      "cell_type": "code",
      "metadata": {
        "id": "8wKiZnqpUtji",
        "colab_type": "code",
        "colab": {}
      },
      "source": [
        "transformed_text_3 =  tfidf_words_3.transform([texte1])\n",
        "transformed_text_2 =  tfidf_words_2.transform([texte1])\n",
        "transformed_text_1 =  tfidf_words_1.transform([texte1])"
      ],
      "execution_count": null,
      "outputs": []
    },
    {
      "cell_type": "code",
      "metadata": {
        "id": "jDdn_oyvWe9b",
        "colab_type": "code",
        "colab": {}
      },
      "source": [
        "words_3 = transformed_text_3.toarray()\n",
        "words_2 = transformed_text_2.toarray()\n",
        "words_1 = transformed_text_1.toarray()"
      ],
      "execution_count": null,
      "outputs": []
    },
    {
      "cell_type": "code",
      "metadata": {
        "id": "L1jij5weUe_G",
        "colab_type": "code",
        "colab": {}
      },
      "source": [
        "max_3 = np.argmax(words_3[0], axis=0)\n",
        "max_2 = np.argmax(words_2[0], axis=0)\n",
        "max_1 = np.argmax(words_1[0], axis=0)"
      ],
      "execution_count": null,
      "outputs": []
    },
    {
      "cell_type": "code",
      "metadata": {
        "id": "JM4wf7ZPY1aP",
        "colab_type": "code",
        "colab": {
          "base_uri": "https://localhost:8080/",
          "height": 34
        },
        "outputId": "254a6e05-ff74-4bd8-ce45-f5da6eaeedce"
      },
      "source": [
        "(max_3, max_2, max_1)"
      ],
      "execution_count": null,
      "outputs": [
        {
          "output_type": "execute_result",
          "data": {
            "text/plain": [
              "(0, 0, 1)"
            ]
          },
          "metadata": {
            "tags": []
          },
          "execution_count": 45
        }
      ]
    },
    {
      "cell_type": "markdown",
      "metadata": {
        "id": "ytaC59xfZANd",
        "colab_type": "text"
      },
      "source": [
        "We get the most important word indexes for our three vectorizers."
      ]
    },
    {
      "cell_type": "code",
      "metadata": {
        "id": "UJPhbwdPWksg",
        "colab_type": "code",
        "colab": {
          "base_uri": "https://localhost:8080/",
          "height": 34
        },
        "outputId": "4c135193-93a0-4d8d-801b-ffcf1be4d98a"
      },
      "source": [
        "(tfidf_words_1.get_feature_names()[max_1], tfidf_words_2.get_feature_names()[max_2], tfidf_words_3.get_feature_names()[max_3])"
      ],
      "execution_count": null,
      "outputs": [
        {
          "output_type": "execute_result",
          "data": {
            "text/plain": [
              "('ccv', 'ccv', 'ccv')"
            ]
          },
          "metadata": {
            "tags": []
          },
          "execution_count": 46
        }
      ]
    },
    {
      "cell_type": "markdown",
      "metadata": {
        "id": "1dc4OIaBoLAc",
        "colab_type": "text"
      },
      "source": [
        "For the vectorizers **ngram_range = (1,1), (1,2) and (1,3)** the most important word in the vocabulary is **CCV**, a word meaning: \"a virus of the genus Coronavirus\".\n",
        "In the first text the word ccv is mentioned 3 times, it is indeed the subject of the text. "
      ]
    },
    {
      "cell_type": "markdown",
      "metadata": {
        "id": "6ZMya-XeuM5E",
        "colab_type": "text"
      },
      "source": [
        "#### TFIDF applied on Text 2"
      ]
    },
    {
      "cell_type": "code",
      "metadata": {
        "id": "4oPOG9Sgua8n",
        "colab_type": "code",
        "colab": {
          "base_uri": "https://localhost:8080/",
          "height": 34
        },
        "outputId": "6f76e8f4-7914-4bb4-fa9e-c2047b1ee6b9"
      },
      "source": [
        "transformed_text_3 =  tfidf_words_3.transform([texte2])\n",
        "transformed_text_2 =  tfidf_words_2.transform([texte2])\n",
        "transformed_text_1 =  tfidf_words_1.transform([texte2])\n",
        "words_3 = transformed_text_3.toarray()\n",
        "words_2 = transformed_text_2.toarray()\n",
        "words_1 = transformed_text_1.toarray()\n",
        "max_3 = np.argmax(words_3[0], axis=0)\n",
        "max_2 = np.argmax(words_2[0], axis=0)\n",
        "max_1 = np.argmax(words_1[0], axis=0)\n",
        "(max_3, max_2, max_1)"
      ],
      "execution_count": null,
      "outputs": [
        {
          "output_type": "execute_result",
          "data": {
            "text/plain": [
              "(3, 2, 2)"
            ]
          },
          "metadata": {
            "tags": []
          },
          "execution_count": 47
        }
      ]
    },
    {
      "cell_type": "code",
      "metadata": {
        "id": "EtGFV7AAujF8",
        "colab_type": "code",
        "colab": {
          "base_uri": "https://localhost:8080/",
          "height": 34
        },
        "outputId": "c037a0be-87a5-4c58-e63b-3def3fa38cf0"
      },
      "source": [
        "(tfidf_words_1.get_feature_names()[max_1], tfidf_words_2.get_feature_names()[max_2], tfidf_words_3.get_feature_names()[max_3])"
      ],
      "execution_count": null,
      "outputs": [
        {
          "output_type": "execute_result",
          "data": {
            "text/plain": [
              "('disease', 'disease', 'disease')"
            ]
          },
          "metadata": {
            "tags": []
          },
          "execution_count": 48
        }
      ]
    },
    {
      "cell_type": "markdown",
      "metadata": {
        "id": "OMp_Jp7UuqJM",
        "colab_type": "text"
      },
      "source": [
        "The TFIDF gives us the word **disease** as the theme for text number 2. This text  speaks about the coronavirus causing serious diseases in affected animals.\n",
        "\n",
        "\n",
        "**Note: The ngram_range,  increased the size of our vocabulary. With a range greater than (1.1), i.e. (1, n) with *n > 1*. Our TF-IDF will try to determine the importance of these *n-grams* in the texts.**"
      ]
    },
    {
      "cell_type": "markdown",
      "metadata": {
        "id": "A-ipPZrEZgQC",
        "colab_type": "text"
      },
      "source": [
        "### Char Vectorizer "
      ]
    },
    {
      "cell_type": "markdown",
      "metadata": {
        "id": "U2LWzhyXfgD-",
        "colab_type": "text"
      },
      "source": [
        "* we configure our tfidf in analyzer = 'char' mode. Our tokenizer will build our vocabulary by making ngrams (2,6) and (3,6) of character (any type of character).\n",
        "\n",
        "* We limits the vocabulary to the 20 most important words."
      ]
    },
    {
      "cell_type": "code",
      "metadata": {
        "id": "fji6gXbtfdC_",
        "colab_type": "code",
        "colab": {}
      },
      "source": [
        "vect_char_3 = TfidfVectorizer(max_features=20,  lowercase=True, analyzer='char', stop_words= 'english',ngram_range=(3,6),dtype=np.float32)\n",
        "vect_char_2 = TfidfVectorizer(max_features=20, lowercase=True, analyzer='char', stop_words= 'english',ngram_range=(2,6),dtype=np.float32)"
      ],
      "execution_count": null,
      "outputs": []
    },
    {
      "cell_type": "code",
      "metadata": {
        "id": "rVbPLEH2q770",
        "colab_type": "code",
        "colab": {
          "base_uri": "https://localhost:8080/",
          "height": 272
        },
        "outputId": "65bd32df-383f-4c91-e11a-a8cf68491425"
      },
      "source": [
        "vect_char_3.fit([texte1, texte2])\n",
        "vect_char_2.fit([texte1, texte2])"
      ],
      "execution_count": null,
      "outputs": [
        {
          "output_type": "stream",
          "text": [
            "/usr/local/lib/python3.6/dist-packages/sklearn/feature_extraction/text.py:520: UserWarning:\n",
            "\n",
            "The parameter 'stop_words' will not be used since 'analyzer' != 'word'\n",
            "\n",
            "/usr/local/lib/python3.6/dist-packages/sklearn/feature_extraction/text.py:520: UserWarning:\n",
            "\n",
            "The parameter 'stop_words' will not be used since 'analyzer' != 'word'\n",
            "\n"
          ],
          "name": "stderr"
        },
        {
          "output_type": "execute_result",
          "data": {
            "text/plain": [
              "TfidfVectorizer(analyzer='char', binary=False, decode_error='strict',\n",
              "                dtype=<class 'numpy.float32'>, encoding='utf-8',\n",
              "                input='content', lowercase=True, max_df=1.0, max_features=20,\n",
              "                min_df=1, ngram_range=(2, 6), norm='l2', preprocessor=None,\n",
              "                smooth_idf=True, stop_words='english', strip_accents=None,\n",
              "                sublinear_tf=False, token_pattern='(?u)\\\\b\\\\w\\\\w+\\\\b',\n",
              "                tokenizer=None, use_idf=True, vocabulary=None)"
            ]
          },
          "metadata": {
            "tags": []
          },
          "execution_count": 50
        }
      ]
    },
    {
      "cell_type": "code",
      "metadata": {
        "id": "nCJpwaCvgQgP",
        "colab_type": "code",
        "colab": {}
      },
      "source": [
        "transformed_text_char_3 = vect_char_3.transform([texte1])\n",
        "transformed_text_char_2 = vect_char_2.transform([texte1])"
      ],
      "execution_count": null,
      "outputs": []
    },
    {
      "cell_type": "code",
      "metadata": {
        "id": "cLheJbESgbxB",
        "colab_type": "code",
        "colab": {
          "base_uri": "https://localhost:8080/",
          "height": 357
        },
        "outputId": "dcfa9b63-f247-43c2-bd22-eca772537f63"
      },
      "source": [
        "vect_char_3.vocabulary_"
      ],
      "execution_count": null,
      "outputs": [
        {
          "output_type": "execute_result",
          "data": {
            "text/plain": [
              "{' a ': 0,\n",
              " ' an': 1,\n",
              " ' in': 2,\n",
              " ' of': 3,\n",
              " ' of ': 4,\n",
              " ' pr': 5,\n",
              " ' sa': 6,\n",
              " ' th': 7,\n",
              " ' the': 8,\n",
              " ' the ': 9,\n",
              " 'e i': 10,\n",
              " 'g a': 11,\n",
              " 'he ': 12,\n",
              " 'id ': 13,\n",
              " 'in ': 14,\n",
              " 'ing': 15,\n",
              " 'ing ': 16,\n",
              " 'ng ': 17,\n",
              " 'the': 18,\n",
              " 'the ': 19}"
            ]
          },
          "metadata": {
            "tags": []
          },
          "execution_count": 52
        }
      ]
    },
    {
      "cell_type": "code",
      "metadata": {
        "id": "kChDwrBogxOh",
        "colab_type": "code",
        "colab": {
          "base_uri": "https://localhost:8080/",
          "height": 357
        },
        "outputId": "abbee6cc-88f6-4fa5-a780-9703a32f710b"
      },
      "source": [
        "vect_char_2.vocabulary_"
      ],
      "execution_count": null,
      "outputs": [
        {
          "output_type": "execute_result",
          "data": {
            "text/plain": [
              "{' a': 0,\n",
              " ' c': 1,\n",
              " ' d': 2,\n",
              " ' i': 3,\n",
              " ' o': 4,\n",
              " ' p': 5,\n",
              " ' s': 6,\n",
              " 'an': 7,\n",
              " 'd ': 8,\n",
              " 'de': 9,\n",
              " 'e ': 10,\n",
              " 'g ': 11,\n",
              " 'id': 12,\n",
              " 'in': 13,\n",
              " 'n ': 14,\n",
              " 'ng': 15,\n",
              " 'ng ': 16,\n",
              " 'se': 17,\n",
              " 'th': 18,\n",
              " 'ti': 19}"
            ]
          },
          "metadata": {
            "tags": []
          },
          "execution_count": 53
        }
      ]
    },
    {
      "cell_type": "markdown",
      "metadata": {
        "id": "N5OmWS8xi4Zl",
        "colab_type": "text"
      },
      "source": [
        "**Vectorizer with ngram_range = (3,6)**"
      ]
    },
    {
      "cell_type": "code",
      "metadata": {
        "id": "xT5dMtTyhSte",
        "colab_type": "code",
        "colab": {}
      },
      "source": [
        "words_3 = transformed_text_char_3.toarray()"
      ],
      "execution_count": null,
      "outputs": []
    },
    {
      "cell_type": "code",
      "metadata": {
        "id": "wdGKk8JYhZ1i",
        "colab_type": "code",
        "colab": {
          "base_uri": "https://localhost:8080/",
          "height": 34
        },
        "outputId": "a50adb33-ea84-489b-b4d2-501b8e96bad0"
      },
      "source": [
        "vect_char_3.get_feature_names()[np.argmax(words_3[0])]"
      ],
      "execution_count": null,
      "outputs": [
        {
          "output_type": "execute_result",
          "data": {
            "text/plain": [
              "'g a'"
            ]
          },
          "metadata": {
            "tags": []
          },
          "execution_count": 55
        }
      ]
    },
    {
      "cell_type": "markdown",
      "metadata": {
        "id": "qn3fYu9a5E5l",
        "colab_type": "text"
      },
      "source": [
        "For this vectorizer the most important word is **'g a'**."
      ]
    },
    {
      "cell_type": "markdown",
      "metadata": {
        "id": "vTZ1a1HTiQOi",
        "colab_type": "text"
      },
      "source": [
        "**Vectorizer with ngram_range = (2,6)**\n"
      ]
    },
    {
      "cell_type": "code",
      "metadata": {
        "id": "ahOBc3-CiXUy",
        "colab_type": "code",
        "colab": {}
      },
      "source": [
        "words_2 = transformed_text_char_2.toarray()"
      ],
      "execution_count": null,
      "outputs": []
    },
    {
      "cell_type": "code",
      "metadata": {
        "id": "AIY5Z1zZiNXx",
        "colab_type": "code",
        "colab": {
          "base_uri": "https://localhost:8080/",
          "height": 34
        },
        "outputId": "5772cbf6-c5e6-44bb-a266-8f3ccfc430e1"
      },
      "source": [
        "vect_char_2.get_feature_names()[np.argmax(words_2[0])]"
      ],
      "execution_count": null,
      "outputs": [
        {
          "output_type": "execute_result",
          "data": {
            "text/plain": [
              "'in'"
            ]
          },
          "metadata": {
            "tags": []
          },
          "execution_count": 58
        }
      ]
    },
    {
      "cell_type": "markdown",
      "metadata": {
        "id": "F81J6_zNnHBx",
        "colab_type": "text"
      },
      "source": [
        "For our second vectorizer the most important word is **in**."
      ]
    },
    {
      "cell_type": "markdown",
      "metadata": {
        "id": "T7KZ-5x9i_1N",
        "colab_type": "text"
      },
      "source": [
        "The charVectorizer designs tokens from a group of characters.\n",
        "\n",
        "So in both cases we end up with a vocabulary consisting of ngram characters. The words of this vocabulary have a size between (2,6) and  (3,6) (case of our other vectorizer).\n",
        "\n",
        "\n",
        "**By doing this, we build important groups of characters that our tokenizer configured with analyzer = 'word' could not have detected (due to the tokenization method used)**\n",
        "\n",
        "**Thus, by merging the words tfidf matrices resulting from the application of this transformer and our transformer configured for words, we add information that our model can then exploit to make better predictions.**"
      ]
    },
    {
      "cell_type": "markdown",
      "metadata": {
        "id": "VVFwuFnfjf9T",
        "colab_type": "text"
      },
      "source": [
        "# **Training**\n",
        "\n",
        "We were able to observe the results of these two types of vectorizer. We will now apply the combination of the two vectorizers to our dataset and study the performance of our models.\n",
        "\n",
        "\n",
        "1. Compare the **tfidf** with **analyzer 'word'** alone vs **tfidf with an analyzer 'word' + tfidf with an analyzer 'char'**.\n",
        "\n",
        "2. determine the impact of **ngram_range** on f1-score.\n",
        "\n",
        "3. The impact of **max_feature** on f1-score."
      ]
    },
    {
      "cell_type": "markdown",
      "metadata": {
        "id": "XonK5BuBCOj_",
        "colab_type": "text"
      },
      "source": [
        "### Impact of ngram parameter on model accuracy "
      ]
    },
    {
      "cell_type": "code",
      "metadata": {
        "id": "KSX95tg5roAy",
        "colab_type": "code",
        "colab": {}
      },
      "source": [
        "corpus = news.text\n",
        "target = news.target.to_list()"
      ],
      "execution_count": null,
      "outputs": []
    },
    {
      "cell_type": "code",
      "metadata": {
        "id": "hcJEWYi2WBWj",
        "colab_type": "code",
        "colab": {}
      },
      "source": [
        "from sklearn.model_selection import train_test_split\n",
        "\n",
        "x_train, x_test, y_train, y_test = train_test_split(corpus, target, test_size=0.3, random_state=42, stratify=target)"
      ],
      "execution_count": null,
      "outputs": []
    },
    {
      "cell_type": "markdown",
      "metadata": {
        "id": "iA8sHibsnlQ6",
        "colab_type": "text"
      },
      "source": [
        "* Stratify: So that we get the same class proportions in the set tests and the train set. "
      ]
    },
    {
      "cell_type": "markdown",
      "metadata": {
        "id": "BH_JZ7xRh2MV",
        "colab_type": "text"
      },
      "source": [
        "**The impact of NGRAM on performance**\n",
        "\n",
        "In this section we will study the impact of ngram_range on model performance. The objective is to determine with which value of ngram_range we obtain the best f1-score.\n",
        "\n",
        "We will test the TF-IDF alone and the TF-IDF coupled to the tf-idf-char with the 3 values of ngram_range below : \n",
        "\n",
        "* (1,1)\n",
        "* (1,2)\n",
        "* (1,3)\n",
        "\n",
        "\n",
        "We will use a LinearSVC as a template. It provides very good results with text classification problems.\n",
        "\n",
        "**Note: our goal is not to study the SVC. So we won't do feature ingeeniering in order to improve our machine learning model.**"
      ]
    },
    {
      "cell_type": "code",
      "metadata": {
        "id": "nvbl8A_I-_Fy",
        "colab_type": "code",
        "colab": {}
      },
      "source": [
        "import tqdm\n",
        "from scipy import sparse\n",
        "from sklearn.svm import LinearSVC\n",
        "from sklearn.feature_extraction.text import TfidfVectorizer\n",
        "import numpy as np\n",
        "from sklearn.model_selection import cross_val_score"
      ],
      "execution_count": null,
      "outputs": []
    },
    {
      "cell_type": "code",
      "metadata": {
        "id": "2_uHhh6G-jyT",
        "colab_type": "code",
        "colab": {}
      },
      "source": [
        "vect_char = TfidfVectorizer(analyzer='char', stop_words='english',  max_features=40000, ngram_range=(2,6), lowercase=True, dtype=np.float32)"
      ],
      "execution_count": null,
      "outputs": []
    },
    {
      "cell_type": "code",
      "metadata": {
        "id": "Z8_CAgegI3G8",
        "colab_type": "code",
        "colab": {}
      },
      "source": [
        "vect_corpus_char = vect_char.fit_transform(x_train)"
      ],
      "execution_count": null,
      "outputs": []
    },
    {
      "cell_type": "code",
      "metadata": {
        "id": "lKX4KLHkSE_C",
        "colab_type": "code",
        "colab": {}
      },
      "source": [
        "vect_char_vocab_size = len(vect_char.get_feature_names())"
      ],
      "execution_count": null,
      "outputs": []
    },
    {
      "cell_type": "code",
      "metadata": {
        "id": "BK1vv0A4GIRa",
        "colab_type": "code",
        "colab": {
          "base_uri": "https://localhost:8080/",
          "height": 151,
          "referenced_widgets": [
            "a0107e1571d647c78e2600dee67abee2",
            "8b16dff392144aabb0777d9226ef6b14",
            "9418fd7af50e4355a0f78185edf54fe4",
            "e1e70cd7385a46c189ae78dbfd5c4149",
            "c78a1fee60ee4d19876a3ea73a8add23",
            "ef170b848a0c4d55a7c36c004cba7040",
            "d46c74e5785d4a918fc6100729547fdc",
            "b4b2a5a75c574b1080b18e813b8ca50d"
          ]
        },
        "outputId": "4c32998a-5e48-4a4a-d303-f918b65c3dbc"
      },
      "source": [
        "ngram_range = [(1,1), (1, 2), (1, 3)]\n",
        "key = ['(1,1)', '(1,2)', '(1,3)']\n",
        "vocab_size = []\n",
        "vector_words_dico = {}\n",
        "for ngram in tqdm.tqdm_notebook(ngram_range):\n",
        "  vect_word = TfidfVectorizer(analyzer='word', tokenizer=prepareText, ngram_range=ngram, dtype=np.float32)\n",
        "  vect_corpus_word = vect_word.fit_transform(x_train)\n",
        "  vector_words_dico[str(ngram)] = vect_corpus_word\n",
        "  vect_corpus_wc = sparse.hstack([vect_corpus_word , vect_corpus_char])\n",
        "  vector_words_dico[str(ngram)+'+tfidf_char'] = (vect_corpus_wc)\n",
        "  vect_word_vocab_size = len(vect_word.vocabulary_)\n",
        "  vocab_size.append(vect_word_vocab_size)\n",
        "  vocab_size.append(vect_char_vocab_size + vect_word_vocab_size)"
      ],
      "execution_count": null,
      "outputs": [
        {
          "output_type": "stream",
          "text": [
            "/usr/local/lib/python3.6/dist-packages/ipykernel_launcher.py:5: TqdmDeprecationWarning:\n",
            "\n",
            "This function will be removed in tqdm==5.0.0\n",
            "Please use `tqdm.notebook.tqdm` instead of `tqdm.tqdm_notebook`\n",
            "\n"
          ],
          "name": "stderr"
        },
        {
          "output_type": "display_data",
          "data": {
            "application/vnd.jupyter.widget-view+json": {
              "model_id": "a0107e1571d647c78e2600dee67abee2",
              "version_minor": 0,
              "version_major": 2
            },
            "text/plain": [
              "HBox(children=(FloatProgress(value=0.0, max=3.0), HTML(value='')))"
            ]
          },
          "metadata": {
            "tags": []
          }
        },
        {
          "output_type": "stream",
          "text": [
            "\n"
          ],
          "name": "stdout"
        }
      ]
    },
    {
      "cell_type": "code",
      "metadata": {
        "id": "yLLvbL-eO_Nf",
        "colab_type": "code",
        "colab": {}
      },
      "source": [
        "keys = []\n",
        "scores = [] \n",
        "for key in vector_words_dico:\n",
        "  svc =  LinearSVC()\n",
        "  score = cross_val_score(svc, vector_words_dico[key], y_train,scoring='accuracy')\n",
        "  keys.append(key)\n",
        "  scores.append(np.mean(score))\n"
      ],
      "execution_count": null,
      "outputs": []
    },
    {
      "cell_type": "code",
      "metadata": {
        "id": "Cw9RPWFVLzAs",
        "colab_type": "code",
        "colab": {}
      },
      "source": [
        "scores_df = pd.DataFrame({'config' : keys, 'score' : scores, 'vocab_size' : vocab_size})"
      ],
      "execution_count": null,
      "outputs": []
    },
    {
      "cell_type": "code",
      "metadata": {
        "id": "yHuZJSNIPg-x",
        "colab_type": "code",
        "colab": {
          "base_uri": "https://localhost:8080/",
          "height": 204
        },
        "outputId": "14f9ef35-5c4f-4ebe-98f0-1809a5a14190"
      },
      "source": [
        "scores_df.head()"
      ],
      "execution_count": null,
      "outputs": [
        {
          "output_type": "execute_result",
          "data": {
            "text/html": [
              "<div>\n",
              "<style scoped>\n",
              "    .dataframe tbody tr th:only-of-type {\n",
              "        vertical-align: middle;\n",
              "    }\n",
              "\n",
              "    .dataframe tbody tr th {\n",
              "        vertical-align: top;\n",
              "    }\n",
              "\n",
              "    .dataframe thead th {\n",
              "        text-align: right;\n",
              "    }\n",
              "</style>\n",
              "<table border=\"1\" class=\"dataframe\">\n",
              "  <thead>\n",
              "    <tr style=\"text-align: right;\">\n",
              "      <th></th>\n",
              "      <th>config</th>\n",
              "      <th>score</th>\n",
              "      <th>vocab_size</th>\n",
              "    </tr>\n",
              "  </thead>\n",
              "  <tbody>\n",
              "    <tr>\n",
              "      <th>0</th>\n",
              "      <td>(1, 1)</td>\n",
              "      <td>0.927490</td>\n",
              "      <td>12781</td>\n",
              "    </tr>\n",
              "    <tr>\n",
              "      <th>1</th>\n",
              "      <td>(1, 1)+tfidf_char</td>\n",
              "      <td>0.933068</td>\n",
              "      <td>52781</td>\n",
              "    </tr>\n",
              "    <tr>\n",
              "      <th>2</th>\n",
              "      <td>(1, 2)</td>\n",
              "      <td>0.928287</td>\n",
              "      <td>92307</td>\n",
              "    </tr>\n",
              "    <tr>\n",
              "      <th>3</th>\n",
              "      <td>(1, 2)+tfidf_char</td>\n",
              "      <td>0.930677</td>\n",
              "      <td>132307</td>\n",
              "    </tr>\n",
              "    <tr>\n",
              "      <th>4</th>\n",
              "      <td>(1, 3)</td>\n",
              "      <td>0.926693</td>\n",
              "      <td>181964</td>\n",
              "    </tr>\n",
              "  </tbody>\n",
              "</table>\n",
              "</div>"
            ],
            "text/plain": [
              "              config     score  vocab_size\n",
              "0             (1, 1)  0.927490       12781\n",
              "1  (1, 1)+tfidf_char  0.933068       52781\n",
              "2             (1, 2)  0.928287       92307\n",
              "3  (1, 2)+tfidf_char  0.930677      132307\n",
              "4             (1, 3)  0.926693      181964"
            ]
          },
          "metadata": {
            "tags": []
          },
          "execution_count": 68
        }
      ]
    },
    {
      "cell_type": "code",
      "metadata": {
        "id": "IJRKvl6PP8jG",
        "colab_type": "code",
        "colab": {
          "base_uri": "https://localhost:8080/",
          "height": 542
        },
        "outputId": "d2469809-43fc-4965-84f6-9bb5dc33344a"
      },
      "source": [
        "px.scatter(scores_df, x='config',y='score', color='config', size='vocab_size', labels={'config' : \"TF-IDF configuration\"}, title='Influence of ngram_range on model accuracy')"
      ],
      "execution_count": null,
      "outputs": [
        {
          "output_type": "display_data",
          "data": {
            "text/html": [
              "<html>\n",
              "<head><meta charset=\"utf-8\" /></head>\n",
              "<body>\n",
              "    <div>\n",
              "            <script src=\"https://cdnjs.cloudflare.com/ajax/libs/mathjax/2.7.5/MathJax.js?config=TeX-AMS-MML_SVG\"></script><script type=\"text/javascript\">if (window.MathJax) {MathJax.Hub.Config({SVG: {font: \"STIX-Web\"}});}</script>\n",
              "                <script type=\"text/javascript\">window.PlotlyConfig = {MathJaxConfig: 'local'};</script>\n",
              "        <script src=\"https://cdn.plot.ly/plotly-latest.min.js\"></script>    \n",
              "            <div id=\"619fdfa3-f4f7-48fb-a628-7673a8a7f4ed\" class=\"plotly-graph-div\" style=\"height:525px; width:100%;\"></div>\n",
              "            <script type=\"text/javascript\">\n",
              "                \n",
              "                    window.PLOTLYENV=window.PLOTLYENV || {};\n",
              "                    \n",
              "                if (document.getElementById(\"619fdfa3-f4f7-48fb-a628-7673a8a7f4ed\")) {\n",
              "                    Plotly.newPlot(\n",
              "                        '619fdfa3-f4f7-48fb-a628-7673a8a7f4ed',\n",
              "                        [{\"hoverlabel\": {\"namelength\": 0}, \"hovertemplate\": \"TF-IDF configuration=%{x}<br>score=%{y}<br>vocab_size=%{marker.size}\", \"legendgroup\": \"TF-IDF configuration=(1, 1)\", \"marker\": {\"color\": \"#636efa\", \"size\": [12781], \"sizemode\": \"area\", \"sizeref\": 554.91, \"symbol\": \"circle\"}, \"mode\": \"markers\", \"name\": \"TF-IDF configuration=(1, 1)\", \"showlegend\": true, \"type\": \"scatter\", \"x\": [\"(1, 1)\"], \"xaxis\": \"x\", \"y\": [0.9274900398406374], \"yaxis\": \"y\"}, {\"hoverlabel\": {\"namelength\": 0}, \"hovertemplate\": \"TF-IDF configuration=%{x}<br>score=%{y}<br>vocab_size=%{marker.size}\", \"legendgroup\": \"TF-IDF configuration=(1, 1)+tfidf_char\", \"marker\": {\"color\": \"#EF553B\", \"size\": [52781], \"sizemode\": \"area\", \"sizeref\": 554.91, \"symbol\": \"circle\"}, \"mode\": \"markers\", \"name\": \"TF-IDF configuration=(1, 1)+tfidf_char\", \"showlegend\": true, \"type\": \"scatter\", \"x\": [\"(1, 1)+tfidf_char\"], \"xaxis\": \"x\", \"y\": [0.9330677290836652], \"yaxis\": \"y\"}, {\"hoverlabel\": {\"namelength\": 0}, \"hovertemplate\": \"TF-IDF configuration=%{x}<br>score=%{y}<br>vocab_size=%{marker.size}\", \"legendgroup\": \"TF-IDF configuration=(1, 2)\", \"marker\": {\"color\": \"#00cc96\", \"size\": [92307], \"sizemode\": \"area\", \"sizeref\": 554.91, \"symbol\": \"circle\"}, \"mode\": \"markers\", \"name\": \"TF-IDF configuration=(1, 2)\", \"showlegend\": true, \"type\": \"scatter\", \"x\": [\"(1, 2)\"], \"xaxis\": \"x\", \"y\": [0.9282868525896413], \"yaxis\": \"y\"}, {\"hoverlabel\": {\"namelength\": 0}, \"hovertemplate\": \"TF-IDF configuration=%{x}<br>score=%{y}<br>vocab_size=%{marker.size}\", \"legendgroup\": \"TF-IDF configuration=(1, 2)+tfidf_char\", \"marker\": {\"color\": \"#ab63fa\", \"size\": [132307], \"sizemode\": \"area\", \"sizeref\": 554.91, \"symbol\": \"circle\"}, \"mode\": \"markers\", \"name\": \"TF-IDF configuration=(1, 2)+tfidf_char\", \"showlegend\": true, \"type\": \"scatter\", \"x\": [\"(1, 2)+tfidf_char\"], \"xaxis\": \"x\", \"y\": [0.9306772908366534], \"yaxis\": \"y\"}, {\"hoverlabel\": {\"namelength\": 0}, \"hovertemplate\": \"TF-IDF configuration=%{x}<br>score=%{y}<br>vocab_size=%{marker.size}\", \"legendgroup\": \"TF-IDF configuration=(1, 3)\", \"marker\": {\"color\": \"#FFA15A\", \"size\": [181964], \"sizemode\": \"area\", \"sizeref\": 554.91, \"symbol\": \"circle\"}, \"mode\": \"markers\", \"name\": \"TF-IDF configuration=(1, 3)\", \"showlegend\": true, \"type\": \"scatter\", \"x\": [\"(1, 3)\"], \"xaxis\": \"x\", \"y\": [0.9266932270916334], \"yaxis\": \"y\"}, {\"hoverlabel\": {\"namelength\": 0}, \"hovertemplate\": \"TF-IDF configuration=%{x}<br>score=%{y}<br>vocab_size=%{marker.size}\", \"legendgroup\": \"TF-IDF configuration=(1, 3)+tfidf_char\", \"marker\": {\"color\": \"#19d3f3\", \"size\": [221964], \"sizemode\": \"area\", \"sizeref\": 554.91, \"symbol\": \"circle\"}, \"mode\": \"markers\", \"name\": \"TF-IDF configuration=(1, 3)+tfidf_char\", \"showlegend\": true, \"type\": \"scatter\", \"x\": [\"(1, 3)+tfidf_char\"], \"xaxis\": \"x\", \"y\": [0.9306772908366534], \"yaxis\": \"y\"}],\n",
              "                        {\"legend\": {\"itemsizing\": \"constant\", \"tracegroupgap\": 0}, \"template\": {\"data\": {\"bar\": [{\"error_x\": {\"color\": \"#2a3f5f\"}, \"error_y\": {\"color\": \"#2a3f5f\"}, \"marker\": {\"line\": {\"color\": \"#E5ECF6\", \"width\": 0.5}}, \"type\": \"bar\"}], \"barpolar\": [{\"marker\": {\"line\": {\"color\": \"#E5ECF6\", \"width\": 0.5}}, \"type\": \"barpolar\"}], \"carpet\": [{\"aaxis\": {\"endlinecolor\": \"#2a3f5f\", \"gridcolor\": \"white\", \"linecolor\": \"white\", \"minorgridcolor\": \"white\", \"startlinecolor\": \"#2a3f5f\"}, \"baxis\": {\"endlinecolor\": \"#2a3f5f\", \"gridcolor\": \"white\", \"linecolor\": \"white\", \"minorgridcolor\": \"white\", \"startlinecolor\": \"#2a3f5f\"}, \"type\": \"carpet\"}], \"choropleth\": [{\"colorbar\": {\"outlinewidth\": 0, \"ticks\": \"\"}, \"type\": \"choropleth\"}], \"contour\": [{\"colorbar\": {\"outlinewidth\": 0, \"ticks\": \"\"}, \"colorscale\": [[0.0, \"#0d0887\"], [0.1111111111111111, \"#46039f\"], [0.2222222222222222, \"#7201a8\"], [0.3333333333333333, \"#9c179e\"], [0.4444444444444444, \"#bd3786\"], [0.5555555555555556, \"#d8576b\"], [0.6666666666666666, \"#ed7953\"], [0.7777777777777778, \"#fb9f3a\"], [0.8888888888888888, \"#fdca26\"], [1.0, \"#f0f921\"]], \"type\": \"contour\"}], \"contourcarpet\": [{\"colorbar\": {\"outlinewidth\": 0, \"ticks\": \"\"}, \"type\": \"contourcarpet\"}], \"heatmap\": [{\"colorbar\": {\"outlinewidth\": 0, \"ticks\": \"\"}, \"colorscale\": [[0.0, \"#0d0887\"], [0.1111111111111111, \"#46039f\"], [0.2222222222222222, \"#7201a8\"], [0.3333333333333333, \"#9c179e\"], [0.4444444444444444, \"#bd3786\"], [0.5555555555555556, \"#d8576b\"], [0.6666666666666666, \"#ed7953\"], [0.7777777777777778, \"#fb9f3a\"], [0.8888888888888888, \"#fdca26\"], [1.0, \"#f0f921\"]], \"type\": \"heatmap\"}], \"heatmapgl\": [{\"colorbar\": {\"outlinewidth\": 0, \"ticks\": \"\"}, \"colorscale\": [[0.0, \"#0d0887\"], [0.1111111111111111, \"#46039f\"], [0.2222222222222222, \"#7201a8\"], [0.3333333333333333, \"#9c179e\"], [0.4444444444444444, \"#bd3786\"], [0.5555555555555556, \"#d8576b\"], [0.6666666666666666, \"#ed7953\"], [0.7777777777777778, \"#fb9f3a\"], [0.8888888888888888, \"#fdca26\"], [1.0, \"#f0f921\"]], \"type\": \"heatmapgl\"}], \"histogram\": [{\"marker\": {\"colorbar\": {\"outlinewidth\": 0, \"ticks\": \"\"}}, \"type\": \"histogram\"}], \"histogram2d\": [{\"colorbar\": {\"outlinewidth\": 0, \"ticks\": \"\"}, \"colorscale\": [[0.0, \"#0d0887\"], [0.1111111111111111, \"#46039f\"], [0.2222222222222222, \"#7201a8\"], [0.3333333333333333, \"#9c179e\"], [0.4444444444444444, \"#bd3786\"], [0.5555555555555556, \"#d8576b\"], [0.6666666666666666, \"#ed7953\"], [0.7777777777777778, \"#fb9f3a\"], [0.8888888888888888, \"#fdca26\"], [1.0, \"#f0f921\"]], \"type\": \"histogram2d\"}], \"histogram2dcontour\": [{\"colorbar\": {\"outlinewidth\": 0, \"ticks\": \"\"}, \"colorscale\": [[0.0, \"#0d0887\"], [0.1111111111111111, \"#46039f\"], [0.2222222222222222, \"#7201a8\"], [0.3333333333333333, \"#9c179e\"], [0.4444444444444444, \"#bd3786\"], [0.5555555555555556, \"#d8576b\"], [0.6666666666666666, \"#ed7953\"], [0.7777777777777778, \"#fb9f3a\"], [0.8888888888888888, \"#fdca26\"], [1.0, \"#f0f921\"]], \"type\": \"histogram2dcontour\"}], \"mesh3d\": [{\"colorbar\": {\"outlinewidth\": 0, \"ticks\": \"\"}, \"type\": \"mesh3d\"}], \"parcoords\": [{\"line\": {\"colorbar\": {\"outlinewidth\": 0, \"ticks\": \"\"}}, \"type\": \"parcoords\"}], \"pie\": [{\"automargin\": true, \"type\": \"pie\"}], \"scatter\": [{\"marker\": {\"colorbar\": {\"outlinewidth\": 0, \"ticks\": \"\"}}, \"type\": \"scatter\"}], \"scatter3d\": [{\"line\": {\"colorbar\": {\"outlinewidth\": 0, \"ticks\": \"\"}}, \"marker\": {\"colorbar\": {\"outlinewidth\": 0, \"ticks\": \"\"}}, \"type\": \"scatter3d\"}], \"scattercarpet\": [{\"marker\": {\"colorbar\": {\"outlinewidth\": 0, \"ticks\": \"\"}}, \"type\": \"scattercarpet\"}], \"scattergeo\": [{\"marker\": {\"colorbar\": {\"outlinewidth\": 0, \"ticks\": \"\"}}, \"type\": \"scattergeo\"}], \"scattergl\": [{\"marker\": {\"colorbar\": {\"outlinewidth\": 0, \"ticks\": \"\"}}, \"type\": \"scattergl\"}], \"scattermapbox\": [{\"marker\": {\"colorbar\": {\"outlinewidth\": 0, \"ticks\": \"\"}}, \"type\": \"scattermapbox\"}], \"scatterpolar\": [{\"marker\": {\"colorbar\": {\"outlinewidth\": 0, \"ticks\": \"\"}}, \"type\": \"scatterpolar\"}], \"scatterpolargl\": [{\"marker\": {\"colorbar\": {\"outlinewidth\": 0, \"ticks\": \"\"}}, \"type\": \"scatterpolargl\"}], \"scatterternary\": [{\"marker\": {\"colorbar\": {\"outlinewidth\": 0, \"ticks\": \"\"}}, \"type\": \"scatterternary\"}], \"surface\": [{\"colorbar\": {\"outlinewidth\": 0, \"ticks\": \"\"}, \"colorscale\": [[0.0, \"#0d0887\"], [0.1111111111111111, \"#46039f\"], [0.2222222222222222, \"#7201a8\"], [0.3333333333333333, \"#9c179e\"], [0.4444444444444444, \"#bd3786\"], [0.5555555555555556, \"#d8576b\"], [0.6666666666666666, \"#ed7953\"], [0.7777777777777778, \"#fb9f3a\"], [0.8888888888888888, \"#fdca26\"], [1.0, \"#f0f921\"]], \"type\": \"surface\"}], \"table\": [{\"cells\": {\"fill\": {\"color\": \"#EBF0F8\"}, \"line\": {\"color\": \"white\"}}, \"header\": {\"fill\": {\"color\": \"#C8D4E3\"}, \"line\": {\"color\": \"white\"}}, \"type\": \"table\"}]}, \"layout\": {\"annotationdefaults\": {\"arrowcolor\": \"#2a3f5f\", \"arrowhead\": 0, \"arrowwidth\": 1}, \"coloraxis\": {\"colorbar\": {\"outlinewidth\": 0, \"ticks\": \"\"}}, \"colorscale\": {\"diverging\": [[0, \"#8e0152\"], [0.1, \"#c51b7d\"], [0.2, \"#de77ae\"], [0.3, \"#f1b6da\"], [0.4, \"#fde0ef\"], [0.5, \"#f7f7f7\"], [0.6, \"#e6f5d0\"], [0.7, \"#b8e186\"], [0.8, \"#7fbc41\"], [0.9, \"#4d9221\"], [1, \"#276419\"]], \"sequential\": [[0.0, \"#0d0887\"], [0.1111111111111111, \"#46039f\"], [0.2222222222222222, \"#7201a8\"], [0.3333333333333333, \"#9c179e\"], [0.4444444444444444, \"#bd3786\"], [0.5555555555555556, \"#d8576b\"], [0.6666666666666666, \"#ed7953\"], [0.7777777777777778, \"#fb9f3a\"], [0.8888888888888888, \"#fdca26\"], [1.0, \"#f0f921\"]], \"sequentialminus\": [[0.0, \"#0d0887\"], [0.1111111111111111, \"#46039f\"], [0.2222222222222222, \"#7201a8\"], [0.3333333333333333, \"#9c179e\"], [0.4444444444444444, \"#bd3786\"], [0.5555555555555556, \"#d8576b\"], [0.6666666666666666, \"#ed7953\"], [0.7777777777777778, \"#fb9f3a\"], [0.8888888888888888, \"#fdca26\"], [1.0, \"#f0f921\"]]}, \"colorway\": [\"#636efa\", \"#EF553B\", \"#00cc96\", \"#ab63fa\", \"#FFA15A\", \"#19d3f3\", \"#FF6692\", \"#B6E880\", \"#FF97FF\", \"#FECB52\"], \"font\": {\"color\": \"#2a3f5f\"}, \"geo\": {\"bgcolor\": \"white\", \"lakecolor\": \"white\", \"landcolor\": \"#E5ECF6\", \"showlakes\": true, \"showland\": true, \"subunitcolor\": \"white\"}, \"hoverlabel\": {\"align\": \"left\"}, \"hovermode\": \"closest\", \"mapbox\": {\"style\": \"light\"}, \"paper_bgcolor\": \"white\", \"plot_bgcolor\": \"#E5ECF6\", \"polar\": {\"angularaxis\": {\"gridcolor\": \"white\", \"linecolor\": \"white\", \"ticks\": \"\"}, \"bgcolor\": \"#E5ECF6\", \"radialaxis\": {\"gridcolor\": \"white\", \"linecolor\": \"white\", \"ticks\": \"\"}}, \"scene\": {\"xaxis\": {\"backgroundcolor\": \"#E5ECF6\", \"gridcolor\": \"white\", \"gridwidth\": 2, \"linecolor\": \"white\", \"showbackground\": true, \"ticks\": \"\", \"zerolinecolor\": \"white\"}, \"yaxis\": {\"backgroundcolor\": \"#E5ECF6\", \"gridcolor\": \"white\", \"gridwidth\": 2, \"linecolor\": \"white\", \"showbackground\": true, \"ticks\": \"\", \"zerolinecolor\": \"white\"}, \"zaxis\": {\"backgroundcolor\": \"#E5ECF6\", \"gridcolor\": \"white\", \"gridwidth\": 2, \"linecolor\": \"white\", \"showbackground\": true, \"ticks\": \"\", \"zerolinecolor\": \"white\"}}, \"shapedefaults\": {\"line\": {\"color\": \"#2a3f5f\"}}, \"ternary\": {\"aaxis\": {\"gridcolor\": \"white\", \"linecolor\": \"white\", \"ticks\": \"\"}, \"baxis\": {\"gridcolor\": \"white\", \"linecolor\": \"white\", \"ticks\": \"\"}, \"bgcolor\": \"#E5ECF6\", \"caxis\": {\"gridcolor\": \"white\", \"linecolor\": \"white\", \"ticks\": \"\"}}, \"title\": {\"x\": 0.05}, \"xaxis\": {\"automargin\": true, \"gridcolor\": \"white\", \"linecolor\": \"white\", \"ticks\": \"\", \"title\": {\"standoff\": 15}, \"zerolinecolor\": \"white\", \"zerolinewidth\": 2}, \"yaxis\": {\"automargin\": true, \"gridcolor\": \"white\", \"linecolor\": \"white\", \"ticks\": \"\", \"title\": {\"standoff\": 15}, \"zerolinecolor\": \"white\", \"zerolinewidth\": 2}}}, \"title\": {\"text\": \"Influence of ngram_range on model accuracy\"}, \"xaxis\": {\"anchor\": \"y\", \"categoryarray\": [\"(1, 1)\", \"(1, 1)+tfidf_char\", \"(1, 2)\", \"(1, 2)+tfidf_char\", \"(1, 3)\", \"(1, 3)+tfidf_char\"], \"categoryorder\": \"array\", \"domain\": [0.0, 1.0], \"title\": {\"text\": \"TF-IDF configuration\"}}, \"yaxis\": {\"anchor\": \"x\", \"domain\": [0.0, 1.0], \"title\": {\"text\": \"score\"}}},\n",
              "                        {\"responsive\": true}\n",
              "                    ).then(function(){\n",
              "                            \n",
              "var gd = document.getElementById('619fdfa3-f4f7-48fb-a628-7673a8a7f4ed');\n",
              "var x = new MutationObserver(function (mutations, observer) {{\n",
              "        var display = window.getComputedStyle(gd).display;\n",
              "        if (!display || display === 'none') {{\n",
              "            console.log([gd, 'removed!']);\n",
              "            Plotly.purge(gd);\n",
              "            observer.disconnect();\n",
              "        }}\n",
              "}});\n",
              "\n",
              "// Listen for the removal of the full notebook cells\n",
              "var notebookContainer = gd.closest('#notebook-container');\n",
              "if (notebookContainer) {{\n",
              "    x.observe(notebookContainer, {childList: true});\n",
              "}}\n",
              "\n",
              "// Listen for the clearing of the current output cell\n",
              "var outputEl = gd.closest('.output');\n",
              "if (outputEl) {{\n",
              "    x.observe(outputEl, {childList: true});\n",
              "}}\n",
              "\n",
              "                        })\n",
              "                };\n",
              "                \n",
              "            </script>\n",
              "        </div>\n",
              "</body>\n",
              "</html>"
            ]
          },
          "metadata": {
            "tags": []
          }
        }
      ]
    },
    {
      "cell_type": "markdown",
      "metadata": {
        "id": "eZzMtdI9T7Pk",
        "colab_type": "text"
      },
      "source": [
        "Increasing the ngram value decreases the performance of our model. By increasing it, we increase the size of our vocabulary. We can see that this increase decreases the score of our SVC trained with the default parameters.\n",
        "\n",
        "On the other hand, we can see that the coupling of the two Tfidf improves always provides better results than the model alone."
      ]
    },
    {
      "cell_type": "markdown",
      "metadata": {
        "id": "wKunpBc1RWcK",
        "colab_type": "text"
      },
      "source": [
        "#### **Conclusion**\n",
        "\n",
        "* We get the best performance with the (1,2) ngram_range.\n",
        "\n",
        "* Coupling the two tfidf increase the accuracy by almost 1% for all the model that implement it. \n",
        "\n",
        "**ngram_range** prameter permits to enrich the vocabulary be creating tokens. But this increase in vocabulary reduce the model precision. We hypothesized that our model over-adjusts when we increase the data.\n",
        "\n",
        "Pros : \n",
        "  - enrich the vocabulary \n",
        "\n",
        "Cons : \n",
        "  - Model loose in precision when the vocabulary size increased.\n",
        "\n",
        "\n",
        "---\n",
        "---\n",
        "\n",
        "\n",
        "The tfidf **\"coupling technic\"** improve the model recall and accuracy .  \n",
        "\n",
        "Pros : \n",
        "  - Better recall and accuracy \n",
        "\n",
        "Cons : \n",
        "  - Increased the training time\n",
        "  - Interpretability become unreadable with Lime and Shap text analyzer.\n",
        "\n",
        "\n",
        " In order to improve the performance of our algorithm with NGRAM we need to do **feature engineering** to adapt the model to the vocabulary size. "
      ]
    },
    {
      "cell_type": "markdown",
      "metadata": {
        "id": "0U96sYR0OBc3",
        "colab_type": "text"
      },
      "source": [
        "\n",
        "## Max_feature impact \n",
        "\n",
        "\n",
        "We will study in detail the impact on performance of this parameter. It allows you to limit the vocabulary to the **max_feature** words with the highest TF-IDF values. "
      ]
    },
    {
      "cell_type": "code",
      "metadata": {
        "id": "1Ak6ecapNpMt",
        "colab_type": "code",
        "colab": {}
      },
      "source": [
        "vect_word_max_feature = TfidfVectorizer(analyzer='word', tokenizer=prepareText, ngram_range=(1,3), dtype=np.float32)"
      ],
      "execution_count": null,
      "outputs": []
    },
    {
      "cell_type": "code",
      "metadata": {
        "id": "nWvWg7E7N1SX",
        "colab_type": "code",
        "colab": {}
      },
      "source": [
        "vocab_size_prop = [0.01, 0.03, 0.05, 0.08, 0.1, 0.2, 0.3, 0.4, 0.5, 0.6, 0.7, 0.8, 0.9]"
      ],
      "execution_count": null,
      "outputs": []
    },
    {
      "cell_type": "markdown",
      "metadata": {
        "id": "Kj3LKDSLiMfP",
        "colab_type": "text"
      },
      "source": [
        "This table contains the different percentages of vocabulary sizes that we will test. We will build and train a tfidf with each of those size. "
      ]
    },
    {
      "cell_type": "code",
      "metadata": {
        "id": "PAWBbx2uOATp",
        "colab_type": "code",
        "colab": {
          "base_uri": "https://localhost:8080/",
          "height": 221
        },
        "outputId": "fd476b25-b401-4189-95fa-8b0243fcd665"
      },
      "source": [
        "vect_word_max_feature.fit(x_train)"
      ],
      "execution_count": null,
      "outputs": [
        {
          "output_type": "stream",
          "text": [
            "/usr/local/lib/python3.6/dist-packages/sklearn/feature_extraction/text.py:507: UserWarning:\n",
            "\n",
            "The parameter 'token_pattern' will not be used since 'tokenizer' is not None'\n",
            "\n"
          ],
          "name": "stderr"
        },
        {
          "output_type": "execute_result",
          "data": {
            "text/plain": [
              "TfidfVectorizer(analyzer='word', binary=False, decode_error='strict',\n",
              "                dtype=<class 'numpy.float32'>, encoding='utf-8',\n",
              "                input='content', lowercase=True, max_df=1.0, max_features=None,\n",
              "                min_df=1, ngram_range=(1, 3), norm='l2', preprocessor=None,\n",
              "                smooth_idf=True, stop_words=None, strip_accents=None,\n",
              "                sublinear_tf=False, token_pattern='(?u)\\\\b\\\\w\\\\w+\\\\b',\n",
              "                tokenizer=<function prepareText at 0x7f77fdf88158>,\n",
              "                use_idf=True, vocabulary=None)"
            ]
          },
          "metadata": {
            "tags": []
          },
          "execution_count": 72
        }
      ]
    },
    {
      "cell_type": "code",
      "metadata": {
        "id": "6m1HDiZeOPI9",
        "colab_type": "code",
        "colab": {}
      },
      "source": [
        "vocab_size = len(vect_word_max_feature.vocabulary_)"
      ],
      "execution_count": null,
      "outputs": []
    },
    {
      "cell_type": "code",
      "metadata": {
        "id": "dCwCyRp2DA_a",
        "colab_type": "code",
        "colab": {}
      },
      "source": [
        "import math"
      ],
      "execution_count": null,
      "outputs": []
    },
    {
      "cell_type": "code",
      "metadata": {
        "id": "PIFCbi9mS8fH",
        "colab_type": "code",
        "colab": {}
      },
      "source": [
        "from sklearn.metrics import accuracy_score, precision_score, f1_score, roc_auc_score, recall_score\n",
        "from sklearn.model_selection import cross_val_score\n",
        "from sklearn.metrics import classification_report"
      ],
      "execution_count": null,
      "outputs": []
    },
    {
      "cell_type": "markdown",
      "metadata": {
        "id": "nl83dyUETJ5j",
        "colab_type": "text"
      },
      "source": [
        "#### **Cross validation**"
      ]
    },
    {
      "cell_type": "markdown",
      "metadata": {
        "id": "JZ4z9WUsL0mw",
        "colab_type": "text"
      },
      "source": [
        "Let's validate our results with cross-validation"
      ]
    },
    {
      "cell_type": "code",
      "metadata": {
        "id": "wlTOk18mxUaQ",
        "colab_type": "code",
        "colab": {}
      },
      "source": [
        "from datetime import datetime\n",
        "\n",
        "from sklearn.linear_model import LogisticRegression"
      ],
      "execution_count": null,
      "outputs": []
    },
    {
      "cell_type": "code",
      "metadata": {
        "id": "v0H233z284AW",
        "colab_type": "code",
        "colab": {
          "base_uri": "https://localhost:8080/",
          "height": 51
        },
        "outputId": "4b59e953-a9eb-4250-cca3-e296070599c7"
      },
      "source": [
        "%%time \n",
        "import numpy as np\n",
        "\n",
        "svc = LinearSVC()\n",
        "report_max_feature = []\n",
        "report_f1_score = []\n",
        "report_time = []\n",
        "report_vect_shape = []\n",
        "\n",
        "for prop in vocab_size_prop:\n",
        "  max_feature = math.ceil(vocab_size * prop)\n",
        "  vect = TfidfVectorizer(analyzer='word', tokenizer=prepareText, max_features=max_feature, ngram_range=(1,3), dtype=np.float32)\n",
        "  start = datetime.now()\n",
        "  vect_corpus = vect.fit_transform(x_train)\n",
        "  scores = cross_val_score(svc, vect_corpus, y_train,scoring='accuracy')\n",
        "  end = datetime.now()\n",
        "  report_time.append(end-start)\n",
        "  report_vect_shape.append(str(vect_corpus.shape))\n",
        "  report_f1_score.append(np.mean(scores))\n",
        "  report_max_feature.append(max_feature)"
      ],
      "execution_count": null,
      "outputs": [
        {
          "output_type": "stream",
          "text": [
            "CPU times: user 10min 57s, sys: 4.61 s, total: 11min 2s\n",
            "Wall time: 11min 2s\n"
          ],
          "name": "stdout"
        }
      ]
    },
    {
      "cell_type": "code",
      "metadata": {
        "id": "HO8g-DDU9Ei1",
        "colab_type": "code",
        "colab": {}
      },
      "source": [
        "report_svc = {'max feature' : report_max_feature, 'proportion' : vocab_size_prop, 'duration' : report_time, 'vector shape' : report_vect_shape,'f1-score' : report_f1_score}"
      ],
      "execution_count": null,
      "outputs": []
    },
    {
      "cell_type": "code",
      "metadata": {
        "id": "CKmbnl429Seb",
        "colab_type": "code",
        "colab": {}
      },
      "source": [
        "df_svc = pd.DataFrame(report_svc)"
      ],
      "execution_count": null,
      "outputs": []
    },
    {
      "cell_type": "code",
      "metadata": {
        "id": "poDkO8ibS5hZ",
        "colab_type": "code",
        "colab": {
          "base_uri": "https://localhost:8080/",
          "height": 452
        },
        "outputId": "121afaf5-4cb8-43ad-c84d-103022737fc5"
      },
      "source": [
        "df_svc"
      ],
      "execution_count": null,
      "outputs": [
        {
          "output_type": "execute_result",
          "data": {
            "text/html": [
              "<div>\n",
              "<style scoped>\n",
              "    .dataframe tbody tr th:only-of-type {\n",
              "        vertical-align: middle;\n",
              "    }\n",
              "\n",
              "    .dataframe tbody tr th {\n",
              "        vertical-align: top;\n",
              "    }\n",
              "\n",
              "    .dataframe thead th {\n",
              "        text-align: right;\n",
              "    }\n",
              "</style>\n",
              "<table border=\"1\" class=\"dataframe\">\n",
              "  <thead>\n",
              "    <tr style=\"text-align: right;\">\n",
              "      <th></th>\n",
              "      <th>max feature</th>\n",
              "      <th>proportion</th>\n",
              "      <th>duration</th>\n",
              "      <th>vector shape</th>\n",
              "      <th>f1-score</th>\n",
              "    </tr>\n",
              "  </thead>\n",
              "  <tbody>\n",
              "    <tr>\n",
              "      <th>0</th>\n",
              "      <td>1820</td>\n",
              "      <td>0.01</td>\n",
              "      <td>00:00:51.953483</td>\n",
              "      <td>(1255, 1820)</td>\n",
              "      <td>0.919522</td>\n",
              "    </tr>\n",
              "    <tr>\n",
              "      <th>1</th>\n",
              "      <td>5459</td>\n",
              "      <td>0.03</td>\n",
              "      <td>00:00:51.574035</td>\n",
              "      <td>(1255, 5459)</td>\n",
              "      <td>0.933865</td>\n",
              "    </tr>\n",
              "    <tr>\n",
              "      <th>2</th>\n",
              "      <td>9099</td>\n",
              "      <td>0.05</td>\n",
              "      <td>00:00:51.235053</td>\n",
              "      <td>(1255, 9099)</td>\n",
              "      <td>0.930677</td>\n",
              "    </tr>\n",
              "    <tr>\n",
              "      <th>3</th>\n",
              "      <td>14558</td>\n",
              "      <td>0.08</td>\n",
              "      <td>00:00:51.164784</td>\n",
              "      <td>(1255, 14558)</td>\n",
              "      <td>0.931474</td>\n",
              "    </tr>\n",
              "    <tr>\n",
              "      <th>4</th>\n",
              "      <td>18197</td>\n",
              "      <td>0.10</td>\n",
              "      <td>00:00:50.982480</td>\n",
              "      <td>(1255, 18197)</td>\n",
              "      <td>0.933068</td>\n",
              "    </tr>\n",
              "    <tr>\n",
              "      <th>5</th>\n",
              "      <td>36393</td>\n",
              "      <td>0.20</td>\n",
              "      <td>00:00:50.929798</td>\n",
              "      <td>(1255, 36393)</td>\n",
              "      <td>0.931474</td>\n",
              "    </tr>\n",
              "    <tr>\n",
              "      <th>6</th>\n",
              "      <td>54590</td>\n",
              "      <td>0.30</td>\n",
              "      <td>00:00:51.139359</td>\n",
              "      <td>(1255, 54590)</td>\n",
              "      <td>0.930677</td>\n",
              "    </tr>\n",
              "    <tr>\n",
              "      <th>7</th>\n",
              "      <td>72786</td>\n",
              "      <td>0.40</td>\n",
              "      <td>00:00:50.962535</td>\n",
              "      <td>(1255, 72786)</td>\n",
              "      <td>0.930677</td>\n",
              "    </tr>\n",
              "    <tr>\n",
              "      <th>8</th>\n",
              "      <td>90982</td>\n",
              "      <td>0.50</td>\n",
              "      <td>00:00:50.331637</td>\n",
              "      <td>(1255, 90982)</td>\n",
              "      <td>0.929880</td>\n",
              "    </tr>\n",
              "    <tr>\n",
              "      <th>9</th>\n",
              "      <td>109179</td>\n",
              "      <td>0.60</td>\n",
              "      <td>00:00:50.560483</td>\n",
              "      <td>(1255, 109179)</td>\n",
              "      <td>0.927490</td>\n",
              "    </tr>\n",
              "    <tr>\n",
              "      <th>10</th>\n",
              "      <td>127375</td>\n",
              "      <td>0.70</td>\n",
              "      <td>00:00:50.860630</td>\n",
              "      <td>(1255, 127375)</td>\n",
              "      <td>0.930677</td>\n",
              "    </tr>\n",
              "    <tr>\n",
              "      <th>11</th>\n",
              "      <td>145572</td>\n",
              "      <td>0.80</td>\n",
              "      <td>00:00:50.448699</td>\n",
              "      <td>(1255, 145572)</td>\n",
              "      <td>0.928287</td>\n",
              "    </tr>\n",
              "    <tr>\n",
              "      <th>12</th>\n",
              "      <td>163768</td>\n",
              "      <td>0.90</td>\n",
              "      <td>00:00:50.408273</td>\n",
              "      <td>(1255, 163768)</td>\n",
              "      <td>0.925896</td>\n",
              "    </tr>\n",
              "  </tbody>\n",
              "</table>\n",
              "</div>"
            ],
            "text/plain": [
              "    max feature  proportion        duration    vector shape  f1-score\n",
              "0          1820        0.01 00:00:51.953483    (1255, 1820)  0.919522\n",
              "1          5459        0.03 00:00:51.574035    (1255, 5459)  0.933865\n",
              "2          9099        0.05 00:00:51.235053    (1255, 9099)  0.930677\n",
              "3         14558        0.08 00:00:51.164784   (1255, 14558)  0.931474\n",
              "4         18197        0.10 00:00:50.982480   (1255, 18197)  0.933068\n",
              "5         36393        0.20 00:00:50.929798   (1255, 36393)  0.931474\n",
              "6         54590        0.30 00:00:51.139359   (1255, 54590)  0.930677\n",
              "7         72786        0.40 00:00:50.962535   (1255, 72786)  0.930677\n",
              "8         90982        0.50 00:00:50.331637   (1255, 90982)  0.929880\n",
              "9        109179        0.60 00:00:50.560483  (1255, 109179)  0.927490\n",
              "10       127375        0.70 00:00:50.860630  (1255, 127375)  0.930677\n",
              "11       145572        0.80 00:00:50.448699  (1255, 145572)  0.928287\n",
              "12       163768        0.90 00:00:50.408273  (1255, 163768)  0.925896"
            ]
          },
          "metadata": {
            "tags": []
          },
          "execution_count": 87
        }
      ]
    },
    {
      "cell_type": "code",
      "metadata": {
        "id": "6n5Evz1NDoCL",
        "colab_type": "code",
        "colab": {
          "base_uri": "https://localhost:8080/",
          "height": 542
        },
        "outputId": "6ab54b6d-6cdf-46b5-8035-ae2115382ea5"
      },
      "source": [
        "px.scatter(df_svc,x='max feature',y='f1-score', color='proportion', size='proportion', labels={'max feature' : \"Vocabulary Size\"}, title='Influence of vocabulary size on accuracy')"
      ],
      "execution_count": null,
      "outputs": [
        {
          "output_type": "display_data",
          "data": {
            "text/html": [
              "<html>\n",
              "<head><meta charset=\"utf-8\" /></head>\n",
              "<body>\n",
              "    <div>\n",
              "            <script src=\"https://cdnjs.cloudflare.com/ajax/libs/mathjax/2.7.5/MathJax.js?config=TeX-AMS-MML_SVG\"></script><script type=\"text/javascript\">if (window.MathJax) {MathJax.Hub.Config({SVG: {font: \"STIX-Web\"}});}</script>\n",
              "                <script type=\"text/javascript\">window.PlotlyConfig = {MathJaxConfig: 'local'};</script>\n",
              "        <script src=\"https://cdn.plot.ly/plotly-latest.min.js\"></script>    \n",
              "            <div id=\"578cdb97-b059-42e6-b45e-e5c362c25f95\" class=\"plotly-graph-div\" style=\"height:525px; width:100%;\"></div>\n",
              "            <script type=\"text/javascript\">\n",
              "                \n",
              "                    window.PLOTLYENV=window.PLOTLYENV || {};\n",
              "                    \n",
              "                if (document.getElementById(\"578cdb97-b059-42e6-b45e-e5c362c25f95\")) {\n",
              "                    Plotly.newPlot(\n",
              "                        '578cdb97-b059-42e6-b45e-e5c362c25f95',\n",
              "                        [{\"hoverlabel\": {\"namelength\": 0}, \"hovertemplate\": \"Vocabulary Size=%{x}<br>f1-score=%{y}<br>proportion=%{marker.color}\", \"legendgroup\": \"\", \"marker\": {\"color\": [0.01, 0.03, 0.05, 0.08, 0.1, 0.2, 0.3, 0.4, 0.5, 0.6, 0.7, 0.8, 0.9], \"coloraxis\": \"coloraxis\", \"size\": [0.01, 0.03, 0.05, 0.08, 0.1, 0.2, 0.3, 0.4, 0.5, 0.6, 0.7, 0.8, 0.9], \"sizemode\": \"area\", \"sizeref\": 0.0022500000000000003, \"symbol\": \"circle\"}, \"mode\": \"markers\", \"name\": \"\", \"showlegend\": false, \"type\": \"scatter\", \"x\": [1820, 5459, 9099, 14558, 18197, 36393, 54590, 72786, 90982, 109179, 127375, 145572, 163768], \"xaxis\": \"x\", \"y\": [0.9195219123505975, 0.9338645418326692, 0.9306772908366533, 0.9314741035856574, 0.9330677290836654, 0.9314741035856573, 0.9306772908366533, 0.9306772908366533, 0.9298804780876493, 0.9274900398406374, 0.9306772908366533, 0.9282868525896413, 0.9258964143426294], \"yaxis\": \"y\"}],\n",
              "                        {\"coloraxis\": {\"colorbar\": {\"title\": {\"text\": \"proportion\"}}, \"colorscale\": [[0.0, \"#0d0887\"], [0.1111111111111111, \"#46039f\"], [0.2222222222222222, \"#7201a8\"], [0.3333333333333333, \"#9c179e\"], [0.4444444444444444, \"#bd3786\"], [0.5555555555555556, \"#d8576b\"], [0.6666666666666666, \"#ed7953\"], [0.7777777777777778, \"#fb9f3a\"], [0.8888888888888888, \"#fdca26\"], [1.0, \"#f0f921\"]]}, \"legend\": {\"itemsizing\": \"constant\", \"tracegroupgap\": 0}, \"template\": {\"data\": {\"bar\": [{\"error_x\": {\"color\": \"#2a3f5f\"}, \"error_y\": {\"color\": \"#2a3f5f\"}, \"marker\": {\"line\": {\"color\": \"#E5ECF6\", \"width\": 0.5}}, \"type\": \"bar\"}], \"barpolar\": [{\"marker\": {\"line\": {\"color\": \"#E5ECF6\", \"width\": 0.5}}, \"type\": \"barpolar\"}], \"carpet\": [{\"aaxis\": {\"endlinecolor\": \"#2a3f5f\", \"gridcolor\": \"white\", \"linecolor\": \"white\", \"minorgridcolor\": \"white\", \"startlinecolor\": \"#2a3f5f\"}, \"baxis\": {\"endlinecolor\": \"#2a3f5f\", \"gridcolor\": \"white\", \"linecolor\": \"white\", \"minorgridcolor\": \"white\", \"startlinecolor\": \"#2a3f5f\"}, \"type\": \"carpet\"}], \"choropleth\": [{\"colorbar\": {\"outlinewidth\": 0, \"ticks\": \"\"}, \"type\": \"choropleth\"}], \"contour\": [{\"colorbar\": {\"outlinewidth\": 0, \"ticks\": \"\"}, \"colorscale\": [[0.0, \"#0d0887\"], [0.1111111111111111, \"#46039f\"], [0.2222222222222222, \"#7201a8\"], [0.3333333333333333, \"#9c179e\"], [0.4444444444444444, \"#bd3786\"], [0.5555555555555556, \"#d8576b\"], [0.6666666666666666, \"#ed7953\"], [0.7777777777777778, \"#fb9f3a\"], [0.8888888888888888, \"#fdca26\"], [1.0, \"#f0f921\"]], \"type\": \"contour\"}], \"contourcarpet\": [{\"colorbar\": {\"outlinewidth\": 0, \"ticks\": \"\"}, \"type\": \"contourcarpet\"}], \"heatmap\": [{\"colorbar\": {\"outlinewidth\": 0, \"ticks\": \"\"}, \"colorscale\": [[0.0, \"#0d0887\"], [0.1111111111111111, \"#46039f\"], [0.2222222222222222, \"#7201a8\"], [0.3333333333333333, \"#9c179e\"], [0.4444444444444444, \"#bd3786\"], [0.5555555555555556, \"#d8576b\"], [0.6666666666666666, \"#ed7953\"], [0.7777777777777778, \"#fb9f3a\"], [0.8888888888888888, \"#fdca26\"], [1.0, \"#f0f921\"]], \"type\": \"heatmap\"}], \"heatmapgl\": [{\"colorbar\": {\"outlinewidth\": 0, \"ticks\": \"\"}, \"colorscale\": [[0.0, \"#0d0887\"], [0.1111111111111111, \"#46039f\"], [0.2222222222222222, \"#7201a8\"], [0.3333333333333333, \"#9c179e\"], [0.4444444444444444, \"#bd3786\"], [0.5555555555555556, \"#d8576b\"], [0.6666666666666666, \"#ed7953\"], [0.7777777777777778, \"#fb9f3a\"], [0.8888888888888888, \"#fdca26\"], [1.0, \"#f0f921\"]], \"type\": \"heatmapgl\"}], \"histogram\": [{\"marker\": {\"colorbar\": {\"outlinewidth\": 0, \"ticks\": \"\"}}, \"type\": \"histogram\"}], \"histogram2d\": [{\"colorbar\": {\"outlinewidth\": 0, \"ticks\": \"\"}, \"colorscale\": [[0.0, \"#0d0887\"], [0.1111111111111111, \"#46039f\"], [0.2222222222222222, \"#7201a8\"], [0.3333333333333333, \"#9c179e\"], [0.4444444444444444, \"#bd3786\"], [0.5555555555555556, \"#d8576b\"], [0.6666666666666666, \"#ed7953\"], [0.7777777777777778, \"#fb9f3a\"], [0.8888888888888888, \"#fdca26\"], [1.0, \"#f0f921\"]], \"type\": \"histogram2d\"}], \"histogram2dcontour\": [{\"colorbar\": {\"outlinewidth\": 0, \"ticks\": \"\"}, \"colorscale\": [[0.0, \"#0d0887\"], [0.1111111111111111, \"#46039f\"], [0.2222222222222222, \"#7201a8\"], [0.3333333333333333, \"#9c179e\"], [0.4444444444444444, \"#bd3786\"], [0.5555555555555556, \"#d8576b\"], [0.6666666666666666, \"#ed7953\"], [0.7777777777777778, \"#fb9f3a\"], [0.8888888888888888, \"#fdca26\"], [1.0, \"#f0f921\"]], \"type\": \"histogram2dcontour\"}], \"mesh3d\": [{\"colorbar\": {\"outlinewidth\": 0, \"ticks\": \"\"}, \"type\": \"mesh3d\"}], \"parcoords\": [{\"line\": {\"colorbar\": {\"outlinewidth\": 0, \"ticks\": \"\"}}, \"type\": \"parcoords\"}], \"pie\": [{\"automargin\": true, \"type\": \"pie\"}], \"scatter\": [{\"marker\": {\"colorbar\": {\"outlinewidth\": 0, \"ticks\": \"\"}}, \"type\": \"scatter\"}], \"scatter3d\": [{\"line\": {\"colorbar\": {\"outlinewidth\": 0, \"ticks\": \"\"}}, \"marker\": {\"colorbar\": {\"outlinewidth\": 0, \"ticks\": \"\"}}, \"type\": \"scatter3d\"}], \"scattercarpet\": [{\"marker\": {\"colorbar\": {\"outlinewidth\": 0, \"ticks\": \"\"}}, \"type\": \"scattercarpet\"}], \"scattergeo\": [{\"marker\": {\"colorbar\": {\"outlinewidth\": 0, \"ticks\": \"\"}}, \"type\": \"scattergeo\"}], \"scattergl\": [{\"marker\": {\"colorbar\": {\"outlinewidth\": 0, \"ticks\": \"\"}}, \"type\": \"scattergl\"}], \"scattermapbox\": [{\"marker\": {\"colorbar\": {\"outlinewidth\": 0, \"ticks\": \"\"}}, \"type\": \"scattermapbox\"}], \"scatterpolar\": [{\"marker\": {\"colorbar\": {\"outlinewidth\": 0, \"ticks\": \"\"}}, \"type\": \"scatterpolar\"}], \"scatterpolargl\": [{\"marker\": {\"colorbar\": {\"outlinewidth\": 0, \"ticks\": \"\"}}, \"type\": \"scatterpolargl\"}], \"scatterternary\": [{\"marker\": {\"colorbar\": {\"outlinewidth\": 0, \"ticks\": \"\"}}, \"type\": \"scatterternary\"}], \"surface\": [{\"colorbar\": {\"outlinewidth\": 0, \"ticks\": \"\"}, \"colorscale\": [[0.0, \"#0d0887\"], [0.1111111111111111, \"#46039f\"], [0.2222222222222222, \"#7201a8\"], [0.3333333333333333, \"#9c179e\"], [0.4444444444444444, \"#bd3786\"], [0.5555555555555556, \"#d8576b\"], [0.6666666666666666, \"#ed7953\"], [0.7777777777777778, \"#fb9f3a\"], [0.8888888888888888, \"#fdca26\"], [1.0, \"#f0f921\"]], \"type\": \"surface\"}], \"table\": [{\"cells\": {\"fill\": {\"color\": \"#EBF0F8\"}, \"line\": {\"color\": \"white\"}}, \"header\": {\"fill\": {\"color\": \"#C8D4E3\"}, \"line\": {\"color\": \"white\"}}, \"type\": \"table\"}]}, \"layout\": {\"annotationdefaults\": {\"arrowcolor\": \"#2a3f5f\", \"arrowhead\": 0, \"arrowwidth\": 1}, \"coloraxis\": {\"colorbar\": {\"outlinewidth\": 0, \"ticks\": \"\"}}, \"colorscale\": {\"diverging\": [[0, \"#8e0152\"], [0.1, \"#c51b7d\"], [0.2, \"#de77ae\"], [0.3, \"#f1b6da\"], [0.4, \"#fde0ef\"], [0.5, \"#f7f7f7\"], [0.6, \"#e6f5d0\"], [0.7, \"#b8e186\"], [0.8, \"#7fbc41\"], [0.9, \"#4d9221\"], [1, \"#276419\"]], \"sequential\": [[0.0, \"#0d0887\"], [0.1111111111111111, \"#46039f\"], [0.2222222222222222, \"#7201a8\"], [0.3333333333333333, \"#9c179e\"], [0.4444444444444444, \"#bd3786\"], [0.5555555555555556, \"#d8576b\"], [0.6666666666666666, \"#ed7953\"], [0.7777777777777778, \"#fb9f3a\"], [0.8888888888888888, \"#fdca26\"], [1.0, \"#f0f921\"]], \"sequentialminus\": [[0.0, \"#0d0887\"], [0.1111111111111111, \"#46039f\"], [0.2222222222222222, \"#7201a8\"], [0.3333333333333333, \"#9c179e\"], [0.4444444444444444, \"#bd3786\"], [0.5555555555555556, \"#d8576b\"], [0.6666666666666666, \"#ed7953\"], [0.7777777777777778, \"#fb9f3a\"], [0.8888888888888888, \"#fdca26\"], [1.0, \"#f0f921\"]]}, \"colorway\": [\"#636efa\", \"#EF553B\", \"#00cc96\", \"#ab63fa\", \"#FFA15A\", \"#19d3f3\", \"#FF6692\", \"#B6E880\", \"#FF97FF\", \"#FECB52\"], \"font\": {\"color\": \"#2a3f5f\"}, \"geo\": {\"bgcolor\": \"white\", \"lakecolor\": \"white\", \"landcolor\": \"#E5ECF6\", \"showlakes\": true, \"showland\": true, \"subunitcolor\": \"white\"}, \"hoverlabel\": {\"align\": \"left\"}, \"hovermode\": \"closest\", \"mapbox\": {\"style\": \"light\"}, \"paper_bgcolor\": \"white\", \"plot_bgcolor\": \"#E5ECF6\", \"polar\": {\"angularaxis\": {\"gridcolor\": \"white\", \"linecolor\": \"white\", \"ticks\": \"\"}, \"bgcolor\": \"#E5ECF6\", \"radialaxis\": {\"gridcolor\": \"white\", \"linecolor\": \"white\", \"ticks\": \"\"}}, \"scene\": {\"xaxis\": {\"backgroundcolor\": \"#E5ECF6\", \"gridcolor\": \"white\", \"gridwidth\": 2, \"linecolor\": \"white\", \"showbackground\": true, \"ticks\": \"\", \"zerolinecolor\": \"white\"}, \"yaxis\": {\"backgroundcolor\": \"#E5ECF6\", \"gridcolor\": \"white\", \"gridwidth\": 2, \"linecolor\": \"white\", \"showbackground\": true, \"ticks\": \"\", \"zerolinecolor\": \"white\"}, \"zaxis\": {\"backgroundcolor\": \"#E5ECF6\", \"gridcolor\": \"white\", \"gridwidth\": 2, \"linecolor\": \"white\", \"showbackground\": true, \"ticks\": \"\", \"zerolinecolor\": \"white\"}}, \"shapedefaults\": {\"line\": {\"color\": \"#2a3f5f\"}}, \"ternary\": {\"aaxis\": {\"gridcolor\": \"white\", \"linecolor\": \"white\", \"ticks\": \"\"}, \"baxis\": {\"gridcolor\": \"white\", \"linecolor\": \"white\", \"ticks\": \"\"}, \"bgcolor\": \"#E5ECF6\", \"caxis\": {\"gridcolor\": \"white\", \"linecolor\": \"white\", \"ticks\": \"\"}}, \"title\": {\"x\": 0.05}, \"xaxis\": {\"automargin\": true, \"gridcolor\": \"white\", \"linecolor\": \"white\", \"ticks\": \"\", \"title\": {\"standoff\": 15}, \"zerolinecolor\": \"white\", \"zerolinewidth\": 2}, \"yaxis\": {\"automargin\": true, \"gridcolor\": \"white\", \"linecolor\": \"white\", \"ticks\": \"\", \"title\": {\"standoff\": 15}, \"zerolinecolor\": \"white\", \"zerolinewidth\": 2}}}, \"title\": {\"text\": \"Influence of vocabulary size on accuracy\"}, \"xaxis\": {\"anchor\": \"y\", \"domain\": [0.0, 1.0], \"title\": {\"text\": \"Vocabulary Size\"}}, \"yaxis\": {\"anchor\": \"x\", \"domain\": [0.0, 1.0], \"title\": {\"text\": \"f1-score\"}}},\n",
              "                        {\"responsive\": true}\n",
              "                    ).then(function(){\n",
              "                            \n",
              "var gd = document.getElementById('578cdb97-b059-42e6-b45e-e5c362c25f95');\n",
              "var x = new MutationObserver(function (mutations, observer) {{\n",
              "        var display = window.getComputedStyle(gd).display;\n",
              "        if (!display || display === 'none') {{\n",
              "            console.log([gd, 'removed!']);\n",
              "            Plotly.purge(gd);\n",
              "            observer.disconnect();\n",
              "        }}\n",
              "}});\n",
              "\n",
              "// Listen for the removal of the full notebook cells\n",
              "var notebookContainer = gd.closest('#notebook-container');\n",
              "if (notebookContainer) {{\n",
              "    x.observe(notebookContainer, {childList: true});\n",
              "}}\n",
              "\n",
              "// Listen for the clearing of the current output cell\n",
              "var outputEl = gd.closest('.output');\n",
              "if (outputEl) {{\n",
              "    x.observe(outputEl, {childList: true});\n",
              "}}\n",
              "\n",
              "                        })\n",
              "                };\n",
              "                \n",
              "            </script>\n",
              "        </div>\n",
              "</body>\n",
              "</html>"
            ]
          },
          "metadata": {
            "tags": []
          }
        }
      ]
    },
    {
      "cell_type": "markdown",
      "metadata": {
        "id": "QcKRZG6tnCbg",
        "colab_type": "text"
      },
      "source": [
        "With 1% or 1,820 vocabulary words, we get a score of 91.9%. By adding 2% of the \"top words\" to our vocabulary (about 3000 words) we gain 2.1% in accuracy. The increase in the size of the vocabulary does not improve the performance of our model, on the contrary we observe a drop in performance."
      ]
    },
    {
      "cell_type": "markdown",
      "metadata": {
        "id": "iEJD5_9Dd119",
        "colab_type": "text"
      },
      "source": [
        "## **Conclusion max_feature**\n",
        "\n",
        "Using the max_feature parameter allows:\n",
        "\n",
        "Pros:\n",
        "\n",
        "* Gain in precision and relevance of our model (ideal value to be determined).\n",
        "* Reduction in the size of our vocabulary, therefore of the data on which our model learns.\n",
        "* Deletion of non-essential data during training.\n",
        "* Savings in training time (to study in detail)\n",
        "\n",
        "Cons:\n",
        "\n",
        "* search the right value. I think the value depends on the data. But a value between 5K and 25K words seems to be interesting.\n",
        "\n",
        "The max_feature parameter allows us to limit our vocabulary to our top N words. Those N words, are determined by their importance. \n",
        "\n",
        "It is therefore possible to obtain very good results in our predictions, by using a percentage of our vocabulary gathering only the important words.\n",
        "\n",
        "---\n",
        "\n",
        "Deleting words with a lower importance score improves the performance of our model (LinearSVC) and reduces the training time of the model.\n",
        "\n",
        "\n",
        "**Note: When we tested the impact of ngram_range on the performance of our model. We had noticed that we lost precision as we increased the interval. With the optimal max_feature (3%) we obtain with the ngram_range = (1.3) a much better score than previously 93.3% vs 92.6%.**\n"
      ]
    },
    {
      "cell_type": "markdown",
      "metadata": {
        "id": "pt4xZH5qIsee",
        "colab_type": "text"
      },
      "source": [
        "## **Validation**\n",
        "\n",
        "We  want to validate assumptions made in the previous part. We are going to use an other dataset. From Kaggle we download the FakeNews dataset. \n",
        "\n",
        "Our assumptions are:\n",
        "\n",
        "* **When we limit the size of the vocabulary using max_feature we improve the performance of the model by reducing the number of feature only to the most important features. It permits us to use big ngram_range that add informations to our dataset**.\n",
        "\n",
        "* **A good max_feature value is between 5K and 25K words seems to be interesting. We are going to use 20k words as max_feature value**.\n",
        "\n",
        "* **Coupling two tfidf  one configured with analyzer word and another cwith analyzer char increase the f1-score.** \n",
        "\n"
      ]
    },
    {
      "cell_type": "markdown",
      "metadata": {
        "id": "awrIPpf9S35X",
        "colab_type": "text"
      },
      "source": [
        "###  Dataset \n",
        "\n",
        "We will use the Fake News dataset to validate our arguments. It is a corpus of texts consisting of **\"fake news\"** and real press articles. \n",
        "\n",
        "**Note: You must load the fakeNews dataset in your colab space** "
      ]
    },
    {
      "cell_type": "code",
      "metadata": {
        "id": "-Jz8wtc2qytu",
        "colab_type": "code",
        "colab": {}
      },
      "source": [
        "import tqdm\n",
        "from scipy import sparse\n",
        "from sklearn.svm import LinearSVC\n",
        "from sklearn.feature_extraction.text import TfidfVectorizer\n",
        "import numpy as np\n",
        "from sklearn.model_selection import cross_val_score\n",
        "import pandas as pd \n",
        "from scipy import sparse\n",
        "import plotly.express as px"
      ],
      "execution_count": null,
      "outputs": []
    },
    {
      "cell_type": "code",
      "metadata": {
        "id": "y7PVyjyN-5P0",
        "colab_type": "code",
        "colab": {}
      },
      "source": [
        "train_df = pd.read_csv('/content/train.csv')"
      ],
      "execution_count": null,
      "outputs": []
    },
    {
      "cell_type": "markdown",
      "metadata": {
        "id": "qPq8ZQ0NXX1H",
        "colab_type": "text"
      },
      "source": [
        "### Data preparation"
      ]
    },
    {
      "cell_type": "code",
      "metadata": {
        "id": "z5BRs8m--m-U",
        "colab_type": "code",
        "colab": {
          "base_uri": "https://localhost:8080/",
          "height": 221
        },
        "outputId": "f456e624-9c3e-4ab1-82b4-1f8cc9e023dd"
      },
      "source": [
        "train_df.info()"
      ],
      "execution_count": null,
      "outputs": [
        {
          "output_type": "stream",
          "text": [
            "<class 'pandas.core.frame.DataFrame'>\n",
            "RangeIndex: 20800 entries, 0 to 20799\n",
            "Data columns (total 5 columns):\n",
            " #   Column  Non-Null Count  Dtype \n",
            "---  ------  --------------  ----- \n",
            " 0   id      20800 non-null  int64 \n",
            " 1   title   20242 non-null  object\n",
            " 2   author  18843 non-null  object\n",
            " 3   text    20761 non-null  object\n",
            " 4   label   20800 non-null  int64 \n",
            "dtypes: int64(2), object(3)\n",
            "memory usage: 812.6+ KB\n"
          ],
          "name": "stdout"
        }
      ]
    },
    {
      "cell_type": "markdown",
      "metadata": {
        "id": "QyNOqJYAfmB2",
        "colab_type": "text"
      },
      "source": [
        "For lines with author and title at null. We replace the value **nan** by **\"Unknow\"**."
      ]
    },
    {
      "cell_type": "code",
      "metadata": {
        "id": "epj-nqtnfAFw",
        "colab_type": "code",
        "colab": {}
      },
      "source": [
        "train_df.author.fillna(\"unknow\", inplace=True)"
      ],
      "execution_count": null,
      "outputs": []
    },
    {
      "cell_type": "code",
      "metadata": {
        "id": "Xnmboaqbg5WQ",
        "colab_type": "code",
        "colab": {}
      },
      "source": [
        "train_df.title.fillna(\"unknow\", inplace=True)"
      ],
      "execution_count": null,
      "outputs": []
    },
    {
      "cell_type": "markdown",
      "metadata": {
        "id": "FXjSf7-Fggl3",
        "colab_type": "text"
      },
      "source": [
        "We removed empty lines "
      ]
    },
    {
      "cell_type": "code",
      "metadata": {
        "id": "FTnkay6tgme3",
        "colab_type": "code",
        "colab": {}
      },
      "source": [
        "train_df.dropna(inplace=True)"
      ],
      "execution_count": null,
      "outputs": []
    },
    {
      "cell_type": "code",
      "metadata": {
        "id": "wGDFP3GNhm6O",
        "colab_type": "code",
        "colab": {}
      },
      "source": [
        "x_train = train_df.text.to_list()"
      ],
      "execution_count": null,
      "outputs": []
    },
    {
      "cell_type": "code",
      "metadata": {
        "id": "SvyqYQHpYXNA",
        "colab_type": "code",
        "colab": {}
      },
      "source": [
        "titles = train_df.text.to_list()"
      ],
      "execution_count": null,
      "outputs": []
    },
    {
      "cell_type": "code",
      "metadata": {
        "id": "W-i-a0-fd3Yx",
        "colab_type": "code",
        "colab": {}
      },
      "source": [
        "target = train_df.label.to_list()"
      ],
      "execution_count": null,
      "outputs": []
    },
    {
      "cell_type": "code",
      "metadata": {
        "id": "wEwHKE2ihoLn",
        "colab_type": "code",
        "colab": {
          "base_uri": "https://localhost:8080/",
          "height": 34
        },
        "outputId": "318ce0cf-d69a-4cbb-b3ae-79c8a04cecbe"
      },
      "source": [
        "len(x_train)"
      ],
      "execution_count": null,
      "outputs": [
        {
          "output_type": "execute_result",
          "data": {
            "text/plain": [
              "20761"
            ]
          },
          "metadata": {
            "tags": []
          },
          "execution_count": 13
        }
      ]
    },
    {
      "cell_type": "markdown",
      "metadata": {
        "id": "kgHVYtQOYpra",
        "colab_type": "text"
      },
      "source": [
        "### TF-IDF \n",
        "\n",
        "In order to see the improvements made by the configuration of tf-idf, we will train our svc with :\n",
        "\n",
        "* Le modèle par défaut\n",
        "* tfidf ngram_range=(1,3) and max_feature=20 000\n",
        "* tfidf ngram_range=(1,3) and max_feature=(80% of the vocabulary)\n",
        "\n",
        "Note : We also calculate with the same parameters the f1-score of tfidf coupled with tfidf (analyzer = 'char')."
      ]
    },
    {
      "cell_type": "code",
      "metadata": {
        "id": "-FvvWmPIhdlk",
        "colab_type": "code",
        "colab": {}
      },
      "source": [
        "vector_words_dico = {}"
      ],
      "execution_count": null,
      "outputs": []
    },
    {
      "cell_type": "code",
      "metadata": {
        "id": "eNte0xT-hW2l",
        "colab_type": "code",
        "colab": {}
      },
      "source": [
        "vect_char = TfidfVectorizer(analyzer='char', stop_words='english',  max_features=40000, ngram_range=(2,6), lowercase=True, dtype=np.float32)"
      ],
      "execution_count": null,
      "outputs": []
    },
    {
      "cell_type": "code",
      "metadata": {
        "id": "uA-NXvkVhYQx",
        "colab_type": "code",
        "colab": {}
      },
      "source": [
        "vect_word = TfidfVectorizer(analyzer='word', tokenizer=prepareText, ngram_range=(1,3), dtype=np.float32)"
      ],
      "execution_count": null,
      "outputs": []
    },
    {
      "cell_type": "code",
      "metadata": {
        "id": "q7Kf6TUtOF34",
        "colab_type": "code",
        "colab": {}
      },
      "source": [
        "vect_corpus_word = vect_word.fit_transform(x_train)"
      ],
      "execution_count": null,
      "outputs": []
    },
    {
      "cell_type": "code",
      "metadata": {
        "id": "ohG_ycHfNoCx",
        "colab_type": "code",
        "colab": {}
      },
      "source": [
        "vect_corpus_char = vect_char.fit_transform(x_train)"
      ],
      "execution_count": null,
      "outputs": []
    },
    {
      "cell_type": "code",
      "metadata": {
        "id": "TbNPZo_-sf0b",
        "colab_type": "code",
        "colab": {}
      },
      "source": [
        "vect_char_vocab_size = len(vect_char.vocabulary_)\n",
        "vect_word_vocab_size = len(vect_word.vocabulary_)"
      ],
      "execution_count": null,
      "outputs": []
    },
    {
      "cell_type": "code",
      "metadata": {
        "id": "UI4Y3d-FPsoA",
        "colab_type": "code",
        "colab": {}
      },
      "source": [
        "vocab_size = [vect_word_vocab_size, vect_word_vocab_size + 40000, 20000, 20000 + 40000, vect_word_vocab_size * 0.8, vect_word_vocab_size * 0.8 + 40000]"
      ],
      "execution_count": null,
      "outputs": []
    },
    {
      "cell_type": "code",
      "metadata": {
        "id": "rdmMbVXRRi68",
        "colab_type": "code",
        "colab": {
          "base_uri": "https://localhost:8080/",
          "height": 34
        },
        "outputId": "71fcd368-3fb2-4f4a-eda6-29c208af8e9d"
      },
      "source": [
        "vocab_size"
      ],
      "execution_count": null,
      "outputs": [
        {
          "output_type": "execute_result",
          "data": {
            "text/plain": [
              "[10159379, 10199379, 20000, 60000, 8127503.2, 8167503.2]"
            ]
          },
          "metadata": {
            "tags": []
          },
          "execution_count": 21
        }
      ]
    },
    {
      "cell_type": "code",
      "metadata": {
        "id": "tVR3nSb1SS9b",
        "colab_type": "code",
        "colab": {}
      },
      "source": [
        "config = [((1,1), None), ((1,3), 20000), ((1,3), int(vect_word_vocab_size * 0.8))]\n",
        "keys = ['defaut', 'ngram (1,3) + mf=20000 words', 'ngram (1,3) + mf=80%ofwords']\n",
        "ngram_range = []\n",
        "for index, (ngram, max_feat) in enumerate(config):\n",
        "  key = keys[index]\n",
        "  vect_word = TfidfVectorizer(analyzer='word', tokenizer=prepareText, ngram_range=ngram, max_features=max_feat, dtype=np.float32)\n",
        "  vect_corpus_word = vect_word.fit_transform(x_train)\n",
        "  vect_corpus_wc = sparse.hstack([vect_corpus_word , vect_corpus_char])\n",
        "  vector_words_dico[key] = vect_corpus_word\n",
        "  vector_words_dico[key + ' coupled with char'] = (vect_corpus_wc)"
      ],
      "execution_count": null,
      "outputs": []
    },
    {
      "cell_type": "markdown",
      "metadata": {
        "id": "m-zV9-LXGQvm",
        "colab_type": "text"
      },
      "source": [
        "Add size of the coupled tfidf."
      ]
    },
    {
      "cell_type": "code",
      "metadata": {
        "id": "rctGGeFdSVOV",
        "colab_type": "code",
        "colab": {}
      },
      "source": [
        "keys = []\n",
        "accuracy_scores = [] \n",
        "recall_scores = []\n",
        "for key in vector_words_dico:\n",
        "  svc =  LinearSVC()\n",
        "  accuracy = cross_val_score(svc, vector_words_dico[key], target ,scoring='accuracy')\n",
        "  recall = cross_val_score(svc, vector_words_dico[key], target ,scoring='recall')\n",
        "  keys.append(key)\n",
        "  accuracy_scores.append(np.mean(accuracy))\n",
        "  recall_scores.append(np.mean(recall))"
      ],
      "execution_count": null,
      "outputs": []
    },
    {
      "cell_type": "code",
      "metadata": {
        "id": "xtU2-ADm-InW",
        "colab_type": "code",
        "colab": {
          "base_uri": "https://localhost:8080/",
          "height": 51
        },
        "outputId": "947f1aae-6974-4650-889a-4543458e744b"
      },
      "source": [
        "f1_score = 2 * (np.array(recall_scores) * np.array(accuracy_scores)) / (np.array(recall_scores) + np.array(accuracy_scores))\n",
        "f1_score"
      ],
      "execution_count": null,
      "outputs": [
        {
          "output_type": "execute_result",
          "data": {
            "text/plain": [
              "array([0.95850486, 0.99091738, 0.96469957, 0.99142275, 0.96432462,\n",
              "       0.9925307 ])"
            ]
          },
          "metadata": {
            "tags": []
          },
          "execution_count": 36
        }
      ]
    },
    {
      "cell_type": "markdown",
      "metadata": {
        "id": "VpHXSBjZ-OtV",
        "colab_type": "text"
      },
      "source": [
        "We compute the F1-score for each model. F1 score (also F-score or F-measure) is a measure of a test's accuracy."
      ]
    },
    {
      "cell_type": "code",
      "metadata": {
        "id": "6dWFdJ7FPF-N",
        "colab_type": "code",
        "colab": {
          "base_uri": "https://localhost:8080/",
          "height": 235
        },
        "outputId": "44b16967-efb1-4e26-bce7-65ba54376073"
      },
      "source": [
        "scores_df = pd.DataFrame({'config' : keys, 'accuracy' : accuracy_scores, 'recall' : recall_scores , 'vocab_size' : vocab_size, 'f1-score' : f1_score})\n",
        "scores_df.head(6)"
      ],
      "execution_count": null,
      "outputs": [
        {
          "output_type": "execute_result",
          "data": {
            "text/html": [
              "<div>\n",
              "<style scoped>\n",
              "    .dataframe tbody tr th:only-of-type {\n",
              "        vertical-align: middle;\n",
              "    }\n",
              "\n",
              "    .dataframe tbody tr th {\n",
              "        vertical-align: top;\n",
              "    }\n",
              "\n",
              "    .dataframe thead th {\n",
              "        text-align: right;\n",
              "    }\n",
              "</style>\n",
              "<table border=\"1\" class=\"dataframe\">\n",
              "  <thead>\n",
              "    <tr style=\"text-align: right;\">\n",
              "      <th></th>\n",
              "      <th>config</th>\n",
              "      <th>accuracy</th>\n",
              "      <th>recall</th>\n",
              "      <th>vocab_size</th>\n",
              "      <th>f1-score</th>\n",
              "    </tr>\n",
              "  </thead>\n",
              "  <tbody>\n",
              "    <tr>\n",
              "      <th>0</th>\n",
              "      <td>defaut</td>\n",
              "      <td>0.955301</td>\n",
              "      <td>0.961730</td>\n",
              "      <td>10159379.0</td>\n",
              "      <td>0.958505</td>\n",
              "    </tr>\n",
              "    <tr>\n",
              "      <th>1</th>\n",
              "      <td>defaut coupled with char</td>\n",
              "      <td>0.990126</td>\n",
              "      <td>0.991710</td>\n",
              "      <td>10199379.0</td>\n",
              "      <td>0.990917</td>\n",
              "    </tr>\n",
              "    <tr>\n",
              "      <th>2</th>\n",
              "      <td>ngram (1,3) + mf=15000 words</td>\n",
              "      <td>0.961996</td>\n",
              "      <td>0.967418</td>\n",
              "      <td>20000.0</td>\n",
              "      <td>0.964700</td>\n",
              "    </tr>\n",
              "    <tr>\n",
              "      <th>3</th>\n",
              "      <td>ngram (1,3) + mf=15000 words coupled with char</td>\n",
              "      <td>0.990367</td>\n",
              "      <td>0.992481</td>\n",
              "      <td>60000.0</td>\n",
              "      <td>0.991423</td>\n",
              "    </tr>\n",
              "    <tr>\n",
              "      <th>4</th>\n",
              "      <td>ngram (1,3) + mf=80%ofwords</td>\n",
              "      <td>0.957661</td>\n",
              "      <td>0.971082</td>\n",
              "      <td>8127503.2</td>\n",
              "      <td>0.964325</td>\n",
              "    </tr>\n",
              "    <tr>\n",
              "      <th>5</th>\n",
              "      <td>ngram (1,3) + mf=80%ofwords coupled with char</td>\n",
              "      <td>0.991330</td>\n",
              "      <td>0.993734</td>\n",
              "      <td>8167503.2</td>\n",
              "      <td>0.992531</td>\n",
              "    </tr>\n",
              "  </tbody>\n",
              "</table>\n",
              "</div>"
            ],
            "text/plain": [
              "                                           config  ...  f1-score\n",
              "0                                          defaut  ...  0.958505\n",
              "1                        defaut coupled with char  ...  0.990917\n",
              "2                    ngram (1,3) + mf=15000 words  ...  0.964700\n",
              "3  ngram (1,3) + mf=15000 words coupled with char  ...  0.991423\n",
              "4                     ngram (1,3) + mf=80%ofwords  ...  0.964325\n",
              "5   ngram (1,3) + mf=80%ofwords coupled with char  ...  0.992531\n",
              "\n",
              "[6 rows x 5 columns]"
            ]
          },
          "metadata": {
            "tags": []
          },
          "execution_count": 48
        }
      ]
    },
    {
      "cell_type": "code",
      "metadata": {
        "id": "NMR8aUlZPHpm",
        "colab_type": "code",
        "colab": {
          "base_uri": "https://localhost:8080/",
          "height": 717
        },
        "outputId": "97a6425a-0455-40cf-dedd-a0e4f4f36e53"
      },
      "source": [
        "fig = px.scatter(scores_df, x='config',y='f1-score', size='recall', color='config', labels={'config' : \"TF-IDF configuration\"}, title='F1-score on FakeNews dataset', hover_data=['recall', 'accuracy'], width=700, height=700,)\n",
        "fig.update_layout(showlegend=False)"
      ],
      "execution_count": null,
      "outputs": [
        {
          "output_type": "display_data",
          "data": {
            "text/html": [
              "<html>\n",
              "<head><meta charset=\"utf-8\" /></head>\n",
              "<body>\n",
              "    <div>\n",
              "            <script src=\"https://cdnjs.cloudflare.com/ajax/libs/mathjax/2.7.5/MathJax.js?config=TeX-AMS-MML_SVG\"></script><script type=\"text/javascript\">if (window.MathJax) {MathJax.Hub.Config({SVG: {font: \"STIX-Web\"}});}</script>\n",
              "                <script type=\"text/javascript\">window.PlotlyConfig = {MathJaxConfig: 'local'};</script>\n",
              "        <script src=\"https://cdn.plot.ly/plotly-latest.min.js\"></script>    \n",
              "            <div id=\"9d92b0fa-7f22-48d9-8719-5ef371583b7e\" class=\"plotly-graph-div\" style=\"height:700px; width:700px;\"></div>\n",
              "            <script type=\"text/javascript\">\n",
              "                \n",
              "                    window.PLOTLYENV=window.PLOTLYENV || {};\n",
              "                    \n",
              "                if (document.getElementById(\"9d92b0fa-7f22-48d9-8719-5ef371583b7e\")) {\n",
              "                    Plotly.newPlot(\n",
              "                        '9d92b0fa-7f22-48d9-8719-5ef371583b7e',\n",
              "                        [{\"customdata\": [[0.9617304318527727, 0.9553008550125336]], \"hoverlabel\": {\"namelength\": 0}, \"hovertemplate\": \"TF-IDF configuration=%{x}<br>f1-score=%{y}<br>recall=%{customdata[0]}<br>accuracy=%{customdata[1]}\", \"legendgroup\": \"TF-IDF configuration=defaut\", \"marker\": {\"color\": \"#636efa\", \"size\": [0.9617304318527727], \"sizemode\": \"area\", \"sizeref\": 0.002484336071382928, \"symbol\": \"circle\"}, \"mode\": \"markers\", \"name\": \"TF-IDF configuration=defaut\", \"showlegend\": true, \"type\": \"scatter\", \"x\": [\"defaut\"], \"xaxis\": \"x\", \"y\": [0.9585048612772894], \"yaxis\": \"y\"}, {\"customdata\": [[0.9917102856943686, 0.9901257395934968]], \"hoverlabel\": {\"namelength\": 0}, \"hovertemplate\": \"TF-IDF configuration=%{x}<br>f1-score=%{y}<br>recall=%{customdata[0]}<br>accuracy=%{customdata[1]}\", \"legendgroup\": \"TF-IDF configuration=defaut coupled with char\", \"marker\": {\"color\": \"#EF553B\", \"size\": [0.9917102856943686], \"sizemode\": \"area\", \"sizeref\": 0.002484336071382928, \"symbol\": \"circle\"}, \"mode\": \"markers\", \"name\": \"TF-IDF configuration=defaut coupled with char\", \"showlegend\": true, \"type\": \"scatter\", \"x\": [\"defaut coupled with char\"], \"xaxis\": \"x\", \"y\": [0.9909173791943653], \"yaxis\": \"y\"}, {\"customdata\": [[0.9674183406722356, 0.9619960406549668]], \"hoverlabel\": {\"namelength\": 0}, \"hovertemplate\": \"TF-IDF configuration=%{x}<br>f1-score=%{y}<br>recall=%{customdata[0]}<br>accuracy=%{customdata[1]}\", \"legendgroup\": \"TF-IDF configuration=ngram (1,3) + mf=15000 words\", \"marker\": {\"color\": \"#00cc96\", \"size\": [0.9674183406722356], \"sizemode\": \"area\", \"sizeref\": 0.002484336071382928, \"symbol\": \"circle\"}, \"mode\": \"markers\", \"name\": \"TF-IDF configuration=ngram (1,3) + mf=15000 words\", \"showlegend\": true, \"type\": \"scatter\", \"x\": [\"ngram (1,3) + mf=15000 words\"], \"xaxis\": \"x\", \"y\": [0.9646995714248929], \"yaxis\": \"y\"}, {\"customdata\": [[0.9924812306119366, 0.9903665177852721]], \"hoverlabel\": {\"namelength\": 0}, \"hovertemplate\": \"TF-IDF configuration=%{x}<br>f1-score=%{y}<br>recall=%{customdata[0]}<br>accuracy=%{customdata[1]}\", \"legendgroup\": \"TF-IDF configuration=ngram (1,3) + mf=15000 words coupled with char\", \"marker\": {\"color\": \"#ab63fa\", \"size\": [0.9924812306119366], \"sizemode\": \"area\", \"sizeref\": 0.002484336071382928, \"symbol\": \"circle\"}, \"mode\": \"markers\", \"name\": \"TF-IDF configuration=ngram (1,3) + mf=15000 words coupled with char\", \"showlegend\": true, \"type\": \"scatter\", \"x\": [\"ngram (1,3) + mf=15000 words coupled with char\"], \"xaxis\": \"x\", \"y\": [0.9914227465249484], \"yaxis\": \"y\"}, {\"customdata\": [[0.971081688373552, 0.9576609429216848]], \"hoverlabel\": {\"namelength\": 0}, \"hovertemplate\": \"TF-IDF configuration=%{x}<br>f1-score=%{y}<br>recall=%{customdata[0]}<br>accuracy=%{customdata[1]}\", \"legendgroup\": \"TF-IDF configuration=ngram (1,3) + mf=80%ofwords\", \"marker\": {\"color\": \"#FFA15A\", \"size\": [0.971081688373552], \"sizemode\": \"area\", \"sizeref\": 0.002484336071382928, \"symbol\": \"circle\"}, \"mode\": \"markers\", \"name\": \"TF-IDF configuration=ngram (1,3) + mf=80%ofwords\", \"showlegend\": true, \"type\": \"scatter\", \"x\": [\"ngram (1,3) + mf=80%ofwords\"], \"xaxis\": \"x\", \"y\": [0.9643246229459689], \"yaxis\": \"y\"}, {\"customdata\": [[0.9937344285531712, 0.9913298857245986]], \"hoverlabel\": {\"namelength\": 0}, \"hovertemplate\": \"TF-IDF configuration=%{x}<br>f1-score=%{y}<br>recall=%{customdata[0]}<br>accuracy=%{customdata[1]}\", \"legendgroup\": \"TF-IDF configuration=ngram (1,3) + mf=80%ofwords coupled with char\", \"marker\": {\"color\": \"#19d3f3\", \"size\": [0.9937344285531712], \"sizemode\": \"area\", \"sizeref\": 0.002484336071382928, \"symbol\": \"circle\"}, \"mode\": \"markers\", \"name\": \"TF-IDF configuration=ngram (1,3) + mf=80%ofwords coupled with char\", \"showlegend\": true, \"type\": \"scatter\", \"x\": [\"ngram (1,3) + mf=80%ofwords coupled with char\"], \"xaxis\": \"x\", \"y\": [0.9925307008066712], \"yaxis\": \"y\"}],\n",
              "                        {\"height\": 700, \"legend\": {\"itemsizing\": \"constant\", \"tracegroupgap\": 0}, \"showlegend\": false, \"template\": {\"data\": {\"bar\": [{\"error_x\": {\"color\": \"#2a3f5f\"}, \"error_y\": {\"color\": \"#2a3f5f\"}, \"marker\": {\"line\": {\"color\": \"#E5ECF6\", \"width\": 0.5}}, \"type\": \"bar\"}], \"barpolar\": [{\"marker\": {\"line\": {\"color\": \"#E5ECF6\", \"width\": 0.5}}, \"type\": \"barpolar\"}], \"carpet\": [{\"aaxis\": {\"endlinecolor\": \"#2a3f5f\", \"gridcolor\": \"white\", \"linecolor\": \"white\", \"minorgridcolor\": \"white\", \"startlinecolor\": \"#2a3f5f\"}, \"baxis\": {\"endlinecolor\": \"#2a3f5f\", \"gridcolor\": \"white\", \"linecolor\": \"white\", \"minorgridcolor\": \"white\", \"startlinecolor\": \"#2a3f5f\"}, \"type\": \"carpet\"}], \"choropleth\": [{\"colorbar\": {\"outlinewidth\": 0, \"ticks\": \"\"}, \"type\": \"choropleth\"}], \"contour\": [{\"colorbar\": {\"outlinewidth\": 0, \"ticks\": \"\"}, \"colorscale\": [[0.0, \"#0d0887\"], [0.1111111111111111, \"#46039f\"], [0.2222222222222222, \"#7201a8\"], [0.3333333333333333, \"#9c179e\"], [0.4444444444444444, \"#bd3786\"], [0.5555555555555556, \"#d8576b\"], [0.6666666666666666, \"#ed7953\"], [0.7777777777777778, \"#fb9f3a\"], [0.8888888888888888, \"#fdca26\"], [1.0, \"#f0f921\"]], \"type\": \"contour\"}], \"contourcarpet\": [{\"colorbar\": {\"outlinewidth\": 0, \"ticks\": \"\"}, \"type\": \"contourcarpet\"}], \"heatmap\": [{\"colorbar\": {\"outlinewidth\": 0, \"ticks\": \"\"}, \"colorscale\": [[0.0, \"#0d0887\"], [0.1111111111111111, \"#46039f\"], [0.2222222222222222, \"#7201a8\"], [0.3333333333333333, \"#9c179e\"], [0.4444444444444444, \"#bd3786\"], [0.5555555555555556, \"#d8576b\"], [0.6666666666666666, \"#ed7953\"], [0.7777777777777778, \"#fb9f3a\"], [0.8888888888888888, \"#fdca26\"], [1.0, \"#f0f921\"]], \"type\": \"heatmap\"}], \"heatmapgl\": [{\"colorbar\": {\"outlinewidth\": 0, \"ticks\": \"\"}, \"colorscale\": [[0.0, \"#0d0887\"], [0.1111111111111111, \"#46039f\"], [0.2222222222222222, \"#7201a8\"], [0.3333333333333333, \"#9c179e\"], [0.4444444444444444, \"#bd3786\"], [0.5555555555555556, \"#d8576b\"], [0.6666666666666666, \"#ed7953\"], [0.7777777777777778, \"#fb9f3a\"], [0.8888888888888888, \"#fdca26\"], [1.0, \"#f0f921\"]], \"type\": \"heatmapgl\"}], \"histogram\": [{\"marker\": {\"colorbar\": {\"outlinewidth\": 0, \"ticks\": \"\"}}, \"type\": \"histogram\"}], \"histogram2d\": [{\"colorbar\": {\"outlinewidth\": 0, \"ticks\": \"\"}, \"colorscale\": [[0.0, \"#0d0887\"], [0.1111111111111111, \"#46039f\"], [0.2222222222222222, \"#7201a8\"], [0.3333333333333333, \"#9c179e\"], [0.4444444444444444, \"#bd3786\"], [0.5555555555555556, \"#d8576b\"], [0.6666666666666666, \"#ed7953\"], [0.7777777777777778, \"#fb9f3a\"], [0.8888888888888888, \"#fdca26\"], [1.0, \"#f0f921\"]], \"type\": \"histogram2d\"}], \"histogram2dcontour\": [{\"colorbar\": {\"outlinewidth\": 0, \"ticks\": \"\"}, \"colorscale\": [[0.0, \"#0d0887\"], [0.1111111111111111, \"#46039f\"], [0.2222222222222222, \"#7201a8\"], [0.3333333333333333, \"#9c179e\"], [0.4444444444444444, \"#bd3786\"], [0.5555555555555556, \"#d8576b\"], [0.6666666666666666, \"#ed7953\"], [0.7777777777777778, \"#fb9f3a\"], [0.8888888888888888, \"#fdca26\"], [1.0, \"#f0f921\"]], \"type\": \"histogram2dcontour\"}], \"mesh3d\": [{\"colorbar\": {\"outlinewidth\": 0, \"ticks\": \"\"}, \"type\": \"mesh3d\"}], \"parcoords\": [{\"line\": {\"colorbar\": {\"outlinewidth\": 0, \"ticks\": \"\"}}, \"type\": \"parcoords\"}], \"pie\": [{\"automargin\": true, \"type\": \"pie\"}], \"scatter\": [{\"marker\": {\"colorbar\": {\"outlinewidth\": 0, \"ticks\": \"\"}}, \"type\": \"scatter\"}], \"scatter3d\": [{\"line\": {\"colorbar\": {\"outlinewidth\": 0, \"ticks\": \"\"}}, \"marker\": {\"colorbar\": {\"outlinewidth\": 0, \"ticks\": \"\"}}, \"type\": \"scatter3d\"}], \"scattercarpet\": [{\"marker\": {\"colorbar\": {\"outlinewidth\": 0, \"ticks\": \"\"}}, \"type\": \"scattercarpet\"}], \"scattergeo\": [{\"marker\": {\"colorbar\": {\"outlinewidth\": 0, \"ticks\": \"\"}}, \"type\": \"scattergeo\"}], \"scattergl\": [{\"marker\": {\"colorbar\": {\"outlinewidth\": 0, \"ticks\": \"\"}}, \"type\": \"scattergl\"}], \"scattermapbox\": [{\"marker\": {\"colorbar\": {\"outlinewidth\": 0, \"ticks\": \"\"}}, \"type\": \"scattermapbox\"}], \"scatterpolar\": [{\"marker\": {\"colorbar\": {\"outlinewidth\": 0, \"ticks\": \"\"}}, \"type\": \"scatterpolar\"}], \"scatterpolargl\": [{\"marker\": {\"colorbar\": {\"outlinewidth\": 0, \"ticks\": \"\"}}, \"type\": \"scatterpolargl\"}], \"scatterternary\": [{\"marker\": {\"colorbar\": {\"outlinewidth\": 0, \"ticks\": \"\"}}, \"type\": \"scatterternary\"}], \"surface\": [{\"colorbar\": {\"outlinewidth\": 0, \"ticks\": \"\"}, \"colorscale\": [[0.0, \"#0d0887\"], [0.1111111111111111, \"#46039f\"], [0.2222222222222222, \"#7201a8\"], [0.3333333333333333, \"#9c179e\"], [0.4444444444444444, \"#bd3786\"], [0.5555555555555556, \"#d8576b\"], [0.6666666666666666, \"#ed7953\"], [0.7777777777777778, \"#fb9f3a\"], [0.8888888888888888, \"#fdca26\"], [1.0, \"#f0f921\"]], \"type\": \"surface\"}], \"table\": [{\"cells\": {\"fill\": {\"color\": \"#EBF0F8\"}, \"line\": {\"color\": \"white\"}}, \"header\": {\"fill\": {\"color\": \"#C8D4E3\"}, \"line\": {\"color\": \"white\"}}, \"type\": \"table\"}]}, \"layout\": {\"annotationdefaults\": {\"arrowcolor\": \"#2a3f5f\", \"arrowhead\": 0, \"arrowwidth\": 1}, \"coloraxis\": {\"colorbar\": {\"outlinewidth\": 0, \"ticks\": \"\"}}, \"colorscale\": {\"diverging\": [[0, \"#8e0152\"], [0.1, \"#c51b7d\"], [0.2, \"#de77ae\"], [0.3, \"#f1b6da\"], [0.4, \"#fde0ef\"], [0.5, \"#f7f7f7\"], [0.6, \"#e6f5d0\"], [0.7, \"#b8e186\"], [0.8, \"#7fbc41\"], [0.9, \"#4d9221\"], [1, \"#276419\"]], \"sequential\": [[0.0, \"#0d0887\"], [0.1111111111111111, \"#46039f\"], [0.2222222222222222, \"#7201a8\"], [0.3333333333333333, \"#9c179e\"], [0.4444444444444444, \"#bd3786\"], [0.5555555555555556, \"#d8576b\"], [0.6666666666666666, \"#ed7953\"], [0.7777777777777778, \"#fb9f3a\"], [0.8888888888888888, \"#fdca26\"], [1.0, \"#f0f921\"]], \"sequentialminus\": [[0.0, \"#0d0887\"], [0.1111111111111111, \"#46039f\"], [0.2222222222222222, \"#7201a8\"], [0.3333333333333333, \"#9c179e\"], [0.4444444444444444, \"#bd3786\"], [0.5555555555555556, \"#d8576b\"], [0.6666666666666666, \"#ed7953\"], [0.7777777777777778, \"#fb9f3a\"], [0.8888888888888888, \"#fdca26\"], [1.0, \"#f0f921\"]]}, \"colorway\": [\"#636efa\", \"#EF553B\", \"#00cc96\", \"#ab63fa\", \"#FFA15A\", \"#19d3f3\", \"#FF6692\", \"#B6E880\", \"#FF97FF\", \"#FECB52\"], \"font\": {\"color\": \"#2a3f5f\"}, \"geo\": {\"bgcolor\": \"white\", \"lakecolor\": \"white\", \"landcolor\": \"#E5ECF6\", \"showlakes\": true, \"showland\": true, \"subunitcolor\": \"white\"}, \"hoverlabel\": {\"align\": \"left\"}, \"hovermode\": \"closest\", \"mapbox\": {\"style\": \"light\"}, \"paper_bgcolor\": \"white\", \"plot_bgcolor\": \"#E5ECF6\", \"polar\": {\"angularaxis\": {\"gridcolor\": \"white\", \"linecolor\": \"white\", \"ticks\": \"\"}, \"bgcolor\": \"#E5ECF6\", \"radialaxis\": {\"gridcolor\": \"white\", \"linecolor\": \"white\", \"ticks\": \"\"}}, \"scene\": {\"xaxis\": {\"backgroundcolor\": \"#E5ECF6\", \"gridcolor\": \"white\", \"gridwidth\": 2, \"linecolor\": \"white\", \"showbackground\": true, \"ticks\": \"\", \"zerolinecolor\": \"white\"}, \"yaxis\": {\"backgroundcolor\": \"#E5ECF6\", \"gridcolor\": \"white\", \"gridwidth\": 2, \"linecolor\": \"white\", \"showbackground\": true, \"ticks\": \"\", \"zerolinecolor\": \"white\"}, \"zaxis\": {\"backgroundcolor\": \"#E5ECF6\", \"gridcolor\": \"white\", \"gridwidth\": 2, \"linecolor\": \"white\", \"showbackground\": true, \"ticks\": \"\", \"zerolinecolor\": \"white\"}}, \"shapedefaults\": {\"line\": {\"color\": \"#2a3f5f\"}}, \"ternary\": {\"aaxis\": {\"gridcolor\": \"white\", \"linecolor\": \"white\", \"ticks\": \"\"}, \"baxis\": {\"gridcolor\": \"white\", \"linecolor\": \"white\", \"ticks\": \"\"}, \"bgcolor\": \"#E5ECF6\", \"caxis\": {\"gridcolor\": \"white\", \"linecolor\": \"white\", \"ticks\": \"\"}}, \"title\": {\"x\": 0.05}, \"xaxis\": {\"automargin\": true, \"gridcolor\": \"white\", \"linecolor\": \"white\", \"ticks\": \"\", \"title\": {\"standoff\": 15}, \"zerolinecolor\": \"white\", \"zerolinewidth\": 2}, \"yaxis\": {\"automargin\": true, \"gridcolor\": \"white\", \"linecolor\": \"white\", \"ticks\": \"\", \"title\": {\"standoff\": 15}, \"zerolinecolor\": \"white\", \"zerolinewidth\": 2}}}, \"title\": {\"text\": \"F1-score on FakeNews dataset\"}, \"width\": 700, \"xaxis\": {\"anchor\": \"y\", \"categoryarray\": [\"defaut\", \"defaut coupled with char\", \"ngram (1,3) + mf=15000 words\", \"ngram (1,3) + mf=15000 words coupled with char\", \"ngram (1,3) + mf=80%ofwords\", \"ngram (1,3) + mf=80%ofwords coupled with char\"], \"categoryorder\": \"array\", \"domain\": [0.0, 1.0], \"title\": {\"text\": \"TF-IDF configuration\"}}, \"yaxis\": {\"anchor\": \"x\", \"domain\": [0.0, 1.0], \"title\": {\"text\": \"f1-score\"}}},\n",
              "                        {\"responsive\": true}\n",
              "                    ).then(function(){\n",
              "                            \n",
              "var gd = document.getElementById('9d92b0fa-7f22-48d9-8719-5ef371583b7e');\n",
              "var x = new MutationObserver(function (mutations, observer) {{\n",
              "        var display = window.getComputedStyle(gd).display;\n",
              "        if (!display || display === 'none') {{\n",
              "            console.log([gd, 'removed!']);\n",
              "            Plotly.purge(gd);\n",
              "            observer.disconnect();\n",
              "        }}\n",
              "}});\n",
              "\n",
              "// Listen for the removal of the full notebook cells\n",
              "var notebookContainer = gd.closest('#notebook-container');\n",
              "if (notebookContainer) {{\n",
              "    x.observe(notebookContainer, {childList: true});\n",
              "}}\n",
              "\n",
              "// Listen for the clearing of the current output cell\n",
              "var outputEl = gd.closest('.output');\n",
              "if (outputEl) {{\n",
              "    x.observe(outputEl, {childList: true});\n",
              "}}\n",
              "\n",
              "                        })\n",
              "                };\n",
              "                \n",
              "            </script>\n",
              "        </div>\n",
              "</body>\n",
              "</html>"
            ]
          },
          "metadata": {
            "tags": []
          }
        }
      ]
    },
    {
      "cell_type": "markdown",
      "metadata": {
        "id": "TRffX3uKr35C",
        "colab_type": "text"
      },
      "source": [
        "### Interpretation of results\n",
        "\n",
        "To facilitate redaction : \n",
        "\n",
        "* tfidf(default_params) = \"default\"\n",
        "* tfidf(max_feature=20k, ngram=(1,3)) = \"tfidf20\"\n",
        "* tfidf(max_feature=80% vocab, ngram=(1,3)) = \"tfidf80\"\n",
        "\n",
        "\n",
        "* **With the model configured with default parameters our f1-score is already very high 95.8%. It increases by 4% when it is coupled to tfidf-char.**\n",
        "\n",
        "\n",
        "\n",
        "* **Models with an ngram_range (1,3) get better scores than ngram (1,1). They have a better recall and accuracy (here it's not huge. only 1%). This therefore validates our hypothesis saying that ngram improves performance coupled with the max_feature.**\n",
        "\n",
        "\n",
        "\n",
        "* **The model with the lowest max_feature tfidf20 obtains the best f1-score. On the other hand tfidf20 has a recall 1% lower than tfidf80.**\n",
        "\n",
        "\n",
        "\n",
        "* **Coupling the tfidf(analyzer=word) to the tfidf(analyzer=char) increases the f1-score by 4%. Adding information from this tfidf increases the accuracy score and the recall of our model.** \n",
        "\n",
        "It is therefore clear that with these two parameters, which are max_feature and ngram_range, we improve the performance of our model. The max_feature, reduces the complexity of the data on which our model trains by limiting the vocabulary to important words. Our model is therefore based solely on these words to make these predictions. The ngram_range meanwhile adds information highlighting groups of tokens that would play a role of themes.\n",
        "\n",
        "---\n",
        "\n",
        "Note: *It is also possible to influence the min_df, max_df parameters. They allow you to delete words which appear no more than **min_df** times or which appear more than **max_df** times in the texts.*\n"
      ]
    },
    {
      "cell_type": "markdown",
      "metadata": {
        "id": "_0WOZcl8-mCR",
        "colab_type": "text"
      },
      "source": [
        "## Test best model and submit \n",
        "\n",
        "We will submit our results on kaggle to see the score we get with our best model."
      ]
    },
    {
      "cell_type": "code",
      "metadata": {
        "id": "qr6TVpcr-h-u",
        "colab_type": "code",
        "colab": {}
      },
      "source": [
        "tfidf_word_svc = TfidfVectorizer(tokenizer=prepareText, analyzer='word', max_features=20000, ngram_range=(1,3))\n",
        "tfidf_char_svc = TfidfVectorizer(analyzer='char', max_features=40000, stop_words='english', ngram_range=(2,6))\n",
        "tfidf_svc = FeatureUnion([('word', tfidf_word_svc), ('char', tfidf_char_svc)])"
      ],
      "execution_count": null,
      "outputs": []
    },
    {
      "cell_type": "code",
      "metadata": {
        "id": "IGA2DMVdAIct",
        "colab_type": "code",
        "colab": {}
      },
      "source": [
        "svc_pip = make_pipeline(tfidf_svc, svc)"
      ],
      "execution_count": null,
      "outputs": []
    },
    {
      "cell_type": "code",
      "metadata": {
        "id": "QMRw5yMvAO5P",
        "colab_type": "code",
        "colab": {}
      },
      "source": [
        "%%time\n",
        "svc_pip.fit(corpus, target)"
      ],
      "execution_count": null,
      "outputs": []
    },
    {
      "cell_type": "code",
      "metadata": {
        "id": "-GAhzVXGASC8",
        "colab_type": "code",
        "colab": {}
      },
      "source": [
        "predictions_svc = svc_pip.predict(test_corpus)"
      ],
      "execution_count": null,
      "outputs": []
    },
    {
      "cell_type": "markdown",
      "metadata": {
        "id": "ntLn9ZtpAX5X",
        "colab_type": "text"
      },
      "source": [
        "### Submit"
      ]
    },
    {
      "cell_type": "code",
      "metadata": {
        "id": "k0Ra5bi8AaOL",
        "colab_type": "code",
        "colab": {}
      },
      "source": [
        "submit_svc = pd.DataFrame({'id': test_df.id, 'label' : predictions_svc})"
      ],
      "execution_count": null,
      "outputs": []
    },
    {
      "cell_type": "code",
      "metadata": {
        "id": "M2w9GqCWAbne",
        "colab_type": "code",
        "colab": {}
      },
      "source": [
        "submit_svc.to_csv('submission.csv', index=False)"
      ],
      "execution_count": null,
      "outputs": []
    },
    {
      "cell_type": "code",
      "metadata": {
        "id": "MXdzvoyaAgZO",
        "colab_type": "code",
        "colab": {}
      },
      "source": [
        "!kaggle competitions submit -c fake-news -f submission.csv -m \"SVC with default config and TFIDF\""
      ],
      "execution_count": null,
      "outputs": []
    },
    {
      "cell_type": "markdown",
      "metadata": {
        "id": "I25c219cF-uh",
        "colab_type": "text"
      },
      "source": [
        "![Texte alternatif…](https://i.ibb.co/qnp0y0q/Capture-d-cran-2020-05-16-08-05-59.png)"
      ]
    },
    {
      "cell_type": "markdown",
      "metadata": {
        "id": "LHYyQvU5CTa0",
        "colab_type": "text"
      },
      "source": [
        "![Texte alternatif…](https://i.ibb.co/YRjWg5S/kaggle-result.png)"
      ]
    },
    {
      "cell_type": "markdown",
      "metadata": {
        "id": "Nms25f9MGLhC",
        "colab_type": "text"
      },
      "source": [
        "![Texte alternatif…](https://i.ibb.co/WHVyk53/Capture-d-cran-2020-05-16-08-08-40.png)"
      ]
    },
    {
      "cell_type": "markdown",
      "metadata": {
        "id": "VOFjuyPYAq3G",
        "colab_type": "text"
      },
      "source": [
        "We get 99.2 as a private score and 99.1 as a public score.\n",
        "\n",
        "Note: Using tfidf with the char analyzer can make the interpretation of predictions less readable.\n",
        "\n",
        "voir : https://colab.research.google.com/drive/14-sxbLTVi3MG-xFeywv-zpcmFc7QxkkN#scrollTo=3_ylaFCDwgLn"
      ]
    }
  ]
}