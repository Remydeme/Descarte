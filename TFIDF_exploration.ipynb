{
  "nbformat": 4,
  "nbformat_minor": 0,
  "metadata": {
    "colab": {
      "name": "TFIDF_exploration.ipynb",
      "provenance": [],
      "collapsed_sections": [],
      "toc_visible": true,
      "machine_shape": "hm",
      "include_colab_link": true
    },
    "kernelspec": {
      "name": "python3",
      "display_name": "Python 3"
    }
  },
  "cells": [
    {
      "cell_type": "markdown",
      "metadata": {
        "id": "view-in-github",
        "colab_type": "text"
      },
      "source": [
        "<a href=\"https://colab.research.google.com/github/Remydeme/Descarte/blob/master/TFIDF_exploration.ipynb\" target=\"_parent\"><img src=\"https://colab.research.google.com/assets/colab-badge.svg\" alt=\"Open In Colab\"/></a>"
      ]
    },
    {
      "cell_type": "code",
      "metadata": {
        "id": "Ysit-fyY6Z5a",
        "colab_type": "code",
        "colab": {}
      },
      "source": [
        "!pip install seaborn \n",
        "!pip install spacy \n",
        "!pip install pyldavis\n",
        "!pip install bokeh\n",
        "# download the vocab  \n",
        "!pip3 install spacy\n",
        "!python3 -m spacy download en_core_web_sm\n",
        "!pip install tqdm\n",
        "!pip install eli5\n",
        "!pip install lime\n",
        "!pip install skater\n",
        "!pip install --upgrade gensim\n",
        "!pip install shap\n",
        "!pip install plotly \n",
        "!pip install chart_studio\n",
        "!pip install lime"
      ],
      "execution_count": 0,
      "outputs": []
    },
    {
      "cell_type": "markdown",
      "metadata": {
        "id": "hwul9e3XSU6h",
        "colab_type": "text"
      },
      "source": [
        "# Introduction \n",
        "\n",
        "\n",
        "Dans ce Notebook nous allons étudier le TF-IDF de manière approfondie. Nous travaillerons sur le dataset 20 news groups.\n",
        "\n",
        "Goals : \n",
        "\n",
        "* Dans ce notebook nous avons étudier comment configurer le TFidfVectorizer. \n",
        "\n",
        "* Etudier dans la partie entrainement, \n",
        "  * l'impact des ngram_range\n",
        "  * l'impact sur la précision des prédictions, de la fusion des matrices des deux types de vectorizer.\n",
        "\n",
        "* Étudier l'impact du paramètre max_feature. \n",
        "\n",
        "* Valider nos arguments sur le dataset FakeNews\n",
        "\n",
        "Résultats : Nous avons valider notre modèle sur le dataset Kaggle FakeNews est obtenu 99.2 % de précision avec notre meilleur modèle. Ce qui nous classe premier de cette petite compétition.\n",
        "\n",
        "Note : Ce notebook est très long 😬. Vous pouvez directement à l'aide du sommaire aller lire notre conclusion sur le TF-IDF."
      ]
    },
    {
      "cell_type": "markdown",
      "metadata": {
        "id": "r1vaYp4bUPlU",
        "colab_type": "text"
      },
      "source": [
        "# TF-IDF \n",
        "\n",
        "## Fonctionnement \n",
        "\n",
        "Le tf-idf régle un des problèmes majeur de l'algorithme du BAG-OF-WORD. Admettons que nous souhaitions classifier la phrase \"Jule aime les pommes\", dans la catégorie **\"sentiment positif\"**. \n",
        "\n",
        "Notre corpus de texte est : \n",
        "\n",
        "\"Jule **aime** les pommes.\" (texte à classifier)\n",
        "\"Jule **aime** le jaguar c'est un belle animal.\"\n",
        "\"Camille va souvant à la plage elle **aime** bronzer.\"\n",
        "\n",
        "1. l'algorithme va compter le nombre de mot dans le texte.\n",
        "2. On va déterminer l'importance d'un mot par sa fréquence d'apparition dans le texte. \n",
        "3. On entraine notre modèle sur ces matrice représentant nos textes.\n",
        "4. Notre modèle classife le texte. \n",
        "\n",
        "Ici, le problème qui se présente, c'est que tous les mots ont la même fréquence d'apparition dans le texte, 1 fois. Il n'est donc pas possible de dire que le mot **\" aime \"** est plus important que les autres mots présents dans le texte. \n",
        "\n",
        "### Term Frequency and Inverse Document Frequency \n",
        "\n",
        "* TF : compte le nombre d'apparition de chaque mot dans le corpus. Il mesure donc l'importance du mot dans le corpus. La probabilité du mot dans le texte.\n",
        "\n",
        "* IDF : Mesure l'importance de chaque mot dans tout le corpus de textes. Il répond à la question : Est ce que ce mot est un théme dans les documents ?  \n",
        "\n",
        "\n",
        "* TF : Nombre de fois mot apparait dans le texte / nombre de mots dans le texte\n",
        "![Texte alternatif…](https://miro.medium.com/proxy/1*HM0Vcdrx2RApOyjp_ZeW_Q.png)\n",
        "\n",
        "* IDF : log(Nombre de document dans lequel le mot apparait / nombre de document)  \n",
        "\n",
        "![Texte alternatif…](https://miro.medium.com/proxy/1*A5YGwFpcTd0YTCdgoiHFUw.png)\n",
        "\n",
        "* TF-IDF = TF * IDF \n",
        "\n",
        "![Texte alternatif…](https://miro.medium.com/proxy/1*nSqHXwOIJ2fa_EFLTh5KYw.png)\n",
        "\n",
        "\n",
        "\n",
        "## Objectif \n",
        "\n",
        "1. Déterminer si l'utilisation de deux TF-IDF, un pour les charactère et un autre pour les mots, améliore la précision de notre modèle. \n",
        "\n",
        "2. Déterminer comment bien configurer notre TF-IDF. Nous  allons nous concentrer sur le ngram_range et max_feature. \n",
        "\n",
        "3. Étudier l'impacte de la taille du vocabulaire. \n",
        "\n",
        "\n",
        "\n"
      ]
    },
    {
      "cell_type": "code",
      "metadata": {
        "id": "Vt7t2fW-T_Uu",
        "colab_type": "code",
        "colab": {}
      },
      "source": [
        "from sklearn.datasets import fetch_20newsgroups\n",
        "import pandas as pd\n",
        "\n",
        "def twenty_newsgroup_to_csv():\n",
        "    newsgroups_train = fetch_20newsgroups(subset='train', remove=('headers', 'footers', 'quotes'))\n",
        "\n",
        "    df = pd.DataFrame([newsgroups_train.data, newsgroups_train.target.tolist()]).T\n",
        "    df.columns = ['text', 'target']\n",
        "\n",
        "    targets = pd.DataFrame( newsgroups_train.target_names)\n",
        "    targets.columns=['title']\n",
        "\n",
        "    out = pd.merge(df, targets, left_on='target', right_index=True)\n",
        "    out['date'] = pd.to_datetime('now')\n",
        "    return out "
      ],
      "execution_count": 0,
      "outputs": []
    },
    {
      "cell_type": "code",
      "metadata": {
        "id": "uaGjeAKMT460",
        "colab_type": "code",
        "outputId": "c60abb72-c09c-41f8-d25d-a56e0ee78e4c",
        "colab": {
          "base_uri": "https://localhost:8080/",
          "height": 51
        }
      },
      "source": [
        "news = twenty_newsgroup_to_csv()"
      ],
      "execution_count": 0,
      "outputs": [
        {
          "output_type": "stream",
          "text": [
            "Downloading 20news dataset. This may take a few minutes.\n",
            "Downloading dataset from https://ndownloader.figshare.com/files/5975967 (14 MB)\n"
          ],
          "name": "stderr"
        }
      ]
    },
    {
      "cell_type": "code",
      "metadata": {
        "id": "LUDjWmH5ULAF",
        "colab_type": "code",
        "colab": {}
      },
      "source": [
        "news = news[['text', 'target', 'title']]"
      ],
      "execution_count": 0,
      "outputs": []
    },
    {
      "cell_type": "code",
      "metadata": {
        "id": "FpgmBGJmkO7P",
        "colab_type": "code",
        "outputId": "aef29ce5-1506-4792-8657-24a309847260",
        "colab": {
          "base_uri": "https://localhost:8080/",
          "height": 1000
        }
      },
      "source": [
        "distribution = news.title.value_counts()\n",
        "distribution = pd.DataFrame({'Category' : distribution.index, 'Frequency' : distribution.values})\n",
        "distribution"
      ],
      "execution_count": 0,
      "outputs": [
        {
          "output_type": "execute_result",
          "data": {
            "text/html": [
              "<div>\n",
              "<style scoped>\n",
              "    .dataframe tbody tr th:only-of-type {\n",
              "        vertical-align: middle;\n",
              "    }\n",
              "\n",
              "    .dataframe tbody tr th {\n",
              "        vertical-align: top;\n",
              "    }\n",
              "\n",
              "    .dataframe thead th {\n",
              "        text-align: right;\n",
              "    }\n",
              "</style>\n",
              "<table border=\"1\" class=\"dataframe\">\n",
              "  <thead>\n",
              "    <tr style=\"text-align: right;\">\n",
              "      <th></th>\n",
              "      <th>Category</th>\n",
              "      <th>Frequency</th>\n",
              "    </tr>\n",
              "  </thead>\n",
              "  <tbody>\n",
              "    <tr>\n",
              "      <th>0</th>\n",
              "      <td>rec.sport.hockey</td>\n",
              "      <td>600</td>\n",
              "    </tr>\n",
              "    <tr>\n",
              "      <th>1</th>\n",
              "      <td>soc.religion.christian</td>\n",
              "      <td>599</td>\n",
              "    </tr>\n",
              "    <tr>\n",
              "      <th>2</th>\n",
              "      <td>rec.motorcycles</td>\n",
              "      <td>598</td>\n",
              "    </tr>\n",
              "    <tr>\n",
              "      <th>3</th>\n",
              "      <td>rec.sport.baseball</td>\n",
              "      <td>597</td>\n",
              "    </tr>\n",
              "    <tr>\n",
              "      <th>4</th>\n",
              "      <td>sci.crypt</td>\n",
              "      <td>595</td>\n",
              "    </tr>\n",
              "    <tr>\n",
              "      <th>5</th>\n",
              "      <td>sci.med</td>\n",
              "      <td>594</td>\n",
              "    </tr>\n",
              "    <tr>\n",
              "      <th>6</th>\n",
              "      <td>rec.autos</td>\n",
              "      <td>594</td>\n",
              "    </tr>\n",
              "    <tr>\n",
              "      <th>7</th>\n",
              "      <td>comp.windows.x</td>\n",
              "      <td>593</td>\n",
              "    </tr>\n",
              "    <tr>\n",
              "      <th>8</th>\n",
              "      <td>sci.space</td>\n",
              "      <td>593</td>\n",
              "    </tr>\n",
              "    <tr>\n",
              "      <th>9</th>\n",
              "      <td>comp.os.ms-windows.misc</td>\n",
              "      <td>591</td>\n",
              "    </tr>\n",
              "    <tr>\n",
              "      <th>10</th>\n",
              "      <td>sci.electronics</td>\n",
              "      <td>591</td>\n",
              "    </tr>\n",
              "    <tr>\n",
              "      <th>11</th>\n",
              "      <td>comp.sys.ibm.pc.hardware</td>\n",
              "      <td>590</td>\n",
              "    </tr>\n",
              "    <tr>\n",
              "      <th>12</th>\n",
              "      <td>misc.forsale</td>\n",
              "      <td>585</td>\n",
              "    </tr>\n",
              "    <tr>\n",
              "      <th>13</th>\n",
              "      <td>comp.graphics</td>\n",
              "      <td>584</td>\n",
              "    </tr>\n",
              "    <tr>\n",
              "      <th>14</th>\n",
              "      <td>comp.sys.mac.hardware</td>\n",
              "      <td>578</td>\n",
              "    </tr>\n",
              "    <tr>\n",
              "      <th>15</th>\n",
              "      <td>talk.politics.mideast</td>\n",
              "      <td>564</td>\n",
              "    </tr>\n",
              "    <tr>\n",
              "      <th>16</th>\n",
              "      <td>talk.politics.guns</td>\n",
              "      <td>546</td>\n",
              "    </tr>\n",
              "    <tr>\n",
              "      <th>17</th>\n",
              "      <td>alt.atheism</td>\n",
              "      <td>480</td>\n",
              "    </tr>\n",
              "    <tr>\n",
              "      <th>18</th>\n",
              "      <td>talk.politics.misc</td>\n",
              "      <td>465</td>\n",
              "    </tr>\n",
              "    <tr>\n",
              "      <th>19</th>\n",
              "      <td>talk.religion.misc</td>\n",
              "      <td>377</td>\n",
              "    </tr>\n",
              "  </tbody>\n",
              "</table>\n",
              "</div>"
            ],
            "text/plain": [
              "                    Category  Frequency\n",
              "0           rec.sport.hockey        600\n",
              "1     soc.religion.christian        599\n",
              "2            rec.motorcycles        598\n",
              "3         rec.sport.baseball        597\n",
              "4                  sci.crypt        595\n",
              "5                    sci.med        594\n",
              "6                  rec.autos        594\n",
              "7             comp.windows.x        593\n",
              "8                  sci.space        593\n",
              "9    comp.os.ms-windows.misc        591\n",
              "10           sci.electronics        591\n",
              "11  comp.sys.ibm.pc.hardware        590\n",
              "12              misc.forsale        585\n",
              "13             comp.graphics        584\n",
              "14     comp.sys.mac.hardware        578\n",
              "15     talk.politics.mideast        564\n",
              "16        talk.politics.guns        546\n",
              "17               alt.atheism        480\n",
              "18        talk.politics.misc        465\n",
              "19        talk.religion.misc        377"
            ]
          },
          "metadata": {
            "tags": []
          },
          "execution_count": 39
        },
        {
          "output_type": "execute_result",
          "data": {
            "text/html": [
              "<div>\n",
              "<style scoped>\n",
              "    .dataframe tbody tr th:only-of-type {\n",
              "        vertical-align: middle;\n",
              "    }\n",
              "\n",
              "    .dataframe tbody tr th {\n",
              "        vertical-align: top;\n",
              "    }\n",
              "\n",
              "    .dataframe thead th {\n",
              "        text-align: right;\n",
              "    }\n",
              "</style>\n",
              "<table border=\"1\" class=\"dataframe\">\n",
              "  <thead>\n",
              "    <tr style=\"text-align: right;\">\n",
              "      <th></th>\n",
              "      <th>Category</th>\n",
              "      <th>Frequency</th>\n",
              "    </tr>\n",
              "  </thead>\n",
              "  <tbody>\n",
              "    <tr>\n",
              "      <th>0</th>\n",
              "      <td>rec.sport.hockey</td>\n",
              "      <td>600</td>\n",
              "    </tr>\n",
              "    <tr>\n",
              "      <th>1</th>\n",
              "      <td>soc.religion.christian</td>\n",
              "      <td>599</td>\n",
              "    </tr>\n",
              "    <tr>\n",
              "      <th>2</th>\n",
              "      <td>rec.motorcycles</td>\n",
              "      <td>598</td>\n",
              "    </tr>\n",
              "    <tr>\n",
              "      <th>3</th>\n",
              "      <td>rec.sport.baseball</td>\n",
              "      <td>597</td>\n",
              "    </tr>\n",
              "    <tr>\n",
              "      <th>4</th>\n",
              "      <td>sci.crypt</td>\n",
              "      <td>595</td>\n",
              "    </tr>\n",
              "    <tr>\n",
              "      <th>5</th>\n",
              "      <td>sci.med</td>\n",
              "      <td>594</td>\n",
              "    </tr>\n",
              "    <tr>\n",
              "      <th>6</th>\n",
              "      <td>rec.autos</td>\n",
              "      <td>594</td>\n",
              "    </tr>\n",
              "    <tr>\n",
              "      <th>7</th>\n",
              "      <td>comp.windows.x</td>\n",
              "      <td>593</td>\n",
              "    </tr>\n",
              "    <tr>\n",
              "      <th>8</th>\n",
              "      <td>sci.space</td>\n",
              "      <td>593</td>\n",
              "    </tr>\n",
              "    <tr>\n",
              "      <th>9</th>\n",
              "      <td>comp.os.ms-windows.misc</td>\n",
              "      <td>591</td>\n",
              "    </tr>\n",
              "    <tr>\n",
              "      <th>10</th>\n",
              "      <td>sci.electronics</td>\n",
              "      <td>591</td>\n",
              "    </tr>\n",
              "    <tr>\n",
              "      <th>11</th>\n",
              "      <td>comp.sys.ibm.pc.hardware</td>\n",
              "      <td>590</td>\n",
              "    </tr>\n",
              "    <tr>\n",
              "      <th>12</th>\n",
              "      <td>misc.forsale</td>\n",
              "      <td>585</td>\n",
              "    </tr>\n",
              "    <tr>\n",
              "      <th>13</th>\n",
              "      <td>comp.graphics</td>\n",
              "      <td>584</td>\n",
              "    </tr>\n",
              "    <tr>\n",
              "      <th>14</th>\n",
              "      <td>comp.sys.mac.hardware</td>\n",
              "      <td>578</td>\n",
              "    </tr>\n",
              "    <tr>\n",
              "      <th>15</th>\n",
              "      <td>talk.politics.mideast</td>\n",
              "      <td>564</td>\n",
              "    </tr>\n",
              "    <tr>\n",
              "      <th>16</th>\n",
              "      <td>talk.politics.guns</td>\n",
              "      <td>546</td>\n",
              "    </tr>\n",
              "    <tr>\n",
              "      <th>17</th>\n",
              "      <td>alt.atheism</td>\n",
              "      <td>480</td>\n",
              "    </tr>\n",
              "    <tr>\n",
              "      <th>18</th>\n",
              "      <td>talk.politics.misc</td>\n",
              "      <td>465</td>\n",
              "    </tr>\n",
              "    <tr>\n",
              "      <th>19</th>\n",
              "      <td>talk.religion.misc</td>\n",
              "      <td>377</td>\n",
              "    </tr>\n",
              "  </tbody>\n",
              "</table>\n",
              "</div>"
            ],
            "text/plain": [
              "                    Category  Frequency\n",
              "0           rec.sport.hockey        600\n",
              "1     soc.religion.christian        599\n",
              "2            rec.motorcycles        598\n",
              "3         rec.sport.baseball        597\n",
              "4                  sci.crypt        595\n",
              "5                    sci.med        594\n",
              "6                  rec.autos        594\n",
              "7             comp.windows.x        593\n",
              "8                  sci.space        593\n",
              "9    comp.os.ms-windows.misc        591\n",
              "10           sci.electronics        591\n",
              "11  comp.sys.ibm.pc.hardware        590\n",
              "12              misc.forsale        585\n",
              "13             comp.graphics        584\n",
              "14     comp.sys.mac.hardware        578\n",
              "15     talk.politics.mideast        564\n",
              "16        talk.politics.guns        546\n",
              "17               alt.atheism        480\n",
              "18        talk.politics.misc        465\n",
              "19        talk.religion.misc        377"
            ]
          },
          "metadata": {
            "tags": []
          },
          "execution_count": 99
        }
      ]
    },
    {
      "cell_type": "code",
      "metadata": {
        "id": "pupNePJZLj4P",
        "colab_type": "code",
        "outputId": "fb66b0ef-9200-49b5-bb29-6b8edcc82301",
        "colab": {
          "base_uri": "https://localhost:8080/",
          "height": 1000
        }
      },
      "source": [
        "import plotly.express as px \n",
        "\n",
        "px.bar(distribution, x=\"Frequency\", y='Category', color='Category', orientation='h', labels={'Category': 'Thème', 'Frequency' : 'Nombre de textes'})"
      ],
      "execution_count": 0,
      "outputs": [
        {
          "output_type": "display_data",
          "data": {
            "text/html": [
              "<html>\n",
              "<head><meta charset=\"utf-8\" /></head>\n",
              "<body>\n",
              "    <div>\n",
              "            <script src=\"https://cdnjs.cloudflare.com/ajax/libs/mathjax/2.7.5/MathJax.js?config=TeX-AMS-MML_SVG\"></script><script type=\"text/javascript\">if (window.MathJax) {MathJax.Hub.Config({SVG: {font: \"STIX-Web\"}});}</script>\n",
              "                <script type=\"text/javascript\">window.PlotlyConfig = {MathJaxConfig: 'local'};</script>\n",
              "        <script src=\"https://cdn.plot.ly/plotly-latest.min.js\"></script>    \n",
              "            <div id=\"38b59c57-f87e-40b1-8b53-3cb46aa25577\" class=\"plotly-graph-div\" style=\"height:525px; width:100%;\"></div>\n",
              "            <script type=\"text/javascript\">\n",
              "                \n",
              "                    window.PLOTLYENV=window.PLOTLYENV || {};\n",
              "                    \n",
              "                if (document.getElementById(\"38b59c57-f87e-40b1-8b53-3cb46aa25577\")) {\n",
              "                    Plotly.newPlot(\n",
              "                        '38b59c57-f87e-40b1-8b53-3cb46aa25577',\n",
              "                        [{\"alignmentgroup\": \"True\", \"hoverlabel\": {\"namelength\": 0}, \"hovertemplate\": \"Th\\u00e8me=%{y}<br>Nombre de textes=%{x}\", \"legendgroup\": \"Th\\u00e8me=rec.sport.hockey\", \"marker\": {\"color\": \"#636efa\"}, \"name\": \"Th\\u00e8me=rec.sport.hockey\", \"offsetgroup\": \"Th\\u00e8me=rec.sport.hockey\", \"orientation\": \"h\", \"showlegend\": true, \"textposition\": \"auto\", \"type\": \"bar\", \"x\": [600], \"xaxis\": \"x\", \"y\": [\"rec.sport.hockey\"], \"yaxis\": \"y\"}, {\"alignmentgroup\": \"True\", \"hoverlabel\": {\"namelength\": 0}, \"hovertemplate\": \"Th\\u00e8me=%{y}<br>Nombre de textes=%{x}\", \"legendgroup\": \"Th\\u00e8me=soc.religion.christian\", \"marker\": {\"color\": \"#EF553B\"}, \"name\": \"Th\\u00e8me=soc.religion.christian\", \"offsetgroup\": \"Th\\u00e8me=soc.religion.christian\", \"orientation\": \"h\", \"showlegend\": true, \"textposition\": \"auto\", \"type\": \"bar\", \"x\": [599], \"xaxis\": \"x\", \"y\": [\"soc.religion.christian\"], \"yaxis\": \"y\"}, {\"alignmentgroup\": \"True\", \"hoverlabel\": {\"namelength\": 0}, \"hovertemplate\": \"Th\\u00e8me=%{y}<br>Nombre de textes=%{x}\", \"legendgroup\": \"Th\\u00e8me=rec.motorcycles\", \"marker\": {\"color\": \"#00cc96\"}, \"name\": \"Th\\u00e8me=rec.motorcycles\", \"offsetgroup\": \"Th\\u00e8me=rec.motorcycles\", \"orientation\": \"h\", \"showlegend\": true, \"textposition\": \"auto\", \"type\": \"bar\", \"x\": [598], \"xaxis\": \"x\", \"y\": [\"rec.motorcycles\"], \"yaxis\": \"y\"}, {\"alignmentgroup\": \"True\", \"hoverlabel\": {\"namelength\": 0}, \"hovertemplate\": \"Th\\u00e8me=%{y}<br>Nombre de textes=%{x}\", \"legendgroup\": \"Th\\u00e8me=rec.sport.baseball\", \"marker\": {\"color\": \"#ab63fa\"}, \"name\": \"Th\\u00e8me=rec.sport.baseball\", \"offsetgroup\": \"Th\\u00e8me=rec.sport.baseball\", \"orientation\": \"h\", \"showlegend\": true, \"textposition\": \"auto\", \"type\": \"bar\", \"x\": [597], \"xaxis\": \"x\", \"y\": [\"rec.sport.baseball\"], \"yaxis\": \"y\"}, {\"alignmentgroup\": \"True\", \"hoverlabel\": {\"namelength\": 0}, \"hovertemplate\": \"Th\\u00e8me=%{y}<br>Nombre de textes=%{x}\", \"legendgroup\": \"Th\\u00e8me=sci.crypt\", \"marker\": {\"color\": \"#FFA15A\"}, \"name\": \"Th\\u00e8me=sci.crypt\", \"offsetgroup\": \"Th\\u00e8me=sci.crypt\", \"orientation\": \"h\", \"showlegend\": true, \"textposition\": \"auto\", \"type\": \"bar\", \"x\": [595], \"xaxis\": \"x\", \"y\": [\"sci.crypt\"], \"yaxis\": \"y\"}, {\"alignmentgroup\": \"True\", \"hoverlabel\": {\"namelength\": 0}, \"hovertemplate\": \"Th\\u00e8me=%{y}<br>Nombre de textes=%{x}\", \"legendgroup\": \"Th\\u00e8me=sci.med\", \"marker\": {\"color\": \"#19d3f3\"}, \"name\": \"Th\\u00e8me=sci.med\", \"offsetgroup\": \"Th\\u00e8me=sci.med\", \"orientation\": \"h\", \"showlegend\": true, \"textposition\": \"auto\", \"type\": \"bar\", \"x\": [594], \"xaxis\": \"x\", \"y\": [\"sci.med\"], \"yaxis\": \"y\"}, {\"alignmentgroup\": \"True\", \"hoverlabel\": {\"namelength\": 0}, \"hovertemplate\": \"Th\\u00e8me=%{y}<br>Nombre de textes=%{x}\", \"legendgroup\": \"Th\\u00e8me=rec.autos\", \"marker\": {\"color\": \"#FF6692\"}, \"name\": \"Th\\u00e8me=rec.autos\", \"offsetgroup\": \"Th\\u00e8me=rec.autos\", \"orientation\": \"h\", \"showlegend\": true, \"textposition\": \"auto\", \"type\": \"bar\", \"x\": [594], \"xaxis\": \"x\", \"y\": [\"rec.autos\"], \"yaxis\": \"y\"}, {\"alignmentgroup\": \"True\", \"hoverlabel\": {\"namelength\": 0}, \"hovertemplate\": \"Th\\u00e8me=%{y}<br>Nombre de textes=%{x}\", \"legendgroup\": \"Th\\u00e8me=comp.windows.x\", \"marker\": {\"color\": \"#B6E880\"}, \"name\": \"Th\\u00e8me=comp.windows.x\", \"offsetgroup\": \"Th\\u00e8me=comp.windows.x\", \"orientation\": \"h\", \"showlegend\": true, \"textposition\": \"auto\", \"type\": \"bar\", \"x\": [593], \"xaxis\": \"x\", \"y\": [\"comp.windows.x\"], \"yaxis\": \"y\"}, {\"alignmentgroup\": \"True\", \"hoverlabel\": {\"namelength\": 0}, \"hovertemplate\": \"Th\\u00e8me=%{y}<br>Nombre de textes=%{x}\", \"legendgroup\": \"Th\\u00e8me=sci.space\", \"marker\": {\"color\": \"#FF97FF\"}, \"name\": \"Th\\u00e8me=sci.space\", \"offsetgroup\": \"Th\\u00e8me=sci.space\", \"orientation\": \"h\", \"showlegend\": true, \"textposition\": \"auto\", \"type\": \"bar\", \"x\": [593], \"xaxis\": \"x\", \"y\": [\"sci.space\"], \"yaxis\": \"y\"}, {\"alignmentgroup\": \"True\", \"hoverlabel\": {\"namelength\": 0}, \"hovertemplate\": \"Th\\u00e8me=%{y}<br>Nombre de textes=%{x}\", \"legendgroup\": \"Th\\u00e8me=comp.os.ms-windows.misc\", \"marker\": {\"color\": \"#FECB52\"}, \"name\": \"Th\\u00e8me=comp.os.ms-windows.misc\", \"offsetgroup\": \"Th\\u00e8me=comp.os.ms-windows.misc\", \"orientation\": \"h\", \"showlegend\": true, \"textposition\": \"auto\", \"type\": \"bar\", \"x\": [591], \"xaxis\": \"x\", \"y\": [\"comp.os.ms-windows.misc\"], \"yaxis\": \"y\"}, {\"alignmentgroup\": \"True\", \"hoverlabel\": {\"namelength\": 0}, \"hovertemplate\": \"Th\\u00e8me=%{y}<br>Nombre de textes=%{x}\", \"legendgroup\": \"Th\\u00e8me=sci.electronics\", \"marker\": {\"color\": \"#636efa\"}, \"name\": \"Th\\u00e8me=sci.electronics\", \"offsetgroup\": \"Th\\u00e8me=sci.electronics\", \"orientation\": \"h\", \"showlegend\": true, \"textposition\": \"auto\", \"type\": \"bar\", \"x\": [591], \"xaxis\": \"x\", \"y\": [\"sci.electronics\"], \"yaxis\": \"y\"}, {\"alignmentgroup\": \"True\", \"hoverlabel\": {\"namelength\": 0}, \"hovertemplate\": \"Th\\u00e8me=%{y}<br>Nombre de textes=%{x}\", \"legendgroup\": \"Th\\u00e8me=comp.sys.ibm.pc.hardware\", \"marker\": {\"color\": \"#EF553B\"}, \"name\": \"Th\\u00e8me=comp.sys.ibm.pc.hardware\", \"offsetgroup\": \"Th\\u00e8me=comp.sys.ibm.pc.hardware\", \"orientation\": \"h\", \"showlegend\": true, \"textposition\": \"auto\", \"type\": \"bar\", \"x\": [590], \"xaxis\": \"x\", \"y\": [\"comp.sys.ibm.pc.hardware\"], \"yaxis\": \"y\"}, {\"alignmentgroup\": \"True\", \"hoverlabel\": {\"namelength\": 0}, \"hovertemplate\": \"Th\\u00e8me=%{y}<br>Nombre de textes=%{x}\", \"legendgroup\": \"Th\\u00e8me=misc.forsale\", \"marker\": {\"color\": \"#00cc96\"}, \"name\": \"Th\\u00e8me=misc.forsale\", \"offsetgroup\": \"Th\\u00e8me=misc.forsale\", \"orientation\": \"h\", \"showlegend\": true, \"textposition\": \"auto\", \"type\": \"bar\", \"x\": [585], \"xaxis\": \"x\", \"y\": [\"misc.forsale\"], \"yaxis\": \"y\"}, {\"alignmentgroup\": \"True\", \"hoverlabel\": {\"namelength\": 0}, \"hovertemplate\": \"Th\\u00e8me=%{y}<br>Nombre de textes=%{x}\", \"legendgroup\": \"Th\\u00e8me=comp.graphics\", \"marker\": {\"color\": \"#ab63fa\"}, \"name\": \"Th\\u00e8me=comp.graphics\", \"offsetgroup\": \"Th\\u00e8me=comp.graphics\", \"orientation\": \"h\", \"showlegend\": true, \"textposition\": \"auto\", \"type\": \"bar\", \"x\": [584], \"xaxis\": \"x\", \"y\": [\"comp.graphics\"], \"yaxis\": \"y\"}, {\"alignmentgroup\": \"True\", \"hoverlabel\": {\"namelength\": 0}, \"hovertemplate\": \"Th\\u00e8me=%{y}<br>Nombre de textes=%{x}\", \"legendgroup\": \"Th\\u00e8me=comp.sys.mac.hardware\", \"marker\": {\"color\": \"#FFA15A\"}, \"name\": \"Th\\u00e8me=comp.sys.mac.hardware\", \"offsetgroup\": \"Th\\u00e8me=comp.sys.mac.hardware\", \"orientation\": \"h\", \"showlegend\": true, \"textposition\": \"auto\", \"type\": \"bar\", \"x\": [578], \"xaxis\": \"x\", \"y\": [\"comp.sys.mac.hardware\"], \"yaxis\": \"y\"}, {\"alignmentgroup\": \"True\", \"hoverlabel\": {\"namelength\": 0}, \"hovertemplate\": \"Th\\u00e8me=%{y}<br>Nombre de textes=%{x}\", \"legendgroup\": \"Th\\u00e8me=talk.politics.mideast\", \"marker\": {\"color\": \"#19d3f3\"}, \"name\": \"Th\\u00e8me=talk.politics.mideast\", \"offsetgroup\": \"Th\\u00e8me=talk.politics.mideast\", \"orientation\": \"h\", \"showlegend\": true, \"textposition\": \"auto\", \"type\": \"bar\", \"x\": [564], \"xaxis\": \"x\", \"y\": [\"talk.politics.mideast\"], \"yaxis\": \"y\"}, {\"alignmentgroup\": \"True\", \"hoverlabel\": {\"namelength\": 0}, \"hovertemplate\": \"Th\\u00e8me=%{y}<br>Nombre de textes=%{x}\", \"legendgroup\": \"Th\\u00e8me=talk.politics.guns\", \"marker\": {\"color\": \"#FF6692\"}, \"name\": \"Th\\u00e8me=talk.politics.guns\", \"offsetgroup\": \"Th\\u00e8me=talk.politics.guns\", \"orientation\": \"h\", \"showlegend\": true, \"textposition\": \"auto\", \"type\": \"bar\", \"x\": [546], \"xaxis\": \"x\", \"y\": [\"talk.politics.guns\"], \"yaxis\": \"y\"}, {\"alignmentgroup\": \"True\", \"hoverlabel\": {\"namelength\": 0}, \"hovertemplate\": \"Th\\u00e8me=%{y}<br>Nombre de textes=%{x}\", \"legendgroup\": \"Th\\u00e8me=alt.atheism\", \"marker\": {\"color\": \"#B6E880\"}, \"name\": \"Th\\u00e8me=alt.atheism\", \"offsetgroup\": \"Th\\u00e8me=alt.atheism\", \"orientation\": \"h\", \"showlegend\": true, \"textposition\": \"auto\", \"type\": \"bar\", \"x\": [480], \"xaxis\": \"x\", \"y\": [\"alt.atheism\"], \"yaxis\": \"y\"}, {\"alignmentgroup\": \"True\", \"hoverlabel\": {\"namelength\": 0}, \"hovertemplate\": \"Th\\u00e8me=%{y}<br>Nombre de textes=%{x}\", \"legendgroup\": \"Th\\u00e8me=talk.politics.misc\", \"marker\": {\"color\": \"#FF97FF\"}, \"name\": \"Th\\u00e8me=talk.politics.misc\", \"offsetgroup\": \"Th\\u00e8me=talk.politics.misc\", \"orientation\": \"h\", \"showlegend\": true, \"textposition\": \"auto\", \"type\": \"bar\", \"x\": [465], \"xaxis\": \"x\", \"y\": [\"talk.politics.misc\"], \"yaxis\": \"y\"}, {\"alignmentgroup\": \"True\", \"hoverlabel\": {\"namelength\": 0}, \"hovertemplate\": \"Th\\u00e8me=%{y}<br>Nombre de textes=%{x}\", \"legendgroup\": \"Th\\u00e8me=talk.religion.misc\", \"marker\": {\"color\": \"#FECB52\"}, \"name\": \"Th\\u00e8me=talk.religion.misc\", \"offsetgroup\": \"Th\\u00e8me=talk.religion.misc\", \"orientation\": \"h\", \"showlegend\": true, \"textposition\": \"auto\", \"type\": \"bar\", \"x\": [377], \"xaxis\": \"x\", \"y\": [\"talk.religion.misc\"], \"yaxis\": \"y\"}],\n",
              "                        {\"barmode\": \"relative\", \"legend\": {\"tracegroupgap\": 0}, \"margin\": {\"t\": 60}, \"template\": {\"data\": {\"bar\": [{\"error_x\": {\"color\": \"#2a3f5f\"}, \"error_y\": {\"color\": \"#2a3f5f\"}, \"marker\": {\"line\": {\"color\": \"#E5ECF6\", \"width\": 0.5}}, \"type\": \"bar\"}], \"barpolar\": [{\"marker\": {\"line\": {\"color\": \"#E5ECF6\", \"width\": 0.5}}, \"type\": \"barpolar\"}], \"carpet\": [{\"aaxis\": {\"endlinecolor\": \"#2a3f5f\", \"gridcolor\": \"white\", \"linecolor\": \"white\", \"minorgridcolor\": \"white\", \"startlinecolor\": \"#2a3f5f\"}, \"baxis\": {\"endlinecolor\": \"#2a3f5f\", \"gridcolor\": \"white\", \"linecolor\": \"white\", \"minorgridcolor\": \"white\", \"startlinecolor\": \"#2a3f5f\"}, \"type\": \"carpet\"}], \"choropleth\": [{\"colorbar\": {\"outlinewidth\": 0, \"ticks\": \"\"}, \"type\": \"choropleth\"}], \"contour\": [{\"colorbar\": {\"outlinewidth\": 0, \"ticks\": \"\"}, \"colorscale\": [[0.0, \"#0d0887\"], [0.1111111111111111, \"#46039f\"], [0.2222222222222222, \"#7201a8\"], [0.3333333333333333, \"#9c179e\"], [0.4444444444444444, \"#bd3786\"], [0.5555555555555556, \"#d8576b\"], [0.6666666666666666, \"#ed7953\"], [0.7777777777777778, \"#fb9f3a\"], [0.8888888888888888, \"#fdca26\"], [1.0, \"#f0f921\"]], \"type\": \"contour\"}], \"contourcarpet\": [{\"colorbar\": {\"outlinewidth\": 0, \"ticks\": \"\"}, \"type\": \"contourcarpet\"}], \"heatmap\": [{\"colorbar\": {\"outlinewidth\": 0, \"ticks\": \"\"}, \"colorscale\": [[0.0, \"#0d0887\"], [0.1111111111111111, \"#46039f\"], [0.2222222222222222, \"#7201a8\"], [0.3333333333333333, \"#9c179e\"], [0.4444444444444444, \"#bd3786\"], [0.5555555555555556, \"#d8576b\"], [0.6666666666666666, \"#ed7953\"], [0.7777777777777778, \"#fb9f3a\"], [0.8888888888888888, \"#fdca26\"], [1.0, \"#f0f921\"]], \"type\": \"heatmap\"}], \"heatmapgl\": [{\"colorbar\": {\"outlinewidth\": 0, \"ticks\": \"\"}, \"colorscale\": [[0.0, \"#0d0887\"], [0.1111111111111111, \"#46039f\"], [0.2222222222222222, \"#7201a8\"], [0.3333333333333333, \"#9c179e\"], [0.4444444444444444, \"#bd3786\"], [0.5555555555555556, \"#d8576b\"], [0.6666666666666666, \"#ed7953\"], [0.7777777777777778, \"#fb9f3a\"], [0.8888888888888888, \"#fdca26\"], [1.0, \"#f0f921\"]], \"type\": \"heatmapgl\"}], \"histogram\": [{\"marker\": {\"colorbar\": {\"outlinewidth\": 0, \"ticks\": \"\"}}, \"type\": \"histogram\"}], \"histogram2d\": [{\"colorbar\": {\"outlinewidth\": 0, \"ticks\": \"\"}, \"colorscale\": [[0.0, \"#0d0887\"], [0.1111111111111111, \"#46039f\"], [0.2222222222222222, \"#7201a8\"], [0.3333333333333333, \"#9c179e\"], [0.4444444444444444, \"#bd3786\"], [0.5555555555555556, \"#d8576b\"], [0.6666666666666666, \"#ed7953\"], [0.7777777777777778, \"#fb9f3a\"], [0.8888888888888888, \"#fdca26\"], [1.0, \"#f0f921\"]], \"type\": \"histogram2d\"}], \"histogram2dcontour\": [{\"colorbar\": {\"outlinewidth\": 0, \"ticks\": \"\"}, \"colorscale\": [[0.0, \"#0d0887\"], [0.1111111111111111, \"#46039f\"], [0.2222222222222222, \"#7201a8\"], [0.3333333333333333, \"#9c179e\"], [0.4444444444444444, \"#bd3786\"], [0.5555555555555556, \"#d8576b\"], [0.6666666666666666, \"#ed7953\"], [0.7777777777777778, \"#fb9f3a\"], [0.8888888888888888, \"#fdca26\"], [1.0, \"#f0f921\"]], \"type\": \"histogram2dcontour\"}], \"mesh3d\": [{\"colorbar\": {\"outlinewidth\": 0, \"ticks\": \"\"}, \"type\": \"mesh3d\"}], \"parcoords\": [{\"line\": {\"colorbar\": {\"outlinewidth\": 0, \"ticks\": \"\"}}, \"type\": \"parcoords\"}], \"pie\": [{\"automargin\": true, \"type\": \"pie\"}], \"scatter\": [{\"marker\": {\"colorbar\": {\"outlinewidth\": 0, \"ticks\": \"\"}}, \"type\": \"scatter\"}], \"scatter3d\": [{\"line\": {\"colorbar\": {\"outlinewidth\": 0, \"ticks\": \"\"}}, \"marker\": {\"colorbar\": {\"outlinewidth\": 0, \"ticks\": \"\"}}, \"type\": \"scatter3d\"}], \"scattercarpet\": [{\"marker\": {\"colorbar\": {\"outlinewidth\": 0, \"ticks\": \"\"}}, \"type\": \"scattercarpet\"}], \"scattergeo\": [{\"marker\": {\"colorbar\": {\"outlinewidth\": 0, \"ticks\": \"\"}}, \"type\": \"scattergeo\"}], \"scattergl\": [{\"marker\": {\"colorbar\": {\"outlinewidth\": 0, \"ticks\": \"\"}}, \"type\": \"scattergl\"}], \"scattermapbox\": [{\"marker\": {\"colorbar\": {\"outlinewidth\": 0, \"ticks\": \"\"}}, \"type\": \"scattermapbox\"}], \"scatterpolar\": [{\"marker\": {\"colorbar\": {\"outlinewidth\": 0, \"ticks\": \"\"}}, \"type\": \"scatterpolar\"}], \"scatterpolargl\": [{\"marker\": {\"colorbar\": {\"outlinewidth\": 0, \"ticks\": \"\"}}, \"type\": \"scatterpolargl\"}], \"scatterternary\": [{\"marker\": {\"colorbar\": {\"outlinewidth\": 0, \"ticks\": \"\"}}, \"type\": \"scatterternary\"}], \"surface\": [{\"colorbar\": {\"outlinewidth\": 0, \"ticks\": \"\"}, \"colorscale\": [[0.0, \"#0d0887\"], [0.1111111111111111, \"#46039f\"], [0.2222222222222222, \"#7201a8\"], [0.3333333333333333, \"#9c179e\"], [0.4444444444444444, \"#bd3786\"], [0.5555555555555556, \"#d8576b\"], [0.6666666666666666, \"#ed7953\"], [0.7777777777777778, \"#fb9f3a\"], [0.8888888888888888, \"#fdca26\"], [1.0, \"#f0f921\"]], \"type\": \"surface\"}], \"table\": [{\"cells\": {\"fill\": {\"color\": \"#EBF0F8\"}, \"line\": {\"color\": \"white\"}}, \"header\": {\"fill\": {\"color\": \"#C8D4E3\"}, \"line\": {\"color\": \"white\"}}, \"type\": \"table\"}]}, \"layout\": {\"annotationdefaults\": {\"arrowcolor\": \"#2a3f5f\", \"arrowhead\": 0, \"arrowwidth\": 1}, \"coloraxis\": {\"colorbar\": {\"outlinewidth\": 0, \"ticks\": \"\"}}, \"colorscale\": {\"diverging\": [[0, \"#8e0152\"], [0.1, \"#c51b7d\"], [0.2, \"#de77ae\"], [0.3, \"#f1b6da\"], [0.4, \"#fde0ef\"], [0.5, \"#f7f7f7\"], [0.6, \"#e6f5d0\"], [0.7, \"#b8e186\"], [0.8, \"#7fbc41\"], [0.9, \"#4d9221\"], [1, \"#276419\"]], \"sequential\": [[0.0, \"#0d0887\"], [0.1111111111111111, \"#46039f\"], [0.2222222222222222, \"#7201a8\"], [0.3333333333333333, \"#9c179e\"], [0.4444444444444444, \"#bd3786\"], [0.5555555555555556, \"#d8576b\"], [0.6666666666666666, \"#ed7953\"], [0.7777777777777778, \"#fb9f3a\"], [0.8888888888888888, \"#fdca26\"], [1.0, \"#f0f921\"]], \"sequentialminus\": [[0.0, \"#0d0887\"], [0.1111111111111111, \"#46039f\"], [0.2222222222222222, \"#7201a8\"], [0.3333333333333333, \"#9c179e\"], [0.4444444444444444, \"#bd3786\"], [0.5555555555555556, \"#d8576b\"], [0.6666666666666666, \"#ed7953\"], [0.7777777777777778, \"#fb9f3a\"], [0.8888888888888888, \"#fdca26\"], [1.0, \"#f0f921\"]]}, \"colorway\": [\"#636efa\", \"#EF553B\", \"#00cc96\", \"#ab63fa\", \"#FFA15A\", \"#19d3f3\", \"#FF6692\", \"#B6E880\", \"#FF97FF\", \"#FECB52\"], \"font\": {\"color\": \"#2a3f5f\"}, \"geo\": {\"bgcolor\": \"white\", \"lakecolor\": \"white\", \"landcolor\": \"#E5ECF6\", \"showlakes\": true, \"showland\": true, \"subunitcolor\": \"white\"}, \"hoverlabel\": {\"align\": \"left\"}, \"hovermode\": \"closest\", \"mapbox\": {\"style\": \"light\"}, \"paper_bgcolor\": \"white\", \"plot_bgcolor\": \"#E5ECF6\", \"polar\": {\"angularaxis\": {\"gridcolor\": \"white\", \"linecolor\": \"white\", \"ticks\": \"\"}, \"bgcolor\": \"#E5ECF6\", \"radialaxis\": {\"gridcolor\": \"white\", \"linecolor\": \"white\", \"ticks\": \"\"}}, \"scene\": {\"xaxis\": {\"backgroundcolor\": \"#E5ECF6\", \"gridcolor\": \"white\", \"gridwidth\": 2, \"linecolor\": \"white\", \"showbackground\": true, \"ticks\": \"\", \"zerolinecolor\": \"white\"}, \"yaxis\": {\"backgroundcolor\": \"#E5ECF6\", \"gridcolor\": \"white\", \"gridwidth\": 2, \"linecolor\": \"white\", \"showbackground\": true, \"ticks\": \"\", \"zerolinecolor\": \"white\"}, \"zaxis\": {\"backgroundcolor\": \"#E5ECF6\", \"gridcolor\": \"white\", \"gridwidth\": 2, \"linecolor\": \"white\", \"showbackground\": true, \"ticks\": \"\", \"zerolinecolor\": \"white\"}}, \"shapedefaults\": {\"line\": {\"color\": \"#2a3f5f\"}}, \"ternary\": {\"aaxis\": {\"gridcolor\": \"white\", \"linecolor\": \"white\", \"ticks\": \"\"}, \"baxis\": {\"gridcolor\": \"white\", \"linecolor\": \"white\", \"ticks\": \"\"}, \"bgcolor\": \"#E5ECF6\", \"caxis\": {\"gridcolor\": \"white\", \"linecolor\": \"white\", \"ticks\": \"\"}}, \"title\": {\"x\": 0.05}, \"xaxis\": {\"automargin\": true, \"gridcolor\": \"white\", \"linecolor\": \"white\", \"ticks\": \"\", \"title\": {\"standoff\": 15}, \"zerolinecolor\": \"white\", \"zerolinewidth\": 2}, \"yaxis\": {\"automargin\": true, \"gridcolor\": \"white\", \"linecolor\": \"white\", \"ticks\": \"\", \"title\": {\"standoff\": 15}, \"zerolinecolor\": \"white\", \"zerolinewidth\": 2}}}, \"xaxis\": {\"anchor\": \"y\", \"domain\": [0.0, 1.0], \"title\": {\"text\": \"Nombre de textes\"}}, \"yaxis\": {\"anchor\": \"x\", \"categoryarray\": [\"talk.religion.misc\", \"talk.politics.misc\", \"alt.atheism\", \"talk.politics.guns\", \"talk.politics.mideast\", \"comp.sys.mac.hardware\", \"comp.graphics\", \"misc.forsale\", \"comp.sys.ibm.pc.hardware\", \"sci.electronics\", \"comp.os.ms-windows.misc\", \"sci.space\", \"comp.windows.x\", \"rec.autos\", \"sci.med\", \"sci.crypt\", \"rec.sport.baseball\", \"rec.motorcycles\", \"soc.religion.christian\", \"rec.sport.hockey\"], \"categoryorder\": \"array\", \"domain\": [0.0, 1.0], \"title\": {\"text\": \"Th\\u00e8me\"}}},\n",
              "                        {\"responsive\": true}\n",
              "                    ).then(function(){\n",
              "                            \n",
              "var gd = document.getElementById('38b59c57-f87e-40b1-8b53-3cb46aa25577');\n",
              "var x = new MutationObserver(function (mutations, observer) {{\n",
              "        var display = window.getComputedStyle(gd).display;\n",
              "        if (!display || display === 'none') {{\n",
              "            console.log([gd, 'removed!']);\n",
              "            Plotly.purge(gd);\n",
              "            observer.disconnect();\n",
              "        }}\n",
              "}});\n",
              "\n",
              "// Listen for the removal of the full notebook cells\n",
              "var notebookContainer = gd.closest('#notebook-container');\n",
              "if (notebookContainer) {{\n",
              "    x.observe(notebookContainer, {childList: true});\n",
              "}}\n",
              "\n",
              "// Listen for the clearing of the current output cell\n",
              "var outputEl = gd.closest('.output');\n",
              "if (outputEl) {{\n",
              "    x.observe(outputEl, {childList: true});\n",
              "}}\n",
              "\n",
              "                        })\n",
              "                };\n",
              "                \n",
              "            </script>\n",
              "        </div>\n",
              "</body>\n",
              "</html>"
            ]
          },
          "metadata": {
            "tags": []
          }
        },
        {
          "output_type": "display_data",
          "data": {
            "text/html": [
              "<html>\n",
              "<head><meta charset=\"utf-8\" /></head>\n",
              "<body>\n",
              "    <div>\n",
              "            <script src=\"https://cdnjs.cloudflare.com/ajax/libs/mathjax/2.7.5/MathJax.js?config=TeX-AMS-MML_SVG\"></script><script type=\"text/javascript\">if (window.MathJax) {MathJax.Hub.Config({SVG: {font: \"STIX-Web\"}});}</script>\n",
              "                <script type=\"text/javascript\">window.PlotlyConfig = {MathJaxConfig: 'local'};</script>\n",
              "        <script src=\"https://cdn.plot.ly/plotly-latest.min.js\"></script>    \n",
              "            <div id=\"a5954423-33ca-421a-8b44-ed8d5b3c5441\" class=\"plotly-graph-div\" style=\"height:525px; width:100%;\"></div>\n",
              "            <script type=\"text/javascript\">\n",
              "                \n",
              "                    window.PLOTLYENV=window.PLOTLYENV || {};\n",
              "                    \n",
              "                if (document.getElementById(\"a5954423-33ca-421a-8b44-ed8d5b3c5441\")) {\n",
              "                    Plotly.newPlot(\n",
              "                        'a5954423-33ca-421a-8b44-ed8d5b3c5441',\n",
              "                        [{\"alignmentgroup\": \"True\", \"hoverlabel\": {\"namelength\": 0}, \"hovertemplate\": \"Th\\u00e8me=%{y}<br>Nombre de textes=%{x}\", \"legendgroup\": \"Th\\u00e8me=rec.sport.hockey\", \"marker\": {\"color\": \"#636efa\"}, \"name\": \"Th\\u00e8me=rec.sport.hockey\", \"offsetgroup\": \"Th\\u00e8me=rec.sport.hockey\", \"orientation\": \"h\", \"showlegend\": true, \"textposition\": \"auto\", \"type\": \"bar\", \"x\": [600], \"xaxis\": \"x\", \"y\": [\"rec.sport.hockey\"], \"yaxis\": \"y\"}, {\"alignmentgroup\": \"True\", \"hoverlabel\": {\"namelength\": 0}, \"hovertemplate\": \"Th\\u00e8me=%{y}<br>Nombre de textes=%{x}\", \"legendgroup\": \"Th\\u00e8me=soc.religion.christian\", \"marker\": {\"color\": \"#EF553B\"}, \"name\": \"Th\\u00e8me=soc.religion.christian\", \"offsetgroup\": \"Th\\u00e8me=soc.religion.christian\", \"orientation\": \"h\", \"showlegend\": true, \"textposition\": \"auto\", \"type\": \"bar\", \"x\": [599], \"xaxis\": \"x\", \"y\": [\"soc.religion.christian\"], \"yaxis\": \"y\"}, {\"alignmentgroup\": \"True\", \"hoverlabel\": {\"namelength\": 0}, \"hovertemplate\": \"Th\\u00e8me=%{y}<br>Nombre de textes=%{x}\", \"legendgroup\": \"Th\\u00e8me=rec.motorcycles\", \"marker\": {\"color\": \"#00cc96\"}, \"name\": \"Th\\u00e8me=rec.motorcycles\", \"offsetgroup\": \"Th\\u00e8me=rec.motorcycles\", \"orientation\": \"h\", \"showlegend\": true, \"textposition\": \"auto\", \"type\": \"bar\", \"x\": [598], \"xaxis\": \"x\", \"y\": [\"rec.motorcycles\"], \"yaxis\": \"y\"}, {\"alignmentgroup\": \"True\", \"hoverlabel\": {\"namelength\": 0}, \"hovertemplate\": \"Th\\u00e8me=%{y}<br>Nombre de textes=%{x}\", \"legendgroup\": \"Th\\u00e8me=rec.sport.baseball\", \"marker\": {\"color\": \"#ab63fa\"}, \"name\": \"Th\\u00e8me=rec.sport.baseball\", \"offsetgroup\": \"Th\\u00e8me=rec.sport.baseball\", \"orientation\": \"h\", \"showlegend\": true, \"textposition\": \"auto\", \"type\": \"bar\", \"x\": [597], \"xaxis\": \"x\", \"y\": [\"rec.sport.baseball\"], \"yaxis\": \"y\"}, {\"alignmentgroup\": \"True\", \"hoverlabel\": {\"namelength\": 0}, \"hovertemplate\": \"Th\\u00e8me=%{y}<br>Nombre de textes=%{x}\", \"legendgroup\": \"Th\\u00e8me=sci.crypt\", \"marker\": {\"color\": \"#FFA15A\"}, \"name\": \"Th\\u00e8me=sci.crypt\", \"offsetgroup\": \"Th\\u00e8me=sci.crypt\", \"orientation\": \"h\", \"showlegend\": true, \"textposition\": \"auto\", \"type\": \"bar\", \"x\": [595], \"xaxis\": \"x\", \"y\": [\"sci.crypt\"], \"yaxis\": \"y\"}, {\"alignmentgroup\": \"True\", \"hoverlabel\": {\"namelength\": 0}, \"hovertemplate\": \"Th\\u00e8me=%{y}<br>Nombre de textes=%{x}\", \"legendgroup\": \"Th\\u00e8me=sci.med\", \"marker\": {\"color\": \"#19d3f3\"}, \"name\": \"Th\\u00e8me=sci.med\", \"offsetgroup\": \"Th\\u00e8me=sci.med\", \"orientation\": \"h\", \"showlegend\": true, \"textposition\": \"auto\", \"type\": \"bar\", \"x\": [594], \"xaxis\": \"x\", \"y\": [\"sci.med\"], \"yaxis\": \"y\"}, {\"alignmentgroup\": \"True\", \"hoverlabel\": {\"namelength\": 0}, \"hovertemplate\": \"Th\\u00e8me=%{y}<br>Nombre de textes=%{x}\", \"legendgroup\": \"Th\\u00e8me=rec.autos\", \"marker\": {\"color\": \"#FF6692\"}, \"name\": \"Th\\u00e8me=rec.autos\", \"offsetgroup\": \"Th\\u00e8me=rec.autos\", \"orientation\": \"h\", \"showlegend\": true, \"textposition\": \"auto\", \"type\": \"bar\", \"x\": [594], \"xaxis\": \"x\", \"y\": [\"rec.autos\"], \"yaxis\": \"y\"}, {\"alignmentgroup\": \"True\", \"hoverlabel\": {\"namelength\": 0}, \"hovertemplate\": \"Th\\u00e8me=%{y}<br>Nombre de textes=%{x}\", \"legendgroup\": \"Th\\u00e8me=comp.windows.x\", \"marker\": {\"color\": \"#B6E880\"}, \"name\": \"Th\\u00e8me=comp.windows.x\", \"offsetgroup\": \"Th\\u00e8me=comp.windows.x\", \"orientation\": \"h\", \"showlegend\": true, \"textposition\": \"auto\", \"type\": \"bar\", \"x\": [593], \"xaxis\": \"x\", \"y\": [\"comp.windows.x\"], \"yaxis\": \"y\"}, {\"alignmentgroup\": \"True\", \"hoverlabel\": {\"namelength\": 0}, \"hovertemplate\": \"Th\\u00e8me=%{y}<br>Nombre de textes=%{x}\", \"legendgroup\": \"Th\\u00e8me=sci.space\", \"marker\": {\"color\": \"#FF97FF\"}, \"name\": \"Th\\u00e8me=sci.space\", \"offsetgroup\": \"Th\\u00e8me=sci.space\", \"orientation\": \"h\", \"showlegend\": true, \"textposition\": \"auto\", \"type\": \"bar\", \"x\": [593], \"xaxis\": \"x\", \"y\": [\"sci.space\"], \"yaxis\": \"y\"}, {\"alignmentgroup\": \"True\", \"hoverlabel\": {\"namelength\": 0}, \"hovertemplate\": \"Th\\u00e8me=%{y}<br>Nombre de textes=%{x}\", \"legendgroup\": \"Th\\u00e8me=comp.os.ms-windows.misc\", \"marker\": {\"color\": \"#FECB52\"}, \"name\": \"Th\\u00e8me=comp.os.ms-windows.misc\", \"offsetgroup\": \"Th\\u00e8me=comp.os.ms-windows.misc\", \"orientation\": \"h\", \"showlegend\": true, \"textposition\": \"auto\", \"type\": \"bar\", \"x\": [591], \"xaxis\": \"x\", \"y\": [\"comp.os.ms-windows.misc\"], \"yaxis\": \"y\"}, {\"alignmentgroup\": \"True\", \"hoverlabel\": {\"namelength\": 0}, \"hovertemplate\": \"Th\\u00e8me=%{y}<br>Nombre de textes=%{x}\", \"legendgroup\": \"Th\\u00e8me=sci.electronics\", \"marker\": {\"color\": \"#636efa\"}, \"name\": \"Th\\u00e8me=sci.electronics\", \"offsetgroup\": \"Th\\u00e8me=sci.electronics\", \"orientation\": \"h\", \"showlegend\": true, \"textposition\": \"auto\", \"type\": \"bar\", \"x\": [591], \"xaxis\": \"x\", \"y\": [\"sci.electronics\"], \"yaxis\": \"y\"}, {\"alignmentgroup\": \"True\", \"hoverlabel\": {\"namelength\": 0}, \"hovertemplate\": \"Th\\u00e8me=%{y}<br>Nombre de textes=%{x}\", \"legendgroup\": \"Th\\u00e8me=comp.sys.ibm.pc.hardware\", \"marker\": {\"color\": \"#EF553B\"}, \"name\": \"Th\\u00e8me=comp.sys.ibm.pc.hardware\", \"offsetgroup\": \"Th\\u00e8me=comp.sys.ibm.pc.hardware\", \"orientation\": \"h\", \"showlegend\": true, \"textposition\": \"auto\", \"type\": \"bar\", \"x\": [590], \"xaxis\": \"x\", \"y\": [\"comp.sys.ibm.pc.hardware\"], \"yaxis\": \"y\"}, {\"alignmentgroup\": \"True\", \"hoverlabel\": {\"namelength\": 0}, \"hovertemplate\": \"Th\\u00e8me=%{y}<br>Nombre de textes=%{x}\", \"legendgroup\": \"Th\\u00e8me=misc.forsale\", \"marker\": {\"color\": \"#00cc96\"}, \"name\": \"Th\\u00e8me=misc.forsale\", \"offsetgroup\": \"Th\\u00e8me=misc.forsale\", \"orientation\": \"h\", \"showlegend\": true, \"textposition\": \"auto\", \"type\": \"bar\", \"x\": [585], \"xaxis\": \"x\", \"y\": [\"misc.forsale\"], \"yaxis\": \"y\"}, {\"alignmentgroup\": \"True\", \"hoverlabel\": {\"namelength\": 0}, \"hovertemplate\": \"Th\\u00e8me=%{y}<br>Nombre de textes=%{x}\", \"legendgroup\": \"Th\\u00e8me=comp.graphics\", \"marker\": {\"color\": \"#ab63fa\"}, \"name\": \"Th\\u00e8me=comp.graphics\", \"offsetgroup\": \"Th\\u00e8me=comp.graphics\", \"orientation\": \"h\", \"showlegend\": true, \"textposition\": \"auto\", \"type\": \"bar\", \"x\": [584], \"xaxis\": \"x\", \"y\": [\"comp.graphics\"], \"yaxis\": \"y\"}, {\"alignmentgroup\": \"True\", \"hoverlabel\": {\"namelength\": 0}, \"hovertemplate\": \"Th\\u00e8me=%{y}<br>Nombre de textes=%{x}\", \"legendgroup\": \"Th\\u00e8me=comp.sys.mac.hardware\", \"marker\": {\"color\": \"#FFA15A\"}, \"name\": \"Th\\u00e8me=comp.sys.mac.hardware\", \"offsetgroup\": \"Th\\u00e8me=comp.sys.mac.hardware\", \"orientation\": \"h\", \"showlegend\": true, \"textposition\": \"auto\", \"type\": \"bar\", \"x\": [578], \"xaxis\": \"x\", \"y\": [\"comp.sys.mac.hardware\"], \"yaxis\": \"y\"}, {\"alignmentgroup\": \"True\", \"hoverlabel\": {\"namelength\": 0}, \"hovertemplate\": \"Th\\u00e8me=%{y}<br>Nombre de textes=%{x}\", \"legendgroup\": \"Th\\u00e8me=talk.politics.mideast\", \"marker\": {\"color\": \"#19d3f3\"}, \"name\": \"Th\\u00e8me=talk.politics.mideast\", \"offsetgroup\": \"Th\\u00e8me=talk.politics.mideast\", \"orientation\": \"h\", \"showlegend\": true, \"textposition\": \"auto\", \"type\": \"bar\", \"x\": [564], \"xaxis\": \"x\", \"y\": [\"talk.politics.mideast\"], \"yaxis\": \"y\"}, {\"alignmentgroup\": \"True\", \"hoverlabel\": {\"namelength\": 0}, \"hovertemplate\": \"Th\\u00e8me=%{y}<br>Nombre de textes=%{x}\", \"legendgroup\": \"Th\\u00e8me=talk.politics.guns\", \"marker\": {\"color\": \"#FF6692\"}, \"name\": \"Th\\u00e8me=talk.politics.guns\", \"offsetgroup\": \"Th\\u00e8me=talk.politics.guns\", \"orientation\": \"h\", \"showlegend\": true, \"textposition\": \"auto\", \"type\": \"bar\", \"x\": [546], \"xaxis\": \"x\", \"y\": [\"talk.politics.guns\"], \"yaxis\": \"y\"}, {\"alignmentgroup\": \"True\", \"hoverlabel\": {\"namelength\": 0}, \"hovertemplate\": \"Th\\u00e8me=%{y}<br>Nombre de textes=%{x}\", \"legendgroup\": \"Th\\u00e8me=alt.atheism\", \"marker\": {\"color\": \"#B6E880\"}, \"name\": \"Th\\u00e8me=alt.atheism\", \"offsetgroup\": \"Th\\u00e8me=alt.atheism\", \"orientation\": \"h\", \"showlegend\": true, \"textposition\": \"auto\", \"type\": \"bar\", \"x\": [480], \"xaxis\": \"x\", \"y\": [\"alt.atheism\"], \"yaxis\": \"y\"}, {\"alignmentgroup\": \"True\", \"hoverlabel\": {\"namelength\": 0}, \"hovertemplate\": \"Th\\u00e8me=%{y}<br>Nombre de textes=%{x}\", \"legendgroup\": \"Th\\u00e8me=talk.politics.misc\", \"marker\": {\"color\": \"#FF97FF\"}, \"name\": \"Th\\u00e8me=talk.politics.misc\", \"offsetgroup\": \"Th\\u00e8me=talk.politics.misc\", \"orientation\": \"h\", \"showlegend\": true, \"textposition\": \"auto\", \"type\": \"bar\", \"x\": [465], \"xaxis\": \"x\", \"y\": [\"talk.politics.misc\"], \"yaxis\": \"y\"}, {\"alignmentgroup\": \"True\", \"hoverlabel\": {\"namelength\": 0}, \"hovertemplate\": \"Th\\u00e8me=%{y}<br>Nombre de textes=%{x}\", \"legendgroup\": \"Th\\u00e8me=talk.religion.misc\", \"marker\": {\"color\": \"#FECB52\"}, \"name\": \"Th\\u00e8me=talk.religion.misc\", \"offsetgroup\": \"Th\\u00e8me=talk.religion.misc\", \"orientation\": \"h\", \"showlegend\": true, \"textposition\": \"auto\", \"type\": \"bar\", \"x\": [377], \"xaxis\": \"x\", \"y\": [\"talk.religion.misc\"], \"yaxis\": \"y\"}],\n",
              "                        {\"barmode\": \"relative\", \"legend\": {\"tracegroupgap\": 0}, \"margin\": {\"t\": 60}, \"template\": {\"data\": {\"bar\": [{\"error_x\": {\"color\": \"#2a3f5f\"}, \"error_y\": {\"color\": \"#2a3f5f\"}, \"marker\": {\"line\": {\"color\": \"#E5ECF6\", \"width\": 0.5}}, \"type\": \"bar\"}], \"barpolar\": [{\"marker\": {\"line\": {\"color\": \"#E5ECF6\", \"width\": 0.5}}, \"type\": \"barpolar\"}], \"carpet\": [{\"aaxis\": {\"endlinecolor\": \"#2a3f5f\", \"gridcolor\": \"white\", \"linecolor\": \"white\", \"minorgridcolor\": \"white\", \"startlinecolor\": \"#2a3f5f\"}, \"baxis\": {\"endlinecolor\": \"#2a3f5f\", \"gridcolor\": \"white\", \"linecolor\": \"white\", \"minorgridcolor\": \"white\", \"startlinecolor\": \"#2a3f5f\"}, \"type\": \"carpet\"}], \"choropleth\": [{\"colorbar\": {\"outlinewidth\": 0, \"ticks\": \"\"}, \"type\": \"choropleth\"}], \"contour\": [{\"colorbar\": {\"outlinewidth\": 0, \"ticks\": \"\"}, \"colorscale\": [[0.0, \"#0d0887\"], [0.1111111111111111, \"#46039f\"], [0.2222222222222222, \"#7201a8\"], [0.3333333333333333, \"#9c179e\"], [0.4444444444444444, \"#bd3786\"], [0.5555555555555556, \"#d8576b\"], [0.6666666666666666, \"#ed7953\"], [0.7777777777777778, \"#fb9f3a\"], [0.8888888888888888, \"#fdca26\"], [1.0, \"#f0f921\"]], \"type\": \"contour\"}], \"contourcarpet\": [{\"colorbar\": {\"outlinewidth\": 0, \"ticks\": \"\"}, \"type\": \"contourcarpet\"}], \"heatmap\": [{\"colorbar\": {\"outlinewidth\": 0, \"ticks\": \"\"}, \"colorscale\": [[0.0, \"#0d0887\"], [0.1111111111111111, \"#46039f\"], [0.2222222222222222, \"#7201a8\"], [0.3333333333333333, \"#9c179e\"], [0.4444444444444444, \"#bd3786\"], [0.5555555555555556, \"#d8576b\"], [0.6666666666666666, \"#ed7953\"], [0.7777777777777778, \"#fb9f3a\"], [0.8888888888888888, \"#fdca26\"], [1.0, \"#f0f921\"]], \"type\": \"heatmap\"}], \"heatmapgl\": [{\"colorbar\": {\"outlinewidth\": 0, \"ticks\": \"\"}, \"colorscale\": [[0.0, \"#0d0887\"], [0.1111111111111111, \"#46039f\"], [0.2222222222222222, \"#7201a8\"], [0.3333333333333333, \"#9c179e\"], [0.4444444444444444, \"#bd3786\"], [0.5555555555555556, \"#d8576b\"], [0.6666666666666666, \"#ed7953\"], [0.7777777777777778, \"#fb9f3a\"], [0.8888888888888888, \"#fdca26\"], [1.0, \"#f0f921\"]], \"type\": \"heatmapgl\"}], \"histogram\": [{\"marker\": {\"colorbar\": {\"outlinewidth\": 0, \"ticks\": \"\"}}, \"type\": \"histogram\"}], \"histogram2d\": [{\"colorbar\": {\"outlinewidth\": 0, \"ticks\": \"\"}, \"colorscale\": [[0.0, \"#0d0887\"], [0.1111111111111111, \"#46039f\"], [0.2222222222222222, \"#7201a8\"], [0.3333333333333333, \"#9c179e\"], [0.4444444444444444, \"#bd3786\"], [0.5555555555555556, \"#d8576b\"], [0.6666666666666666, \"#ed7953\"], [0.7777777777777778, \"#fb9f3a\"], [0.8888888888888888, \"#fdca26\"], [1.0, \"#f0f921\"]], \"type\": \"histogram2d\"}], \"histogram2dcontour\": [{\"colorbar\": {\"outlinewidth\": 0, \"ticks\": \"\"}, \"colorscale\": [[0.0, \"#0d0887\"], [0.1111111111111111, \"#46039f\"], [0.2222222222222222, \"#7201a8\"], [0.3333333333333333, \"#9c179e\"], [0.4444444444444444, \"#bd3786\"], [0.5555555555555556, \"#d8576b\"], [0.6666666666666666, \"#ed7953\"], [0.7777777777777778, \"#fb9f3a\"], [0.8888888888888888, \"#fdca26\"], [1.0, \"#f0f921\"]], \"type\": \"histogram2dcontour\"}], \"mesh3d\": [{\"colorbar\": {\"outlinewidth\": 0, \"ticks\": \"\"}, \"type\": \"mesh3d\"}], \"parcoords\": [{\"line\": {\"colorbar\": {\"outlinewidth\": 0, \"ticks\": \"\"}}, \"type\": \"parcoords\"}], \"pie\": [{\"automargin\": true, \"type\": \"pie\"}], \"scatter\": [{\"marker\": {\"colorbar\": {\"outlinewidth\": 0, \"ticks\": \"\"}}, \"type\": \"scatter\"}], \"scatter3d\": [{\"line\": {\"colorbar\": {\"outlinewidth\": 0, \"ticks\": \"\"}}, \"marker\": {\"colorbar\": {\"outlinewidth\": 0, \"ticks\": \"\"}}, \"type\": \"scatter3d\"}], \"scattercarpet\": [{\"marker\": {\"colorbar\": {\"outlinewidth\": 0, \"ticks\": \"\"}}, \"type\": \"scattercarpet\"}], \"scattergeo\": [{\"marker\": {\"colorbar\": {\"outlinewidth\": 0, \"ticks\": \"\"}}, \"type\": \"scattergeo\"}], \"scattergl\": [{\"marker\": {\"colorbar\": {\"outlinewidth\": 0, \"ticks\": \"\"}}, \"type\": \"scattergl\"}], \"scattermapbox\": [{\"marker\": {\"colorbar\": {\"outlinewidth\": 0, \"ticks\": \"\"}}, \"type\": \"scattermapbox\"}], \"scatterpolar\": [{\"marker\": {\"colorbar\": {\"outlinewidth\": 0, \"ticks\": \"\"}}, \"type\": \"scatterpolar\"}], \"scatterpolargl\": [{\"marker\": {\"colorbar\": {\"outlinewidth\": 0, \"ticks\": \"\"}}, \"type\": \"scatterpolargl\"}], \"scatterternary\": [{\"marker\": {\"colorbar\": {\"outlinewidth\": 0, \"ticks\": \"\"}}, \"type\": \"scatterternary\"}], \"surface\": [{\"colorbar\": {\"outlinewidth\": 0, \"ticks\": \"\"}, \"colorscale\": [[0.0, \"#0d0887\"], [0.1111111111111111, \"#46039f\"], [0.2222222222222222, \"#7201a8\"], [0.3333333333333333, \"#9c179e\"], [0.4444444444444444, \"#bd3786\"], [0.5555555555555556, \"#d8576b\"], [0.6666666666666666, \"#ed7953\"], [0.7777777777777778, \"#fb9f3a\"], [0.8888888888888888, \"#fdca26\"], [1.0, \"#f0f921\"]], \"type\": \"surface\"}], \"table\": [{\"cells\": {\"fill\": {\"color\": \"#EBF0F8\"}, \"line\": {\"color\": \"white\"}}, \"header\": {\"fill\": {\"color\": \"#C8D4E3\"}, \"line\": {\"color\": \"white\"}}, \"type\": \"table\"}]}, \"layout\": {\"annotationdefaults\": {\"arrowcolor\": \"#2a3f5f\", \"arrowhead\": 0, \"arrowwidth\": 1}, \"coloraxis\": {\"colorbar\": {\"outlinewidth\": 0, \"ticks\": \"\"}}, \"colorscale\": {\"diverging\": [[0, \"#8e0152\"], [0.1, \"#c51b7d\"], [0.2, \"#de77ae\"], [0.3, \"#f1b6da\"], [0.4, \"#fde0ef\"], [0.5, \"#f7f7f7\"], [0.6, \"#e6f5d0\"], [0.7, \"#b8e186\"], [0.8, \"#7fbc41\"], [0.9, \"#4d9221\"], [1, \"#276419\"]], \"sequential\": [[0.0, \"#0d0887\"], [0.1111111111111111, \"#46039f\"], [0.2222222222222222, \"#7201a8\"], [0.3333333333333333, \"#9c179e\"], [0.4444444444444444, \"#bd3786\"], [0.5555555555555556, \"#d8576b\"], [0.6666666666666666, \"#ed7953\"], [0.7777777777777778, \"#fb9f3a\"], [0.8888888888888888, \"#fdca26\"], [1.0, \"#f0f921\"]], \"sequentialminus\": [[0.0, \"#0d0887\"], [0.1111111111111111, \"#46039f\"], [0.2222222222222222, \"#7201a8\"], [0.3333333333333333, \"#9c179e\"], [0.4444444444444444, \"#bd3786\"], [0.5555555555555556, \"#d8576b\"], [0.6666666666666666, \"#ed7953\"], [0.7777777777777778, \"#fb9f3a\"], [0.8888888888888888, \"#fdca26\"], [1.0, \"#f0f921\"]]}, \"colorway\": [\"#636efa\", \"#EF553B\", \"#00cc96\", \"#ab63fa\", \"#FFA15A\", \"#19d3f3\", \"#FF6692\", \"#B6E880\", \"#FF97FF\", \"#FECB52\"], \"font\": {\"color\": \"#2a3f5f\"}, \"geo\": {\"bgcolor\": \"white\", \"lakecolor\": \"white\", \"landcolor\": \"#E5ECF6\", \"showlakes\": true, \"showland\": true, \"subunitcolor\": \"white\"}, \"hoverlabel\": {\"align\": \"left\"}, \"hovermode\": \"closest\", \"mapbox\": {\"style\": \"light\"}, \"paper_bgcolor\": \"white\", \"plot_bgcolor\": \"#E5ECF6\", \"polar\": {\"angularaxis\": {\"gridcolor\": \"white\", \"linecolor\": \"white\", \"ticks\": \"\"}, \"bgcolor\": \"#E5ECF6\", \"radialaxis\": {\"gridcolor\": \"white\", \"linecolor\": \"white\", \"ticks\": \"\"}}, \"scene\": {\"xaxis\": {\"backgroundcolor\": \"#E5ECF6\", \"gridcolor\": \"white\", \"gridwidth\": 2, \"linecolor\": \"white\", \"showbackground\": true, \"ticks\": \"\", \"zerolinecolor\": \"white\"}, \"yaxis\": {\"backgroundcolor\": \"#E5ECF6\", \"gridcolor\": \"white\", \"gridwidth\": 2, \"linecolor\": \"white\", \"showbackground\": true, \"ticks\": \"\", \"zerolinecolor\": \"white\"}, \"zaxis\": {\"backgroundcolor\": \"#E5ECF6\", \"gridcolor\": \"white\", \"gridwidth\": 2, \"linecolor\": \"white\", \"showbackground\": true, \"ticks\": \"\", \"zerolinecolor\": \"white\"}}, \"shapedefaults\": {\"line\": {\"color\": \"#2a3f5f\"}}, \"ternary\": {\"aaxis\": {\"gridcolor\": \"white\", \"linecolor\": \"white\", \"ticks\": \"\"}, \"baxis\": {\"gridcolor\": \"white\", \"linecolor\": \"white\", \"ticks\": \"\"}, \"bgcolor\": \"#E5ECF6\", \"caxis\": {\"gridcolor\": \"white\", \"linecolor\": \"white\", \"ticks\": \"\"}}, \"title\": {\"x\": 0.05}, \"xaxis\": {\"automargin\": true, \"gridcolor\": \"white\", \"linecolor\": \"white\", \"ticks\": \"\", \"title\": {\"standoff\": 15}, \"zerolinecolor\": \"white\", \"zerolinewidth\": 2}, \"yaxis\": {\"automargin\": true, \"gridcolor\": \"white\", \"linecolor\": \"white\", \"ticks\": \"\", \"title\": {\"standoff\": 15}, \"zerolinecolor\": \"white\", \"zerolinewidth\": 2}}}, \"xaxis\": {\"anchor\": \"y\", \"domain\": [0.0, 1.0], \"title\": {\"text\": \"Nombre de textes\"}}, \"yaxis\": {\"anchor\": \"x\", \"categoryarray\": [\"talk.religion.misc\", \"talk.politics.misc\", \"alt.atheism\", \"talk.politics.guns\", \"talk.politics.mideast\", \"comp.sys.mac.hardware\", \"comp.graphics\", \"misc.forsale\", \"comp.sys.ibm.pc.hardware\", \"sci.electronics\", \"comp.os.ms-windows.misc\", \"sci.space\", \"comp.windows.x\", \"rec.autos\", \"sci.med\", \"sci.crypt\", \"rec.sport.baseball\", \"rec.motorcycles\", \"soc.religion.christian\", \"rec.sport.hockey\"], \"categoryorder\": \"array\", \"domain\": [0.0, 1.0], \"title\": {\"text\": \"Th\\u00e8me\"}}},\n",
              "                        {\"responsive\": true}\n",
              "                    ).then(function(){\n",
              "                            \n",
              "var gd = document.getElementById('a5954423-33ca-421a-8b44-ed8d5b3c5441');\n",
              "var x = new MutationObserver(function (mutations, observer) {{\n",
              "        var display = window.getComputedStyle(gd).display;\n",
              "        if (!display || display === 'none') {{\n",
              "            console.log([gd, 'removed!']);\n",
              "            Plotly.purge(gd);\n",
              "            observer.disconnect();\n",
              "        }}\n",
              "}});\n",
              "\n",
              "// Listen for the removal of the full notebook cells\n",
              "var notebookContainer = gd.closest('#notebook-container');\n",
              "if (notebookContainer) {{\n",
              "    x.observe(notebookContainer, {childList: true});\n",
              "}}\n",
              "\n",
              "// Listen for the clearing of the current output cell\n",
              "var outputEl = gd.closest('.output');\n",
              "if (outputEl) {{\n",
              "    x.observe(outputEl, {childList: true});\n",
              "}}\n",
              "\n",
              "                        })\n",
              "                };\n",
              "                \n",
              "            </script>\n",
              "        </div>\n",
              "</body>\n",
              "</html>"
            ]
          },
          "metadata": {
            "tags": []
          }
        }
      ]
    },
    {
      "cell_type": "code",
      "metadata": {
        "id": "h0sVGjQjOLKC",
        "colab_type": "code",
        "outputId": "d3ed5640-25d8-4936-d577-962f9306dd09",
        "colab": {
          "base_uri": "https://localhost:8080/",
          "height": 577
        }
      },
      "source": [
        "distribution.describe()"
      ],
      "execution_count": 0,
      "outputs": [
        {
          "output_type": "execute_result",
          "data": {
            "text/html": [
              "<div>\n",
              "<style scoped>\n",
              "    .dataframe tbody tr th:only-of-type {\n",
              "        vertical-align: middle;\n",
              "    }\n",
              "\n",
              "    .dataframe tbody tr th {\n",
              "        vertical-align: top;\n",
              "    }\n",
              "\n",
              "    .dataframe thead th {\n",
              "        text-align: right;\n",
              "    }\n",
              "</style>\n",
              "<table border=\"1\" class=\"dataframe\">\n",
              "  <thead>\n",
              "    <tr style=\"text-align: right;\">\n",
              "      <th></th>\n",
              "      <th>Frequency</th>\n",
              "    </tr>\n",
              "  </thead>\n",
              "  <tbody>\n",
              "    <tr>\n",
              "      <th>count</th>\n",
              "      <td>20.000000</td>\n",
              "    </tr>\n",
              "    <tr>\n",
              "      <th>mean</th>\n",
              "      <td>565.700000</td>\n",
              "    </tr>\n",
              "    <tr>\n",
              "      <th>std</th>\n",
              "      <td>58.251813</td>\n",
              "    </tr>\n",
              "    <tr>\n",
              "      <th>min</th>\n",
              "      <td>377.000000</td>\n",
              "    </tr>\n",
              "    <tr>\n",
              "      <th>25%</th>\n",
              "      <td>574.500000</td>\n",
              "    </tr>\n",
              "    <tr>\n",
              "      <th>50%</th>\n",
              "      <td>591.000000</td>\n",
              "    </tr>\n",
              "    <tr>\n",
              "      <th>75%</th>\n",
              "      <td>594.250000</td>\n",
              "    </tr>\n",
              "    <tr>\n",
              "      <th>max</th>\n",
              "      <td>600.000000</td>\n",
              "    </tr>\n",
              "  </tbody>\n",
              "</table>\n",
              "</div>"
            ],
            "text/plain": [
              "        Frequency\n",
              "count   20.000000\n",
              "mean   565.700000\n",
              "std     58.251813\n",
              "min    377.000000\n",
              "25%    574.500000\n",
              "50%    591.000000\n",
              "75%    594.250000\n",
              "max    600.000000"
            ]
          },
          "metadata": {
            "tags": []
          },
          "execution_count": 41
        },
        {
          "output_type": "execute_result",
          "data": {
            "text/html": [
              "<div>\n",
              "<style scoped>\n",
              "    .dataframe tbody tr th:only-of-type {\n",
              "        vertical-align: middle;\n",
              "    }\n",
              "\n",
              "    .dataframe tbody tr th {\n",
              "        vertical-align: top;\n",
              "    }\n",
              "\n",
              "    .dataframe thead th {\n",
              "        text-align: right;\n",
              "    }\n",
              "</style>\n",
              "<table border=\"1\" class=\"dataframe\">\n",
              "  <thead>\n",
              "    <tr style=\"text-align: right;\">\n",
              "      <th></th>\n",
              "      <th>Frequency</th>\n",
              "    </tr>\n",
              "  </thead>\n",
              "  <tbody>\n",
              "    <tr>\n",
              "      <th>count</th>\n",
              "      <td>20.000000</td>\n",
              "    </tr>\n",
              "    <tr>\n",
              "      <th>mean</th>\n",
              "      <td>565.700000</td>\n",
              "    </tr>\n",
              "    <tr>\n",
              "      <th>std</th>\n",
              "      <td>58.251813</td>\n",
              "    </tr>\n",
              "    <tr>\n",
              "      <th>min</th>\n",
              "      <td>377.000000</td>\n",
              "    </tr>\n",
              "    <tr>\n",
              "      <th>25%</th>\n",
              "      <td>574.500000</td>\n",
              "    </tr>\n",
              "    <tr>\n",
              "      <th>50%</th>\n",
              "      <td>591.000000</td>\n",
              "    </tr>\n",
              "    <tr>\n",
              "      <th>75%</th>\n",
              "      <td>594.250000</td>\n",
              "    </tr>\n",
              "    <tr>\n",
              "      <th>max</th>\n",
              "      <td>600.000000</td>\n",
              "    </tr>\n",
              "  </tbody>\n",
              "</table>\n",
              "</div>"
            ],
            "text/plain": [
              "        Frequency\n",
              "count   20.000000\n",
              "mean   565.700000\n",
              "std     58.251813\n",
              "min    377.000000\n",
              "25%    574.500000\n",
              "50%    591.000000\n",
              "75%    594.250000\n",
              "max    600.000000"
            ]
          },
          "metadata": {
            "tags": []
          },
          "execution_count": 101
        }
      ]
    },
    {
      "cell_type": "markdown",
      "metadata": {
        "id": "0PqSn6v5K9za",
        "colab_type": "text"
      },
      "source": [
        "Notre jeu de données contient 20 classes différentes. Il est bien distibué. On à une une moyenne de 565 textes et un ecart-type de 58 textes. Les classe les moins bien représenté sont respectivement dans l'ordre : religion, politics et atheism. "
      ]
    },
    {
      "cell_type": "markdown",
      "metadata": {
        "id": "BOGX9bChpPs0",
        "colab_type": "text"
      },
      "source": [
        "## Cleaning \n",
        "\n",
        "\n",
        "Avant de pouvoir entrainer nos modèle sur les textes, nous devont nettoyer (cleaning) ces textes et les mettre sous un format (token & vector) compréhensible par notre modèle. \n",
        "\n",
        "Voici quelques petites fonction de nettoyage standard. Nous nous aidons du package Spacy."
      ]
    },
    {
      "cell_type": "code",
      "metadata": {
        "id": "ElWHQ6uHq2KI",
        "colab_type": "code",
        "outputId": "09ad1066-0351-4ecf-8786-c57a5871fb83",
        "colab": {
          "base_uri": "https://localhost:8080/",
          "height": 34
        }
      },
      "source": [
        "import spacy\n",
        "import en_core_web_sm\n",
        "\n",
        "print(f'Spacy version {spacy.__version__}')\n",
        "nlp = en_core_web_sm.load()\n",
        "stop_words = spacy.lang.en.STOP_WORDS\n",
        "punctuations = spacy.lang.punctuation.LIST_PUNCT"
      ],
      "execution_count": 0,
      "outputs": [
        {
          "output_type": "stream",
          "text": [
            "Spacy version 2.2.4\n"
          ],
          "name": "stdout"
        }
      ]
    },
    {
      "cell_type": "markdown",
      "metadata": {
        "id": "QMP256-Io-CQ",
        "colab_type": "text"
      },
      "source": [
        "Prépare texte :\n",
        "\n",
        "1. met tous les caractères en minuscules \n",
        "2. applique le lemming. remplace les adjectif, verbe par un terme issu de l’usage ordinaire des locuteurs de la langue.\n",
        "3. Enlève les mots fréquent \"STOP WORDS\" du vocabulaire anglais \n",
        "4. On enlève aussi les charactères inutile.(travail fait à la main)"
      ]
    },
    {
      "cell_type": "code",
      "metadata": {
        "id": "I48aBV5mnk3q",
        "colab_type": "code",
        "colab": {}
      },
      "source": [
        "def prepareText(text, punctuation=True, lemming=True, stop_word=True):\n",
        "    \"\"\"\n",
        "    Prepare the text by removing punctuation, stop words and doing lemming \n",
        "    :param text: \n",
        "    :return: text \n",
        "    \"\"\"     \n",
        "    clean_text = nlp(text)\n",
        "    \n",
        "    #lowering word\n",
        "    #lemming \n",
        "    # if words is pronoun don't apply lemming because spacy convert the words \n",
        "    # in \"_PRON-\" \n",
        "    if lemming == True:\n",
        "        clean_text = [word.lemma_.lower().strip() if word.lemma_ != \"-PRON-\" else word.lower_ for word in clean_text]\n",
        "    \n",
        "    #remove stop words\n",
        "    if stop_word == True:\n",
        "        clean_text = [ word for word in clean_text if (word not in stop_words) ]\n",
        "    # remove punctuation \n",
        "    if punctuation == True:\n",
        "        clean_text = [word for word in clean_text if word.isalpha() ]\n",
        "    \n",
        "    #remove single char [b-Z] we only keep 'a'\n",
        "    clean_text = [ word for word in clean_text if (len(word) != 1 and word != 'a') ]\n",
        "\n",
        "    #clean_text = [ word for word in clean_text if (word not in noisy_words)]\n",
        "\n",
        "\n",
        "    return clean_text"
      ],
      "execution_count": 0,
      "outputs": []
    },
    {
      "cell_type": "markdown",
      "metadata": {
        "id": "W-_rbW8mpUb9",
        "colab_type": "text"
      },
      "source": [
        "Cette fonction de cleaning s'occupe du nettoyage du texte en supprimant les e-mail."
      ]
    },
    {
      "cell_type": "code",
      "metadata": {
        "id": "hnfaMjBGpIZL",
        "colab_type": "code",
        "colab": {}
      },
      "source": [
        "def standardize_text(df, text_field):\n",
        "    df[text_field] = df[text_field].str.replace(r\"http\\S+\", \"\")\n",
        "    df[text_field] = df[text_field].str.replace(r\"http\", \"\")\n",
        "    df[text_field] = df[text_field].str.replace(r\"@\\S+\", \"\")\n",
        "    df[text_field] = df[text_field].str.replace(r\"[^A-Za-z0-9(),!?@\\'\\`\\\"\\_\\n]\", \" \")\n",
        "    df[text_field] = df[text_field].str.replace(r\"@\", \"at\")\n",
        "    return df"
      ],
      "execution_count": 0,
      "outputs": []
    },
    {
      "cell_type": "markdown",
      "metadata": {
        "id": "_CR2DTDzjaEb",
        "colab_type": "text"
      },
      "source": [
        "## Vocabulaire\n",
        "\n",
        "Faisons une étude détaillés de la composition de notre jeu de données de textes. Nous allons faire une étude sur 3 catégories religions, auto, hockey. \n",
        "\n",
        "1. Tailles est composition du vocabulaire. \n",
        "2. Etude de la distribution (# mots par texte)."
      ]
    },
    {
      "cell_type": "code",
      "metadata": {
        "id": "bGdhUFSNm-8z",
        "colab_type": "code",
        "colab": {}
      },
      "source": [
        "news  = [ news[news[\"title\"] == \"rec.sport.hockey\"], news[news[\"title\"] == \"soc.religion.christian\"], news[news[\"title\"] == \"rec.autos\"] ]\n",
        "news = pd.concat(news)"
      ],
      "execution_count": 0,
      "outputs": []
    },
    {
      "cell_type": "markdown",
      "metadata": {
        "id": "dqiLs7wHkwMl",
        "colab_type": "text"
      },
      "source": [
        "### Tailles est composition du vocabulaire"
      ]
    },
    {
      "cell_type": "code",
      "metadata": {
        "id": "WNPdFAYFnGWR",
        "colab_type": "code",
        "colab": {}
      },
      "source": [
        "text_stack = \" \"\n",
        "for text in news.text:\n",
        "  text_stack += text"
      ],
      "execution_count": 0,
      "outputs": []
    },
    {
      "cell_type": "markdown",
      "metadata": {
        "id": "v3-L8ukLkARf",
        "colab_type": "text"
      },
      "source": [
        "Nous avons fusionner tout nos texte en un. L'objectif est de déterminer la taille de notre vocabulaire. "
      ]
    },
    {
      "cell_type": "code",
      "metadata": {
        "id": "Klfd9C0TlN2m",
        "colab_type": "code",
        "colab": {}
      },
      "source": [
        "splited_text = text_stack.split(' ')"
      ],
      "execution_count": 0,
      "outputs": []
    },
    {
      "cell_type": "code",
      "metadata": {
        "id": "P8NWwRn4lVKx",
        "colab_type": "code",
        "outputId": "c62afc70-7933-4c26-dbed-33c890a385cd",
        "colab": {
          "base_uri": "https://localhost:8080/",
          "height": 51
        }
      },
      "source": [
        "print(f\"Le corpus de textes est composé au total de : {len(splited_text)} mots \")"
      ],
      "execution_count": 0,
      "outputs": [
        {
          "output_type": "stream",
          "text": [
            "Le corpus de textes est composé au total de : 410409 mots \n",
            "Le corpus de textes est composé au total de : 410409 mots \n"
          ],
          "name": "stdout"
        }
      ]
    },
    {
      "cell_type": "markdown",
      "metadata": {
        "id": "X_5hVtC9nOH1",
        "colab_type": "text"
      },
      "source": [
        "Pour déterminer la taille de notre vocabulaire nous allons utiliser la fonction CountVectorizer. Il va analyser nos texte et construire un dictionnaire contenant le vocabulaire.\n",
        "\n",
        "Nous lui passons en paramètre notre méthode \"prepareText\". Notre méthode va réduire la taille de nos textes en supprimant des élément non pertinent (mots fréquents, ponctuation ...).  "
      ]
    },
    {
      "cell_type": "code",
      "metadata": {
        "id": "QLjJEWnxoYsr",
        "colab_type": "code",
        "colab": {}
      },
      "source": [
        "from sklearn.feature_extraction.text import CountVectorizer\n",
        "\n",
        "cvect = CountVectorizer(tokenizer=prepareText, ngram_range=(1,1))\n",
        "cvect_3 = CountVectorizer(tokenizer=prepareText, ngram_range=(1,3))"
      ],
      "execution_count": 0,
      "outputs": []
    },
    {
      "cell_type": "code",
      "metadata": {
        "id": "JoouNEpYrBAz",
        "colab_type": "code",
        "colab": {}
      },
      "source": [
        "news = standardize_text(df=news, text_field='text')"
      ],
      "execution_count": 0,
      "outputs": []
    },
    {
      "cell_type": "code",
      "metadata": {
        "id": "ZVBwZIHKrJqJ",
        "colab_type": "code",
        "outputId": "a2d7b004-47d1-4505-b84a-174b4b1b1b74",
        "colab": {
          "base_uri": "https://localhost:8080/",
          "height": 374
        }
      },
      "source": [
        "corpus = news.text.to_list()\n",
        "cvect.fit(corpus)"
      ],
      "execution_count": 0,
      "outputs": [
        {
          "output_type": "stream",
          "text": [
            "/usr/local/lib/python3.6/dist-packages/sklearn/feature_extraction/text.py:507: UserWarning:\n",
            "\n",
            "The parameter 'token_pattern' will not be used since 'tokenizer' is not None'\n",
            "\n"
          ],
          "name": "stderr"
        },
        {
          "output_type": "execute_result",
          "data": {
            "text/plain": [
              "CountVectorizer(analyzer='word', binary=False, decode_error='strict',\n",
              "                dtype=<class 'numpy.int64'>, encoding='utf-8', input='content',\n",
              "                lowercase=True, max_df=1.0, max_features=None, min_df=1,\n",
              "                ngram_range=(1, 1), preprocessor=None, stop_words=None,\n",
              "                strip_accents=None, token_pattern='(?u)\\\\b\\\\w\\\\w+\\\\b',\n",
              "                tokenizer=<function prepareText at 0x7f82112129d8>,\n",
              "                vocabulary=None)"
            ]
          },
          "metadata": {
            "tags": []
          },
          "execution_count": 51
        },
        {
          "output_type": "stream",
          "text": [
            "/usr/local/lib/python3.6/dist-packages/sklearn/feature_extraction/text.py:507: UserWarning:\n",
            "\n",
            "The parameter 'token_pattern' will not be used since 'tokenizer' is not None'\n",
            "\n"
          ],
          "name": "stderr"
        },
        {
          "output_type": "execute_result",
          "data": {
            "text/plain": [
              "CountVectorizer(analyzer='word', binary=False, decode_error='strict',\n",
              "                dtype=<class 'numpy.int64'>, encoding='utf-8', input='content',\n",
              "                lowercase=True, max_df=1.0, max_features=None, min_df=1,\n",
              "                ngram_range=(1, 1), preprocessor=None, stop_words=None,\n",
              "                strip_accents=None, token_pattern='(?u)\\\\b\\\\w\\\\w+\\\\b',\n",
              "                tokenizer=<function prepareText at 0x7f8204b08510>,\n",
              "                vocabulary=None)"
            ]
          },
          "metadata": {
            "tags": []
          },
          "execution_count": 111
        }
      ]
    },
    {
      "cell_type": "code",
      "metadata": {
        "id": "DQyb8XAQu_Ll",
        "colab_type": "code",
        "outputId": "ab5162a6-f818-47a1-94ad-888f62a4cff5",
        "colab": {
          "base_uri": "https://localhost:8080/",
          "height": 374
        }
      },
      "source": [
        "cvect_3.fit(corpus)"
      ],
      "execution_count": 0,
      "outputs": [
        {
          "output_type": "stream",
          "text": [
            "/usr/local/lib/python3.6/dist-packages/sklearn/feature_extraction/text.py:507: UserWarning:\n",
            "\n",
            "The parameter 'token_pattern' will not be used since 'tokenizer' is not None'\n",
            "\n"
          ],
          "name": "stderr"
        },
        {
          "output_type": "execute_result",
          "data": {
            "text/plain": [
              "CountVectorizer(analyzer='word', binary=False, decode_error='strict',\n",
              "                dtype=<class 'numpy.int64'>, encoding='utf-8', input='content',\n",
              "                lowercase=True, max_df=1.0, max_features=None, min_df=1,\n",
              "                ngram_range=(1, 3), preprocessor=None, stop_words=None,\n",
              "                strip_accents=None, token_pattern='(?u)\\\\b\\\\w\\\\w+\\\\b',\n",
              "                tokenizer=<function prepareText at 0x7f82112129d8>,\n",
              "                vocabulary=None)"
            ]
          },
          "metadata": {
            "tags": []
          },
          "execution_count": 52
        },
        {
          "output_type": "stream",
          "text": [
            "/usr/local/lib/python3.6/dist-packages/sklearn/feature_extraction/text.py:507: UserWarning:\n",
            "\n",
            "The parameter 'token_pattern' will not be used since 'tokenizer' is not None'\n",
            "\n"
          ],
          "name": "stderr"
        },
        {
          "output_type": "execute_result",
          "data": {
            "text/plain": [
              "CountVectorizer(analyzer='word', binary=False, decode_error='strict',\n",
              "                dtype=<class 'numpy.int64'>, encoding='utf-8', input='content',\n",
              "                lowercase=True, max_df=1.0, max_features=None, min_df=1,\n",
              "                ngram_range=(1, 3), preprocessor=None, stop_words=None,\n",
              "                strip_accents=None, token_pattern='(?u)\\\\b\\\\w\\\\w+\\\\b',\n",
              "                tokenizer=<function prepareText at 0x7f8204b08510>,\n",
              "                vocabulary=None)"
            ]
          },
          "metadata": {
            "tags": []
          },
          "execution_count": 112
        }
      ]
    },
    {
      "cell_type": "markdown",
      "metadata": {
        "id": "KPvUkU0Yr8jK",
        "colab_type": "text"
      },
      "source": [
        "Paramètres de notre modèle: \n",
        "\n",
        "* analyzer='word' => pour notre tokenizer nos paramètres sont des mots.  \n",
        "* dtype=<class 'numpy.int64'> => Le type de notre matrice retourner par transform() (par manque de RAM utilisé 32bit plutôt) \n",
        "* encoding='utf-8'\n",
        "* input='content',    \n",
        "* lowercase=True \n",
        "* max_df=1.0 \n",
        "* max_features=None \n",
        "* min_df=1,\n",
        "* ngram_range=(1, 1)\n",
        "* preprocessor=None, stop_words=None,\n",
        "* strip_accents = None\n",
        "* token_pattern : => pas utilisé car on utilise notre propre tokenizer \n",
        "* tokenizer=<function prepareText at 0x7f69077e0d08>,\n",
        "* vocabulary=None \n",
        "\n",
        "Observons le vocabulaire."
      ]
    },
    {
      "cell_type": "code",
      "metadata": {
        "id": "YARH4NqvrMYR",
        "colab_type": "code",
        "outputId": "198e99e1-28bc-4cf6-d822-d7262d398a8d",
        "colab": {
          "base_uri": "https://localhost:8080/",
          "height": 51
        }
      },
      "source": [
        "print(f\"Notre vocabulaire contient :  {len(cvect.vocabulary_)} mots\")"
      ],
      "execution_count": 0,
      "outputs": [
        {
          "output_type": "stream",
          "text": [
            "Notre vocabulaire contient :  15487 mots\n",
            "Notre vocabulaire contient :  15487 mots\n"
          ],
          "name": "stdout"
        }
      ]
    },
    {
      "cell_type": "code",
      "metadata": {
        "id": "jMs_gyk5vT2x",
        "colab_type": "code",
        "outputId": "0408eb78-d83c-4071-c82f-6c86148549e7",
        "colab": {
          "base_uri": "https://localhost:8080/",
          "height": 51
        }
      },
      "source": [
        "print(f\"Le vocabulaire avec ngram_range=(1,3) contient :  {len(cvect_3.vocabulary_)} mots\")"
      ],
      "execution_count": 0,
      "outputs": [
        {
          "output_type": "stream",
          "text": [
            "Le vocabulaire avec ngram_range=(1,3) contient :  259269 mots\n",
            "Le vocabulaire avec ngram_range=(1,3) contient :  259269 mots\n"
          ],
          "name": "stdout"
        }
      ]
    },
    {
      "cell_type": "code",
      "metadata": {
        "id": "wbR5xkem_15Y",
        "colab_type": "code",
        "outputId": "e6c28cba-6963-478c-a074-a66f497b6e93",
        "colab": {
          "base_uri": "https://localhost:8080/",
          "height": 34
        }
      },
      "source": [
        "(259269) / 15487"
      ],
      "execution_count": 0,
      "outputs": [
        {
          "output_type": "execute_result",
          "data": {
            "text/plain": [
              "16.74107315813263"
            ]
          },
          "metadata": {
            "tags": []
          },
          "execution_count": 55
        },
        {
          "output_type": "execute_result",
          "data": {
            "text/plain": [
              "16.74107315813263"
            ]
          },
          "metadata": {
            "tags": []
          },
          "execution_count": 115
        }
      ]
    },
    {
      "cell_type": "markdown",
      "metadata": {
        "id": "AljfifFS_6Dk",
        "colab_type": "text"
      },
      "source": [
        "La taille du vocabulaire augmente considérablement avec l'emploie de ngram. Ici,  avec NGRAM_range = (1,3), la taille de notre vocabulaire est  multiplié par **16.7** fois. "
      ]
    },
    {
      "cell_type": "code",
      "metadata": {
        "id": "bJ-yZPluuFQp",
        "colab_type": "code",
        "outputId": "a935cfdb-5161-4723-e09d-b9a3b9689f6c",
        "colab": {
          "base_uri": "https://localhost:8080/",
          "height": 680
        }
      },
      "source": [
        "cvect.get_feature_names()[10:30]"
      ],
      "execution_count": 0,
      "outputs": [
        {
          "output_type": "execute_result",
          "data": {
            "text/plain": [
              "['abbie',\n",
              " 'abbreviation',\n",
              " 'abc',\n",
              " 'abe',\n",
              " 'abhorent',\n",
              " 'abhorrent',\n",
              " 'abide',\n",
              " 'abideth',\n",
              " 'abiding',\n",
              " 'ability',\n",
              " 'abiogenesis',\n",
              " 'able',\n",
              " 'ablility',\n",
              " 'ably',\n",
              " 'aboard',\n",
              " 'abode',\n",
              " 'abolish',\n",
              " 'abolition',\n",
              " 'abomination',\n",
              " 'abort']"
            ]
          },
          "metadata": {
            "tags": []
          },
          "execution_count": 56
        },
        {
          "output_type": "execute_result",
          "data": {
            "text/plain": [
              "['abbie',\n",
              " 'abbreviation',\n",
              " 'abc',\n",
              " 'abe',\n",
              " 'abhorent',\n",
              " 'abhorrent',\n",
              " 'abide',\n",
              " 'abideth',\n",
              " 'abiding',\n",
              " 'ability',\n",
              " 'abiogenesis',\n",
              " 'able',\n",
              " 'ablility',\n",
              " 'ably',\n",
              " 'aboard',\n",
              " 'abode',\n",
              " 'abolish',\n",
              " 'abolition',\n",
              " 'abomination',\n",
              " 'abort']"
            ]
          },
          "metadata": {
            "tags": []
          },
          "execution_count": 116
        }
      ]
    },
    {
      "cell_type": "markdown",
      "metadata": {
        "id": "-o_6Ic57utEV",
        "colab_type": "text"
      },
      "source": [
        "# Distribution du nombre de mot \n",
        "\n",
        "On souhaite compter le nombre de mots par texte pour chaque catégorie. Afin de déterminer si la longueur des textes a un impact sur la classification faite par notre modèle. \n",
        "\n",
        " "
      ]
    },
    {
      "cell_type": "code",
      "metadata": {
        "id": "ZFJH2P54BBvU",
        "colab_type": "code",
        "colab": {}
      },
      "source": [
        "def lenText(text):\n",
        "  \"\"\"\n",
        "    Count the number of token present in a text. \n",
        "    @params text : text that we want to analyse \n",
        "  \"\"\"\n",
        "  return len(text.split(' '))"
      ],
      "execution_count": 0,
      "outputs": []
    },
    {
      "cell_type": "code",
      "metadata": {
        "id": "aIY5tkFFAdwb",
        "colab_type": "code",
        "colab": {}
      },
      "source": [
        "text_size_df = news.text.apply(lenText)"
      ],
      "execution_count": 0,
      "outputs": []
    },
    {
      "cell_type": "code",
      "metadata": {
        "id": "4KSXwTb9Bvtu",
        "colab_type": "code",
        "colab": {}
      },
      "source": [
        "news['text_size'] = text_size_df"
      ],
      "execution_count": 0,
      "outputs": []
    },
    {
      "cell_type": "code",
      "metadata": {
        "id": "SIecDJ-SB3nU",
        "colab_type": "code",
        "outputId": "5f84805b-d149-4366-bfe8-71804206be7b",
        "colab": {
          "base_uri": "https://localhost:8080/",
          "height": 391
        }
      },
      "source": [
        "news.head()"
      ],
      "execution_count": 0,
      "outputs": [
        {
          "output_type": "execute_result",
          "data": {
            "text/html": [
              "<div>\n",
              "<style scoped>\n",
              "    .dataframe tbody tr th:only-of-type {\n",
              "        vertical-align: middle;\n",
              "    }\n",
              "\n",
              "    .dataframe tbody tr th {\n",
              "        vertical-align: top;\n",
              "    }\n",
              "\n",
              "    .dataframe thead th {\n",
              "        text-align: right;\n",
              "    }\n",
              "</style>\n",
              "<table border=\"1\" class=\"dataframe\">\n",
              "  <thead>\n",
              "    <tr style=\"text-align: right;\">\n",
              "      <th></th>\n",
              "      <th>text</th>\n",
              "      <th>target</th>\n",
              "      <th>title</th>\n",
              "      <th>text_size</th>\n",
              "    </tr>\n",
              "  </thead>\n",
              "  <tbody>\n",
              "    <tr>\n",
              "      <th>21</th>\n",
              "      <td>\\nI think that Mike Foligno was the captain of...</td>\n",
              "      <td>10</td>\n",
              "      <td>rec.sport.hockey</td>\n",
              "      <td>90</td>\n",
              "    </tr>\n",
              "    <tr>\n",
              "      <th>35</th>\n",
              "      <td>\\nFunny you should mention this  one time on H...</td>\n",
              "      <td>10</td>\n",
              "      <td>rec.sport.hockey</td>\n",
              "      <td>71</td>\n",
              "    </tr>\n",
              "    <tr>\n",
              "      <th>57</th>\n",
              "      <td>\\nNo no no!!!  It's a squid!  Keep the traditi...</td>\n",
              "      <td>10</td>\n",
              "      <td>rec.sport.hockey</td>\n",
              "      <td>23</td>\n",
              "    </tr>\n",
              "    <tr>\n",
              "      <th>88</th>\n",
              "      <td>\\n                                           \\...</td>\n",
              "      <td>10</td>\n",
              "      <td>rec.sport.hockey</td>\n",
              "      <td>75</td>\n",
              "    </tr>\n",
              "    <tr>\n",
              "      <th>113</th>\n",
              "      <td>\\n\\nWell I don't see any smileys here   I am t...</td>\n",
              "      <td>10</td>\n",
              "      <td>rec.sport.hockey</td>\n",
              "      <td>44</td>\n",
              "    </tr>\n",
              "  </tbody>\n",
              "</table>\n",
              "</div>"
            ],
            "text/plain": [
              "                                                  text  ... text_size\n",
              "21   \\nI think that Mike Foligno was the captain of...  ...        90\n",
              "35   \\nFunny you should mention this  one time on H...  ...        71\n",
              "57   \\nNo no no!!!  It's a squid!  Keep the traditi...  ...        23\n",
              "88   \\n                                           \\...  ...        75\n",
              "113  \\n\\nWell I don't see any smileys here   I am t...  ...        44\n",
              "\n",
              "[5 rows x 4 columns]"
            ]
          },
          "metadata": {
            "tags": []
          },
          "execution_count": 60
        },
        {
          "output_type": "execute_result",
          "data": {
            "text/html": [
              "<div>\n",
              "<style scoped>\n",
              "    .dataframe tbody tr th:only-of-type {\n",
              "        vertical-align: middle;\n",
              "    }\n",
              "\n",
              "    .dataframe tbody tr th {\n",
              "        vertical-align: top;\n",
              "    }\n",
              "\n",
              "    .dataframe thead th {\n",
              "        text-align: right;\n",
              "    }\n",
              "</style>\n",
              "<table border=\"1\" class=\"dataframe\">\n",
              "  <thead>\n",
              "    <tr style=\"text-align: right;\">\n",
              "      <th></th>\n",
              "      <th>text</th>\n",
              "      <th>target</th>\n",
              "      <th>title</th>\n",
              "      <th>text_size</th>\n",
              "    </tr>\n",
              "  </thead>\n",
              "  <tbody>\n",
              "    <tr>\n",
              "      <th>21</th>\n",
              "      <td>\\nI think that Mike Foligno was the captain of...</td>\n",
              "      <td>10</td>\n",
              "      <td>rec.sport.hockey</td>\n",
              "      <td>90</td>\n",
              "    </tr>\n",
              "    <tr>\n",
              "      <th>35</th>\n",
              "      <td>\\nFunny you should mention this  one time on H...</td>\n",
              "      <td>10</td>\n",
              "      <td>rec.sport.hockey</td>\n",
              "      <td>71</td>\n",
              "    </tr>\n",
              "    <tr>\n",
              "      <th>57</th>\n",
              "      <td>\\nNo no no!!!  It's a squid!  Keep the traditi...</td>\n",
              "      <td>10</td>\n",
              "      <td>rec.sport.hockey</td>\n",
              "      <td>23</td>\n",
              "    </tr>\n",
              "    <tr>\n",
              "      <th>88</th>\n",
              "      <td>\\n                                           \\...</td>\n",
              "      <td>10</td>\n",
              "      <td>rec.sport.hockey</td>\n",
              "      <td>75</td>\n",
              "    </tr>\n",
              "    <tr>\n",
              "      <th>113</th>\n",
              "      <td>\\n\\nWell I don't see any smileys here   I am t...</td>\n",
              "      <td>10</td>\n",
              "      <td>rec.sport.hockey</td>\n",
              "      <td>44</td>\n",
              "    </tr>\n",
              "  </tbody>\n",
              "</table>\n",
              "</div>"
            ],
            "text/plain": [
              "                                                  text  ... text_size\n",
              "21   \\nI think that Mike Foligno was the captain of...  ...        90\n",
              "35   \\nFunny you should mention this  one time on H...  ...        71\n",
              "57   \\nNo no no!!!  It's a squid!  Keep the traditi...  ...        23\n",
              "88   \\n                                           \\...  ...        75\n",
              "113  \\n\\nWell I don't see any smileys here   I am t...  ...        44\n",
              "\n",
              "[5 rows x 4 columns]"
            ]
          },
          "metadata": {
            "tags": []
          },
          "execution_count": 120
        }
      ]
    },
    {
      "cell_type": "code",
      "metadata": {
        "id": "I_5i3JPgDuIY",
        "colab_type": "code",
        "outputId": "978c8c60-9bc6-46ec-a3f6-e40b129368d7",
        "colab": {
          "base_uri": "https://localhost:8080/",
          "height": 1000
        }
      },
      "source": [
        "import plotly.express as px\n",
        "\n",
        "px.box(news, x='text_size', y='title', color='title',  orientation='h', category_orders={'title' : ['rec.autos', 'soc.religion.christian', 'rec.sport.hockey']})"
      ],
      "execution_count": 0,
      "outputs": [
        {
          "output_type": "display_data",
          "data": {
            "text/html": [
              "<html>\n",
              "<head><meta charset=\"utf-8\" /></head>\n",
              "<body>\n",
              "    <div>\n",
              "            <script src=\"https://cdnjs.cloudflare.com/ajax/libs/mathjax/2.7.5/MathJax.js?config=TeX-AMS-MML_SVG\"></script><script type=\"text/javascript\">if (window.MathJax) {MathJax.Hub.Config({SVG: {font: \"STIX-Web\"}});}</script>\n",
              "                <script type=\"text/javascript\">window.PlotlyConfig = {MathJaxConfig: 'local'};</script>\n",
              "        <script src=\"https://cdn.plot.ly/plotly-latest.min.js\"></script>    \n",
              "            <div id=\"7d0b14b5-0bea-4336-80b6-73484ed8671c\" class=\"plotly-graph-div\" style=\"height:525px; width:100%;\"></div>\n",
              "            <script type=\"text/javascript\">\n",
              "                \n",
              "                    window.PLOTLYENV=window.PLOTLYENV || {};\n",
              "                    \n",
              "                if (document.getElementById(\"7d0b14b5-0bea-4336-80b6-73484ed8671c\")) {\n",
              "                    Plotly.newPlot(\n",
              "                        '7d0b14b5-0bea-4336-80b6-73484ed8671c',\n",
              "                        [{\"alignmentgroup\": \"True\", \"hoverlabel\": {\"namelength\": 0}, \"hovertemplate\": \"title=%{y}<br>text_size=%{x}\", \"legendgroup\": \"title=rec.autos\", \"marker\": {\"color\": \"#636efa\"}, \"name\": \"title=rec.autos\", \"notched\": false, \"offsetgroup\": \"title=rec.autos\", \"orientation\": \"h\", \"showlegend\": true, \"type\": \"box\", \"x\": [96, 2936, 84, 383, 69, 93, 41, 269, 110, 22, 56, 35, 47, 258, 41, 67, 760, 34, 13, 116, 6, 136, 64, 146, 60, 43, 77, 89, 47, 190, 285, 53, 184, 50, 308, 67, 46, 76, 1, 1, 128, 311, 77, 1, 1, 1, 212, 385, 178, 54, 193, 57, 176, 121, 98, 299, 127, 328, 74, 285, 59, 23, 151, 97, 271, 52, 123, 221, 1, 723, 200, 42, 1962, 103, 90, 49, 107, 54, 24, 4, 71, 87, 58, 26, 194, 294, 1779, 165, 71, 116, 103, 49, 55, 139, 323, 89, 82, 117, 18, 179, 42, 17, 38, 16, 242, 19, 49, 85, 193, 101, 70, 108, 43, 66, 16, 133, 165, 98, 18, 40, 301, 35, 32, 234, 791, 45, 84, 1, 38, 173, 377, 1, 41, 1, 123, 42, 1, 38, 112, 55, 48, 17, 200, 905, 98, 147, 9, 22, 60, 249, 181, 58, 33, 202, 59, 161, 168, 125, 118, 66, 47, 107, 79, 310, 64, 78, 25, 208, 42, 167, 67, 31, 1, 135, 42, 584, 81, 97, 294, 65, 99, 211, 109, 102, 23, 62, 5, 1, 119, 883, 2, 285, 54, 134, 27, 156, 1, 63, 63, 1, 63, 126, 179, 981, 281, 14, 246, 1, 151, 132, 38, 39, 258, 79, 145, 18, 55, 73, 59, 1, 47, 37, 62, 24, 354, 27, 77, 88, 1, 2684, 352, 67, 86, 174, 49, 13, 30, 40, 15, 119, 479, 73, 176, 94, 234, 208, 31, 148, 5, 151, 137, 104, 407, 1, 29, 345, 107, 44, 104, 41, 1, 101, 37, 53, 279, 421, 36, 174, 78, 43, 30, 107, 19, 100, 47, 71, 33, 340, 207, 224, 45, 856, 45, 107, 20, 122, 54, 81, 131, 111, 279, 52, 46, 277, 111, 160, 156, 14, 79, 49, 1, 899, 133, 61, 415, 150, 599, 176, 180, 13, 1, 144, 1, 481, 388, 209, 45, 221, 6004, 12, 145, 118, 111, 107, 642, 75, 344, 193, 41, 41, 163, 54, 13, 8, 193, 18, 708, 5, 14, 24, 66, 483, 82, 54, 720, 226, 39, 36, 76, 1, 73, 203, 17, 142, 86, 117, 124, 27, 1, 44, 53, 44, 41, 51, 3, 203, 1, 84, 14, 56, 11, 57, 158, 14, 25, 1, 62, 89, 66, 30, 72, 32, 86, 84, 224, 17, 159, 10, 22, 58, 32, 158, 47, 11, 65, 246, 39, 36, 85, 166, 95, 101, 55, 55, 83, 65, 80, 32, 139, 99, 31, 1, 136, 173, 361, 145, 184, 16, 37, 49, 220, 35, 61, 141, 30, 24, 59, 184, 53, 11, 157, 104, 251, 90, 174, 54, 344, 117, 70, 74, 24, 33, 154, 29, 47, 70, 243, 187, 20, 23, 49, 47, 72, 63, 148, 65, 189, 101, 71, 145, 67, 67, 35, 36, 294, 200, 88, 60, 221, 35, 184, 657, 48, 115, 50, 191, 25, 160, 238, 45, 33, 41, 41, 329, 88, 263, 73, 35, 50, 272, 1, 249, 106, 59, 170, 14, 242, 144, 150, 1, 805, 40, 221, 135, 77, 61, 100, 340, 98, 102, 170, 180, 181, 16, 70, 166, 48, 209, 55, 2, 216, 114, 155, 132, 25, 36, 121, 48, 15, 40, 332, 79, 10, 176, 1, 119, 138, 77, 99, 83, 90, 104, 20, 88, 47, 64, 67, 1, 83, 54, 34, 208, 34, 32, 199, 6, 138, 69, 30, 83, 92, 42, 122, 65, 179, 13, 54, 38, 78, 63, 470, 96, 41, 147, 71, 791, 163, 184, 1, 94, 216, 129, 148, 411, 56, 192, 44, 80, 230, 1, 208, 44, 118, 123], \"x0\": \" \", \"xaxis\": \"x\", \"y\": [\"rec.autos\", \"rec.autos\", \"rec.autos\", \"rec.autos\", \"rec.autos\", \"rec.autos\", \"rec.autos\", \"rec.autos\", \"rec.autos\", \"rec.autos\", \"rec.autos\", \"rec.autos\", \"rec.autos\", \"rec.autos\", \"rec.autos\", \"rec.autos\", \"rec.autos\", \"rec.autos\", \"rec.autos\", \"rec.autos\", \"rec.autos\", \"rec.autos\", \"rec.autos\", \"rec.autos\", \"rec.autos\", \"rec.autos\", \"rec.autos\", \"rec.autos\", \"rec.autos\", \"rec.autos\", \"rec.autos\", \"rec.autos\", \"rec.autos\", \"rec.autos\", \"rec.autos\", \"rec.autos\", \"rec.autos\", \"rec.autos\", \"rec.autos\", \"rec.autos\", \"rec.autos\", \"rec.autos\", \"rec.autos\", \"rec.autos\", \"rec.autos\", \"rec.autos\", \"rec.autos\", \"rec.autos\", \"rec.autos\", \"rec.autos\", \"rec.autos\", \"rec.autos\", \"rec.autos\", \"rec.autos\", \"rec.autos\", \"rec.autos\", \"rec.autos\", \"rec.autos\", \"rec.autos\", \"rec.autos\", \"rec.autos\", \"rec.autos\", \"rec.autos\", \"rec.autos\", \"rec.autos\", \"rec.autos\", \"rec.autos\", \"rec.autos\", \"rec.autos\", \"rec.autos\", \"rec.autos\", \"rec.autos\", \"rec.autos\", \"rec.autos\", \"rec.autos\", \"rec.autos\", \"rec.autos\", \"rec.autos\", \"rec.autos\", \"rec.autos\", \"rec.autos\", \"rec.autos\", \"rec.autos\", \"rec.autos\", \"rec.autos\", \"rec.autos\", \"rec.autos\", \"rec.autos\", \"rec.autos\", \"rec.autos\", \"rec.autos\", \"rec.autos\", \"rec.autos\", \"rec.autos\", \"rec.autos\", \"rec.autos\", \"rec.autos\", \"rec.autos\", \"rec.autos\", \"rec.autos\", \"rec.autos\", \"rec.autos\", \"rec.autos\", \"rec.autos\", \"rec.autos\", \"rec.autos\", \"rec.autos\", \"rec.autos\", \"rec.autos\", \"rec.autos\", \"rec.autos\", \"rec.autos\", \"rec.autos\", \"rec.autos\", \"rec.autos\", \"rec.autos\", \"rec.autos\", \"rec.autos\", \"rec.autos\", \"rec.autos\", \"rec.autos\", \"rec.autos\", \"rec.autos\", \"rec.autos\", \"rec.autos\", \"rec.autos\", \"rec.autos\", \"rec.autos\", \"rec.autos\", \"rec.autos\", \"rec.autos\", \"rec.autos\", \"rec.autos\", \"rec.autos\", \"rec.autos\", \"rec.autos\", \"rec.autos\", \"rec.autos\", \"rec.autos\", \"rec.autos\", \"rec.autos\", \"rec.autos\", \"rec.autos\", \"rec.autos\", \"rec.autos\", \"rec.autos\", \"rec.autos\", \"rec.autos\", \"rec.autos\", \"rec.autos\", \"rec.autos\", \"rec.autos\", \"rec.autos\", \"rec.autos\", \"rec.autos\", \"rec.autos\", \"rec.autos\", \"rec.autos\", \"rec.autos\", \"rec.autos\", \"rec.autos\", \"rec.autos\", \"rec.autos\", \"rec.autos\", \"rec.autos\", \"rec.autos\", \"rec.autos\", \"rec.autos\", \"rec.autos\", \"rec.autos\", \"rec.autos\", \"rec.autos\", \"rec.autos\", \"rec.autos\", \"rec.autos\", \"rec.autos\", \"rec.autos\", \"rec.autos\", \"rec.autos\", \"rec.autos\", \"rec.autos\", \"rec.autos\", \"rec.autos\", \"rec.autos\", \"rec.autos\", \"rec.autos\", \"rec.autos\", \"rec.autos\", \"rec.autos\", \"rec.autos\", \"rec.autos\", \"rec.autos\", \"rec.autos\", \"rec.autos\", \"rec.autos\", \"rec.autos\", \"rec.autos\", \"rec.autos\", \"rec.autos\", \"rec.autos\", \"rec.autos\", \"rec.autos\", \"rec.autos\", \"rec.autos\", \"rec.autos\", \"rec.autos\", \"rec.autos\", \"rec.autos\", \"rec.autos\", \"rec.autos\", \"rec.autos\", \"rec.autos\", \"rec.autos\", \"rec.autos\", \"rec.autos\", \"rec.autos\", \"rec.autos\", \"rec.autos\", \"rec.autos\", \"rec.autos\", \"rec.autos\", \"rec.autos\", \"rec.autos\", \"rec.autos\", \"rec.autos\", \"rec.autos\", \"rec.autos\", \"rec.autos\", \"rec.autos\", \"rec.autos\", \"rec.autos\", \"rec.autos\", \"rec.autos\", \"rec.autos\", \"rec.autos\", \"rec.autos\", \"rec.autos\", \"rec.autos\", \"rec.autos\", \"rec.autos\", \"rec.autos\", \"rec.autos\", \"rec.autos\", \"rec.autos\", \"rec.autos\", \"rec.autos\", \"rec.autos\", \"rec.autos\", \"rec.autos\", \"rec.autos\", \"rec.autos\", \"rec.autos\", \"rec.autos\", \"rec.autos\", \"rec.autos\", \"rec.autos\", \"rec.autos\", \"rec.autos\", \"rec.autos\", \"rec.autos\", \"rec.autos\", \"rec.autos\", \"rec.autos\", \"rec.autos\", \"rec.autos\", \"rec.autos\", \"rec.autos\", \"rec.autos\", \"rec.autos\", \"rec.autos\", \"rec.autos\", \"rec.autos\", \"rec.autos\", \"rec.autos\", \"rec.autos\", \"rec.autos\", \"rec.autos\", \"rec.autos\", \"rec.autos\", \"rec.autos\", \"rec.autos\", \"rec.autos\", \"rec.autos\", \"rec.autos\", \"rec.autos\", \"rec.autos\", \"rec.autos\", \"rec.autos\", \"rec.autos\", \"rec.autos\", \"rec.autos\", \"rec.autos\", \"rec.autos\", \"rec.autos\", \"rec.autos\", \"rec.autos\", \"rec.autos\", \"rec.autos\", \"rec.autos\", \"rec.autos\", \"rec.autos\", \"rec.autos\", \"rec.autos\", \"rec.autos\", \"rec.autos\", \"rec.autos\", \"rec.autos\", \"rec.autos\", \"rec.autos\", \"rec.autos\", \"rec.autos\", \"rec.autos\", \"rec.autos\", \"rec.autos\", \"rec.autos\", \"rec.autos\", \"rec.autos\", \"rec.autos\", \"rec.autos\", \"rec.autos\", \"rec.autos\", \"rec.autos\", \"rec.autos\", \"rec.autos\", \"rec.autos\", \"rec.autos\", \"rec.autos\", \"rec.autos\", \"rec.autos\", \"rec.autos\", \"rec.autos\", \"rec.autos\", \"rec.autos\", \"rec.autos\", \"rec.autos\", \"rec.autos\", \"rec.autos\", \"rec.autos\", \"rec.autos\", \"rec.autos\", \"rec.autos\", \"rec.autos\", \"rec.autos\", \"rec.autos\", \"rec.autos\", \"rec.autos\", \"rec.autos\", \"rec.autos\", \"rec.autos\", \"rec.autos\", \"rec.autos\", \"rec.autos\", \"rec.autos\", \"rec.autos\", \"rec.autos\", \"rec.autos\", \"rec.autos\", \"rec.autos\", \"rec.autos\", \"rec.autos\", \"rec.autos\", \"rec.autos\", \"rec.autos\", \"rec.autos\", \"rec.autos\", \"rec.autos\", \"rec.autos\", \"rec.autos\", \"rec.autos\", \"rec.autos\", \"rec.autos\", \"rec.autos\", \"rec.autos\", \"rec.autos\", \"rec.autos\", \"rec.autos\", \"rec.autos\", \"rec.autos\", \"rec.autos\", \"rec.autos\", \"rec.autos\", \"rec.autos\", \"rec.autos\", \"rec.autos\", \"rec.autos\", \"rec.autos\", \"rec.autos\", \"rec.autos\", \"rec.autos\", \"rec.autos\", \"rec.autos\", \"rec.autos\", \"rec.autos\", \"rec.autos\", \"rec.autos\", \"rec.autos\", \"rec.autos\", \"rec.autos\", \"rec.autos\", \"rec.autos\", \"rec.autos\", \"rec.autos\", \"rec.autos\", \"rec.autos\", \"rec.autos\", \"rec.autos\", \"rec.autos\", \"rec.autos\", \"rec.autos\", \"rec.autos\", \"rec.autos\", \"rec.autos\", \"rec.autos\", \"rec.autos\", \"rec.autos\", \"rec.autos\", \"rec.autos\", \"rec.autos\", \"rec.autos\", \"rec.autos\", \"rec.autos\", \"rec.autos\", \"rec.autos\", \"rec.autos\", \"rec.autos\", \"rec.autos\", \"rec.autos\", \"rec.autos\", \"rec.autos\", \"rec.autos\", \"rec.autos\", \"rec.autos\", \"rec.autos\", \"rec.autos\", \"rec.autos\", \"rec.autos\", \"rec.autos\", \"rec.autos\", \"rec.autos\", \"rec.autos\", \"rec.autos\", \"rec.autos\", \"rec.autos\", \"rec.autos\", \"rec.autos\", \"rec.autos\", \"rec.autos\", \"rec.autos\", \"rec.autos\", \"rec.autos\", \"rec.autos\", \"rec.autos\", \"rec.autos\", \"rec.autos\", \"rec.autos\", \"rec.autos\", \"rec.autos\", \"rec.autos\", \"rec.autos\", \"rec.autos\", \"rec.autos\", \"rec.autos\", \"rec.autos\", \"rec.autos\", \"rec.autos\", \"rec.autos\", \"rec.autos\", \"rec.autos\", \"rec.autos\", \"rec.autos\", \"rec.autos\", \"rec.autos\", \"rec.autos\", \"rec.autos\", \"rec.autos\", \"rec.autos\", \"rec.autos\", \"rec.autos\", \"rec.autos\", \"rec.autos\", \"rec.autos\", \"rec.autos\", \"rec.autos\", \"rec.autos\", \"rec.autos\", \"rec.autos\", \"rec.autos\", \"rec.autos\", \"rec.autos\", \"rec.autos\", \"rec.autos\", \"rec.autos\", \"rec.autos\", \"rec.autos\", \"rec.autos\", \"rec.autos\", \"rec.autos\", \"rec.autos\", \"rec.autos\", \"rec.autos\", \"rec.autos\", \"rec.autos\", \"rec.autos\", \"rec.autos\", \"rec.autos\", \"rec.autos\", \"rec.autos\", \"rec.autos\", \"rec.autos\", \"rec.autos\", \"rec.autos\", \"rec.autos\", \"rec.autos\", \"rec.autos\", \"rec.autos\", \"rec.autos\", \"rec.autos\", \"rec.autos\", \"rec.autos\", \"rec.autos\", \"rec.autos\", \"rec.autos\", \"rec.autos\", \"rec.autos\", \"rec.autos\", \"rec.autos\", \"rec.autos\", \"rec.autos\", \"rec.autos\", \"rec.autos\", \"rec.autos\", \"rec.autos\", \"rec.autos\", \"rec.autos\", \"rec.autos\", \"rec.autos\", \"rec.autos\", \"rec.autos\", \"rec.autos\", \"rec.autos\", \"rec.autos\", \"rec.autos\", \"rec.autos\", \"rec.autos\", \"rec.autos\", \"rec.autos\", \"rec.autos\", \"rec.autos\", \"rec.autos\", \"rec.autos\", \"rec.autos\", \"rec.autos\", \"rec.autos\", \"rec.autos\", \"rec.autos\", \"rec.autos\", \"rec.autos\", \"rec.autos\", \"rec.autos\", \"rec.autos\", \"rec.autos\", \"rec.autos\", \"rec.autos\", \"rec.autos\", \"rec.autos\", \"rec.autos\", \"rec.autos\", \"rec.autos\", \"rec.autos\", \"rec.autos\", \"rec.autos\", \"rec.autos\", \"rec.autos\", \"rec.autos\", \"rec.autos\", \"rec.autos\", \"rec.autos\", \"rec.autos\", \"rec.autos\", \"rec.autos\", \"rec.autos\", \"rec.autos\", \"rec.autos\", \"rec.autos\", \"rec.autos\", \"rec.autos\", \"rec.autos\", \"rec.autos\", \"rec.autos\", \"rec.autos\", \"rec.autos\", \"rec.autos\", \"rec.autos\", \"rec.autos\"], \"y0\": \" \", \"yaxis\": \"y\"}, {\"alignmentgroup\": \"True\", \"hoverlabel\": {\"namelength\": 0}, \"hovertemplate\": \"title=%{y}<br>text_size=%{x}\", \"legendgroup\": \"title=soc.religion.christian\", \"marker\": {\"color\": \"#EF553B\"}, \"name\": \"title=soc.religion.christian\", \"notched\": false, \"offsetgroup\": \"title=soc.religion.christian\", \"orientation\": \"h\", \"showlegend\": true, \"type\": \"box\", \"x\": [357, 157, 413, 156, 105, 119, 53, 205, 225, 787, 677, 419, 117, 54, 113, 159, 1379, 17, 205, 6, 1554, 175, 64, 74, 19, 158, 217, 15, 729, 147, 167, 191, 1, 795, 223, 133, 165, 732, 544, 55, 89, 735, 653, 222, 341, 31, 185, 42, 878, 102, 75, 121, 219, 317, 161, 726, 249, 208, 179, 57, 142, 239, 139, 57, 461, 103, 696, 203, 26, 169, 124, 122, 142, 75, 221, 268, 1692, 397, 357, 67, 38, 59, 20, 201, 322, 692, 97, 353, 225, 251, 191, 18, 1352, 44, 102, 131, 113, 102, 823, 424, 123, 122, 265, 85, 221, 97, 134, 153, 68, 1, 78, 178, 667, 29, 58, 534, 418, 120, 1, 634, 139, 1416, 286, 311, 244, 163, 304, 168, 281, 45, 206, 72, 49, 576, 99, 139, 137, 958, 99, 215, 174, 359, 375, 142, 385, 553, 4, 164, 223, 223, 328, 196, 385, 580, 119, 649, 211, 88, 43, 260, 510, 52, 176, 299, 803, 2, 272, 115, 113, 479, 189, 169, 17, 68, 121, 412, 1059, 1, 130, 134, 63, 1141, 410, 72, 6, 113, 154, 171, 463, 14, 414, 430, 253, 137, 131, 324, 147, 395, 373, 378, 195, 272, 27, 131, 399, 270, 173, 34, 235, 176, 138, 847, 441, 2292, 357, 153, 80, 375, 79, 1268, 119, 118, 410, 243, 160, 229, 588, 433, 181, 59, 227, 155, 377, 14, 227, 151, 58, 231, 412, 374, 33, 73, 985, 364, 295, 63, 1, 427, 598, 67, 139, 173, 1, 143, 221, 171, 84, 178, 86, 174, 137, 33, 53, 60, 363, 1128, 582, 205, 195, 354, 888, 499, 124, 1945, 753, 105, 62, 1563, 53, 207, 3, 26, 432, 412, 79, 380, 1470, 5921, 124, 315, 62, 175, 793, 1197, 109, 38, 358, 217, 106, 415, 278, 841, 321, 269, 12, 715, 91, 284, 249, 30, 2750, 357, 286, 90, 219, 82, 984, 465, 677, 312, 223, 170, 512, 59, 192, 19, 128, 138, 101, 93, 492, 489, 63, 113, 14, 383, 111, 982, 135, 353, 105, 274, 60, 18, 182, 358, 158, 58, 33, 45, 111, 25, 133, 704, 55, 44, 176, 379, 24, 1, 294, 154, 43, 8, 3079, 1450, 454, 862, 10, 66, 40, 222, 208, 52, 129, 241, 37, 543, 918, 419, 22, 106, 111, 151, 1040, 109, 48, 14, 23, 110, 900, 223, 506, 49, 114, 413, 36, 103, 851, 213, 300, 122, 13, 25, 537, 202, 13, 96, 93, 158, 1939, 85, 363, 800, 566, 56, 475, 212, 68, 1300, 49, 139, 15, 251, 116, 325, 100, 247, 393, 173, 57, 37, 509, 125, 69, 131, 510, 352, 228, 166, 295, 538, 60, 66, 318, 52, 264, 105, 781, 1045, 53, 57, 87, 18, 250, 165, 16, 1085, 131, 73, 318, 1595, 181, 40, 177, 452, 67, 395, 435, 197, 99, 111, 38, 72, 123, 117, 348, 40, 73, 1426, 601, 154, 122, 402, 1289, 127, 191, 317, 32, 61, 56, 37, 121, 86, 223, 161, 152, 129, 294, 99, 326, 44, 458, 211, 251, 115, 183, 717, 423, 201, 465, 214, 16, 130, 102, 217, 336, 1255, 474, 893, 136, 182, 147, 303, 364, 131, 164, 337, 182, 203, 400, 159, 131, 70, 1068, 1924, 308, 290, 260, 77, 40, 45, 287, 384, 154, 198, 794, 183, 86, 322, 39, 202, 30, 89, 1455, 326, 255, 396, 673, 112, 105, 646, 68, 376, 229, 226, 21, 460, 1389, 102, 266, 132, 581, 326, 85, 269, 718, 73, 297, 42, 628, 72, 563, 29, 230, 469, 23, 392, 177, 289, 618, 70, 512, 85, 48, 69, 153, 132, 437], \"x0\": \" \", \"xaxis\": \"x\", \"y\": [\"soc.religion.christian\", \"soc.religion.christian\", \"soc.religion.christian\", \"soc.religion.christian\", \"soc.religion.christian\", \"soc.religion.christian\", \"soc.religion.christian\", \"soc.religion.christian\", \"soc.religion.christian\", \"soc.religion.christian\", \"soc.religion.christian\", \"soc.religion.christian\", \"soc.religion.christian\", \"soc.religion.christian\", \"soc.religion.christian\", \"soc.religion.christian\", \"soc.religion.christian\", \"soc.religion.christian\", \"soc.religion.christian\", \"soc.religion.christian\", \"soc.religion.christian\", \"soc.religion.christian\", \"soc.religion.christian\", \"soc.religion.christian\", \"soc.religion.christian\", \"soc.religion.christian\", \"soc.religion.christian\", \"soc.religion.christian\", \"soc.religion.christian\", \"soc.religion.christian\", \"soc.religion.christian\", \"soc.religion.christian\", \"soc.religion.christian\", \"soc.religion.christian\", \"soc.religion.christian\", \"soc.religion.christian\", \"soc.religion.christian\", \"soc.religion.christian\", \"soc.religion.christian\", \"soc.religion.christian\", \"soc.religion.christian\", \"soc.religion.christian\", \"soc.religion.christian\", \"soc.religion.christian\", \"soc.religion.christian\", \"soc.religion.christian\", \"soc.religion.christian\", \"soc.religion.christian\", \"soc.religion.christian\", \"soc.religion.christian\", \"soc.religion.christian\", \"soc.religion.christian\", \"soc.religion.christian\", \"soc.religion.christian\", \"soc.religion.christian\", \"soc.religion.christian\", \"soc.religion.christian\", \"soc.religion.christian\", \"soc.religion.christian\", \"soc.religion.christian\", \"soc.religion.christian\", \"soc.religion.christian\", \"soc.religion.christian\", \"soc.religion.christian\", \"soc.religion.christian\", \"soc.religion.christian\", \"soc.religion.christian\", \"soc.religion.christian\", \"soc.religion.christian\", \"soc.religion.christian\", \"soc.religion.christian\", \"soc.religion.christian\", \"soc.religion.christian\", \"soc.religion.christian\", \"soc.religion.christian\", \"soc.religion.christian\", \"soc.religion.christian\", \"soc.religion.christian\", \"soc.religion.christian\", \"soc.religion.christian\", \"soc.religion.christian\", \"soc.religion.christian\", \"soc.religion.christian\", \"soc.religion.christian\", \"soc.religion.christian\", \"soc.religion.christian\", \"soc.religion.christian\", \"soc.religion.christian\", \"soc.religion.christian\", \"soc.religion.christian\", \"soc.religion.christian\", \"soc.religion.christian\", \"soc.religion.christian\", \"soc.religion.christian\", \"soc.religion.christian\", \"soc.religion.christian\", \"soc.religion.christian\", \"soc.religion.christian\", \"soc.religion.christian\", \"soc.religion.christian\", \"soc.religion.christian\", \"soc.religion.christian\", \"soc.religion.christian\", \"soc.religion.christian\", \"soc.religion.christian\", \"soc.religion.christian\", \"soc.religion.christian\", \"soc.religion.christian\", \"soc.religion.christian\", \"soc.religion.christian\", \"soc.religion.christian\", \"soc.religion.christian\", \"soc.religion.christian\", \"soc.religion.christian\", \"soc.religion.christian\", \"soc.religion.christian\", \"soc.religion.christian\", \"soc.religion.christian\", \"soc.religion.christian\", \"soc.religion.christian\", \"soc.religion.christian\", \"soc.religion.christian\", \"soc.religion.christian\", \"soc.religion.christian\", \"soc.religion.christian\", \"soc.religion.christian\", \"soc.religion.christian\", \"soc.religion.christian\", \"soc.religion.christian\", \"soc.religion.christian\", \"soc.religion.christian\", \"soc.religion.christian\", \"soc.religion.christian\", \"soc.religion.christian\", \"soc.religion.christian\", \"soc.religion.christian\", \"soc.religion.christian\", \"soc.religion.christian\", \"soc.religion.christian\", \"soc.religion.christian\", \"soc.religion.christian\", \"soc.religion.christian\", \"soc.religion.christian\", \"soc.religion.christian\", \"soc.religion.christian\", \"soc.religion.christian\", \"soc.religion.christian\", \"soc.religion.christian\", \"soc.religion.christian\", \"soc.religion.christian\", \"soc.religion.christian\", \"soc.religion.christian\", \"soc.religion.christian\", \"soc.religion.christian\", \"soc.religion.christian\", \"soc.religion.christian\", \"soc.religion.christian\", \"soc.religion.christian\", \"soc.religion.christian\", \"soc.religion.christian\", \"soc.religion.christian\", \"soc.religion.christian\", \"soc.religion.christian\", \"soc.religion.christian\", \"soc.religion.christian\", \"soc.religion.christian\", \"soc.religion.christian\", \"soc.religion.christian\", \"soc.religion.christian\", \"soc.religion.christian\", \"soc.religion.christian\", \"soc.religion.christian\", \"soc.religion.christian\", \"soc.religion.christian\", \"soc.religion.christian\", \"soc.religion.christian\", \"soc.religion.christian\", \"soc.religion.christian\", \"soc.religion.christian\", \"soc.religion.christian\", \"soc.religion.christian\", \"soc.religion.christian\", \"soc.religion.christian\", \"soc.religion.christian\", \"soc.religion.christian\", \"soc.religion.christian\", \"soc.religion.christian\", \"soc.religion.christian\", \"soc.religion.christian\", \"soc.religion.christian\", \"soc.religion.christian\", \"soc.religion.christian\", \"soc.religion.christian\", \"soc.religion.christian\", \"soc.religion.christian\", \"soc.religion.christian\", \"soc.religion.christian\", \"soc.religion.christian\", \"soc.religion.christian\", \"soc.religion.christian\", \"soc.religion.christian\", \"soc.religion.christian\", \"soc.religion.christian\", \"soc.religion.christian\", \"soc.religion.christian\", \"soc.religion.christian\", \"soc.religion.christian\", \"soc.religion.christian\", \"soc.religion.christian\", \"soc.religion.christian\", \"soc.religion.christian\", \"soc.religion.christian\", \"soc.religion.christian\", \"soc.religion.christian\", \"soc.religion.christian\", \"soc.religion.christian\", \"soc.religion.christian\", \"soc.religion.christian\", \"soc.religion.christian\", \"soc.religion.christian\", \"soc.religion.christian\", \"soc.religion.christian\", \"soc.religion.christian\", \"soc.religion.christian\", \"soc.religion.christian\", \"soc.religion.christian\", \"soc.religion.christian\", \"soc.religion.christian\", \"soc.religion.christian\", \"soc.religion.christian\", \"soc.religion.christian\", \"soc.religion.christian\", \"soc.religion.christian\", \"soc.religion.christian\", \"soc.religion.christian\", \"soc.religion.christian\", \"soc.religion.christian\", \"soc.religion.christian\", \"soc.religion.christian\", \"soc.religion.christian\", \"soc.religion.christian\", \"soc.religion.christian\", \"soc.religion.christian\", \"soc.religion.christian\", \"soc.religion.christian\", \"soc.religion.christian\", \"soc.religion.christian\", \"soc.religion.christian\", \"soc.religion.christian\", \"soc.religion.christian\", \"soc.religion.christian\", \"soc.religion.christian\", \"soc.religion.christian\", \"soc.religion.christian\", \"soc.religion.christian\", \"soc.religion.christian\", \"soc.religion.christian\", \"soc.religion.christian\", \"soc.religion.christian\", \"soc.religion.christian\", \"soc.religion.christian\", \"soc.religion.christian\", \"soc.religion.christian\", \"soc.religion.christian\", \"soc.religion.christian\", \"soc.religion.christian\", \"soc.religion.christian\", \"soc.religion.christian\", \"soc.religion.christian\", \"soc.religion.christian\", \"soc.religion.christian\", \"soc.religion.christian\", \"soc.religion.christian\", \"soc.religion.christian\", \"soc.religion.christian\", \"soc.religion.christian\", \"soc.religion.christian\", \"soc.religion.christian\", \"soc.religion.christian\", \"soc.religion.christian\", \"soc.religion.christian\", \"soc.religion.christian\", \"soc.religion.christian\", \"soc.religion.christian\", \"soc.religion.christian\", \"soc.religion.christian\", \"soc.religion.christian\", \"soc.religion.christian\", \"soc.religion.christian\", \"soc.religion.christian\", \"soc.religion.christian\", \"soc.religion.christian\", \"soc.religion.christian\", \"soc.religion.christian\", \"soc.religion.christian\", \"soc.religion.christian\", \"soc.religion.christian\", \"soc.religion.christian\", \"soc.religion.christian\", \"soc.religion.christian\", \"soc.religion.christian\", \"soc.religion.christian\", \"soc.religion.christian\", \"soc.religion.christian\", \"soc.religion.christian\", \"soc.religion.christian\", \"soc.religion.christian\", \"soc.religion.christian\", \"soc.religion.christian\", \"soc.religion.christian\", \"soc.religion.christian\", \"soc.religion.christian\", \"soc.religion.christian\", \"soc.religion.christian\", \"soc.religion.christian\", \"soc.religion.christian\", \"soc.religion.christian\", \"soc.religion.christian\", \"soc.religion.christian\", \"soc.religion.christian\", \"soc.religion.christian\", \"soc.religion.christian\", \"soc.religion.christian\", \"soc.religion.christian\", \"soc.religion.christian\", \"soc.religion.christian\", \"soc.religion.christian\", \"soc.religion.christian\", \"soc.religion.christian\", \"soc.religion.christian\", \"soc.religion.christian\", \"soc.religion.christian\", \"soc.religion.christian\", \"soc.religion.christian\", \"soc.religion.christian\", \"soc.religion.christian\", \"soc.religion.christian\", \"soc.religion.christian\", \"soc.religion.christian\", \"soc.religion.christian\", \"soc.religion.christian\", \"soc.religion.christian\", \"soc.religion.christian\", \"soc.religion.christian\", \"soc.religion.christian\", \"soc.religion.christian\", \"soc.religion.christian\", \"soc.religion.christian\", \"soc.religion.christian\", \"soc.religion.christian\", \"soc.religion.christian\", \"soc.religion.christian\", \"soc.religion.christian\", \"soc.religion.christian\", \"soc.religion.christian\", \"soc.religion.christian\", \"soc.religion.christian\", \"soc.religion.christian\", \"soc.religion.christian\", \"soc.religion.christian\", \"soc.religion.christian\", \"soc.religion.christian\", \"soc.religion.christian\", \"soc.religion.christian\", \"soc.religion.christian\", \"soc.religion.christian\", \"soc.religion.christian\", \"soc.religion.christian\", \"soc.religion.christian\", \"soc.religion.christian\", \"soc.religion.christian\", \"soc.religion.christian\", \"soc.religion.christian\", \"soc.religion.christian\", \"soc.religion.christian\", \"soc.religion.christian\", \"soc.religion.christian\", \"soc.religion.christian\", \"soc.religion.christian\", \"soc.religion.christian\", \"soc.religion.christian\", \"soc.religion.christian\", \"soc.religion.christian\", \"soc.religion.christian\", \"soc.religion.christian\", \"soc.religion.christian\", \"soc.religion.christian\", \"soc.religion.christian\", \"soc.religion.christian\", \"soc.religion.christian\", \"soc.religion.christian\", \"soc.religion.christian\", \"soc.religion.christian\", \"soc.religion.christian\", \"soc.religion.christian\", \"soc.religion.christian\", \"soc.religion.christian\", \"soc.religion.christian\", \"soc.religion.christian\", \"soc.religion.christian\", \"soc.religion.christian\", \"soc.religion.christian\", \"soc.religion.christian\", \"soc.religion.christian\", \"soc.religion.christian\", \"soc.religion.christian\", \"soc.religion.christian\", \"soc.religion.christian\", \"soc.religion.christian\", \"soc.religion.christian\", \"soc.religion.christian\", \"soc.religion.christian\", \"soc.religion.christian\", \"soc.religion.christian\", \"soc.religion.christian\", \"soc.religion.christian\", \"soc.religion.christian\", \"soc.religion.christian\", \"soc.religion.christian\", \"soc.religion.christian\", \"soc.religion.christian\", \"soc.religion.christian\", \"soc.religion.christian\", \"soc.religion.christian\", \"soc.religion.christian\", \"soc.religion.christian\", \"soc.religion.christian\", \"soc.religion.christian\", \"soc.religion.christian\", \"soc.religion.christian\", \"soc.religion.christian\", \"soc.religion.christian\", \"soc.religion.christian\", \"soc.religion.christian\", \"soc.religion.christian\", \"soc.religion.christian\", \"soc.religion.christian\", \"soc.religion.christian\", \"soc.religion.christian\", \"soc.religion.christian\", \"soc.religion.christian\", \"soc.religion.christian\", \"soc.religion.christian\", \"soc.religion.christian\", \"soc.religion.christian\", \"soc.religion.christian\", \"soc.religion.christian\", \"soc.religion.christian\", \"soc.religion.christian\", \"soc.religion.christian\", \"soc.religion.christian\", \"soc.religion.christian\", \"soc.religion.christian\", \"soc.religion.christian\", \"soc.religion.christian\", \"soc.religion.christian\", \"soc.religion.christian\", \"soc.religion.christian\", \"soc.religion.christian\", \"soc.religion.christian\", \"soc.religion.christian\", \"soc.religion.christian\", \"soc.religion.christian\", \"soc.religion.christian\", \"soc.religion.christian\", \"soc.religion.christian\", \"soc.religion.christian\", \"soc.religion.christian\", \"soc.religion.christian\", \"soc.religion.christian\", \"soc.religion.christian\", \"soc.religion.christian\", \"soc.religion.christian\", \"soc.religion.christian\", \"soc.religion.christian\", \"soc.religion.christian\", \"soc.religion.christian\", \"soc.religion.christian\", \"soc.religion.christian\", \"soc.religion.christian\", \"soc.religion.christian\", \"soc.religion.christian\", \"soc.religion.christian\", \"soc.religion.christian\", \"soc.religion.christian\", \"soc.religion.christian\", \"soc.religion.christian\", \"soc.religion.christian\", \"soc.religion.christian\", \"soc.religion.christian\", \"soc.religion.christian\", \"soc.religion.christian\", \"soc.religion.christian\", \"soc.religion.christian\", \"soc.religion.christian\", \"soc.religion.christian\", \"soc.religion.christian\", \"soc.religion.christian\", \"soc.religion.christian\", \"soc.religion.christian\", \"soc.religion.christian\", \"soc.religion.christian\", \"soc.religion.christian\", \"soc.religion.christian\", \"soc.religion.christian\", \"soc.religion.christian\", \"soc.religion.christian\", \"soc.religion.christian\", \"soc.religion.christian\", \"soc.religion.christian\", \"soc.religion.christian\", \"soc.religion.christian\", \"soc.religion.christian\", \"soc.religion.christian\", \"soc.religion.christian\", \"soc.religion.christian\", \"soc.religion.christian\", \"soc.religion.christian\", \"soc.religion.christian\", \"soc.religion.christian\", \"soc.religion.christian\", \"soc.religion.christian\", \"soc.religion.christian\", \"soc.religion.christian\", \"soc.religion.christian\", \"soc.religion.christian\", \"soc.religion.christian\", \"soc.religion.christian\", \"soc.religion.christian\", \"soc.religion.christian\", \"soc.religion.christian\", \"soc.religion.christian\", \"soc.religion.christian\", \"soc.religion.christian\", \"soc.religion.christian\", \"soc.religion.christian\", \"soc.religion.christian\", \"soc.religion.christian\", \"soc.religion.christian\", \"soc.religion.christian\", \"soc.religion.christian\", \"soc.religion.christian\", \"soc.religion.christian\", \"soc.religion.christian\", \"soc.religion.christian\", \"soc.religion.christian\", \"soc.religion.christian\", \"soc.religion.christian\", \"soc.religion.christian\", \"soc.religion.christian\", \"soc.religion.christian\", \"soc.religion.christian\", \"soc.religion.christian\", \"soc.religion.christian\", \"soc.religion.christian\", \"soc.religion.christian\", \"soc.religion.christian\", \"soc.religion.christian\", \"soc.religion.christian\", \"soc.religion.christian\", \"soc.religion.christian\", \"soc.religion.christian\", \"soc.religion.christian\", \"soc.religion.christian\", \"soc.religion.christian\", \"soc.religion.christian\", \"soc.religion.christian\", \"soc.religion.christian\", \"soc.religion.christian\", \"soc.religion.christian\", \"soc.religion.christian\", \"soc.religion.christian\", \"soc.religion.christian\", \"soc.religion.christian\", \"soc.religion.christian\", \"soc.religion.christian\", \"soc.religion.christian\", \"soc.religion.christian\", \"soc.religion.christian\", \"soc.religion.christian\", \"soc.religion.christian\", \"soc.religion.christian\", \"soc.religion.christian\", \"soc.religion.christian\", \"soc.religion.christian\", \"soc.religion.christian\", \"soc.religion.christian\", \"soc.religion.christian\", \"soc.religion.christian\", \"soc.religion.christian\", \"soc.religion.christian\", \"soc.religion.christian\", \"soc.religion.christian\", \"soc.religion.christian\", \"soc.religion.christian\", \"soc.religion.christian\", \"soc.religion.christian\", \"soc.religion.christian\", \"soc.religion.christian\"], \"y0\": \" \", \"yaxis\": \"y\"}, {\"alignmentgroup\": \"True\", \"hoverlabel\": {\"namelength\": 0}, \"hovertemplate\": \"title=%{y}<br>text_size=%{x}\", \"legendgroup\": \"title=rec.sport.hockey\", \"marker\": {\"color\": \"#00cc96\"}, \"name\": \"title=rec.sport.hockey\", \"notched\": false, \"offsetgroup\": \"title=rec.sport.hockey\", \"orientation\": \"h\", \"showlegend\": true, \"type\": \"box\", \"x\": [90, 71, 23, 75, 44, 19, 24, 436, 137, 113, 40, 54, 53, 92, 63, 98, 42, 39, 150, 195, 1098, 187, 1, 168, 389, 1066, 7, 115, 3280, 3, 25, 70, 55, 85, 52, 78, 49, 21, 121, 44, 102, 287, 112, 4522, 97, 77, 275, 55, 6, 153, 30, 462, 435, 43, 39, 374, 61, 1, 200, 515, 410, 25, 1406, 193, 91, 37, 442, 76, 21, 108, 36, 181, 1, 63, 44, 63, 276, 576, 65, 39, 757, 21, 236, 164, 66, 15, 69, 141, 144, 61, 34, 88, 40, 635, 188, 182, 32, 61, 180, 259, 142, 1, 126, 9, 115, 42, 673, 210, 247, 143, 214, 182, 86, 44, 102, 38, 1988, 273, 103, 38, 76, 5, 1, 171, 164, 38, 188, 53, 145, 40, 66, 67, 83, 37, 420, 68, 53, 50, 132, 183, 206, 519, 234, 10, 91, 133, 181, 6, 92, 2801, 27, 14, 66, 66, 77, 171, 111, 11, 72, 56, 102, 1, 5, 57, 20, 114, 556, 294, 274, 71, 37, 1566, 149, 9, 78, 44, 24, 25, 59, 185, 240, 1047, 590, 90, 66, 21, 57, 279, 49, 32, 334, 2024, 62, 242, 65, 257, 120, 8, 60, 74, 38, 56, 34, 218, 25, 1, 70, 1267, 5, 554, 40, 65, 224, 787, 49, 49, 16, 86, 250, 440, 132, 65, 676, 135, 249, 45, 1717, 294, 76, 45, 50, 159, 141, 2665, 179, 174, 220, 45, 73, 6025, 1, 3582, 16, 15, 462, 106, 110, 58, 30, 181, 375, 63, 145, 13, 42, 52, 85, 45, 87, 55, 35, 776, 129, 212, 47, 147, 33, 81, 70, 111, 47, 61, 120, 233, 24, 1, 85, 43, 1076, 35, 134, 802, 38, 117, 100, 125, 230, 26, 3, 41, 1586, 54, 31, 596, 2310, 58, 49, 251, 197, 166, 110, 484, 116, 52, 14, 169, 61, 47, 41, 144, 128, 181, 191, 58, 31, 45, 1, 86, 71, 88, 283, 91, 102, 99, 266, 297, 53, 615, 38, 133, 6, 47, 123, 87, 25, 14, 65, 44, 80, 213, 1, 1375, 421, 147, 153, 161, 110, 30, 562, 1142, 103, 1125, 43, 116, 6, 50, 236, 273, 93, 826, 3, 735, 1586, 200, 78, 123, 150, 746, 222, 150, 92, 13, 73, 5, 682, 131, 99, 14, 18, 266, 103, 21, 157, 3559, 394, 790, 1300, 75, 31, 59, 117, 11, 1727, 96, 87, 1819, 26, 62, 52, 31, 181, 273, 276, 31, 65, 38, 43, 91, 299, 100, 422, 269, 85, 155, 173, 5727, 143, 103, 73, 15, 64, 187, 123, 119, 136, 66, 1, 257, 61, 140, 90, 76, 97, 155, 37, 213, 590, 95, 316, 27, 77, 159, 104, 29, 435, 198, 429, 429, 61, 45, 13, 54, 100, 2742, 60, 73, 38, 272, 343, 6980, 1074, 460, 23, 146, 21, 261, 39, 10, 1, 108, 109, 30, 198, 51, 5, 298, 240, 41, 13, 27, 262, 61, 87, 135, 83, 21090, 18, 144, 538, 336, 259, 280, 105, 230, 18, 78, 109, 53, 136, 92, 3824, 54, 236, 381, 158, 622, 260, 62, 33, 113, 364, 19589, 670, 54, 94, 1222, 144, 93, 369, 105, 248, 343, 200, 139, 1011, 13, 24, 406, 84, 110, 116, 48, 151, 63, 537, 130, 68, 23, 49, 123, 68, 166, 31, 101, 37, 263, 227, 57, 83, 46, 13, 1, 45, 69, 170, 32, 50, 1, 10, 117, 1, 55, 96, 23, 353, 183, 89, 71, 3609, 31, 6933, 122, 345, 21, 300, 139, 5000, 481, 37, 323, 365, 78, 57, 25, 104, 20, 208, 258, 7, 46, 413, 88, 45, 54, 104, 23, 34, 120, 190, 183], \"x0\": \" \", \"xaxis\": \"x\", \"y\": [\"rec.sport.hockey\", \"rec.sport.hockey\", \"rec.sport.hockey\", \"rec.sport.hockey\", \"rec.sport.hockey\", \"rec.sport.hockey\", \"rec.sport.hockey\", \"rec.sport.hockey\", \"rec.sport.hockey\", \"rec.sport.hockey\", \"rec.sport.hockey\", \"rec.sport.hockey\", \"rec.sport.hockey\", \"rec.sport.hockey\", \"rec.sport.hockey\", \"rec.sport.hockey\", \"rec.sport.hockey\", \"rec.sport.hockey\", \"rec.sport.hockey\", \"rec.sport.hockey\", \"rec.sport.hockey\", \"rec.sport.hockey\", \"rec.sport.hockey\", \"rec.sport.hockey\", \"rec.sport.hockey\", \"rec.sport.hockey\", \"rec.sport.hockey\", \"rec.sport.hockey\", \"rec.sport.hockey\", \"rec.sport.hockey\", \"rec.sport.hockey\", \"rec.sport.hockey\", \"rec.sport.hockey\", \"rec.sport.hockey\", \"rec.sport.hockey\", \"rec.sport.hockey\", \"rec.sport.hockey\", \"rec.sport.hockey\", \"rec.sport.hockey\", \"rec.sport.hockey\", \"rec.sport.hockey\", \"rec.sport.hockey\", \"rec.sport.hockey\", \"rec.sport.hockey\", \"rec.sport.hockey\", \"rec.sport.hockey\", \"rec.sport.hockey\", \"rec.sport.hockey\", \"rec.sport.hockey\", \"rec.sport.hockey\", \"rec.sport.hockey\", \"rec.sport.hockey\", \"rec.sport.hockey\", \"rec.sport.hockey\", \"rec.sport.hockey\", \"rec.sport.hockey\", \"rec.sport.hockey\", \"rec.sport.hockey\", \"rec.sport.hockey\", \"rec.sport.hockey\", \"rec.sport.hockey\", \"rec.sport.hockey\", \"rec.sport.hockey\", \"rec.sport.hockey\", \"rec.sport.hockey\", \"rec.sport.hockey\", \"rec.sport.hockey\", \"rec.sport.hockey\", \"rec.sport.hockey\", \"rec.sport.hockey\", \"rec.sport.hockey\", \"rec.sport.hockey\", \"rec.sport.hockey\", \"rec.sport.hockey\", \"rec.sport.hockey\", \"rec.sport.hockey\", \"rec.sport.hockey\", \"rec.sport.hockey\", \"rec.sport.hockey\", \"rec.sport.hockey\", \"rec.sport.hockey\", \"rec.sport.hockey\", \"rec.sport.hockey\", \"rec.sport.hockey\", \"rec.sport.hockey\", \"rec.sport.hockey\", \"rec.sport.hockey\", \"rec.sport.hockey\", \"rec.sport.hockey\", \"rec.sport.hockey\", \"rec.sport.hockey\", \"rec.sport.hockey\", \"rec.sport.hockey\", \"rec.sport.hockey\", \"rec.sport.hockey\", \"rec.sport.hockey\", \"rec.sport.hockey\", \"rec.sport.hockey\", \"rec.sport.hockey\", \"rec.sport.hockey\", \"rec.sport.hockey\", \"rec.sport.hockey\", \"rec.sport.hockey\", \"rec.sport.hockey\", \"rec.sport.hockey\", \"rec.sport.hockey\", \"rec.sport.hockey\", \"rec.sport.hockey\", \"rec.sport.hockey\", \"rec.sport.hockey\", \"rec.sport.hockey\", \"rec.sport.hockey\", \"rec.sport.hockey\", \"rec.sport.hockey\", \"rec.sport.hockey\", \"rec.sport.hockey\", \"rec.sport.hockey\", \"rec.sport.hockey\", \"rec.sport.hockey\", \"rec.sport.hockey\", \"rec.sport.hockey\", \"rec.sport.hockey\", \"rec.sport.hockey\", \"rec.sport.hockey\", \"rec.sport.hockey\", \"rec.sport.hockey\", \"rec.sport.hockey\", \"rec.sport.hockey\", \"rec.sport.hockey\", \"rec.sport.hockey\", \"rec.sport.hockey\", \"rec.sport.hockey\", \"rec.sport.hockey\", \"rec.sport.hockey\", \"rec.sport.hockey\", \"rec.sport.hockey\", \"rec.sport.hockey\", \"rec.sport.hockey\", \"rec.sport.hockey\", \"rec.sport.hockey\", \"rec.sport.hockey\", \"rec.sport.hockey\", \"rec.sport.hockey\", \"rec.sport.hockey\", \"rec.sport.hockey\", \"rec.sport.hockey\", \"rec.sport.hockey\", \"rec.sport.hockey\", \"rec.sport.hockey\", \"rec.sport.hockey\", \"rec.sport.hockey\", \"rec.sport.hockey\", \"rec.sport.hockey\", \"rec.sport.hockey\", \"rec.sport.hockey\", \"rec.sport.hockey\", \"rec.sport.hockey\", \"rec.sport.hockey\", \"rec.sport.hockey\", \"rec.sport.hockey\", \"rec.sport.hockey\", \"rec.sport.hockey\", \"rec.sport.hockey\", \"rec.sport.hockey\", \"rec.sport.hockey\", \"rec.sport.hockey\", \"rec.sport.hockey\", \"rec.sport.hockey\", \"rec.sport.hockey\", \"rec.sport.hockey\", \"rec.sport.hockey\", \"rec.sport.hockey\", \"rec.sport.hockey\", \"rec.sport.hockey\", \"rec.sport.hockey\", \"rec.sport.hockey\", \"rec.sport.hockey\", \"rec.sport.hockey\", \"rec.sport.hockey\", \"rec.sport.hockey\", \"rec.sport.hockey\", \"rec.sport.hockey\", \"rec.sport.hockey\", \"rec.sport.hockey\", \"rec.sport.hockey\", \"rec.sport.hockey\", \"rec.sport.hockey\", \"rec.sport.hockey\", \"rec.sport.hockey\", \"rec.sport.hockey\", \"rec.sport.hockey\", \"rec.sport.hockey\", \"rec.sport.hockey\", \"rec.sport.hockey\", \"rec.sport.hockey\", \"rec.sport.hockey\", \"rec.sport.hockey\", \"rec.sport.hockey\", \"rec.sport.hockey\", \"rec.sport.hockey\", \"rec.sport.hockey\", \"rec.sport.hockey\", \"rec.sport.hockey\", \"rec.sport.hockey\", \"rec.sport.hockey\", \"rec.sport.hockey\", \"rec.sport.hockey\", \"rec.sport.hockey\", \"rec.sport.hockey\", \"rec.sport.hockey\", \"rec.sport.hockey\", \"rec.sport.hockey\", \"rec.sport.hockey\", \"rec.sport.hockey\", \"rec.sport.hockey\", \"rec.sport.hockey\", \"rec.sport.hockey\", \"rec.sport.hockey\", \"rec.sport.hockey\", \"rec.sport.hockey\", \"rec.sport.hockey\", \"rec.sport.hockey\", \"rec.sport.hockey\", \"rec.sport.hockey\", \"rec.sport.hockey\", \"rec.sport.hockey\", \"rec.sport.hockey\", \"rec.sport.hockey\", \"rec.sport.hockey\", \"rec.sport.hockey\", \"rec.sport.hockey\", \"rec.sport.hockey\", \"rec.sport.hockey\", \"rec.sport.hockey\", \"rec.sport.hockey\", \"rec.sport.hockey\", \"rec.sport.hockey\", \"rec.sport.hockey\", \"rec.sport.hockey\", \"rec.sport.hockey\", \"rec.sport.hockey\", \"rec.sport.hockey\", \"rec.sport.hockey\", \"rec.sport.hockey\", \"rec.sport.hockey\", \"rec.sport.hockey\", \"rec.sport.hockey\", \"rec.sport.hockey\", \"rec.sport.hockey\", \"rec.sport.hockey\", \"rec.sport.hockey\", \"rec.sport.hockey\", \"rec.sport.hockey\", \"rec.sport.hockey\", \"rec.sport.hockey\", \"rec.sport.hockey\", \"rec.sport.hockey\", \"rec.sport.hockey\", \"rec.sport.hockey\", \"rec.sport.hockey\", \"rec.sport.hockey\", \"rec.sport.hockey\", \"rec.sport.hockey\", \"rec.sport.hockey\", \"rec.sport.hockey\", \"rec.sport.hockey\", \"rec.sport.hockey\", \"rec.sport.hockey\", \"rec.sport.hockey\", \"rec.sport.hockey\", \"rec.sport.hockey\", \"rec.sport.hockey\", \"rec.sport.hockey\", \"rec.sport.hockey\", \"rec.sport.hockey\", \"rec.sport.hockey\", \"rec.sport.hockey\", \"rec.sport.hockey\", \"rec.sport.hockey\", \"rec.sport.hockey\", \"rec.sport.hockey\", \"rec.sport.hockey\", \"rec.sport.hockey\", \"rec.sport.hockey\", \"rec.sport.hockey\", \"rec.sport.hockey\", \"rec.sport.hockey\", \"rec.sport.hockey\", \"rec.sport.hockey\", \"rec.sport.hockey\", \"rec.sport.hockey\", \"rec.sport.hockey\", \"rec.sport.hockey\", \"rec.sport.hockey\", \"rec.sport.hockey\", \"rec.sport.hockey\", \"rec.sport.hockey\", \"rec.sport.hockey\", \"rec.sport.hockey\", \"rec.sport.hockey\", \"rec.sport.hockey\", \"rec.sport.hockey\", \"rec.sport.hockey\", \"rec.sport.hockey\", \"rec.sport.hockey\", \"rec.sport.hockey\", \"rec.sport.hockey\", \"rec.sport.hockey\", \"rec.sport.hockey\", \"rec.sport.hockey\", \"rec.sport.hockey\", \"rec.sport.hockey\", \"rec.sport.hockey\", \"rec.sport.hockey\", \"rec.sport.hockey\", \"rec.sport.hockey\", \"rec.sport.hockey\", \"rec.sport.hockey\", \"rec.sport.hockey\", \"rec.sport.hockey\", \"rec.sport.hockey\", \"rec.sport.hockey\", \"rec.sport.hockey\", \"rec.sport.hockey\", \"rec.sport.hockey\", \"rec.sport.hockey\", \"rec.sport.hockey\", \"rec.sport.hockey\", \"rec.sport.hockey\", \"rec.sport.hockey\", \"rec.sport.hockey\", \"rec.sport.hockey\", \"rec.sport.hockey\", \"rec.sport.hockey\", \"rec.sport.hockey\", \"rec.sport.hockey\", \"rec.sport.hockey\", \"rec.sport.hockey\", \"rec.sport.hockey\", \"rec.sport.hockey\", \"rec.sport.hockey\", \"rec.sport.hockey\", \"rec.sport.hockey\", \"rec.sport.hockey\", \"rec.sport.hockey\", \"rec.sport.hockey\", \"rec.sport.hockey\", \"rec.sport.hockey\", \"rec.sport.hockey\", \"rec.sport.hockey\", \"rec.sport.hockey\", \"rec.sport.hockey\", \"rec.sport.hockey\", \"rec.sport.hockey\", \"rec.sport.hockey\", \"rec.sport.hockey\", \"rec.sport.hockey\", \"rec.sport.hockey\", \"rec.sport.hockey\", \"rec.sport.hockey\", \"rec.sport.hockey\", \"rec.sport.hockey\", \"rec.sport.hockey\", \"rec.sport.hockey\", \"rec.sport.hockey\", \"rec.sport.hockey\", \"rec.sport.hockey\", \"rec.sport.hockey\", \"rec.sport.hockey\", \"rec.sport.hockey\", \"rec.sport.hockey\", \"rec.sport.hockey\", \"rec.sport.hockey\", \"rec.sport.hockey\", \"rec.sport.hockey\", \"rec.sport.hockey\", \"rec.sport.hockey\", \"rec.sport.hockey\", \"rec.sport.hockey\", \"rec.sport.hockey\", \"rec.sport.hockey\", \"rec.sport.hockey\", \"rec.sport.hockey\", \"rec.sport.hockey\", \"rec.sport.hockey\", \"rec.sport.hockey\", \"rec.sport.hockey\", \"rec.sport.hockey\", \"rec.sport.hockey\", \"rec.sport.hockey\", \"rec.sport.hockey\", \"rec.sport.hockey\", \"rec.sport.hockey\", \"rec.sport.hockey\", \"rec.sport.hockey\", \"rec.sport.hockey\", \"rec.sport.hockey\", \"rec.sport.hockey\", \"rec.sport.hockey\", \"rec.sport.hockey\", \"rec.sport.hockey\", \"rec.sport.hockey\", \"rec.sport.hockey\", \"rec.sport.hockey\", \"rec.sport.hockey\", \"rec.sport.hockey\", \"rec.sport.hockey\", \"rec.sport.hockey\", \"rec.sport.hockey\", \"rec.sport.hockey\", \"rec.sport.hockey\", \"rec.sport.hockey\", \"rec.sport.hockey\", \"rec.sport.hockey\", \"rec.sport.hockey\", \"rec.sport.hockey\", \"rec.sport.hockey\", \"rec.sport.hockey\", \"rec.sport.hockey\", \"rec.sport.hockey\", \"rec.sport.hockey\", \"rec.sport.hockey\", \"rec.sport.hockey\", \"rec.sport.hockey\", \"rec.sport.hockey\", \"rec.sport.hockey\", \"rec.sport.hockey\", \"rec.sport.hockey\", \"rec.sport.hockey\", \"rec.sport.hockey\", \"rec.sport.hockey\", \"rec.sport.hockey\", \"rec.sport.hockey\", \"rec.sport.hockey\", \"rec.sport.hockey\", \"rec.sport.hockey\", \"rec.sport.hockey\", \"rec.sport.hockey\", \"rec.sport.hockey\", \"rec.sport.hockey\", \"rec.sport.hockey\", \"rec.sport.hockey\", \"rec.sport.hockey\", \"rec.sport.hockey\", \"rec.sport.hockey\", \"rec.sport.hockey\", \"rec.sport.hockey\", \"rec.sport.hockey\", \"rec.sport.hockey\", \"rec.sport.hockey\", \"rec.sport.hockey\", \"rec.sport.hockey\", \"rec.sport.hockey\", \"rec.sport.hockey\", \"rec.sport.hockey\", \"rec.sport.hockey\", \"rec.sport.hockey\", \"rec.sport.hockey\", \"rec.sport.hockey\", \"rec.sport.hockey\", \"rec.sport.hockey\", \"rec.sport.hockey\", \"rec.sport.hockey\", \"rec.sport.hockey\", \"rec.sport.hockey\", \"rec.sport.hockey\", \"rec.sport.hockey\", \"rec.sport.hockey\", \"rec.sport.hockey\", \"rec.sport.hockey\", \"rec.sport.hockey\", \"rec.sport.hockey\", \"rec.sport.hockey\", \"rec.sport.hockey\", \"rec.sport.hockey\", \"rec.sport.hockey\", \"rec.sport.hockey\", \"rec.sport.hockey\", \"rec.sport.hockey\", \"rec.sport.hockey\", \"rec.sport.hockey\", \"rec.sport.hockey\", \"rec.sport.hockey\", \"rec.sport.hockey\", \"rec.sport.hockey\", \"rec.sport.hockey\", \"rec.sport.hockey\", \"rec.sport.hockey\", \"rec.sport.hockey\", \"rec.sport.hockey\", \"rec.sport.hockey\", \"rec.sport.hockey\", \"rec.sport.hockey\", \"rec.sport.hockey\", \"rec.sport.hockey\", \"rec.sport.hockey\", \"rec.sport.hockey\", \"rec.sport.hockey\", \"rec.sport.hockey\", \"rec.sport.hockey\", \"rec.sport.hockey\", \"rec.sport.hockey\", \"rec.sport.hockey\", \"rec.sport.hockey\", \"rec.sport.hockey\", \"rec.sport.hockey\", \"rec.sport.hockey\", \"rec.sport.hockey\", \"rec.sport.hockey\", \"rec.sport.hockey\", \"rec.sport.hockey\", \"rec.sport.hockey\", \"rec.sport.hockey\", \"rec.sport.hockey\", \"rec.sport.hockey\", \"rec.sport.hockey\", \"rec.sport.hockey\", \"rec.sport.hockey\", \"rec.sport.hockey\", \"rec.sport.hockey\", \"rec.sport.hockey\", \"rec.sport.hockey\", \"rec.sport.hockey\", \"rec.sport.hockey\", \"rec.sport.hockey\", \"rec.sport.hockey\", \"rec.sport.hockey\", \"rec.sport.hockey\", \"rec.sport.hockey\", \"rec.sport.hockey\", \"rec.sport.hockey\", \"rec.sport.hockey\", \"rec.sport.hockey\", \"rec.sport.hockey\", \"rec.sport.hockey\", \"rec.sport.hockey\", \"rec.sport.hockey\", \"rec.sport.hockey\", \"rec.sport.hockey\", \"rec.sport.hockey\", \"rec.sport.hockey\", \"rec.sport.hockey\", \"rec.sport.hockey\", \"rec.sport.hockey\", \"rec.sport.hockey\", \"rec.sport.hockey\", \"rec.sport.hockey\", \"rec.sport.hockey\", \"rec.sport.hockey\", \"rec.sport.hockey\", \"rec.sport.hockey\", \"rec.sport.hockey\", \"rec.sport.hockey\", \"rec.sport.hockey\", \"rec.sport.hockey\", \"rec.sport.hockey\", \"rec.sport.hockey\", \"rec.sport.hockey\", \"rec.sport.hockey\", \"rec.sport.hockey\", \"rec.sport.hockey\", \"rec.sport.hockey\", \"rec.sport.hockey\", \"rec.sport.hockey\", \"rec.sport.hockey\", \"rec.sport.hockey\", \"rec.sport.hockey\", \"rec.sport.hockey\", \"rec.sport.hockey\", \"rec.sport.hockey\", \"rec.sport.hockey\", \"rec.sport.hockey\", \"rec.sport.hockey\", \"rec.sport.hockey\", \"rec.sport.hockey\", \"rec.sport.hockey\", \"rec.sport.hockey\", \"rec.sport.hockey\", \"rec.sport.hockey\", \"rec.sport.hockey\", \"rec.sport.hockey\", \"rec.sport.hockey\", \"rec.sport.hockey\", \"rec.sport.hockey\", \"rec.sport.hockey\", \"rec.sport.hockey\", \"rec.sport.hockey\", \"rec.sport.hockey\", \"rec.sport.hockey\", \"rec.sport.hockey\", \"rec.sport.hockey\", \"rec.sport.hockey\", \"rec.sport.hockey\", \"rec.sport.hockey\", \"rec.sport.hockey\", \"rec.sport.hockey\", \"rec.sport.hockey\", \"rec.sport.hockey\", \"rec.sport.hockey\", \"rec.sport.hockey\"], \"y0\": \" \", \"yaxis\": \"y\"}],\n",
              "                        {\"boxmode\": \"group\", \"legend\": {\"tracegroupgap\": 0}, \"margin\": {\"t\": 60}, \"template\": {\"data\": {\"bar\": [{\"error_x\": {\"color\": \"#2a3f5f\"}, \"error_y\": {\"color\": \"#2a3f5f\"}, \"marker\": {\"line\": {\"color\": \"#E5ECF6\", \"width\": 0.5}}, \"type\": \"bar\"}], \"barpolar\": [{\"marker\": {\"line\": {\"color\": \"#E5ECF6\", \"width\": 0.5}}, \"type\": \"barpolar\"}], \"carpet\": [{\"aaxis\": {\"endlinecolor\": \"#2a3f5f\", \"gridcolor\": \"white\", \"linecolor\": \"white\", \"minorgridcolor\": \"white\", \"startlinecolor\": \"#2a3f5f\"}, \"baxis\": {\"endlinecolor\": \"#2a3f5f\", \"gridcolor\": \"white\", \"linecolor\": \"white\", \"minorgridcolor\": \"white\", \"startlinecolor\": \"#2a3f5f\"}, \"type\": \"carpet\"}], \"choropleth\": [{\"colorbar\": {\"outlinewidth\": 0, \"ticks\": \"\"}, \"type\": \"choropleth\"}], \"contour\": [{\"colorbar\": {\"outlinewidth\": 0, \"ticks\": \"\"}, \"colorscale\": [[0.0, \"#0d0887\"], [0.1111111111111111, \"#46039f\"], [0.2222222222222222, \"#7201a8\"], [0.3333333333333333, \"#9c179e\"], [0.4444444444444444, \"#bd3786\"], [0.5555555555555556, \"#d8576b\"], [0.6666666666666666, \"#ed7953\"], [0.7777777777777778, \"#fb9f3a\"], [0.8888888888888888, \"#fdca26\"], [1.0, \"#f0f921\"]], \"type\": \"contour\"}], \"contourcarpet\": [{\"colorbar\": {\"outlinewidth\": 0, \"ticks\": \"\"}, \"type\": \"contourcarpet\"}], \"heatmap\": [{\"colorbar\": {\"outlinewidth\": 0, \"ticks\": \"\"}, \"colorscale\": [[0.0, \"#0d0887\"], [0.1111111111111111, \"#46039f\"], [0.2222222222222222, \"#7201a8\"], [0.3333333333333333, \"#9c179e\"], [0.4444444444444444, \"#bd3786\"], [0.5555555555555556, \"#d8576b\"], [0.6666666666666666, \"#ed7953\"], [0.7777777777777778, \"#fb9f3a\"], [0.8888888888888888, \"#fdca26\"], [1.0, \"#f0f921\"]], \"type\": \"heatmap\"}], \"heatmapgl\": [{\"colorbar\": {\"outlinewidth\": 0, \"ticks\": \"\"}, \"colorscale\": [[0.0, \"#0d0887\"], [0.1111111111111111, \"#46039f\"], [0.2222222222222222, \"#7201a8\"], [0.3333333333333333, \"#9c179e\"], [0.4444444444444444, \"#bd3786\"], [0.5555555555555556, \"#d8576b\"], [0.6666666666666666, \"#ed7953\"], [0.7777777777777778, \"#fb9f3a\"], [0.8888888888888888, \"#fdca26\"], [1.0, \"#f0f921\"]], \"type\": \"heatmapgl\"}], \"histogram\": [{\"marker\": {\"colorbar\": {\"outlinewidth\": 0, \"ticks\": \"\"}}, \"type\": \"histogram\"}], \"histogram2d\": [{\"colorbar\": {\"outlinewidth\": 0, \"ticks\": \"\"}, \"colorscale\": [[0.0, \"#0d0887\"], [0.1111111111111111, \"#46039f\"], [0.2222222222222222, \"#7201a8\"], [0.3333333333333333, \"#9c179e\"], [0.4444444444444444, \"#bd3786\"], [0.5555555555555556, \"#d8576b\"], [0.6666666666666666, \"#ed7953\"], [0.7777777777777778, \"#fb9f3a\"], [0.8888888888888888, \"#fdca26\"], [1.0, \"#f0f921\"]], \"type\": \"histogram2d\"}], \"histogram2dcontour\": [{\"colorbar\": {\"outlinewidth\": 0, \"ticks\": \"\"}, \"colorscale\": [[0.0, \"#0d0887\"], [0.1111111111111111, \"#46039f\"], [0.2222222222222222, \"#7201a8\"], [0.3333333333333333, \"#9c179e\"], [0.4444444444444444, \"#bd3786\"], [0.5555555555555556, \"#d8576b\"], [0.6666666666666666, \"#ed7953\"], [0.7777777777777778, \"#fb9f3a\"], [0.8888888888888888, \"#fdca26\"], [1.0, \"#f0f921\"]], \"type\": \"histogram2dcontour\"}], \"mesh3d\": [{\"colorbar\": {\"outlinewidth\": 0, \"ticks\": \"\"}, \"type\": \"mesh3d\"}], \"parcoords\": [{\"line\": {\"colorbar\": {\"outlinewidth\": 0, \"ticks\": \"\"}}, \"type\": \"parcoords\"}], \"pie\": [{\"automargin\": true, \"type\": \"pie\"}], \"scatter\": [{\"marker\": {\"colorbar\": {\"outlinewidth\": 0, \"ticks\": \"\"}}, \"type\": \"scatter\"}], \"scatter3d\": [{\"line\": {\"colorbar\": {\"outlinewidth\": 0, \"ticks\": \"\"}}, \"marker\": {\"colorbar\": {\"outlinewidth\": 0, \"ticks\": \"\"}}, \"type\": \"scatter3d\"}], \"scattercarpet\": [{\"marker\": {\"colorbar\": {\"outlinewidth\": 0, \"ticks\": \"\"}}, \"type\": \"scattercarpet\"}], \"scattergeo\": [{\"marker\": {\"colorbar\": {\"outlinewidth\": 0, \"ticks\": \"\"}}, \"type\": \"scattergeo\"}], \"scattergl\": [{\"marker\": {\"colorbar\": {\"outlinewidth\": 0, \"ticks\": \"\"}}, \"type\": \"scattergl\"}], \"scattermapbox\": [{\"marker\": {\"colorbar\": {\"outlinewidth\": 0, \"ticks\": \"\"}}, \"type\": \"scattermapbox\"}], \"scatterpolar\": [{\"marker\": {\"colorbar\": {\"outlinewidth\": 0, \"ticks\": \"\"}}, \"type\": \"scatterpolar\"}], \"scatterpolargl\": [{\"marker\": {\"colorbar\": {\"outlinewidth\": 0, \"ticks\": \"\"}}, \"type\": \"scatterpolargl\"}], \"scatterternary\": [{\"marker\": {\"colorbar\": {\"outlinewidth\": 0, \"ticks\": \"\"}}, \"type\": \"scatterternary\"}], \"surface\": [{\"colorbar\": {\"outlinewidth\": 0, \"ticks\": \"\"}, \"colorscale\": [[0.0, \"#0d0887\"], [0.1111111111111111, \"#46039f\"], [0.2222222222222222, \"#7201a8\"], [0.3333333333333333, \"#9c179e\"], [0.4444444444444444, \"#bd3786\"], [0.5555555555555556, \"#d8576b\"], [0.6666666666666666, \"#ed7953\"], [0.7777777777777778, \"#fb9f3a\"], [0.8888888888888888, \"#fdca26\"], [1.0, \"#f0f921\"]], \"type\": \"surface\"}], \"table\": [{\"cells\": {\"fill\": {\"color\": \"#EBF0F8\"}, \"line\": {\"color\": \"white\"}}, \"header\": {\"fill\": {\"color\": \"#C8D4E3\"}, \"line\": {\"color\": \"white\"}}, \"type\": \"table\"}]}, \"layout\": {\"annotationdefaults\": {\"arrowcolor\": \"#2a3f5f\", \"arrowhead\": 0, \"arrowwidth\": 1}, \"coloraxis\": {\"colorbar\": {\"outlinewidth\": 0, \"ticks\": \"\"}}, \"colorscale\": {\"diverging\": [[0, \"#8e0152\"], [0.1, \"#c51b7d\"], [0.2, \"#de77ae\"], [0.3, \"#f1b6da\"], [0.4, \"#fde0ef\"], [0.5, \"#f7f7f7\"], [0.6, \"#e6f5d0\"], [0.7, \"#b8e186\"], [0.8, \"#7fbc41\"], [0.9, \"#4d9221\"], [1, \"#276419\"]], \"sequential\": [[0.0, \"#0d0887\"], [0.1111111111111111, \"#46039f\"], [0.2222222222222222, \"#7201a8\"], [0.3333333333333333, \"#9c179e\"], [0.4444444444444444, \"#bd3786\"], [0.5555555555555556, \"#d8576b\"], [0.6666666666666666, \"#ed7953\"], [0.7777777777777778, \"#fb9f3a\"], [0.8888888888888888, \"#fdca26\"], [1.0, \"#f0f921\"]], \"sequentialminus\": [[0.0, \"#0d0887\"], [0.1111111111111111, \"#46039f\"], [0.2222222222222222, \"#7201a8\"], [0.3333333333333333, \"#9c179e\"], [0.4444444444444444, \"#bd3786\"], [0.5555555555555556, \"#d8576b\"], [0.6666666666666666, \"#ed7953\"], [0.7777777777777778, \"#fb9f3a\"], [0.8888888888888888, \"#fdca26\"], [1.0, \"#f0f921\"]]}, \"colorway\": [\"#636efa\", \"#EF553B\", \"#00cc96\", \"#ab63fa\", \"#FFA15A\", \"#19d3f3\", \"#FF6692\", \"#B6E880\", \"#FF97FF\", \"#FECB52\"], \"font\": {\"color\": \"#2a3f5f\"}, \"geo\": {\"bgcolor\": \"white\", \"lakecolor\": \"white\", \"landcolor\": \"#E5ECF6\", \"showlakes\": true, \"showland\": true, \"subunitcolor\": \"white\"}, \"hoverlabel\": {\"align\": \"left\"}, \"hovermode\": \"closest\", \"mapbox\": {\"style\": \"light\"}, \"paper_bgcolor\": \"white\", \"plot_bgcolor\": \"#E5ECF6\", \"polar\": {\"angularaxis\": {\"gridcolor\": \"white\", \"linecolor\": \"white\", \"ticks\": \"\"}, \"bgcolor\": \"#E5ECF6\", \"radialaxis\": {\"gridcolor\": \"white\", \"linecolor\": \"white\", \"ticks\": \"\"}}, \"scene\": {\"xaxis\": {\"backgroundcolor\": \"#E5ECF6\", \"gridcolor\": \"white\", \"gridwidth\": 2, \"linecolor\": \"white\", \"showbackground\": true, \"ticks\": \"\", \"zerolinecolor\": \"white\"}, \"yaxis\": {\"backgroundcolor\": \"#E5ECF6\", \"gridcolor\": \"white\", \"gridwidth\": 2, \"linecolor\": \"white\", \"showbackground\": true, \"ticks\": \"\", \"zerolinecolor\": \"white\"}, \"zaxis\": {\"backgroundcolor\": \"#E5ECF6\", \"gridcolor\": \"white\", \"gridwidth\": 2, \"linecolor\": \"white\", \"showbackground\": true, \"ticks\": \"\", \"zerolinecolor\": \"white\"}}, \"shapedefaults\": {\"line\": {\"color\": \"#2a3f5f\"}}, \"ternary\": {\"aaxis\": {\"gridcolor\": \"white\", \"linecolor\": \"white\", \"ticks\": \"\"}, \"baxis\": {\"gridcolor\": \"white\", \"linecolor\": \"white\", \"ticks\": \"\"}, \"bgcolor\": \"#E5ECF6\", \"caxis\": {\"gridcolor\": \"white\", \"linecolor\": \"white\", \"ticks\": \"\"}}, \"title\": {\"x\": 0.05}, \"xaxis\": {\"automargin\": true, \"gridcolor\": \"white\", \"linecolor\": \"white\", \"ticks\": \"\", \"title\": {\"standoff\": 15}, \"zerolinecolor\": \"white\", \"zerolinewidth\": 2}, \"yaxis\": {\"automargin\": true, \"gridcolor\": \"white\", \"linecolor\": \"white\", \"ticks\": \"\", \"title\": {\"standoff\": 15}, \"zerolinecolor\": \"white\", \"zerolinewidth\": 2}}}, \"xaxis\": {\"anchor\": \"y\", \"domain\": [0.0, 1.0], \"title\": {\"text\": \"text_size\"}}, \"yaxis\": {\"anchor\": \"x\", \"categoryarray\": [\"rec.sport.hockey\", \"soc.religion.christian\", \"rec.autos\"], \"categoryorder\": \"array\", \"domain\": [0.0, 1.0], \"title\": {\"text\": \"title\"}}},\n",
              "                        {\"responsive\": true}\n",
              "                    ).then(function(){\n",
              "                            \n",
              "var gd = document.getElementById('7d0b14b5-0bea-4336-80b6-73484ed8671c');\n",
              "var x = new MutationObserver(function (mutations, observer) {{\n",
              "        var display = window.getComputedStyle(gd).display;\n",
              "        if (!display || display === 'none') {{\n",
              "            console.log([gd, 'removed!']);\n",
              "            Plotly.purge(gd);\n",
              "            observer.disconnect();\n",
              "        }}\n",
              "}});\n",
              "\n",
              "// Listen for the removal of the full notebook cells\n",
              "var notebookContainer = gd.closest('#notebook-container');\n",
              "if (notebookContainer) {{\n",
              "    x.observe(notebookContainer, {childList: true});\n",
              "}}\n",
              "\n",
              "// Listen for the clearing of the current output cell\n",
              "var outputEl = gd.closest('.output');\n",
              "if (outputEl) {{\n",
              "    x.observe(outputEl, {childList: true});\n",
              "}}\n",
              "\n",
              "                        })\n",
              "                };\n",
              "                \n",
              "            </script>\n",
              "        </div>\n",
              "</body>\n",
              "</html>"
            ]
          },
          "metadata": {
            "tags": []
          }
        },
        {
          "output_type": "display_data",
          "data": {
            "text/html": [
              "<html>\n",
              "<head><meta charset=\"utf-8\" /></head>\n",
              "<body>\n",
              "    <div>\n",
              "            <script src=\"https://cdnjs.cloudflare.com/ajax/libs/mathjax/2.7.5/MathJax.js?config=TeX-AMS-MML_SVG\"></script><script type=\"text/javascript\">if (window.MathJax) {MathJax.Hub.Config({SVG: {font: \"STIX-Web\"}});}</script>\n",
              "                <script type=\"text/javascript\">window.PlotlyConfig = {MathJaxConfig: 'local'};</script>\n",
              "        <script src=\"https://cdn.plot.ly/plotly-latest.min.js\"></script>    \n",
              "            <div id=\"62e9e994-a33f-4c91-a2c7-af809221812b\" class=\"plotly-graph-div\" style=\"height:525px; width:100%;\"></div>\n",
              "            <script type=\"text/javascript\">\n",
              "                \n",
              "                    window.PLOTLYENV=window.PLOTLYENV || {};\n",
              "                    \n",
              "                if (document.getElementById(\"62e9e994-a33f-4c91-a2c7-af809221812b\")) {\n",
              "                    Plotly.newPlot(\n",
              "                        '62e9e994-a33f-4c91-a2c7-af809221812b',\n",
              "                        [{\"alignmentgroup\": \"True\", \"hoverlabel\": {\"namelength\": 0}, \"hovertemplate\": \"title=%{y}<br>text_size=%{x}\", \"legendgroup\": \"title=rec.autos\", \"marker\": {\"color\": \"#636efa\"}, \"name\": \"title=rec.autos\", \"notched\": false, \"offsetgroup\": \"title=rec.autos\", \"orientation\": \"h\", \"showlegend\": true, \"type\": \"box\", \"x\": [96, 2936, 84, 383, 69, 93, 41, 269, 110, 22, 56, 35, 47, 258, 41, 67, 760, 34, 13, 116, 6, 136, 64, 146, 60, 43, 77, 89, 47, 190, 285, 53, 184, 50, 308, 67, 46, 76, 1, 1, 128, 311, 77, 1, 1, 1, 212, 385, 178, 54, 193, 57, 176, 121, 98, 299, 127, 328, 74, 285, 59, 23, 151, 97, 271, 52, 123, 221, 1, 723, 200, 42, 1962, 103, 90, 49, 107, 54, 24, 4, 71, 87, 58, 26, 194, 294, 1779, 165, 71, 116, 103, 49, 55, 139, 323, 89, 82, 117, 18, 179, 42, 17, 38, 16, 242, 19, 49, 85, 193, 101, 70, 108, 43, 66, 16, 133, 165, 98, 18, 40, 301, 35, 32, 234, 791, 45, 84, 1, 38, 173, 377, 1, 41, 1, 123, 42, 1, 38, 112, 55, 48, 17, 200, 905, 98, 147, 9, 22, 60, 249, 181, 58, 33, 202, 59, 161, 168, 125, 118, 66, 47, 107, 79, 310, 64, 78, 25, 208, 42, 167, 67, 31, 1, 135, 42, 584, 81, 97, 294, 65, 99, 211, 109, 102, 23, 62, 5, 1, 119, 883, 2, 285, 54, 134, 27, 156, 1, 63, 63, 1, 63, 126, 179, 981, 281, 14, 246, 1, 151, 132, 38, 39, 258, 79, 145, 18, 55, 73, 59, 1, 47, 37, 62, 24, 354, 27, 77, 88, 1, 2684, 352, 67, 86, 174, 49, 13, 30, 40, 15, 119, 479, 73, 176, 94, 234, 208, 31, 148, 5, 151, 137, 104, 407, 1, 29, 345, 107, 44, 104, 41, 1, 101, 37, 53, 279, 421, 36, 174, 78, 43, 30, 107, 19, 100, 47, 71, 33, 340, 207, 224, 45, 856, 45, 107, 20, 122, 54, 81, 131, 111, 279, 52, 46, 277, 111, 160, 156, 14, 79, 49, 1, 899, 133, 61, 415, 150, 599, 176, 180, 13, 1, 144, 1, 481, 388, 209, 45, 221, 6004, 12, 145, 118, 111, 107, 642, 75, 344, 193, 41, 41, 163, 54, 13, 8, 193, 18, 708, 5, 14, 24, 66, 483, 82, 54, 720, 226, 39, 36, 76, 1, 73, 203, 17, 142, 86, 117, 124, 27, 1, 44, 53, 44, 41, 51, 3, 203, 1, 84, 14, 56, 11, 57, 158, 14, 25, 1, 62, 89, 66, 30, 72, 32, 86, 84, 224, 17, 159, 10, 22, 58, 32, 158, 47, 11, 65, 246, 39, 36, 85, 166, 95, 101, 55, 55, 83, 65, 80, 32, 139, 99, 31, 1, 136, 173, 361, 145, 184, 16, 37, 49, 220, 35, 61, 141, 30, 24, 59, 184, 53, 11, 157, 104, 251, 90, 174, 54, 344, 117, 70, 74, 24, 33, 154, 29, 47, 70, 243, 187, 20, 23, 49, 47, 72, 63, 148, 65, 189, 101, 71, 145, 67, 67, 35, 36, 294, 200, 88, 60, 221, 35, 184, 657, 48, 115, 50, 191, 25, 160, 238, 45, 33, 41, 41, 329, 88, 263, 73, 35, 50, 272, 1, 249, 106, 59, 170, 14, 242, 144, 150, 1, 805, 40, 221, 135, 77, 61, 100, 340, 98, 102, 170, 180, 181, 16, 70, 166, 48, 209, 55, 2, 216, 114, 155, 132, 25, 36, 121, 48, 15, 40, 332, 79, 10, 176, 1, 119, 138, 77, 99, 83, 90, 104, 20, 88, 47, 64, 67, 1, 83, 54, 34, 208, 34, 32, 199, 6, 138, 69, 30, 83, 92, 42, 122, 65, 179, 13, 54, 38, 78, 63, 470, 96, 41, 147, 71, 791, 163, 184, 1, 94, 216, 129, 148, 411, 56, 192, 44, 80, 230, 1, 208, 44, 118, 123], \"x0\": \" \", \"xaxis\": \"x\", \"y\": [\"rec.autos\", \"rec.autos\", \"rec.autos\", \"rec.autos\", \"rec.autos\", \"rec.autos\", \"rec.autos\", \"rec.autos\", \"rec.autos\", \"rec.autos\", \"rec.autos\", \"rec.autos\", \"rec.autos\", \"rec.autos\", \"rec.autos\", \"rec.autos\", \"rec.autos\", \"rec.autos\", \"rec.autos\", \"rec.autos\", \"rec.autos\", \"rec.autos\", \"rec.autos\", \"rec.autos\", \"rec.autos\", \"rec.autos\", \"rec.autos\", \"rec.autos\", \"rec.autos\", \"rec.autos\", \"rec.autos\", \"rec.autos\", \"rec.autos\", \"rec.autos\", \"rec.autos\", \"rec.autos\", \"rec.autos\", \"rec.autos\", \"rec.autos\", \"rec.autos\", \"rec.autos\", \"rec.autos\", \"rec.autos\", \"rec.autos\", \"rec.autos\", \"rec.autos\", \"rec.autos\", \"rec.autos\", \"rec.autos\", \"rec.autos\", \"rec.autos\", \"rec.autos\", \"rec.autos\", \"rec.autos\", \"rec.autos\", \"rec.autos\", \"rec.autos\", \"rec.autos\", \"rec.autos\", \"rec.autos\", \"rec.autos\", \"rec.autos\", \"rec.autos\", \"rec.autos\", \"rec.autos\", \"rec.autos\", \"rec.autos\", \"rec.autos\", \"rec.autos\", \"rec.autos\", \"rec.autos\", \"rec.autos\", \"rec.autos\", \"rec.autos\", \"rec.autos\", \"rec.autos\", \"rec.autos\", \"rec.autos\", \"rec.autos\", \"rec.autos\", \"rec.autos\", \"rec.autos\", \"rec.autos\", \"rec.autos\", \"rec.autos\", \"rec.autos\", \"rec.autos\", \"rec.autos\", \"rec.autos\", \"rec.autos\", \"rec.autos\", \"rec.autos\", \"rec.autos\", \"rec.autos\", \"rec.autos\", \"rec.autos\", \"rec.autos\", \"rec.autos\", \"rec.autos\", \"rec.autos\", \"rec.autos\", \"rec.autos\", \"rec.autos\", \"rec.autos\", \"rec.autos\", \"rec.autos\", \"rec.autos\", \"rec.autos\", \"rec.autos\", \"rec.autos\", \"rec.autos\", \"rec.autos\", \"rec.autos\", \"rec.autos\", \"rec.autos\", \"rec.autos\", \"rec.autos\", \"rec.autos\", \"rec.autos\", \"rec.autos\", \"rec.autos\", \"rec.autos\", \"rec.autos\", \"rec.autos\", \"rec.autos\", \"rec.autos\", \"rec.autos\", \"rec.autos\", \"rec.autos\", \"rec.autos\", \"rec.autos\", \"rec.autos\", \"rec.autos\", \"rec.autos\", \"rec.autos\", \"rec.autos\", \"rec.autos\", \"rec.autos\", \"rec.autos\", \"rec.autos\", \"rec.autos\", \"rec.autos\", \"rec.autos\", \"rec.autos\", \"rec.autos\", \"rec.autos\", \"rec.autos\", \"rec.autos\", \"rec.autos\", \"rec.autos\", \"rec.autos\", \"rec.autos\", \"rec.autos\", \"rec.autos\", \"rec.autos\", \"rec.autos\", \"rec.autos\", \"rec.autos\", \"rec.autos\", \"rec.autos\", \"rec.autos\", \"rec.autos\", \"rec.autos\", \"rec.autos\", \"rec.autos\", \"rec.autos\", \"rec.autos\", \"rec.autos\", \"rec.autos\", \"rec.autos\", \"rec.autos\", \"rec.autos\", \"rec.autos\", \"rec.autos\", \"rec.autos\", \"rec.autos\", \"rec.autos\", \"rec.autos\", \"rec.autos\", \"rec.autos\", \"rec.autos\", \"rec.autos\", \"rec.autos\", \"rec.autos\", \"rec.autos\", \"rec.autos\", \"rec.autos\", \"rec.autos\", \"rec.autos\", \"rec.autos\", \"rec.autos\", \"rec.autos\", \"rec.autos\", \"rec.autos\", \"rec.autos\", \"rec.autos\", \"rec.autos\", \"rec.autos\", \"rec.autos\", \"rec.autos\", \"rec.autos\", \"rec.autos\", \"rec.autos\", \"rec.autos\", \"rec.autos\", \"rec.autos\", \"rec.autos\", \"rec.autos\", \"rec.autos\", \"rec.autos\", \"rec.autos\", \"rec.autos\", \"rec.autos\", \"rec.autos\", \"rec.autos\", \"rec.autos\", \"rec.autos\", \"rec.autos\", \"rec.autos\", \"rec.autos\", \"rec.autos\", \"rec.autos\", \"rec.autos\", \"rec.autos\", \"rec.autos\", \"rec.autos\", \"rec.autos\", \"rec.autos\", \"rec.autos\", \"rec.autos\", \"rec.autos\", \"rec.autos\", \"rec.autos\", \"rec.autos\", \"rec.autos\", \"rec.autos\", \"rec.autos\", \"rec.autos\", \"rec.autos\", \"rec.autos\", \"rec.autos\", \"rec.autos\", \"rec.autos\", \"rec.autos\", \"rec.autos\", \"rec.autos\", \"rec.autos\", \"rec.autos\", \"rec.autos\", \"rec.autos\", \"rec.autos\", \"rec.autos\", \"rec.autos\", \"rec.autos\", \"rec.autos\", \"rec.autos\", \"rec.autos\", \"rec.autos\", \"rec.autos\", \"rec.autos\", \"rec.autos\", \"rec.autos\", \"rec.autos\", \"rec.autos\", \"rec.autos\", \"rec.autos\", \"rec.autos\", \"rec.autos\", \"rec.autos\", \"rec.autos\", \"rec.autos\", \"rec.autos\", \"rec.autos\", \"rec.autos\", \"rec.autos\", \"rec.autos\", \"rec.autos\", \"rec.autos\", \"rec.autos\", \"rec.autos\", \"rec.autos\", \"rec.autos\", \"rec.autos\", \"rec.autos\", \"rec.autos\", \"rec.autos\", \"rec.autos\", \"rec.autos\", \"rec.autos\", \"rec.autos\", \"rec.autos\", \"rec.autos\", \"rec.autos\", \"rec.autos\", \"rec.autos\", \"rec.autos\", \"rec.autos\", \"rec.autos\", \"rec.autos\", \"rec.autos\", \"rec.autos\", \"rec.autos\", \"rec.autos\", \"rec.autos\", \"rec.autos\", \"rec.autos\", \"rec.autos\", \"rec.autos\", \"rec.autos\", \"rec.autos\", \"rec.autos\", \"rec.autos\", \"rec.autos\", \"rec.autos\", \"rec.autos\", \"rec.autos\", \"rec.autos\", \"rec.autos\", \"rec.autos\", \"rec.autos\", \"rec.autos\", \"rec.autos\", \"rec.autos\", \"rec.autos\", \"rec.autos\", \"rec.autos\", \"rec.autos\", \"rec.autos\", \"rec.autos\", \"rec.autos\", \"rec.autos\", \"rec.autos\", \"rec.autos\", \"rec.autos\", \"rec.autos\", \"rec.autos\", \"rec.autos\", \"rec.autos\", \"rec.autos\", \"rec.autos\", \"rec.autos\", \"rec.autos\", \"rec.autos\", \"rec.autos\", \"rec.autos\", \"rec.autos\", \"rec.autos\", \"rec.autos\", \"rec.autos\", \"rec.autos\", \"rec.autos\", \"rec.autos\", \"rec.autos\", \"rec.autos\", \"rec.autos\", \"rec.autos\", \"rec.autos\", \"rec.autos\", \"rec.autos\", \"rec.autos\", \"rec.autos\", \"rec.autos\", \"rec.autos\", \"rec.autos\", \"rec.autos\", \"rec.autos\", \"rec.autos\", \"rec.autos\", \"rec.autos\", \"rec.autos\", \"rec.autos\", \"rec.autos\", \"rec.autos\", \"rec.autos\", \"rec.autos\", \"rec.autos\", \"rec.autos\", \"rec.autos\", \"rec.autos\", \"rec.autos\", \"rec.autos\", \"rec.autos\", \"rec.autos\", \"rec.autos\", \"rec.autos\", \"rec.autos\", \"rec.autos\", \"rec.autos\", \"rec.autos\", \"rec.autos\", \"rec.autos\", \"rec.autos\", \"rec.autos\", \"rec.autos\", \"rec.autos\", \"rec.autos\", \"rec.autos\", \"rec.autos\", \"rec.autos\", \"rec.autos\", \"rec.autos\", \"rec.autos\", \"rec.autos\", \"rec.autos\", \"rec.autos\", \"rec.autos\", \"rec.autos\", \"rec.autos\", \"rec.autos\", \"rec.autos\", \"rec.autos\", \"rec.autos\", \"rec.autos\", \"rec.autos\", \"rec.autos\", \"rec.autos\", \"rec.autos\", \"rec.autos\", \"rec.autos\", \"rec.autos\", \"rec.autos\", \"rec.autos\", \"rec.autos\", \"rec.autos\", \"rec.autos\", \"rec.autos\", \"rec.autos\", \"rec.autos\", \"rec.autos\", \"rec.autos\", \"rec.autos\", \"rec.autos\", \"rec.autos\", \"rec.autos\", \"rec.autos\", \"rec.autos\", \"rec.autos\", \"rec.autos\", \"rec.autos\", \"rec.autos\", \"rec.autos\", \"rec.autos\", \"rec.autos\", \"rec.autos\", \"rec.autos\", \"rec.autos\", \"rec.autos\", \"rec.autos\", \"rec.autos\", \"rec.autos\", \"rec.autos\", \"rec.autos\", \"rec.autos\", \"rec.autos\", \"rec.autos\", \"rec.autos\", \"rec.autos\", \"rec.autos\", \"rec.autos\", \"rec.autos\", \"rec.autos\", \"rec.autos\", \"rec.autos\", \"rec.autos\", \"rec.autos\", \"rec.autos\", \"rec.autos\", \"rec.autos\", \"rec.autos\", \"rec.autos\", \"rec.autos\", \"rec.autos\", \"rec.autos\", \"rec.autos\", \"rec.autos\", \"rec.autos\", \"rec.autos\", \"rec.autos\", \"rec.autos\", \"rec.autos\", \"rec.autos\", \"rec.autos\", \"rec.autos\", \"rec.autos\", \"rec.autos\", \"rec.autos\", \"rec.autos\", \"rec.autos\", \"rec.autos\", \"rec.autos\", \"rec.autos\", \"rec.autos\", \"rec.autos\", \"rec.autos\", \"rec.autos\", \"rec.autos\", \"rec.autos\", \"rec.autos\", \"rec.autos\", \"rec.autos\", \"rec.autos\", \"rec.autos\", \"rec.autos\", \"rec.autos\", \"rec.autos\", \"rec.autos\", \"rec.autos\", \"rec.autos\", \"rec.autos\", \"rec.autos\", \"rec.autos\", \"rec.autos\", \"rec.autos\", \"rec.autos\", \"rec.autos\", \"rec.autos\", \"rec.autos\", \"rec.autos\", \"rec.autos\", \"rec.autos\", \"rec.autos\", \"rec.autos\", \"rec.autos\", \"rec.autos\", \"rec.autos\", \"rec.autos\", \"rec.autos\", \"rec.autos\", \"rec.autos\", \"rec.autos\", \"rec.autos\", \"rec.autos\", \"rec.autos\", \"rec.autos\", \"rec.autos\", \"rec.autos\", \"rec.autos\", \"rec.autos\", \"rec.autos\", \"rec.autos\", \"rec.autos\", \"rec.autos\", \"rec.autos\", \"rec.autos\", \"rec.autos\", \"rec.autos\", \"rec.autos\", \"rec.autos\", \"rec.autos\", \"rec.autos\", \"rec.autos\", \"rec.autos\", \"rec.autos\", \"rec.autos\", \"rec.autos\", \"rec.autos\", \"rec.autos\", \"rec.autos\", \"rec.autos\", \"rec.autos\", \"rec.autos\", \"rec.autos\", \"rec.autos\", \"rec.autos\", \"rec.autos\", \"rec.autos\", \"rec.autos\", \"rec.autos\", \"rec.autos\", \"rec.autos\", \"rec.autos\", \"rec.autos\", \"rec.autos\", \"rec.autos\", \"rec.autos\", \"rec.autos\", \"rec.autos\", \"rec.autos\", \"rec.autos\", \"rec.autos\", \"rec.autos\", \"rec.autos\", \"rec.autos\", \"rec.autos\", \"rec.autos\", \"rec.autos\", \"rec.autos\", \"rec.autos\", \"rec.autos\", \"rec.autos\", \"rec.autos\", \"rec.autos\", \"rec.autos\", \"rec.autos\"], \"y0\": \" \", \"yaxis\": \"y\"}, {\"alignmentgroup\": \"True\", \"hoverlabel\": {\"namelength\": 0}, \"hovertemplate\": \"title=%{y}<br>text_size=%{x}\", \"legendgroup\": \"title=soc.religion.christian\", \"marker\": {\"color\": \"#EF553B\"}, \"name\": \"title=soc.religion.christian\", \"notched\": false, \"offsetgroup\": \"title=soc.religion.christian\", \"orientation\": \"h\", \"showlegend\": true, \"type\": \"box\", \"x\": [357, 157, 413, 156, 105, 119, 53, 205, 225, 787, 677, 419, 117, 54, 113, 159, 1379, 17, 205, 6, 1554, 175, 64, 74, 19, 158, 217, 15, 729, 147, 167, 191, 1, 795, 223, 133, 165, 732, 544, 55, 89, 735, 653, 222, 341, 31, 185, 42, 878, 102, 75, 121, 219, 317, 161, 726, 249, 208, 179, 57, 142, 239, 139, 57, 461, 103, 696, 203, 26, 169, 124, 122, 142, 75, 221, 268, 1692, 397, 357, 67, 38, 59, 20, 201, 322, 692, 97, 353, 225, 251, 191, 18, 1352, 44, 102, 131, 113, 102, 823, 424, 123, 122, 265, 85, 221, 97, 134, 153, 68, 1, 78, 178, 667, 29, 58, 534, 418, 120, 1, 634, 139, 1416, 286, 311, 244, 163, 304, 168, 281, 45, 206, 72, 49, 576, 99, 139, 137, 958, 99, 215, 174, 359, 375, 142, 385, 553, 4, 164, 223, 223, 328, 196, 385, 580, 119, 649, 211, 88, 43, 260, 510, 52, 176, 299, 803, 2, 272, 115, 113, 479, 189, 169, 17, 68, 121, 412, 1059, 1, 130, 134, 63, 1141, 410, 72, 6, 113, 154, 171, 463, 14, 414, 430, 253, 137, 131, 324, 147, 395, 373, 378, 195, 272, 27, 131, 399, 270, 173, 34, 235, 176, 138, 847, 441, 2292, 357, 153, 80, 375, 79, 1268, 119, 118, 410, 243, 160, 229, 588, 433, 181, 59, 227, 155, 377, 14, 227, 151, 58, 231, 412, 374, 33, 73, 985, 364, 295, 63, 1, 427, 598, 67, 139, 173, 1, 143, 221, 171, 84, 178, 86, 174, 137, 33, 53, 60, 363, 1128, 582, 205, 195, 354, 888, 499, 124, 1945, 753, 105, 62, 1563, 53, 207, 3, 26, 432, 412, 79, 380, 1470, 5921, 124, 315, 62, 175, 793, 1197, 109, 38, 358, 217, 106, 415, 278, 841, 321, 269, 12, 715, 91, 284, 249, 30, 2750, 357, 286, 90, 219, 82, 984, 465, 677, 312, 223, 170, 512, 59, 192, 19, 128, 138, 101, 93, 492, 489, 63, 113, 14, 383, 111, 982, 135, 353, 105, 274, 60, 18, 182, 358, 158, 58, 33, 45, 111, 25, 133, 704, 55, 44, 176, 379, 24, 1, 294, 154, 43, 8, 3079, 1450, 454, 862, 10, 66, 40, 222, 208, 52, 129, 241, 37, 543, 918, 419, 22, 106, 111, 151, 1040, 109, 48, 14, 23, 110, 900, 223, 506, 49, 114, 413, 36, 103, 851, 213, 300, 122, 13, 25, 537, 202, 13, 96, 93, 158, 1939, 85, 363, 800, 566, 56, 475, 212, 68, 1300, 49, 139, 15, 251, 116, 325, 100, 247, 393, 173, 57, 37, 509, 125, 69, 131, 510, 352, 228, 166, 295, 538, 60, 66, 318, 52, 264, 105, 781, 1045, 53, 57, 87, 18, 250, 165, 16, 1085, 131, 73, 318, 1595, 181, 40, 177, 452, 67, 395, 435, 197, 99, 111, 38, 72, 123, 117, 348, 40, 73, 1426, 601, 154, 122, 402, 1289, 127, 191, 317, 32, 61, 56, 37, 121, 86, 223, 161, 152, 129, 294, 99, 326, 44, 458, 211, 251, 115, 183, 717, 423, 201, 465, 214, 16, 130, 102, 217, 336, 1255, 474, 893, 136, 182, 147, 303, 364, 131, 164, 337, 182, 203, 400, 159, 131, 70, 1068, 1924, 308, 290, 260, 77, 40, 45, 287, 384, 154, 198, 794, 183, 86, 322, 39, 202, 30, 89, 1455, 326, 255, 396, 673, 112, 105, 646, 68, 376, 229, 226, 21, 460, 1389, 102, 266, 132, 581, 326, 85, 269, 718, 73, 297, 42, 628, 72, 563, 29, 230, 469, 23, 392, 177, 289, 618, 70, 512, 85, 48, 69, 153, 132, 437], \"x0\": \" \", \"xaxis\": \"x\", \"y\": [\"soc.religion.christian\", \"soc.religion.christian\", \"soc.religion.christian\", \"soc.religion.christian\", \"soc.religion.christian\", \"soc.religion.christian\", \"soc.religion.christian\", \"soc.religion.christian\", \"soc.religion.christian\", \"soc.religion.christian\", \"soc.religion.christian\", \"soc.religion.christian\", \"soc.religion.christian\", \"soc.religion.christian\", \"soc.religion.christian\", \"soc.religion.christian\", \"soc.religion.christian\", \"soc.religion.christian\", \"soc.religion.christian\", \"soc.religion.christian\", \"soc.religion.christian\", \"soc.religion.christian\", \"soc.religion.christian\", \"soc.religion.christian\", \"soc.religion.christian\", \"soc.religion.christian\", \"soc.religion.christian\", \"soc.religion.christian\", \"soc.religion.christian\", \"soc.religion.christian\", \"soc.religion.christian\", \"soc.religion.christian\", \"soc.religion.christian\", \"soc.religion.christian\", \"soc.religion.christian\", \"soc.religion.christian\", \"soc.religion.christian\", \"soc.religion.christian\", \"soc.religion.christian\", \"soc.religion.christian\", \"soc.religion.christian\", \"soc.religion.christian\", \"soc.religion.christian\", \"soc.religion.christian\", \"soc.religion.christian\", \"soc.religion.christian\", \"soc.religion.christian\", \"soc.religion.christian\", \"soc.religion.christian\", \"soc.religion.christian\", \"soc.religion.christian\", \"soc.religion.christian\", \"soc.religion.christian\", \"soc.religion.christian\", \"soc.religion.christian\", \"soc.religion.christian\", \"soc.religion.christian\", \"soc.religion.christian\", \"soc.religion.christian\", \"soc.religion.christian\", \"soc.religion.christian\", \"soc.religion.christian\", \"soc.religion.christian\", \"soc.religion.christian\", \"soc.religion.christian\", \"soc.religion.christian\", \"soc.religion.christian\", \"soc.religion.christian\", \"soc.religion.christian\", \"soc.religion.christian\", \"soc.religion.christian\", \"soc.religion.christian\", \"soc.religion.christian\", \"soc.religion.christian\", \"soc.religion.christian\", \"soc.religion.christian\", \"soc.religion.christian\", \"soc.religion.christian\", \"soc.religion.christian\", \"soc.religion.christian\", \"soc.religion.christian\", \"soc.religion.christian\", \"soc.religion.christian\", \"soc.religion.christian\", \"soc.religion.christian\", \"soc.religion.christian\", \"soc.religion.christian\", \"soc.religion.christian\", \"soc.religion.christian\", \"soc.religion.christian\", \"soc.religion.christian\", \"soc.religion.christian\", \"soc.religion.christian\", \"soc.religion.christian\", \"soc.religion.christian\", \"soc.religion.christian\", \"soc.religion.christian\", \"soc.religion.christian\", \"soc.religion.christian\", \"soc.religion.christian\", \"soc.religion.christian\", \"soc.religion.christian\", \"soc.religion.christian\", \"soc.religion.christian\", \"soc.religion.christian\", \"soc.religion.christian\", \"soc.religion.christian\", \"soc.religion.christian\", \"soc.religion.christian\", \"soc.religion.christian\", \"soc.religion.christian\", \"soc.religion.christian\", \"soc.religion.christian\", \"soc.religion.christian\", \"soc.religion.christian\", \"soc.religion.christian\", \"soc.religion.christian\", \"soc.religion.christian\", \"soc.religion.christian\", \"soc.religion.christian\", \"soc.religion.christian\", \"soc.religion.christian\", \"soc.religion.christian\", \"soc.religion.christian\", \"soc.religion.christian\", \"soc.religion.christian\", \"soc.religion.christian\", \"soc.religion.christian\", \"soc.religion.christian\", \"soc.religion.christian\", \"soc.religion.christian\", \"soc.religion.christian\", \"soc.religion.christian\", \"soc.religion.christian\", \"soc.religion.christian\", \"soc.religion.christian\", \"soc.religion.christian\", \"soc.religion.christian\", \"soc.religion.christian\", \"soc.religion.christian\", \"soc.religion.christian\", \"soc.religion.christian\", \"soc.religion.christian\", \"soc.religion.christian\", \"soc.religion.christian\", \"soc.religion.christian\", \"soc.religion.christian\", \"soc.religion.christian\", \"soc.religion.christian\", \"soc.religion.christian\", \"soc.religion.christian\", \"soc.religion.christian\", \"soc.religion.christian\", \"soc.religion.christian\", \"soc.religion.christian\", \"soc.religion.christian\", \"soc.religion.christian\", \"soc.religion.christian\", \"soc.religion.christian\", \"soc.religion.christian\", \"soc.religion.christian\", \"soc.religion.christian\", \"soc.religion.christian\", \"soc.religion.christian\", \"soc.religion.christian\", \"soc.religion.christian\", \"soc.religion.christian\", \"soc.religion.christian\", \"soc.religion.christian\", \"soc.religion.christian\", \"soc.religion.christian\", \"soc.religion.christian\", \"soc.religion.christian\", \"soc.religion.christian\", \"soc.religion.christian\", \"soc.religion.christian\", \"soc.religion.christian\", \"soc.religion.christian\", \"soc.religion.christian\", \"soc.religion.christian\", \"soc.religion.christian\", \"soc.religion.christian\", \"soc.religion.christian\", \"soc.religion.christian\", \"soc.religion.christian\", \"soc.religion.christian\", \"soc.religion.christian\", \"soc.religion.christian\", \"soc.religion.christian\", \"soc.religion.christian\", \"soc.religion.christian\", \"soc.religion.christian\", \"soc.religion.christian\", \"soc.religion.christian\", \"soc.religion.christian\", \"soc.religion.christian\", \"soc.religion.christian\", \"soc.religion.christian\", \"soc.religion.christian\", \"soc.religion.christian\", \"soc.religion.christian\", \"soc.religion.christian\", \"soc.religion.christian\", \"soc.religion.christian\", \"soc.religion.christian\", \"soc.religion.christian\", \"soc.religion.christian\", \"soc.religion.christian\", \"soc.religion.christian\", \"soc.religion.christian\", \"soc.religion.christian\", \"soc.religion.christian\", \"soc.religion.christian\", \"soc.religion.christian\", \"soc.religion.christian\", \"soc.religion.christian\", \"soc.religion.christian\", \"soc.religion.christian\", \"soc.religion.christian\", \"soc.religion.christian\", \"soc.religion.christian\", \"soc.religion.christian\", \"soc.religion.christian\", \"soc.religion.christian\", \"soc.religion.christian\", \"soc.religion.christian\", \"soc.religion.christian\", \"soc.religion.christian\", \"soc.religion.christian\", \"soc.religion.christian\", \"soc.religion.christian\", \"soc.religion.christian\", \"soc.religion.christian\", \"soc.religion.christian\", \"soc.religion.christian\", \"soc.religion.christian\", \"soc.religion.christian\", \"soc.religion.christian\", \"soc.religion.christian\", \"soc.religion.christian\", \"soc.religion.christian\", \"soc.religion.christian\", \"soc.religion.christian\", \"soc.religion.christian\", \"soc.religion.christian\", \"soc.religion.christian\", \"soc.religion.christian\", \"soc.religion.christian\", \"soc.religion.christian\", \"soc.religion.christian\", \"soc.religion.christian\", \"soc.religion.christian\", \"soc.religion.christian\", \"soc.religion.christian\", \"soc.religion.christian\", \"soc.religion.christian\", \"soc.religion.christian\", \"soc.religion.christian\", \"soc.religion.christian\", \"soc.religion.christian\", \"soc.religion.christian\", \"soc.religion.christian\", \"soc.religion.christian\", \"soc.religion.christian\", \"soc.religion.christian\", \"soc.religion.christian\", \"soc.religion.christian\", \"soc.religion.christian\", \"soc.religion.christian\", \"soc.religion.christian\", \"soc.religion.christian\", \"soc.religion.christian\", \"soc.religion.christian\", \"soc.religion.christian\", \"soc.religion.christian\", \"soc.religion.christian\", \"soc.religion.christian\", \"soc.religion.christian\", \"soc.religion.christian\", \"soc.religion.christian\", \"soc.religion.christian\", \"soc.religion.christian\", \"soc.religion.christian\", \"soc.religion.christian\", \"soc.religion.christian\", \"soc.religion.christian\", \"soc.religion.christian\", \"soc.religion.christian\", \"soc.religion.christian\", \"soc.religion.christian\", \"soc.religion.christian\", \"soc.religion.christian\", \"soc.religion.christian\", \"soc.religion.christian\", \"soc.religion.christian\", \"soc.religion.christian\", \"soc.religion.christian\", \"soc.religion.christian\", \"soc.religion.christian\", \"soc.religion.christian\", \"soc.religion.christian\", \"soc.religion.christian\", \"soc.religion.christian\", \"soc.religion.christian\", \"soc.religion.christian\", \"soc.religion.christian\", \"soc.religion.christian\", \"soc.religion.christian\", \"soc.religion.christian\", \"soc.religion.christian\", \"soc.religion.christian\", \"soc.religion.christian\", \"soc.religion.christian\", \"soc.religion.christian\", \"soc.religion.christian\", \"soc.religion.christian\", \"soc.religion.christian\", \"soc.religion.christian\", \"soc.religion.christian\", \"soc.religion.christian\", \"soc.religion.christian\", \"soc.religion.christian\", \"soc.religion.christian\", \"soc.religion.christian\", \"soc.religion.christian\", \"soc.religion.christian\", \"soc.religion.christian\", \"soc.religion.christian\", \"soc.religion.christian\", \"soc.religion.christian\", \"soc.religion.christian\", \"soc.religion.christian\", \"soc.religion.christian\", \"soc.religion.christian\", \"soc.religion.christian\", \"soc.religion.christian\", \"soc.religion.christian\", \"soc.religion.christian\", \"soc.religion.christian\", \"soc.religion.christian\", \"soc.religion.christian\", \"soc.religion.christian\", \"soc.religion.christian\", \"soc.religion.christian\", \"soc.religion.christian\", \"soc.religion.christian\", \"soc.religion.christian\", \"soc.religion.christian\", \"soc.religion.christian\", \"soc.religion.christian\", \"soc.religion.christian\", \"soc.religion.christian\", \"soc.religion.christian\", \"soc.religion.christian\", \"soc.religion.christian\", \"soc.religion.christian\", \"soc.religion.christian\", \"soc.religion.christian\", \"soc.religion.christian\", \"soc.religion.christian\", \"soc.religion.christian\", \"soc.religion.christian\", \"soc.religion.christian\", \"soc.religion.christian\", \"soc.religion.christian\", \"soc.religion.christian\", \"soc.religion.christian\", \"soc.religion.christian\", \"soc.religion.christian\", \"soc.religion.christian\", \"soc.religion.christian\", \"soc.religion.christian\", \"soc.religion.christian\", \"soc.religion.christian\", \"soc.religion.christian\", \"soc.religion.christian\", \"soc.religion.christian\", \"soc.religion.christian\", \"soc.religion.christian\", \"soc.religion.christian\", \"soc.religion.christian\", \"soc.religion.christian\", \"soc.religion.christian\", \"soc.religion.christian\", \"soc.religion.christian\", \"soc.religion.christian\", \"soc.religion.christian\", \"soc.religion.christian\", \"soc.religion.christian\", \"soc.religion.christian\", \"soc.religion.christian\", \"soc.religion.christian\", \"soc.religion.christian\", \"soc.religion.christian\", \"soc.religion.christian\", \"soc.religion.christian\", \"soc.religion.christian\", \"soc.religion.christian\", \"soc.religion.christian\", \"soc.religion.christian\", \"soc.religion.christian\", \"soc.religion.christian\", \"soc.religion.christian\", \"soc.religion.christian\", \"soc.religion.christian\", \"soc.religion.christian\", \"soc.religion.christian\", \"soc.religion.christian\", \"soc.religion.christian\", \"soc.religion.christian\", \"soc.religion.christian\", \"soc.religion.christian\", \"soc.religion.christian\", \"soc.religion.christian\", \"soc.religion.christian\", \"soc.religion.christian\", \"soc.religion.christian\", \"soc.religion.christian\", \"soc.religion.christian\", \"soc.religion.christian\", \"soc.religion.christian\", \"soc.religion.christian\", \"soc.religion.christian\", \"soc.religion.christian\", \"soc.religion.christian\", \"soc.religion.christian\", \"soc.religion.christian\", \"soc.religion.christian\", \"soc.religion.christian\", \"soc.religion.christian\", \"soc.religion.christian\", \"soc.religion.christian\", \"soc.religion.christian\", \"soc.religion.christian\", \"soc.religion.christian\", \"soc.religion.christian\", \"soc.religion.christian\", \"soc.religion.christian\", \"soc.religion.christian\", \"soc.religion.christian\", \"soc.religion.christian\", \"soc.religion.christian\", \"soc.religion.christian\", \"soc.religion.christian\", \"soc.religion.christian\", \"soc.religion.christian\", \"soc.religion.christian\", \"soc.religion.christian\", \"soc.religion.christian\", \"soc.religion.christian\", \"soc.religion.christian\", \"soc.religion.christian\", \"soc.religion.christian\", \"soc.religion.christian\", \"soc.religion.christian\", \"soc.religion.christian\", \"soc.religion.christian\", \"soc.religion.christian\", \"soc.religion.christian\", \"soc.religion.christian\", \"soc.religion.christian\", \"soc.religion.christian\", \"soc.religion.christian\", \"soc.religion.christian\", \"soc.religion.christian\", \"soc.religion.christian\", \"soc.religion.christian\", \"soc.religion.christian\", \"soc.religion.christian\", \"soc.religion.christian\", \"soc.religion.christian\", \"soc.religion.christian\", \"soc.religion.christian\", \"soc.religion.christian\", \"soc.religion.christian\", \"soc.religion.christian\", \"soc.religion.christian\", \"soc.religion.christian\", \"soc.religion.christian\", \"soc.religion.christian\", \"soc.religion.christian\", \"soc.religion.christian\", \"soc.religion.christian\", \"soc.religion.christian\", \"soc.religion.christian\", \"soc.religion.christian\", \"soc.religion.christian\", \"soc.religion.christian\", \"soc.religion.christian\", \"soc.religion.christian\", \"soc.religion.christian\", \"soc.religion.christian\", \"soc.religion.christian\", \"soc.religion.christian\", \"soc.religion.christian\", \"soc.religion.christian\", \"soc.religion.christian\", \"soc.religion.christian\", \"soc.religion.christian\", \"soc.religion.christian\", \"soc.religion.christian\", \"soc.religion.christian\", \"soc.religion.christian\", \"soc.religion.christian\", \"soc.religion.christian\", \"soc.religion.christian\", \"soc.religion.christian\", \"soc.religion.christian\", \"soc.religion.christian\", \"soc.religion.christian\", \"soc.religion.christian\", \"soc.religion.christian\", \"soc.religion.christian\", \"soc.religion.christian\", \"soc.religion.christian\", \"soc.religion.christian\", \"soc.religion.christian\", \"soc.religion.christian\", \"soc.religion.christian\", \"soc.religion.christian\", \"soc.religion.christian\", \"soc.religion.christian\", \"soc.religion.christian\", \"soc.religion.christian\", \"soc.religion.christian\", \"soc.religion.christian\", \"soc.religion.christian\", \"soc.religion.christian\", \"soc.religion.christian\", \"soc.religion.christian\", \"soc.religion.christian\", \"soc.religion.christian\", \"soc.religion.christian\", \"soc.religion.christian\", \"soc.religion.christian\", \"soc.religion.christian\", \"soc.religion.christian\", \"soc.religion.christian\", \"soc.religion.christian\", \"soc.religion.christian\", \"soc.religion.christian\", \"soc.religion.christian\", \"soc.religion.christian\", \"soc.religion.christian\", \"soc.religion.christian\", \"soc.religion.christian\", \"soc.religion.christian\", \"soc.religion.christian\", \"soc.religion.christian\", \"soc.religion.christian\", \"soc.religion.christian\", \"soc.religion.christian\", \"soc.religion.christian\", \"soc.religion.christian\", \"soc.religion.christian\", \"soc.religion.christian\", \"soc.religion.christian\", \"soc.religion.christian\", \"soc.religion.christian\", \"soc.religion.christian\", \"soc.religion.christian\", \"soc.religion.christian\", \"soc.religion.christian\", \"soc.religion.christian\", \"soc.religion.christian\", \"soc.religion.christian\", \"soc.religion.christian\", \"soc.religion.christian\", \"soc.religion.christian\", \"soc.religion.christian\", \"soc.religion.christian\", \"soc.religion.christian\", \"soc.religion.christian\", \"soc.religion.christian\", \"soc.religion.christian\", \"soc.religion.christian\", \"soc.religion.christian\", \"soc.religion.christian\", \"soc.religion.christian\", \"soc.religion.christian\", \"soc.religion.christian\", \"soc.religion.christian\", \"soc.religion.christian\", \"soc.religion.christian\", \"soc.religion.christian\", \"soc.religion.christian\", \"soc.religion.christian\", \"soc.religion.christian\", \"soc.religion.christian\", \"soc.religion.christian\", \"soc.religion.christian\", \"soc.religion.christian\", \"soc.religion.christian\", \"soc.religion.christian\", \"soc.religion.christian\", \"soc.religion.christian\", \"soc.religion.christian\", \"soc.religion.christian\", \"soc.religion.christian\"], \"y0\": \" \", \"yaxis\": \"y\"}, {\"alignmentgroup\": \"True\", \"hoverlabel\": {\"namelength\": 0}, \"hovertemplate\": \"title=%{y}<br>text_size=%{x}\", \"legendgroup\": \"title=rec.sport.hockey\", \"marker\": {\"color\": \"#00cc96\"}, \"name\": \"title=rec.sport.hockey\", \"notched\": false, \"offsetgroup\": \"title=rec.sport.hockey\", \"orientation\": \"h\", \"showlegend\": true, \"type\": \"box\", \"x\": [90, 71, 23, 75, 44, 19, 24, 436, 137, 113, 40, 54, 53, 92, 63, 98, 42, 39, 150, 195, 1098, 187, 1, 168, 389, 1066, 7, 115, 3280, 3, 25, 70, 55, 85, 52, 78, 49, 21, 121, 44, 102, 287, 112, 4522, 97, 77, 275, 55, 6, 153, 30, 462, 435, 43, 39, 374, 61, 1, 200, 515, 410, 25, 1406, 193, 91, 37, 442, 76, 21, 108, 36, 181, 1, 63, 44, 63, 276, 576, 65, 39, 757, 21, 236, 164, 66, 15, 69, 141, 144, 61, 34, 88, 40, 635, 188, 182, 32, 61, 180, 259, 142, 1, 126, 9, 115, 42, 673, 210, 247, 143, 214, 182, 86, 44, 102, 38, 1988, 273, 103, 38, 76, 5, 1, 171, 164, 38, 188, 53, 145, 40, 66, 67, 83, 37, 420, 68, 53, 50, 132, 183, 206, 519, 234, 10, 91, 133, 181, 6, 92, 2801, 27, 14, 66, 66, 77, 171, 111, 11, 72, 56, 102, 1, 5, 57, 20, 114, 556, 294, 274, 71, 37, 1566, 149, 9, 78, 44, 24, 25, 59, 185, 240, 1047, 590, 90, 66, 21, 57, 279, 49, 32, 334, 2024, 62, 242, 65, 257, 120, 8, 60, 74, 38, 56, 34, 218, 25, 1, 70, 1267, 5, 554, 40, 65, 224, 787, 49, 49, 16, 86, 250, 440, 132, 65, 676, 135, 249, 45, 1717, 294, 76, 45, 50, 159, 141, 2665, 179, 174, 220, 45, 73, 6025, 1, 3582, 16, 15, 462, 106, 110, 58, 30, 181, 375, 63, 145, 13, 42, 52, 85, 45, 87, 55, 35, 776, 129, 212, 47, 147, 33, 81, 70, 111, 47, 61, 120, 233, 24, 1, 85, 43, 1076, 35, 134, 802, 38, 117, 100, 125, 230, 26, 3, 41, 1586, 54, 31, 596, 2310, 58, 49, 251, 197, 166, 110, 484, 116, 52, 14, 169, 61, 47, 41, 144, 128, 181, 191, 58, 31, 45, 1, 86, 71, 88, 283, 91, 102, 99, 266, 297, 53, 615, 38, 133, 6, 47, 123, 87, 25, 14, 65, 44, 80, 213, 1, 1375, 421, 147, 153, 161, 110, 30, 562, 1142, 103, 1125, 43, 116, 6, 50, 236, 273, 93, 826, 3, 735, 1586, 200, 78, 123, 150, 746, 222, 150, 92, 13, 73, 5, 682, 131, 99, 14, 18, 266, 103, 21, 157, 3559, 394, 790, 1300, 75, 31, 59, 117, 11, 1727, 96, 87, 1819, 26, 62, 52, 31, 181, 273, 276, 31, 65, 38, 43, 91, 299, 100, 422, 269, 85, 155, 173, 5727, 143, 103, 73, 15, 64, 187, 123, 119, 136, 66, 1, 257, 61, 140, 90, 76, 97, 155, 37, 213, 590, 95, 316, 27, 77, 159, 104, 29, 435, 198, 429, 429, 61, 45, 13, 54, 100, 2742, 60, 73, 38, 272, 343, 6980, 1074, 460, 23, 146, 21, 261, 39, 10, 1, 108, 109, 30, 198, 51, 5, 298, 240, 41, 13, 27, 262, 61, 87, 135, 83, 21090, 18, 144, 538, 336, 259, 280, 105, 230, 18, 78, 109, 53, 136, 92, 3824, 54, 236, 381, 158, 622, 260, 62, 33, 113, 364, 19589, 670, 54, 94, 1222, 144, 93, 369, 105, 248, 343, 200, 139, 1011, 13, 24, 406, 84, 110, 116, 48, 151, 63, 537, 130, 68, 23, 49, 123, 68, 166, 31, 101, 37, 263, 227, 57, 83, 46, 13, 1, 45, 69, 170, 32, 50, 1, 10, 117, 1, 55, 96, 23, 353, 183, 89, 71, 3609, 31, 6933, 122, 345, 21, 300, 139, 5000, 481, 37, 323, 365, 78, 57, 25, 104, 20, 208, 258, 7, 46, 413, 88, 45, 54, 104, 23, 34, 120, 190, 183], \"x0\": \" \", \"xaxis\": \"x\", \"y\": [\"rec.sport.hockey\", \"rec.sport.hockey\", \"rec.sport.hockey\", \"rec.sport.hockey\", \"rec.sport.hockey\", \"rec.sport.hockey\", \"rec.sport.hockey\", \"rec.sport.hockey\", \"rec.sport.hockey\", \"rec.sport.hockey\", \"rec.sport.hockey\", \"rec.sport.hockey\", \"rec.sport.hockey\", \"rec.sport.hockey\", \"rec.sport.hockey\", \"rec.sport.hockey\", \"rec.sport.hockey\", \"rec.sport.hockey\", \"rec.sport.hockey\", \"rec.sport.hockey\", \"rec.sport.hockey\", \"rec.sport.hockey\", \"rec.sport.hockey\", \"rec.sport.hockey\", \"rec.sport.hockey\", \"rec.sport.hockey\", \"rec.sport.hockey\", \"rec.sport.hockey\", \"rec.sport.hockey\", \"rec.sport.hockey\", \"rec.sport.hockey\", \"rec.sport.hockey\", \"rec.sport.hockey\", \"rec.sport.hockey\", \"rec.sport.hockey\", \"rec.sport.hockey\", \"rec.sport.hockey\", \"rec.sport.hockey\", \"rec.sport.hockey\", \"rec.sport.hockey\", \"rec.sport.hockey\", \"rec.sport.hockey\", \"rec.sport.hockey\", \"rec.sport.hockey\", \"rec.sport.hockey\", \"rec.sport.hockey\", \"rec.sport.hockey\", \"rec.sport.hockey\", \"rec.sport.hockey\", \"rec.sport.hockey\", \"rec.sport.hockey\", \"rec.sport.hockey\", \"rec.sport.hockey\", \"rec.sport.hockey\", \"rec.sport.hockey\", \"rec.sport.hockey\", \"rec.sport.hockey\", \"rec.sport.hockey\", \"rec.sport.hockey\", \"rec.sport.hockey\", \"rec.sport.hockey\", \"rec.sport.hockey\", \"rec.sport.hockey\", \"rec.sport.hockey\", \"rec.sport.hockey\", \"rec.sport.hockey\", \"rec.sport.hockey\", \"rec.sport.hockey\", \"rec.sport.hockey\", \"rec.sport.hockey\", \"rec.sport.hockey\", \"rec.sport.hockey\", \"rec.sport.hockey\", \"rec.sport.hockey\", \"rec.sport.hockey\", \"rec.sport.hockey\", \"rec.sport.hockey\", \"rec.sport.hockey\", \"rec.sport.hockey\", \"rec.sport.hockey\", \"rec.sport.hockey\", \"rec.sport.hockey\", \"rec.sport.hockey\", \"rec.sport.hockey\", \"rec.sport.hockey\", \"rec.sport.hockey\", \"rec.sport.hockey\", \"rec.sport.hockey\", \"rec.sport.hockey\", \"rec.sport.hockey\", \"rec.sport.hockey\", \"rec.sport.hockey\", \"rec.sport.hockey\", \"rec.sport.hockey\", \"rec.sport.hockey\", \"rec.sport.hockey\", \"rec.sport.hockey\", \"rec.sport.hockey\", \"rec.sport.hockey\", \"rec.sport.hockey\", \"rec.sport.hockey\", \"rec.sport.hockey\", \"rec.sport.hockey\", \"rec.sport.hockey\", \"rec.sport.hockey\", \"rec.sport.hockey\", \"rec.sport.hockey\", \"rec.sport.hockey\", \"rec.sport.hockey\", \"rec.sport.hockey\", \"rec.sport.hockey\", \"rec.sport.hockey\", \"rec.sport.hockey\", \"rec.sport.hockey\", \"rec.sport.hockey\", \"rec.sport.hockey\", \"rec.sport.hockey\", \"rec.sport.hockey\", \"rec.sport.hockey\", \"rec.sport.hockey\", \"rec.sport.hockey\", \"rec.sport.hockey\", \"rec.sport.hockey\", \"rec.sport.hockey\", \"rec.sport.hockey\", \"rec.sport.hockey\", \"rec.sport.hockey\", \"rec.sport.hockey\", \"rec.sport.hockey\", \"rec.sport.hockey\", \"rec.sport.hockey\", \"rec.sport.hockey\", \"rec.sport.hockey\", \"rec.sport.hockey\", \"rec.sport.hockey\", \"rec.sport.hockey\", \"rec.sport.hockey\", \"rec.sport.hockey\", \"rec.sport.hockey\", \"rec.sport.hockey\", \"rec.sport.hockey\", \"rec.sport.hockey\", \"rec.sport.hockey\", \"rec.sport.hockey\", \"rec.sport.hockey\", \"rec.sport.hockey\", \"rec.sport.hockey\", \"rec.sport.hockey\", \"rec.sport.hockey\", \"rec.sport.hockey\", \"rec.sport.hockey\", \"rec.sport.hockey\", \"rec.sport.hockey\", \"rec.sport.hockey\", \"rec.sport.hockey\", \"rec.sport.hockey\", \"rec.sport.hockey\", \"rec.sport.hockey\", \"rec.sport.hockey\", \"rec.sport.hockey\", \"rec.sport.hockey\", \"rec.sport.hockey\", \"rec.sport.hockey\", \"rec.sport.hockey\", \"rec.sport.hockey\", \"rec.sport.hockey\", \"rec.sport.hockey\", \"rec.sport.hockey\", \"rec.sport.hockey\", \"rec.sport.hockey\", \"rec.sport.hockey\", \"rec.sport.hockey\", \"rec.sport.hockey\", \"rec.sport.hockey\", \"rec.sport.hockey\", \"rec.sport.hockey\", \"rec.sport.hockey\", \"rec.sport.hockey\", \"rec.sport.hockey\", \"rec.sport.hockey\", \"rec.sport.hockey\", \"rec.sport.hockey\", \"rec.sport.hockey\", \"rec.sport.hockey\", \"rec.sport.hockey\", \"rec.sport.hockey\", \"rec.sport.hockey\", \"rec.sport.hockey\", \"rec.sport.hockey\", \"rec.sport.hockey\", \"rec.sport.hockey\", \"rec.sport.hockey\", \"rec.sport.hockey\", \"rec.sport.hockey\", \"rec.sport.hockey\", \"rec.sport.hockey\", \"rec.sport.hockey\", \"rec.sport.hockey\", \"rec.sport.hockey\", \"rec.sport.hockey\", \"rec.sport.hockey\", \"rec.sport.hockey\", \"rec.sport.hockey\", \"rec.sport.hockey\", \"rec.sport.hockey\", \"rec.sport.hockey\", \"rec.sport.hockey\", \"rec.sport.hockey\", \"rec.sport.hockey\", \"rec.sport.hockey\", \"rec.sport.hockey\", \"rec.sport.hockey\", \"rec.sport.hockey\", \"rec.sport.hockey\", \"rec.sport.hockey\", \"rec.sport.hockey\", \"rec.sport.hockey\", \"rec.sport.hockey\", \"rec.sport.hockey\", \"rec.sport.hockey\", \"rec.sport.hockey\", \"rec.sport.hockey\", \"rec.sport.hockey\", \"rec.sport.hockey\", \"rec.sport.hockey\", \"rec.sport.hockey\", \"rec.sport.hockey\", \"rec.sport.hockey\", \"rec.sport.hockey\", \"rec.sport.hockey\", \"rec.sport.hockey\", \"rec.sport.hockey\", \"rec.sport.hockey\", \"rec.sport.hockey\", \"rec.sport.hockey\", \"rec.sport.hockey\", \"rec.sport.hockey\", \"rec.sport.hockey\", \"rec.sport.hockey\", \"rec.sport.hockey\", \"rec.sport.hockey\", \"rec.sport.hockey\", \"rec.sport.hockey\", \"rec.sport.hockey\", \"rec.sport.hockey\", \"rec.sport.hockey\", \"rec.sport.hockey\", \"rec.sport.hockey\", \"rec.sport.hockey\", \"rec.sport.hockey\", \"rec.sport.hockey\", \"rec.sport.hockey\", \"rec.sport.hockey\", \"rec.sport.hockey\", \"rec.sport.hockey\", \"rec.sport.hockey\", \"rec.sport.hockey\", \"rec.sport.hockey\", \"rec.sport.hockey\", \"rec.sport.hockey\", \"rec.sport.hockey\", \"rec.sport.hockey\", \"rec.sport.hockey\", \"rec.sport.hockey\", \"rec.sport.hockey\", \"rec.sport.hockey\", \"rec.sport.hockey\", \"rec.sport.hockey\", \"rec.sport.hockey\", \"rec.sport.hockey\", \"rec.sport.hockey\", \"rec.sport.hockey\", \"rec.sport.hockey\", \"rec.sport.hockey\", \"rec.sport.hockey\", \"rec.sport.hockey\", \"rec.sport.hockey\", \"rec.sport.hockey\", \"rec.sport.hockey\", \"rec.sport.hockey\", \"rec.sport.hockey\", \"rec.sport.hockey\", \"rec.sport.hockey\", \"rec.sport.hockey\", \"rec.sport.hockey\", \"rec.sport.hockey\", \"rec.sport.hockey\", \"rec.sport.hockey\", \"rec.sport.hockey\", \"rec.sport.hockey\", \"rec.sport.hockey\", \"rec.sport.hockey\", \"rec.sport.hockey\", \"rec.sport.hockey\", \"rec.sport.hockey\", \"rec.sport.hockey\", \"rec.sport.hockey\", \"rec.sport.hockey\", \"rec.sport.hockey\", \"rec.sport.hockey\", \"rec.sport.hockey\", \"rec.sport.hockey\", \"rec.sport.hockey\", \"rec.sport.hockey\", \"rec.sport.hockey\", \"rec.sport.hockey\", \"rec.sport.hockey\", \"rec.sport.hockey\", \"rec.sport.hockey\", \"rec.sport.hockey\", \"rec.sport.hockey\", \"rec.sport.hockey\", \"rec.sport.hockey\", \"rec.sport.hockey\", \"rec.sport.hockey\", \"rec.sport.hockey\", \"rec.sport.hockey\", \"rec.sport.hockey\", \"rec.sport.hockey\", \"rec.sport.hockey\", \"rec.sport.hockey\", \"rec.sport.hockey\", \"rec.sport.hockey\", \"rec.sport.hockey\", \"rec.sport.hockey\", \"rec.sport.hockey\", \"rec.sport.hockey\", \"rec.sport.hockey\", \"rec.sport.hockey\", \"rec.sport.hockey\", \"rec.sport.hockey\", \"rec.sport.hockey\", \"rec.sport.hockey\", \"rec.sport.hockey\", \"rec.sport.hockey\", \"rec.sport.hockey\", \"rec.sport.hockey\", \"rec.sport.hockey\", \"rec.sport.hockey\", \"rec.sport.hockey\", \"rec.sport.hockey\", \"rec.sport.hockey\", \"rec.sport.hockey\", \"rec.sport.hockey\", \"rec.sport.hockey\", \"rec.sport.hockey\", \"rec.sport.hockey\", \"rec.sport.hockey\", \"rec.sport.hockey\", \"rec.sport.hockey\", \"rec.sport.hockey\", \"rec.sport.hockey\", \"rec.sport.hockey\", \"rec.sport.hockey\", \"rec.sport.hockey\", \"rec.sport.hockey\", \"rec.sport.hockey\", \"rec.sport.hockey\", \"rec.sport.hockey\", \"rec.sport.hockey\", \"rec.sport.hockey\", \"rec.sport.hockey\", \"rec.sport.hockey\", \"rec.sport.hockey\", \"rec.sport.hockey\", \"rec.sport.hockey\", \"rec.sport.hockey\", \"rec.sport.hockey\", \"rec.sport.hockey\", \"rec.sport.hockey\", \"rec.sport.hockey\", \"rec.sport.hockey\", \"rec.sport.hockey\", \"rec.sport.hockey\", \"rec.sport.hockey\", \"rec.sport.hockey\", \"rec.sport.hockey\", \"rec.sport.hockey\", \"rec.sport.hockey\", \"rec.sport.hockey\", \"rec.sport.hockey\", \"rec.sport.hockey\", \"rec.sport.hockey\", \"rec.sport.hockey\", \"rec.sport.hockey\", \"rec.sport.hockey\", \"rec.sport.hockey\", \"rec.sport.hockey\", \"rec.sport.hockey\", \"rec.sport.hockey\", \"rec.sport.hockey\", \"rec.sport.hockey\", \"rec.sport.hockey\", \"rec.sport.hockey\", \"rec.sport.hockey\", \"rec.sport.hockey\", \"rec.sport.hockey\", \"rec.sport.hockey\", \"rec.sport.hockey\", \"rec.sport.hockey\", \"rec.sport.hockey\", \"rec.sport.hockey\", \"rec.sport.hockey\", \"rec.sport.hockey\", \"rec.sport.hockey\", \"rec.sport.hockey\", \"rec.sport.hockey\", \"rec.sport.hockey\", \"rec.sport.hockey\", \"rec.sport.hockey\", \"rec.sport.hockey\", \"rec.sport.hockey\", \"rec.sport.hockey\", \"rec.sport.hockey\", \"rec.sport.hockey\", \"rec.sport.hockey\", \"rec.sport.hockey\", \"rec.sport.hockey\", \"rec.sport.hockey\", \"rec.sport.hockey\", \"rec.sport.hockey\", \"rec.sport.hockey\", \"rec.sport.hockey\", \"rec.sport.hockey\", \"rec.sport.hockey\", \"rec.sport.hockey\", \"rec.sport.hockey\", \"rec.sport.hockey\", \"rec.sport.hockey\", \"rec.sport.hockey\", \"rec.sport.hockey\", \"rec.sport.hockey\", \"rec.sport.hockey\", \"rec.sport.hockey\", \"rec.sport.hockey\", \"rec.sport.hockey\", \"rec.sport.hockey\", \"rec.sport.hockey\", \"rec.sport.hockey\", \"rec.sport.hockey\", \"rec.sport.hockey\", \"rec.sport.hockey\", \"rec.sport.hockey\", \"rec.sport.hockey\", \"rec.sport.hockey\", \"rec.sport.hockey\", \"rec.sport.hockey\", \"rec.sport.hockey\", \"rec.sport.hockey\", \"rec.sport.hockey\", \"rec.sport.hockey\", \"rec.sport.hockey\", \"rec.sport.hockey\", \"rec.sport.hockey\", \"rec.sport.hockey\", \"rec.sport.hockey\", \"rec.sport.hockey\", \"rec.sport.hockey\", \"rec.sport.hockey\", \"rec.sport.hockey\", \"rec.sport.hockey\", \"rec.sport.hockey\", \"rec.sport.hockey\", \"rec.sport.hockey\", \"rec.sport.hockey\", \"rec.sport.hockey\", \"rec.sport.hockey\", \"rec.sport.hockey\", \"rec.sport.hockey\", \"rec.sport.hockey\", \"rec.sport.hockey\", \"rec.sport.hockey\", \"rec.sport.hockey\", \"rec.sport.hockey\", \"rec.sport.hockey\", \"rec.sport.hockey\", \"rec.sport.hockey\", \"rec.sport.hockey\", \"rec.sport.hockey\", \"rec.sport.hockey\", \"rec.sport.hockey\", \"rec.sport.hockey\", \"rec.sport.hockey\", \"rec.sport.hockey\", \"rec.sport.hockey\", \"rec.sport.hockey\", \"rec.sport.hockey\", \"rec.sport.hockey\", \"rec.sport.hockey\", \"rec.sport.hockey\", \"rec.sport.hockey\", \"rec.sport.hockey\", \"rec.sport.hockey\", \"rec.sport.hockey\", \"rec.sport.hockey\", \"rec.sport.hockey\", \"rec.sport.hockey\", \"rec.sport.hockey\", \"rec.sport.hockey\", \"rec.sport.hockey\", \"rec.sport.hockey\", \"rec.sport.hockey\", \"rec.sport.hockey\", \"rec.sport.hockey\", \"rec.sport.hockey\", \"rec.sport.hockey\", \"rec.sport.hockey\", \"rec.sport.hockey\", \"rec.sport.hockey\", \"rec.sport.hockey\", \"rec.sport.hockey\", \"rec.sport.hockey\", \"rec.sport.hockey\", \"rec.sport.hockey\", \"rec.sport.hockey\", \"rec.sport.hockey\", \"rec.sport.hockey\", \"rec.sport.hockey\", \"rec.sport.hockey\", \"rec.sport.hockey\", \"rec.sport.hockey\", \"rec.sport.hockey\", \"rec.sport.hockey\", \"rec.sport.hockey\", \"rec.sport.hockey\", \"rec.sport.hockey\", \"rec.sport.hockey\", \"rec.sport.hockey\", \"rec.sport.hockey\", \"rec.sport.hockey\", \"rec.sport.hockey\", \"rec.sport.hockey\", \"rec.sport.hockey\", \"rec.sport.hockey\", \"rec.sport.hockey\", \"rec.sport.hockey\", \"rec.sport.hockey\", \"rec.sport.hockey\", \"rec.sport.hockey\", \"rec.sport.hockey\", \"rec.sport.hockey\", \"rec.sport.hockey\", \"rec.sport.hockey\", \"rec.sport.hockey\", \"rec.sport.hockey\", \"rec.sport.hockey\", \"rec.sport.hockey\", \"rec.sport.hockey\", \"rec.sport.hockey\", \"rec.sport.hockey\", \"rec.sport.hockey\", \"rec.sport.hockey\", \"rec.sport.hockey\", \"rec.sport.hockey\", \"rec.sport.hockey\", \"rec.sport.hockey\", \"rec.sport.hockey\", \"rec.sport.hockey\", \"rec.sport.hockey\", \"rec.sport.hockey\", \"rec.sport.hockey\", \"rec.sport.hockey\", \"rec.sport.hockey\", \"rec.sport.hockey\", \"rec.sport.hockey\", \"rec.sport.hockey\", \"rec.sport.hockey\", \"rec.sport.hockey\", \"rec.sport.hockey\", \"rec.sport.hockey\", \"rec.sport.hockey\", \"rec.sport.hockey\", \"rec.sport.hockey\", \"rec.sport.hockey\", \"rec.sport.hockey\", \"rec.sport.hockey\", \"rec.sport.hockey\", \"rec.sport.hockey\", \"rec.sport.hockey\", \"rec.sport.hockey\", \"rec.sport.hockey\", \"rec.sport.hockey\", \"rec.sport.hockey\", \"rec.sport.hockey\", \"rec.sport.hockey\", \"rec.sport.hockey\", \"rec.sport.hockey\", \"rec.sport.hockey\", \"rec.sport.hockey\", \"rec.sport.hockey\", \"rec.sport.hockey\", \"rec.sport.hockey\", \"rec.sport.hockey\", \"rec.sport.hockey\", \"rec.sport.hockey\", \"rec.sport.hockey\", \"rec.sport.hockey\", \"rec.sport.hockey\", \"rec.sport.hockey\", \"rec.sport.hockey\"], \"y0\": \" \", \"yaxis\": \"y\"}],\n",
              "                        {\"boxmode\": \"group\", \"legend\": {\"tracegroupgap\": 0}, \"margin\": {\"t\": 60}, \"template\": {\"data\": {\"bar\": [{\"error_x\": {\"color\": \"#2a3f5f\"}, \"error_y\": {\"color\": \"#2a3f5f\"}, \"marker\": {\"line\": {\"color\": \"#E5ECF6\", \"width\": 0.5}}, \"type\": \"bar\"}], \"barpolar\": [{\"marker\": {\"line\": {\"color\": \"#E5ECF6\", \"width\": 0.5}}, \"type\": \"barpolar\"}], \"carpet\": [{\"aaxis\": {\"endlinecolor\": \"#2a3f5f\", \"gridcolor\": \"white\", \"linecolor\": \"white\", \"minorgridcolor\": \"white\", \"startlinecolor\": \"#2a3f5f\"}, \"baxis\": {\"endlinecolor\": \"#2a3f5f\", \"gridcolor\": \"white\", \"linecolor\": \"white\", \"minorgridcolor\": \"white\", \"startlinecolor\": \"#2a3f5f\"}, \"type\": \"carpet\"}], \"choropleth\": [{\"colorbar\": {\"outlinewidth\": 0, \"ticks\": \"\"}, \"type\": \"choropleth\"}], \"contour\": [{\"colorbar\": {\"outlinewidth\": 0, \"ticks\": \"\"}, \"colorscale\": [[0.0, \"#0d0887\"], [0.1111111111111111, \"#46039f\"], [0.2222222222222222, \"#7201a8\"], [0.3333333333333333, \"#9c179e\"], [0.4444444444444444, \"#bd3786\"], [0.5555555555555556, \"#d8576b\"], [0.6666666666666666, \"#ed7953\"], [0.7777777777777778, \"#fb9f3a\"], [0.8888888888888888, \"#fdca26\"], [1.0, \"#f0f921\"]], \"type\": \"contour\"}], \"contourcarpet\": [{\"colorbar\": {\"outlinewidth\": 0, \"ticks\": \"\"}, \"type\": \"contourcarpet\"}], \"heatmap\": [{\"colorbar\": {\"outlinewidth\": 0, \"ticks\": \"\"}, \"colorscale\": [[0.0, \"#0d0887\"], [0.1111111111111111, \"#46039f\"], [0.2222222222222222, \"#7201a8\"], [0.3333333333333333, \"#9c179e\"], [0.4444444444444444, \"#bd3786\"], [0.5555555555555556, \"#d8576b\"], [0.6666666666666666, \"#ed7953\"], [0.7777777777777778, \"#fb9f3a\"], [0.8888888888888888, \"#fdca26\"], [1.0, \"#f0f921\"]], \"type\": \"heatmap\"}], \"heatmapgl\": [{\"colorbar\": {\"outlinewidth\": 0, \"ticks\": \"\"}, \"colorscale\": [[0.0, \"#0d0887\"], [0.1111111111111111, \"#46039f\"], [0.2222222222222222, \"#7201a8\"], [0.3333333333333333, \"#9c179e\"], [0.4444444444444444, \"#bd3786\"], [0.5555555555555556, \"#d8576b\"], [0.6666666666666666, \"#ed7953\"], [0.7777777777777778, \"#fb9f3a\"], [0.8888888888888888, \"#fdca26\"], [1.0, \"#f0f921\"]], \"type\": \"heatmapgl\"}], \"histogram\": [{\"marker\": {\"colorbar\": {\"outlinewidth\": 0, \"ticks\": \"\"}}, \"type\": \"histogram\"}], \"histogram2d\": [{\"colorbar\": {\"outlinewidth\": 0, \"ticks\": \"\"}, \"colorscale\": [[0.0, \"#0d0887\"], [0.1111111111111111, \"#46039f\"], [0.2222222222222222, \"#7201a8\"], [0.3333333333333333, \"#9c179e\"], [0.4444444444444444, \"#bd3786\"], [0.5555555555555556, \"#d8576b\"], [0.6666666666666666, \"#ed7953\"], [0.7777777777777778, \"#fb9f3a\"], [0.8888888888888888, \"#fdca26\"], [1.0, \"#f0f921\"]], \"type\": \"histogram2d\"}], \"histogram2dcontour\": [{\"colorbar\": {\"outlinewidth\": 0, \"ticks\": \"\"}, \"colorscale\": [[0.0, \"#0d0887\"], [0.1111111111111111, \"#46039f\"], [0.2222222222222222, \"#7201a8\"], [0.3333333333333333, \"#9c179e\"], [0.4444444444444444, \"#bd3786\"], [0.5555555555555556, \"#d8576b\"], [0.6666666666666666, \"#ed7953\"], [0.7777777777777778, \"#fb9f3a\"], [0.8888888888888888, \"#fdca26\"], [1.0, \"#f0f921\"]], \"type\": \"histogram2dcontour\"}], \"mesh3d\": [{\"colorbar\": {\"outlinewidth\": 0, \"ticks\": \"\"}, \"type\": \"mesh3d\"}], \"parcoords\": [{\"line\": {\"colorbar\": {\"outlinewidth\": 0, \"ticks\": \"\"}}, \"type\": \"parcoords\"}], \"pie\": [{\"automargin\": true, \"type\": \"pie\"}], \"scatter\": [{\"marker\": {\"colorbar\": {\"outlinewidth\": 0, \"ticks\": \"\"}}, \"type\": \"scatter\"}], \"scatter3d\": [{\"line\": {\"colorbar\": {\"outlinewidth\": 0, \"ticks\": \"\"}}, \"marker\": {\"colorbar\": {\"outlinewidth\": 0, \"ticks\": \"\"}}, \"type\": \"scatter3d\"}], \"scattercarpet\": [{\"marker\": {\"colorbar\": {\"outlinewidth\": 0, \"ticks\": \"\"}}, \"type\": \"scattercarpet\"}], \"scattergeo\": [{\"marker\": {\"colorbar\": {\"outlinewidth\": 0, \"ticks\": \"\"}}, \"type\": \"scattergeo\"}], \"scattergl\": [{\"marker\": {\"colorbar\": {\"outlinewidth\": 0, \"ticks\": \"\"}}, \"type\": \"scattergl\"}], \"scattermapbox\": [{\"marker\": {\"colorbar\": {\"outlinewidth\": 0, \"ticks\": \"\"}}, \"type\": \"scattermapbox\"}], \"scatterpolar\": [{\"marker\": {\"colorbar\": {\"outlinewidth\": 0, \"ticks\": \"\"}}, \"type\": \"scatterpolar\"}], \"scatterpolargl\": [{\"marker\": {\"colorbar\": {\"outlinewidth\": 0, \"ticks\": \"\"}}, \"type\": \"scatterpolargl\"}], \"scatterternary\": [{\"marker\": {\"colorbar\": {\"outlinewidth\": 0, \"ticks\": \"\"}}, \"type\": \"scatterternary\"}], \"surface\": [{\"colorbar\": {\"outlinewidth\": 0, \"ticks\": \"\"}, \"colorscale\": [[0.0, \"#0d0887\"], [0.1111111111111111, \"#46039f\"], [0.2222222222222222, \"#7201a8\"], [0.3333333333333333, \"#9c179e\"], [0.4444444444444444, \"#bd3786\"], [0.5555555555555556, \"#d8576b\"], [0.6666666666666666, \"#ed7953\"], [0.7777777777777778, \"#fb9f3a\"], [0.8888888888888888, \"#fdca26\"], [1.0, \"#f0f921\"]], \"type\": \"surface\"}], \"table\": [{\"cells\": {\"fill\": {\"color\": \"#EBF0F8\"}, \"line\": {\"color\": \"white\"}}, \"header\": {\"fill\": {\"color\": \"#C8D4E3\"}, \"line\": {\"color\": \"white\"}}, \"type\": \"table\"}]}, \"layout\": {\"annotationdefaults\": {\"arrowcolor\": \"#2a3f5f\", \"arrowhead\": 0, \"arrowwidth\": 1}, \"coloraxis\": {\"colorbar\": {\"outlinewidth\": 0, \"ticks\": \"\"}}, \"colorscale\": {\"diverging\": [[0, \"#8e0152\"], [0.1, \"#c51b7d\"], [0.2, \"#de77ae\"], [0.3, \"#f1b6da\"], [0.4, \"#fde0ef\"], [0.5, \"#f7f7f7\"], [0.6, \"#e6f5d0\"], [0.7, \"#b8e186\"], [0.8, \"#7fbc41\"], [0.9, \"#4d9221\"], [1, \"#276419\"]], \"sequential\": [[0.0, \"#0d0887\"], [0.1111111111111111, \"#46039f\"], [0.2222222222222222, \"#7201a8\"], [0.3333333333333333, \"#9c179e\"], [0.4444444444444444, \"#bd3786\"], [0.5555555555555556, \"#d8576b\"], [0.6666666666666666, \"#ed7953\"], [0.7777777777777778, \"#fb9f3a\"], [0.8888888888888888, \"#fdca26\"], [1.0, \"#f0f921\"]], \"sequentialminus\": [[0.0, \"#0d0887\"], [0.1111111111111111, \"#46039f\"], [0.2222222222222222, \"#7201a8\"], [0.3333333333333333, \"#9c179e\"], [0.4444444444444444, \"#bd3786\"], [0.5555555555555556, \"#d8576b\"], [0.6666666666666666, \"#ed7953\"], [0.7777777777777778, \"#fb9f3a\"], [0.8888888888888888, \"#fdca26\"], [1.0, \"#f0f921\"]]}, \"colorway\": [\"#636efa\", \"#EF553B\", \"#00cc96\", \"#ab63fa\", \"#FFA15A\", \"#19d3f3\", \"#FF6692\", \"#B6E880\", \"#FF97FF\", \"#FECB52\"], \"font\": {\"color\": \"#2a3f5f\"}, \"geo\": {\"bgcolor\": \"white\", \"lakecolor\": \"white\", \"landcolor\": \"#E5ECF6\", \"showlakes\": true, \"showland\": true, \"subunitcolor\": \"white\"}, \"hoverlabel\": {\"align\": \"left\"}, \"hovermode\": \"closest\", \"mapbox\": {\"style\": \"light\"}, \"paper_bgcolor\": \"white\", \"plot_bgcolor\": \"#E5ECF6\", \"polar\": {\"angularaxis\": {\"gridcolor\": \"white\", \"linecolor\": \"white\", \"ticks\": \"\"}, \"bgcolor\": \"#E5ECF6\", \"radialaxis\": {\"gridcolor\": \"white\", \"linecolor\": \"white\", \"ticks\": \"\"}}, \"scene\": {\"xaxis\": {\"backgroundcolor\": \"#E5ECF6\", \"gridcolor\": \"white\", \"gridwidth\": 2, \"linecolor\": \"white\", \"showbackground\": true, \"ticks\": \"\", \"zerolinecolor\": \"white\"}, \"yaxis\": {\"backgroundcolor\": \"#E5ECF6\", \"gridcolor\": \"white\", \"gridwidth\": 2, \"linecolor\": \"white\", \"showbackground\": true, \"ticks\": \"\", \"zerolinecolor\": \"white\"}, \"zaxis\": {\"backgroundcolor\": \"#E5ECF6\", \"gridcolor\": \"white\", \"gridwidth\": 2, \"linecolor\": \"white\", \"showbackground\": true, \"ticks\": \"\", \"zerolinecolor\": \"white\"}}, \"shapedefaults\": {\"line\": {\"color\": \"#2a3f5f\"}}, \"ternary\": {\"aaxis\": {\"gridcolor\": \"white\", \"linecolor\": \"white\", \"ticks\": \"\"}, \"baxis\": {\"gridcolor\": \"white\", \"linecolor\": \"white\", \"ticks\": \"\"}, \"bgcolor\": \"#E5ECF6\", \"caxis\": {\"gridcolor\": \"white\", \"linecolor\": \"white\", \"ticks\": \"\"}}, \"title\": {\"x\": 0.05}, \"xaxis\": {\"automargin\": true, \"gridcolor\": \"white\", \"linecolor\": \"white\", \"ticks\": \"\", \"title\": {\"standoff\": 15}, \"zerolinecolor\": \"white\", \"zerolinewidth\": 2}, \"yaxis\": {\"automargin\": true, \"gridcolor\": \"white\", \"linecolor\": \"white\", \"ticks\": \"\", \"title\": {\"standoff\": 15}, \"zerolinecolor\": \"white\", \"zerolinewidth\": 2}}}, \"xaxis\": {\"anchor\": \"y\", \"domain\": [0.0, 1.0], \"title\": {\"text\": \"text_size\"}}, \"yaxis\": {\"anchor\": \"x\", \"categoryarray\": [\"rec.sport.hockey\", \"soc.religion.christian\", \"rec.autos\"], \"categoryorder\": \"array\", \"domain\": [0.0, 1.0], \"title\": {\"text\": \"title\"}}},\n",
              "                        {\"responsive\": true}\n",
              "                    ).then(function(){\n",
              "                            \n",
              "var gd = document.getElementById('62e9e994-a33f-4c91-a2c7-af809221812b');\n",
              "var x = new MutationObserver(function (mutations, observer) {{\n",
              "        var display = window.getComputedStyle(gd).display;\n",
              "        if (!display || display === 'none') {{\n",
              "            console.log([gd, 'removed!']);\n",
              "            Plotly.purge(gd);\n",
              "            observer.disconnect();\n",
              "        }}\n",
              "}});\n",
              "\n",
              "// Listen for the removal of the full notebook cells\n",
              "var notebookContainer = gd.closest('#notebook-container');\n",
              "if (notebookContainer) {{\n",
              "    x.observe(notebookContainer, {childList: true});\n",
              "}}\n",
              "\n",
              "// Listen for the clearing of the current output cell\n",
              "var outputEl = gd.closest('.output');\n",
              "if (outputEl) {{\n",
              "    x.observe(outputEl, {childList: true});\n",
              "}}\n",
              "\n",
              "                        })\n",
              "                };\n",
              "                \n",
              "            </script>\n",
              "        </div>\n",
              "</body>\n",
              "</html>"
            ]
          },
          "metadata": {
            "tags": []
          }
        }
      ]
    },
    {
      "cell_type": "markdown",
      "metadata": {
        "id": "KXt6T07DJCRa",
        "colab_type": "text"
      },
      "source": [
        "Ici on peut observer que les texte pour les différentes catégories ont des longueur très différentes. \n",
        "\n",
        "* La catégorie automobile à des texte cours comparé aux autres catégories. 75% des textes ont une longueur inférieur à 160 tokens (avant cleaning).\n"
      ]
    },
    {
      "cell_type": "markdown",
      "metadata": {
        "id": "xTSAglXrCk64",
        "colab_type": "text"
      },
      "source": [
        "Donc nos textes, avant que l'on ai appliqué le cleaning ont en moyenne 269 token. Voyons après cleaning.  "
      ]
    },
    {
      "cell_type": "code",
      "metadata": {
        "id": "wmK19IZ7C4da",
        "colab_type": "code",
        "colab": {}
      },
      "source": [
        "cleaned_text = news.text.apply(prepareText)"
      ],
      "execution_count": 0,
      "outputs": []
    },
    {
      "cell_type": "code",
      "metadata": {
        "id": "MMaBSTkSDWX6",
        "colab_type": "code",
        "colab": {}
      },
      "source": [
        "news['cleaned_text'] = cleaned_text"
      ],
      "execution_count": 0,
      "outputs": []
    },
    {
      "cell_type": "code",
      "metadata": {
        "id": "mLzH9pjBCj9b",
        "colab_type": "code",
        "colab": {}
      },
      "source": [
        "cleaned_text_size = [len(tokens) for tokens in news.cleaned_text]"
      ],
      "execution_count": 0,
      "outputs": []
    },
    {
      "cell_type": "code",
      "metadata": {
        "id": "nNCQso8bDcku",
        "colab_type": "code",
        "colab": {}
      },
      "source": [
        "news['cleaned_text_size'] = cleaned_text_size"
      ],
      "execution_count": 0,
      "outputs": []
    },
    {
      "cell_type": "code",
      "metadata": {
        "id": "H1ve6ynwDh5n",
        "colab_type": "code",
        "outputId": "ba0ac808-eaae-41db-f5d9-31c34e7ae514",
        "colab": {
          "base_uri": "https://localhost:8080/",
          "height": 306
        }
      },
      "source": [
        "news.cleaned_text_size.describe()"
      ],
      "execution_count": 0,
      "outputs": [
        {
          "output_type": "execute_result",
          "data": {
            "text/plain": [
              "count    1793.000000\n",
              "mean       79.447295\n",
              "std       190.363558\n",
              "min         0.000000\n",
              "25%        18.000000\n",
              "50%        41.000000\n",
              "75%        82.000000\n",
              "max      6158.000000\n",
              "Name: cleaned_text_size, dtype: float64"
            ]
          },
          "metadata": {
            "tags": []
          },
          "execution_count": 66
        },
        {
          "output_type": "execute_result",
          "data": {
            "text/plain": [
              "count    1793.000000\n",
              "mean       79.447295\n",
              "std       190.363558\n",
              "min         0.000000\n",
              "25%        18.000000\n",
              "50%        41.000000\n",
              "75%        82.000000\n",
              "max      6158.000000\n",
              "Name: cleaned_text_size, dtype: float64"
            ]
          },
          "metadata": {
            "tags": []
          },
          "execution_count": 126
        }
      ]
    },
    {
      "cell_type": "code",
      "metadata": {
        "id": "R52q-prrGol_",
        "colab_type": "code",
        "outputId": "59ba49b5-ca0a-4728-f458-8da937d2c385",
        "colab": {
          "base_uri": "https://localhost:8080/",
          "height": 1000
        }
      },
      "source": [
        "import plotly.express as px\n",
        "\n",
        "px.box(news, x='cleaned_text_size', y='title', color='title',  orientation='h', category_orders={'title' : ['rec.autos', 'soc.religion.christian', 'rec.sport.hockey']}, labels={'title' : 'Thème', 'cleaned_text_size' : 'Nombre de mot par texte'})"
      ],
      "execution_count": 0,
      "outputs": [
        {
          "output_type": "display_data",
          "data": {
            "text/html": [
              "<html>\n",
              "<head><meta charset=\"utf-8\" /></head>\n",
              "<body>\n",
              "    <div>\n",
              "            <script src=\"https://cdnjs.cloudflare.com/ajax/libs/mathjax/2.7.5/MathJax.js?config=TeX-AMS-MML_SVG\"></script><script type=\"text/javascript\">if (window.MathJax) {MathJax.Hub.Config({SVG: {font: \"STIX-Web\"}});}</script>\n",
              "                <script type=\"text/javascript\">window.PlotlyConfig = {MathJaxConfig: 'local'};</script>\n",
              "        <script src=\"https://cdn.plot.ly/plotly-latest.min.js\"></script>    \n",
              "            <div id=\"0815a30d-cb6a-43f6-8476-9fd81ef955bf\" class=\"plotly-graph-div\" style=\"height:525px; width:100%;\"></div>\n",
              "            <script type=\"text/javascript\">\n",
              "                \n",
              "                    window.PLOTLYENV=window.PLOTLYENV || {};\n",
              "                    \n",
              "                if (document.getElementById(\"0815a30d-cb6a-43f6-8476-9fd81ef955bf\")) {\n",
              "                    Plotly.newPlot(\n",
              "                        '0815a30d-cb6a-43f6-8476-9fd81ef955bf',\n",
              "                        [{\"alignmentgroup\": \"True\", \"hoverlabel\": {\"namelength\": 0}, \"hovertemplate\": \"Th\\u00e8me=%{y}<br>Nombre de mot par texte=%{x}\", \"legendgroup\": \"Th\\u00e8me=rec.autos\", \"marker\": {\"color\": \"#636efa\"}, \"name\": \"Th\\u00e8me=rec.autos\", \"notched\": false, \"offsetgroup\": \"Th\\u00e8me=rec.autos\", \"orientation\": \"h\", \"showlegend\": true, \"type\": \"box\", \"x\": [32, 602, 39, 156, 29, 42, 15, 82, 42, 11, 17, 14, 22, 102, 15, 18, 19, 12, 6, 40, 2, 58, 14, 51, 19, 16, 18, 28, 17, 75, 77, 22, 75, 13, 66, 27, 14, 29, 0, 0, 51, 123, 26, 0, 0, 0, 75, 160, 38, 25, 72, 23, 57, 43, 31, 99, 59, 102, 19, 140, 29, 13, 49, 47, 83, 19, 53, 88, 0, 246, 32, 13, 887, 42, 34, 22, 42, 21, 13, 2, 22, 38, 27, 14, 82, 125, 225, 62, 32, 49, 35, 17, 19, 64, 128, 27, 28, 38, 10, 57, 16, 5, 4, 7, 86, 8, 21, 27, 60, 26, 31, 46, 17, 28, 8, 36, 59, 31, 7, 17, 112, 14, 12, 83, 296, 17, 34, 0, 16, 84, 117, 0, 26, 0, 44, 19, 0, 22, 40, 18, 11, 5, 56, 339, 31, 63, 1, 12, 29, 83, 65, 20, 13, 42, 32, 70, 62, 44, 48, 27, 17, 39, 25, 100, 25, 27, 10, 83, 18, 64, 19, 8, 0, 55, 16, 217, 41, 32, 135, 27, 37, 77, 18, 39, 8, 23, 2, 0, 46, 384, 2, 140, 26, 48, 16, 48, 1, 23, 19, 0, 23, 54, 76, 446, 114, 2, 67, 0, 58, 46, 13, 16, 124, 36, 50, 7, 21, 31, 28, 0, 24, 15, 23, 12, 129, 13, 29, 38, 0, 920, 106, 30, 33, 73, 18, 5, 5, 17, 4, 47, 144, 20, 71, 46, 93, 63, 8, 73, 2, 60, 44, 35, 93, 0, 7, 132, 40, 17, 41, 13, 0, 15, 14, 23, 100, 200, 11, 29, 24, 13, 13, 29, 6, 37, 22, 26, 16, 96, 31, 95, 25, 91, 20, 29, 9, 53, 17, 33, 22, 50, 107, 18, 14, 127, 53, 63, 54, 3, 32, 19, 0, 358, 51, 23, 83, 72, 199, 48, 76, 6, 0, 20, 0, 82, 150, 69, 16, 101, 2064, 4, 52, 38, 42, 44, 251, 20, 147, 61, 19, 10, 65, 23, 4, 5, 23, 4, 23, 2, 4, 8, 16, 132, 27, 25, 235, 80, 12, 12, 30, 0, 35, 91, 6, 54, 26, 46, 50, 6, 0, 17, 18, 10, 21, 17, 2, 73, 0, 26, 7, 21, 3, 24, 53, 6, 14, 0, 21, 41, 26, 15, 19, 12, 30, 32, 84, 8, 59, 6, 9, 8, 7, 62, 20, 4, 28, 78, 15, 16, 36, 38, 36, 23, 19, 18, 32, 21, 22, 14, 49, 36, 9, 0, 52, 40, 66, 74, 45, 9, 12, 16, 84, 15, 24, 54, 8, 6, 21, 62, 22, 5, 60, 19, 98, 30, 13, 17, 103, 40, 28, 31, 8, 10, 45, 10, 17, 31, 37, 75, 7, 10, 15, 25, 27, 27, 70, 19, 59, 74, 34, 57, 30, 26, 13, 11, 103, 76, 40, 24, 79, 12, 56, 201, 24, 45, 22, 31, 9, 67, 111, 21, 10, 18, 21, 78, 34, 82, 31, 11, 24, 37, 0, 79, 49, 21, 60, 3, 91, 63, 59, 0, 72, 15, 82, 56, 34, 16, 40, 148, 43, 29, 63, 90, 67, 6, 39, 69, 18, 43, 33, 1, 38, 44, 46, 49, 10, 14, 50, 16, 2, 13, 82, 32, 3, 76, 0, 39, 42, 28, 36, 23, 45, 37, 9, 36, 17, 25, 19, 0, 29, 21, 15, 46, 14, 4, 68, 2, 46, 30, 14, 26, 32, 23, 35, 26, 79, 5, 20, 19, 8, 29, 178, 46, 26, 57, 23, 40, 78, 74, 0, 32, 69, 56, 50, 142, 10, 66, 19, 35, 114, 0, 84, 15, 44, 46], \"x0\": \" \", \"xaxis\": \"x\", \"y\": [\"rec.autos\", \"rec.autos\", \"rec.autos\", \"rec.autos\", \"rec.autos\", \"rec.autos\", \"rec.autos\", \"rec.autos\", \"rec.autos\", \"rec.autos\", \"rec.autos\", \"rec.autos\", \"rec.autos\", \"rec.autos\", \"rec.autos\", \"rec.autos\", \"rec.autos\", \"rec.autos\", \"rec.autos\", \"rec.autos\", \"rec.autos\", \"rec.autos\", \"rec.autos\", \"rec.autos\", \"rec.autos\", \"rec.autos\", \"rec.autos\", \"rec.autos\", \"rec.autos\", \"rec.autos\", \"rec.autos\", \"rec.autos\", \"rec.autos\", \"rec.autos\", \"rec.autos\", \"rec.autos\", \"rec.autos\", \"rec.autos\", \"rec.autos\", \"rec.autos\", \"rec.autos\", \"rec.autos\", \"rec.autos\", \"rec.autos\", \"rec.autos\", \"rec.autos\", \"rec.autos\", \"rec.autos\", \"rec.autos\", \"rec.autos\", \"rec.autos\", \"rec.autos\", \"rec.autos\", \"rec.autos\", \"rec.autos\", \"rec.autos\", \"rec.autos\", \"rec.autos\", \"rec.autos\", \"rec.autos\", \"rec.autos\", \"rec.autos\", \"rec.autos\", \"rec.autos\", \"rec.autos\", \"rec.autos\", \"rec.autos\", \"rec.autos\", \"rec.autos\", \"rec.autos\", \"rec.autos\", \"rec.autos\", \"rec.autos\", \"rec.autos\", \"rec.autos\", \"rec.autos\", \"rec.autos\", \"rec.autos\", \"rec.autos\", \"rec.autos\", \"rec.autos\", \"rec.autos\", \"rec.autos\", \"rec.autos\", \"rec.autos\", \"rec.autos\", \"rec.autos\", \"rec.autos\", \"rec.autos\", \"rec.autos\", \"rec.autos\", \"rec.autos\", \"rec.autos\", \"rec.autos\", \"rec.autos\", \"rec.autos\", \"rec.autos\", \"rec.autos\", \"rec.autos\", \"rec.autos\", \"rec.autos\", \"rec.autos\", \"rec.autos\", \"rec.autos\", \"rec.autos\", \"rec.autos\", \"rec.autos\", \"rec.autos\", \"rec.autos\", \"rec.autos\", \"rec.autos\", \"rec.autos\", \"rec.autos\", \"rec.autos\", \"rec.autos\", \"rec.autos\", \"rec.autos\", \"rec.autos\", \"rec.autos\", \"rec.autos\", \"rec.autos\", \"rec.autos\", \"rec.autos\", \"rec.autos\", \"rec.autos\", \"rec.autos\", \"rec.autos\", \"rec.autos\", \"rec.autos\", \"rec.autos\", \"rec.autos\", \"rec.autos\", \"rec.autos\", \"rec.autos\", \"rec.autos\", \"rec.autos\", \"rec.autos\", \"rec.autos\", \"rec.autos\", \"rec.autos\", \"rec.autos\", \"rec.autos\", \"rec.autos\", \"rec.autos\", \"rec.autos\", \"rec.autos\", \"rec.autos\", \"rec.autos\", \"rec.autos\", \"rec.autos\", \"rec.autos\", \"rec.autos\", \"rec.autos\", \"rec.autos\", \"rec.autos\", \"rec.autos\", \"rec.autos\", \"rec.autos\", \"rec.autos\", \"rec.autos\", \"rec.autos\", \"rec.autos\", \"rec.autos\", \"rec.autos\", \"rec.autos\", \"rec.autos\", \"rec.autos\", \"rec.autos\", \"rec.autos\", \"rec.autos\", \"rec.autos\", \"rec.autos\", \"rec.autos\", \"rec.autos\", \"rec.autos\", \"rec.autos\", \"rec.autos\", \"rec.autos\", \"rec.autos\", \"rec.autos\", \"rec.autos\", \"rec.autos\", \"rec.autos\", \"rec.autos\", \"rec.autos\", \"rec.autos\", \"rec.autos\", \"rec.autos\", \"rec.autos\", \"rec.autos\", \"rec.autos\", \"rec.autos\", \"rec.autos\", \"rec.autos\", \"rec.autos\", \"rec.autos\", \"rec.autos\", \"rec.autos\", \"rec.autos\", \"rec.autos\", \"rec.autos\", \"rec.autos\", \"rec.autos\", \"rec.autos\", \"rec.autos\", \"rec.autos\", \"rec.autos\", \"rec.autos\", \"rec.autos\", \"rec.autos\", \"rec.autos\", \"rec.autos\", \"rec.autos\", \"rec.autos\", \"rec.autos\", \"rec.autos\", \"rec.autos\", \"rec.autos\", \"rec.autos\", \"rec.autos\", \"rec.autos\", \"rec.autos\", \"rec.autos\", \"rec.autos\", \"rec.autos\", \"rec.autos\", \"rec.autos\", \"rec.autos\", \"rec.autos\", \"rec.autos\", \"rec.autos\", \"rec.autos\", \"rec.autos\", \"rec.autos\", \"rec.autos\", \"rec.autos\", \"rec.autos\", \"rec.autos\", \"rec.autos\", \"rec.autos\", \"rec.autos\", \"rec.autos\", \"rec.autos\", \"rec.autos\", \"rec.autos\", \"rec.autos\", \"rec.autos\", \"rec.autos\", \"rec.autos\", \"rec.autos\", \"rec.autos\", \"rec.autos\", \"rec.autos\", \"rec.autos\", \"rec.autos\", \"rec.autos\", \"rec.autos\", \"rec.autos\", \"rec.autos\", \"rec.autos\", \"rec.autos\", \"rec.autos\", \"rec.autos\", \"rec.autos\", \"rec.autos\", \"rec.autos\", \"rec.autos\", \"rec.autos\", \"rec.autos\", \"rec.autos\", \"rec.autos\", \"rec.autos\", \"rec.autos\", \"rec.autos\", \"rec.autos\", \"rec.autos\", \"rec.autos\", \"rec.autos\", \"rec.autos\", \"rec.autos\", \"rec.autos\", \"rec.autos\", \"rec.autos\", \"rec.autos\", \"rec.autos\", \"rec.autos\", \"rec.autos\", \"rec.autos\", \"rec.autos\", \"rec.autos\", \"rec.autos\", \"rec.autos\", \"rec.autos\", \"rec.autos\", \"rec.autos\", \"rec.autos\", \"rec.autos\", \"rec.autos\", \"rec.autos\", \"rec.autos\", \"rec.autos\", \"rec.autos\", \"rec.autos\", \"rec.autos\", \"rec.autos\", \"rec.autos\", \"rec.autos\", \"rec.autos\", \"rec.autos\", \"rec.autos\", \"rec.autos\", \"rec.autos\", \"rec.autos\", \"rec.autos\", \"rec.autos\", \"rec.autos\", \"rec.autos\", \"rec.autos\", \"rec.autos\", \"rec.autos\", \"rec.autos\", \"rec.autos\", \"rec.autos\", \"rec.autos\", \"rec.autos\", \"rec.autos\", \"rec.autos\", \"rec.autos\", \"rec.autos\", \"rec.autos\", \"rec.autos\", \"rec.autos\", \"rec.autos\", \"rec.autos\", \"rec.autos\", \"rec.autos\", \"rec.autos\", \"rec.autos\", \"rec.autos\", \"rec.autos\", \"rec.autos\", \"rec.autos\", \"rec.autos\", \"rec.autos\", \"rec.autos\", \"rec.autos\", \"rec.autos\", \"rec.autos\", \"rec.autos\", \"rec.autos\", \"rec.autos\", \"rec.autos\", \"rec.autos\", \"rec.autos\", \"rec.autos\", \"rec.autos\", \"rec.autos\", \"rec.autos\", \"rec.autos\", \"rec.autos\", \"rec.autos\", \"rec.autos\", \"rec.autos\", \"rec.autos\", \"rec.autos\", \"rec.autos\", \"rec.autos\", \"rec.autos\", \"rec.autos\", \"rec.autos\", \"rec.autos\", \"rec.autos\", \"rec.autos\", \"rec.autos\", \"rec.autos\", \"rec.autos\", \"rec.autos\", \"rec.autos\", \"rec.autos\", \"rec.autos\", \"rec.autos\", \"rec.autos\", \"rec.autos\", \"rec.autos\", \"rec.autos\", \"rec.autos\", \"rec.autos\", \"rec.autos\", \"rec.autos\", \"rec.autos\", \"rec.autos\", \"rec.autos\", \"rec.autos\", \"rec.autos\", \"rec.autos\", \"rec.autos\", \"rec.autos\", \"rec.autos\", \"rec.autos\", \"rec.autos\", \"rec.autos\", \"rec.autos\", \"rec.autos\", \"rec.autos\", \"rec.autos\", \"rec.autos\", \"rec.autos\", \"rec.autos\", \"rec.autos\", \"rec.autos\", \"rec.autos\", \"rec.autos\", \"rec.autos\", \"rec.autos\", \"rec.autos\", \"rec.autos\", \"rec.autos\", \"rec.autos\", \"rec.autos\", \"rec.autos\", \"rec.autos\", \"rec.autos\", \"rec.autos\", \"rec.autos\", \"rec.autos\", \"rec.autos\", \"rec.autos\", \"rec.autos\", \"rec.autos\", \"rec.autos\", \"rec.autos\", \"rec.autos\", \"rec.autos\", \"rec.autos\", \"rec.autos\", \"rec.autos\", \"rec.autos\", \"rec.autos\", \"rec.autos\", \"rec.autos\", \"rec.autos\", \"rec.autos\", \"rec.autos\", \"rec.autos\", \"rec.autos\", \"rec.autos\", \"rec.autos\", \"rec.autos\", \"rec.autos\", \"rec.autos\", \"rec.autos\", \"rec.autos\", \"rec.autos\", \"rec.autos\", \"rec.autos\", \"rec.autos\", \"rec.autos\", \"rec.autos\", \"rec.autos\", \"rec.autos\", \"rec.autos\", \"rec.autos\", \"rec.autos\", \"rec.autos\", \"rec.autos\", \"rec.autos\", \"rec.autos\", \"rec.autos\", \"rec.autos\", \"rec.autos\", \"rec.autos\", \"rec.autos\", \"rec.autos\", \"rec.autos\", \"rec.autos\", \"rec.autos\", \"rec.autos\", \"rec.autos\", \"rec.autos\", \"rec.autos\", \"rec.autos\", \"rec.autos\", \"rec.autos\", \"rec.autos\", \"rec.autos\", \"rec.autos\", \"rec.autos\", \"rec.autos\", \"rec.autos\", \"rec.autos\", \"rec.autos\", \"rec.autos\", \"rec.autos\", \"rec.autos\", \"rec.autos\", \"rec.autos\", \"rec.autos\", \"rec.autos\", \"rec.autos\", \"rec.autos\", \"rec.autos\", \"rec.autos\", \"rec.autos\", \"rec.autos\", \"rec.autos\", \"rec.autos\", \"rec.autos\", \"rec.autos\", \"rec.autos\", \"rec.autos\", \"rec.autos\", \"rec.autos\", \"rec.autos\", \"rec.autos\", \"rec.autos\", \"rec.autos\", \"rec.autos\", \"rec.autos\", \"rec.autos\", \"rec.autos\", \"rec.autos\", \"rec.autos\", \"rec.autos\", \"rec.autos\", \"rec.autos\", \"rec.autos\", \"rec.autos\", \"rec.autos\", \"rec.autos\", \"rec.autos\", \"rec.autos\", \"rec.autos\", \"rec.autos\", \"rec.autos\", \"rec.autos\", \"rec.autos\", \"rec.autos\", \"rec.autos\", \"rec.autos\", \"rec.autos\", \"rec.autos\", \"rec.autos\", \"rec.autos\", \"rec.autos\", \"rec.autos\", \"rec.autos\", \"rec.autos\", \"rec.autos\", \"rec.autos\", \"rec.autos\", \"rec.autos\", \"rec.autos\", \"rec.autos\", \"rec.autos\", \"rec.autos\", \"rec.autos\", \"rec.autos\", \"rec.autos\", \"rec.autos\", \"rec.autos\", \"rec.autos\", \"rec.autos\", \"rec.autos\", \"rec.autos\", \"rec.autos\", \"rec.autos\", \"rec.autos\", \"rec.autos\", \"rec.autos\", \"rec.autos\", \"rec.autos\", \"rec.autos\", \"rec.autos\", \"rec.autos\", \"rec.autos\", \"rec.autos\", \"rec.autos\", \"rec.autos\", \"rec.autos\", \"rec.autos\", \"rec.autos\", \"rec.autos\", \"rec.autos\", \"rec.autos\", \"rec.autos\", \"rec.autos\", \"rec.autos\", \"rec.autos\", \"rec.autos\", \"rec.autos\", \"rec.autos\", \"rec.autos\", \"rec.autos\", \"rec.autos\"], \"y0\": \" \", \"yaxis\": \"y\"}, {\"alignmentgroup\": \"True\", \"hoverlabel\": {\"namelength\": 0}, \"hovertemplate\": \"Th\\u00e8me=%{y}<br>Nombre de mot par texte=%{x}\", \"legendgroup\": \"Th\\u00e8me=soc.religion.christian\", \"marker\": {\"color\": \"#EF553B\"}, \"name\": \"Th\\u00e8me=soc.religion.christian\", \"notched\": false, \"offsetgroup\": \"Th\\u00e8me=soc.religion.christian\", \"orientation\": \"h\", \"showlegend\": true, \"type\": \"box\", \"x\": [123, 68, 139, 63, 39, 43, 15, 92, 87, 272, 264, 135, 49, 22, 47, 62, 410, 6, 89, 2, 553, 67, 29, 30, 9, 68, 96, 10, 275, 57, 60, 78, 0, 273, 90, 53, 57, 244, 218, 20, 37, 268, 265, 82, 119, 16, 60, 18, 344, 37, 24, 47, 67, 139, 70, 267, 87, 75, 63, 16, 58, 65, 28, 25, 183, 42, 201, 82, 18, 49, 47, 47, 46, 28, 101, 98, 492, 147, 123, 26, 21, 21, 4, 51, 98, 249, 37, 142, 88, 94, 67, 5, 417, 20, 29, 48, 20, 44, 292, 99, 36, 55, 82, 32, 66, 44, 57, 61, 35, 0, 19, 41, 200, 8, 21, 85, 149, 27, 0, 239, 58, 517, 118, 105, 74, 70, 85, 70, 89, 13, 25, 24, 20, 255, 40, 56, 63, 390, 31, 60, 67, 57, 157, 59, 128, 187, 0, 23, 49, 81, 55, 82, 69, 219, 45, 177, 80, 35, 15, 70, 158, 21, 60, 104, 325, 0, 105, 48, 42, 177, 66, 60, 10, 28, 42, 169, 419, 0, 58, 49, 26, 415, 71, 23, 3, 44, 53, 65, 130, 6, 121, 119, 109, 50, 58, 97, 58, 172, 139, 162, 72, 141, 10, 55, 136, 78, 69, 5, 64, 70, 43, 418, 153, 791, 117, 61, 30, 93, 44, 481, 55, 48, 140, 74, 70, 93, 209, 148, 78, 19, 77, 65, 153, 4, 84, 52, 16, 75, 170, 135, 10, 23, 218, 128, 106, 25, 0, 179, 209, 25, 64, 74, 0, 45, 87, 59, 31, 23, 29, 65, 53, 14, 22, 20, 129, 408, 208, 85, 77, 124, 320, 182, 42, 925, 280, 48, 21, 711, 17, 73, 1, 11, 156, 138, 33, 136, 475, 1117, 54, 131, 29, 69, 282, 361, 43, 12, 138, 77, 37, 137, 114, 267, 114, 87, 6, 139, 37, 114, 93, 8, 923, 106, 116, 38, 80, 39, 322, 163, 280, 114, 84, 51, 94, 21, 73, 6, 48, 69, 39, 32, 194, 183, 20, 42, 9, 136, 50, 330, 63, 117, 32, 90, 19, 4, 70, 127, 56, 26, 9, 15, 35, 10, 55, 267, 23, 16, 50, 163, 11, 0, 107, 44, 18, 3, 686, 480, 152, 346, 4, 24, 14, 81, 69, 24, 61, 102, 10, 215, 335, 109, 10, 38, 45, 55, 305, 50, 21, 5, 12, 45, 312, 75, 191, 22, 42, 111, 13, 37, 371, 53, 125, 42, 2, 7, 211, 55, 5, 41, 26, 49, 286, 31, 120, 288, 210, 16, 146, 70, 24, 447, 16, 55, 6, 109, 40, 112, 48, 78, 142, 62, 17, 10, 185, 30, 21, 55, 209, 119, 78, 51, 90, 178, 27, 25, 102, 27, 97, 49, 177, 101, 16, 23, 21, 6, 96, 62, 6, 413, 46, 29, 32, 542, 59, 13, 67, 154, 22, 147, 129, 26, 35, 46, 12, 25, 49, 48, 119, 16, 24, 569, 61, 50, 45, 128, 164, 51, 46, 124, 10, 34, 20, 20, 63, 33, 94, 60, 47, 50, 107, 52, 126, 14, 112, 68, 114, 48, 37, 186, 138, 82, 187, 73, 7, 38, 39, 95, 94, 491, 173, 232, 48, 78, 65, 116, 149, 40, 65, 132, 71, 55, 112, 60, 52, 25, 297, 342, 102, 105, 87, 31, 18, 18, 103, 138, 55, 73, 216, 86, 34, 102, 10, 71, 13, 29, 491, 123, 63, 151, 189, 34, 31, 256, 27, 156, 100, 53, 10, 181, 401, 38, 114, 36, 212, 142, 11, 77, 274, 26, 100, 13, 214, 29, 229, 15, 82, 182, 8, 169, 46, 113, 223, 22, 176, 34, 22, 35, 64, 46, 186], \"x0\": \" \", \"xaxis\": \"x\", \"y\": [\"soc.religion.christian\", \"soc.religion.christian\", \"soc.religion.christian\", \"soc.religion.christian\", \"soc.religion.christian\", \"soc.religion.christian\", \"soc.religion.christian\", \"soc.religion.christian\", \"soc.religion.christian\", \"soc.religion.christian\", \"soc.religion.christian\", \"soc.religion.christian\", \"soc.religion.christian\", \"soc.religion.christian\", \"soc.religion.christian\", \"soc.religion.christian\", \"soc.religion.christian\", \"soc.religion.christian\", \"soc.religion.christian\", \"soc.religion.christian\", \"soc.religion.christian\", \"soc.religion.christian\", \"soc.religion.christian\", \"soc.religion.christian\", \"soc.religion.christian\", \"soc.religion.christian\", \"soc.religion.christian\", \"soc.religion.christian\", \"soc.religion.christian\", \"soc.religion.christian\", \"soc.religion.christian\", \"soc.religion.christian\", \"soc.religion.christian\", \"soc.religion.christian\", \"soc.religion.christian\", \"soc.religion.christian\", \"soc.religion.christian\", \"soc.religion.christian\", \"soc.religion.christian\", \"soc.religion.christian\", \"soc.religion.christian\", \"soc.religion.christian\", \"soc.religion.christian\", \"soc.religion.christian\", \"soc.religion.christian\", \"soc.religion.christian\", \"soc.religion.christian\", \"soc.religion.christian\", \"soc.religion.christian\", \"soc.religion.christian\", \"soc.religion.christian\", \"soc.religion.christian\", \"soc.religion.christian\", \"soc.religion.christian\", \"soc.religion.christian\", \"soc.religion.christian\", \"soc.religion.christian\", \"soc.religion.christian\", \"soc.religion.christian\", \"soc.religion.christian\", \"soc.religion.christian\", \"soc.religion.christian\", \"soc.religion.christian\", \"soc.religion.christian\", \"soc.religion.christian\", \"soc.religion.christian\", \"soc.religion.christian\", \"soc.religion.christian\", \"soc.religion.christian\", \"soc.religion.christian\", \"soc.religion.christian\", \"soc.religion.christian\", \"soc.religion.christian\", \"soc.religion.christian\", \"soc.religion.christian\", \"soc.religion.christian\", \"soc.religion.christian\", \"soc.religion.christian\", \"soc.religion.christian\", \"soc.religion.christian\", \"soc.religion.christian\", \"soc.religion.christian\", \"soc.religion.christian\", \"soc.religion.christian\", \"soc.religion.christian\", \"soc.religion.christian\", \"soc.religion.christian\", \"soc.religion.christian\", \"soc.religion.christian\", \"soc.religion.christian\", \"soc.religion.christian\", \"soc.religion.christian\", \"soc.religion.christian\", \"soc.religion.christian\", \"soc.religion.christian\", \"soc.religion.christian\", \"soc.religion.christian\", \"soc.religion.christian\", \"soc.religion.christian\", \"soc.religion.christian\", \"soc.religion.christian\", \"soc.religion.christian\", \"soc.religion.christian\", \"soc.religion.christian\", \"soc.religion.christian\", \"soc.religion.christian\", \"soc.religion.christian\", \"soc.religion.christian\", \"soc.religion.christian\", \"soc.religion.christian\", \"soc.religion.christian\", \"soc.religion.christian\", \"soc.religion.christian\", \"soc.religion.christian\", \"soc.religion.christian\", \"soc.religion.christian\", \"soc.religion.christian\", \"soc.religion.christian\", \"soc.religion.christian\", \"soc.religion.christian\", \"soc.religion.christian\", \"soc.religion.christian\", \"soc.religion.christian\", \"soc.religion.christian\", \"soc.religion.christian\", \"soc.religion.christian\", \"soc.religion.christian\", \"soc.religion.christian\", \"soc.religion.christian\", \"soc.religion.christian\", \"soc.religion.christian\", \"soc.religion.christian\", \"soc.religion.christian\", \"soc.religion.christian\", \"soc.religion.christian\", \"soc.religion.christian\", \"soc.religion.christian\", \"soc.religion.christian\", \"soc.religion.christian\", \"soc.religion.christian\", \"soc.religion.christian\", \"soc.religion.christian\", \"soc.religion.christian\", \"soc.religion.christian\", \"soc.religion.christian\", \"soc.religion.christian\", \"soc.religion.christian\", \"soc.religion.christian\", \"soc.religion.christian\", \"soc.religion.christian\", \"soc.religion.christian\", \"soc.religion.christian\", \"soc.religion.christian\", \"soc.religion.christian\", \"soc.religion.christian\", \"soc.religion.christian\", \"soc.religion.christian\", \"soc.religion.christian\", \"soc.religion.christian\", \"soc.religion.christian\", \"soc.religion.christian\", \"soc.religion.christian\", \"soc.religion.christian\", \"soc.religion.christian\", \"soc.religion.christian\", \"soc.religion.christian\", \"soc.religion.christian\", \"soc.religion.christian\", \"soc.religion.christian\", \"soc.religion.christian\", \"soc.religion.christian\", \"soc.religion.christian\", \"soc.religion.christian\", \"soc.religion.christian\", \"soc.religion.christian\", \"soc.religion.christian\", \"soc.religion.christian\", \"soc.religion.christian\", \"soc.religion.christian\", \"soc.religion.christian\", \"soc.religion.christian\", \"soc.religion.christian\", \"soc.religion.christian\", \"soc.religion.christian\", \"soc.religion.christian\", \"soc.religion.christian\", \"soc.religion.christian\", \"soc.religion.christian\", \"soc.religion.christian\", \"soc.religion.christian\", \"soc.religion.christian\", \"soc.religion.christian\", \"soc.religion.christian\", \"soc.religion.christian\", \"soc.religion.christian\", \"soc.religion.christian\", \"soc.religion.christian\", \"soc.religion.christian\", \"soc.religion.christian\", \"soc.religion.christian\", \"soc.religion.christian\", \"soc.religion.christian\", \"soc.religion.christian\", \"soc.religion.christian\", \"soc.religion.christian\", \"soc.religion.christian\", \"soc.religion.christian\", \"soc.religion.christian\", \"soc.religion.christian\", \"soc.religion.christian\", \"soc.religion.christian\", \"soc.religion.christian\", \"soc.religion.christian\", \"soc.religion.christian\", \"soc.religion.christian\", \"soc.religion.christian\", \"soc.religion.christian\", \"soc.religion.christian\", \"soc.religion.christian\", \"soc.religion.christian\", \"soc.religion.christian\", \"soc.religion.christian\", \"soc.religion.christian\", \"soc.religion.christian\", \"soc.religion.christian\", \"soc.religion.christian\", \"soc.religion.christian\", \"soc.religion.christian\", \"soc.religion.christian\", \"soc.religion.christian\", \"soc.religion.christian\", \"soc.religion.christian\", \"soc.religion.christian\", \"soc.religion.christian\", \"soc.religion.christian\", \"soc.religion.christian\", \"soc.religion.christian\", \"soc.religion.christian\", \"soc.religion.christian\", \"soc.religion.christian\", \"soc.religion.christian\", \"soc.religion.christian\", \"soc.religion.christian\", \"soc.religion.christian\", \"soc.religion.christian\", \"soc.religion.christian\", \"soc.religion.christian\", \"soc.religion.christian\", \"soc.religion.christian\", \"soc.religion.christian\", \"soc.religion.christian\", \"soc.religion.christian\", \"soc.religion.christian\", \"soc.religion.christian\", \"soc.religion.christian\", \"soc.religion.christian\", \"soc.religion.christian\", \"soc.religion.christian\", \"soc.religion.christian\", \"soc.religion.christian\", \"soc.religion.christian\", \"soc.religion.christian\", \"soc.religion.christian\", \"soc.religion.christian\", \"soc.religion.christian\", \"soc.religion.christian\", \"soc.religion.christian\", \"soc.religion.christian\", \"soc.religion.christian\", \"soc.religion.christian\", \"soc.religion.christian\", \"soc.religion.christian\", \"soc.religion.christian\", \"soc.religion.christian\", \"soc.religion.christian\", \"soc.religion.christian\", \"soc.religion.christian\", \"soc.religion.christian\", \"soc.religion.christian\", \"soc.religion.christian\", \"soc.religion.christian\", \"soc.religion.christian\", \"soc.religion.christian\", \"soc.religion.christian\", \"soc.religion.christian\", \"soc.religion.christian\", \"soc.religion.christian\", \"soc.religion.christian\", \"soc.religion.christian\", \"soc.religion.christian\", \"soc.religion.christian\", \"soc.religion.christian\", \"soc.religion.christian\", \"soc.religion.christian\", \"soc.religion.christian\", \"soc.religion.christian\", \"soc.religion.christian\", \"soc.religion.christian\", \"soc.religion.christian\", \"soc.religion.christian\", \"soc.religion.christian\", \"soc.religion.christian\", \"soc.religion.christian\", \"soc.religion.christian\", \"soc.religion.christian\", \"soc.religion.christian\", \"soc.religion.christian\", \"soc.religion.christian\", \"soc.religion.christian\", \"soc.religion.christian\", \"soc.religion.christian\", \"soc.religion.christian\", \"soc.religion.christian\", \"soc.religion.christian\", \"soc.religion.christian\", \"soc.religion.christian\", \"soc.religion.christian\", \"soc.religion.christian\", \"soc.religion.christian\", \"soc.religion.christian\", \"soc.religion.christian\", \"soc.religion.christian\", \"soc.religion.christian\", \"soc.religion.christian\", \"soc.religion.christian\", \"soc.religion.christian\", \"soc.religion.christian\", \"soc.religion.christian\", \"soc.religion.christian\", \"soc.religion.christian\", \"soc.religion.christian\", \"soc.religion.christian\", \"soc.religion.christian\", \"soc.religion.christian\", \"soc.religion.christian\", \"soc.religion.christian\", \"soc.religion.christian\", \"soc.religion.christian\", \"soc.religion.christian\", \"soc.religion.christian\", \"soc.religion.christian\", \"soc.religion.christian\", \"soc.religion.christian\", \"soc.religion.christian\", \"soc.religion.christian\", \"soc.religion.christian\", \"soc.religion.christian\", \"soc.religion.christian\", \"soc.religion.christian\", \"soc.religion.christian\", \"soc.religion.christian\", \"soc.religion.christian\", \"soc.religion.christian\", \"soc.religion.christian\", \"soc.religion.christian\", \"soc.religion.christian\", \"soc.religion.christian\", \"soc.religion.christian\", \"soc.religion.christian\", \"soc.religion.christian\", \"soc.religion.christian\", \"soc.religion.christian\", \"soc.religion.christian\", \"soc.religion.christian\", \"soc.religion.christian\", \"soc.religion.christian\", \"soc.religion.christian\", \"soc.religion.christian\", \"soc.religion.christian\", \"soc.religion.christian\", \"soc.religion.christian\", \"soc.religion.christian\", \"soc.religion.christian\", \"soc.religion.christian\", \"soc.religion.christian\", \"soc.religion.christian\", \"soc.religion.christian\", \"soc.religion.christian\", \"soc.religion.christian\", \"soc.religion.christian\", \"soc.religion.christian\", \"soc.religion.christian\", \"soc.religion.christian\", \"soc.religion.christian\", \"soc.religion.christian\", \"soc.religion.christian\", \"soc.religion.christian\", \"soc.religion.christian\", \"soc.religion.christian\", \"soc.religion.christian\", \"soc.religion.christian\", \"soc.religion.christian\", \"soc.religion.christian\", \"soc.religion.christian\", \"soc.religion.christian\", \"soc.religion.christian\", \"soc.religion.christian\", \"soc.religion.christian\", \"soc.religion.christian\", \"soc.religion.christian\", \"soc.religion.christian\", \"soc.religion.christian\", \"soc.religion.christian\", \"soc.religion.christian\", \"soc.religion.christian\", \"soc.religion.christian\", \"soc.religion.christian\", \"soc.religion.christian\", \"soc.religion.christian\", \"soc.religion.christian\", \"soc.religion.christian\", \"soc.religion.christian\", \"soc.religion.christian\", \"soc.religion.christian\", \"soc.religion.christian\", \"soc.religion.christian\", \"soc.religion.christian\", \"soc.religion.christian\", \"soc.religion.christian\", \"soc.religion.christian\", \"soc.religion.christian\", \"soc.religion.christian\", \"soc.religion.christian\", \"soc.religion.christian\", \"soc.religion.christian\", \"soc.religion.christian\", \"soc.religion.christian\", \"soc.religion.christian\", \"soc.religion.christian\", \"soc.religion.christian\", \"soc.religion.christian\", \"soc.religion.christian\", \"soc.religion.christian\", \"soc.religion.christian\", \"soc.religion.christian\", \"soc.religion.christian\", \"soc.religion.christian\", \"soc.religion.christian\", \"soc.religion.christian\", \"soc.religion.christian\", \"soc.religion.christian\", \"soc.religion.christian\", \"soc.religion.christian\", \"soc.religion.christian\", \"soc.religion.christian\", \"soc.religion.christian\", \"soc.religion.christian\", \"soc.religion.christian\", \"soc.religion.christian\", \"soc.religion.christian\", \"soc.religion.christian\", \"soc.religion.christian\", \"soc.religion.christian\", \"soc.religion.christian\", \"soc.religion.christian\", \"soc.religion.christian\", \"soc.religion.christian\", \"soc.religion.christian\", \"soc.religion.christian\", \"soc.religion.christian\", \"soc.religion.christian\", \"soc.religion.christian\", \"soc.religion.christian\", \"soc.religion.christian\", \"soc.religion.christian\", \"soc.religion.christian\", \"soc.religion.christian\", \"soc.religion.christian\", \"soc.religion.christian\", \"soc.religion.christian\", \"soc.religion.christian\", \"soc.religion.christian\", \"soc.religion.christian\", \"soc.religion.christian\", \"soc.religion.christian\", \"soc.religion.christian\", \"soc.religion.christian\", \"soc.religion.christian\", \"soc.religion.christian\", \"soc.religion.christian\", \"soc.religion.christian\", \"soc.religion.christian\", \"soc.religion.christian\", \"soc.religion.christian\", \"soc.religion.christian\", \"soc.religion.christian\", \"soc.religion.christian\", \"soc.religion.christian\", \"soc.religion.christian\", \"soc.religion.christian\", \"soc.religion.christian\", \"soc.religion.christian\", \"soc.religion.christian\", \"soc.religion.christian\", \"soc.religion.christian\", \"soc.religion.christian\", \"soc.religion.christian\", \"soc.religion.christian\", \"soc.religion.christian\", \"soc.religion.christian\", \"soc.religion.christian\", \"soc.religion.christian\", \"soc.religion.christian\", \"soc.religion.christian\", \"soc.religion.christian\", \"soc.religion.christian\", \"soc.religion.christian\", \"soc.religion.christian\", \"soc.religion.christian\", \"soc.religion.christian\", \"soc.religion.christian\", \"soc.religion.christian\", \"soc.religion.christian\", \"soc.religion.christian\", \"soc.religion.christian\", \"soc.religion.christian\", \"soc.religion.christian\", \"soc.religion.christian\", \"soc.religion.christian\", \"soc.religion.christian\", \"soc.religion.christian\", \"soc.religion.christian\", \"soc.religion.christian\", \"soc.religion.christian\", \"soc.religion.christian\", \"soc.religion.christian\", \"soc.religion.christian\", \"soc.religion.christian\", \"soc.religion.christian\", \"soc.religion.christian\", \"soc.religion.christian\", \"soc.religion.christian\", \"soc.religion.christian\", \"soc.religion.christian\", \"soc.religion.christian\", \"soc.religion.christian\", \"soc.religion.christian\", \"soc.religion.christian\", \"soc.religion.christian\", \"soc.religion.christian\", \"soc.religion.christian\", \"soc.religion.christian\", \"soc.religion.christian\", \"soc.religion.christian\", \"soc.religion.christian\", \"soc.religion.christian\", \"soc.religion.christian\", \"soc.religion.christian\", \"soc.religion.christian\", \"soc.religion.christian\", \"soc.religion.christian\", \"soc.religion.christian\", \"soc.religion.christian\", \"soc.religion.christian\", \"soc.religion.christian\", \"soc.religion.christian\", \"soc.religion.christian\", \"soc.religion.christian\", \"soc.religion.christian\", \"soc.religion.christian\", \"soc.religion.christian\", \"soc.religion.christian\", \"soc.religion.christian\", \"soc.religion.christian\", \"soc.religion.christian\", \"soc.religion.christian\", \"soc.religion.christian\", \"soc.religion.christian\", \"soc.religion.christian\", \"soc.religion.christian\", \"soc.religion.christian\", \"soc.religion.christian\", \"soc.religion.christian\", \"soc.religion.christian\", \"soc.religion.christian\", \"soc.religion.christian\", \"soc.religion.christian\", \"soc.religion.christian\", \"soc.religion.christian\", \"soc.religion.christian\", \"soc.religion.christian\", \"soc.religion.christian\", \"soc.religion.christian\", \"soc.religion.christian\", \"soc.religion.christian\", \"soc.religion.christian\", \"soc.religion.christian\", \"soc.religion.christian\", \"soc.religion.christian\", \"soc.religion.christian\", \"soc.religion.christian\", \"soc.religion.christian\", \"soc.religion.christian\", \"soc.religion.christian\", \"soc.religion.christian\", \"soc.religion.christian\", \"soc.religion.christian\", \"soc.religion.christian\", \"soc.religion.christian\"], \"y0\": \" \", \"yaxis\": \"y\"}, {\"alignmentgroup\": \"True\", \"hoverlabel\": {\"namelength\": 0}, \"hovertemplate\": \"Th\\u00e8me=%{y}<br>Nombre de mot par texte=%{x}\", \"legendgroup\": \"Th\\u00e8me=rec.sport.hockey\", \"marker\": {\"color\": \"#00cc96\"}, \"name\": \"Th\\u00e8me=rec.sport.hockey\", \"notched\": false, \"offsetgroup\": \"Th\\u00e8me=rec.sport.hockey\", \"orientation\": \"h\", \"showlegend\": true, \"type\": \"box\", \"x\": [38, 22, 8, 13, 9, 10, 8, 168, 46, 54, 14, 19, 25, 31, 24, 45, 19, 18, 64, 74, 348, 86, 0, 70, 151, 161, 2, 39, 371, 0, 8, 34, 21, 29, 23, 34, 18, 11, 42, 13, 30, 128, 44, 521, 35, 26, 91, 26, 3, 52, 12, 172, 160, 27, 14, 151, 22, 0, 70, 73, 23, 12, 611, 88, 50, 16, 153, 31, 5, 43, 14, 76, 0, 22, 25, 22, 107, 236, 38, 11, 300, 11, 88, 62, 38, 7, 18, 50, 55, 21, 14, 41, 19, 37, 78, 83, 12, 24, 66, 83, 60, 1, 55, 3, 44, 15, 145, 69, 88, 59, 92, 59, 36, 18, 43, 16, 219, 131, 37, 16, 31, 2, 0, 55, 66, 14, 67, 20, 49, 15, 22, 28, 18, 66, 165, 25, 20, 20, 22, 50, 106, 196, 41, 4, 60, 57, 71, 4, 37, 1199, 14, 8, 26, 30, 36, 66, 60, 2, 32, 31, 23, 0, 1, 16, 9, 44, 182, 51, 84, 33, 12, 654, 69, 3, 22, 13, 8, 13, 25, 75, 79, 467, 221, 39, 21, 14, 24, 145, 22, 17, 142, 906, 22, 89, 18, 64, 63, 3, 23, 26, 12, 19, 15, 96, 9, 0, 26, 116, 2, 177, 22, 29, 82, 185, 7, 25, 10, 37, 98, 150, 60, 18, 199, 56, 122, 12, 453, 109, 77, 17, 25, 68, 50, 898, 68, 68, 112, 14, 20, 630, 0, 312, 6, 5, 185, 30, 39, 22, 13, 60, 161, 21, 62, 7, 15, 14, 31, 21, 35, 17, 13, 161, 53, 101, 17, 58, 10, 27, 27, 40, 15, 23, 36, 101, 9, 0, 27, 17, 214, 19, 58, 352, 18, 40, 39, 45, 84, 13, 4, 15, 273, 10, 11, 217, 252, 25, 17, 94, 73, 75, 46, 203, 45, 20, 6, 82, 16, 15, 14, 54, 43, 49, 87, 28, 12, 14, 0, 34, 23, 36, 53, 46, 43, 52, 99, 94, 20, 209, 20, 57, 3, 20, 66, 36, 11, 6, 28, 20, 32, 88, 0, 428, 146, 51, 48, 61, 18, 11, 211, 394, 10, 495, 19, 52, 5, 24, 83, 74, 40, 109, 2, 296, 273, 67, 43, 49, 64, 286, 78, 44, 27, 2, 29, 1, 226, 49, 35, 4, 10, 96, 41, 8, 60, 385, 125, 281, 131, 25, 10, 23, 39, 4, 275, 38, 40, 519, 11, 27, 22, 15, 44, 94, 104, 12, 27, 16, 13, 47, 72, 38, 160, 104, 42, 62, 83, 713, 65, 54, 34, 6, 16, 86, 74, 45, 66, 24, 0, 45, 19, 72, 37, 26, 23, 70, 16, 75, 245, 35, 111, 14, 38, 51, 38, 12, 49, 49, 65, 138, 21, 14, 3, 24, 39, 511, 26, 36, 16, 84, 129, 579, 116, 216, 9, 55, 10, 111, 20, 5, 0, 41, 49, 15, 67, 18, 3, 111, 93, 21, 3, 12, 89, 22, 38, 44, 25, 1357, 5, 62, 92, 148, 124, 100, 41, 70, 6, 28, 32, 22, 55, 40, 593, 9, 91, 173, 73, 13, 108, 27, 12, 52, 139, 6158, 120, 28, 34, 84, 54, 34, 130, 51, 54, 143, 77, 58, 51, 3, 9, 41, 33, 43, 23, 16, 72, 24, 193, 57, 27, 7, 11, 44, 26, 64, 14, 48, 12, 112, 66, 17, 32, 18, 5, 0, 18, 15, 69, 17, 20, 0, 3, 47, 0, 26, 29, 12, 156, 85, 36, 30, 236, 12, 562, 46, 115, 4, 116, 58, 470, 126, 16, 95, 78, 21, 18, 12, 38, 9, 90, 100, 3, 15, 150, 32, 16, 18, 41, 10, 11, 40, 49, 76], \"x0\": \" \", \"xaxis\": \"x\", \"y\": [\"rec.sport.hockey\", \"rec.sport.hockey\", \"rec.sport.hockey\", \"rec.sport.hockey\", \"rec.sport.hockey\", \"rec.sport.hockey\", \"rec.sport.hockey\", \"rec.sport.hockey\", \"rec.sport.hockey\", \"rec.sport.hockey\", \"rec.sport.hockey\", \"rec.sport.hockey\", \"rec.sport.hockey\", \"rec.sport.hockey\", \"rec.sport.hockey\", \"rec.sport.hockey\", \"rec.sport.hockey\", \"rec.sport.hockey\", \"rec.sport.hockey\", \"rec.sport.hockey\", \"rec.sport.hockey\", \"rec.sport.hockey\", \"rec.sport.hockey\", \"rec.sport.hockey\", \"rec.sport.hockey\", \"rec.sport.hockey\", \"rec.sport.hockey\", \"rec.sport.hockey\", \"rec.sport.hockey\", \"rec.sport.hockey\", \"rec.sport.hockey\", \"rec.sport.hockey\", \"rec.sport.hockey\", \"rec.sport.hockey\", \"rec.sport.hockey\", \"rec.sport.hockey\", \"rec.sport.hockey\", \"rec.sport.hockey\", \"rec.sport.hockey\", \"rec.sport.hockey\", \"rec.sport.hockey\", \"rec.sport.hockey\", \"rec.sport.hockey\", \"rec.sport.hockey\", \"rec.sport.hockey\", \"rec.sport.hockey\", \"rec.sport.hockey\", \"rec.sport.hockey\", \"rec.sport.hockey\", \"rec.sport.hockey\", \"rec.sport.hockey\", \"rec.sport.hockey\", \"rec.sport.hockey\", \"rec.sport.hockey\", \"rec.sport.hockey\", \"rec.sport.hockey\", \"rec.sport.hockey\", \"rec.sport.hockey\", \"rec.sport.hockey\", \"rec.sport.hockey\", \"rec.sport.hockey\", \"rec.sport.hockey\", \"rec.sport.hockey\", \"rec.sport.hockey\", \"rec.sport.hockey\", \"rec.sport.hockey\", \"rec.sport.hockey\", \"rec.sport.hockey\", \"rec.sport.hockey\", \"rec.sport.hockey\", \"rec.sport.hockey\", \"rec.sport.hockey\", \"rec.sport.hockey\", \"rec.sport.hockey\", \"rec.sport.hockey\", \"rec.sport.hockey\", \"rec.sport.hockey\", \"rec.sport.hockey\", \"rec.sport.hockey\", \"rec.sport.hockey\", \"rec.sport.hockey\", \"rec.sport.hockey\", \"rec.sport.hockey\", \"rec.sport.hockey\", \"rec.sport.hockey\", \"rec.sport.hockey\", \"rec.sport.hockey\", \"rec.sport.hockey\", \"rec.sport.hockey\", \"rec.sport.hockey\", \"rec.sport.hockey\", \"rec.sport.hockey\", \"rec.sport.hockey\", \"rec.sport.hockey\", \"rec.sport.hockey\", \"rec.sport.hockey\", \"rec.sport.hockey\", \"rec.sport.hockey\", \"rec.sport.hockey\", \"rec.sport.hockey\", \"rec.sport.hockey\", \"rec.sport.hockey\", \"rec.sport.hockey\", \"rec.sport.hockey\", \"rec.sport.hockey\", \"rec.sport.hockey\", \"rec.sport.hockey\", \"rec.sport.hockey\", \"rec.sport.hockey\", \"rec.sport.hockey\", \"rec.sport.hockey\", \"rec.sport.hockey\", \"rec.sport.hockey\", \"rec.sport.hockey\", \"rec.sport.hockey\", \"rec.sport.hockey\", \"rec.sport.hockey\", \"rec.sport.hockey\", \"rec.sport.hockey\", \"rec.sport.hockey\", \"rec.sport.hockey\", \"rec.sport.hockey\", \"rec.sport.hockey\", \"rec.sport.hockey\", \"rec.sport.hockey\", \"rec.sport.hockey\", \"rec.sport.hockey\", \"rec.sport.hockey\", \"rec.sport.hockey\", \"rec.sport.hockey\", \"rec.sport.hockey\", \"rec.sport.hockey\", \"rec.sport.hockey\", \"rec.sport.hockey\", \"rec.sport.hockey\", \"rec.sport.hockey\", \"rec.sport.hockey\", \"rec.sport.hockey\", \"rec.sport.hockey\", \"rec.sport.hockey\", \"rec.sport.hockey\", \"rec.sport.hockey\", \"rec.sport.hockey\", \"rec.sport.hockey\", \"rec.sport.hockey\", \"rec.sport.hockey\", \"rec.sport.hockey\", \"rec.sport.hockey\", \"rec.sport.hockey\", \"rec.sport.hockey\", \"rec.sport.hockey\", \"rec.sport.hockey\", \"rec.sport.hockey\", \"rec.sport.hockey\", \"rec.sport.hockey\", \"rec.sport.hockey\", \"rec.sport.hockey\", \"rec.sport.hockey\", \"rec.sport.hockey\", \"rec.sport.hockey\", \"rec.sport.hockey\", \"rec.sport.hockey\", \"rec.sport.hockey\", \"rec.sport.hockey\", \"rec.sport.hockey\", \"rec.sport.hockey\", \"rec.sport.hockey\", \"rec.sport.hockey\", \"rec.sport.hockey\", \"rec.sport.hockey\", \"rec.sport.hockey\", \"rec.sport.hockey\", \"rec.sport.hockey\", \"rec.sport.hockey\", \"rec.sport.hockey\", \"rec.sport.hockey\", \"rec.sport.hockey\", \"rec.sport.hockey\", \"rec.sport.hockey\", \"rec.sport.hockey\", \"rec.sport.hockey\", \"rec.sport.hockey\", \"rec.sport.hockey\", \"rec.sport.hockey\", \"rec.sport.hockey\", \"rec.sport.hockey\", \"rec.sport.hockey\", \"rec.sport.hockey\", \"rec.sport.hockey\", \"rec.sport.hockey\", \"rec.sport.hockey\", \"rec.sport.hockey\", \"rec.sport.hockey\", \"rec.sport.hockey\", \"rec.sport.hockey\", \"rec.sport.hockey\", \"rec.sport.hockey\", \"rec.sport.hockey\", \"rec.sport.hockey\", \"rec.sport.hockey\", \"rec.sport.hockey\", \"rec.sport.hockey\", \"rec.sport.hockey\", \"rec.sport.hockey\", \"rec.sport.hockey\", \"rec.sport.hockey\", \"rec.sport.hockey\", \"rec.sport.hockey\", \"rec.sport.hockey\", \"rec.sport.hockey\", \"rec.sport.hockey\", \"rec.sport.hockey\", \"rec.sport.hockey\", \"rec.sport.hockey\", \"rec.sport.hockey\", \"rec.sport.hockey\", \"rec.sport.hockey\", \"rec.sport.hockey\", \"rec.sport.hockey\", \"rec.sport.hockey\", \"rec.sport.hockey\", \"rec.sport.hockey\", \"rec.sport.hockey\", \"rec.sport.hockey\", \"rec.sport.hockey\", \"rec.sport.hockey\", \"rec.sport.hockey\", \"rec.sport.hockey\", \"rec.sport.hockey\", \"rec.sport.hockey\", \"rec.sport.hockey\", \"rec.sport.hockey\", \"rec.sport.hockey\", \"rec.sport.hockey\", \"rec.sport.hockey\", \"rec.sport.hockey\", \"rec.sport.hockey\", \"rec.sport.hockey\", \"rec.sport.hockey\", \"rec.sport.hockey\", \"rec.sport.hockey\", \"rec.sport.hockey\", \"rec.sport.hockey\", \"rec.sport.hockey\", \"rec.sport.hockey\", \"rec.sport.hockey\", \"rec.sport.hockey\", \"rec.sport.hockey\", \"rec.sport.hockey\", \"rec.sport.hockey\", \"rec.sport.hockey\", \"rec.sport.hockey\", \"rec.sport.hockey\", \"rec.sport.hockey\", \"rec.sport.hockey\", \"rec.sport.hockey\", \"rec.sport.hockey\", \"rec.sport.hockey\", \"rec.sport.hockey\", \"rec.sport.hockey\", \"rec.sport.hockey\", \"rec.sport.hockey\", \"rec.sport.hockey\", \"rec.sport.hockey\", \"rec.sport.hockey\", \"rec.sport.hockey\", \"rec.sport.hockey\", \"rec.sport.hockey\", \"rec.sport.hockey\", \"rec.sport.hockey\", \"rec.sport.hockey\", \"rec.sport.hockey\", \"rec.sport.hockey\", \"rec.sport.hockey\", \"rec.sport.hockey\", \"rec.sport.hockey\", \"rec.sport.hockey\", \"rec.sport.hockey\", \"rec.sport.hockey\", \"rec.sport.hockey\", \"rec.sport.hockey\", \"rec.sport.hockey\", \"rec.sport.hockey\", \"rec.sport.hockey\", \"rec.sport.hockey\", \"rec.sport.hockey\", \"rec.sport.hockey\", \"rec.sport.hockey\", \"rec.sport.hockey\", \"rec.sport.hockey\", \"rec.sport.hockey\", \"rec.sport.hockey\", \"rec.sport.hockey\", \"rec.sport.hockey\", \"rec.sport.hockey\", \"rec.sport.hockey\", \"rec.sport.hockey\", \"rec.sport.hockey\", \"rec.sport.hockey\", \"rec.sport.hockey\", \"rec.sport.hockey\", \"rec.sport.hockey\", \"rec.sport.hockey\", \"rec.sport.hockey\", \"rec.sport.hockey\", \"rec.sport.hockey\", \"rec.sport.hockey\", \"rec.sport.hockey\", \"rec.sport.hockey\", \"rec.sport.hockey\", \"rec.sport.hockey\", \"rec.sport.hockey\", \"rec.sport.hockey\", \"rec.sport.hockey\", \"rec.sport.hockey\", \"rec.sport.hockey\", \"rec.sport.hockey\", \"rec.sport.hockey\", \"rec.sport.hockey\", \"rec.sport.hockey\", \"rec.sport.hockey\", \"rec.sport.hockey\", \"rec.sport.hockey\", \"rec.sport.hockey\", \"rec.sport.hockey\", \"rec.sport.hockey\", \"rec.sport.hockey\", \"rec.sport.hockey\", \"rec.sport.hockey\", \"rec.sport.hockey\", \"rec.sport.hockey\", \"rec.sport.hockey\", \"rec.sport.hockey\", \"rec.sport.hockey\", \"rec.sport.hockey\", \"rec.sport.hockey\", \"rec.sport.hockey\", \"rec.sport.hockey\", \"rec.sport.hockey\", \"rec.sport.hockey\", \"rec.sport.hockey\", \"rec.sport.hockey\", \"rec.sport.hockey\", \"rec.sport.hockey\", \"rec.sport.hockey\", \"rec.sport.hockey\", \"rec.sport.hockey\", \"rec.sport.hockey\", \"rec.sport.hockey\", \"rec.sport.hockey\", \"rec.sport.hockey\", \"rec.sport.hockey\", \"rec.sport.hockey\", \"rec.sport.hockey\", \"rec.sport.hockey\", \"rec.sport.hockey\", \"rec.sport.hockey\", \"rec.sport.hockey\", \"rec.sport.hockey\", \"rec.sport.hockey\", \"rec.sport.hockey\", \"rec.sport.hockey\", \"rec.sport.hockey\", \"rec.sport.hockey\", \"rec.sport.hockey\", \"rec.sport.hockey\", \"rec.sport.hockey\", \"rec.sport.hockey\", \"rec.sport.hockey\", \"rec.sport.hockey\", \"rec.sport.hockey\", \"rec.sport.hockey\", \"rec.sport.hockey\", \"rec.sport.hockey\", \"rec.sport.hockey\", \"rec.sport.hockey\", \"rec.sport.hockey\", \"rec.sport.hockey\", \"rec.sport.hockey\", \"rec.sport.hockey\", \"rec.sport.hockey\", \"rec.sport.hockey\", \"rec.sport.hockey\", \"rec.sport.hockey\", \"rec.sport.hockey\", \"rec.sport.hockey\", \"rec.sport.hockey\", \"rec.sport.hockey\", \"rec.sport.hockey\", \"rec.sport.hockey\", \"rec.sport.hockey\", \"rec.sport.hockey\", \"rec.sport.hockey\", \"rec.sport.hockey\", \"rec.sport.hockey\", \"rec.sport.hockey\", \"rec.sport.hockey\", \"rec.sport.hockey\", \"rec.sport.hockey\", \"rec.sport.hockey\", \"rec.sport.hockey\", \"rec.sport.hockey\", \"rec.sport.hockey\", \"rec.sport.hockey\", \"rec.sport.hockey\", \"rec.sport.hockey\", \"rec.sport.hockey\", \"rec.sport.hockey\", \"rec.sport.hockey\", \"rec.sport.hockey\", \"rec.sport.hockey\", \"rec.sport.hockey\", \"rec.sport.hockey\", \"rec.sport.hockey\", \"rec.sport.hockey\", \"rec.sport.hockey\", \"rec.sport.hockey\", \"rec.sport.hockey\", \"rec.sport.hockey\", \"rec.sport.hockey\", \"rec.sport.hockey\", \"rec.sport.hockey\", \"rec.sport.hockey\", \"rec.sport.hockey\", \"rec.sport.hockey\", \"rec.sport.hockey\", \"rec.sport.hockey\", \"rec.sport.hockey\", \"rec.sport.hockey\", \"rec.sport.hockey\", \"rec.sport.hockey\", \"rec.sport.hockey\", \"rec.sport.hockey\", \"rec.sport.hockey\", \"rec.sport.hockey\", \"rec.sport.hockey\", \"rec.sport.hockey\", \"rec.sport.hockey\", \"rec.sport.hockey\", \"rec.sport.hockey\", \"rec.sport.hockey\", \"rec.sport.hockey\", \"rec.sport.hockey\", \"rec.sport.hockey\", \"rec.sport.hockey\", \"rec.sport.hockey\", \"rec.sport.hockey\", \"rec.sport.hockey\", \"rec.sport.hockey\", \"rec.sport.hockey\", \"rec.sport.hockey\", \"rec.sport.hockey\", \"rec.sport.hockey\", \"rec.sport.hockey\", \"rec.sport.hockey\", \"rec.sport.hockey\", \"rec.sport.hockey\", \"rec.sport.hockey\", \"rec.sport.hockey\", \"rec.sport.hockey\", \"rec.sport.hockey\", \"rec.sport.hockey\", \"rec.sport.hockey\", \"rec.sport.hockey\", \"rec.sport.hockey\", \"rec.sport.hockey\", \"rec.sport.hockey\", \"rec.sport.hockey\", \"rec.sport.hockey\", \"rec.sport.hockey\", \"rec.sport.hockey\", \"rec.sport.hockey\", \"rec.sport.hockey\", \"rec.sport.hockey\", \"rec.sport.hockey\", \"rec.sport.hockey\", \"rec.sport.hockey\", \"rec.sport.hockey\", \"rec.sport.hockey\", \"rec.sport.hockey\", \"rec.sport.hockey\", \"rec.sport.hockey\", \"rec.sport.hockey\", \"rec.sport.hockey\", \"rec.sport.hockey\", \"rec.sport.hockey\", \"rec.sport.hockey\", \"rec.sport.hockey\", \"rec.sport.hockey\", \"rec.sport.hockey\", \"rec.sport.hockey\", \"rec.sport.hockey\", \"rec.sport.hockey\", \"rec.sport.hockey\", \"rec.sport.hockey\", \"rec.sport.hockey\", \"rec.sport.hockey\", \"rec.sport.hockey\", \"rec.sport.hockey\", \"rec.sport.hockey\", \"rec.sport.hockey\", \"rec.sport.hockey\", \"rec.sport.hockey\", \"rec.sport.hockey\", \"rec.sport.hockey\", \"rec.sport.hockey\", \"rec.sport.hockey\", \"rec.sport.hockey\", \"rec.sport.hockey\", \"rec.sport.hockey\", \"rec.sport.hockey\", \"rec.sport.hockey\", \"rec.sport.hockey\", \"rec.sport.hockey\", \"rec.sport.hockey\", \"rec.sport.hockey\", \"rec.sport.hockey\", \"rec.sport.hockey\", \"rec.sport.hockey\", \"rec.sport.hockey\", \"rec.sport.hockey\", \"rec.sport.hockey\", \"rec.sport.hockey\", \"rec.sport.hockey\", \"rec.sport.hockey\", \"rec.sport.hockey\", \"rec.sport.hockey\", \"rec.sport.hockey\", \"rec.sport.hockey\", \"rec.sport.hockey\", \"rec.sport.hockey\", \"rec.sport.hockey\", \"rec.sport.hockey\", \"rec.sport.hockey\", \"rec.sport.hockey\", \"rec.sport.hockey\", \"rec.sport.hockey\", \"rec.sport.hockey\", \"rec.sport.hockey\", \"rec.sport.hockey\", \"rec.sport.hockey\", \"rec.sport.hockey\", \"rec.sport.hockey\", \"rec.sport.hockey\", \"rec.sport.hockey\", \"rec.sport.hockey\", \"rec.sport.hockey\", \"rec.sport.hockey\", \"rec.sport.hockey\", \"rec.sport.hockey\", \"rec.sport.hockey\", \"rec.sport.hockey\", \"rec.sport.hockey\", \"rec.sport.hockey\", \"rec.sport.hockey\", \"rec.sport.hockey\", \"rec.sport.hockey\", \"rec.sport.hockey\", \"rec.sport.hockey\", \"rec.sport.hockey\", \"rec.sport.hockey\", \"rec.sport.hockey\", \"rec.sport.hockey\", \"rec.sport.hockey\", \"rec.sport.hockey\", \"rec.sport.hockey\", \"rec.sport.hockey\", \"rec.sport.hockey\", \"rec.sport.hockey\", \"rec.sport.hockey\", \"rec.sport.hockey\", \"rec.sport.hockey\", \"rec.sport.hockey\", \"rec.sport.hockey\", \"rec.sport.hockey\", \"rec.sport.hockey\", \"rec.sport.hockey\", \"rec.sport.hockey\", \"rec.sport.hockey\", \"rec.sport.hockey\", \"rec.sport.hockey\", \"rec.sport.hockey\", \"rec.sport.hockey\", \"rec.sport.hockey\", \"rec.sport.hockey\", \"rec.sport.hockey\", \"rec.sport.hockey\", \"rec.sport.hockey\", \"rec.sport.hockey\", \"rec.sport.hockey\", \"rec.sport.hockey\", \"rec.sport.hockey\", \"rec.sport.hockey\", \"rec.sport.hockey\", \"rec.sport.hockey\", \"rec.sport.hockey\", \"rec.sport.hockey\", \"rec.sport.hockey\", \"rec.sport.hockey\", \"rec.sport.hockey\"], \"y0\": \" \", \"yaxis\": \"y\"}],\n",
              "                        {\"boxmode\": \"group\", \"legend\": {\"tracegroupgap\": 0}, \"margin\": {\"t\": 60}, \"template\": {\"data\": {\"bar\": [{\"error_x\": {\"color\": \"#2a3f5f\"}, \"error_y\": {\"color\": \"#2a3f5f\"}, \"marker\": {\"line\": {\"color\": \"#E5ECF6\", \"width\": 0.5}}, \"type\": \"bar\"}], \"barpolar\": [{\"marker\": {\"line\": {\"color\": \"#E5ECF6\", \"width\": 0.5}}, \"type\": \"barpolar\"}], \"carpet\": [{\"aaxis\": {\"endlinecolor\": \"#2a3f5f\", \"gridcolor\": \"white\", \"linecolor\": \"white\", \"minorgridcolor\": \"white\", \"startlinecolor\": \"#2a3f5f\"}, \"baxis\": {\"endlinecolor\": \"#2a3f5f\", \"gridcolor\": \"white\", \"linecolor\": \"white\", \"minorgridcolor\": \"white\", \"startlinecolor\": \"#2a3f5f\"}, \"type\": \"carpet\"}], \"choropleth\": [{\"colorbar\": {\"outlinewidth\": 0, \"ticks\": \"\"}, \"type\": \"choropleth\"}], \"contour\": [{\"colorbar\": {\"outlinewidth\": 0, \"ticks\": \"\"}, \"colorscale\": [[0.0, \"#0d0887\"], [0.1111111111111111, \"#46039f\"], [0.2222222222222222, \"#7201a8\"], [0.3333333333333333, \"#9c179e\"], [0.4444444444444444, \"#bd3786\"], [0.5555555555555556, \"#d8576b\"], [0.6666666666666666, \"#ed7953\"], [0.7777777777777778, \"#fb9f3a\"], [0.8888888888888888, \"#fdca26\"], [1.0, \"#f0f921\"]], \"type\": \"contour\"}], \"contourcarpet\": [{\"colorbar\": {\"outlinewidth\": 0, \"ticks\": \"\"}, \"type\": \"contourcarpet\"}], \"heatmap\": [{\"colorbar\": {\"outlinewidth\": 0, \"ticks\": \"\"}, \"colorscale\": [[0.0, \"#0d0887\"], [0.1111111111111111, \"#46039f\"], [0.2222222222222222, \"#7201a8\"], [0.3333333333333333, \"#9c179e\"], [0.4444444444444444, \"#bd3786\"], [0.5555555555555556, \"#d8576b\"], [0.6666666666666666, \"#ed7953\"], [0.7777777777777778, \"#fb9f3a\"], [0.8888888888888888, \"#fdca26\"], [1.0, \"#f0f921\"]], \"type\": \"heatmap\"}], \"heatmapgl\": [{\"colorbar\": {\"outlinewidth\": 0, \"ticks\": \"\"}, \"colorscale\": [[0.0, \"#0d0887\"], [0.1111111111111111, \"#46039f\"], [0.2222222222222222, \"#7201a8\"], [0.3333333333333333, \"#9c179e\"], [0.4444444444444444, \"#bd3786\"], [0.5555555555555556, \"#d8576b\"], [0.6666666666666666, \"#ed7953\"], [0.7777777777777778, \"#fb9f3a\"], [0.8888888888888888, \"#fdca26\"], [1.0, \"#f0f921\"]], \"type\": \"heatmapgl\"}], \"histogram\": [{\"marker\": {\"colorbar\": {\"outlinewidth\": 0, \"ticks\": \"\"}}, \"type\": \"histogram\"}], \"histogram2d\": [{\"colorbar\": {\"outlinewidth\": 0, \"ticks\": \"\"}, \"colorscale\": [[0.0, \"#0d0887\"], [0.1111111111111111, \"#46039f\"], [0.2222222222222222, \"#7201a8\"], [0.3333333333333333, \"#9c179e\"], [0.4444444444444444, \"#bd3786\"], [0.5555555555555556, \"#d8576b\"], [0.6666666666666666, \"#ed7953\"], [0.7777777777777778, \"#fb9f3a\"], [0.8888888888888888, \"#fdca26\"], [1.0, \"#f0f921\"]], \"type\": \"histogram2d\"}], \"histogram2dcontour\": [{\"colorbar\": {\"outlinewidth\": 0, \"ticks\": \"\"}, \"colorscale\": [[0.0, \"#0d0887\"], [0.1111111111111111, \"#46039f\"], [0.2222222222222222, \"#7201a8\"], [0.3333333333333333, \"#9c179e\"], [0.4444444444444444, \"#bd3786\"], [0.5555555555555556, \"#d8576b\"], [0.6666666666666666, \"#ed7953\"], [0.7777777777777778, \"#fb9f3a\"], [0.8888888888888888, \"#fdca26\"], [1.0, \"#f0f921\"]], \"type\": \"histogram2dcontour\"}], \"mesh3d\": [{\"colorbar\": {\"outlinewidth\": 0, \"ticks\": \"\"}, \"type\": \"mesh3d\"}], \"parcoords\": [{\"line\": {\"colorbar\": {\"outlinewidth\": 0, \"ticks\": \"\"}}, \"type\": \"parcoords\"}], \"pie\": [{\"automargin\": true, \"type\": \"pie\"}], \"scatter\": [{\"marker\": {\"colorbar\": {\"outlinewidth\": 0, \"ticks\": \"\"}}, \"type\": \"scatter\"}], \"scatter3d\": [{\"line\": {\"colorbar\": {\"outlinewidth\": 0, \"ticks\": \"\"}}, \"marker\": {\"colorbar\": {\"outlinewidth\": 0, \"ticks\": \"\"}}, \"type\": \"scatter3d\"}], \"scattercarpet\": [{\"marker\": {\"colorbar\": {\"outlinewidth\": 0, \"ticks\": \"\"}}, \"type\": \"scattercarpet\"}], \"scattergeo\": [{\"marker\": {\"colorbar\": {\"outlinewidth\": 0, \"ticks\": \"\"}}, \"type\": \"scattergeo\"}], \"scattergl\": [{\"marker\": {\"colorbar\": {\"outlinewidth\": 0, \"ticks\": \"\"}}, \"type\": \"scattergl\"}], \"scattermapbox\": [{\"marker\": {\"colorbar\": {\"outlinewidth\": 0, \"ticks\": \"\"}}, \"type\": \"scattermapbox\"}], \"scatterpolar\": [{\"marker\": {\"colorbar\": {\"outlinewidth\": 0, \"ticks\": \"\"}}, \"type\": \"scatterpolar\"}], \"scatterpolargl\": [{\"marker\": {\"colorbar\": {\"outlinewidth\": 0, \"ticks\": \"\"}}, \"type\": \"scatterpolargl\"}], \"scatterternary\": [{\"marker\": {\"colorbar\": {\"outlinewidth\": 0, \"ticks\": \"\"}}, \"type\": \"scatterternary\"}], \"surface\": [{\"colorbar\": {\"outlinewidth\": 0, \"ticks\": \"\"}, \"colorscale\": [[0.0, \"#0d0887\"], [0.1111111111111111, \"#46039f\"], [0.2222222222222222, \"#7201a8\"], [0.3333333333333333, \"#9c179e\"], [0.4444444444444444, \"#bd3786\"], [0.5555555555555556, \"#d8576b\"], [0.6666666666666666, \"#ed7953\"], [0.7777777777777778, \"#fb9f3a\"], [0.8888888888888888, \"#fdca26\"], [1.0, \"#f0f921\"]], \"type\": \"surface\"}], \"table\": [{\"cells\": {\"fill\": {\"color\": \"#EBF0F8\"}, \"line\": {\"color\": \"white\"}}, \"header\": {\"fill\": {\"color\": \"#C8D4E3\"}, \"line\": {\"color\": \"white\"}}, \"type\": \"table\"}]}, \"layout\": {\"annotationdefaults\": {\"arrowcolor\": \"#2a3f5f\", \"arrowhead\": 0, \"arrowwidth\": 1}, \"coloraxis\": {\"colorbar\": {\"outlinewidth\": 0, \"ticks\": \"\"}}, \"colorscale\": {\"diverging\": [[0, \"#8e0152\"], [0.1, \"#c51b7d\"], [0.2, \"#de77ae\"], [0.3, \"#f1b6da\"], [0.4, \"#fde0ef\"], [0.5, \"#f7f7f7\"], [0.6, \"#e6f5d0\"], [0.7, \"#b8e186\"], [0.8, \"#7fbc41\"], [0.9, \"#4d9221\"], [1, \"#276419\"]], \"sequential\": [[0.0, \"#0d0887\"], [0.1111111111111111, \"#46039f\"], [0.2222222222222222, \"#7201a8\"], [0.3333333333333333, \"#9c179e\"], [0.4444444444444444, \"#bd3786\"], [0.5555555555555556, \"#d8576b\"], [0.6666666666666666, \"#ed7953\"], [0.7777777777777778, \"#fb9f3a\"], [0.8888888888888888, \"#fdca26\"], [1.0, \"#f0f921\"]], \"sequentialminus\": [[0.0, \"#0d0887\"], [0.1111111111111111, \"#46039f\"], [0.2222222222222222, \"#7201a8\"], [0.3333333333333333, \"#9c179e\"], [0.4444444444444444, \"#bd3786\"], [0.5555555555555556, \"#d8576b\"], [0.6666666666666666, \"#ed7953\"], [0.7777777777777778, \"#fb9f3a\"], [0.8888888888888888, \"#fdca26\"], [1.0, \"#f0f921\"]]}, \"colorway\": [\"#636efa\", \"#EF553B\", \"#00cc96\", \"#ab63fa\", \"#FFA15A\", \"#19d3f3\", \"#FF6692\", \"#B6E880\", \"#FF97FF\", \"#FECB52\"], \"font\": {\"color\": \"#2a3f5f\"}, \"geo\": {\"bgcolor\": \"white\", \"lakecolor\": \"white\", \"landcolor\": \"#E5ECF6\", \"showlakes\": true, \"showland\": true, \"subunitcolor\": \"white\"}, \"hoverlabel\": {\"align\": \"left\"}, \"hovermode\": \"closest\", \"mapbox\": {\"style\": \"light\"}, \"paper_bgcolor\": \"white\", \"plot_bgcolor\": \"#E5ECF6\", \"polar\": {\"angularaxis\": {\"gridcolor\": \"white\", \"linecolor\": \"white\", \"ticks\": \"\"}, \"bgcolor\": \"#E5ECF6\", \"radialaxis\": {\"gridcolor\": \"white\", \"linecolor\": \"white\", \"ticks\": \"\"}}, \"scene\": {\"xaxis\": {\"backgroundcolor\": \"#E5ECF6\", \"gridcolor\": \"white\", \"gridwidth\": 2, \"linecolor\": \"white\", \"showbackground\": true, \"ticks\": \"\", \"zerolinecolor\": \"white\"}, \"yaxis\": {\"backgroundcolor\": \"#E5ECF6\", \"gridcolor\": \"white\", \"gridwidth\": 2, \"linecolor\": \"white\", \"showbackground\": true, \"ticks\": \"\", \"zerolinecolor\": \"white\"}, \"zaxis\": {\"backgroundcolor\": \"#E5ECF6\", \"gridcolor\": \"white\", \"gridwidth\": 2, \"linecolor\": \"white\", \"showbackground\": true, \"ticks\": \"\", \"zerolinecolor\": \"white\"}}, \"shapedefaults\": {\"line\": {\"color\": \"#2a3f5f\"}}, \"ternary\": {\"aaxis\": {\"gridcolor\": \"white\", \"linecolor\": \"white\", \"ticks\": \"\"}, \"baxis\": {\"gridcolor\": \"white\", \"linecolor\": \"white\", \"ticks\": \"\"}, \"bgcolor\": \"#E5ECF6\", \"caxis\": {\"gridcolor\": \"white\", \"linecolor\": \"white\", \"ticks\": \"\"}}, \"title\": {\"x\": 0.05}, \"xaxis\": {\"automargin\": true, \"gridcolor\": \"white\", \"linecolor\": \"white\", \"ticks\": \"\", \"title\": {\"standoff\": 15}, \"zerolinecolor\": \"white\", \"zerolinewidth\": 2}, \"yaxis\": {\"automargin\": true, \"gridcolor\": \"white\", \"linecolor\": \"white\", \"ticks\": \"\", \"title\": {\"standoff\": 15}, \"zerolinecolor\": \"white\", \"zerolinewidth\": 2}}}, \"xaxis\": {\"anchor\": \"y\", \"domain\": [0.0, 1.0], \"title\": {\"text\": \"Nombre de mot par texte\"}}, \"yaxis\": {\"anchor\": \"x\", \"categoryarray\": [\"rec.sport.hockey\", \"soc.religion.christian\", \"rec.autos\"], \"categoryorder\": \"array\", \"domain\": [0.0, 1.0], \"title\": {\"text\": \"Th\\u00e8me\"}}},\n",
              "                        {\"responsive\": true}\n",
              "                    ).then(function(){\n",
              "                            \n",
              "var gd = document.getElementById('0815a30d-cb6a-43f6-8476-9fd81ef955bf');\n",
              "var x = new MutationObserver(function (mutations, observer) {{\n",
              "        var display = window.getComputedStyle(gd).display;\n",
              "        if (!display || display === 'none') {{\n",
              "            console.log([gd, 'removed!']);\n",
              "            Plotly.purge(gd);\n",
              "            observer.disconnect();\n",
              "        }}\n",
              "}});\n",
              "\n",
              "// Listen for the removal of the full notebook cells\n",
              "var notebookContainer = gd.closest('#notebook-container');\n",
              "if (notebookContainer) {{\n",
              "    x.observe(notebookContainer, {childList: true});\n",
              "}}\n",
              "\n",
              "// Listen for the clearing of the current output cell\n",
              "var outputEl = gd.closest('.output');\n",
              "if (outputEl) {{\n",
              "    x.observe(outputEl, {childList: true});\n",
              "}}\n",
              "\n",
              "                        })\n",
              "                };\n",
              "                \n",
              "            </script>\n",
              "        </div>\n",
              "</body>\n",
              "</html>"
            ]
          },
          "metadata": {
            "tags": []
          }
        },
        {
          "output_type": "display_data",
          "data": {
            "text/html": [
              "<html>\n",
              "<head><meta charset=\"utf-8\" /></head>\n",
              "<body>\n",
              "    <div>\n",
              "            <script src=\"https://cdnjs.cloudflare.com/ajax/libs/mathjax/2.7.5/MathJax.js?config=TeX-AMS-MML_SVG\"></script><script type=\"text/javascript\">if (window.MathJax) {MathJax.Hub.Config({SVG: {font: \"STIX-Web\"}});}</script>\n",
              "                <script type=\"text/javascript\">window.PlotlyConfig = {MathJaxConfig: 'local'};</script>\n",
              "        <script src=\"https://cdn.plot.ly/plotly-latest.min.js\"></script>    \n",
              "            <div id=\"536d93a5-b302-420f-b1ad-7d8e512b902a\" class=\"plotly-graph-div\" style=\"height:525px; width:100%;\"></div>\n",
              "            <script type=\"text/javascript\">\n",
              "                \n",
              "                    window.PLOTLYENV=window.PLOTLYENV || {};\n",
              "                    \n",
              "                if (document.getElementById(\"536d93a5-b302-420f-b1ad-7d8e512b902a\")) {\n",
              "                    Plotly.newPlot(\n",
              "                        '536d93a5-b302-420f-b1ad-7d8e512b902a',\n",
              "                        [{\"alignmentgroup\": \"True\", \"hoverlabel\": {\"namelength\": 0}, \"hovertemplate\": \"Th\\u00e8me=%{y}<br>Nombre de mot par texte=%{x}\", \"legendgroup\": \"Th\\u00e8me=rec.autos\", \"marker\": {\"color\": \"#636efa\"}, \"name\": \"Th\\u00e8me=rec.autos\", \"notched\": false, \"offsetgroup\": \"Th\\u00e8me=rec.autos\", \"orientation\": \"h\", \"showlegend\": true, \"type\": \"box\", \"x\": [32, 602, 39, 156, 29, 42, 15, 82, 42, 11, 17, 14, 22, 102, 15, 18, 19, 12, 6, 40, 2, 58, 14, 51, 19, 16, 18, 28, 17, 75, 77, 22, 75, 13, 66, 27, 14, 29, 0, 0, 51, 123, 26, 0, 0, 0, 75, 160, 38, 25, 72, 23, 57, 43, 31, 99, 59, 102, 19, 140, 29, 13, 49, 47, 83, 19, 53, 88, 0, 246, 32, 13, 887, 42, 34, 22, 42, 21, 13, 2, 22, 38, 27, 14, 82, 125, 225, 62, 32, 49, 35, 17, 19, 64, 128, 27, 28, 38, 10, 57, 16, 5, 4, 7, 86, 8, 21, 27, 60, 26, 31, 46, 17, 28, 8, 36, 59, 31, 7, 17, 112, 14, 12, 83, 296, 17, 34, 0, 16, 84, 117, 0, 26, 0, 44, 19, 0, 22, 40, 18, 11, 5, 56, 339, 31, 63, 1, 12, 29, 83, 65, 20, 13, 42, 32, 70, 62, 44, 48, 27, 17, 39, 25, 100, 25, 27, 10, 83, 18, 64, 19, 8, 0, 55, 16, 217, 41, 32, 135, 27, 37, 77, 18, 39, 8, 23, 2, 0, 46, 384, 2, 140, 26, 48, 16, 48, 1, 23, 19, 0, 23, 54, 76, 446, 114, 2, 67, 0, 58, 46, 13, 16, 124, 36, 50, 7, 21, 31, 28, 0, 24, 15, 23, 12, 129, 13, 29, 38, 0, 920, 106, 30, 33, 73, 18, 5, 5, 17, 4, 47, 144, 20, 71, 46, 93, 63, 8, 73, 2, 60, 44, 35, 93, 0, 7, 132, 40, 17, 41, 13, 0, 15, 14, 23, 100, 200, 11, 29, 24, 13, 13, 29, 6, 37, 22, 26, 16, 96, 31, 95, 25, 91, 20, 29, 9, 53, 17, 33, 22, 50, 107, 18, 14, 127, 53, 63, 54, 3, 32, 19, 0, 358, 51, 23, 83, 72, 199, 48, 76, 6, 0, 20, 0, 82, 150, 69, 16, 101, 2064, 4, 52, 38, 42, 44, 251, 20, 147, 61, 19, 10, 65, 23, 4, 5, 23, 4, 23, 2, 4, 8, 16, 132, 27, 25, 235, 80, 12, 12, 30, 0, 35, 91, 6, 54, 26, 46, 50, 6, 0, 17, 18, 10, 21, 17, 2, 73, 0, 26, 7, 21, 3, 24, 53, 6, 14, 0, 21, 41, 26, 15, 19, 12, 30, 32, 84, 8, 59, 6, 9, 8, 7, 62, 20, 4, 28, 78, 15, 16, 36, 38, 36, 23, 19, 18, 32, 21, 22, 14, 49, 36, 9, 0, 52, 40, 66, 74, 45, 9, 12, 16, 84, 15, 24, 54, 8, 6, 21, 62, 22, 5, 60, 19, 98, 30, 13, 17, 103, 40, 28, 31, 8, 10, 45, 10, 17, 31, 37, 75, 7, 10, 15, 25, 27, 27, 70, 19, 59, 74, 34, 57, 30, 26, 13, 11, 103, 76, 40, 24, 79, 12, 56, 201, 24, 45, 22, 31, 9, 67, 111, 21, 10, 18, 21, 78, 34, 82, 31, 11, 24, 37, 0, 79, 49, 21, 60, 3, 91, 63, 59, 0, 72, 15, 82, 56, 34, 16, 40, 148, 43, 29, 63, 90, 67, 6, 39, 69, 18, 43, 33, 1, 38, 44, 46, 49, 10, 14, 50, 16, 2, 13, 82, 32, 3, 76, 0, 39, 42, 28, 36, 23, 45, 37, 9, 36, 17, 25, 19, 0, 29, 21, 15, 46, 14, 4, 68, 2, 46, 30, 14, 26, 32, 23, 35, 26, 79, 5, 20, 19, 8, 29, 178, 46, 26, 57, 23, 40, 78, 74, 0, 32, 69, 56, 50, 142, 10, 66, 19, 35, 114, 0, 84, 15, 44, 46], \"x0\": \" \", \"xaxis\": \"x\", \"y\": [\"rec.autos\", \"rec.autos\", \"rec.autos\", \"rec.autos\", \"rec.autos\", \"rec.autos\", \"rec.autos\", \"rec.autos\", \"rec.autos\", \"rec.autos\", \"rec.autos\", \"rec.autos\", \"rec.autos\", \"rec.autos\", \"rec.autos\", \"rec.autos\", \"rec.autos\", \"rec.autos\", \"rec.autos\", \"rec.autos\", \"rec.autos\", \"rec.autos\", \"rec.autos\", \"rec.autos\", \"rec.autos\", \"rec.autos\", \"rec.autos\", \"rec.autos\", \"rec.autos\", \"rec.autos\", \"rec.autos\", \"rec.autos\", \"rec.autos\", \"rec.autos\", \"rec.autos\", \"rec.autos\", \"rec.autos\", \"rec.autos\", \"rec.autos\", \"rec.autos\", \"rec.autos\", \"rec.autos\", \"rec.autos\", \"rec.autos\", \"rec.autos\", \"rec.autos\", \"rec.autos\", \"rec.autos\", \"rec.autos\", \"rec.autos\", \"rec.autos\", \"rec.autos\", \"rec.autos\", \"rec.autos\", \"rec.autos\", \"rec.autos\", \"rec.autos\", \"rec.autos\", \"rec.autos\", \"rec.autos\", \"rec.autos\", \"rec.autos\", \"rec.autos\", \"rec.autos\", \"rec.autos\", \"rec.autos\", \"rec.autos\", \"rec.autos\", \"rec.autos\", \"rec.autos\", \"rec.autos\", \"rec.autos\", \"rec.autos\", \"rec.autos\", \"rec.autos\", \"rec.autos\", \"rec.autos\", \"rec.autos\", \"rec.autos\", \"rec.autos\", \"rec.autos\", \"rec.autos\", \"rec.autos\", \"rec.autos\", \"rec.autos\", \"rec.autos\", \"rec.autos\", \"rec.autos\", \"rec.autos\", \"rec.autos\", \"rec.autos\", \"rec.autos\", \"rec.autos\", \"rec.autos\", \"rec.autos\", \"rec.autos\", \"rec.autos\", \"rec.autos\", \"rec.autos\", \"rec.autos\", \"rec.autos\", \"rec.autos\", \"rec.autos\", \"rec.autos\", \"rec.autos\", \"rec.autos\", \"rec.autos\", \"rec.autos\", \"rec.autos\", \"rec.autos\", \"rec.autos\", \"rec.autos\", \"rec.autos\", \"rec.autos\", \"rec.autos\", \"rec.autos\", \"rec.autos\", \"rec.autos\", \"rec.autos\", \"rec.autos\", \"rec.autos\", \"rec.autos\", \"rec.autos\", \"rec.autos\", \"rec.autos\", \"rec.autos\", \"rec.autos\", \"rec.autos\", \"rec.autos\", \"rec.autos\", \"rec.autos\", \"rec.autos\", \"rec.autos\", \"rec.autos\", \"rec.autos\", \"rec.autos\", \"rec.autos\", \"rec.autos\", \"rec.autos\", \"rec.autos\", \"rec.autos\", \"rec.autos\", \"rec.autos\", \"rec.autos\", \"rec.autos\", \"rec.autos\", \"rec.autos\", \"rec.autos\", \"rec.autos\", \"rec.autos\", \"rec.autos\", \"rec.autos\", \"rec.autos\", \"rec.autos\", \"rec.autos\", \"rec.autos\", \"rec.autos\", \"rec.autos\", \"rec.autos\", \"rec.autos\", \"rec.autos\", \"rec.autos\", \"rec.autos\", \"rec.autos\", \"rec.autos\", \"rec.autos\", \"rec.autos\", \"rec.autos\", \"rec.autos\", \"rec.autos\", \"rec.autos\", \"rec.autos\", \"rec.autos\", \"rec.autos\", \"rec.autos\", \"rec.autos\", \"rec.autos\", \"rec.autos\", \"rec.autos\", \"rec.autos\", \"rec.autos\", \"rec.autos\", \"rec.autos\", \"rec.autos\", \"rec.autos\", \"rec.autos\", \"rec.autos\", \"rec.autos\", \"rec.autos\", \"rec.autos\", \"rec.autos\", \"rec.autos\", \"rec.autos\", \"rec.autos\", \"rec.autos\", \"rec.autos\", \"rec.autos\", \"rec.autos\", \"rec.autos\", \"rec.autos\", \"rec.autos\", \"rec.autos\", \"rec.autos\", \"rec.autos\", \"rec.autos\", \"rec.autos\", \"rec.autos\", \"rec.autos\", \"rec.autos\", \"rec.autos\", \"rec.autos\", \"rec.autos\", \"rec.autos\", \"rec.autos\", \"rec.autos\", \"rec.autos\", \"rec.autos\", \"rec.autos\", \"rec.autos\", \"rec.autos\", \"rec.autos\", \"rec.autos\", \"rec.autos\", \"rec.autos\", \"rec.autos\", \"rec.autos\", \"rec.autos\", \"rec.autos\", \"rec.autos\", \"rec.autos\", \"rec.autos\", \"rec.autos\", \"rec.autos\", \"rec.autos\", \"rec.autos\", \"rec.autos\", \"rec.autos\", \"rec.autos\", \"rec.autos\", \"rec.autos\", \"rec.autos\", \"rec.autos\", \"rec.autos\", \"rec.autos\", \"rec.autos\", \"rec.autos\", \"rec.autos\", \"rec.autos\", \"rec.autos\", \"rec.autos\", \"rec.autos\", \"rec.autos\", \"rec.autos\", \"rec.autos\", \"rec.autos\", \"rec.autos\", \"rec.autos\", \"rec.autos\", \"rec.autos\", \"rec.autos\", \"rec.autos\", \"rec.autos\", \"rec.autos\", \"rec.autos\", \"rec.autos\", \"rec.autos\", \"rec.autos\", \"rec.autos\", \"rec.autos\", \"rec.autos\", \"rec.autos\", \"rec.autos\", \"rec.autos\", \"rec.autos\", \"rec.autos\", \"rec.autos\", \"rec.autos\", \"rec.autos\", \"rec.autos\", \"rec.autos\", \"rec.autos\", \"rec.autos\", \"rec.autos\", \"rec.autos\", \"rec.autos\", \"rec.autos\", \"rec.autos\", \"rec.autos\", \"rec.autos\", \"rec.autos\", \"rec.autos\", \"rec.autos\", \"rec.autos\", \"rec.autos\", \"rec.autos\", \"rec.autos\", \"rec.autos\", \"rec.autos\", \"rec.autos\", \"rec.autos\", \"rec.autos\", \"rec.autos\", \"rec.autos\", \"rec.autos\", \"rec.autos\", \"rec.autos\", \"rec.autos\", \"rec.autos\", \"rec.autos\", \"rec.autos\", \"rec.autos\", \"rec.autos\", \"rec.autos\", \"rec.autos\", \"rec.autos\", \"rec.autos\", \"rec.autos\", \"rec.autos\", \"rec.autos\", \"rec.autos\", \"rec.autos\", \"rec.autos\", \"rec.autos\", \"rec.autos\", \"rec.autos\", \"rec.autos\", \"rec.autos\", \"rec.autos\", \"rec.autos\", \"rec.autos\", \"rec.autos\", \"rec.autos\", \"rec.autos\", \"rec.autos\", \"rec.autos\", \"rec.autos\", \"rec.autos\", \"rec.autos\", \"rec.autos\", \"rec.autos\", \"rec.autos\", \"rec.autos\", \"rec.autos\", \"rec.autos\", \"rec.autos\", \"rec.autos\", \"rec.autos\", \"rec.autos\", \"rec.autos\", \"rec.autos\", \"rec.autos\", \"rec.autos\", \"rec.autos\", \"rec.autos\", \"rec.autos\", \"rec.autos\", \"rec.autos\", \"rec.autos\", \"rec.autos\", \"rec.autos\", \"rec.autos\", \"rec.autos\", \"rec.autos\", \"rec.autos\", \"rec.autos\", \"rec.autos\", \"rec.autos\", \"rec.autos\", \"rec.autos\", \"rec.autos\", \"rec.autos\", \"rec.autos\", \"rec.autos\", \"rec.autos\", \"rec.autos\", \"rec.autos\", \"rec.autos\", \"rec.autos\", \"rec.autos\", \"rec.autos\", \"rec.autos\", \"rec.autos\", \"rec.autos\", \"rec.autos\", \"rec.autos\", \"rec.autos\", \"rec.autos\", \"rec.autos\", \"rec.autos\", \"rec.autos\", \"rec.autos\", \"rec.autos\", \"rec.autos\", \"rec.autos\", \"rec.autos\", \"rec.autos\", \"rec.autos\", \"rec.autos\", \"rec.autos\", \"rec.autos\", \"rec.autos\", \"rec.autos\", \"rec.autos\", \"rec.autos\", \"rec.autos\", \"rec.autos\", \"rec.autos\", \"rec.autos\", \"rec.autos\", \"rec.autos\", \"rec.autos\", \"rec.autos\", \"rec.autos\", \"rec.autos\", \"rec.autos\", \"rec.autos\", \"rec.autos\", \"rec.autos\", \"rec.autos\", \"rec.autos\", \"rec.autos\", \"rec.autos\", \"rec.autos\", \"rec.autos\", \"rec.autos\", \"rec.autos\", \"rec.autos\", \"rec.autos\", \"rec.autos\", \"rec.autos\", \"rec.autos\", \"rec.autos\", \"rec.autos\", \"rec.autos\", \"rec.autos\", \"rec.autos\", \"rec.autos\", \"rec.autos\", \"rec.autos\", \"rec.autos\", \"rec.autos\", \"rec.autos\", \"rec.autos\", \"rec.autos\", \"rec.autos\", \"rec.autos\", \"rec.autos\", \"rec.autos\", \"rec.autos\", \"rec.autos\", \"rec.autos\", \"rec.autos\", \"rec.autos\", \"rec.autos\", \"rec.autos\", \"rec.autos\", \"rec.autos\", \"rec.autos\", \"rec.autos\", \"rec.autos\", \"rec.autos\", \"rec.autos\", \"rec.autos\", \"rec.autos\", \"rec.autos\", \"rec.autos\", \"rec.autos\", \"rec.autos\", \"rec.autos\", \"rec.autos\", \"rec.autos\", \"rec.autos\", \"rec.autos\", \"rec.autos\", \"rec.autos\", \"rec.autos\", \"rec.autos\", \"rec.autos\", \"rec.autos\", \"rec.autos\", \"rec.autos\", \"rec.autos\", \"rec.autos\", \"rec.autos\", \"rec.autos\", \"rec.autos\", \"rec.autos\", \"rec.autos\", \"rec.autos\", \"rec.autos\", \"rec.autos\", \"rec.autos\", \"rec.autos\", \"rec.autos\", \"rec.autos\", \"rec.autos\", \"rec.autos\", \"rec.autos\", \"rec.autos\", \"rec.autos\", \"rec.autos\", \"rec.autos\", \"rec.autos\", \"rec.autos\", \"rec.autos\", \"rec.autos\", \"rec.autos\", \"rec.autos\", \"rec.autos\", \"rec.autos\", \"rec.autos\", \"rec.autos\", \"rec.autos\", \"rec.autos\", \"rec.autos\", \"rec.autos\", \"rec.autos\", \"rec.autos\", \"rec.autos\", \"rec.autos\", \"rec.autos\", \"rec.autos\", \"rec.autos\", \"rec.autos\", \"rec.autos\", \"rec.autos\", \"rec.autos\", \"rec.autos\", \"rec.autos\", \"rec.autos\", \"rec.autos\", \"rec.autos\", \"rec.autos\", \"rec.autos\", \"rec.autos\", \"rec.autos\", \"rec.autos\", \"rec.autos\", \"rec.autos\", \"rec.autos\", \"rec.autos\", \"rec.autos\", \"rec.autos\", \"rec.autos\", \"rec.autos\", \"rec.autos\", \"rec.autos\", \"rec.autos\", \"rec.autos\", \"rec.autos\", \"rec.autos\", \"rec.autos\", \"rec.autos\", \"rec.autos\", \"rec.autos\", \"rec.autos\", \"rec.autos\", \"rec.autos\", \"rec.autos\", \"rec.autos\", \"rec.autos\", \"rec.autos\", \"rec.autos\", \"rec.autos\", \"rec.autos\", \"rec.autos\", \"rec.autos\", \"rec.autos\", \"rec.autos\", \"rec.autos\", \"rec.autos\", \"rec.autos\", \"rec.autos\", \"rec.autos\", \"rec.autos\", \"rec.autos\", \"rec.autos\", \"rec.autos\", \"rec.autos\", \"rec.autos\", \"rec.autos\", \"rec.autos\", \"rec.autos\", \"rec.autos\", \"rec.autos\", \"rec.autos\", \"rec.autos\", \"rec.autos\", \"rec.autos\", \"rec.autos\", \"rec.autos\", \"rec.autos\", \"rec.autos\", \"rec.autos\"], \"y0\": \" \", \"yaxis\": \"y\"}, {\"alignmentgroup\": \"True\", \"hoverlabel\": {\"namelength\": 0}, \"hovertemplate\": \"Th\\u00e8me=%{y}<br>Nombre de mot par texte=%{x}\", \"legendgroup\": \"Th\\u00e8me=soc.religion.christian\", \"marker\": {\"color\": \"#EF553B\"}, \"name\": \"Th\\u00e8me=soc.religion.christian\", \"notched\": false, \"offsetgroup\": \"Th\\u00e8me=soc.religion.christian\", \"orientation\": \"h\", \"showlegend\": true, \"type\": \"box\", \"x\": [123, 68, 139, 63, 39, 43, 15, 92, 87, 272, 264, 135, 49, 22, 47, 62, 410, 6, 89, 2, 553, 67, 29, 30, 9, 68, 96, 10, 275, 57, 60, 78, 0, 273, 90, 53, 57, 244, 218, 20, 37, 268, 265, 82, 119, 16, 60, 18, 344, 37, 24, 47, 67, 139, 70, 267, 87, 75, 63, 16, 58, 65, 28, 25, 183, 42, 201, 82, 18, 49, 47, 47, 46, 28, 101, 98, 492, 147, 123, 26, 21, 21, 4, 51, 98, 249, 37, 142, 88, 94, 67, 5, 417, 20, 29, 48, 20, 44, 292, 99, 36, 55, 82, 32, 66, 44, 57, 61, 35, 0, 19, 41, 200, 8, 21, 85, 149, 27, 0, 239, 58, 517, 118, 105, 74, 70, 85, 70, 89, 13, 25, 24, 20, 255, 40, 56, 63, 390, 31, 60, 67, 57, 157, 59, 128, 187, 0, 23, 49, 81, 55, 82, 69, 219, 45, 177, 80, 35, 15, 70, 158, 21, 60, 104, 325, 0, 105, 48, 42, 177, 66, 60, 10, 28, 42, 169, 419, 0, 58, 49, 26, 415, 71, 23, 3, 44, 53, 65, 130, 6, 121, 119, 109, 50, 58, 97, 58, 172, 139, 162, 72, 141, 10, 55, 136, 78, 69, 5, 64, 70, 43, 418, 153, 791, 117, 61, 30, 93, 44, 481, 55, 48, 140, 74, 70, 93, 209, 148, 78, 19, 77, 65, 153, 4, 84, 52, 16, 75, 170, 135, 10, 23, 218, 128, 106, 25, 0, 179, 209, 25, 64, 74, 0, 45, 87, 59, 31, 23, 29, 65, 53, 14, 22, 20, 129, 408, 208, 85, 77, 124, 320, 182, 42, 925, 280, 48, 21, 711, 17, 73, 1, 11, 156, 138, 33, 136, 475, 1117, 54, 131, 29, 69, 282, 361, 43, 12, 138, 77, 37, 137, 114, 267, 114, 87, 6, 139, 37, 114, 93, 8, 923, 106, 116, 38, 80, 39, 322, 163, 280, 114, 84, 51, 94, 21, 73, 6, 48, 69, 39, 32, 194, 183, 20, 42, 9, 136, 50, 330, 63, 117, 32, 90, 19, 4, 70, 127, 56, 26, 9, 15, 35, 10, 55, 267, 23, 16, 50, 163, 11, 0, 107, 44, 18, 3, 686, 480, 152, 346, 4, 24, 14, 81, 69, 24, 61, 102, 10, 215, 335, 109, 10, 38, 45, 55, 305, 50, 21, 5, 12, 45, 312, 75, 191, 22, 42, 111, 13, 37, 371, 53, 125, 42, 2, 7, 211, 55, 5, 41, 26, 49, 286, 31, 120, 288, 210, 16, 146, 70, 24, 447, 16, 55, 6, 109, 40, 112, 48, 78, 142, 62, 17, 10, 185, 30, 21, 55, 209, 119, 78, 51, 90, 178, 27, 25, 102, 27, 97, 49, 177, 101, 16, 23, 21, 6, 96, 62, 6, 413, 46, 29, 32, 542, 59, 13, 67, 154, 22, 147, 129, 26, 35, 46, 12, 25, 49, 48, 119, 16, 24, 569, 61, 50, 45, 128, 164, 51, 46, 124, 10, 34, 20, 20, 63, 33, 94, 60, 47, 50, 107, 52, 126, 14, 112, 68, 114, 48, 37, 186, 138, 82, 187, 73, 7, 38, 39, 95, 94, 491, 173, 232, 48, 78, 65, 116, 149, 40, 65, 132, 71, 55, 112, 60, 52, 25, 297, 342, 102, 105, 87, 31, 18, 18, 103, 138, 55, 73, 216, 86, 34, 102, 10, 71, 13, 29, 491, 123, 63, 151, 189, 34, 31, 256, 27, 156, 100, 53, 10, 181, 401, 38, 114, 36, 212, 142, 11, 77, 274, 26, 100, 13, 214, 29, 229, 15, 82, 182, 8, 169, 46, 113, 223, 22, 176, 34, 22, 35, 64, 46, 186], \"x0\": \" \", \"xaxis\": \"x\", \"y\": [\"soc.religion.christian\", \"soc.religion.christian\", \"soc.religion.christian\", \"soc.religion.christian\", \"soc.religion.christian\", \"soc.religion.christian\", \"soc.religion.christian\", \"soc.religion.christian\", \"soc.religion.christian\", \"soc.religion.christian\", \"soc.religion.christian\", \"soc.religion.christian\", \"soc.religion.christian\", \"soc.religion.christian\", \"soc.religion.christian\", \"soc.religion.christian\", \"soc.religion.christian\", \"soc.religion.christian\", \"soc.religion.christian\", \"soc.religion.christian\", \"soc.religion.christian\", \"soc.religion.christian\", \"soc.religion.christian\", \"soc.religion.christian\", \"soc.religion.christian\", \"soc.religion.christian\", \"soc.religion.christian\", \"soc.religion.christian\", \"soc.religion.christian\", \"soc.religion.christian\", \"soc.religion.christian\", \"soc.religion.christian\", \"soc.religion.christian\", \"soc.religion.christian\", \"soc.religion.christian\", \"soc.religion.christian\", \"soc.religion.christian\", \"soc.religion.christian\", \"soc.religion.christian\", \"soc.religion.christian\", \"soc.religion.christian\", \"soc.religion.christian\", \"soc.religion.christian\", \"soc.religion.christian\", \"soc.religion.christian\", \"soc.religion.christian\", \"soc.religion.christian\", \"soc.religion.christian\", \"soc.religion.christian\", \"soc.religion.christian\", \"soc.religion.christian\", \"soc.religion.christian\", \"soc.religion.christian\", \"soc.religion.christian\", \"soc.religion.christian\", \"soc.religion.christian\", \"soc.religion.christian\", \"soc.religion.christian\", \"soc.religion.christian\", \"soc.religion.christian\", \"soc.religion.christian\", \"soc.religion.christian\", \"soc.religion.christian\", \"soc.religion.christian\", \"soc.religion.christian\", \"soc.religion.christian\", \"soc.religion.christian\", \"soc.religion.christian\", \"soc.religion.christian\", \"soc.religion.christian\", \"soc.religion.christian\", \"soc.religion.christian\", \"soc.religion.christian\", \"soc.religion.christian\", \"soc.religion.christian\", \"soc.religion.christian\", \"soc.religion.christian\", \"soc.religion.christian\", \"soc.religion.christian\", \"soc.religion.christian\", \"soc.religion.christian\", \"soc.religion.christian\", \"soc.religion.christian\", \"soc.religion.christian\", \"soc.religion.christian\", \"soc.religion.christian\", \"soc.religion.christian\", \"soc.religion.christian\", \"soc.religion.christian\", \"soc.religion.christian\", \"soc.religion.christian\", \"soc.religion.christian\", \"soc.religion.christian\", \"soc.religion.christian\", \"soc.religion.christian\", \"soc.religion.christian\", \"soc.religion.christian\", \"soc.religion.christian\", \"soc.religion.christian\", \"soc.religion.christian\", \"soc.religion.christian\", \"soc.religion.christian\", \"soc.religion.christian\", \"soc.religion.christian\", \"soc.religion.christian\", \"soc.religion.christian\", \"soc.religion.christian\", \"soc.religion.christian\", \"soc.religion.christian\", \"soc.religion.christian\", \"soc.religion.christian\", \"soc.religion.christian\", \"soc.religion.christian\", \"soc.religion.christian\", \"soc.religion.christian\", \"soc.religion.christian\", \"soc.religion.christian\", \"soc.religion.christian\", \"soc.religion.christian\", \"soc.religion.christian\", \"soc.religion.christian\", \"soc.religion.christian\", \"soc.religion.christian\", \"soc.religion.christian\", \"soc.religion.christian\", \"soc.religion.christian\", \"soc.religion.christian\", \"soc.religion.christian\", \"soc.religion.christian\", \"soc.religion.christian\", \"soc.religion.christian\", \"soc.religion.christian\", \"soc.religion.christian\", \"soc.religion.christian\", \"soc.religion.christian\", \"soc.religion.christian\", \"soc.religion.christian\", \"soc.religion.christian\", \"soc.religion.christian\", \"soc.religion.christian\", \"soc.religion.christian\", \"soc.religion.christian\", \"soc.religion.christian\", \"soc.religion.christian\", \"soc.religion.christian\", \"soc.religion.christian\", \"soc.religion.christian\", \"soc.religion.christian\", \"soc.religion.christian\", \"soc.religion.christian\", \"soc.religion.christian\", \"soc.religion.christian\", \"soc.religion.christian\", \"soc.religion.christian\", \"soc.religion.christian\", \"soc.religion.christian\", \"soc.religion.christian\", \"soc.religion.christian\", \"soc.religion.christian\", \"soc.religion.christian\", \"soc.religion.christian\", \"soc.religion.christian\", \"soc.religion.christian\", \"soc.religion.christian\", \"soc.religion.christian\", \"soc.religion.christian\", \"soc.religion.christian\", \"soc.religion.christian\", \"soc.religion.christian\", \"soc.religion.christian\", \"soc.religion.christian\", \"soc.religion.christian\", \"soc.religion.christian\", \"soc.religion.christian\", \"soc.religion.christian\", \"soc.religion.christian\", \"soc.religion.christian\", \"soc.religion.christian\", \"soc.religion.christian\", \"soc.religion.christian\", \"soc.religion.christian\", \"soc.religion.christian\", \"soc.religion.christian\", \"soc.religion.christian\", \"soc.religion.christian\", \"soc.religion.christian\", \"soc.religion.christian\", \"soc.religion.christian\", \"soc.religion.christian\", \"soc.religion.christian\", \"soc.religion.christian\", \"soc.religion.christian\", \"soc.religion.christian\", \"soc.religion.christian\", \"soc.religion.christian\", \"soc.religion.christian\", \"soc.religion.christian\", \"soc.religion.christian\", \"soc.religion.christian\", \"soc.religion.christian\", \"soc.religion.christian\", \"soc.religion.christian\", \"soc.religion.christian\", \"soc.religion.christian\", \"soc.religion.christian\", \"soc.religion.christian\", \"soc.religion.christian\", \"soc.religion.christian\", \"soc.religion.christian\", \"soc.religion.christian\", \"soc.religion.christian\", \"soc.religion.christian\", \"soc.religion.christian\", \"soc.religion.christian\", \"soc.religion.christian\", \"soc.religion.christian\", \"soc.religion.christian\", \"soc.religion.christian\", \"soc.religion.christian\", \"soc.religion.christian\", \"soc.religion.christian\", \"soc.religion.christian\", \"soc.religion.christian\", \"soc.religion.christian\", \"soc.religion.christian\", \"soc.religion.christian\", \"soc.religion.christian\", \"soc.religion.christian\", \"soc.religion.christian\", \"soc.religion.christian\", \"soc.religion.christian\", \"soc.religion.christian\", \"soc.religion.christian\", \"soc.religion.christian\", \"soc.religion.christian\", \"soc.religion.christian\", \"soc.religion.christian\", \"soc.religion.christian\", \"soc.religion.christian\", \"soc.religion.christian\", \"soc.religion.christian\", \"soc.religion.christian\", \"soc.religion.christian\", \"soc.religion.christian\", \"soc.religion.christian\", \"soc.religion.christian\", \"soc.religion.christian\", \"soc.religion.christian\", \"soc.religion.christian\", \"soc.religion.christian\", \"soc.religion.christian\", \"soc.religion.christian\", \"soc.religion.christian\", \"soc.religion.christian\", \"soc.religion.christian\", \"soc.religion.christian\", \"soc.religion.christian\", \"soc.religion.christian\", \"soc.religion.christian\", \"soc.religion.christian\", \"soc.religion.christian\", \"soc.religion.christian\", \"soc.religion.christian\", \"soc.religion.christian\", \"soc.religion.christian\", \"soc.religion.christian\", \"soc.religion.christian\", \"soc.religion.christian\", \"soc.religion.christian\", \"soc.religion.christian\", \"soc.religion.christian\", \"soc.religion.christian\", \"soc.religion.christian\", \"soc.religion.christian\", \"soc.religion.christian\", \"soc.religion.christian\", \"soc.religion.christian\", \"soc.religion.christian\", \"soc.religion.christian\", \"soc.religion.christian\", \"soc.religion.christian\", \"soc.religion.christian\", \"soc.religion.christian\", \"soc.religion.christian\", \"soc.religion.christian\", \"soc.religion.christian\", \"soc.religion.christian\", \"soc.religion.christian\", \"soc.religion.christian\", \"soc.religion.christian\", \"soc.religion.christian\", \"soc.religion.christian\", \"soc.religion.christian\", \"soc.religion.christian\", \"soc.religion.christian\", \"soc.religion.christian\", \"soc.religion.christian\", \"soc.religion.christian\", \"soc.religion.christian\", \"soc.religion.christian\", \"soc.religion.christian\", \"soc.religion.christian\", \"soc.religion.christian\", \"soc.religion.christian\", \"soc.religion.christian\", \"soc.religion.christian\", \"soc.religion.christian\", \"soc.religion.christian\", \"soc.religion.christian\", \"soc.religion.christian\", \"soc.religion.christian\", \"soc.religion.christian\", \"soc.religion.christian\", \"soc.religion.christian\", \"soc.religion.christian\", \"soc.religion.christian\", \"soc.religion.christian\", \"soc.religion.christian\", \"soc.religion.christian\", \"soc.religion.christian\", \"soc.religion.christian\", \"soc.religion.christian\", \"soc.religion.christian\", \"soc.religion.christian\", \"soc.religion.christian\", \"soc.religion.christian\", \"soc.religion.christian\", \"soc.religion.christian\", \"soc.religion.christian\", \"soc.religion.christian\", \"soc.religion.christian\", \"soc.religion.christian\", \"soc.religion.christian\", \"soc.religion.christian\", \"soc.religion.christian\", \"soc.religion.christian\", \"soc.religion.christian\", \"soc.religion.christian\", \"soc.religion.christian\", \"soc.religion.christian\", \"soc.religion.christian\", \"soc.religion.christian\", \"soc.religion.christian\", \"soc.religion.christian\", \"soc.religion.christian\", \"soc.religion.christian\", \"soc.religion.christian\", \"soc.religion.christian\", \"soc.religion.christian\", \"soc.religion.christian\", \"soc.religion.christian\", \"soc.religion.christian\", \"soc.religion.christian\", \"soc.religion.christian\", \"soc.religion.christian\", \"soc.religion.christian\", \"soc.religion.christian\", \"soc.religion.christian\", \"soc.religion.christian\", \"soc.religion.christian\", \"soc.religion.christian\", \"soc.religion.christian\", \"soc.religion.christian\", \"soc.religion.christian\", \"soc.religion.christian\", \"soc.religion.christian\", \"soc.religion.christian\", \"soc.religion.christian\", \"soc.religion.christian\", \"soc.religion.christian\", \"soc.religion.christian\", \"soc.religion.christian\", \"soc.religion.christian\", \"soc.religion.christian\", \"soc.religion.christian\", \"soc.religion.christian\", \"soc.religion.christian\", \"soc.religion.christian\", \"soc.religion.christian\", \"soc.religion.christian\", \"soc.religion.christian\", \"soc.religion.christian\", \"soc.religion.christian\", \"soc.religion.christian\", \"soc.religion.christian\", \"soc.religion.christian\", \"soc.religion.christian\", \"soc.religion.christian\", \"soc.religion.christian\", \"soc.religion.christian\", \"soc.religion.christian\", \"soc.religion.christian\", \"soc.religion.christian\", \"soc.religion.christian\", \"soc.religion.christian\", \"soc.religion.christian\", \"soc.religion.christian\", \"soc.religion.christian\", \"soc.religion.christian\", \"soc.religion.christian\", \"soc.religion.christian\", \"soc.religion.christian\", \"soc.religion.christian\", \"soc.religion.christian\", \"soc.religion.christian\", \"soc.religion.christian\", \"soc.religion.christian\", \"soc.religion.christian\", \"soc.religion.christian\", \"soc.religion.christian\", \"soc.religion.christian\", \"soc.religion.christian\", \"soc.religion.christian\", \"soc.religion.christian\", \"soc.religion.christian\", \"soc.religion.christian\", \"soc.religion.christian\", \"soc.religion.christian\", \"soc.religion.christian\", \"soc.religion.christian\", \"soc.religion.christian\", \"soc.religion.christian\", \"soc.religion.christian\", \"soc.religion.christian\", \"soc.religion.christian\", \"soc.religion.christian\", \"soc.religion.christian\", \"soc.religion.christian\", \"soc.religion.christian\", \"soc.religion.christian\", \"soc.religion.christian\", \"soc.religion.christian\", \"soc.religion.christian\", \"soc.religion.christian\", \"soc.religion.christian\", \"soc.religion.christian\", \"soc.religion.christian\", \"soc.religion.christian\", \"soc.religion.christian\", \"soc.religion.christian\", \"soc.religion.christian\", \"soc.religion.christian\", \"soc.religion.christian\", \"soc.religion.christian\", \"soc.religion.christian\", \"soc.religion.christian\", \"soc.religion.christian\", \"soc.religion.christian\", \"soc.religion.christian\", \"soc.religion.christian\", \"soc.religion.christian\", \"soc.religion.christian\", \"soc.religion.christian\", \"soc.religion.christian\", \"soc.religion.christian\", \"soc.religion.christian\", \"soc.religion.christian\", \"soc.religion.christian\", \"soc.religion.christian\", \"soc.religion.christian\", \"soc.religion.christian\", \"soc.religion.christian\", \"soc.religion.christian\", \"soc.religion.christian\", \"soc.religion.christian\", \"soc.religion.christian\", \"soc.religion.christian\", \"soc.religion.christian\", \"soc.religion.christian\", \"soc.religion.christian\", \"soc.religion.christian\", \"soc.religion.christian\", \"soc.religion.christian\", \"soc.religion.christian\", \"soc.religion.christian\", \"soc.religion.christian\", \"soc.religion.christian\", \"soc.religion.christian\", \"soc.religion.christian\", \"soc.religion.christian\", \"soc.religion.christian\", \"soc.religion.christian\", \"soc.religion.christian\", \"soc.religion.christian\", \"soc.religion.christian\", \"soc.religion.christian\", \"soc.religion.christian\", \"soc.religion.christian\", \"soc.religion.christian\", \"soc.religion.christian\", \"soc.religion.christian\", \"soc.religion.christian\", \"soc.religion.christian\", \"soc.religion.christian\", \"soc.religion.christian\", \"soc.religion.christian\", \"soc.religion.christian\", \"soc.religion.christian\", \"soc.religion.christian\", \"soc.religion.christian\", \"soc.religion.christian\", \"soc.religion.christian\", \"soc.religion.christian\", \"soc.religion.christian\", \"soc.religion.christian\", \"soc.religion.christian\", \"soc.religion.christian\", \"soc.religion.christian\", \"soc.religion.christian\", \"soc.religion.christian\", \"soc.religion.christian\", \"soc.religion.christian\", \"soc.religion.christian\", \"soc.religion.christian\", \"soc.religion.christian\", \"soc.religion.christian\", \"soc.religion.christian\", \"soc.religion.christian\", \"soc.religion.christian\", \"soc.religion.christian\", \"soc.religion.christian\", \"soc.religion.christian\", \"soc.religion.christian\", \"soc.religion.christian\", \"soc.religion.christian\", \"soc.religion.christian\", \"soc.religion.christian\", \"soc.religion.christian\", \"soc.religion.christian\", \"soc.religion.christian\", \"soc.religion.christian\", \"soc.religion.christian\", \"soc.religion.christian\", \"soc.religion.christian\", \"soc.religion.christian\", \"soc.religion.christian\", \"soc.religion.christian\", \"soc.religion.christian\", \"soc.religion.christian\", \"soc.religion.christian\", \"soc.religion.christian\", \"soc.religion.christian\", \"soc.religion.christian\", \"soc.religion.christian\", \"soc.religion.christian\", \"soc.religion.christian\", \"soc.religion.christian\", \"soc.religion.christian\", \"soc.religion.christian\", \"soc.religion.christian\", \"soc.religion.christian\", \"soc.religion.christian\", \"soc.religion.christian\", \"soc.religion.christian\", \"soc.religion.christian\", \"soc.religion.christian\", \"soc.religion.christian\", \"soc.religion.christian\", \"soc.religion.christian\", \"soc.religion.christian\", \"soc.religion.christian\", \"soc.religion.christian\", \"soc.religion.christian\", \"soc.religion.christian\", \"soc.religion.christian\", \"soc.religion.christian\", \"soc.religion.christian\", \"soc.religion.christian\", \"soc.religion.christian\", \"soc.religion.christian\", \"soc.religion.christian\", \"soc.religion.christian\", \"soc.religion.christian\", \"soc.religion.christian\", \"soc.religion.christian\", \"soc.religion.christian\", \"soc.religion.christian\", \"soc.religion.christian\", \"soc.religion.christian\", \"soc.religion.christian\", \"soc.religion.christian\", \"soc.religion.christian\", \"soc.religion.christian\", \"soc.religion.christian\", \"soc.religion.christian\", \"soc.religion.christian\", \"soc.religion.christian\", \"soc.religion.christian\", \"soc.religion.christian\", \"soc.religion.christian\", \"soc.religion.christian\", \"soc.religion.christian\", \"soc.religion.christian\", \"soc.religion.christian\", \"soc.religion.christian\", \"soc.religion.christian\", \"soc.religion.christian\", \"soc.religion.christian\", \"soc.religion.christian\"], \"y0\": \" \", \"yaxis\": \"y\"}, {\"alignmentgroup\": \"True\", \"hoverlabel\": {\"namelength\": 0}, \"hovertemplate\": \"Th\\u00e8me=%{y}<br>Nombre de mot par texte=%{x}\", \"legendgroup\": \"Th\\u00e8me=rec.sport.hockey\", \"marker\": {\"color\": \"#00cc96\"}, \"name\": \"Th\\u00e8me=rec.sport.hockey\", \"notched\": false, \"offsetgroup\": \"Th\\u00e8me=rec.sport.hockey\", \"orientation\": \"h\", \"showlegend\": true, \"type\": \"box\", \"x\": [38, 22, 8, 13, 9, 10, 8, 168, 46, 54, 14, 19, 25, 31, 24, 45, 19, 18, 64, 74, 348, 86, 0, 70, 151, 161, 2, 39, 371, 0, 8, 34, 21, 29, 23, 34, 18, 11, 42, 13, 30, 128, 44, 521, 35, 26, 91, 26, 3, 52, 12, 172, 160, 27, 14, 151, 22, 0, 70, 73, 23, 12, 611, 88, 50, 16, 153, 31, 5, 43, 14, 76, 0, 22, 25, 22, 107, 236, 38, 11, 300, 11, 88, 62, 38, 7, 18, 50, 55, 21, 14, 41, 19, 37, 78, 83, 12, 24, 66, 83, 60, 1, 55, 3, 44, 15, 145, 69, 88, 59, 92, 59, 36, 18, 43, 16, 219, 131, 37, 16, 31, 2, 0, 55, 66, 14, 67, 20, 49, 15, 22, 28, 18, 66, 165, 25, 20, 20, 22, 50, 106, 196, 41, 4, 60, 57, 71, 4, 37, 1199, 14, 8, 26, 30, 36, 66, 60, 2, 32, 31, 23, 0, 1, 16, 9, 44, 182, 51, 84, 33, 12, 654, 69, 3, 22, 13, 8, 13, 25, 75, 79, 467, 221, 39, 21, 14, 24, 145, 22, 17, 142, 906, 22, 89, 18, 64, 63, 3, 23, 26, 12, 19, 15, 96, 9, 0, 26, 116, 2, 177, 22, 29, 82, 185, 7, 25, 10, 37, 98, 150, 60, 18, 199, 56, 122, 12, 453, 109, 77, 17, 25, 68, 50, 898, 68, 68, 112, 14, 20, 630, 0, 312, 6, 5, 185, 30, 39, 22, 13, 60, 161, 21, 62, 7, 15, 14, 31, 21, 35, 17, 13, 161, 53, 101, 17, 58, 10, 27, 27, 40, 15, 23, 36, 101, 9, 0, 27, 17, 214, 19, 58, 352, 18, 40, 39, 45, 84, 13, 4, 15, 273, 10, 11, 217, 252, 25, 17, 94, 73, 75, 46, 203, 45, 20, 6, 82, 16, 15, 14, 54, 43, 49, 87, 28, 12, 14, 0, 34, 23, 36, 53, 46, 43, 52, 99, 94, 20, 209, 20, 57, 3, 20, 66, 36, 11, 6, 28, 20, 32, 88, 0, 428, 146, 51, 48, 61, 18, 11, 211, 394, 10, 495, 19, 52, 5, 24, 83, 74, 40, 109, 2, 296, 273, 67, 43, 49, 64, 286, 78, 44, 27, 2, 29, 1, 226, 49, 35, 4, 10, 96, 41, 8, 60, 385, 125, 281, 131, 25, 10, 23, 39, 4, 275, 38, 40, 519, 11, 27, 22, 15, 44, 94, 104, 12, 27, 16, 13, 47, 72, 38, 160, 104, 42, 62, 83, 713, 65, 54, 34, 6, 16, 86, 74, 45, 66, 24, 0, 45, 19, 72, 37, 26, 23, 70, 16, 75, 245, 35, 111, 14, 38, 51, 38, 12, 49, 49, 65, 138, 21, 14, 3, 24, 39, 511, 26, 36, 16, 84, 129, 579, 116, 216, 9, 55, 10, 111, 20, 5, 0, 41, 49, 15, 67, 18, 3, 111, 93, 21, 3, 12, 89, 22, 38, 44, 25, 1357, 5, 62, 92, 148, 124, 100, 41, 70, 6, 28, 32, 22, 55, 40, 593, 9, 91, 173, 73, 13, 108, 27, 12, 52, 139, 6158, 120, 28, 34, 84, 54, 34, 130, 51, 54, 143, 77, 58, 51, 3, 9, 41, 33, 43, 23, 16, 72, 24, 193, 57, 27, 7, 11, 44, 26, 64, 14, 48, 12, 112, 66, 17, 32, 18, 5, 0, 18, 15, 69, 17, 20, 0, 3, 47, 0, 26, 29, 12, 156, 85, 36, 30, 236, 12, 562, 46, 115, 4, 116, 58, 470, 126, 16, 95, 78, 21, 18, 12, 38, 9, 90, 100, 3, 15, 150, 32, 16, 18, 41, 10, 11, 40, 49, 76], \"x0\": \" \", \"xaxis\": \"x\", \"y\": [\"rec.sport.hockey\", \"rec.sport.hockey\", \"rec.sport.hockey\", \"rec.sport.hockey\", \"rec.sport.hockey\", \"rec.sport.hockey\", \"rec.sport.hockey\", \"rec.sport.hockey\", \"rec.sport.hockey\", \"rec.sport.hockey\", \"rec.sport.hockey\", \"rec.sport.hockey\", \"rec.sport.hockey\", \"rec.sport.hockey\", \"rec.sport.hockey\", \"rec.sport.hockey\", \"rec.sport.hockey\", \"rec.sport.hockey\", \"rec.sport.hockey\", \"rec.sport.hockey\", \"rec.sport.hockey\", \"rec.sport.hockey\", \"rec.sport.hockey\", \"rec.sport.hockey\", \"rec.sport.hockey\", \"rec.sport.hockey\", \"rec.sport.hockey\", \"rec.sport.hockey\", \"rec.sport.hockey\", \"rec.sport.hockey\", \"rec.sport.hockey\", \"rec.sport.hockey\", \"rec.sport.hockey\", \"rec.sport.hockey\", \"rec.sport.hockey\", \"rec.sport.hockey\", \"rec.sport.hockey\", \"rec.sport.hockey\", \"rec.sport.hockey\", \"rec.sport.hockey\", \"rec.sport.hockey\", \"rec.sport.hockey\", \"rec.sport.hockey\", \"rec.sport.hockey\", \"rec.sport.hockey\", \"rec.sport.hockey\", \"rec.sport.hockey\", \"rec.sport.hockey\", \"rec.sport.hockey\", \"rec.sport.hockey\", \"rec.sport.hockey\", \"rec.sport.hockey\", \"rec.sport.hockey\", \"rec.sport.hockey\", \"rec.sport.hockey\", \"rec.sport.hockey\", \"rec.sport.hockey\", \"rec.sport.hockey\", \"rec.sport.hockey\", \"rec.sport.hockey\", \"rec.sport.hockey\", \"rec.sport.hockey\", \"rec.sport.hockey\", \"rec.sport.hockey\", \"rec.sport.hockey\", \"rec.sport.hockey\", \"rec.sport.hockey\", \"rec.sport.hockey\", \"rec.sport.hockey\", \"rec.sport.hockey\", \"rec.sport.hockey\", \"rec.sport.hockey\", \"rec.sport.hockey\", \"rec.sport.hockey\", \"rec.sport.hockey\", \"rec.sport.hockey\", \"rec.sport.hockey\", \"rec.sport.hockey\", \"rec.sport.hockey\", \"rec.sport.hockey\", \"rec.sport.hockey\", \"rec.sport.hockey\", \"rec.sport.hockey\", \"rec.sport.hockey\", \"rec.sport.hockey\", \"rec.sport.hockey\", \"rec.sport.hockey\", \"rec.sport.hockey\", \"rec.sport.hockey\", \"rec.sport.hockey\", \"rec.sport.hockey\", \"rec.sport.hockey\", \"rec.sport.hockey\", \"rec.sport.hockey\", \"rec.sport.hockey\", \"rec.sport.hockey\", \"rec.sport.hockey\", \"rec.sport.hockey\", \"rec.sport.hockey\", \"rec.sport.hockey\", \"rec.sport.hockey\", \"rec.sport.hockey\", \"rec.sport.hockey\", \"rec.sport.hockey\", \"rec.sport.hockey\", \"rec.sport.hockey\", \"rec.sport.hockey\", \"rec.sport.hockey\", \"rec.sport.hockey\", \"rec.sport.hockey\", \"rec.sport.hockey\", \"rec.sport.hockey\", \"rec.sport.hockey\", \"rec.sport.hockey\", \"rec.sport.hockey\", \"rec.sport.hockey\", \"rec.sport.hockey\", \"rec.sport.hockey\", \"rec.sport.hockey\", \"rec.sport.hockey\", \"rec.sport.hockey\", \"rec.sport.hockey\", \"rec.sport.hockey\", \"rec.sport.hockey\", \"rec.sport.hockey\", \"rec.sport.hockey\", \"rec.sport.hockey\", \"rec.sport.hockey\", \"rec.sport.hockey\", \"rec.sport.hockey\", \"rec.sport.hockey\", \"rec.sport.hockey\", \"rec.sport.hockey\", \"rec.sport.hockey\", \"rec.sport.hockey\", \"rec.sport.hockey\", \"rec.sport.hockey\", \"rec.sport.hockey\", \"rec.sport.hockey\", \"rec.sport.hockey\", \"rec.sport.hockey\", \"rec.sport.hockey\", \"rec.sport.hockey\", \"rec.sport.hockey\", \"rec.sport.hockey\", \"rec.sport.hockey\", \"rec.sport.hockey\", \"rec.sport.hockey\", \"rec.sport.hockey\", \"rec.sport.hockey\", \"rec.sport.hockey\", \"rec.sport.hockey\", \"rec.sport.hockey\", \"rec.sport.hockey\", \"rec.sport.hockey\", \"rec.sport.hockey\", \"rec.sport.hockey\", \"rec.sport.hockey\", \"rec.sport.hockey\", \"rec.sport.hockey\", \"rec.sport.hockey\", \"rec.sport.hockey\", \"rec.sport.hockey\", \"rec.sport.hockey\", \"rec.sport.hockey\", \"rec.sport.hockey\", \"rec.sport.hockey\", \"rec.sport.hockey\", \"rec.sport.hockey\", \"rec.sport.hockey\", \"rec.sport.hockey\", \"rec.sport.hockey\", \"rec.sport.hockey\", \"rec.sport.hockey\", \"rec.sport.hockey\", \"rec.sport.hockey\", \"rec.sport.hockey\", \"rec.sport.hockey\", \"rec.sport.hockey\", \"rec.sport.hockey\", \"rec.sport.hockey\", \"rec.sport.hockey\", \"rec.sport.hockey\", \"rec.sport.hockey\", \"rec.sport.hockey\", \"rec.sport.hockey\", \"rec.sport.hockey\", \"rec.sport.hockey\", \"rec.sport.hockey\", \"rec.sport.hockey\", \"rec.sport.hockey\", \"rec.sport.hockey\", \"rec.sport.hockey\", \"rec.sport.hockey\", \"rec.sport.hockey\", \"rec.sport.hockey\", \"rec.sport.hockey\", \"rec.sport.hockey\", \"rec.sport.hockey\", \"rec.sport.hockey\", \"rec.sport.hockey\", \"rec.sport.hockey\", \"rec.sport.hockey\", \"rec.sport.hockey\", \"rec.sport.hockey\", \"rec.sport.hockey\", \"rec.sport.hockey\", \"rec.sport.hockey\", \"rec.sport.hockey\", \"rec.sport.hockey\", \"rec.sport.hockey\", \"rec.sport.hockey\", \"rec.sport.hockey\", \"rec.sport.hockey\", \"rec.sport.hockey\", \"rec.sport.hockey\", \"rec.sport.hockey\", \"rec.sport.hockey\", \"rec.sport.hockey\", \"rec.sport.hockey\", \"rec.sport.hockey\", \"rec.sport.hockey\", \"rec.sport.hockey\", \"rec.sport.hockey\", \"rec.sport.hockey\", \"rec.sport.hockey\", \"rec.sport.hockey\", \"rec.sport.hockey\", \"rec.sport.hockey\", \"rec.sport.hockey\", \"rec.sport.hockey\", \"rec.sport.hockey\", \"rec.sport.hockey\", \"rec.sport.hockey\", \"rec.sport.hockey\", \"rec.sport.hockey\", \"rec.sport.hockey\", \"rec.sport.hockey\", \"rec.sport.hockey\", \"rec.sport.hockey\", \"rec.sport.hockey\", \"rec.sport.hockey\", \"rec.sport.hockey\", \"rec.sport.hockey\", \"rec.sport.hockey\", \"rec.sport.hockey\", \"rec.sport.hockey\", \"rec.sport.hockey\", \"rec.sport.hockey\", \"rec.sport.hockey\", \"rec.sport.hockey\", \"rec.sport.hockey\", \"rec.sport.hockey\", \"rec.sport.hockey\", \"rec.sport.hockey\", \"rec.sport.hockey\", \"rec.sport.hockey\", \"rec.sport.hockey\", \"rec.sport.hockey\", \"rec.sport.hockey\", \"rec.sport.hockey\", \"rec.sport.hockey\", \"rec.sport.hockey\", \"rec.sport.hockey\", \"rec.sport.hockey\", \"rec.sport.hockey\", \"rec.sport.hockey\", \"rec.sport.hockey\", \"rec.sport.hockey\", \"rec.sport.hockey\", \"rec.sport.hockey\", \"rec.sport.hockey\", \"rec.sport.hockey\", \"rec.sport.hockey\", \"rec.sport.hockey\", \"rec.sport.hockey\", \"rec.sport.hockey\", \"rec.sport.hockey\", \"rec.sport.hockey\", \"rec.sport.hockey\", \"rec.sport.hockey\", \"rec.sport.hockey\", \"rec.sport.hockey\", \"rec.sport.hockey\", \"rec.sport.hockey\", \"rec.sport.hockey\", \"rec.sport.hockey\", \"rec.sport.hockey\", \"rec.sport.hockey\", \"rec.sport.hockey\", \"rec.sport.hockey\", \"rec.sport.hockey\", \"rec.sport.hockey\", \"rec.sport.hockey\", \"rec.sport.hockey\", \"rec.sport.hockey\", \"rec.sport.hockey\", \"rec.sport.hockey\", \"rec.sport.hockey\", \"rec.sport.hockey\", \"rec.sport.hockey\", \"rec.sport.hockey\", \"rec.sport.hockey\", \"rec.sport.hockey\", \"rec.sport.hockey\", \"rec.sport.hockey\", \"rec.sport.hockey\", \"rec.sport.hockey\", \"rec.sport.hockey\", \"rec.sport.hockey\", \"rec.sport.hockey\", \"rec.sport.hockey\", \"rec.sport.hockey\", \"rec.sport.hockey\", \"rec.sport.hockey\", \"rec.sport.hockey\", \"rec.sport.hockey\", \"rec.sport.hockey\", \"rec.sport.hockey\", \"rec.sport.hockey\", \"rec.sport.hockey\", \"rec.sport.hockey\", \"rec.sport.hockey\", \"rec.sport.hockey\", \"rec.sport.hockey\", \"rec.sport.hockey\", \"rec.sport.hockey\", \"rec.sport.hockey\", \"rec.sport.hockey\", \"rec.sport.hockey\", \"rec.sport.hockey\", \"rec.sport.hockey\", \"rec.sport.hockey\", \"rec.sport.hockey\", \"rec.sport.hockey\", \"rec.sport.hockey\", \"rec.sport.hockey\", \"rec.sport.hockey\", \"rec.sport.hockey\", \"rec.sport.hockey\", \"rec.sport.hockey\", \"rec.sport.hockey\", \"rec.sport.hockey\", \"rec.sport.hockey\", \"rec.sport.hockey\", \"rec.sport.hockey\", \"rec.sport.hockey\", \"rec.sport.hockey\", \"rec.sport.hockey\", \"rec.sport.hockey\", \"rec.sport.hockey\", \"rec.sport.hockey\", \"rec.sport.hockey\", \"rec.sport.hockey\", \"rec.sport.hockey\", \"rec.sport.hockey\", \"rec.sport.hockey\", \"rec.sport.hockey\", \"rec.sport.hockey\", \"rec.sport.hockey\", \"rec.sport.hockey\", \"rec.sport.hockey\", \"rec.sport.hockey\", \"rec.sport.hockey\", \"rec.sport.hockey\", \"rec.sport.hockey\", \"rec.sport.hockey\", \"rec.sport.hockey\", \"rec.sport.hockey\", \"rec.sport.hockey\", \"rec.sport.hockey\", \"rec.sport.hockey\", \"rec.sport.hockey\", \"rec.sport.hockey\", \"rec.sport.hockey\", \"rec.sport.hockey\", \"rec.sport.hockey\", \"rec.sport.hockey\", \"rec.sport.hockey\", \"rec.sport.hockey\", \"rec.sport.hockey\", \"rec.sport.hockey\", \"rec.sport.hockey\", \"rec.sport.hockey\", \"rec.sport.hockey\", \"rec.sport.hockey\", \"rec.sport.hockey\", \"rec.sport.hockey\", \"rec.sport.hockey\", \"rec.sport.hockey\", \"rec.sport.hockey\", \"rec.sport.hockey\", \"rec.sport.hockey\", \"rec.sport.hockey\", \"rec.sport.hockey\", \"rec.sport.hockey\", \"rec.sport.hockey\", \"rec.sport.hockey\", \"rec.sport.hockey\", \"rec.sport.hockey\", \"rec.sport.hockey\", \"rec.sport.hockey\", \"rec.sport.hockey\", \"rec.sport.hockey\", \"rec.sport.hockey\", \"rec.sport.hockey\", \"rec.sport.hockey\", \"rec.sport.hockey\", \"rec.sport.hockey\", \"rec.sport.hockey\", \"rec.sport.hockey\", \"rec.sport.hockey\", \"rec.sport.hockey\", \"rec.sport.hockey\", \"rec.sport.hockey\", \"rec.sport.hockey\", \"rec.sport.hockey\", \"rec.sport.hockey\", \"rec.sport.hockey\", \"rec.sport.hockey\", \"rec.sport.hockey\", \"rec.sport.hockey\", \"rec.sport.hockey\", \"rec.sport.hockey\", \"rec.sport.hockey\", \"rec.sport.hockey\", \"rec.sport.hockey\", \"rec.sport.hockey\", \"rec.sport.hockey\", \"rec.sport.hockey\", \"rec.sport.hockey\", \"rec.sport.hockey\", \"rec.sport.hockey\", \"rec.sport.hockey\", \"rec.sport.hockey\", \"rec.sport.hockey\", \"rec.sport.hockey\", \"rec.sport.hockey\", \"rec.sport.hockey\", \"rec.sport.hockey\", \"rec.sport.hockey\", \"rec.sport.hockey\", \"rec.sport.hockey\", \"rec.sport.hockey\", \"rec.sport.hockey\", \"rec.sport.hockey\", \"rec.sport.hockey\", \"rec.sport.hockey\", \"rec.sport.hockey\", \"rec.sport.hockey\", \"rec.sport.hockey\", \"rec.sport.hockey\", \"rec.sport.hockey\", \"rec.sport.hockey\", \"rec.sport.hockey\", \"rec.sport.hockey\", \"rec.sport.hockey\", \"rec.sport.hockey\", \"rec.sport.hockey\", \"rec.sport.hockey\", \"rec.sport.hockey\", \"rec.sport.hockey\", \"rec.sport.hockey\", \"rec.sport.hockey\", \"rec.sport.hockey\", \"rec.sport.hockey\", \"rec.sport.hockey\", \"rec.sport.hockey\", \"rec.sport.hockey\", \"rec.sport.hockey\", \"rec.sport.hockey\", \"rec.sport.hockey\", \"rec.sport.hockey\", \"rec.sport.hockey\", \"rec.sport.hockey\", \"rec.sport.hockey\", \"rec.sport.hockey\", \"rec.sport.hockey\", \"rec.sport.hockey\", \"rec.sport.hockey\", \"rec.sport.hockey\", \"rec.sport.hockey\", \"rec.sport.hockey\", \"rec.sport.hockey\", \"rec.sport.hockey\", \"rec.sport.hockey\", \"rec.sport.hockey\", \"rec.sport.hockey\", \"rec.sport.hockey\", \"rec.sport.hockey\", \"rec.sport.hockey\", \"rec.sport.hockey\", \"rec.sport.hockey\", \"rec.sport.hockey\", \"rec.sport.hockey\", \"rec.sport.hockey\", \"rec.sport.hockey\", \"rec.sport.hockey\", \"rec.sport.hockey\", \"rec.sport.hockey\", \"rec.sport.hockey\", \"rec.sport.hockey\", \"rec.sport.hockey\", \"rec.sport.hockey\", \"rec.sport.hockey\", \"rec.sport.hockey\", \"rec.sport.hockey\", \"rec.sport.hockey\", \"rec.sport.hockey\", \"rec.sport.hockey\", \"rec.sport.hockey\", \"rec.sport.hockey\", \"rec.sport.hockey\", \"rec.sport.hockey\", \"rec.sport.hockey\", \"rec.sport.hockey\", \"rec.sport.hockey\", \"rec.sport.hockey\", \"rec.sport.hockey\", \"rec.sport.hockey\", \"rec.sport.hockey\", \"rec.sport.hockey\", \"rec.sport.hockey\", \"rec.sport.hockey\", \"rec.sport.hockey\", \"rec.sport.hockey\", \"rec.sport.hockey\", \"rec.sport.hockey\", \"rec.sport.hockey\", \"rec.sport.hockey\", \"rec.sport.hockey\", \"rec.sport.hockey\", \"rec.sport.hockey\", \"rec.sport.hockey\", \"rec.sport.hockey\", \"rec.sport.hockey\", \"rec.sport.hockey\", \"rec.sport.hockey\", \"rec.sport.hockey\", \"rec.sport.hockey\", \"rec.sport.hockey\", \"rec.sport.hockey\", \"rec.sport.hockey\", \"rec.sport.hockey\", \"rec.sport.hockey\", \"rec.sport.hockey\", \"rec.sport.hockey\", \"rec.sport.hockey\", \"rec.sport.hockey\", \"rec.sport.hockey\", \"rec.sport.hockey\", \"rec.sport.hockey\", \"rec.sport.hockey\", \"rec.sport.hockey\", \"rec.sport.hockey\", \"rec.sport.hockey\", \"rec.sport.hockey\", \"rec.sport.hockey\", \"rec.sport.hockey\", \"rec.sport.hockey\", \"rec.sport.hockey\", \"rec.sport.hockey\", \"rec.sport.hockey\", \"rec.sport.hockey\", \"rec.sport.hockey\", \"rec.sport.hockey\", \"rec.sport.hockey\", \"rec.sport.hockey\", \"rec.sport.hockey\", \"rec.sport.hockey\", \"rec.sport.hockey\", \"rec.sport.hockey\", \"rec.sport.hockey\", \"rec.sport.hockey\", \"rec.sport.hockey\", \"rec.sport.hockey\", \"rec.sport.hockey\", \"rec.sport.hockey\", \"rec.sport.hockey\", \"rec.sport.hockey\", \"rec.sport.hockey\", \"rec.sport.hockey\", \"rec.sport.hockey\", \"rec.sport.hockey\", \"rec.sport.hockey\", \"rec.sport.hockey\", \"rec.sport.hockey\", \"rec.sport.hockey\", \"rec.sport.hockey\", \"rec.sport.hockey\", \"rec.sport.hockey\", \"rec.sport.hockey\", \"rec.sport.hockey\", \"rec.sport.hockey\", \"rec.sport.hockey\", \"rec.sport.hockey\", \"rec.sport.hockey\", \"rec.sport.hockey\", \"rec.sport.hockey\", \"rec.sport.hockey\"], \"y0\": \" \", \"yaxis\": \"y\"}],\n",
              "                        {\"boxmode\": \"group\", \"legend\": {\"tracegroupgap\": 0}, \"margin\": {\"t\": 60}, \"template\": {\"data\": {\"bar\": [{\"error_x\": {\"color\": \"#2a3f5f\"}, \"error_y\": {\"color\": \"#2a3f5f\"}, \"marker\": {\"line\": {\"color\": \"#E5ECF6\", \"width\": 0.5}}, \"type\": \"bar\"}], \"barpolar\": [{\"marker\": {\"line\": {\"color\": \"#E5ECF6\", \"width\": 0.5}}, \"type\": \"barpolar\"}], \"carpet\": [{\"aaxis\": {\"endlinecolor\": \"#2a3f5f\", \"gridcolor\": \"white\", \"linecolor\": \"white\", \"minorgridcolor\": \"white\", \"startlinecolor\": \"#2a3f5f\"}, \"baxis\": {\"endlinecolor\": \"#2a3f5f\", \"gridcolor\": \"white\", \"linecolor\": \"white\", \"minorgridcolor\": \"white\", \"startlinecolor\": \"#2a3f5f\"}, \"type\": \"carpet\"}], \"choropleth\": [{\"colorbar\": {\"outlinewidth\": 0, \"ticks\": \"\"}, \"type\": \"choropleth\"}], \"contour\": [{\"colorbar\": {\"outlinewidth\": 0, \"ticks\": \"\"}, \"colorscale\": [[0.0, \"#0d0887\"], [0.1111111111111111, \"#46039f\"], [0.2222222222222222, \"#7201a8\"], [0.3333333333333333, \"#9c179e\"], [0.4444444444444444, \"#bd3786\"], [0.5555555555555556, \"#d8576b\"], [0.6666666666666666, \"#ed7953\"], [0.7777777777777778, \"#fb9f3a\"], [0.8888888888888888, \"#fdca26\"], [1.0, \"#f0f921\"]], \"type\": \"contour\"}], \"contourcarpet\": [{\"colorbar\": {\"outlinewidth\": 0, \"ticks\": \"\"}, \"type\": \"contourcarpet\"}], \"heatmap\": [{\"colorbar\": {\"outlinewidth\": 0, \"ticks\": \"\"}, \"colorscale\": [[0.0, \"#0d0887\"], [0.1111111111111111, \"#46039f\"], [0.2222222222222222, \"#7201a8\"], [0.3333333333333333, \"#9c179e\"], [0.4444444444444444, \"#bd3786\"], [0.5555555555555556, \"#d8576b\"], [0.6666666666666666, \"#ed7953\"], [0.7777777777777778, \"#fb9f3a\"], [0.8888888888888888, \"#fdca26\"], [1.0, \"#f0f921\"]], \"type\": \"heatmap\"}], \"heatmapgl\": [{\"colorbar\": {\"outlinewidth\": 0, \"ticks\": \"\"}, \"colorscale\": [[0.0, \"#0d0887\"], [0.1111111111111111, \"#46039f\"], [0.2222222222222222, \"#7201a8\"], [0.3333333333333333, \"#9c179e\"], [0.4444444444444444, \"#bd3786\"], [0.5555555555555556, \"#d8576b\"], [0.6666666666666666, \"#ed7953\"], [0.7777777777777778, \"#fb9f3a\"], [0.8888888888888888, \"#fdca26\"], [1.0, \"#f0f921\"]], \"type\": \"heatmapgl\"}], \"histogram\": [{\"marker\": {\"colorbar\": {\"outlinewidth\": 0, \"ticks\": \"\"}}, \"type\": \"histogram\"}], \"histogram2d\": [{\"colorbar\": {\"outlinewidth\": 0, \"ticks\": \"\"}, \"colorscale\": [[0.0, \"#0d0887\"], [0.1111111111111111, \"#46039f\"], [0.2222222222222222, \"#7201a8\"], [0.3333333333333333, \"#9c179e\"], [0.4444444444444444, \"#bd3786\"], [0.5555555555555556, \"#d8576b\"], [0.6666666666666666, \"#ed7953\"], [0.7777777777777778, \"#fb9f3a\"], [0.8888888888888888, \"#fdca26\"], [1.0, \"#f0f921\"]], \"type\": \"histogram2d\"}], \"histogram2dcontour\": [{\"colorbar\": {\"outlinewidth\": 0, \"ticks\": \"\"}, \"colorscale\": [[0.0, \"#0d0887\"], [0.1111111111111111, \"#46039f\"], [0.2222222222222222, \"#7201a8\"], [0.3333333333333333, \"#9c179e\"], [0.4444444444444444, \"#bd3786\"], [0.5555555555555556, \"#d8576b\"], [0.6666666666666666, \"#ed7953\"], [0.7777777777777778, \"#fb9f3a\"], [0.8888888888888888, \"#fdca26\"], [1.0, \"#f0f921\"]], \"type\": \"histogram2dcontour\"}], \"mesh3d\": [{\"colorbar\": {\"outlinewidth\": 0, \"ticks\": \"\"}, \"type\": \"mesh3d\"}], \"parcoords\": [{\"line\": {\"colorbar\": {\"outlinewidth\": 0, \"ticks\": \"\"}}, \"type\": \"parcoords\"}], \"pie\": [{\"automargin\": true, \"type\": \"pie\"}], \"scatter\": [{\"marker\": {\"colorbar\": {\"outlinewidth\": 0, \"ticks\": \"\"}}, \"type\": \"scatter\"}], \"scatter3d\": [{\"line\": {\"colorbar\": {\"outlinewidth\": 0, \"ticks\": \"\"}}, \"marker\": {\"colorbar\": {\"outlinewidth\": 0, \"ticks\": \"\"}}, \"type\": \"scatter3d\"}], \"scattercarpet\": [{\"marker\": {\"colorbar\": {\"outlinewidth\": 0, \"ticks\": \"\"}}, \"type\": \"scattercarpet\"}], \"scattergeo\": [{\"marker\": {\"colorbar\": {\"outlinewidth\": 0, \"ticks\": \"\"}}, \"type\": \"scattergeo\"}], \"scattergl\": [{\"marker\": {\"colorbar\": {\"outlinewidth\": 0, \"ticks\": \"\"}}, \"type\": \"scattergl\"}], \"scattermapbox\": [{\"marker\": {\"colorbar\": {\"outlinewidth\": 0, \"ticks\": \"\"}}, \"type\": \"scattermapbox\"}], \"scatterpolar\": [{\"marker\": {\"colorbar\": {\"outlinewidth\": 0, \"ticks\": \"\"}}, \"type\": \"scatterpolar\"}], \"scatterpolargl\": [{\"marker\": {\"colorbar\": {\"outlinewidth\": 0, \"ticks\": \"\"}}, \"type\": \"scatterpolargl\"}], \"scatterternary\": [{\"marker\": {\"colorbar\": {\"outlinewidth\": 0, \"ticks\": \"\"}}, \"type\": \"scatterternary\"}], \"surface\": [{\"colorbar\": {\"outlinewidth\": 0, \"ticks\": \"\"}, \"colorscale\": [[0.0, \"#0d0887\"], [0.1111111111111111, \"#46039f\"], [0.2222222222222222, \"#7201a8\"], [0.3333333333333333, \"#9c179e\"], [0.4444444444444444, \"#bd3786\"], [0.5555555555555556, \"#d8576b\"], [0.6666666666666666, \"#ed7953\"], [0.7777777777777778, \"#fb9f3a\"], [0.8888888888888888, \"#fdca26\"], [1.0, \"#f0f921\"]], \"type\": \"surface\"}], \"table\": [{\"cells\": {\"fill\": {\"color\": \"#EBF0F8\"}, \"line\": {\"color\": \"white\"}}, \"header\": {\"fill\": {\"color\": \"#C8D4E3\"}, \"line\": {\"color\": \"white\"}}, \"type\": \"table\"}]}, \"layout\": {\"annotationdefaults\": {\"arrowcolor\": \"#2a3f5f\", \"arrowhead\": 0, \"arrowwidth\": 1}, \"coloraxis\": {\"colorbar\": {\"outlinewidth\": 0, \"ticks\": \"\"}}, \"colorscale\": {\"diverging\": [[0, \"#8e0152\"], [0.1, \"#c51b7d\"], [0.2, \"#de77ae\"], [0.3, \"#f1b6da\"], [0.4, \"#fde0ef\"], [0.5, \"#f7f7f7\"], [0.6, \"#e6f5d0\"], [0.7, \"#b8e186\"], [0.8, \"#7fbc41\"], [0.9, \"#4d9221\"], [1, \"#276419\"]], \"sequential\": [[0.0, \"#0d0887\"], [0.1111111111111111, \"#46039f\"], [0.2222222222222222, \"#7201a8\"], [0.3333333333333333, \"#9c179e\"], [0.4444444444444444, \"#bd3786\"], [0.5555555555555556, \"#d8576b\"], [0.6666666666666666, \"#ed7953\"], [0.7777777777777778, \"#fb9f3a\"], [0.8888888888888888, \"#fdca26\"], [1.0, \"#f0f921\"]], \"sequentialminus\": [[0.0, \"#0d0887\"], [0.1111111111111111, \"#46039f\"], [0.2222222222222222, \"#7201a8\"], [0.3333333333333333, \"#9c179e\"], [0.4444444444444444, \"#bd3786\"], [0.5555555555555556, \"#d8576b\"], [0.6666666666666666, \"#ed7953\"], [0.7777777777777778, \"#fb9f3a\"], [0.8888888888888888, \"#fdca26\"], [1.0, \"#f0f921\"]]}, \"colorway\": [\"#636efa\", \"#EF553B\", \"#00cc96\", \"#ab63fa\", \"#FFA15A\", \"#19d3f3\", \"#FF6692\", \"#B6E880\", \"#FF97FF\", \"#FECB52\"], \"font\": {\"color\": \"#2a3f5f\"}, \"geo\": {\"bgcolor\": \"white\", \"lakecolor\": \"white\", \"landcolor\": \"#E5ECF6\", \"showlakes\": true, \"showland\": true, \"subunitcolor\": \"white\"}, \"hoverlabel\": {\"align\": \"left\"}, \"hovermode\": \"closest\", \"mapbox\": {\"style\": \"light\"}, \"paper_bgcolor\": \"white\", \"plot_bgcolor\": \"#E5ECF6\", \"polar\": {\"angularaxis\": {\"gridcolor\": \"white\", \"linecolor\": \"white\", \"ticks\": \"\"}, \"bgcolor\": \"#E5ECF6\", \"radialaxis\": {\"gridcolor\": \"white\", \"linecolor\": \"white\", \"ticks\": \"\"}}, \"scene\": {\"xaxis\": {\"backgroundcolor\": \"#E5ECF6\", \"gridcolor\": \"white\", \"gridwidth\": 2, \"linecolor\": \"white\", \"showbackground\": true, \"ticks\": \"\", \"zerolinecolor\": \"white\"}, \"yaxis\": {\"backgroundcolor\": \"#E5ECF6\", \"gridcolor\": \"white\", \"gridwidth\": 2, \"linecolor\": \"white\", \"showbackground\": true, \"ticks\": \"\", \"zerolinecolor\": \"white\"}, \"zaxis\": {\"backgroundcolor\": \"#E5ECF6\", \"gridcolor\": \"white\", \"gridwidth\": 2, \"linecolor\": \"white\", \"showbackground\": true, \"ticks\": \"\", \"zerolinecolor\": \"white\"}}, \"shapedefaults\": {\"line\": {\"color\": \"#2a3f5f\"}}, \"ternary\": {\"aaxis\": {\"gridcolor\": \"white\", \"linecolor\": \"white\", \"ticks\": \"\"}, \"baxis\": {\"gridcolor\": \"white\", \"linecolor\": \"white\", \"ticks\": \"\"}, \"bgcolor\": \"#E5ECF6\", \"caxis\": {\"gridcolor\": \"white\", \"linecolor\": \"white\", \"ticks\": \"\"}}, \"title\": {\"x\": 0.05}, \"xaxis\": {\"automargin\": true, \"gridcolor\": \"white\", \"linecolor\": \"white\", \"ticks\": \"\", \"title\": {\"standoff\": 15}, \"zerolinecolor\": \"white\", \"zerolinewidth\": 2}, \"yaxis\": {\"automargin\": true, \"gridcolor\": \"white\", \"linecolor\": \"white\", \"ticks\": \"\", \"title\": {\"standoff\": 15}, \"zerolinecolor\": \"white\", \"zerolinewidth\": 2}}}, \"xaxis\": {\"anchor\": \"y\", \"domain\": [0.0, 1.0], \"title\": {\"text\": \"Nombre de mot par texte\"}}, \"yaxis\": {\"anchor\": \"x\", \"categoryarray\": [\"rec.sport.hockey\", \"soc.religion.christian\", \"rec.autos\"], \"categoryorder\": \"array\", \"domain\": [0.0, 1.0], \"title\": {\"text\": \"Th\\u00e8me\"}}},\n",
              "                        {\"responsive\": true}\n",
              "                    ).then(function(){\n",
              "                            \n",
              "var gd = document.getElementById('536d93a5-b302-420f-b1ad-7d8e512b902a');\n",
              "var x = new MutationObserver(function (mutations, observer) {{\n",
              "        var display = window.getComputedStyle(gd).display;\n",
              "        if (!display || display === 'none') {{\n",
              "            console.log([gd, 'removed!']);\n",
              "            Plotly.purge(gd);\n",
              "            observer.disconnect();\n",
              "        }}\n",
              "}});\n",
              "\n",
              "// Listen for the removal of the full notebook cells\n",
              "var notebookContainer = gd.closest('#notebook-container');\n",
              "if (notebookContainer) {{\n",
              "    x.observe(notebookContainer, {childList: true});\n",
              "}}\n",
              "\n",
              "// Listen for the clearing of the current output cell\n",
              "var outputEl = gd.closest('.output');\n",
              "if (outputEl) {{\n",
              "    x.observe(outputEl, {childList: true});\n",
              "}}\n",
              "\n",
              "                        })\n",
              "                };\n",
              "                \n",
              "            </script>\n",
              "        </div>\n",
              "</body>\n",
              "</html>"
            ]
          },
          "metadata": {
            "tags": []
          }
        }
      ]
    },
    {
      "cell_type": "code",
      "metadata": {
        "id": "DMJ_gJWrLtVL",
        "colab_type": "code",
        "outputId": "5bc4c6bb-48ab-46e4-90a8-4cf1970d17d8",
        "colab": {
          "base_uri": "https://localhost:8080/",
          "height": 1000
        }
      },
      "source": [
        "for category in ['rec.autos', 'soc.religion.christian', 'rec.sport.hockey']:\n",
        "  print(str(20 * '-') + category + str(20 * '-'))\n",
        "  print(news[news['title'] == category].describe())"
      ],
      "execution_count": 0,
      "outputs": [
        {
          "output_type": "stream",
          "text": [
            "--------------------rec.autos--------------------\n",
            "         text_size  cleaned_text_size\n",
            "count   594.000000         594.000000\n",
            "mean    146.872054          49.422559\n",
            "std     335.808029         110.693148\n",
            "min       1.000000           0.000000\n",
            "25%      41.000000          15.000000\n",
            "50%      78.000000          28.000000\n",
            "75%     159.750000          55.750000\n",
            "max    6004.000000        2064.000000\n",
            "--------------------soc.religion.christian--------------------\n",
            "         text_size  cleaned_text_size\n",
            "count   599.000000         599.000000\n",
            "mean    307.662771         103.799666\n",
            "std     429.153452         126.694983\n",
            "min       1.000000           0.000000\n",
            "25%      86.500000          31.000000\n",
            "50%     176.000000          63.000000\n",
            "75%     374.500000         125.500000\n",
            "max    5921.000000        1117.000000\n",
            "--------------------rec.sport.hockey--------------------\n",
            "          text_size  cleaned_text_size\n",
            "count    600.000000         600.000000\n",
            "mean     353.473333          84.860000\n",
            "std     1369.577197         280.608194\n",
            "min        1.000000           0.000000\n",
            "25%       45.000000          16.750000\n",
            "50%       93.000000          37.000000\n",
            "75%      213.000000          75.000000\n",
            "max    21090.000000        6158.000000\n",
            "--------------------rec.autos--------------------\n",
            "         text_size  cleaned_text_size\n",
            "count   594.000000         594.000000\n",
            "mean    146.872054          49.422559\n",
            "std     335.808029         110.693148\n",
            "min       1.000000           0.000000\n",
            "25%      41.000000          15.000000\n",
            "50%      78.000000          28.000000\n",
            "75%     159.750000          55.750000\n",
            "max    6004.000000        2064.000000\n",
            "--------------------soc.religion.christian--------------------\n",
            "         text_size  cleaned_text_size\n",
            "count   599.000000         599.000000\n",
            "mean    307.662771         103.799666\n",
            "std     429.153452         126.694983\n",
            "min       1.000000           0.000000\n",
            "25%      86.500000          31.000000\n",
            "50%     176.000000          63.000000\n",
            "75%     374.500000         125.500000\n",
            "max    5921.000000        1117.000000\n",
            "--------------------rec.sport.hockey--------------------\n",
            "          text_size  cleaned_text_size\n",
            "count    600.000000         600.000000\n",
            "mean     353.473333          84.860000\n",
            "std     1369.577197         280.608194\n",
            "min        1.000000           0.000000\n",
            "25%       45.000000          16.750000\n",
            "50%       93.000000          37.000000\n",
            "75%      213.000000          75.000000\n",
            "max    21090.000000        6158.000000\n"
          ],
          "name": "stdout"
        }
      ]
    },
    {
      "cell_type": "markdown",
      "metadata": {
        "id": "MyY8_QwIDpfT",
        "colab_type": "text"
      },
      "source": [
        "* La catégorie **christian** après cleaning a des textes contenant environ 50 % plus de mots que la classe auto et 20 %  que la classe hockey. Nos classes n'ont pas des textes de même longueur. \n",
        "\n",
        "* après cleaning la classe :\n",
        "  * auto à perdu 2/3 de son information \n",
        "  * religion à perdu 2/3 de son information \n",
        "  * Hockey à perdu 3/4 de son information \n",
        "\n",
        "  \n",
        "\n",
        "**1. Est-ce que le nombre de mots dans un texte à une impacte sur sa classification ?** \n",
        "\n",
        "L'algorithme du TFIDF conçoit d'abord un vocabulaire à partir de l'ensemble des textes. Le TF-IDF est calculé pour chaque mot du vocabulaire, on détermine les mots important à cette étape, et donc les \"thèmes\". Lorsque l'on fait une prédiction, notre algorithme se base sur la présence de ces mots (qui représentent des thèmes) dans un texte afin de le classifier dans la bonne catégorie. La prédiction de notre modèle dépendra donc des mots présent (associé au thème) dans les texte.\n",
        "\n",
        "Toutefois, il est vrai que plus un texte est long plus il aura de mots. Probablement, plusieurs mots du thème. Et donc, notre algorithme pourra mieux le classifier. Cependant, la probabilité **d'overlap** (que plusieurs thèmes se retrouve dans le texte) sera également plus élevé."
      ]
    },
    {
      "cell_type": "markdown",
      "metadata": {
        "id": "bDwHie34Dywg",
        "colab_type": "text"
      },
      "source": [
        "# TF-IDF entrainement \n",
        "\n",
        "\n",
        "Avec scikit-learn, il existe deux manières de réaliser une analyse par TF-IDF :\n",
        "\n",
        "1. soit on applique le **CountVectorizer**. Qui, conçoit le vocabulaire, applique le cleaning, transforme les mots en token et construit un tableau pour chaque texte, tableau contenant la fréquence d'apparition des mot dans le texte. Puis on applique TFidfTransformer qui se chargera de multiplier ces matrice par l'IDF **Inverse document frequency**.\n",
        "\n",
        "2. Soit, on utilise le TFIdfVectorizer qui réalise ces deux opérations en une fois. A l'aide de la méthode **fit_transform**. \n",
        "\n",
        "Nous allons utiliser la deuxième méthode. \n"
      ]
    },
    {
      "cell_type": "code",
      "metadata": {
        "id": "JJ3Y3RvTekYS",
        "colab_type": "code",
        "colab": {}
      },
      "source": [
        "from sklearn.feature_extraction.text import TfidfVectorizer"
      ],
      "execution_count": 0,
      "outputs": []
    },
    {
      "cell_type": "markdown",
      "metadata": {
        "id": "LVBhKnTpLbSm",
        "colab_type": "text"
      },
      "source": [
        "**Une description concise de chacun des paramètre de la fonction :**\n",
        "\n",
        "* encoding : str, default=’utf-8’. choix de l'encodage \n",
        "\n",
        "* decode_error : {‘strict’, ‘ignore’, ‘replace’} (default=’strict’) Que faire dans le cas ou un charactère n'a pas le bon encoding. i\n",
        "\n",
        "* strip_accents : {‘ascii’, ‘unicode’, None} (default=None) Méthode utilisé pour supprimer les accents. 'ascii' est une methode rapide mais ne fonctionne que sur les charactères ASCII. 'unicode' fonctionne sur tout type de charactère mais est plus lent. \n",
        "\n",
        "\n",
        "* lowercase : bool (default=True) : Convert all character to lowercase \n",
        "\n",
        "\n",
        "\n",
        "* tokenizer : callable or None (default=None) Permet d'utiliser un customizer personnalisé. Il est appelé après l'étape de génération des n-grams. On peut mettre comme valeur 'word'. \n",
        "\n",
        "* analyzer : str, {‘word’, ‘char’, ‘char_wb’} Spécifie si la paramètre devrait être fait de mot ou de ngram de charactètres.  'char_wb' crée des ngram avec des lettre appartennant à des mots. \n",
        "\n",
        "\n",
        "\n",
        "* stop_words : str {‘english’}, list, or None (default=None) Liste de mots fréquents. On peut passer notre liste de mots custom.\n",
        "\n",
        "* ngram_range : tuple (min_n, max_n), default=(1, 1)\n",
        "The lower and upper boundary of the range of n-values for different n-grams to be extracted. All values of n such that min_n <= n <= max_n will be used. For example an ngram_range of (1, 1) means only unigrams, (1, 2) means unigrams and bigrams, and (2, 2) means only bigrams. Only applies if analyzer is not callable.\n",
        "\n",
        "* max_df : float in range [0.0, 1.0] or int (default=1.0) Ignore les mots ayant une fréquence supérieur au niveau définie. Exemple 0.1 Si le mots à une fréquence d'apparition supérieur à 10% dans le document il sera ces occurences seront supprimé. \n",
        "\n",
        "* min_dffloat in range [0.0, 1.0] or int (default=1) Ignore les mots ayant une fréquence inférieur au niveau définie. Exemple 0.1 Si le mots à une fréquence d'apparition inférieur à 10% dans le document il sera ces occurences seront supprimé. \n",
        "\n",
        "* max_features : int or None (default=None) Si il n'est pas égale à None, un vocabulaire considérent uniquement les max_features première valeur sera construit. \n",
        "\n",
        "\n",
        "* norm‘l1’, ‘l2’ or None, optional (default=’l2’)\n",
        "Each output row will have unit norm, either: * ‘l2’: Sum of squares of vector elements is 1. The cosine similarity between two vectors is their dot product when l2 norm has been applied. * ‘l1’: Sum of absolute values of vector elements is 1. See preprocessing.normalize.\n",
        "\n",
        "* use_idfbool (default=True)\n",
        "\n",
        "* smooth_idfbool (default=True) \n",
        "\n"
      ]
    },
    {
      "cell_type": "markdown",
      "metadata": {
        "id": "Jv0f_9PrZlhl",
        "colab_type": "text"
      },
      "source": [
        "### **Words Vectorizer**\n",
        "\n",
        "Dans cette partie nous analysons comment configurer notre TFIDF et les résultats de ces configurations."
      ]
    },
    {
      "cell_type": "code",
      "metadata": {
        "id": "AHlZk4tPRn-o",
        "colab_type": "code",
        "colab": {}
      },
      "source": [
        "import numpy as np \n",
        "\n",
        "tfidf_words_3 = TfidfVectorizer(tokenizer=prepareText, max_features=20000,  ngram_range=(1,3), analyzer='word', dtype=np.float32)\n",
        "tfidf_words_2 = TfidfVectorizer(tokenizer=prepareText, max_features=20000, ngram_range=(1,2) , analyzer='word', dtype=np.float32)\n",
        "tfidf_words_1 = TfidfVectorizer(tokenizer=prepareText, max_features=20000, ngram_range=(1,1) , analyzer='word', dtype=np.float32)"
      ],
      "execution_count": 0,
      "outputs": []
    },
    {
      "cell_type": "markdown",
      "metadata": {
        "id": "ShlvPHHjRtts",
        "colab_type": "text"
      },
      "source": [
        "* Tokenizer : nous appliquons notre fonction de \"tokenization\"\n",
        "* max_feature : limite notre vocabulaire au 20k mots les plus important du vocabulaire.\n",
        "* ngram_range : (1,3) nous allons construire des token de 1 à 3 mots ( analyzer='words'). "
      ]
    },
    {
      "cell_type": "code",
      "metadata": {
        "id": "sJzmmRoWRsih",
        "colab_type": "code",
        "colab": {}
      },
      "source": [
        "texte1 = \"\"\" A DNA molecule encoding a polypeptide having at least one immunogenic determinants of the CCV spike protein, said CCV spike protein having an amino acid sequence shown in SEQ ID No. 2, 4, or 6, said polypeptide being capable of eliciting a protective immune response in a dog against CCV infection or disease.\"\"\""
      ],
      "execution_count": 0,
      "outputs": []
    },
    {
      "cell_type": "code",
      "metadata": {
        "id": "rkYuF7FlUImJ",
        "colab_type": "code",
        "colab": {}
      },
      "source": [
        "texte2 = \"\"\"Dr Saif said that the veterinary community has a long experience with coronaviruses causing severe disease in domestic animals and can therefore provide assistance in the understanding the epidemiology of the disease, development of models, pathogenicity studies, and mechanisms of prevention and control for SARS.\"\"\""
      ],
      "execution_count": 0,
      "outputs": []
    },
    {
      "cell_type": "code",
      "metadata": {
        "id": "5iVJhfDxSe8E",
        "colab_type": "code",
        "colab": {}
      },
      "source": [
        "tfidf_words_3.fit([texte1, texte2])\n",
        "tfidf_words_2.fit([texte1, texte2])\n",
        "tfidf_words_1.fit([texte1, texte2])"
      ],
      "execution_count": 0,
      "outputs": []
    },
    {
      "cell_type": "code",
      "metadata": {
        "id": "XIdXWgx4fw1W",
        "colab_type": "code",
        "outputId": "a9f9906c-c941-4aa7-ba44-56f4b6d1e391",
        "colab": {
          "base_uri": "https://localhost:8080/",
          "height": 1000
        }
      },
      "source": [
        "tfidf_words_3.vocabulary_"
      ],
      "execution_count": 0,
      "outputs": [
        {
          "output_type": "execute_result",
          "data": {
            "text/plain": [
              "{'acid': 0,\n",
              " 'acid sequence': 1,\n",
              " 'acid sequence seq': 2,\n",
              " 'amino': 3,\n",
              " 'amino acid': 4,\n",
              " 'amino acid sequence': 5,\n",
              " 'animal': 6,\n",
              " 'animal provide': 7,\n",
              " 'animal provide assistance': 8,\n",
              " 'assistance': 9,\n",
              " 'assistance understanding': 10,\n",
              " 'assistance understanding epidemiology': 11,\n",
              " 'capable': 12,\n",
              " 'capable elicit': 13,\n",
              " 'capable elicit protective': 14,\n",
              " 'cause': 15,\n",
              " 'cause severe': 16,\n",
              " 'cause severe disease': 17,\n",
              " 'ccv': 18,\n",
              " 'ccv infection': 19,\n",
              " 'ccv infection disease': 20,\n",
              " 'ccv spike': 21,\n",
              " 'ccv spike protein': 22,\n",
              " 'community': 23,\n",
              " 'community long': 24,\n",
              " 'community long experience': 25,\n",
              " 'control': 26,\n",
              " 'control sars': 27,\n",
              " 'coronaviruse': 28,\n",
              " 'coronaviruse cause': 29,\n",
              " 'coronaviruse cause severe': 30,\n",
              " 'determinant': 31,\n",
              " 'determinant ccv': 32,\n",
              " 'determinant ccv spike': 33,\n",
              " 'development': 34,\n",
              " 'development model': 35,\n",
              " 'development model pathogenicity': 36,\n",
              " 'disease': 37,\n",
              " 'disease development': 38,\n",
              " 'disease development model': 39,\n",
              " 'disease domestic': 40,\n",
              " 'disease domestic animal': 41,\n",
              " 'dna': 42,\n",
              " 'dna molecule': 43,\n",
              " 'dna molecule encode': 44,\n",
              " 'dog': 45,\n",
              " 'dog ccv': 46,\n",
              " 'dog ccv infection': 47,\n",
              " 'domestic': 48,\n",
              " 'domestic animal': 49,\n",
              " 'domestic animal provide': 50,\n",
              " 'dr': 51,\n",
              " 'dr saif': 52,\n",
              " 'dr saif veterinary': 53,\n",
              " 'elicit': 54,\n",
              " 'elicit protective': 55,\n",
              " 'elicit protective immune': 56,\n",
              " 'encode': 57,\n",
              " 'encode polypeptide': 58,\n",
              " 'encode polypeptide immunogenic': 59,\n",
              " 'epidemiology': 60,\n",
              " 'epidemiology disease': 61,\n",
              " 'epidemiology disease development': 62,\n",
              " 'experience': 63,\n",
              " 'experience coronaviruse': 64,\n",
              " 'experience coronaviruse cause': 65,\n",
              " 'immune': 66,\n",
              " 'immune response': 67,\n",
              " 'immune response dog': 68,\n",
              " 'immunogenic': 69,\n",
              " 'immunogenic determinant': 70,\n",
              " 'immunogenic determinant ccv': 71,\n",
              " 'infection': 72,\n",
              " 'infection disease': 73,\n",
              " 'long': 74,\n",
              " 'long experience': 75,\n",
              " 'long experience coronaviruse': 76,\n",
              " 'mechanism': 77,\n",
              " 'mechanism prevention': 78,\n",
              " 'mechanism prevention control': 79,\n",
              " 'model': 80,\n",
              " 'model pathogenicity': 81,\n",
              " 'model pathogenicity study': 82,\n",
              " 'molecule': 83,\n",
              " 'molecule encode': 84,\n",
              " 'molecule encode polypeptide': 85,\n",
              " 'pathogenicity': 86,\n",
              " 'pathogenicity study': 87,\n",
              " 'pathogenicity study mechanism': 88,\n",
              " 'polypeptide': 89,\n",
              " 'polypeptide capable': 90,\n",
              " 'polypeptide capable elicit': 91,\n",
              " 'polypeptide immunogenic': 92,\n",
              " 'polypeptide immunogenic determinant': 93,\n",
              " 'prevention': 94,\n",
              " 'prevention control': 95,\n",
              " 'prevention control sars': 96,\n",
              " 'protective': 97,\n",
              " 'protective immune': 98,\n",
              " 'protective immune response': 99,\n",
              " 'protein': 100,\n",
              " 'protein amino': 101,\n",
              " 'protein amino acid': 102,\n",
              " 'protein ccv': 103,\n",
              " 'protein ccv spike': 104,\n",
              " 'provide': 105,\n",
              " 'provide assistance': 106,\n",
              " 'provide assistance understanding': 107,\n",
              " 'response': 108,\n",
              " 'response dog': 109,\n",
              " 'response dog ccv': 110,\n",
              " 'saif': 111,\n",
              " 'saif veterinary': 112,\n",
              " 'saif veterinary community': 113,\n",
              " 'sars': 114,\n",
              " 'seq': 115,\n",
              " 'seq polypeptide': 116,\n",
              " 'seq polypeptide capable': 117,\n",
              " 'sequence': 118,\n",
              " 'sequence seq': 119,\n",
              " 'sequence seq polypeptide': 120,\n",
              " 'severe': 121,\n",
              " 'severe disease': 122,\n",
              " 'severe disease domestic': 123,\n",
              " 'spike': 124,\n",
              " 'spike protein': 125,\n",
              " 'spike protein amino': 126,\n",
              " 'spike protein ccv': 127,\n",
              " 'study': 128,\n",
              " 'study mechanism': 129,\n",
              " 'study mechanism prevention': 130,\n",
              " 'understanding': 131,\n",
              " 'understanding epidemiology': 132,\n",
              " 'understanding epidemiology disease': 133,\n",
              " 'veterinary': 134,\n",
              " 'veterinary community': 135,\n",
              " 'veterinary community long': 136}"
            ]
          },
          "metadata": {
            "tags": []
          },
          "execution_count": 74
        },
        {
          "output_type": "execute_result",
          "data": {
            "text/plain": [
              "{'acid': 0,\n",
              " 'acid sequence': 1,\n",
              " 'acid sequence seq': 2,\n",
              " 'amino': 3,\n",
              " 'amino acid': 4,\n",
              " 'amino acid sequence': 5,\n",
              " 'animal': 6,\n",
              " 'animal provide': 7,\n",
              " 'animal provide assistance': 8,\n",
              " 'assistance': 9,\n",
              " 'assistance understanding': 10,\n",
              " 'assistance understanding epidemiology': 11,\n",
              " 'capable': 12,\n",
              " 'capable elicit': 13,\n",
              " 'capable elicit protective': 14,\n",
              " 'cause': 15,\n",
              " 'cause severe': 16,\n",
              " 'cause severe disease': 17,\n",
              " 'ccv': 18,\n",
              " 'ccv infection': 19,\n",
              " 'ccv infection disease': 20,\n",
              " 'ccv spike': 21,\n",
              " 'ccv spike protein': 22,\n",
              " 'community': 23,\n",
              " 'community long': 24,\n",
              " 'community long experience': 25,\n",
              " 'control': 26,\n",
              " 'control sars': 27,\n",
              " 'coronaviruse': 28,\n",
              " 'coronaviruse cause': 29,\n",
              " 'coronaviruse cause severe': 30,\n",
              " 'determinant': 31,\n",
              " 'determinant ccv': 32,\n",
              " 'determinant ccv spike': 33,\n",
              " 'development': 34,\n",
              " 'development model': 35,\n",
              " 'development model pathogenicity': 36,\n",
              " 'disease': 37,\n",
              " 'disease development': 38,\n",
              " 'disease development model': 39,\n",
              " 'disease domestic': 40,\n",
              " 'disease domestic animal': 41,\n",
              " 'dna': 42,\n",
              " 'dna molecule': 43,\n",
              " 'dna molecule encode': 44,\n",
              " 'dog': 45,\n",
              " 'dog ccv': 46,\n",
              " 'dog ccv infection': 47,\n",
              " 'domestic': 48,\n",
              " 'domestic animal': 49,\n",
              " 'domestic animal provide': 50,\n",
              " 'dr': 51,\n",
              " 'dr saif': 52,\n",
              " 'dr saif veterinary': 53,\n",
              " 'elicit': 54,\n",
              " 'elicit protective': 55,\n",
              " 'elicit protective immune': 56,\n",
              " 'encode': 57,\n",
              " 'encode polypeptide': 58,\n",
              " 'encode polypeptide immunogenic': 59,\n",
              " 'epidemiology': 60,\n",
              " 'epidemiology disease': 61,\n",
              " 'epidemiology disease development': 62,\n",
              " 'experience': 63,\n",
              " 'experience coronaviruse': 64,\n",
              " 'experience coronaviruse cause': 65,\n",
              " 'immune': 66,\n",
              " 'immune response': 67,\n",
              " 'immune response dog': 68,\n",
              " 'immunogenic': 69,\n",
              " 'immunogenic determinant': 70,\n",
              " 'immunogenic determinant ccv': 71,\n",
              " 'infection': 72,\n",
              " 'infection disease': 73,\n",
              " 'long': 74,\n",
              " 'long experience': 75,\n",
              " 'long experience coronaviruse': 76,\n",
              " 'mechanism': 77,\n",
              " 'mechanism prevention': 78,\n",
              " 'mechanism prevention control': 79,\n",
              " 'model': 80,\n",
              " 'model pathogenicity': 81,\n",
              " 'model pathogenicity study': 82,\n",
              " 'molecule': 83,\n",
              " 'molecule encode': 84,\n",
              " 'molecule encode polypeptide': 85,\n",
              " 'pathogenicity': 86,\n",
              " 'pathogenicity study': 87,\n",
              " 'pathogenicity study mechanism': 88,\n",
              " 'polypeptide': 89,\n",
              " 'polypeptide capable': 90,\n",
              " 'polypeptide capable elicit': 91,\n",
              " 'polypeptide immunogenic': 92,\n",
              " 'polypeptide immunogenic determinant': 93,\n",
              " 'prevention': 94,\n",
              " 'prevention control': 95,\n",
              " 'prevention control sars': 96,\n",
              " 'protective': 97,\n",
              " 'protective immune': 98,\n",
              " 'protective immune response': 99,\n",
              " 'protein': 100,\n",
              " 'protein amino': 101,\n",
              " 'protein amino acid': 102,\n",
              " 'protein ccv': 103,\n",
              " 'protein ccv spike': 104,\n",
              " 'provide': 105,\n",
              " 'provide assistance': 106,\n",
              " 'provide assistance understanding': 107,\n",
              " 'response': 108,\n",
              " 'response dog': 109,\n",
              " 'response dog ccv': 110,\n",
              " 'saif': 111,\n",
              " 'saif veterinary': 112,\n",
              " 'saif veterinary community': 113,\n",
              " 'sars': 114,\n",
              " 'seq': 115,\n",
              " 'seq polypeptide': 116,\n",
              " 'seq polypeptide capable': 117,\n",
              " 'sequence': 118,\n",
              " 'sequence seq': 119,\n",
              " 'sequence seq polypeptide': 120,\n",
              " 'severe': 121,\n",
              " 'severe disease': 122,\n",
              " 'severe disease domestic': 123,\n",
              " 'spike': 124,\n",
              " 'spike protein': 125,\n",
              " 'spike protein amino': 126,\n",
              " 'spike protein ccv': 127,\n",
              " 'study': 128,\n",
              " 'study mechanism': 129,\n",
              " 'study mechanism prevention': 130,\n",
              " 'understanding': 131,\n",
              " 'understanding epidemiology': 132,\n",
              " 'understanding epidemiology disease': 133,\n",
              " 'veterinary': 134,\n",
              " 'veterinary community': 135,\n",
              " 'veterinary community long': 136}"
            ]
          },
          "metadata": {
            "tags": []
          },
          "execution_count": 134
        }
      ]
    },
    {
      "cell_type": "code",
      "metadata": {
        "id": "z9BOqPBznqtV",
        "colab_type": "code",
        "outputId": "9606e61a-e732-4de4-c9cc-da00406d6a67",
        "colab": {
          "base_uri": "https://localhost:8080/",
          "height": 51
        }
      },
      "source": [
        "print(f'La taille de notre vocabulaire est de {len(tfidf_words_3.vocabulary_)} mots')"
      ],
      "execution_count": 0,
      "outputs": [
        {
          "output_type": "stream",
          "text": [
            "La taille de notre vocabulaire est de 137 mots\n",
            "La taille de notre vocabulaire est de 137 mots\n"
          ],
          "name": "stdout"
        }
      ]
    },
    {
      "cell_type": "markdown",
      "metadata": {
        "id": "Kad8YnBQS2qO",
        "colab_type": "text"
      },
      "source": [
        "1. Ici notre paramètre max_feature n'est pas du tout utile car notre vocabulaire n'est pas grand (< 20k mots).\n",
        "\n",
        "2. Notre modèle à bien construit notre vocabulaire avec nos trigrams de mots.\n",
        "\n",
        "```\n",
        "\n",
        " 'acid': 0,\n",
        " 'acid sequence': 1,\n",
        " 'acid sequence seq': 2,\n",
        "\n",
        "```\n",
        "\n",
        "\n",
        "A quoi ressemble notre texte transformé. \n"
      ]
    },
    {
      "cell_type": "markdown",
      "metadata": {
        "id": "mQ1RdJ19T9bS",
        "colab_type": "text"
      },
      "source": [
        "C'est valeur représente l'importance de chaque mot dans le texte 1. C'est la représentation de notre texte avec le TF-IDF. "
      ]
    },
    {
      "cell_type": "markdown",
      "metadata": {
        "id": "yWyjT7NPuQJj",
        "colab_type": "text"
      },
      "source": [
        "#### TFIDF appliqué sur le Texte 1"
      ]
    },
    {
      "cell_type": "code",
      "metadata": {
        "id": "8wKiZnqpUtji",
        "colab_type": "code",
        "colab": {}
      },
      "source": [
        "transformed_text_3 =  tfidf_words_3.transform([texte1])\n",
        "transformed_text_2 =  tfidf_words_2.transform([texte1])\n",
        "transformed_text_1 =  tfidf_words_1.transform([texte1])"
      ],
      "execution_count": 0,
      "outputs": []
    },
    {
      "cell_type": "code",
      "metadata": {
        "id": "jDdn_oyvWe9b",
        "colab_type": "code",
        "colab": {}
      },
      "source": [
        "words_3 = transformed_text_3.toarray()\n",
        "words_2 = transformed_text_2.toarray()\n",
        "words_1 = transformed_text_1.toarray()"
      ],
      "execution_count": 0,
      "outputs": []
    },
    {
      "cell_type": "code",
      "metadata": {
        "id": "L1jij5weUe_G",
        "colab_type": "code",
        "colab": {}
      },
      "source": [
        "max_3 = np.argmax(words_3[0], axis=0)\n",
        "max_2 = np.argmax(words_2[0], axis=0)\n",
        "max_1 = np.argmax(words_1[0], axis=0)"
      ],
      "execution_count": 0,
      "outputs": []
    },
    {
      "cell_type": "code",
      "metadata": {
        "id": "JM4wf7ZPY1aP",
        "colab_type": "code",
        "outputId": "6e00644d-d82f-4bed-e6ea-ef4846c79a3f",
        "colab": {
          "base_uri": "https://localhost:8080/",
          "height": 34
        }
      },
      "source": [
        "(max_3, max_2, max_1)"
      ],
      "execution_count": 0,
      "outputs": [
        {
          "output_type": "execute_result",
          "data": {
            "text/plain": [
              "(18, 12, 6)"
            ]
          },
          "metadata": {
            "tags": []
          },
          "execution_count": 79
        },
        {
          "output_type": "execute_result",
          "data": {
            "text/plain": [
              "(18, 12, 6)"
            ]
          },
          "metadata": {
            "tags": []
          },
          "execution_count": 139
        }
      ]
    },
    {
      "cell_type": "markdown",
      "metadata": {
        "id": "ytaC59xfZANd",
        "colab_type": "text"
      },
      "source": [
        "On obtient les index du mot importants pour nos trois vectorizers."
      ]
    },
    {
      "cell_type": "code",
      "metadata": {
        "id": "UJPhbwdPWksg",
        "colab_type": "code",
        "outputId": "5e76139e-5b13-4bba-d2e1-6155bc38eef1",
        "colab": {
          "base_uri": "https://localhost:8080/",
          "height": 34
        }
      },
      "source": [
        "(tfidf_words_1.get_feature_names()[max_1], tfidf_words_2.get_feature_names()[max_2], tfidf_words_3.get_feature_names()[max_3])"
      ],
      "execution_count": 0,
      "outputs": [
        {
          "output_type": "execute_result",
          "data": {
            "text/plain": [
              "('ccv', 'ccv', 'ccv')"
            ]
          },
          "metadata": {
            "tags": []
          },
          "execution_count": 80
        },
        {
          "output_type": "execute_result",
          "data": {
            "text/plain": [
              "('ccv', 'ccv', 'ccv')"
            ]
          },
          "metadata": {
            "tags": []
          },
          "execution_count": 140
        }
      ]
    },
    {
      "cell_type": "markdown",
      "metadata": {
        "id": "1dc4OIaBoLAc",
        "colab_type": "text"
      },
      "source": [
        "Pour les vectorizers **ngram_range = (1,1), (1,2) et (1,3)** le mots le plus important du vocabulaire est **CCV**, mot signifiant : \"un virus du genre Coronavirus\".  \n",
        "\n",
        "Dans le premier texte le mot **ccv** est mentionné 3 fois, il est en effet le sujet un thème du texte. Avec deux textes, le TFID à bien capturé le fait que le texte numéro un parle bien du coronavirus. "
      ]
    },
    {
      "cell_type": "markdown",
      "metadata": {
        "id": "6ZMya-XeuM5E",
        "colab_type": "text"
      },
      "source": [
        "#### TFIDF appliqué sur le Texte 2"
      ]
    },
    {
      "cell_type": "code",
      "metadata": {
        "id": "4oPOG9Sgua8n",
        "colab_type": "code",
        "outputId": "70892d81-6105-4531-da12-70eb93c5f3d5",
        "colab": {
          "base_uri": "https://localhost:8080/",
          "height": 34
        }
      },
      "source": [
        "transformed_text_3 =  tfidf_words_3.transform([texte2])\n",
        "transformed_text_2 =  tfidf_words_2.transform([texte2])\n",
        "transformed_text_1 =  tfidf_words_1.transform([texte2])\n",
        "words_3 = transformed_text_3.toarray()\n",
        "words_2 = transformed_text_2.toarray()\n",
        "words_1 = transformed_text_1.toarray()\n",
        "max_3 = np.argmax(words_3[0], axis=0)\n",
        "max_2 = np.argmax(words_2[0], axis=0)\n",
        "max_1 = np.argmax(words_1[0], axis=0)\n",
        "(max_3, max_2, max_1)"
      ],
      "execution_count": 0,
      "outputs": [
        {
          "output_type": "execute_result",
          "data": {
            "text/plain": [
              "(37, 25, 12)"
            ]
          },
          "metadata": {
            "tags": []
          },
          "execution_count": 81
        },
        {
          "output_type": "execute_result",
          "data": {
            "text/plain": [
              "(37, 25, 12)"
            ]
          },
          "metadata": {
            "tags": []
          },
          "execution_count": 141
        }
      ]
    },
    {
      "cell_type": "code",
      "metadata": {
        "id": "EtGFV7AAujF8",
        "colab_type": "code",
        "outputId": "78992e19-a7ef-4caf-a00f-06b2c99bda63",
        "colab": {
          "base_uri": "https://localhost:8080/",
          "height": 34
        }
      },
      "source": [
        "(tfidf_words_1.get_feature_names()[max_1], tfidf_words_2.get_feature_names()[max_2], tfidf_words_3.get_feature_names()[max_3])"
      ],
      "execution_count": 0,
      "outputs": [
        {
          "output_type": "execute_result",
          "data": {
            "text/plain": [
              "('disease', 'disease', 'disease')"
            ]
          },
          "metadata": {
            "tags": []
          },
          "execution_count": 82
        },
        {
          "output_type": "execute_result",
          "data": {
            "text/plain": [
              "('disease', 'disease', 'disease')"
            ]
          },
          "metadata": {
            "tags": []
          },
          "execution_count": 142
        }
      ]
    },
    {
      "cell_type": "markdown",
      "metadata": {
        "id": "OMp_Jp7UuqJM",
        "colab_type": "text"
      },
      "source": [
        "Le TFIDF nous donne le mot **disease** comme thème pour le texte numéro 2. Le texte 2, parle en effet du coronavirus provoquant des maladies sérieuse chez les animaux atteint.\n",
        "\n",
        "\n",
        "**Note : Le ngram_range, permet d'ajoute de l'information par l'ajout de n-gram. On augmente la taille de notre vocabulaire. Avec un range supérieur à (1,1), c'est à dire (1, n) avec *n > 1*. Notre TF-IDF cherchera à déterminer l'importance de ces *n-grams* dans les textes.**"
      ]
    },
    {
      "cell_type": "markdown",
      "metadata": {
        "id": "A-ipPZrEZgQC",
        "colab_type": "text"
      },
      "source": [
        "### Char Vectorizer "
      ]
    },
    {
      "cell_type": "markdown",
      "metadata": {
        "id": "U2LWzhyXfgD-",
        "colab_type": "text"
      },
      "source": [
        "* Ici on ajoute juste le paramètre analyzer 'char'. Notre tokenizer va concevoir notre vocabulaire en faisant des ngram(2,6) et (3,6) de caractère (tout type de charactère)."
      ]
    },
    {
      "cell_type": "code",
      "metadata": {
        "id": "fji6gXbtfdC_",
        "colab_type": "code",
        "colab": {}
      },
      "source": [
        "vect_char_3 = TfidfVectorizer(max_features=40000,  lowercase=True, analyzer='char', stop_words= 'english',ngram_range=(3,6),dtype=np.float32)\n",
        "vect_char_2 = TfidfVectorizer(max_features=40000, lowercase=True, analyzer='char', stop_words= 'english',ngram_range=(2,6),dtype=np.float32)"
      ],
      "execution_count": 0,
      "outputs": []
    },
    {
      "cell_type": "code",
      "metadata": {
        "id": "eMk-1UAuf8Nn",
        "colab_type": "code",
        "outputId": "6a7df4a5-de53-4d8b-8d6f-d98cc3ee8429",
        "colab": {
          "base_uri": "https://localhost:8080/",
          "height": 374
        }
      },
      "source": [
        "vect_char_3.fit([texte1, texte2])\n",
        "vect_char_2.fit([texte1, texte2])"
      ],
      "execution_count": 0,
      "outputs": [
        {
          "output_type": "stream",
          "text": [
            "/usr/local/lib/python3.6/dist-packages/sklearn/feature_extraction/text.py:520: UserWarning:\n",
            "\n",
            "The parameter 'stop_words' will not be used since 'analyzer' != 'word'\n",
            "\n"
          ],
          "name": "stderr"
        },
        {
          "output_type": "execute_result",
          "data": {
            "text/plain": [
              "TfidfVectorizer(analyzer='char', binary=False, decode_error='strict',\n",
              "                dtype=<class 'numpy.float32'>, encoding='utf-8',\n",
              "                input='content', lowercase=True, max_df=1.0, max_features=40000,\n",
              "                min_df=1, ngram_range=(2, 6), norm='l2', preprocessor=None,\n",
              "                smooth_idf=True, stop_words='english', strip_accents=None,\n",
              "                sublinear_tf=False, token_pattern='(?u)\\\\b\\\\w\\\\w+\\\\b',\n",
              "                tokenizer=None, use_idf=True, vocabulary=None)"
            ]
          },
          "metadata": {
            "tags": []
          },
          "execution_count": 84
        },
        {
          "output_type": "stream",
          "text": [
            "/usr/local/lib/python3.6/dist-packages/sklearn/feature_extraction/text.py:520: UserWarning:\n",
            "\n",
            "The parameter 'stop_words' will not be used since 'analyzer' != 'word'\n",
            "\n"
          ],
          "name": "stderr"
        },
        {
          "output_type": "execute_result",
          "data": {
            "text/plain": [
              "TfidfVectorizer(analyzer='char', binary=False, decode_error='strict',\n",
              "                dtype=<class 'numpy.float32'>, encoding='utf-8',\n",
              "                input='content', lowercase=True, max_df=1.0, max_features=40000,\n",
              "                min_df=1, ngram_range=(2, 6), norm='l2', preprocessor=None,\n",
              "                smooth_idf=True, stop_words='english', strip_accents=None,\n",
              "                sublinear_tf=False, token_pattern='(?u)\\\\b\\\\w\\\\w+\\\\b',\n",
              "                tokenizer=None, use_idf=True, vocabulary=None)"
            ]
          },
          "metadata": {
            "tags": []
          },
          "execution_count": 144
        }
      ]
    },
    {
      "cell_type": "code",
      "metadata": {
        "id": "nCJpwaCvgQgP",
        "colab_type": "code",
        "colab": {}
      },
      "source": [
        "transformed_text_char_3 = vect_char_3.transform([texte1])\n",
        "transformed_text_char_2 = vect_char_2.transform([texte1])"
      ],
      "execution_count": 0,
      "outputs": []
    },
    {
      "cell_type": "code",
      "metadata": {
        "id": "cLheJbESgbxB",
        "colab_type": "code",
        "outputId": "fb004dcf-7a7d-4745-fc47-80e49db33969",
        "colab": {
          "base_uri": "https://localhost:8080/",
          "height": 1000
        }
      },
      "source": [
        "vect_char_3.vocabulary_"
      ],
      "execution_count": 0,
      "outputs": [
        {
          "output_type": "execute_result",
          "data": {
            "text/plain": [
              "{' a ': 12,\n",
              " 'a d': 315,\n",
              " ' dn': 97,\n",
              " 'dna': 623,\n",
              " 'na ': 1286,\n",
              " 'a m': 326,\n",
              " ' mo': 168,\n",
              " 'mol': 1229,\n",
              " 'ole': 1462,\n",
              " 'lec': 1158,\n",
              " 'ecu': 728,\n",
              " 'cul': 539,\n",
              " 'ule': 1916,\n",
              " 'le ': 1147,\n",
              " 'e e': 655,\n",
              " ' en': 112,\n",
              " 'enc': 762,\n",
              " 'nco': 1310,\n",
              " 'cod': 516,\n",
              " 'odi': 1429,\n",
              " 'din': 614,\n",
              " 'ing': 1075,\n",
              " 'ng ': 1342,\n",
              " 'g a': 888,\n",
              " 'a p': 330,\n",
              " ' po': 203,\n",
              " 'pol': 1575,\n",
              " 'oly': 1470,\n",
              " 'lyp': 1186,\n",
              " 'ype': 2012,\n",
              " 'pep': 1555,\n",
              " 'ept': 787,\n",
              " 'pti': 1595,\n",
              " 'tid': 1871,\n",
              " 'ide': 1008,\n",
              " 'de ': 580,\n",
              " 'e h': 662,\n",
              " ' ha': 128,\n",
              " 'hav': 947,\n",
              " 'avi': 450,\n",
              " 'vin': 1976,\n",
              " ' at': 53,\n",
              " 'at ': 435,\n",
              " 't l': 1801,\n",
              " ' le': 156,\n",
              " 'lea': 1154,\n",
              " 'eas': 708,\n",
              " 'ast': 431,\n",
              " 'st ': 1776,\n",
              " 't o': 1805,\n",
              " ' on': 189,\n",
              " 'one': 1493,\n",
              " 'ne ': 1331,\n",
              " 'e i': 666,\n",
              " ' im': 139,\n",
              " 'imm': 1039,\n",
              " 'mmu': 1217,\n",
              " 'mun': 1237,\n",
              " 'uno': 1932,\n",
              " 'nog': 1389,\n",
              " 'oge': 1450,\n",
              " 'gen': 922,\n",
              " 'eni': 770,\n",
              " 'nic': 1362,\n",
              " 'ic ': 979,\n",
              " 'c d': 469,\n",
              " ' de': 86,\n",
              " 'det': 602,\n",
              " 'ete': 837,\n",
              " 'ter': 1833,\n",
              " 'erm': 813,\n",
              " 'rmi': 1648,\n",
              " 'min': 1206,\n",
              " 'ina': 1064,\n",
              " 'nan': 1290,\n",
              " 'ant': 401,\n",
              " 'nts': 1413,\n",
              " 'ts ': 1893,\n",
              " 's o': 1694,\n",
              " ' of': 179,\n",
              " 'of ': 1433,\n",
              " 'f t': 873,\n",
              " ' th': 250,\n",
              " 'the': 1848,\n",
              " 'he ': 951,\n",
              " 'e c': 647,\n",
              " ' cc': 71,\n",
              " 'ccv': 485,\n",
              " 'cv ': 543,\n",
              " 'v s': 1948,\n",
              " ' sp': 242,\n",
              " 'spi': 1764,\n",
              " 'pik': 1567,\n",
              " 'ike': 1031,\n",
              " 'ke ': 1139,\n",
              " 'e p': 679,\n",
              " ' pr': 207,\n",
              " 'pro': 1587,\n",
              " 'rot': 1660,\n",
              " 'ote': 1531,\n",
              " 'tei': 1827,\n",
              " 'ein': 736,\n",
              " 'in,': 1060,\n",
              " 'n, ': 1282,\n",
              " ', s': 295,\n",
              " ' sa': 220,\n",
              " 'sai': 1706,\n",
              " 'aid': 349,\n",
              " 'id ': 992,\n",
              " 'd c': 550,\n",
              " 'in ': 1044,\n",
              " 'n h': 1261,\n",
              " ' an': 38,\n",
              " 'an ': 373,\n",
              " 'n a': 1247,\n",
              " ' am': 34,\n",
              " 'ami': 369,\n",
              " 'ino': 1087,\n",
              " 'no ': 1381,\n",
              " 'o a': 1417,\n",
              " ' ac': 26,\n",
              " 'aci': 341,\n",
              " 'cid': 505,\n",
              " 'd s': 572,\n",
              " ' se': 229,\n",
              " 'seq': 1733,\n",
              " 'equ': 795,\n",
              " 'que': 1603,\n",
              " 'uen': 1912,\n",
              " 'nce': 1302,\n",
              " 'ce ': 491,\n",
              " 'e s': 688,\n",
              " ' sh': 238,\n",
              " 'sho': 1748,\n",
              " 'how': 975,\n",
              " 'own': 1543,\n",
              " 'wn ': 1988,\n",
              " 'n i': 1265,\n",
              " ' in': 143,\n",
              " 'n s': 1273,\n",
              " 'eq ': 791,\n",
              " 'q i': 1599,\n",
              " ' id': 135,\n",
              " 'd n': 564,\n",
              " ' no': 175,\n",
              " 'no.': 1385,\n",
              " 'o. ': 1421,\n",
              " '. 2': 299,\n",
              " ' 2,': 0,\n",
              " '2, ': 303,\n",
              " ', 4': 275,\n",
              " ' 4,': 4,\n",
              " '4, ': 307,\n",
              " ', o': 287,\n",
              " ' or': 193,\n",
              " 'or ': 1513,\n",
              " 'r 6': 1607,\n",
              " ' 6,': 8,\n",
              " '6, ': 311,\n",
              " 'd p': 568,\n",
              " 'e b': 643,\n",
              " ' be': 57,\n",
              " 'bei': 457,\n",
              " 'g c': 902,\n",
              " ' ca': 61,\n",
              " 'cap': 477,\n",
              " 'apa': 405,\n",
              " 'pab': 1547,\n",
              " 'abl': 337,\n",
              " 'ble': 461,\n",
              " 'e o': 675,\n",
              " 'f e': 857,\n",
              " ' el': 108,\n",
              " 'eli': 746,\n",
              " 'lic': 1162,\n",
              " 'ici': 986,\n",
              " 'cit': 509,\n",
              " 'iti': 1125,\n",
              " 'tin': 1876,\n",
              " 'tec': 1823,\n",
              " 'ect': 722,\n",
              " 'cti': 532,\n",
              " 'tiv': 1885,\n",
              " 'ive': 1135,\n",
              " 've ': 1952,\n",
              " 'une': 1924,\n",
              " 'e r': 684,\n",
              " ' re': 216,\n",
              " 'res': 1632,\n",
              " 'esp': 829,\n",
              " 'spo': 1768,\n",
              " 'pon': 1579,\n",
              " 'ons': 1501,\n",
              " 'nse': 1393,\n",
              " 'se ': 1718,\n",
              " ' do': 101,\n",
              " 'dog': 627,\n",
              " 'og ': 1446,\n",
              " ' ag': 30,\n",
              " 'aga': 345,\n",
              " 'gai': 918,\n",
              " 'ain': 361,\n",
              " 'ins': 1091,\n",
              " 'nst': 1397,\n",
              " 't c': 1797,\n",
              " 'v i': 1944,\n",
              " 'inf': 1071,\n",
              " 'nfe': 1338,\n",
              " 'fec': 877,\n",
              " 'tio': 1880,\n",
              " 'ion': 1099,\n",
              " 'on ': 1482,\n",
              " 'n o': 1269,\n",
              " 'r d': 1611,\n",
              " ' di': 93,\n",
              " 'dis': 619,\n",
              " 'ise': 1109,\n",
              " 'sea': 1727,\n",
              " 'ase': 419,\n",
              " 'se.': 1726,\n",
              " ' a d': 13,\n",
              " 'a dn': 316,\n",
              " ' dna': 98,\n",
              " 'dna ': 624,\n",
              " 'na m': 1287,\n",
              " 'a mo': 327,\n",
              " ' mol': 172,\n",
              " 'mole': 1230,\n",
              " 'olec': 1463,\n",
              " 'lecu': 1159,\n",
              " 'ecul': 729,\n",
              " 'cule': 540,\n",
              " 'ule ': 1917,\n",
              " 'le e': 1148,\n",
              " 'e en': 656,\n",
              " ' enc': 113,\n",
              " 'enco': 767,\n",
              " 'ncod': 1311,\n",
              " 'codi': 517,\n",
              " 'odin': 1430,\n",
              " 'ding': 615,\n",
              " 'ing ': 1076,\n",
              " 'ng a': 1343,\n",
              " 'g a ': 889,\n",
              " ' a p': 21,\n",
              " 'a po': 331,\n",
              " ' pol': 204,\n",
              " 'poly': 1576,\n",
              " 'olyp': 1471,\n",
              " 'lype': 1187,\n",
              " 'ypep': 2013,\n",
              " 'pept': 1556,\n",
              " 'epti': 788,\n",
              " 'ptid': 1596,\n",
              " 'tide': 1872,\n",
              " 'ide ': 1009,\n",
              " 'de h': 587,\n",
              " 'e ha': 663,\n",
              " ' hav': 132,\n",
              " 'havi': 948,\n",
              " 'avin': 451,\n",
              " 'ving': 1977,\n",
              " 'g at': 899,\n",
              " ' at ': 54,\n",
              " 'at l': 436,\n",
              " 't le': 1802,\n",
              " ' lea': 157,\n",
              " 'leas': 1155,\n",
              " 'east': 715,\n",
              " 'ast ': 432,\n",
              " 'st o': 1780,\n",
              " 't on': 1809,\n",
              " ' one': 190,\n",
              " 'one ': 1494,\n",
              " 'ne i': 1332,\n",
              " 'e im': 667,\n",
              " ' imm': 140,\n",
              " 'immu': 1040,\n",
              " 'mmun': 1218,\n",
              " 'muno': 1244,\n",
              " 'unog': 1933,\n",
              " 'noge': 1390,\n",
              " 'ogen': 1451,\n",
              " 'geni': 923,\n",
              " 'enic': 771,\n",
              " 'nic ': 1363,\n",
              " 'ic d': 983,\n",
              " 'c de': 470,\n",
              " ' det': 87,\n",
              " 'dete': 603,\n",
              " 'eter': 838,\n",
              " 'term': 1837,\n",
              " 'ermi': 814,\n",
              " 'rmin': 1649,\n",
              " 'mina': 1207,\n",
              " 'inan': 1065,\n",
              " 'nant': 1291,\n",
              " 'ants': 402,\n",
              " 'nts ': 1414,\n",
              " 'ts o': 1894,\n",
              " 's of': 1695,\n",
              " ' of ': 180,\n",
              " 'of t': 1443,\n",
              " 'f th': 874,\n",
              " ' the': 254,\n",
              " 'the ': 1849,\n",
              " 'he c': 952,\n",
              " 'e cc': 648,\n",
              " ' ccv': 72,\n",
              " 'ccv ': 486,\n",
              " 'cv s': 547,\n",
              " 'v sp': 1949,\n",
              " ' spi': 243,\n",
              " 'spik': 1765,\n",
              " 'pike': 1568,\n",
              " 'ike ': 1032,\n",
              " 'ke p': 1140,\n",
              " 'e pr': 680,\n",
              " ' pro': 211,\n",
              " 'prot': 1588,\n",
              " 'rote': 1661,\n",
              " 'otei': 1535,\n",
              " 'tein': 1828,\n",
              " 'ein,': 740,\n",
              " 'in, ': 1061,\n",
              " 'n, s': 1283,\n",
              " ', sa': 296,\n",
              " ' sai': 221,\n",
              " 'said': 1707,\n",
              " 'aid ': 350,\n",
              " 'id c': 993,\n",
              " 'd cc': 554,\n",
              " 'ein ': 737,\n",
              " 'in h': 1051,\n",
              " 'n ha': 1262,\n",
              " 'g an': 896,\n",
              " ' an ': 39,\n",
              " 'an a': 374,\n",
              " 'n am': 1251,\n",
              " ' ami': 35,\n",
              " 'amin': 370,\n",
              " 'mino': 1210,\n",
              " 'ino ': 1088,\n",
              " 'no a': 1382,\n",
              " 'o ac': 1418,\n",
              " ' aci': 27,\n",
              " 'acid': 342,\n",
              " 'cid ': 506,\n",
              " 'id s': 1002,\n",
              " 'd se': 573,\n",
              " ' seq': 230,\n",
              " 'sequ': 1737,\n",
              " 'eque': 796,\n",
              " 'quen': 1604,\n",
              " 'uenc': 1913,\n",
              " 'ence': 763,\n",
              " 'nce ': 1303,\n",
              " 'ce s': 495,\n",
              " 'e sh': 689,\n",
              " ' sho': 239,\n",
              " 'show': 1749,\n",
              " 'hown': 976,\n",
              " 'own ': 1544,\n",
              " 'wn i': 1989,\n",
              " 'n in': 1266,\n",
              " ' in ': 144,\n",
              " 'in s': 1054,\n",
              " 'n se': 1274,\n",
              " 'seq ': 1734,\n",
              " 'eq i': 792,\n",
              " 'q id': 1600,\n",
              " ' id ': 136,\n",
              " 'id n': 996,\n",
              " 'd no': 565,\n",
              " ' no.': 176,\n",
              " 'no. ': 1386,\n",
              " 'o. 2': 1422,\n",
              " '. 2,': 300,\n",
              " ' 2, ': 1,\n",
              " '2, 4': 304,\n",
              " ', 4,': 276,\n",
              " ' 4, ': 5,\n",
              " '4, o': 308,\n",
              " ', or': 288,\n",
              " ' or ': 194,\n",
              " 'or 6': 1514,\n",
              " 'r 6,': 1608,\n",
              " ' 6, ': 9,\n",
              " '6, s': 312,\n",
              " 'id p': 999,\n",
              " 'd po': 569,\n",
              " 'de b': 584,\n",
              " 'e be': 644,\n",
              " ' bei': 58,\n",
              " 'bein': 458,\n",
              " 'eing': 743,\n",
              " 'ng c': 1350,\n",
              " 'g ca': 903,\n",
              " ' cap': 65,\n",
              " 'capa': 478,\n",
              " 'apab': 406,\n",
              " 'pabl': 1548,\n",
              " 'able': 338,\n",
              " 'ble ': 462,\n",
              " 'le o': 1151,\n",
              " 'e of': 676,\n",
              " 'of e': 1434,\n",
              " 'f el': 858,\n",
              " ' eli': 109,\n",
              " 'elic': 747,\n",
              " 'lici': 1163,\n",
              " 'icit': 987,\n",
              " 'citi': 510,\n",
              " 'itin': 1126,\n",
              " 'ting': 1877,\n",
              " 'a pr': 334,\n",
              " 'otec': 1532,\n",
              " 'tect': 1824,\n",
              " 'ecti': 723,\n",
              " 'ctiv': 536,\n",
              " 'tive': 1886,\n",
              " 'ive ': 1136,\n",
              " 've i': 1953,\n",
              " 'mune': 1238,\n",
              " 'une ': 1925,\n",
              " 'ne r': 1335,\n",
              " 'e re': 685,\n",
              " ' res': 217,\n",
              " 'resp': 1633,\n",
              " 'espo': 830,\n",
              " 'spon': 1769,\n",
              " 'pons': 1580,\n",
              " 'onse': 1502,\n",
              " 'nse ': 1394,\n",
              " 'se i': 1719,\n",
              " 'e in': 670,\n",
              " 'in a': 1045,\n",
              " 'n a ': 1248,\n",
              " 'a do': 319,\n",
              " ' dog': 102,\n",
              " 'dog ': 628,\n",
              " 'og a': 1447,\n",
              " 'g ag': 893,\n",
              " ' aga': 31,\n",
              " 'agai': 346,\n",
              " 'gain': 919,\n",
              " 'ains': 362,\n",
              " 'inst': 1092,\n",
              " 'nst ': 1398,\n",
              " 'st c': 1777,\n",
              " 't cc': 1798,\n",
              " 'cv i': 544,\n",
              " 'v in': 1945,\n",
              " ' inf': 153,\n",
              " 'infe': 1072,\n",
              " 'nfec': 1339,\n",
              " 'fect': 878,\n",
              " 'ctio': 533,\n",
              " 'tion': 1881,\n",
              " 'ion ': 1100,\n",
              " 'on o': 1486,\n",
              " 'n or': 1270,\n",
              " 'or d': 1517,\n",
              " 'r di': 1612,\n",
              " ' dis': 94,\n",
              " 'dise': 620,\n",
              " 'isea': 1110,\n",
              " 'seas': 1728,\n",
              " 'ease': 709,\n",
              " 'ase.': 426,\n",
              " ' a dn': 14,\n",
              " 'a dna': 317,\n",
              " ' dna ': 99,\n",
              " 'dna m': 625,\n",
              " 'na mo': 1288,\n",
              " 'a mol': 328,\n",
              " ' mole': 173,\n",
              " 'molec': 1231,\n",
              " 'olecu': 1464,\n",
              " 'lecul': 1160,\n",
              " 'ecule': 730,\n",
              " 'cule ': 541,\n",
              " 'ule e': 1918,\n",
              " 'le en': 1149,\n",
              " 'e enc': 657,\n",
              " ' enco': 114,\n",
              " 'encod': 768,\n",
              " 'ncodi': 1312,\n",
              " 'codin': 518,\n",
              " 'oding': 1431,\n",
              " 'ding ': 616,\n",
              " 'ing a': 1077,\n",
              " 'ng a ': 1344,\n",
              " 'g a p': 890,\n",
              " ' a po': 22,\n",
              " 'a pol': 332,\n",
              " ' poly': 205,\n",
              " 'polyp': 1577,\n",
              " 'olype': 1472,\n",
              " 'lypep': 1188,\n",
              " 'ypept': 2014,\n",
              " 'pepti': 1557,\n",
              " 'eptid': 789,\n",
              " 'ptide': 1597,\n",
              " 'tide ': 1873,\n",
              " 'ide h': 1014,\n",
              " 'de ha': 588,\n",
              " 'e hav': 664,\n",
              " ' havi': 133,\n",
              " 'havin': 949,\n",
              " 'aving': 452,\n",
              " 'ving ': 1978,\n",
              " 'ng at': 1348,\n",
              " 'g at ': 900,\n",
              " ' at l': 55,\n",
              " 'at le': 437,\n",
              " 't lea': 1803,\n",
              " ' leas': 158,\n",
              " 'least': 1156,\n",
              " 'east ': 716,\n",
              " 'ast o': 433,\n",
              " 'st on': 1781,\n",
              " 't one': 1810,\n",
              " ' one ': 191,\n",
              " 'one i': 1495,\n",
              " 'ne im': 1333,\n",
              " 'e imm': 668,\n",
              " ' immu': 141,\n",
              " 'immun': 1041,\n",
              " 'mmuno': 1223,\n",
              " 'munog': 1245,\n",
              " 'unoge': 1934,\n",
              " 'nogen': 1391,\n",
              " 'ogeni': 1452,\n",
              " 'genic': 924,\n",
              " 'enic ': 772,\n",
              " 'nic d': 1364,\n",
              " 'ic de': 984,\n",
              " 'c det': 471,\n",
              " ' dete': 88,\n",
              " 'deter': 604,\n",
              " 'eterm': 841,\n",
              " 'termi': 1838,\n",
              " 'ermin': 815,\n",
              " 'rmina': 1650,\n",
              " 'minan': 1208,\n",
              " 'inant': 1066,\n",
              " 'nants': 1292,\n",
              " 'ants ': 403,\n",
              " 'nts o': 1415,\n",
              " 'ts of': 1895,\n",
              " 's of ': 1696,\n",
              " ' of t': 187,\n",
              " 'of th': 1444,\n",
              " 'f the': 875,\n",
              " ' the ': 255,\n",
              " 'the c': 1850,\n",
              " 'he cc': 953,\n",
              " 'e ccv': 649,\n",
              " ' ccv ': 73,\n",
              " 'ccv s': 489,\n",
              " 'cv sp': 548,\n",
              " 'v spi': 1950,\n",
              " ' spik': 244,\n",
              " 'spike': 1766,\n",
              " 'pike ': 1569,\n",
              " 'ike p': 1033,\n",
              " 'ke pr': 1141,\n",
              " 'e pro': 681,\n",
              " ' prot': 212,\n",
              " 'prote': 1589,\n",
              " 'rotei': 1664,\n",
              " 'otein': 1536,\n",
              " 'tein,': 1831,\n",
              " 'ein, ': 741,\n",
              " 'in, s': 1062,\n",
              " 'n, sa': 1284,\n",
              " ', sai': 297,\n",
              " ' said': 222,\n",
              " 'said ': 1708,\n",
              " 'aid c': 351,\n",
              " 'id cc': 994,\n",
              " 'd ccv': 555,\n",
              " 'tein ': 1829,\n",
              " 'ein h': 738,\n",
              " 'in ha': 1052,\n",
              " 'n hav': 1263,\n",
              " 'ng an': 1346,\n",
              " 'g an ': 897,\n",
              " ' an a': 40,\n",
              " 'an am': 375,\n",
              " 'n ami': 1252,\n",
              " ' amin': 36,\n",
              " 'amino': 371,\n",
              " 'mino ': 1211,\n",
              " 'ino a': 1089,\n",
              " 'no ac': 1383,\n",
              " 'o aci': 1419,\n",
              " ' acid': 28,\n",
              " 'acid ': 343,\n",
              " 'cid s': 507,\n",
              " 'id se': 1003,\n",
              " 'd seq': 574,\n",
              " ' sequ': 233,\n",
              " 'seque': 1738,\n",
              " 'equen': 797,\n",
              " 'quenc': 1605,\n",
              " 'uence': 1914,\n",
              " 'ence ': 764,\n",
              " 'nce s': 1306,\n",
              " 'ce sh': 496,\n",
              " 'e sho': 690,\n",
              " ' show': 240,\n",
              " 'shown': 1750,\n",
              " 'hown ': 977,\n",
              " 'own i': 1545,\n",
              " 'wn in': 1990,\n",
              " 'n in ': 1267,\n",
              " ' in s': 149,\n",
              " 'in se': 1055,\n",
              " 'n seq': 1275,\n",
              " ' seq ': 231,\n",
              " 'seq i': 1735,\n",
              " 'eq id': 793,\n",
              " 'q id ': 1601,\n",
              " ' id n': 137,\n",
              " 'id no': 997,\n",
              " 'd no.': 566,\n",
              " ' no. ': 177,\n",
              " 'no. 2': 1387,\n",
              " 'o. 2,': 1423,\n",
              " '. 2, ': 301,\n",
              " ' 2, 4': 2,\n",
              " '2, 4,': 305,\n",
              " ', 4, ': 277,\n",
              " ' 4, o': 6,\n",
              " '4, or': 309,\n",
              " ', or ': 289,\n",
              " ' or 6': 195,\n",
              " 'or 6,': 1515,\n",
              " 'r 6, ': 1609,\n",
              " ' 6, s': 10,\n",
              " '6, sa': 313,\n",
              " 'aid p': 353,\n",
              " 'id po': 1000,\n",
              " 'd pol': 570,\n",
              " 'ide b': 1012,\n",
              " 'de be': 585,\n",
              " 'e bei': 645,\n",
              " ' bein': 59,\n",
              " 'being': 459,\n",
              " 'eing ': 744,\n",
              " 'ing c': 1081,\n",
              " 'ng ca': 1351,\n",
              " 'g cap': 904,\n",
              " ' capa': 66,\n",
              " 'capab': 479,\n",
              " 'apabl': 407,\n",
              " 'pable': 1549,\n",
              " 'able ': 339,\n",
              " 'ble o': 463,\n",
              " 'le of': 1152,\n",
              " 'e of ': 677,\n",
              " ' of e': 181,\n",
              " 'of el': 1435,\n",
              " 'f eli': 859,\n",
              " ' elic': 110,\n",
              " 'elici': 748,\n",
              " 'licit': 1164,\n",
              " 'iciti': 988,\n",
              " 'citin': 511,\n",
              " 'iting': 1127,\n",
              " 'ting ': 1878,\n",
              " ' a pr': 24,\n",
              " 'a pro': 335,\n",
              " 'rotec': 1662,\n",
              " 'otect': 1533,\n",
              " 'tecti': 1825,\n",
              " 'ectiv': 726,\n",
              " 'ctive': 537,\n",
              " 'tive ': 1887,\n",
              " 'ive i': 1137,\n",
              " 've im': 1954,\n",
              " 'mmune': 1219,\n",
              " 'mune ': 1239,\n",
              " 'une r': 1926,\n",
              " 'ne re': 1336,\n",
              " 'e res': 686,\n",
              " ' resp': 218,\n",
              " 'respo': 1634,\n",
              " 'espon': 831,\n",
              " 'spons': 1770,\n",
              " 'ponse': 1581,\n",
              " 'onse ': 1503,\n",
              " 'nse i': 1395,\n",
              " 'se in': 1720,\n",
              " 'e in ': 671,\n",
              " ' in a': 145,\n",
              " 'in a ': 1046,\n",
              " 'n a d': 1249,\n",
              " ' a do': 16,\n",
              " 'a dog': 320,\n",
              " ' dog ': 103,\n",
              " 'dog a': 629,\n",
              " 'og ag': 1448,\n",
              " 'g aga': 894,\n",
              " ' agai': 32,\n",
              " 'again': 347,\n",
              " 'gains': 920,\n",
              " 'ainst': 363,\n",
              " 'inst ': 1093,\n",
              " 'nst c': 1399,\n",
              " 'st cc': 1778,\n",
              " 't ccv': 1799,\n",
              " 'ccv i': 487,\n",
              " 'cv in': 545,\n",
              " 'v inf': 1946,\n",
              " ' infe': 154,\n",
              " 'infec': 1073,\n",
              " 'nfect': 1340,\n",
              " 'fecti': 879,\n",
              " 'ectio': 724,\n",
              " 'ction': 534,\n",
              " 'tion ': 1882,\n",
              " 'ion o': 1103,\n",
              " 'on or': 1487,\n",
              " 'n or ': 1271,\n",
              " ' or d': 197,\n",
              " 'or di': 1518,\n",
              " 'r dis': 1613,\n",
              " ' dise': 95,\n",
              " 'disea': 621,\n",
              " 'iseas': 1111,\n",
              " 'sease': 1729,\n",
              " 'ease.': 714,\n",
              " ' a dna': 15,\n",
              " 'a dna ': 318,\n",
              " ' dna m': 100,\n",
              " 'dna mo': 626,\n",
              " 'na mol': 1289,\n",
              " 'a mole': 329,\n",
              " ' molec': 174,\n",
              " 'molecu': 1232,\n",
              " 'olecul': 1465,\n",
              " 'lecule': 1161,\n",
              " 'ecule ': 731,\n",
              " 'cule e': 542,\n",
              " 'ule en': 1919,\n",
              " 'le enc': 1150,\n",
              " 'e enco': 658,\n",
              " ' encod': 115,\n",
              " 'encodi': 769,\n",
              " 'ncodin': 1313,\n",
              " 'coding': 519,\n",
              " 'oding ': 1432,\n",
              " 'ding a': 617,\n",
              " 'ing a ': 1078,\n",
              " 'ng a p': 1345,\n",
              " 'g a po': 891,\n",
              " ' a pol': 23,\n",
              " 'a poly': 333,\n",
              " ' polyp': 206,\n",
              " 'polype': 1578,\n",
              " 'olypep': 1473,\n",
              " 'lypept': 1189,\n",
              " 'ypepti': 2015,\n",
              " 'peptid': 1558,\n",
              " 'eptide': 790,\n",
              " 'ptide ': 1598,\n",
              " 'tide h': 1875,\n",
              " 'ide ha': 1015,\n",
              " 'de hav': 589,\n",
              " 'e havi': 665,\n",
              " ' havin': 134,\n",
              " 'having': 950,\n",
              " 'aving ': 453,\n",
              " 'ving a': 1979,\n",
              " 'ing at': 1080,\n",
              " 'ng at ': 1349,\n",
              " 'g at l': 901,\n",
              " ' at le': 56,\n",
              " 'at lea': 438,\n",
              " 't leas': 1804,\n",
              " ' least': 159,\n",
              " 'least ': 1157,\n",
              " 'east o': 717,\n",
              " 'ast on': 434,\n",
              " 'st one': 1782,\n",
              " 't one ': 1811,\n",
              " ' one i': 192,\n",
              " 'one im': 1496,\n",
              " 'ne imm': 1334,\n",
              " 'e immu': 669,\n",
              " ' immun': 142,\n",
              " 'immuno': 1043,\n",
              " 'mmunog': 1224,\n",
              " 'munoge': 1246,\n",
              " 'unogen': 1935,\n",
              " 'nogeni': 1392,\n",
              " 'ogenic': 1453,\n",
              " 'genic ': 925,\n",
              " 'enic d': 773,\n",
              " 'nic de': 1365,\n",
              " 'ic det': 985,\n",
              " 'c dete': 472,\n",
              " ' deter': 89,\n",
              " 'determ': 605,\n",
              " 'etermi': 842,\n",
              " 'termin': 1839,\n",
              " 'ermina': 816,\n",
              " 'rminan': 1651,\n",
              " 'minant': 1209,\n",
              " 'inants': 1067,\n",
              " 'nants ': 1293,\n",
              " 'ants o': 404,\n",
              " 'nts of': 1416,\n",
              " 'ts of ': 1896,\n",
              " 's of t': 1698,\n",
              " ' of th': 188,\n",
              " 'of the': 1445,\n",
              " 'f the ': 876,\n",
              " ' the c': 256,\n",
              " 'the cc': 1851,\n",
              " 'he ccv': 954,\n",
              " 'e ccv ': 650,\n",
              " ' ccv s': 75,\n",
              " 'ccv sp': 490,\n",
              " 'cv spi': 549,\n",
              " 'v spik': 1951,\n",
              " ' spike': 245,\n",
              " 'spike ': 1767,\n",
              " 'pike p': 1570,\n",
              " 'ike pr': 1034,\n",
              " 'ke pro': 1142,\n",
              " 'e prot': 682,\n",
              " ' prote': 213,\n",
              " 'protei': 1591,\n",
              " 'rotein': 1665,\n",
              " 'otein,': 1538,\n",
              " 'tein, ': 1832,\n",
              " 'ein, s': 742,\n",
              " 'in, sa': 1063,\n",
              " 'n, sai': 1285,\n",
              " ', said': 298,\n",
              " ' said ': 223,\n",
              " 'said c': 1709,\n",
              " 'aid cc': 352,\n",
              " 'id ccv': 995,\n",
              " 'd ccv ': 556,\n",
              " 'otein ': 1537,\n",
              " 'tein h': 1830,\n",
              " 'ein ha': 739,\n",
              " 'in hav': 1053,\n",
              " 'n havi': 1264,\n",
              " 'ing an': 1079,\n",
              " 'ng an ': 1347,\n",
              " 'g an a': 898,\n",
              " ' an am': 41,\n",
              " 'an ami': 376,\n",
              " 'n amin': 1253,\n",
              " ' amino': 37,\n",
              " 'amino ': 372,\n",
              " 'mino a': 1212,\n",
              " 'ino ac': 1090,\n",
              " 'no aci': 1384,\n",
              " 'o acid': 1420,\n",
              " ' acid ': 29,\n",
              " 'acid s': 344,\n",
              " 'cid se': 508,\n",
              " 'id seq': 1004,\n",
              " 'd sequ': 575,\n",
              " ' seque': 234,\n",
              " 'sequen': 1739,\n",
              " 'equenc': 798,\n",
              " 'quence': 1606,\n",
              " 'uence ': 1915,\n",
              " 'ence s': 765,\n",
              " 'nce sh': 1307,\n",
              " 'ce sho': 497,\n",
              " 'e show': 691,\n",
              " ' shown': 241,\n",
              " 'shown ': 1751,\n",
              " 'hown i': 978,\n",
              " 'own in': 1546,\n",
              " 'wn in ': 1991,\n",
              " 'n in s': 1268,\n",
              " ' in se': 150,\n",
              " 'in seq': 1056,\n",
              " 'n seq ': 1276,\n",
              " ' seq i': 232,\n",
              " 'seq id': 1736,\n",
              " 'eq id ': 794,\n",
              " 'q id n': 1602,\n",
              " ' id no': 138,\n",
              " 'id no.': 998,\n",
              " 'd no. ': 567,\n",
              " ' no. 2': 178,\n",
              " 'no. 2,': 1388,\n",
              " 'o. 2, ': 1424,\n",
              " '. 2, 4': 302,\n",
              " ' 2, 4,': 3,\n",
              " '2, 4, ': 306,\n",
              " ', 4, o': 278,\n",
              " ' 4, or': 7,\n",
              " '4, or ': 310,\n",
              " ', or 6': 290,\n",
              " ' or 6,': 196,\n",
              " 'or 6, ': 1516,\n",
              " 'r 6, s': 1610,\n",
              " ' 6, sa': 11,\n",
              " '6, sai': 314,\n",
              " 'said p': 1710,\n",
              " 'aid po': 354,\n",
              " 'id pol': 1001,\n",
              " 'd poly': 571,\n",
              " 'tide b': 1874,\n",
              " 'ide be': 1013,\n",
              " 'de bei': 586,\n",
              " 'e bein': 646,\n",
              " ' being': 60,\n",
              " 'being ': 460,\n",
              " 'eing c': 745,\n",
              " 'ing ca': 1082,\n",
              " 'ng cap': 1352,\n",
              " 'g capa': 905,\n",
              " ' capab': 67,\n",
              " 'capabl': 480,\n",
              " 'apable': 408,\n",
              " 'pable ': 1550,\n",
              " 'able o': 340,\n",
              " 'ble of': 464,\n",
              " 'le of ': 1153,\n",
              " 'e of e': 678,\n",
              " ' of el': 182,\n",
              " 'of eli': 1436,\n",
              " 'f elic': 860,\n",
              " ' elici': 111,\n",
              " 'elicit': 749,\n",
              " 'liciti': 1165,\n",
              " 'icitin': 989,\n",
              " 'citing': 512,\n",
              " 'iting ': 1128,\n",
              " 'ting a': 1879,\n",
              " 'g a pr': 892,\n",
              " ' a pro': 25,\n",
              " 'a prot': 336,\n",
              " 'protec': 1590,\n",
              " 'rotect': 1663,\n",
              " 'otecti': 1534,\n",
              " 'tectiv': 1826,\n",
              " 'ective': 727,\n",
              " 'ctive ': 538,\n",
              " 'tive i': 1888,\n",
              " 'ive im': 1138,\n",
              " 've imm': 1955,\n",
              " 'immune': 1042,\n",
              " 'mmune ': 1220,\n",
              " 'mune r': 1240,\n",
              " 'une re': 1927,\n",
              " 'ne res': 1337,\n",
              " 'e resp': 687,\n",
              " ' respo': 219,\n",
              " 'respon': 1635,\n",
              " 'espons': 832,\n",
              " 'sponse': 1771,\n",
              " 'ponse ': 1582,\n",
              " 'onse i': 1504,\n",
              " 'nse in': 1396,\n",
              " 'se in ': 1721,\n",
              " 'e in a': 672,\n",
              " ' in a ': 146,\n",
              " 'in a d': 1047,\n",
              " 'n a do': 1250,\n",
              " ' a dog': 17,\n",
              " 'a dog ': 321,\n",
              " ' dog a': 104,\n",
              " 'dog ag': 630,\n",
              " 'og aga': 1449,\n",
              " 'g agai': 895,\n",
              " ' again': 33,\n",
              " 'agains': 348,\n",
              " 'gainst': 921,\n",
              " 'ainst ': 364,\n",
              " 'inst c': 1094,\n",
              " 'nst cc': 1400,\n",
              " 'st ccv': 1779,\n",
              " 't ccv ': 1800,\n",
              " ' ccv i': 74,\n",
              " 'ccv in': 488,\n",
              " 'cv inf': 546,\n",
              " 'v infe': 1947,\n",
              " ' infec': 155,\n",
              " 'infect': 1074,\n",
              " 'nfecti': 1341,\n",
              " 'fectio': 880,\n",
              " 'ection': 725,\n",
              " 'ction ': 535,\n",
              " 'tion o': 1884,\n",
              " 'ion or': 1104,\n",
              " 'on or ': 1488,\n",
              " ...}"
            ]
          },
          "metadata": {
            "tags": []
          },
          "execution_count": 86
        },
        {
          "output_type": "execute_result",
          "data": {
            "text/plain": [
              "{' a ': 12,\n",
              " 'a d': 315,\n",
              " ' dn': 97,\n",
              " 'dna': 623,\n",
              " 'na ': 1286,\n",
              " 'a m': 326,\n",
              " ' mo': 168,\n",
              " 'mol': 1229,\n",
              " 'ole': 1462,\n",
              " 'lec': 1158,\n",
              " 'ecu': 728,\n",
              " 'cul': 539,\n",
              " 'ule': 1916,\n",
              " 'le ': 1147,\n",
              " 'e e': 655,\n",
              " ' en': 112,\n",
              " 'enc': 762,\n",
              " 'nco': 1310,\n",
              " 'cod': 516,\n",
              " 'odi': 1429,\n",
              " 'din': 614,\n",
              " 'ing': 1075,\n",
              " 'ng ': 1342,\n",
              " 'g a': 888,\n",
              " 'a p': 330,\n",
              " ' po': 203,\n",
              " 'pol': 1575,\n",
              " 'oly': 1470,\n",
              " 'lyp': 1186,\n",
              " 'ype': 2012,\n",
              " 'pep': 1555,\n",
              " 'ept': 787,\n",
              " 'pti': 1595,\n",
              " 'tid': 1871,\n",
              " 'ide': 1008,\n",
              " 'de ': 580,\n",
              " 'e h': 662,\n",
              " ' ha': 128,\n",
              " 'hav': 947,\n",
              " 'avi': 450,\n",
              " 'vin': 1976,\n",
              " ' at': 53,\n",
              " 'at ': 435,\n",
              " 't l': 1801,\n",
              " ' le': 156,\n",
              " 'lea': 1154,\n",
              " 'eas': 708,\n",
              " 'ast': 431,\n",
              " 'st ': 1776,\n",
              " 't o': 1805,\n",
              " ' on': 189,\n",
              " 'one': 1493,\n",
              " 'ne ': 1331,\n",
              " 'e i': 666,\n",
              " ' im': 139,\n",
              " 'imm': 1039,\n",
              " 'mmu': 1217,\n",
              " 'mun': 1237,\n",
              " 'uno': 1932,\n",
              " 'nog': 1389,\n",
              " 'oge': 1450,\n",
              " 'gen': 922,\n",
              " 'eni': 770,\n",
              " 'nic': 1362,\n",
              " 'ic ': 979,\n",
              " 'c d': 469,\n",
              " ' de': 86,\n",
              " 'det': 602,\n",
              " 'ete': 837,\n",
              " 'ter': 1833,\n",
              " 'erm': 813,\n",
              " 'rmi': 1648,\n",
              " 'min': 1206,\n",
              " 'ina': 1064,\n",
              " 'nan': 1290,\n",
              " 'ant': 401,\n",
              " 'nts': 1413,\n",
              " 'ts ': 1893,\n",
              " 's o': 1694,\n",
              " ' of': 179,\n",
              " 'of ': 1433,\n",
              " 'f t': 873,\n",
              " ' th': 250,\n",
              " 'the': 1848,\n",
              " 'he ': 951,\n",
              " 'e c': 647,\n",
              " ' cc': 71,\n",
              " 'ccv': 485,\n",
              " 'cv ': 543,\n",
              " 'v s': 1948,\n",
              " ' sp': 242,\n",
              " 'spi': 1764,\n",
              " 'pik': 1567,\n",
              " 'ike': 1031,\n",
              " 'ke ': 1139,\n",
              " 'e p': 679,\n",
              " ' pr': 207,\n",
              " 'pro': 1587,\n",
              " 'rot': 1660,\n",
              " 'ote': 1531,\n",
              " 'tei': 1827,\n",
              " 'ein': 736,\n",
              " 'in,': 1060,\n",
              " 'n, ': 1282,\n",
              " ', s': 295,\n",
              " ' sa': 220,\n",
              " 'sai': 1706,\n",
              " 'aid': 349,\n",
              " 'id ': 992,\n",
              " 'd c': 550,\n",
              " 'in ': 1044,\n",
              " 'n h': 1261,\n",
              " ' an': 38,\n",
              " 'an ': 373,\n",
              " 'n a': 1247,\n",
              " ' am': 34,\n",
              " 'ami': 369,\n",
              " 'ino': 1087,\n",
              " 'no ': 1381,\n",
              " 'o a': 1417,\n",
              " ' ac': 26,\n",
              " 'aci': 341,\n",
              " 'cid': 505,\n",
              " 'd s': 572,\n",
              " ' se': 229,\n",
              " 'seq': 1733,\n",
              " 'equ': 795,\n",
              " 'que': 1603,\n",
              " 'uen': 1912,\n",
              " 'nce': 1302,\n",
              " 'ce ': 491,\n",
              " 'e s': 688,\n",
              " ' sh': 238,\n",
              " 'sho': 1748,\n",
              " 'how': 975,\n",
              " 'own': 1543,\n",
              " 'wn ': 1988,\n",
              " 'n i': 1265,\n",
              " ' in': 143,\n",
              " 'n s': 1273,\n",
              " 'eq ': 791,\n",
              " 'q i': 1599,\n",
              " ' id': 135,\n",
              " 'd n': 564,\n",
              " ' no': 175,\n",
              " 'no.': 1385,\n",
              " 'o. ': 1421,\n",
              " '. 2': 299,\n",
              " ' 2,': 0,\n",
              " '2, ': 303,\n",
              " ', 4': 275,\n",
              " ' 4,': 4,\n",
              " '4, ': 307,\n",
              " ', o': 287,\n",
              " ' or': 193,\n",
              " 'or ': 1513,\n",
              " 'r 6': 1607,\n",
              " ' 6,': 8,\n",
              " '6, ': 311,\n",
              " 'd p': 568,\n",
              " 'e b': 643,\n",
              " ' be': 57,\n",
              " 'bei': 457,\n",
              " 'g c': 902,\n",
              " ' ca': 61,\n",
              " 'cap': 477,\n",
              " 'apa': 405,\n",
              " 'pab': 1547,\n",
              " 'abl': 337,\n",
              " 'ble': 461,\n",
              " 'e o': 675,\n",
              " 'f e': 857,\n",
              " ' el': 108,\n",
              " 'eli': 746,\n",
              " 'lic': 1162,\n",
              " 'ici': 986,\n",
              " 'cit': 509,\n",
              " 'iti': 1125,\n",
              " 'tin': 1876,\n",
              " 'tec': 1823,\n",
              " 'ect': 722,\n",
              " 'cti': 532,\n",
              " 'tiv': 1885,\n",
              " 'ive': 1135,\n",
              " 've ': 1952,\n",
              " 'une': 1924,\n",
              " 'e r': 684,\n",
              " ' re': 216,\n",
              " 'res': 1632,\n",
              " 'esp': 829,\n",
              " 'spo': 1768,\n",
              " 'pon': 1579,\n",
              " 'ons': 1501,\n",
              " 'nse': 1393,\n",
              " 'se ': 1718,\n",
              " ' do': 101,\n",
              " 'dog': 627,\n",
              " 'og ': 1446,\n",
              " ' ag': 30,\n",
              " 'aga': 345,\n",
              " 'gai': 918,\n",
              " 'ain': 361,\n",
              " 'ins': 1091,\n",
              " 'nst': 1397,\n",
              " 't c': 1797,\n",
              " 'v i': 1944,\n",
              " 'inf': 1071,\n",
              " 'nfe': 1338,\n",
              " 'fec': 877,\n",
              " 'tio': 1880,\n",
              " 'ion': 1099,\n",
              " 'on ': 1482,\n",
              " 'n o': 1269,\n",
              " 'r d': 1611,\n",
              " ' di': 93,\n",
              " 'dis': 619,\n",
              " 'ise': 1109,\n",
              " 'sea': 1727,\n",
              " 'ase': 419,\n",
              " 'se.': 1726,\n",
              " ' a d': 13,\n",
              " 'a dn': 316,\n",
              " ' dna': 98,\n",
              " 'dna ': 624,\n",
              " 'na m': 1287,\n",
              " 'a mo': 327,\n",
              " ' mol': 172,\n",
              " 'mole': 1230,\n",
              " 'olec': 1463,\n",
              " 'lecu': 1159,\n",
              " 'ecul': 729,\n",
              " 'cule': 540,\n",
              " 'ule ': 1917,\n",
              " 'le e': 1148,\n",
              " 'e en': 656,\n",
              " ' enc': 113,\n",
              " 'enco': 767,\n",
              " 'ncod': 1311,\n",
              " 'codi': 517,\n",
              " 'odin': 1430,\n",
              " 'ding': 615,\n",
              " 'ing ': 1076,\n",
              " 'ng a': 1343,\n",
              " 'g a ': 889,\n",
              " ' a p': 21,\n",
              " 'a po': 331,\n",
              " ' pol': 204,\n",
              " 'poly': 1576,\n",
              " 'olyp': 1471,\n",
              " 'lype': 1187,\n",
              " 'ypep': 2013,\n",
              " 'pept': 1556,\n",
              " 'epti': 788,\n",
              " 'ptid': 1596,\n",
              " 'tide': 1872,\n",
              " 'ide ': 1009,\n",
              " 'de h': 587,\n",
              " 'e ha': 663,\n",
              " ' hav': 132,\n",
              " 'havi': 948,\n",
              " 'avin': 451,\n",
              " 'ving': 1977,\n",
              " 'g at': 899,\n",
              " ' at ': 54,\n",
              " 'at l': 436,\n",
              " 't le': 1802,\n",
              " ' lea': 157,\n",
              " 'leas': 1155,\n",
              " 'east': 715,\n",
              " 'ast ': 432,\n",
              " 'st o': 1780,\n",
              " 't on': 1809,\n",
              " ' one': 190,\n",
              " 'one ': 1494,\n",
              " 'ne i': 1332,\n",
              " 'e im': 667,\n",
              " ' imm': 140,\n",
              " 'immu': 1040,\n",
              " 'mmun': 1218,\n",
              " 'muno': 1244,\n",
              " 'unog': 1933,\n",
              " 'noge': 1390,\n",
              " 'ogen': 1451,\n",
              " 'geni': 923,\n",
              " 'enic': 771,\n",
              " 'nic ': 1363,\n",
              " 'ic d': 983,\n",
              " 'c de': 470,\n",
              " ' det': 87,\n",
              " 'dete': 603,\n",
              " 'eter': 838,\n",
              " 'term': 1837,\n",
              " 'ermi': 814,\n",
              " 'rmin': 1649,\n",
              " 'mina': 1207,\n",
              " 'inan': 1065,\n",
              " 'nant': 1291,\n",
              " 'ants': 402,\n",
              " 'nts ': 1414,\n",
              " 'ts o': 1894,\n",
              " 's of': 1695,\n",
              " ' of ': 180,\n",
              " 'of t': 1443,\n",
              " 'f th': 874,\n",
              " ' the': 254,\n",
              " 'the ': 1849,\n",
              " 'he c': 952,\n",
              " 'e cc': 648,\n",
              " ' ccv': 72,\n",
              " 'ccv ': 486,\n",
              " 'cv s': 547,\n",
              " 'v sp': 1949,\n",
              " ' spi': 243,\n",
              " 'spik': 1765,\n",
              " 'pike': 1568,\n",
              " 'ike ': 1032,\n",
              " 'ke p': 1140,\n",
              " 'e pr': 680,\n",
              " ' pro': 211,\n",
              " 'prot': 1588,\n",
              " 'rote': 1661,\n",
              " 'otei': 1535,\n",
              " 'tein': 1828,\n",
              " 'ein,': 740,\n",
              " 'in, ': 1061,\n",
              " 'n, s': 1283,\n",
              " ', sa': 296,\n",
              " ' sai': 221,\n",
              " 'said': 1707,\n",
              " 'aid ': 350,\n",
              " 'id c': 993,\n",
              " 'd cc': 554,\n",
              " 'ein ': 737,\n",
              " 'in h': 1051,\n",
              " 'n ha': 1262,\n",
              " 'g an': 896,\n",
              " ' an ': 39,\n",
              " 'an a': 374,\n",
              " 'n am': 1251,\n",
              " ' ami': 35,\n",
              " 'amin': 370,\n",
              " 'mino': 1210,\n",
              " 'ino ': 1088,\n",
              " 'no a': 1382,\n",
              " 'o ac': 1418,\n",
              " ' aci': 27,\n",
              " 'acid': 342,\n",
              " 'cid ': 506,\n",
              " 'id s': 1002,\n",
              " 'd se': 573,\n",
              " ' seq': 230,\n",
              " 'sequ': 1737,\n",
              " 'eque': 796,\n",
              " 'quen': 1604,\n",
              " 'uenc': 1913,\n",
              " 'ence': 763,\n",
              " 'nce ': 1303,\n",
              " 'ce s': 495,\n",
              " 'e sh': 689,\n",
              " ' sho': 239,\n",
              " 'show': 1749,\n",
              " 'hown': 976,\n",
              " 'own ': 1544,\n",
              " 'wn i': 1989,\n",
              " 'n in': 1266,\n",
              " ' in ': 144,\n",
              " 'in s': 1054,\n",
              " 'n se': 1274,\n",
              " 'seq ': 1734,\n",
              " 'eq i': 792,\n",
              " 'q id': 1600,\n",
              " ' id ': 136,\n",
              " 'id n': 996,\n",
              " 'd no': 565,\n",
              " ' no.': 176,\n",
              " 'no. ': 1386,\n",
              " 'o. 2': 1422,\n",
              " '. 2,': 300,\n",
              " ' 2, ': 1,\n",
              " '2, 4': 304,\n",
              " ', 4,': 276,\n",
              " ' 4, ': 5,\n",
              " '4, o': 308,\n",
              " ', or': 288,\n",
              " ' or ': 194,\n",
              " 'or 6': 1514,\n",
              " 'r 6,': 1608,\n",
              " ' 6, ': 9,\n",
              " '6, s': 312,\n",
              " 'id p': 999,\n",
              " 'd po': 569,\n",
              " 'de b': 584,\n",
              " 'e be': 644,\n",
              " ' bei': 58,\n",
              " 'bein': 458,\n",
              " 'eing': 743,\n",
              " 'ng c': 1350,\n",
              " 'g ca': 903,\n",
              " ' cap': 65,\n",
              " 'capa': 478,\n",
              " 'apab': 406,\n",
              " 'pabl': 1548,\n",
              " 'able': 338,\n",
              " 'ble ': 462,\n",
              " 'le o': 1151,\n",
              " 'e of': 676,\n",
              " 'of e': 1434,\n",
              " 'f el': 858,\n",
              " ' eli': 109,\n",
              " 'elic': 747,\n",
              " 'lici': 1163,\n",
              " 'icit': 987,\n",
              " 'citi': 510,\n",
              " 'itin': 1126,\n",
              " 'ting': 1877,\n",
              " 'a pr': 334,\n",
              " 'otec': 1532,\n",
              " 'tect': 1824,\n",
              " 'ecti': 723,\n",
              " 'ctiv': 536,\n",
              " 'tive': 1886,\n",
              " 'ive ': 1136,\n",
              " 've i': 1953,\n",
              " 'mune': 1238,\n",
              " 'une ': 1925,\n",
              " 'ne r': 1335,\n",
              " 'e re': 685,\n",
              " ' res': 217,\n",
              " 'resp': 1633,\n",
              " 'espo': 830,\n",
              " 'spon': 1769,\n",
              " 'pons': 1580,\n",
              " 'onse': 1502,\n",
              " 'nse ': 1394,\n",
              " 'se i': 1719,\n",
              " 'e in': 670,\n",
              " 'in a': 1045,\n",
              " 'n a ': 1248,\n",
              " 'a do': 319,\n",
              " ' dog': 102,\n",
              " 'dog ': 628,\n",
              " 'og a': 1447,\n",
              " 'g ag': 893,\n",
              " ' aga': 31,\n",
              " 'agai': 346,\n",
              " 'gain': 919,\n",
              " 'ains': 362,\n",
              " 'inst': 1092,\n",
              " 'nst ': 1398,\n",
              " 'st c': 1777,\n",
              " 't cc': 1798,\n",
              " 'cv i': 544,\n",
              " 'v in': 1945,\n",
              " ' inf': 153,\n",
              " 'infe': 1072,\n",
              " 'nfec': 1339,\n",
              " 'fect': 878,\n",
              " 'ctio': 533,\n",
              " 'tion': 1881,\n",
              " 'ion ': 1100,\n",
              " 'on o': 1486,\n",
              " 'n or': 1270,\n",
              " 'or d': 1517,\n",
              " 'r di': 1612,\n",
              " ' dis': 94,\n",
              " 'dise': 620,\n",
              " 'isea': 1110,\n",
              " 'seas': 1728,\n",
              " 'ease': 709,\n",
              " 'ase.': 426,\n",
              " ' a dn': 14,\n",
              " 'a dna': 317,\n",
              " ' dna ': 99,\n",
              " 'dna m': 625,\n",
              " 'na mo': 1288,\n",
              " 'a mol': 328,\n",
              " ' mole': 173,\n",
              " 'molec': 1231,\n",
              " 'olecu': 1464,\n",
              " 'lecul': 1160,\n",
              " 'ecule': 730,\n",
              " 'cule ': 541,\n",
              " 'ule e': 1918,\n",
              " 'le en': 1149,\n",
              " 'e enc': 657,\n",
              " ' enco': 114,\n",
              " 'encod': 768,\n",
              " 'ncodi': 1312,\n",
              " 'codin': 518,\n",
              " 'oding': 1431,\n",
              " 'ding ': 616,\n",
              " 'ing a': 1077,\n",
              " 'ng a ': 1344,\n",
              " 'g a p': 890,\n",
              " ' a po': 22,\n",
              " 'a pol': 332,\n",
              " ' poly': 205,\n",
              " 'polyp': 1577,\n",
              " 'olype': 1472,\n",
              " 'lypep': 1188,\n",
              " 'ypept': 2014,\n",
              " 'pepti': 1557,\n",
              " 'eptid': 789,\n",
              " 'ptide': 1597,\n",
              " 'tide ': 1873,\n",
              " 'ide h': 1014,\n",
              " 'de ha': 588,\n",
              " 'e hav': 664,\n",
              " ' havi': 133,\n",
              " 'havin': 949,\n",
              " 'aving': 452,\n",
              " 'ving ': 1978,\n",
              " 'ng at': 1348,\n",
              " 'g at ': 900,\n",
              " ' at l': 55,\n",
              " 'at le': 437,\n",
              " 't lea': 1803,\n",
              " ' leas': 158,\n",
              " 'least': 1156,\n",
              " 'east ': 716,\n",
              " 'ast o': 433,\n",
              " 'st on': 1781,\n",
              " 't one': 1810,\n",
              " ' one ': 191,\n",
              " 'one i': 1495,\n",
              " 'ne im': 1333,\n",
              " 'e imm': 668,\n",
              " ' immu': 141,\n",
              " 'immun': 1041,\n",
              " 'mmuno': 1223,\n",
              " 'munog': 1245,\n",
              " 'unoge': 1934,\n",
              " 'nogen': 1391,\n",
              " 'ogeni': 1452,\n",
              " 'genic': 924,\n",
              " 'enic ': 772,\n",
              " 'nic d': 1364,\n",
              " 'ic de': 984,\n",
              " 'c det': 471,\n",
              " ' dete': 88,\n",
              " 'deter': 604,\n",
              " 'eterm': 841,\n",
              " 'termi': 1838,\n",
              " 'ermin': 815,\n",
              " 'rmina': 1650,\n",
              " 'minan': 1208,\n",
              " 'inant': 1066,\n",
              " 'nants': 1292,\n",
              " 'ants ': 403,\n",
              " 'nts o': 1415,\n",
              " 'ts of': 1895,\n",
              " 's of ': 1696,\n",
              " ' of t': 187,\n",
              " 'of th': 1444,\n",
              " 'f the': 875,\n",
              " ' the ': 255,\n",
              " 'the c': 1850,\n",
              " 'he cc': 953,\n",
              " 'e ccv': 649,\n",
              " ' ccv ': 73,\n",
              " 'ccv s': 489,\n",
              " 'cv sp': 548,\n",
              " 'v spi': 1950,\n",
              " ' spik': 244,\n",
              " 'spike': 1766,\n",
              " 'pike ': 1569,\n",
              " 'ike p': 1033,\n",
              " 'ke pr': 1141,\n",
              " 'e pro': 681,\n",
              " ' prot': 212,\n",
              " 'prote': 1589,\n",
              " 'rotei': 1664,\n",
              " 'otein': 1536,\n",
              " 'tein,': 1831,\n",
              " 'ein, ': 741,\n",
              " 'in, s': 1062,\n",
              " 'n, sa': 1284,\n",
              " ', sai': 297,\n",
              " ' said': 222,\n",
              " 'said ': 1708,\n",
              " 'aid c': 351,\n",
              " 'id cc': 994,\n",
              " 'd ccv': 555,\n",
              " 'tein ': 1829,\n",
              " 'ein h': 738,\n",
              " 'in ha': 1052,\n",
              " 'n hav': 1263,\n",
              " 'ng an': 1346,\n",
              " 'g an ': 897,\n",
              " ' an a': 40,\n",
              " 'an am': 375,\n",
              " 'n ami': 1252,\n",
              " ' amin': 36,\n",
              " 'amino': 371,\n",
              " 'mino ': 1211,\n",
              " 'ino a': 1089,\n",
              " 'no ac': 1383,\n",
              " 'o aci': 1419,\n",
              " ' acid': 28,\n",
              " 'acid ': 343,\n",
              " 'cid s': 507,\n",
              " 'id se': 1003,\n",
              " 'd seq': 574,\n",
              " ' sequ': 233,\n",
              " 'seque': 1738,\n",
              " 'equen': 797,\n",
              " 'quenc': 1605,\n",
              " 'uence': 1914,\n",
              " 'ence ': 764,\n",
              " 'nce s': 1306,\n",
              " 'ce sh': 496,\n",
              " 'e sho': 690,\n",
              " ' show': 240,\n",
              " 'shown': 1750,\n",
              " 'hown ': 977,\n",
              " 'own i': 1545,\n",
              " 'wn in': 1990,\n",
              " 'n in ': 1267,\n",
              " ' in s': 149,\n",
              " 'in se': 1055,\n",
              " 'n seq': 1275,\n",
              " ' seq ': 231,\n",
              " 'seq i': 1735,\n",
              " 'eq id': 793,\n",
              " 'q id ': 1601,\n",
              " ' id n': 137,\n",
              " 'id no': 997,\n",
              " 'd no.': 566,\n",
              " ' no. ': 177,\n",
              " 'no. 2': 1387,\n",
              " 'o. 2,': 1423,\n",
              " '. 2, ': 301,\n",
              " ' 2, 4': 2,\n",
              " '2, 4,': 305,\n",
              " ', 4, ': 277,\n",
              " ' 4, o': 6,\n",
              " '4, or': 309,\n",
              " ', or ': 289,\n",
              " ' or 6': 195,\n",
              " 'or 6,': 1515,\n",
              " 'r 6, ': 1609,\n",
              " ' 6, s': 10,\n",
              " '6, sa': 313,\n",
              " 'aid p': 353,\n",
              " 'id po': 1000,\n",
              " 'd pol': 570,\n",
              " 'ide b': 1012,\n",
              " 'de be': 585,\n",
              " 'e bei': 645,\n",
              " ' bein': 59,\n",
              " 'being': 459,\n",
              " 'eing ': 744,\n",
              " 'ing c': 1081,\n",
              " 'ng ca': 1351,\n",
              " 'g cap': 904,\n",
              " ' capa': 66,\n",
              " 'capab': 479,\n",
              " 'apabl': 407,\n",
              " 'pable': 1549,\n",
              " 'able ': 339,\n",
              " 'ble o': 463,\n",
              " 'le of': 1152,\n",
              " 'e of ': 677,\n",
              " ' of e': 181,\n",
              " 'of el': 1435,\n",
              " 'f eli': 859,\n",
              " ' elic': 110,\n",
              " 'elici': 748,\n",
              " 'licit': 1164,\n",
              " 'iciti': 988,\n",
              " 'citin': 511,\n",
              " 'iting': 1127,\n",
              " 'ting ': 1878,\n",
              " ' a pr': 24,\n",
              " 'a pro': 335,\n",
              " 'rotec': 1662,\n",
              " 'otect': 1533,\n",
              " 'tecti': 1825,\n",
              " 'ectiv': 726,\n",
              " 'ctive': 537,\n",
              " 'tive ': 1887,\n",
              " 'ive i': 1137,\n",
              " 've im': 1954,\n",
              " 'mmune': 1219,\n",
              " 'mune ': 1239,\n",
              " 'une r': 1926,\n",
              " 'ne re': 1336,\n",
              " 'e res': 686,\n",
              " ' resp': 218,\n",
              " 'respo': 1634,\n",
              " 'espon': 831,\n",
              " 'spons': 1770,\n",
              " 'ponse': 1581,\n",
              " 'onse ': 1503,\n",
              " 'nse i': 1395,\n",
              " 'se in': 1720,\n",
              " 'e in ': 671,\n",
              " ' in a': 145,\n",
              " 'in a ': 1046,\n",
              " 'n a d': 1249,\n",
              " ' a do': 16,\n",
              " 'a dog': 320,\n",
              " ' dog ': 103,\n",
              " 'dog a': 629,\n",
              " 'og ag': 1448,\n",
              " 'g aga': 894,\n",
              " ' agai': 32,\n",
              " 'again': 347,\n",
              " 'gains': 920,\n",
              " 'ainst': 363,\n",
              " 'inst ': 1093,\n",
              " 'nst c': 1399,\n",
              " 'st cc': 1778,\n",
              " 't ccv': 1799,\n",
              " 'ccv i': 487,\n",
              " 'cv in': 545,\n",
              " 'v inf': 1946,\n",
              " ' infe': 154,\n",
              " 'infec': 1073,\n",
              " 'nfect': 1340,\n",
              " 'fecti': 879,\n",
              " 'ectio': 724,\n",
              " 'ction': 534,\n",
              " 'tion ': 1882,\n",
              " 'ion o': 1103,\n",
              " 'on or': 1487,\n",
              " 'n or ': 1271,\n",
              " ' or d': 197,\n",
              " 'or di': 1518,\n",
              " 'r dis': 1613,\n",
              " ' dise': 95,\n",
              " 'disea': 621,\n",
              " 'iseas': 1111,\n",
              " 'sease': 1729,\n",
              " 'ease.': 714,\n",
              " ' a dna': 15,\n",
              " 'a dna ': 318,\n",
              " ' dna m': 100,\n",
              " 'dna mo': 626,\n",
              " 'na mol': 1289,\n",
              " 'a mole': 329,\n",
              " ' molec': 174,\n",
              " 'molecu': 1232,\n",
              " 'olecul': 1465,\n",
              " 'lecule': 1161,\n",
              " 'ecule ': 731,\n",
              " 'cule e': 542,\n",
              " 'ule en': 1919,\n",
              " 'le enc': 1150,\n",
              " 'e enco': 658,\n",
              " ' encod': 115,\n",
              " 'encodi': 769,\n",
              " 'ncodin': 1313,\n",
              " 'coding': 519,\n",
              " 'oding ': 1432,\n",
              " 'ding a': 617,\n",
              " 'ing a ': 1078,\n",
              " 'ng a p': 1345,\n",
              " 'g a po': 891,\n",
              " ' a pol': 23,\n",
              " 'a poly': 333,\n",
              " ' polyp': 206,\n",
              " 'polype': 1578,\n",
              " 'olypep': 1473,\n",
              " 'lypept': 1189,\n",
              " 'ypepti': 2015,\n",
              " 'peptid': 1558,\n",
              " 'eptide': 790,\n",
              " 'ptide ': 1598,\n",
              " 'tide h': 1875,\n",
              " 'ide ha': 1015,\n",
              " 'de hav': 589,\n",
              " 'e havi': 665,\n",
              " ' havin': 134,\n",
              " 'having': 950,\n",
              " 'aving ': 453,\n",
              " 'ving a': 1979,\n",
              " 'ing at': 1080,\n",
              " 'ng at ': 1349,\n",
              " 'g at l': 901,\n",
              " ' at le': 56,\n",
              " 'at lea': 438,\n",
              " 't leas': 1804,\n",
              " ' least': 159,\n",
              " 'least ': 1157,\n",
              " 'east o': 717,\n",
              " 'ast on': 434,\n",
              " 'st one': 1782,\n",
              " 't one ': 1811,\n",
              " ' one i': 192,\n",
              " 'one im': 1496,\n",
              " 'ne imm': 1334,\n",
              " 'e immu': 669,\n",
              " ' immun': 142,\n",
              " 'immuno': 1043,\n",
              " 'mmunog': 1224,\n",
              " 'munoge': 1246,\n",
              " 'unogen': 1935,\n",
              " 'nogeni': 1392,\n",
              " 'ogenic': 1453,\n",
              " 'genic ': 925,\n",
              " 'enic d': 773,\n",
              " 'nic de': 1365,\n",
              " 'ic det': 985,\n",
              " 'c dete': 472,\n",
              " ' deter': 89,\n",
              " 'determ': 605,\n",
              " 'etermi': 842,\n",
              " 'termin': 1839,\n",
              " 'ermina': 816,\n",
              " 'rminan': 1651,\n",
              " 'minant': 1209,\n",
              " 'inants': 1067,\n",
              " 'nants ': 1293,\n",
              " 'ants o': 404,\n",
              " 'nts of': 1416,\n",
              " 'ts of ': 1896,\n",
              " 's of t': 1698,\n",
              " ' of th': 188,\n",
              " 'of the': 1445,\n",
              " 'f the ': 876,\n",
              " ' the c': 256,\n",
              " 'the cc': 1851,\n",
              " 'he ccv': 954,\n",
              " 'e ccv ': 650,\n",
              " ' ccv s': 75,\n",
              " 'ccv sp': 490,\n",
              " 'cv spi': 549,\n",
              " 'v spik': 1951,\n",
              " ' spike': 245,\n",
              " 'spike ': 1767,\n",
              " 'pike p': 1570,\n",
              " 'ike pr': 1034,\n",
              " 'ke pro': 1142,\n",
              " 'e prot': 682,\n",
              " ' prote': 213,\n",
              " 'protei': 1591,\n",
              " 'rotein': 1665,\n",
              " 'otein,': 1538,\n",
              " 'tein, ': 1832,\n",
              " 'ein, s': 742,\n",
              " 'in, sa': 1063,\n",
              " 'n, sai': 1285,\n",
              " ', said': 298,\n",
              " ' said ': 223,\n",
              " 'said c': 1709,\n",
              " 'aid cc': 352,\n",
              " 'id ccv': 995,\n",
              " 'd ccv ': 556,\n",
              " 'otein ': 1537,\n",
              " 'tein h': 1830,\n",
              " 'ein ha': 739,\n",
              " 'in hav': 1053,\n",
              " 'n havi': 1264,\n",
              " 'ing an': 1079,\n",
              " 'ng an ': 1347,\n",
              " 'g an a': 898,\n",
              " ' an am': 41,\n",
              " 'an ami': 376,\n",
              " 'n amin': 1253,\n",
              " ' amino': 37,\n",
              " 'amino ': 372,\n",
              " 'mino a': 1212,\n",
              " 'ino ac': 1090,\n",
              " 'no aci': 1384,\n",
              " 'o acid': 1420,\n",
              " ' acid ': 29,\n",
              " 'acid s': 344,\n",
              " 'cid se': 508,\n",
              " 'id seq': 1004,\n",
              " 'd sequ': 575,\n",
              " ' seque': 234,\n",
              " 'sequen': 1739,\n",
              " 'equenc': 798,\n",
              " 'quence': 1606,\n",
              " 'uence ': 1915,\n",
              " 'ence s': 765,\n",
              " 'nce sh': 1307,\n",
              " 'ce sho': 497,\n",
              " 'e show': 691,\n",
              " ' shown': 241,\n",
              " 'shown ': 1751,\n",
              " 'hown i': 978,\n",
              " 'own in': 1546,\n",
              " 'wn in ': 1991,\n",
              " 'n in s': 1268,\n",
              " ' in se': 150,\n",
              " 'in seq': 1056,\n",
              " 'n seq ': 1276,\n",
              " ' seq i': 232,\n",
              " 'seq id': 1736,\n",
              " 'eq id ': 794,\n",
              " 'q id n': 1602,\n",
              " ' id no': 138,\n",
              " 'id no.': 998,\n",
              " 'd no. ': 567,\n",
              " ' no. 2': 178,\n",
              " 'no. 2,': 1388,\n",
              " 'o. 2, ': 1424,\n",
              " '. 2, 4': 302,\n",
              " ' 2, 4,': 3,\n",
              " '2, 4, ': 306,\n",
              " ', 4, o': 278,\n",
              " ' 4, or': 7,\n",
              " '4, or ': 310,\n",
              " ', or 6': 290,\n",
              " ' or 6,': 196,\n",
              " 'or 6, ': 1516,\n",
              " 'r 6, s': 1610,\n",
              " ' 6, sa': 11,\n",
              " '6, sai': 314,\n",
              " 'said p': 1710,\n",
              " 'aid po': 354,\n",
              " 'id pol': 1001,\n",
              " 'd poly': 571,\n",
              " 'tide b': 1874,\n",
              " 'ide be': 1013,\n",
              " 'de bei': 586,\n",
              " 'e bein': 646,\n",
              " ' being': 60,\n",
              " 'being ': 460,\n",
              " 'eing c': 745,\n",
              " 'ing ca': 1082,\n",
              " 'ng cap': 1352,\n",
              " 'g capa': 905,\n",
              " ' capab': 67,\n",
              " 'capabl': 480,\n",
              " 'apable': 408,\n",
              " 'pable ': 1550,\n",
              " 'able o': 340,\n",
              " 'ble of': 464,\n",
              " 'le of ': 1153,\n",
              " 'e of e': 678,\n",
              " ' of el': 182,\n",
              " 'of eli': 1436,\n",
              " 'f elic': 860,\n",
              " ' elici': 111,\n",
              " 'elicit': 749,\n",
              " 'liciti': 1165,\n",
              " 'icitin': 989,\n",
              " 'citing': 512,\n",
              " 'iting ': 1128,\n",
              " 'ting a': 1879,\n",
              " 'g a pr': 892,\n",
              " ' a pro': 25,\n",
              " 'a prot': 336,\n",
              " 'protec': 1590,\n",
              " 'rotect': 1663,\n",
              " 'otecti': 1534,\n",
              " 'tectiv': 1826,\n",
              " 'ective': 727,\n",
              " 'ctive ': 538,\n",
              " 'tive i': 1888,\n",
              " 'ive im': 1138,\n",
              " 've imm': 1955,\n",
              " 'immune': 1042,\n",
              " 'mmune ': 1220,\n",
              " 'mune r': 1240,\n",
              " 'une re': 1927,\n",
              " 'ne res': 1337,\n",
              " 'e resp': 687,\n",
              " ' respo': 219,\n",
              " 'respon': 1635,\n",
              " 'espons': 832,\n",
              " 'sponse': 1771,\n",
              " 'ponse ': 1582,\n",
              " 'onse i': 1504,\n",
              " 'nse in': 1396,\n",
              " 'se in ': 1721,\n",
              " 'e in a': 672,\n",
              " ' in a ': 146,\n",
              " 'in a d': 1047,\n",
              " 'n a do': 1250,\n",
              " ' a dog': 17,\n",
              " 'a dog ': 321,\n",
              " ' dog a': 104,\n",
              " 'dog ag': 630,\n",
              " 'og aga': 1449,\n",
              " 'g agai': 895,\n",
              " ' again': 33,\n",
              " 'agains': 348,\n",
              " 'gainst': 921,\n",
              " 'ainst ': 364,\n",
              " 'inst c': 1094,\n",
              " 'nst cc': 1400,\n",
              " 'st ccv': 1779,\n",
              " 't ccv ': 1800,\n",
              " ' ccv i': 74,\n",
              " 'ccv in': 488,\n",
              " 'cv inf': 546,\n",
              " 'v infe': 1947,\n",
              " ' infec': 155,\n",
              " 'infect': 1074,\n",
              " 'nfecti': 1341,\n",
              " 'fectio': 880,\n",
              " 'ection': 725,\n",
              " 'ction ': 535,\n",
              " 'tion o': 1884,\n",
              " 'ion or': 1104,\n",
              " 'on or ': 1488,\n",
              " ...}"
            ]
          },
          "metadata": {
            "tags": []
          },
          "execution_count": 146
        }
      ]
    },
    {
      "cell_type": "code",
      "metadata": {
        "id": "kChDwrBogxOh",
        "colab_type": "code",
        "outputId": "887f59ce-982e-4527-ba72-59bd7c1f57e0",
        "colab": {
          "base_uri": "https://localhost:8080/",
          "height": 1000
        }
      },
      "source": [
        "vect_char_2.vocabulary_"
      ],
      "execution_count": 0,
      "outputs": [
        {
          "output_type": "execute_result",
          "data": {
            "text/plain": [
              "{' a': 15,\n",
              " 'a ': 342,\n",
              " ' d': 92,\n",
              " 'dn': 679,\n",
              " 'na': 1401,\n",
              " ' m': 176,\n",
              " 'mo': 1335,\n",
              " 'ol': 1588,\n",
              " 'le': 1248,\n",
              " 'ec': 781,\n",
              " 'cu': 590,\n",
              " 'ul': 2093,\n",
              " 'e ': 698,\n",
              " ' e': 115,\n",
              " 'en': 830,\n",
              " 'nc': 1418,\n",
              " 'co': 565,\n",
              " 'od': 1552,\n",
              " 'di': 665,\n",
              " 'in': 1137,\n",
              " 'ng': 1462,\n",
              " 'g ': 967,\n",
              " ' p': 214,\n",
              " 'po': 1717,\n",
              " 'ly': 1291,\n",
              " 'yp': 2199,\n",
              " 'pe': 1694,\n",
              " 'ep': 852,\n",
              " 'pt': 1739,\n",
              " 'ti': 2037,\n",
              " 'id': 1080,\n",
              " 'de': 634,\n",
              " ' h': 137,\n",
              " 'ha': 1019,\n",
              " 'av': 490,\n",
              " 'vi': 2154,\n",
              " 'at': 473,\n",
              " 't ': 1963,\n",
              " ' l': 167,\n",
              " 'ea': 770,\n",
              " 'as': 452,\n",
              " 'st': 1941,\n",
              " ' o': 193,\n",
              " 'on': 1614,\n",
              " 'ne': 1449,\n",
              " ' i': 145,\n",
              " 'im': 1127,\n",
              " 'mm': 1326,\n",
              " 'mu': 1349,\n",
              " 'un': 2098,\n",
              " 'no': 1503,\n",
              " 'og': 1575,\n",
              " 'ge': 1003,\n",
              " 'ni': 1483,\n",
              " 'ic': 1066,\n",
              " 'c ': 508,\n",
              " 'et': 910,\n",
              " 'te': 1991,\n",
              " 'er': 870,\n",
              " 'rm': 1798,\n",
              " 'mi': 1314,\n",
              " 'an': 407,\n",
              " 'nt': 1525,\n",
              " 'ts': 2065,\n",
              " 's ': 1838,\n",
              " 'of': 1561,\n",
              " 'f ': 933,\n",
              " ' t': 268,\n",
              " 'th': 2009,\n",
              " 'he': 1036,\n",
              " ' c': 66,\n",
              " 'cc': 530,\n",
              " 'cv': 595,\n",
              " 'v ': 2124,\n",
              " ' s': 237,\n",
              " 'sp': 1927,\n",
              " 'pi': 1703,\n",
              " 'ik': 1122,\n",
              " 'ke': 1238,\n",
              " 'pr': 1726,\n",
              " 'ro': 1803,\n",
              " 'ot': 1666,\n",
              " 'ei': 801,\n",
              " 'n,': 1396,\n",
              " ', ': 297,\n",
              " 'sa': 1864,\n",
              " 'ai': 380,\n",
              " 'd ': 603,\n",
              " 'n ': 1360,\n",
              " 'am': 402,\n",
              " 'o ': 1542,\n",
              " 'ac': 370,\n",
              " 'ci': 553,\n",
              " 'se': 1877,\n",
              " 'eq': 861,\n",
              " 'qu': 1749,\n",
              " 'ue': 2088,\n",
              " 'ce': 537,\n",
              " 'sh': 1908,\n",
              " 'ho': 1057,\n",
              " 'ow': 1680,\n",
              " 'wn': 2172,\n",
              " 'q ': 1744,\n",
              " ' n': 188,\n",
              " 'o.': 1547,\n",
              " '. ': 322,\n",
              " ' 2': 0,\n",
              " '2,': 327,\n",
              " ' 4': 5,\n",
              " '4,': 332,\n",
              " 'or': 1647,\n",
              " 'r ': 1754,\n",
              " ' 6': 10,\n",
              " '6,': 337,\n",
              " ' b': 61,\n",
              " 'be': 498,\n",
              " 'ca': 517,\n",
              " 'ap': 440,\n",
              " 'pa': 1685,\n",
              " 'ab': 365,\n",
              " 'bl': 503,\n",
              " 'el': 812,\n",
              " 'li': 1264,\n",
              " 'it': 1218,\n",
              " 'ct': 582,\n",
              " 'iv': 1233,\n",
              " 've': 2133,\n",
              " ' r': 232,\n",
              " 're': 1769,\n",
              " 'es': 893,\n",
              " 'ns': 1516,\n",
              " 'do': 684,\n",
              " 'ag': 375,\n",
              " 'ga': 998,\n",
              " 'nf': 1457,\n",
              " 'fe': 954,\n",
              " 'io': 1189,\n",
              " 'is': 1205,\n",
              " 'e.': 769,\n",
              " ' a ': 16,\n",
              " 'a d': 343,\n",
              " ' dn': 104,\n",
              " 'dna': 680,\n",
              " 'na ': 1402,\n",
              " 'a m': 354,\n",
              " ' mo': 181,\n",
              " 'mol': 1340,\n",
              " 'ole': 1593,\n",
              " 'lec': 1260,\n",
              " 'ecu': 792,\n",
              " 'cul': 591,\n",
              " 'ule': 2094,\n",
              " 'le ': 1249,\n",
              " 'e e': 715,\n",
              " ' en': 120,\n",
              " 'enc': 831,\n",
              " 'nco': 1427,\n",
              " 'cod': 566,\n",
              " 'odi': 1557,\n",
              " 'din': 670,\n",
              " 'ing': 1169,\n",
              " 'ng ': 1463,\n",
              " 'g a': 968,\n",
              " 'a p': 358,\n",
              " ' po': 219,\n",
              " 'pol': 1718,\n",
              " 'oly': 1601,\n",
              " 'lyp': 1292,\n",
              " 'ype': 2200,\n",
              " 'pep': 1695,\n",
              " 'ept': 857,\n",
              " 'pti': 1740,\n",
              " 'tid': 2042,\n",
              " 'ide': 1097,\n",
              " 'de ': 635,\n",
              " 'e h': 722,\n",
              " ' ha': 138,\n",
              " 'hav': 1032,\n",
              " 'avi': 491,\n",
              " 'vin': 2159,\n",
              " ' at': 57,\n",
              " 'at ': 474,\n",
              " 't l': 1968,\n",
              " ' le': 168,\n",
              " 'lea': 1256,\n",
              " 'eas': 771,\n",
              " 'ast': 469,\n",
              " 'st ': 1942,\n",
              " 't o': 1972,\n",
              " ' on': 204,\n",
              " 'one': 1626,\n",
              " 'ne ': 1450,\n",
              " 'e i': 726,\n",
              " ' im': 150,\n",
              " 'imm': 1132,\n",
              " 'mmu': 1327,\n",
              " 'mun': 1350,\n",
              " 'uno': 2111,\n",
              " 'nog': 1512,\n",
              " 'oge': 1580,\n",
              " 'gen': 1004,\n",
              " 'eni': 839,\n",
              " 'nic': 1484,\n",
              " 'ic ': 1067,\n",
              " 'c d': 513,\n",
              " ' de': 93,\n",
              " 'det': 657,\n",
              " 'ete': 911,\n",
              " 'ter': 2002,\n",
              " 'erm': 885,\n",
              " 'rmi': 1799,\n",
              " 'min': 1315,\n",
              " 'ina': 1158,\n",
              " 'nan': 1406,\n",
              " 'ant': 436,\n",
              " 'nts': 1538,\n",
              " 'ts ': 2066,\n",
              " 's o': 1850,\n",
              " ' of': 194,\n",
              " 'of ': 1562,\n",
              " 'f t': 950,\n",
              " ' th': 269,\n",
              " 'the': 2018,\n",
              " 'he ': 1037,\n",
              " 'e c': 707,\n",
              " ' cc': 77,\n",
              " 'ccv': 531,\n",
              " 'cv ': 596,\n",
              " 'v s': 2129,\n",
              " ' sp': 260,\n",
              " 'spi': 1928,\n",
              " 'pik': 1708,\n",
              " 'ike': 1123,\n",
              " 'ke ': 1239,\n",
              " 'e p': 739,\n",
              " ' pr': 223,\n",
              " 'pro': 1731,\n",
              " 'rot': 1812,\n",
              " 'ote': 1667,\n",
              " 'tei': 1996,\n",
              " 'ein': 802,\n",
              " 'in,': 1154,\n",
              " 'n, ': 1397,\n",
              " ', s': 318,\n",
              " ' sa': 238,\n",
              " 'sai': 1865,\n",
              " 'aid': 381,\n",
              " 'id ': 1081,\n",
              " 'd c': 604,\n",
              " 'in ': 1138,\n",
              " 'n h': 1375,\n",
              " ' an': 42,\n",
              " 'an ': 408,\n",
              " 'n a': 1361,\n",
              " ' am': 38,\n",
              " 'ami': 403,\n",
              " 'ino': 1181,\n",
              " 'no ': 1504,\n",
              " 'o a': 1543,\n",
              " ' ac': 30,\n",
              " 'aci': 371,\n",
              " 'cid': 554,\n",
              " 'd s': 626,\n",
              " ' se': 247,\n",
              " 'seq': 1893,\n",
              " 'equ': 866,\n",
              " 'que': 1750,\n",
              " 'uen': 2089,\n",
              " 'nce': 1419,\n",
              " 'ce ': 538,\n",
              " 'e s': 748,\n",
              " ' sh': 256,\n",
              " 'sho': 1909,\n",
              " 'how': 1062,\n",
              " 'own': 1681,\n",
              " 'wn ': 2173,\n",
              " 'n i': 1379,\n",
              " ' in': 154,\n",
              " 'n s': 1387,\n",
              " 'eq ': 862,\n",
              " 'q i': 1745,\n",
              " ' id': 146,\n",
              " 'd n': 618,\n",
              " ' no': 189,\n",
              " 'no.': 1508,\n",
              " 'o. ': 1548,\n",
              " '. 2': 323,\n",
              " ' 2,': 1,\n",
              " '2, ': 328,\n",
              " ', 4': 298,\n",
              " ' 4,': 6,\n",
              " '4, ': 333,\n",
              " ', o': 310,\n",
              " ' or': 208,\n",
              " 'or ': 1648,\n",
              " 'r 6': 1755,\n",
              " ' 6,': 11,\n",
              " '6, ': 338,\n",
              " 'd p': 622,\n",
              " 'e b': 703,\n",
              " ' be': 62,\n",
              " 'bei': 499,\n",
              " 'g c': 982,\n",
              " ' ca': 67,\n",
              " 'cap': 522,\n",
              " 'apa': 441,\n",
              " 'pab': 1686,\n",
              " 'abl': 366,\n",
              " 'ble': 504,\n",
              " 'e o': 735,\n",
              " 'f e': 934,\n",
              " ' el': 116,\n",
              " 'eli': 813,\n",
              " 'lic': 1265,\n",
              " 'ici': 1074,\n",
              " 'cit': 558,\n",
              " 'iti': 1223,\n",
              " 'tin': 2047,\n",
              " 'tec': 1992,\n",
              " 'ect': 786,\n",
              " 'cti': 583,\n",
              " 'tiv': 2056,\n",
              " 'ive': 1234,\n",
              " 've ': 2134,\n",
              " 'une': 2103,\n",
              " 'e r': 744,\n",
              " ' re': 233,\n",
              " 'res': 1781,\n",
              " 'esp': 902,\n",
              " 'spo': 1932,\n",
              " 'pon': 1722,\n",
              " 'ons': 1634,\n",
              " 'nse': 1517,\n",
              " 'se ': 1878,\n",
              " ' do': 108,\n",
              " 'dog': 685,\n",
              " 'og ': 1576,\n",
              " ' ag': 34,\n",
              " 'aga': 376,\n",
              " 'gai': 999,\n",
              " 'ain': 393,\n",
              " 'ins': 1185,\n",
              " 'nst': 1521,\n",
              " 't c': 1964,\n",
              " 'v i': 2125,\n",
              " 'inf': 1165,\n",
              " 'nfe': 1458,\n",
              " 'fec': 955,\n",
              " 'tio': 2051,\n",
              " 'ion': 1194,\n",
              " 'on ': 1615,\n",
              " 'n o': 1383,\n",
              " 'r d': 1759,\n",
              " ' di': 100,\n",
              " 'dis': 675,\n",
              " 'ise': 1206,\n",
              " 'sea': 1887,\n",
              " 'ase': 457,\n",
              " 'se.': 1886,\n",
              " ' a d': 17,\n",
              " 'a dn': 344,\n",
              " ' dna': 105,\n",
              " 'dna ': 681,\n",
              " 'na m': 1403,\n",
              " 'a mo': 355,\n",
              " ' mol': 185,\n",
              " 'mole': 1341,\n",
              " 'olec': 1594,\n",
              " 'lecu': 1261,\n",
              " 'ecul': 793,\n",
              " 'cule': 592,\n",
              " 'ule ': 2095,\n",
              " 'le e': 1250,\n",
              " 'e en': 716,\n",
              " ' enc': 121,\n",
              " 'enco': 836,\n",
              " 'ncod': 1428,\n",
              " 'codi': 567,\n",
              " 'odin': 1558,\n",
              " 'ding': 671,\n",
              " 'ing ': 1170,\n",
              " 'ng a': 1464,\n",
              " 'g a ': 969,\n",
              " ' a p': 25,\n",
              " 'a po': 359,\n",
              " ' pol': 220,\n",
              " 'poly': 1719,\n",
              " 'olyp': 1602,\n",
              " 'lype': 1293,\n",
              " 'ypep': 2201,\n",
              " 'pept': 1696,\n",
              " 'epti': 858,\n",
              " 'ptid': 1741,\n",
              " 'tide': 2043,\n",
              " 'ide ': 1098,\n",
              " 'de h': 642,\n",
              " 'e ha': 723,\n",
              " ' hav': 142,\n",
              " 'havi': 1033,\n",
              " 'avin': 492,\n",
              " 'ving': 2160,\n",
              " 'g at': 979,\n",
              " ' at ': 58,\n",
              " 'at l': 475,\n",
              " 't le': 1969,\n",
              " ' lea': 169,\n",
              " 'leas': 1257,\n",
              " 'east': 778,\n",
              " 'ast ': 470,\n",
              " 'st o': 1946,\n",
              " 't on': 1976,\n",
              " ' one': 205,\n",
              " 'one ': 1627,\n",
              " 'ne i': 1451,\n",
              " 'e im': 727,\n",
              " ' imm': 151,\n",
              " 'immu': 1133,\n",
              " 'mmun': 1328,\n",
              " 'muno': 1357,\n",
              " 'unog': 2112,\n",
              " 'noge': 1513,\n",
              " 'ogen': 1581,\n",
              " 'geni': 1005,\n",
              " 'enic': 840,\n",
              " 'nic ': 1485,\n",
              " 'ic d': 1071,\n",
              " 'c de': 514,\n",
              " ' det': 94,\n",
              " 'dete': 658,\n",
              " 'eter': 912,\n",
              " 'term': 2006,\n",
              " 'ermi': 886,\n",
              " 'rmin': 1800,\n",
              " 'mina': 1316,\n",
              " 'inan': 1159,\n",
              " 'nant': 1407,\n",
              " 'ants': 437,\n",
              " 'nts ': 1539,\n",
              " 'ts o': 2067,\n",
              " 's of': 1851,\n",
              " ' of ': 195,\n",
              " 'of t': 1572,\n",
              " 'f th': 951,\n",
              " ' the': 273,\n",
              " 'the ': 2019,\n",
              " 'he c': 1038,\n",
              " 'e cc': 708,\n",
              " ' ccv': 78,\n",
              " 'ccv ': 532,\n",
              " 'cv s': 600,\n",
              " 'v sp': 2130,\n",
              " ' spi': 261,\n",
              " 'spik': 1929,\n",
              " 'pike': 1709,\n",
              " 'ike ': 1124,\n",
              " 'ke p': 1240,\n",
              " 'e pr': 740,\n",
              " ' pro': 227,\n",
              " 'prot': 1732,\n",
              " 'rote': 1813,\n",
              " 'otei': 1671,\n",
              " 'tein': 1997,\n",
              " 'ein,': 806,\n",
              " 'in, ': 1155,\n",
              " 'n, s': 1398,\n",
              " ', sa': 319,\n",
              " ' sai': 239,\n",
              " 'said': 1866,\n",
              " 'aid ': 382,\n",
              " 'id c': 1082,\n",
              " 'd cc': 608,\n",
              " 'ein ': 803,\n",
              " 'in h': 1145,\n",
              " 'n ha': 1376,\n",
              " 'g an': 976,\n",
              " ' an ': 43,\n",
              " 'an a': 409,\n",
              " 'n am': 1365,\n",
              " ' ami': 39,\n",
              " 'amin': 404,\n",
              " 'mino': 1319,\n",
              " 'ino ': 1182,\n",
              " 'no a': 1505,\n",
              " 'o ac': 1544,\n",
              " ' aci': 31,\n",
              " 'acid': 372,\n",
              " 'cid ': 555,\n",
              " 'id s': 1091,\n",
              " 'd se': 627,\n",
              " ' seq': 248,\n",
              " 'sequ': 1897,\n",
              " 'eque': 867,\n",
              " 'quen': 1751,\n",
              " 'uenc': 2090,\n",
              " 'ence': 832,\n",
              " 'nce ': 1420,\n",
              " 'ce s': 542,\n",
              " 'e sh': 749,\n",
              " ' sho': 257,\n",
              " 'show': 1910,\n",
              " 'hown': 1063,\n",
              " 'own ': 1682,\n",
              " 'wn i': 2174,\n",
              " 'n in': 1380,\n",
              " ' in ': 155,\n",
              " 'in s': 1148,\n",
              " 'n se': 1388,\n",
              " 'seq ': 1894,\n",
              " 'eq i': 863,\n",
              " 'q id': 1746,\n",
              " ' id ': 147,\n",
              " 'id n': 1085,\n",
              " 'd no': 619,\n",
              " ' no.': 190,\n",
              " 'no. ': 1509,\n",
              " 'o. 2': 1549,\n",
              " '. 2,': 324,\n",
              " ' 2, ': 2,\n",
              " '2, 4': 329,\n",
              " ', 4,': 299,\n",
              " ' 4, ': 7,\n",
              " '4, o': 334,\n",
              " ', or': 311,\n",
              " ' or ': 209,\n",
              " 'or 6': 1649,\n",
              " 'r 6,': 1756,\n",
              " ' 6, ': 12,\n",
              " '6, s': 339,\n",
              " 'id p': 1088,\n",
              " 'd po': 623,\n",
              " 'de b': 639,\n",
              " 'e be': 704,\n",
              " ' bei': 63,\n",
              " 'bein': 500,\n",
              " 'eing': 809,\n",
              " 'ng c': 1471,\n",
              " 'g ca': 983,\n",
              " ' cap': 71,\n",
              " 'capa': 523,\n",
              " 'apab': 442,\n",
              " 'pabl': 1687,\n",
              " 'able': 367,\n",
              " 'ble ': 505,\n",
              " 'le o': 1253,\n",
              " 'e of': 736,\n",
              " 'of e': 1563,\n",
              " 'f el': 935,\n",
              " ' eli': 117,\n",
              " 'elic': 814,\n",
              " 'lici': 1266,\n",
              " 'icit': 1075,\n",
              " 'citi': 559,\n",
              " 'itin': 1224,\n",
              " 'ting': 2048,\n",
              " 'a pr': 362,\n",
              " 'otec': 1668,\n",
              " 'tect': 1993,\n",
              " 'ecti': 787,\n",
              " 'ctiv': 587,\n",
              " 'tive': 2057,\n",
              " 'ive ': 1235,\n",
              " 've i': 2135,\n",
              " 'mune': 1351,\n",
              " 'une ': 2104,\n",
              " 'ne r': 1454,\n",
              " 'e re': 745,\n",
              " ' res': 234,\n",
              " 'resp': 1782,\n",
              " 'espo': 903,\n",
              " 'spon': 1933,\n",
              " 'pons': 1723,\n",
              " 'onse': 1635,\n",
              " 'nse ': 1518,\n",
              " 'se i': 1879,\n",
              " 'e in': 730,\n",
              " 'in a': 1139,\n",
              " 'n a ': 1362,\n",
              " 'a do': 347,\n",
              " ' dog': 109,\n",
              " 'dog ': 686,\n",
              " 'og a': 1577,\n",
              " 'g ag': 973,\n",
              " ' aga': 35,\n",
              " 'agai': 377,\n",
              " 'gain': 1000,\n",
              " 'ains': 394,\n",
              " 'inst': 1186,\n",
              " 'nst ': 1522,\n",
              " 'st c': 1943,\n",
              " 't cc': 1965,\n",
              " 'cv i': 597,\n",
              " 'v in': 2126,\n",
              " ' inf': 164,\n",
              " 'infe': 1166,\n",
              " 'nfec': 1459,\n",
              " 'fect': 956,\n",
              " 'ctio': 584,\n",
              " 'tion': 2052,\n",
              " 'ion ': 1195,\n",
              " 'on o': 1619,\n",
              " 'n or': 1384,\n",
              " 'or d': 1652,\n",
              " 'r di': 1760,\n",
              " ' dis': 101,\n",
              " 'dise': 676,\n",
              " 'isea': 1207,\n",
              " 'seas': 1888,\n",
              " 'ease': 772,\n",
              " 'ase.': 464,\n",
              " ' a dn': 18,\n",
              " 'a dna': 345,\n",
              " ' dna ': 106,\n",
              " 'dna m': 682,\n",
              " 'na mo': 1404,\n",
              " 'a mol': 356,\n",
              " ' mole': 186,\n",
              " 'molec': 1342,\n",
              " 'olecu': 1595,\n",
              " 'lecul': 1262,\n",
              " 'ecule': 794,\n",
              " 'cule ': 593,\n",
              " 'ule e': 2096,\n",
              " 'le en': 1251,\n",
              " 'e enc': 717,\n",
              " ' enco': 122,\n",
              " 'encod': 837,\n",
              " 'ncodi': 1429,\n",
              " 'codin': 568,\n",
              " 'oding': 1559,\n",
              " 'ding ': 672,\n",
              " 'ing a': 1171,\n",
              " 'ng a ': 1465,\n",
              " 'g a p': 970,\n",
              " ' a po': 26,\n",
              " 'a pol': 360,\n",
              " ' poly': 221,\n",
              " 'polyp': 1720,\n",
              " 'olype': 1603,\n",
              " 'lypep': 1294,\n",
              " 'ypept': 2202,\n",
              " 'pepti': 1697,\n",
              " 'eptid': 859,\n",
              " 'ptide': 1742,\n",
              " 'tide ': 2044,\n",
              " 'ide h': 1103,\n",
              " 'de ha': 643,\n",
              " 'e hav': 724,\n",
              " ' havi': 143,\n",
              " 'havin': 1034,\n",
              " 'aving': 493,\n",
              " 'ving ': 2161,\n",
              " 'ng at': 1469,\n",
              " 'g at ': 980,\n",
              " ' at l': 59,\n",
              " 'at le': 476,\n",
              " 't lea': 1970,\n",
              " ' leas': 170,\n",
              " 'least': 1258,\n",
              " 'east ': 779,\n",
              " 'ast o': 471,\n",
              " 'st on': 1947,\n",
              " 't one': 1977,\n",
              " ' one ': 206,\n",
              " 'one i': 1628,\n",
              " 'ne im': 1452,\n",
              " 'e imm': 728,\n",
              " ' immu': 152,\n",
              " 'immun': 1134,\n",
              " 'mmuno': 1333,\n",
              " 'munog': 1358,\n",
              " 'unoge': 2113,\n",
              " 'nogen': 1514,\n",
              " 'ogeni': 1582,\n",
              " 'genic': 1006,\n",
              " 'enic ': 841,\n",
              " 'nic d': 1486,\n",
              " 'ic de': 1072,\n",
              " 'c det': 515,\n",
              " ' dete': 95,\n",
              " 'deter': 659,\n",
              " 'eterm': 915,\n",
              " 'termi': 2007,\n",
              " 'ermin': 887,\n",
              " 'rmina': 1801,\n",
              " 'minan': 1317,\n",
              " 'inant': 1160,\n",
              " 'nants': 1408,\n",
              " 'ants ': 438,\n",
              " 'nts o': 1540,\n",
              " 'ts of': 2068,\n",
              " 's of ': 1852,\n",
              " ' of t': 202,\n",
              " 'of th': 1573,\n",
              " 'f the': 952,\n",
              " ' the ': 274,\n",
              " 'the c': 2020,\n",
              " 'he cc': 1039,\n",
              " 'e ccv': 709,\n",
              " ' ccv ': 79,\n",
              " 'ccv s': 535,\n",
              " 'cv sp': 601,\n",
              " 'v spi': 2131,\n",
              " ' spik': 262,\n",
              " 'spike': 1930,\n",
              " 'pike ': 1710,\n",
              " 'ike p': 1125,\n",
              " 'ke pr': 1241,\n",
              " 'e pro': 741,\n",
              " ' prot': 228,\n",
              " 'prote': 1733,\n",
              " 'rotei': 1816,\n",
              " 'otein': 1672,\n",
              " 'tein,': 2000,\n",
              " 'ein, ': 807,\n",
              " 'in, s': 1156,\n",
              " 'n, sa': 1399,\n",
              " ', sai': 320,\n",
              " ' said': 240,\n",
              " 'said ': 1867,\n",
              " 'aid c': 383,\n",
              " 'id cc': 1083,\n",
              " 'd ccv': 609,\n",
              " 'tein ': 1998,\n",
              " 'ein h': 804,\n",
              " 'in ha': 1146,\n",
              " 'n hav': 1377,\n",
              " 'ng an': 1467,\n",
              " 'g an ': 977,\n",
              " ' an a': 44,\n",
              " 'an am': 410,\n",
              " 'n ami': 1366,\n",
              " ' amin': 40,\n",
              " 'amino': 405,\n",
              " 'mino ': 1320,\n",
              " 'ino a': 1183,\n",
              " 'no ac': 1506,\n",
              " 'o aci': 1545,\n",
              " ' acid': 32,\n",
              " 'acid ': 373,\n",
              " 'cid s': 556,\n",
              " 'id se': 1092,\n",
              " 'd seq': 628,\n",
              " ' sequ': 251,\n",
              " 'seque': 1898,\n",
              " 'equen': 868,\n",
              " 'quenc': 1752,\n",
              " 'uence': 2091,\n",
              " 'ence ': 833,\n",
              " 'nce s': 1423,\n",
              " 'ce sh': 543,\n",
              " 'e sho': 750,\n",
              " ' show': 258,\n",
              " 'shown': 1911,\n",
              " 'hown ': 1064,\n",
              " 'own i': 1683,\n",
              " 'wn in': 2175,\n",
              " 'n in ': 1381,\n",
              " ' in s': 160,\n",
              " 'in se': 1149,\n",
              " 'n seq': 1389,\n",
              " ' seq ': 249,\n",
              " 'seq i': 1895,\n",
              " 'eq id': 864,\n",
              " 'q id ': 1747,\n",
              " ' id n': 148,\n",
              " 'id no': 1086,\n",
              " 'd no.': 620,\n",
              " ' no. ': 191,\n",
              " 'no. 2': 1510,\n",
              " 'o. 2,': 1550,\n",
              " '. 2, ': 325,\n",
              " ' 2, 4': 3,\n",
              " '2, 4,': 330,\n",
              " ', 4, ': 300,\n",
              " ' 4, o': 8,\n",
              " '4, or': 335,\n",
              " ', or ': 312,\n",
              " ' or 6': 210,\n",
              " 'or 6,': 1650,\n",
              " 'r 6, ': 1757,\n",
              " ' 6, s': 13,\n",
              " '6, sa': 340,\n",
              " 'aid p': 385,\n",
              " 'id po': 1089,\n",
              " 'd pol': 624,\n",
              " 'ide b': 1101,\n",
              " 'de be': 640,\n",
              " 'e bei': 705,\n",
              " ' bein': 64,\n",
              " 'being': 501,\n",
              " 'eing ': 810,\n",
              " 'ing c': 1175,\n",
              " 'ng ca': 1472,\n",
              " 'g cap': 984,\n",
              " ' capa': 72,\n",
              " 'capab': 524,\n",
              " 'apabl': 443,\n",
              " 'pable': 1688,\n",
              " 'able ': 368,\n",
              " 'ble o': 506,\n",
              " 'le of': 1254,\n",
              " 'e of ': 737,\n",
              " ' of e': 196,\n",
              " 'of el': 1564,\n",
              " 'f eli': 936,\n",
              " ' elic': 118,\n",
              " 'elici': 815,\n",
              " 'licit': 1267,\n",
              " 'iciti': 1076,\n",
              " 'citin': 560,\n",
              " 'iting': 1225,\n",
              " 'ting ': 2049,\n",
              " ' a pr': 28,\n",
              " 'a pro': 363,\n",
              " 'rotec': 1814,\n",
              " 'otect': 1669,\n",
              " 'tecti': 1994,\n",
              " 'ectiv': 790,\n",
              " 'ctive': 588,\n",
              " 'tive ': 2058,\n",
              " 'ive i': 1236,\n",
              " 've im': 2136,\n",
              " 'mmune': 1329,\n",
              " 'mune ': 1352,\n",
              " 'une r': 2105,\n",
              " 'ne re': 1455,\n",
              " 'e res': 746,\n",
              " ' resp': 235,\n",
              " 'respo': 1783,\n",
              " 'espon': 904,\n",
              " 'spons': 1934,\n",
              " 'ponse': 1724,\n",
              " 'onse ': 1636,\n",
              " 'nse i': 1519,\n",
              " 'se in': 1880,\n",
              " 'e in ': 731,\n",
              " ' in a': 156,\n",
              " 'in a ': 1140,\n",
              " 'n a d': 1363,\n",
              " ' a do': 20,\n",
              " 'a dog': 348,\n",
              " ' dog ': 110,\n",
              " 'dog a': 687,\n",
              " 'og ag': 1578,\n",
              " 'g aga': 974,\n",
              " ' agai': 36,\n",
              " 'again': 378,\n",
              " 'gains': 1001,\n",
              " 'ainst': 395,\n",
              " 'inst ': 1187,\n",
              " 'nst c': 1523,\n",
              " 'st cc': 1944,\n",
              " 't ccv': 1966,\n",
              " 'ccv i': 533,\n",
              " 'cv in': 598,\n",
              " 'v inf': 2127,\n",
              " ' infe': 165,\n",
              " 'infec': 1167,\n",
              " 'nfect': 1460,\n",
              " 'fecti': 957,\n",
              " 'ectio': 788,\n",
              " 'ction': 585,\n",
              " 'tion ': 2053,\n",
              " 'ion o': 1198,\n",
              " 'on or': 1620,\n",
              " 'n or ': 1385,\n",
              " ' or d': 212,\n",
              " 'or di': 1653,\n",
              " 'r dis': 1761,\n",
              " ' dise': 102,\n",
              " 'disea': 677,\n",
              " 'iseas': 1208,\n",
              " 'sease': 1889,\n",
              " 'ease.': 777,\n",
              " ' a dna': 19,\n",
              " 'a dna ': 346,\n",
              " ' dna m': 107,\n",
              " 'dna mo': 683,\n",
              " 'na mol': 1405,\n",
              " 'a mole': 357,\n",
              " ' molec': 187,\n",
              " 'molecu': 1343,\n",
              " 'olecul': 1596,\n",
              " 'lecule': 1263,\n",
              " 'ecule ': 795,\n",
              " 'cule e': 594,\n",
              " 'ule en': 2097,\n",
              " 'le enc': 1252,\n",
              " 'e enco': 718,\n",
              " ' encod': 123,\n",
              " 'encodi': 838,\n",
              " 'ncodin': 1430,\n",
              " 'coding': 569,\n",
              " 'oding ': 1560,\n",
              " 'ding a': 673,\n",
              " 'ing a ': 1172,\n",
              " 'ng a p': 1466,\n",
              " 'g a po': 971,\n",
              " ' a pol': 27,\n",
              " 'a poly': 361,\n",
              " ' polyp': 222,\n",
              " 'polype': 1721,\n",
              " 'olypep': 1604,\n",
              " 'lypept': 1295,\n",
              " 'ypepti': 2203,\n",
              " 'peptid': 1698,\n",
              " 'eptide': 860,\n",
              " 'ptide ': 1743,\n",
              " 'tide h': 2046,\n",
              " 'ide ha': 1104,\n",
              " 'de hav': 644,\n",
              " 'e havi': 725,\n",
              " ' havin': 144,\n",
              " 'having': 1035,\n",
              " 'aving ': 494,\n",
              " 'ving a': 2162,\n",
              " 'ing at': 1174,\n",
              " 'ng at ': 1470,\n",
              " 'g at l': 981,\n",
              " ' at le': 60,\n",
              " 'at lea': 477,\n",
              " 't leas': 1971,\n",
              " ' least': 171,\n",
              " 'least ': 1259,\n",
              " 'east o': 780,\n",
              " 'ast on': 472,\n",
              " 'st one': 1948,\n",
              " 't one ': 1978,\n",
              " ' one i': 207,\n",
              " 'one im': 1629,\n",
              " 'ne imm': 1453,\n",
              " 'e immu': 729,\n",
              " ' immun': 153,\n",
              " 'immuno': 1136,\n",
              " 'mmunog': 1334,\n",
              " 'munoge': 1359,\n",
              " 'unogen': 2114,\n",
              " 'nogeni': 1515,\n",
              " 'ogenic': 1583,\n",
              " 'genic ': 1007,\n",
              " 'enic d': 842,\n",
              " 'nic de': 1487,\n",
              " 'ic det': 1073,\n",
              " 'c dete': 516,\n",
              " ' deter': 96,\n",
              " 'determ': 660,\n",
              " 'etermi': 916,\n",
              " 'termin': 2008,\n",
              " 'ermina': 888,\n",
              " 'rminan': 1802,\n",
              " 'minant': 1318,\n",
              " 'inants': 1161,\n",
              " 'nants ': 1409,\n",
              " 'ants o': 439,\n",
              " 'nts of': 1541,\n",
              " 'ts of ': 2069,\n",
              " 's of t': 1854,\n",
              " ' of th': 203,\n",
              " 'of the': 1574,\n",
              " 'f the ': 953,\n",
              " ' the c': 275,\n",
              " 'the cc': 2021,\n",
              " 'he ccv': 1040,\n",
              " 'e ccv ': 710,\n",
              " ' ccv s': 81,\n",
              " 'ccv sp': 536,\n",
              " 'cv spi': 602,\n",
              " 'v spik': 2132,\n",
              " ' spike': 263,\n",
              " 'spike ': 1931,\n",
              " 'pike p': 1711,\n",
              " 'ike pr': 1126,\n",
              " 'ke pro': 1242,\n",
              " 'e prot': 742,\n",
              " ' prote': 229,\n",
              " 'protei': 1735,\n",
              " 'rotein': 1817,\n",
              " 'otein,': 1674,\n",
              " 'tein, ': 2001,\n",
              " 'ein, s': 808,\n",
              " 'in, sa': 1157,\n",
              " 'n, sai': 1400,\n",
              " ', said': 321,\n",
              " ' said ': 241,\n",
              " 'said c': 1868,\n",
              " 'aid cc': 384,\n",
              " 'id ccv': 1084,\n",
              " 'd ccv ': 610,\n",
              " 'otein ': 1673,\n",
              " 'tein h': 1999,\n",
              " 'ein ha': 805,\n",
              " 'in hav': 1147,\n",
              " 'n havi': 1378,\n",
              " 'ing an': 1173,\n",
              " 'ng an ': 1468,\n",
              " 'g an a': 978,\n",
              " ' an am': 45,\n",
              " 'an ami': 411,\n",
              " 'n amin': 1367,\n",
              " ' amino': 41,\n",
              " ...}"
            ]
          },
          "metadata": {
            "tags": []
          },
          "execution_count": 87
        },
        {
          "output_type": "execute_result",
          "data": {
            "text/plain": [
              "{' a': 15,\n",
              " 'a ': 342,\n",
              " ' d': 92,\n",
              " 'dn': 679,\n",
              " 'na': 1401,\n",
              " ' m': 176,\n",
              " 'mo': 1335,\n",
              " 'ol': 1588,\n",
              " 'le': 1248,\n",
              " 'ec': 781,\n",
              " 'cu': 590,\n",
              " 'ul': 2093,\n",
              " 'e ': 698,\n",
              " ' e': 115,\n",
              " 'en': 830,\n",
              " 'nc': 1418,\n",
              " 'co': 565,\n",
              " 'od': 1552,\n",
              " 'di': 665,\n",
              " 'in': 1137,\n",
              " 'ng': 1462,\n",
              " 'g ': 967,\n",
              " ' p': 214,\n",
              " 'po': 1717,\n",
              " 'ly': 1291,\n",
              " 'yp': 2199,\n",
              " 'pe': 1694,\n",
              " 'ep': 852,\n",
              " 'pt': 1739,\n",
              " 'ti': 2037,\n",
              " 'id': 1080,\n",
              " 'de': 634,\n",
              " ' h': 137,\n",
              " 'ha': 1019,\n",
              " 'av': 490,\n",
              " 'vi': 2154,\n",
              " 'at': 473,\n",
              " 't ': 1963,\n",
              " ' l': 167,\n",
              " 'ea': 770,\n",
              " 'as': 452,\n",
              " 'st': 1941,\n",
              " ' o': 193,\n",
              " 'on': 1614,\n",
              " 'ne': 1449,\n",
              " ' i': 145,\n",
              " 'im': 1127,\n",
              " 'mm': 1326,\n",
              " 'mu': 1349,\n",
              " 'un': 2098,\n",
              " 'no': 1503,\n",
              " 'og': 1575,\n",
              " 'ge': 1003,\n",
              " 'ni': 1483,\n",
              " 'ic': 1066,\n",
              " 'c ': 508,\n",
              " 'et': 910,\n",
              " 'te': 1991,\n",
              " 'er': 870,\n",
              " 'rm': 1798,\n",
              " 'mi': 1314,\n",
              " 'an': 407,\n",
              " 'nt': 1525,\n",
              " 'ts': 2065,\n",
              " 's ': 1838,\n",
              " 'of': 1561,\n",
              " 'f ': 933,\n",
              " ' t': 268,\n",
              " 'th': 2009,\n",
              " 'he': 1036,\n",
              " ' c': 66,\n",
              " 'cc': 530,\n",
              " 'cv': 595,\n",
              " 'v ': 2124,\n",
              " ' s': 237,\n",
              " 'sp': 1927,\n",
              " 'pi': 1703,\n",
              " 'ik': 1122,\n",
              " 'ke': 1238,\n",
              " 'pr': 1726,\n",
              " 'ro': 1803,\n",
              " 'ot': 1666,\n",
              " 'ei': 801,\n",
              " 'n,': 1396,\n",
              " ', ': 297,\n",
              " 'sa': 1864,\n",
              " 'ai': 380,\n",
              " 'd ': 603,\n",
              " 'n ': 1360,\n",
              " 'am': 402,\n",
              " 'o ': 1542,\n",
              " 'ac': 370,\n",
              " 'ci': 553,\n",
              " 'se': 1877,\n",
              " 'eq': 861,\n",
              " 'qu': 1749,\n",
              " 'ue': 2088,\n",
              " 'ce': 537,\n",
              " 'sh': 1908,\n",
              " 'ho': 1057,\n",
              " 'ow': 1680,\n",
              " 'wn': 2172,\n",
              " 'q ': 1744,\n",
              " ' n': 188,\n",
              " 'o.': 1547,\n",
              " '. ': 322,\n",
              " ' 2': 0,\n",
              " '2,': 327,\n",
              " ' 4': 5,\n",
              " '4,': 332,\n",
              " 'or': 1647,\n",
              " 'r ': 1754,\n",
              " ' 6': 10,\n",
              " '6,': 337,\n",
              " ' b': 61,\n",
              " 'be': 498,\n",
              " 'ca': 517,\n",
              " 'ap': 440,\n",
              " 'pa': 1685,\n",
              " 'ab': 365,\n",
              " 'bl': 503,\n",
              " 'el': 812,\n",
              " 'li': 1264,\n",
              " 'it': 1218,\n",
              " 'ct': 582,\n",
              " 'iv': 1233,\n",
              " 've': 2133,\n",
              " ' r': 232,\n",
              " 're': 1769,\n",
              " 'es': 893,\n",
              " 'ns': 1516,\n",
              " 'do': 684,\n",
              " 'ag': 375,\n",
              " 'ga': 998,\n",
              " 'nf': 1457,\n",
              " 'fe': 954,\n",
              " 'io': 1189,\n",
              " 'is': 1205,\n",
              " 'e.': 769,\n",
              " ' a ': 16,\n",
              " 'a d': 343,\n",
              " ' dn': 104,\n",
              " 'dna': 680,\n",
              " 'na ': 1402,\n",
              " 'a m': 354,\n",
              " ' mo': 181,\n",
              " 'mol': 1340,\n",
              " 'ole': 1593,\n",
              " 'lec': 1260,\n",
              " 'ecu': 792,\n",
              " 'cul': 591,\n",
              " 'ule': 2094,\n",
              " 'le ': 1249,\n",
              " 'e e': 715,\n",
              " ' en': 120,\n",
              " 'enc': 831,\n",
              " 'nco': 1427,\n",
              " 'cod': 566,\n",
              " 'odi': 1557,\n",
              " 'din': 670,\n",
              " 'ing': 1169,\n",
              " 'ng ': 1463,\n",
              " 'g a': 968,\n",
              " 'a p': 358,\n",
              " ' po': 219,\n",
              " 'pol': 1718,\n",
              " 'oly': 1601,\n",
              " 'lyp': 1292,\n",
              " 'ype': 2200,\n",
              " 'pep': 1695,\n",
              " 'ept': 857,\n",
              " 'pti': 1740,\n",
              " 'tid': 2042,\n",
              " 'ide': 1097,\n",
              " 'de ': 635,\n",
              " 'e h': 722,\n",
              " ' ha': 138,\n",
              " 'hav': 1032,\n",
              " 'avi': 491,\n",
              " 'vin': 2159,\n",
              " ' at': 57,\n",
              " 'at ': 474,\n",
              " 't l': 1968,\n",
              " ' le': 168,\n",
              " 'lea': 1256,\n",
              " 'eas': 771,\n",
              " 'ast': 469,\n",
              " 'st ': 1942,\n",
              " 't o': 1972,\n",
              " ' on': 204,\n",
              " 'one': 1626,\n",
              " 'ne ': 1450,\n",
              " 'e i': 726,\n",
              " ' im': 150,\n",
              " 'imm': 1132,\n",
              " 'mmu': 1327,\n",
              " 'mun': 1350,\n",
              " 'uno': 2111,\n",
              " 'nog': 1512,\n",
              " 'oge': 1580,\n",
              " 'gen': 1004,\n",
              " 'eni': 839,\n",
              " 'nic': 1484,\n",
              " 'ic ': 1067,\n",
              " 'c d': 513,\n",
              " ' de': 93,\n",
              " 'det': 657,\n",
              " 'ete': 911,\n",
              " 'ter': 2002,\n",
              " 'erm': 885,\n",
              " 'rmi': 1799,\n",
              " 'min': 1315,\n",
              " 'ina': 1158,\n",
              " 'nan': 1406,\n",
              " 'ant': 436,\n",
              " 'nts': 1538,\n",
              " 'ts ': 2066,\n",
              " 's o': 1850,\n",
              " ' of': 194,\n",
              " 'of ': 1562,\n",
              " 'f t': 950,\n",
              " ' th': 269,\n",
              " 'the': 2018,\n",
              " 'he ': 1037,\n",
              " 'e c': 707,\n",
              " ' cc': 77,\n",
              " 'ccv': 531,\n",
              " 'cv ': 596,\n",
              " 'v s': 2129,\n",
              " ' sp': 260,\n",
              " 'spi': 1928,\n",
              " 'pik': 1708,\n",
              " 'ike': 1123,\n",
              " 'ke ': 1239,\n",
              " 'e p': 739,\n",
              " ' pr': 223,\n",
              " 'pro': 1731,\n",
              " 'rot': 1812,\n",
              " 'ote': 1667,\n",
              " 'tei': 1996,\n",
              " 'ein': 802,\n",
              " 'in,': 1154,\n",
              " 'n, ': 1397,\n",
              " ', s': 318,\n",
              " ' sa': 238,\n",
              " 'sai': 1865,\n",
              " 'aid': 381,\n",
              " 'id ': 1081,\n",
              " 'd c': 604,\n",
              " 'in ': 1138,\n",
              " 'n h': 1375,\n",
              " ' an': 42,\n",
              " 'an ': 408,\n",
              " 'n a': 1361,\n",
              " ' am': 38,\n",
              " 'ami': 403,\n",
              " 'ino': 1181,\n",
              " 'no ': 1504,\n",
              " 'o a': 1543,\n",
              " ' ac': 30,\n",
              " 'aci': 371,\n",
              " 'cid': 554,\n",
              " 'd s': 626,\n",
              " ' se': 247,\n",
              " 'seq': 1893,\n",
              " 'equ': 866,\n",
              " 'que': 1750,\n",
              " 'uen': 2089,\n",
              " 'nce': 1419,\n",
              " 'ce ': 538,\n",
              " 'e s': 748,\n",
              " ' sh': 256,\n",
              " 'sho': 1909,\n",
              " 'how': 1062,\n",
              " 'own': 1681,\n",
              " 'wn ': 2173,\n",
              " 'n i': 1379,\n",
              " ' in': 154,\n",
              " 'n s': 1387,\n",
              " 'eq ': 862,\n",
              " 'q i': 1745,\n",
              " ' id': 146,\n",
              " 'd n': 618,\n",
              " ' no': 189,\n",
              " 'no.': 1508,\n",
              " 'o. ': 1548,\n",
              " '. 2': 323,\n",
              " ' 2,': 1,\n",
              " '2, ': 328,\n",
              " ', 4': 298,\n",
              " ' 4,': 6,\n",
              " '4, ': 333,\n",
              " ', o': 310,\n",
              " ' or': 208,\n",
              " 'or ': 1648,\n",
              " 'r 6': 1755,\n",
              " ' 6,': 11,\n",
              " '6, ': 338,\n",
              " 'd p': 622,\n",
              " 'e b': 703,\n",
              " ' be': 62,\n",
              " 'bei': 499,\n",
              " 'g c': 982,\n",
              " ' ca': 67,\n",
              " 'cap': 522,\n",
              " 'apa': 441,\n",
              " 'pab': 1686,\n",
              " 'abl': 366,\n",
              " 'ble': 504,\n",
              " 'e o': 735,\n",
              " 'f e': 934,\n",
              " ' el': 116,\n",
              " 'eli': 813,\n",
              " 'lic': 1265,\n",
              " 'ici': 1074,\n",
              " 'cit': 558,\n",
              " 'iti': 1223,\n",
              " 'tin': 2047,\n",
              " 'tec': 1992,\n",
              " 'ect': 786,\n",
              " 'cti': 583,\n",
              " 'tiv': 2056,\n",
              " 'ive': 1234,\n",
              " 've ': 2134,\n",
              " 'une': 2103,\n",
              " 'e r': 744,\n",
              " ' re': 233,\n",
              " 'res': 1781,\n",
              " 'esp': 902,\n",
              " 'spo': 1932,\n",
              " 'pon': 1722,\n",
              " 'ons': 1634,\n",
              " 'nse': 1517,\n",
              " 'se ': 1878,\n",
              " ' do': 108,\n",
              " 'dog': 685,\n",
              " 'og ': 1576,\n",
              " ' ag': 34,\n",
              " 'aga': 376,\n",
              " 'gai': 999,\n",
              " 'ain': 393,\n",
              " 'ins': 1185,\n",
              " 'nst': 1521,\n",
              " 't c': 1964,\n",
              " 'v i': 2125,\n",
              " 'inf': 1165,\n",
              " 'nfe': 1458,\n",
              " 'fec': 955,\n",
              " 'tio': 2051,\n",
              " 'ion': 1194,\n",
              " 'on ': 1615,\n",
              " 'n o': 1383,\n",
              " 'r d': 1759,\n",
              " ' di': 100,\n",
              " 'dis': 675,\n",
              " 'ise': 1206,\n",
              " 'sea': 1887,\n",
              " 'ase': 457,\n",
              " 'se.': 1886,\n",
              " ' a d': 17,\n",
              " 'a dn': 344,\n",
              " ' dna': 105,\n",
              " 'dna ': 681,\n",
              " 'na m': 1403,\n",
              " 'a mo': 355,\n",
              " ' mol': 185,\n",
              " 'mole': 1341,\n",
              " 'olec': 1594,\n",
              " 'lecu': 1261,\n",
              " 'ecul': 793,\n",
              " 'cule': 592,\n",
              " 'ule ': 2095,\n",
              " 'le e': 1250,\n",
              " 'e en': 716,\n",
              " ' enc': 121,\n",
              " 'enco': 836,\n",
              " 'ncod': 1428,\n",
              " 'codi': 567,\n",
              " 'odin': 1558,\n",
              " 'ding': 671,\n",
              " 'ing ': 1170,\n",
              " 'ng a': 1464,\n",
              " 'g a ': 969,\n",
              " ' a p': 25,\n",
              " 'a po': 359,\n",
              " ' pol': 220,\n",
              " 'poly': 1719,\n",
              " 'olyp': 1602,\n",
              " 'lype': 1293,\n",
              " 'ypep': 2201,\n",
              " 'pept': 1696,\n",
              " 'epti': 858,\n",
              " 'ptid': 1741,\n",
              " 'tide': 2043,\n",
              " 'ide ': 1098,\n",
              " 'de h': 642,\n",
              " 'e ha': 723,\n",
              " ' hav': 142,\n",
              " 'havi': 1033,\n",
              " 'avin': 492,\n",
              " 'ving': 2160,\n",
              " 'g at': 979,\n",
              " ' at ': 58,\n",
              " 'at l': 475,\n",
              " 't le': 1969,\n",
              " ' lea': 169,\n",
              " 'leas': 1257,\n",
              " 'east': 778,\n",
              " 'ast ': 470,\n",
              " 'st o': 1946,\n",
              " 't on': 1976,\n",
              " ' one': 205,\n",
              " 'one ': 1627,\n",
              " 'ne i': 1451,\n",
              " 'e im': 727,\n",
              " ' imm': 151,\n",
              " 'immu': 1133,\n",
              " 'mmun': 1328,\n",
              " 'muno': 1357,\n",
              " 'unog': 2112,\n",
              " 'noge': 1513,\n",
              " 'ogen': 1581,\n",
              " 'geni': 1005,\n",
              " 'enic': 840,\n",
              " 'nic ': 1485,\n",
              " 'ic d': 1071,\n",
              " 'c de': 514,\n",
              " ' det': 94,\n",
              " 'dete': 658,\n",
              " 'eter': 912,\n",
              " 'term': 2006,\n",
              " 'ermi': 886,\n",
              " 'rmin': 1800,\n",
              " 'mina': 1316,\n",
              " 'inan': 1159,\n",
              " 'nant': 1407,\n",
              " 'ants': 437,\n",
              " 'nts ': 1539,\n",
              " 'ts o': 2067,\n",
              " 's of': 1851,\n",
              " ' of ': 195,\n",
              " 'of t': 1572,\n",
              " 'f th': 951,\n",
              " ' the': 273,\n",
              " 'the ': 2019,\n",
              " 'he c': 1038,\n",
              " 'e cc': 708,\n",
              " ' ccv': 78,\n",
              " 'ccv ': 532,\n",
              " 'cv s': 600,\n",
              " 'v sp': 2130,\n",
              " ' spi': 261,\n",
              " 'spik': 1929,\n",
              " 'pike': 1709,\n",
              " 'ike ': 1124,\n",
              " 'ke p': 1240,\n",
              " 'e pr': 740,\n",
              " ' pro': 227,\n",
              " 'prot': 1732,\n",
              " 'rote': 1813,\n",
              " 'otei': 1671,\n",
              " 'tein': 1997,\n",
              " 'ein,': 806,\n",
              " 'in, ': 1155,\n",
              " 'n, s': 1398,\n",
              " ', sa': 319,\n",
              " ' sai': 239,\n",
              " 'said': 1866,\n",
              " 'aid ': 382,\n",
              " 'id c': 1082,\n",
              " 'd cc': 608,\n",
              " 'ein ': 803,\n",
              " 'in h': 1145,\n",
              " 'n ha': 1376,\n",
              " 'g an': 976,\n",
              " ' an ': 43,\n",
              " 'an a': 409,\n",
              " 'n am': 1365,\n",
              " ' ami': 39,\n",
              " 'amin': 404,\n",
              " 'mino': 1319,\n",
              " 'ino ': 1182,\n",
              " 'no a': 1505,\n",
              " 'o ac': 1544,\n",
              " ' aci': 31,\n",
              " 'acid': 372,\n",
              " 'cid ': 555,\n",
              " 'id s': 1091,\n",
              " 'd se': 627,\n",
              " ' seq': 248,\n",
              " 'sequ': 1897,\n",
              " 'eque': 867,\n",
              " 'quen': 1751,\n",
              " 'uenc': 2090,\n",
              " 'ence': 832,\n",
              " 'nce ': 1420,\n",
              " 'ce s': 542,\n",
              " 'e sh': 749,\n",
              " ' sho': 257,\n",
              " 'show': 1910,\n",
              " 'hown': 1063,\n",
              " 'own ': 1682,\n",
              " 'wn i': 2174,\n",
              " 'n in': 1380,\n",
              " ' in ': 155,\n",
              " 'in s': 1148,\n",
              " 'n se': 1388,\n",
              " 'seq ': 1894,\n",
              " 'eq i': 863,\n",
              " 'q id': 1746,\n",
              " ' id ': 147,\n",
              " 'id n': 1085,\n",
              " 'd no': 619,\n",
              " ' no.': 190,\n",
              " 'no. ': 1509,\n",
              " 'o. 2': 1549,\n",
              " '. 2,': 324,\n",
              " ' 2, ': 2,\n",
              " '2, 4': 329,\n",
              " ', 4,': 299,\n",
              " ' 4, ': 7,\n",
              " '4, o': 334,\n",
              " ', or': 311,\n",
              " ' or ': 209,\n",
              " 'or 6': 1649,\n",
              " 'r 6,': 1756,\n",
              " ' 6, ': 12,\n",
              " '6, s': 339,\n",
              " 'id p': 1088,\n",
              " 'd po': 623,\n",
              " 'de b': 639,\n",
              " 'e be': 704,\n",
              " ' bei': 63,\n",
              " 'bein': 500,\n",
              " 'eing': 809,\n",
              " 'ng c': 1471,\n",
              " 'g ca': 983,\n",
              " ' cap': 71,\n",
              " 'capa': 523,\n",
              " 'apab': 442,\n",
              " 'pabl': 1687,\n",
              " 'able': 367,\n",
              " 'ble ': 505,\n",
              " 'le o': 1253,\n",
              " 'e of': 736,\n",
              " 'of e': 1563,\n",
              " 'f el': 935,\n",
              " ' eli': 117,\n",
              " 'elic': 814,\n",
              " 'lici': 1266,\n",
              " 'icit': 1075,\n",
              " 'citi': 559,\n",
              " 'itin': 1224,\n",
              " 'ting': 2048,\n",
              " 'a pr': 362,\n",
              " 'otec': 1668,\n",
              " 'tect': 1993,\n",
              " 'ecti': 787,\n",
              " 'ctiv': 587,\n",
              " 'tive': 2057,\n",
              " 'ive ': 1235,\n",
              " 've i': 2135,\n",
              " 'mune': 1351,\n",
              " 'une ': 2104,\n",
              " 'ne r': 1454,\n",
              " 'e re': 745,\n",
              " ' res': 234,\n",
              " 'resp': 1782,\n",
              " 'espo': 903,\n",
              " 'spon': 1933,\n",
              " 'pons': 1723,\n",
              " 'onse': 1635,\n",
              " 'nse ': 1518,\n",
              " 'se i': 1879,\n",
              " 'e in': 730,\n",
              " 'in a': 1139,\n",
              " 'n a ': 1362,\n",
              " 'a do': 347,\n",
              " ' dog': 109,\n",
              " 'dog ': 686,\n",
              " 'og a': 1577,\n",
              " 'g ag': 973,\n",
              " ' aga': 35,\n",
              " 'agai': 377,\n",
              " 'gain': 1000,\n",
              " 'ains': 394,\n",
              " 'inst': 1186,\n",
              " 'nst ': 1522,\n",
              " 'st c': 1943,\n",
              " 't cc': 1965,\n",
              " 'cv i': 597,\n",
              " 'v in': 2126,\n",
              " ' inf': 164,\n",
              " 'infe': 1166,\n",
              " 'nfec': 1459,\n",
              " 'fect': 956,\n",
              " 'ctio': 584,\n",
              " 'tion': 2052,\n",
              " 'ion ': 1195,\n",
              " 'on o': 1619,\n",
              " 'n or': 1384,\n",
              " 'or d': 1652,\n",
              " 'r di': 1760,\n",
              " ' dis': 101,\n",
              " 'dise': 676,\n",
              " 'isea': 1207,\n",
              " 'seas': 1888,\n",
              " 'ease': 772,\n",
              " 'ase.': 464,\n",
              " ' a dn': 18,\n",
              " 'a dna': 345,\n",
              " ' dna ': 106,\n",
              " 'dna m': 682,\n",
              " 'na mo': 1404,\n",
              " 'a mol': 356,\n",
              " ' mole': 186,\n",
              " 'molec': 1342,\n",
              " 'olecu': 1595,\n",
              " 'lecul': 1262,\n",
              " 'ecule': 794,\n",
              " 'cule ': 593,\n",
              " 'ule e': 2096,\n",
              " 'le en': 1251,\n",
              " 'e enc': 717,\n",
              " ' enco': 122,\n",
              " 'encod': 837,\n",
              " 'ncodi': 1429,\n",
              " 'codin': 568,\n",
              " 'oding': 1559,\n",
              " 'ding ': 672,\n",
              " 'ing a': 1171,\n",
              " 'ng a ': 1465,\n",
              " 'g a p': 970,\n",
              " ' a po': 26,\n",
              " 'a pol': 360,\n",
              " ' poly': 221,\n",
              " 'polyp': 1720,\n",
              " 'olype': 1603,\n",
              " 'lypep': 1294,\n",
              " 'ypept': 2202,\n",
              " 'pepti': 1697,\n",
              " 'eptid': 859,\n",
              " 'ptide': 1742,\n",
              " 'tide ': 2044,\n",
              " 'ide h': 1103,\n",
              " 'de ha': 643,\n",
              " 'e hav': 724,\n",
              " ' havi': 143,\n",
              " 'havin': 1034,\n",
              " 'aving': 493,\n",
              " 'ving ': 2161,\n",
              " 'ng at': 1469,\n",
              " 'g at ': 980,\n",
              " ' at l': 59,\n",
              " 'at le': 476,\n",
              " 't lea': 1970,\n",
              " ' leas': 170,\n",
              " 'least': 1258,\n",
              " 'east ': 779,\n",
              " 'ast o': 471,\n",
              " 'st on': 1947,\n",
              " 't one': 1977,\n",
              " ' one ': 206,\n",
              " 'one i': 1628,\n",
              " 'ne im': 1452,\n",
              " 'e imm': 728,\n",
              " ' immu': 152,\n",
              " 'immun': 1134,\n",
              " 'mmuno': 1333,\n",
              " 'munog': 1358,\n",
              " 'unoge': 2113,\n",
              " 'nogen': 1514,\n",
              " 'ogeni': 1582,\n",
              " 'genic': 1006,\n",
              " 'enic ': 841,\n",
              " 'nic d': 1486,\n",
              " 'ic de': 1072,\n",
              " 'c det': 515,\n",
              " ' dete': 95,\n",
              " 'deter': 659,\n",
              " 'eterm': 915,\n",
              " 'termi': 2007,\n",
              " 'ermin': 887,\n",
              " 'rmina': 1801,\n",
              " 'minan': 1317,\n",
              " 'inant': 1160,\n",
              " 'nants': 1408,\n",
              " 'ants ': 438,\n",
              " 'nts o': 1540,\n",
              " 'ts of': 2068,\n",
              " 's of ': 1852,\n",
              " ' of t': 202,\n",
              " 'of th': 1573,\n",
              " 'f the': 952,\n",
              " ' the ': 274,\n",
              " 'the c': 2020,\n",
              " 'he cc': 1039,\n",
              " 'e ccv': 709,\n",
              " ' ccv ': 79,\n",
              " 'ccv s': 535,\n",
              " 'cv sp': 601,\n",
              " 'v spi': 2131,\n",
              " ' spik': 262,\n",
              " 'spike': 1930,\n",
              " 'pike ': 1710,\n",
              " 'ike p': 1125,\n",
              " 'ke pr': 1241,\n",
              " 'e pro': 741,\n",
              " ' prot': 228,\n",
              " 'prote': 1733,\n",
              " 'rotei': 1816,\n",
              " 'otein': 1672,\n",
              " 'tein,': 2000,\n",
              " 'ein, ': 807,\n",
              " 'in, s': 1156,\n",
              " 'n, sa': 1399,\n",
              " ', sai': 320,\n",
              " ' said': 240,\n",
              " 'said ': 1867,\n",
              " 'aid c': 383,\n",
              " 'id cc': 1083,\n",
              " 'd ccv': 609,\n",
              " 'tein ': 1998,\n",
              " 'ein h': 804,\n",
              " 'in ha': 1146,\n",
              " 'n hav': 1377,\n",
              " 'ng an': 1467,\n",
              " 'g an ': 977,\n",
              " ' an a': 44,\n",
              " 'an am': 410,\n",
              " 'n ami': 1366,\n",
              " ' amin': 40,\n",
              " 'amino': 405,\n",
              " 'mino ': 1320,\n",
              " 'ino a': 1183,\n",
              " 'no ac': 1506,\n",
              " 'o aci': 1545,\n",
              " ' acid': 32,\n",
              " 'acid ': 373,\n",
              " 'cid s': 556,\n",
              " 'id se': 1092,\n",
              " 'd seq': 628,\n",
              " ' sequ': 251,\n",
              " 'seque': 1898,\n",
              " 'equen': 868,\n",
              " 'quenc': 1752,\n",
              " 'uence': 2091,\n",
              " 'ence ': 833,\n",
              " 'nce s': 1423,\n",
              " 'ce sh': 543,\n",
              " 'e sho': 750,\n",
              " ' show': 258,\n",
              " 'shown': 1911,\n",
              " 'hown ': 1064,\n",
              " 'own i': 1683,\n",
              " 'wn in': 2175,\n",
              " 'n in ': 1381,\n",
              " ' in s': 160,\n",
              " 'in se': 1149,\n",
              " 'n seq': 1389,\n",
              " ' seq ': 249,\n",
              " 'seq i': 1895,\n",
              " 'eq id': 864,\n",
              " 'q id ': 1747,\n",
              " ' id n': 148,\n",
              " 'id no': 1086,\n",
              " 'd no.': 620,\n",
              " ' no. ': 191,\n",
              " 'no. 2': 1510,\n",
              " 'o. 2,': 1550,\n",
              " '. 2, ': 325,\n",
              " ' 2, 4': 3,\n",
              " '2, 4,': 330,\n",
              " ', 4, ': 300,\n",
              " ' 4, o': 8,\n",
              " '4, or': 335,\n",
              " ', or ': 312,\n",
              " ' or 6': 210,\n",
              " 'or 6,': 1650,\n",
              " 'r 6, ': 1757,\n",
              " ' 6, s': 13,\n",
              " '6, sa': 340,\n",
              " 'aid p': 385,\n",
              " 'id po': 1089,\n",
              " 'd pol': 624,\n",
              " 'ide b': 1101,\n",
              " 'de be': 640,\n",
              " 'e bei': 705,\n",
              " ' bein': 64,\n",
              " 'being': 501,\n",
              " 'eing ': 810,\n",
              " 'ing c': 1175,\n",
              " 'ng ca': 1472,\n",
              " 'g cap': 984,\n",
              " ' capa': 72,\n",
              " 'capab': 524,\n",
              " 'apabl': 443,\n",
              " 'pable': 1688,\n",
              " 'able ': 368,\n",
              " 'ble o': 506,\n",
              " 'le of': 1254,\n",
              " 'e of ': 737,\n",
              " ' of e': 196,\n",
              " 'of el': 1564,\n",
              " 'f eli': 936,\n",
              " ' elic': 118,\n",
              " 'elici': 815,\n",
              " 'licit': 1267,\n",
              " 'iciti': 1076,\n",
              " 'citin': 560,\n",
              " 'iting': 1225,\n",
              " 'ting ': 2049,\n",
              " ' a pr': 28,\n",
              " 'a pro': 363,\n",
              " 'rotec': 1814,\n",
              " 'otect': 1669,\n",
              " 'tecti': 1994,\n",
              " 'ectiv': 790,\n",
              " 'ctive': 588,\n",
              " 'tive ': 2058,\n",
              " 'ive i': 1236,\n",
              " 've im': 2136,\n",
              " 'mmune': 1329,\n",
              " 'mune ': 1352,\n",
              " 'une r': 2105,\n",
              " 'ne re': 1455,\n",
              " 'e res': 746,\n",
              " ' resp': 235,\n",
              " 'respo': 1783,\n",
              " 'espon': 904,\n",
              " 'spons': 1934,\n",
              " 'ponse': 1724,\n",
              " 'onse ': 1636,\n",
              " 'nse i': 1519,\n",
              " 'se in': 1880,\n",
              " 'e in ': 731,\n",
              " ' in a': 156,\n",
              " 'in a ': 1140,\n",
              " 'n a d': 1363,\n",
              " ' a do': 20,\n",
              " 'a dog': 348,\n",
              " ' dog ': 110,\n",
              " 'dog a': 687,\n",
              " 'og ag': 1578,\n",
              " 'g aga': 974,\n",
              " ' agai': 36,\n",
              " 'again': 378,\n",
              " 'gains': 1001,\n",
              " 'ainst': 395,\n",
              " 'inst ': 1187,\n",
              " 'nst c': 1523,\n",
              " 'st cc': 1944,\n",
              " 't ccv': 1966,\n",
              " 'ccv i': 533,\n",
              " 'cv in': 598,\n",
              " 'v inf': 2127,\n",
              " ' infe': 165,\n",
              " 'infec': 1167,\n",
              " 'nfect': 1460,\n",
              " 'fecti': 957,\n",
              " 'ectio': 788,\n",
              " 'ction': 585,\n",
              " 'tion ': 2053,\n",
              " 'ion o': 1198,\n",
              " 'on or': 1620,\n",
              " 'n or ': 1385,\n",
              " ' or d': 212,\n",
              " 'or di': 1653,\n",
              " 'r dis': 1761,\n",
              " ' dise': 102,\n",
              " 'disea': 677,\n",
              " 'iseas': 1208,\n",
              " 'sease': 1889,\n",
              " 'ease.': 777,\n",
              " ' a dna': 19,\n",
              " 'a dna ': 346,\n",
              " ' dna m': 107,\n",
              " 'dna mo': 683,\n",
              " 'na mol': 1405,\n",
              " 'a mole': 357,\n",
              " ' molec': 187,\n",
              " 'molecu': 1343,\n",
              " 'olecul': 1596,\n",
              " 'lecule': 1263,\n",
              " 'ecule ': 795,\n",
              " 'cule e': 594,\n",
              " 'ule en': 2097,\n",
              " 'le enc': 1252,\n",
              " 'e enco': 718,\n",
              " ' encod': 123,\n",
              " 'encodi': 838,\n",
              " 'ncodin': 1430,\n",
              " 'coding': 569,\n",
              " 'oding ': 1560,\n",
              " 'ding a': 673,\n",
              " 'ing a ': 1172,\n",
              " 'ng a p': 1466,\n",
              " 'g a po': 971,\n",
              " ' a pol': 27,\n",
              " 'a poly': 361,\n",
              " ' polyp': 222,\n",
              " 'polype': 1721,\n",
              " 'olypep': 1604,\n",
              " 'lypept': 1295,\n",
              " 'ypepti': 2203,\n",
              " 'peptid': 1698,\n",
              " 'eptide': 860,\n",
              " 'ptide ': 1743,\n",
              " 'tide h': 2046,\n",
              " 'ide ha': 1104,\n",
              " 'de hav': 644,\n",
              " 'e havi': 725,\n",
              " ' havin': 144,\n",
              " 'having': 1035,\n",
              " 'aving ': 494,\n",
              " 'ving a': 2162,\n",
              " 'ing at': 1174,\n",
              " 'ng at ': 1470,\n",
              " 'g at l': 981,\n",
              " ' at le': 60,\n",
              " 'at lea': 477,\n",
              " 't leas': 1971,\n",
              " ' least': 171,\n",
              " 'least ': 1259,\n",
              " 'east o': 780,\n",
              " 'ast on': 472,\n",
              " 'st one': 1948,\n",
              " 't one ': 1978,\n",
              " ' one i': 207,\n",
              " 'one im': 1629,\n",
              " 'ne imm': 1453,\n",
              " 'e immu': 729,\n",
              " ' immun': 153,\n",
              " 'immuno': 1136,\n",
              " 'mmunog': 1334,\n",
              " 'munoge': 1359,\n",
              " 'unogen': 2114,\n",
              " 'nogeni': 1515,\n",
              " 'ogenic': 1583,\n",
              " 'genic ': 1007,\n",
              " 'enic d': 842,\n",
              " 'nic de': 1487,\n",
              " 'ic det': 1073,\n",
              " 'c dete': 516,\n",
              " ' deter': 96,\n",
              " 'determ': 660,\n",
              " 'etermi': 916,\n",
              " 'termin': 2008,\n",
              " 'ermina': 888,\n",
              " 'rminan': 1802,\n",
              " 'minant': 1318,\n",
              " 'inants': 1161,\n",
              " 'nants ': 1409,\n",
              " 'ants o': 439,\n",
              " 'nts of': 1541,\n",
              " 'ts of ': 2069,\n",
              " 's of t': 1854,\n",
              " ' of th': 203,\n",
              " 'of the': 1574,\n",
              " 'f the ': 953,\n",
              " ' the c': 275,\n",
              " 'the cc': 2021,\n",
              " 'he ccv': 1040,\n",
              " 'e ccv ': 710,\n",
              " ' ccv s': 81,\n",
              " 'ccv sp': 536,\n",
              " 'cv spi': 602,\n",
              " 'v spik': 2132,\n",
              " ' spike': 263,\n",
              " 'spike ': 1931,\n",
              " 'pike p': 1711,\n",
              " 'ike pr': 1126,\n",
              " 'ke pro': 1242,\n",
              " 'e prot': 742,\n",
              " ' prote': 229,\n",
              " 'protei': 1735,\n",
              " 'rotein': 1817,\n",
              " 'otein,': 1674,\n",
              " 'tein, ': 2001,\n",
              " 'ein, s': 808,\n",
              " 'in, sa': 1157,\n",
              " 'n, sai': 1400,\n",
              " ', said': 321,\n",
              " ' said ': 241,\n",
              " 'said c': 1868,\n",
              " 'aid cc': 384,\n",
              " 'id ccv': 1084,\n",
              " 'd ccv ': 610,\n",
              " 'otein ': 1673,\n",
              " 'tein h': 1999,\n",
              " 'ein ha': 805,\n",
              " 'in hav': 1147,\n",
              " 'n havi': 1378,\n",
              " 'ing an': 1173,\n",
              " 'ng an ': 1468,\n",
              " 'g an a': 978,\n",
              " ' an am': 45,\n",
              " 'an ami': 411,\n",
              " 'n amin': 1367,\n",
              " ' amino': 41,\n",
              " ...}"
            ]
          },
          "metadata": {
            "tags": []
          },
          "execution_count": 147
        }
      ]
    },
    {
      "cell_type": "markdown",
      "metadata": {
        "id": "N5OmWS8xi4Zl",
        "colab_type": "text"
      },
      "source": [
        "**Vectorizer avec ngram_range = (3,6)**"
      ]
    },
    {
      "cell_type": "code",
      "metadata": {
        "id": "xT5dMtTyhSte",
        "colab_type": "code",
        "colab": {}
      },
      "source": [
        "words_3 = transformed_text_char_3.toarray()"
      ],
      "execution_count": 0,
      "outputs": []
    },
    {
      "cell_type": "code",
      "metadata": {
        "id": "wdGKk8JYhZ1i",
        "colab_type": "code",
        "outputId": "5e2355ae-22eb-4222-b07d-91cf4d310ddb",
        "colab": {
          "base_uri": "https://localhost:8080/",
          "height": 34
        }
      },
      "source": [
        "vect_char_3.get_feature_names()[np.argmax(words_3[0])]"
      ],
      "execution_count": 0,
      "outputs": [
        {
          "output_type": "execute_result",
          "data": {
            "text/plain": [
              "'g a'"
            ]
          },
          "metadata": {
            "tags": []
          },
          "execution_count": 89
        },
        {
          "output_type": "execute_result",
          "data": {
            "text/plain": [
              "'g a'"
            ]
          },
          "metadata": {
            "tags": []
          },
          "execution_count": 149
        }
      ]
    },
    {
      "cell_type": "code",
      "metadata": {
        "id": "eqYWTaypho_2",
        "colab_type": "code",
        "outputId": "5023cf19-50e3-4af3-e607-4962307ee49b",
        "colab": {
          "base_uri": "https://localhost:8080/",
          "height": 34
        }
      },
      "source": [
        "vect_char_3.get_feature_names()[np.argmax(words_3[0])]"
      ],
      "execution_count": 0,
      "outputs": [
        {
          "output_type": "execute_result",
          "data": {
            "text/plain": [
              "'g a'"
            ]
          },
          "metadata": {
            "tags": []
          },
          "execution_count": 90
        },
        {
          "output_type": "execute_result",
          "data": {
            "text/plain": [
              "'g a'"
            ]
          },
          "metadata": {
            "tags": []
          },
          "execution_count": 150
        }
      ]
    },
    {
      "cell_type": "markdown",
      "metadata": {
        "id": "vTZ1a1HTiQOi",
        "colab_type": "text"
      },
      "source": [
        "**Vectorizer avec ngram_range = (2,6)**\n"
      ]
    },
    {
      "cell_type": "code",
      "metadata": {
        "id": "ahOBc3-CiXUy",
        "colab_type": "code",
        "colab": {}
      },
      "source": [
        "words_2 = transformed_text_char_2.toarray()"
      ],
      "execution_count": 0,
      "outputs": []
    },
    {
      "cell_type": "code",
      "metadata": {
        "id": "AIY5Z1zZiNXx",
        "colab_type": "code",
        "outputId": "574e797e-081c-4342-e709-ba9c60ae0d29",
        "colab": {
          "base_uri": "https://localhost:8080/",
          "height": 34
        }
      },
      "source": [
        "vect_char_2.get_feature_names()[np.argmax(words_2[0])]"
      ],
      "execution_count": 0,
      "outputs": [
        {
          "output_type": "execute_result",
          "data": {
            "text/plain": [
              "'in'"
            ]
          },
          "metadata": {
            "tags": []
          },
          "execution_count": 92
        },
        {
          "output_type": "execute_result",
          "data": {
            "text/plain": [
              "'in'"
            ]
          },
          "metadata": {
            "tags": []
          },
          "execution_count": 152
        }
      ]
    },
    {
      "cell_type": "markdown",
      "metadata": {
        "id": "F81J6_zNnHBx",
        "colab_type": "text"
      },
      "source": [
        "Le mot le plus important selon notre deuxième vectorizer est **in**."
      ]
    },
    {
      "cell_type": "markdown",
      "metadata": {
        "id": "T7KZ-5x9i_1N",
        "colab_type": "text"
      },
      "source": [
        "Le charVectorizer conçoit des token à partir de groupe de caractères.\n",
        "\n",
        "Donc dans les deux cas on se retrouve avec un vocabulaire constitué de ngram de caractères. Les mots de ce vocabulaire ont une taille comprise (2,6) (ou (3,6) cas de notre autre vectorizer). \n",
        "\n",
        "\n",
        "**Le vectorizer avec le paramètre analyzer='char', conçoit un vocabulaire de token dans l'intervalle (n_gram_range) que nous lui avons donné (ici 2,6). En faisant cela, nous construisons, des groupes de caractères important que notre tokenizer paramétré avec analyzer='word' n'aurait pas pu détecter (du fait de la méthode de tokenization utilisé).**\n",
        "\n",
        "**Ainsi, en fusionnant la matrices résultant de l'application de ce transformateur, avec celui de notre tranformateur paramétré pour les mots, nous ajoutons de l'informations que notre modèle pourrat alors exploiter.**"
      ]
    },
    {
      "cell_type": "markdown",
      "metadata": {
        "id": "VVFwuFnfjf9T",
        "colab_type": "text"
      },
      "source": [
        "## **Entrainement**\n",
        "\n",
        "Nous avons pu observer les résultats de ces deux type de vectorizer. Nous allons maintenant appliquer la combinaisons des deux vectorizer sur notre jeu de donnée et étudier les performances de nos modèles.\n",
        "\n",
        "\n",
        "1. Comparez **tfidf** avec un **analyzer 'word'** seul vs **tfidf avec un analyzer 'word' + tfidf avec un analyzer 'char'**.\n",
        "\n",
        "2. comparez l'impacte des N-Gram sur les performances.\n",
        "\n",
        "3. L'impact du max_feature sur les performances."
      ]
    },
    {
      "cell_type": "markdown",
      "metadata": {
        "id": "XonK5BuBCOj_",
        "colab_type": "text"
      },
      "source": [
        "### **Contruction du jeu de donnée d'entrainement**"
      ]
    },
    {
      "cell_type": "code",
      "metadata": {
        "id": "SFs9ajXgV9he",
        "colab_type": "code",
        "colab": {}
      },
      "source": [
        "corpus = news.text\n",
        "target = news.target.to_list()"
      ],
      "execution_count": 0,
      "outputs": []
    },
    {
      "cell_type": "code",
      "metadata": {
        "id": "hcJEWYi2WBWj",
        "colab_type": "code",
        "colab": {}
      },
      "source": [
        "from sklearn.model_selection import train_test_split\n",
        "\n",
        "x_train, x_test, y_train, y_test = train_test_split(corpus, target, test_size=0.3, random_state=42, stratify=target)"
      ],
      "execution_count": 0,
      "outputs": []
    },
    {
      "cell_type": "markdown",
      "metadata": {
        "id": "iA8sHibsnlQ6",
        "colab_type": "text"
      },
      "source": [
        "* Stratify : Afin que nous ayons les même proportions de classe dans le tests set et le train set. "
      ]
    },
    {
      "cell_type": "markdown",
      "metadata": {
        "id": "BH_JZ7xRh2MV",
        "colab_type": "text"
      },
      "source": [
        "### **L'impact des NGRAM sur les performances**\n",
        "\n",
        "\n",
        "Nous allons garder les même paramètres que ceux utilisé précédemment. Nous feront juste des tests avec différents ngram_range. \n",
        "\n",
        "* (1,1\n",
        "* (1,2)\n",
        "* (1,3)"
      ]
    },
    {
      "cell_type": "markdown",
      "metadata": {
        "id": "vz7149QLmj_t",
        "colab_type": "text"
      },
      "source": [
        "### **NGRAM_RANGE=(1,1)**"
      ]
    },
    {
      "cell_type": "code",
      "metadata": {
        "id": "AXuHjREcC4Jm",
        "colab_type": "code",
        "colab": {}
      },
      "source": [
        "from sklearn.svm import LinearSVC\n",
        "from sklearn.feature_extraction.text import TfidfVectorizer\n",
        "import numpy as np"
      ],
      "execution_count": 0,
      "outputs": []
    },
    {
      "cell_type": "code",
      "metadata": {
        "id": "WDWZgzbUWUKi",
        "colab_type": "code",
        "colab": {}
      },
      "source": [
        "vect_word = TfidfVectorizer(analyzer='word', tokenizer=prepareText, max_features=20000, ngram_range=(1,1), dtype=np.float32)\n",
        "vect_char = TfidfVectorizer(analyzer='char', stop_words='english',  max_features=40000, ngram_range=(2,6), lowercase=True, dtype=np.float32)"
      ],
      "execution_count": 0,
      "outputs": []
    },
    {
      "cell_type": "code",
      "metadata": {
        "id": "5SRX1FrLV1-_",
        "colab_type": "code",
        "outputId": "9e89d517-1d81-4391-e3ef-df1d287967f9",
        "colab": {
          "base_uri": "https://localhost:8080/",
          "height": 51
        }
      },
      "source": [
        "%%time \n",
        "vect_corpus_word  = vect_word.fit_transform(x_train)"
      ],
      "execution_count": 0,
      "outputs": [
        {
          "output_type": "stream",
          "text": [
            "CPU times: user 51.3 s, sys: 507 ms, total: 51.8 s\n",
            "Wall time: 52 s\n"
          ],
          "name": "stdout"
        }
      ]
    },
    {
      "cell_type": "code",
      "metadata": {
        "id": "s25Ian_HWd8H",
        "colab_type": "code",
        "colab": {}
      },
      "source": [
        "vect_corpus_char = vect_char.fit_transform(x_train)"
      ],
      "execution_count": 0,
      "outputs": []
    },
    {
      "cell_type": "code",
      "metadata": {
        "id": "DDdfwM4tYK48",
        "colab_type": "code",
        "colab": {}
      },
      "source": [
        "vect_test_corpus_word = vect_word.transform(x_test)\n",
        "vect_test_corpus_char = vect_char.transform(x_test)"
      ],
      "execution_count": 0,
      "outputs": []
    },
    {
      "cell_type": "code",
      "metadata": {
        "id": "0x5V4zcS5NVm",
        "colab_type": "code",
        "colab": {}
      },
      "source": [
        "from scipy import sparse"
      ],
      "execution_count": 0,
      "outputs": []
    },
    {
      "cell_type": "code",
      "metadata": {
        "id": "fkBboAwmWmej",
        "colab_type": "code",
        "colab": {}
      },
      "source": [
        "svc = LinearSVC()"
      ],
      "execution_count": 0,
      "outputs": []
    },
    {
      "cell_type": "code",
      "metadata": {
        "id": "c5gAjy2uXbJp",
        "colab_type": "code",
        "colab": {}
      },
      "source": [
        "vect_corpus_wc = sparse.hstack([vect_corpus_word , vect_corpus_char])"
      ],
      "execution_count": 0,
      "outputs": []
    },
    {
      "cell_type": "code",
      "metadata": {
        "id": "7mJ-r07Db_lX",
        "colab_type": "code",
        "colab": {}
      },
      "source": [
        "vect_test_corpus_wc = sparse.hstack([vect_test_corpus_word , vect_test_corpus_char])"
      ],
      "execution_count": 0,
      "outputs": []
    },
    {
      "cell_type": "markdown",
      "metadata": {
        "id": "xsEAFi36Xz8e",
        "colab_type": "text"
      },
      "source": [
        "**On va commencer par analyser les résulat avec la matrice de mots du TF-IDF(analyzer='word') seul**"
      ]
    },
    {
      "cell_type": "code",
      "metadata": {
        "id": "xFsYfpe5YBe7",
        "colab_type": "code",
        "outputId": "89fdf152-7756-4349-a3c3-1a82610acda2",
        "colab": {
          "base_uri": "https://localhost:8080/",
          "height": 119
        }
      },
      "source": [
        "%%time \n",
        "svc.fit(vect_corpus_word, y_train)"
      ],
      "execution_count": 0,
      "outputs": [
        {
          "output_type": "stream",
          "text": [
            "CPU times: user 35.2 ms, sys: 1.03 ms, total: 36.2 ms\n",
            "Wall time: 44.8 ms\n"
          ],
          "name": "stdout"
        },
        {
          "output_type": "execute_result",
          "data": {
            "text/plain": [
              "LinearSVC(C=1.0, class_weight=None, dual=True, fit_intercept=True,\n",
              "          intercept_scaling=1, loss='squared_hinge', max_iter=1000,\n",
              "          multi_class='ovr', penalty='l2', random_state=None, tol=0.0001,\n",
              "          verbose=0)"
            ]
          },
          "metadata": {
            "tags": []
          },
          "execution_count": 76
        }
      ]
    },
    {
      "cell_type": "code",
      "metadata": {
        "id": "lZtsUPRRYHMR",
        "colab_type": "code",
        "colab": {}
      },
      "source": [
        "prediction_11 = svc.predict(vect_test_corpus_word)"
      ],
      "execution_count": 0,
      "outputs": []
    },
    {
      "cell_type": "markdown",
      "metadata": {
        "id": "gU3zF0YydMR4",
        "colab_type": "text"
      },
      "source": [
        "### **Resultat SVC + TFIDF(ngram=(1,1), analyzer='word') **"
      ]
    },
    {
      "cell_type": "code",
      "metadata": {
        "id": "_tvtfrb-L-xE",
        "colab_type": "code",
        "colab": {}
      },
      "source": [
        "from sklearn.metrics import classification_report"
      ],
      "execution_count": 0,
      "outputs": []
    },
    {
      "cell_type": "code",
      "metadata": {
        "id": "VcwTt71UYbf-",
        "colab_type": "code",
        "outputId": "f0662567-2756-4548-c2d7-090728a3aa6b",
        "colab": {
          "base_uri": "https://localhost:8080/",
          "height": 187
        }
      },
      "source": [
        "print(classification_report(y_test, prediction_11))"
      ],
      "execution_count": 0,
      "outputs": [
        {
          "output_type": "stream",
          "text": [
            "              precision    recall  f1-score   support\n",
            "\n",
            "           7       0.91      0.96      0.93       178\n",
            "          10       0.98      0.94      0.96       180\n",
            "          15       0.96      0.95      0.95       180\n",
            "\n",
            "    accuracy                           0.95       538\n",
            "   macro avg       0.95      0.95      0.95       538\n",
            "weighted avg       0.95      0.95      0.95       538\n",
            "\n"
          ],
          "name": "stdout"
        }
      ]
    },
    {
      "cell_type": "markdown",
      "metadata": {
        "id": "0AJxwE2HZAFe",
        "colab_type": "text"
      },
      "source": [
        " On obtient un score de 95% pour notre f1-score. Ce qui est vraiment bien lorque l'on sait, que l'on a pas encore fait de \"features engineering\". validons le modèle avec un cross_validation."
      ]
    },
    {
      "cell_type": "code",
      "metadata": {
        "id": "8SLcKtbpanaB",
        "colab_type": "code",
        "colab": {}
      },
      "source": [
        "from sklearn.model_selection import cross_val_score"
      ],
      "execution_count": 0,
      "outputs": []
    },
    {
      "cell_type": "code",
      "metadata": {
        "id": "t1rD8QToa0WO",
        "colab_type": "code",
        "colab": {}
      },
      "source": [
        "scores = cross_val_score(svc, vect_corpus_word, y_train,scoring='accuracy')"
      ],
      "execution_count": 0,
      "outputs": []
    },
    {
      "cell_type": "code",
      "metadata": {
        "id": "f7s42HnWc_cW",
        "colab_type": "code",
        "outputId": "a77f015e-aff5-4762-8119-5b00f3f39a8c",
        "colab": {
          "base_uri": "https://localhost:8080/",
          "height": 542
        }
      },
      "source": [
        "px.scatter(pd.DataFrame({'accuracy' : scores, 'steps' : [1, 2, 3, 4, 5]}), y='accuracy')"
      ],
      "execution_count": 0,
      "outputs": [
        {
          "output_type": "display_data",
          "data": {
            "text/html": [
              "<html>\n",
              "<head><meta charset=\"utf-8\" /></head>\n",
              "<body>\n",
              "    <div>\n",
              "            <script src=\"https://cdnjs.cloudflare.com/ajax/libs/mathjax/2.7.5/MathJax.js?config=TeX-AMS-MML_SVG\"></script><script type=\"text/javascript\">if (window.MathJax) {MathJax.Hub.Config({SVG: {font: \"STIX-Web\"}});}</script>\n",
              "                <script type=\"text/javascript\">window.PlotlyConfig = {MathJaxConfig: 'local'};</script>\n",
              "        <script src=\"https://cdn.plot.ly/plotly-latest.min.js\"></script>    \n",
              "            <div id=\"59e24b9b-24be-4a48-8971-da7705667935\" class=\"plotly-graph-div\" style=\"height:525px; width:100%;\"></div>\n",
              "            <script type=\"text/javascript\">\n",
              "                \n",
              "                    window.PLOTLYENV=window.PLOTLYENV || {};\n",
              "                    \n",
              "                if (document.getElementById(\"59e24b9b-24be-4a48-8971-da7705667935\")) {\n",
              "                    Plotly.newPlot(\n",
              "                        '59e24b9b-24be-4a48-8971-da7705667935',\n",
              "                        [{\"hoverlabel\": {\"namelength\": 0}, \"hovertemplate\": \"accuracy=%{y}\", \"legendgroup\": \"\", \"marker\": {\"color\": \"#636efa\", \"symbol\": \"circle\"}, \"mode\": \"markers\", \"name\": \"\", \"showlegend\": false, \"type\": \"scatter\", \"xaxis\": \"x\", \"y\": [0.9123505976095617, 0.9243027888446215, 0.9203187250996016, 0.9482071713147411, 0.9322709163346613], \"yaxis\": \"y\"}],\n",
              "                        {\"legend\": {\"tracegroupgap\": 0}, \"margin\": {\"t\": 60}, \"template\": {\"data\": {\"bar\": [{\"error_x\": {\"color\": \"#2a3f5f\"}, \"error_y\": {\"color\": \"#2a3f5f\"}, \"marker\": {\"line\": {\"color\": \"#E5ECF6\", \"width\": 0.5}}, \"type\": \"bar\"}], \"barpolar\": [{\"marker\": {\"line\": {\"color\": \"#E5ECF6\", \"width\": 0.5}}, \"type\": \"barpolar\"}], \"carpet\": [{\"aaxis\": {\"endlinecolor\": \"#2a3f5f\", \"gridcolor\": \"white\", \"linecolor\": \"white\", \"minorgridcolor\": \"white\", \"startlinecolor\": \"#2a3f5f\"}, \"baxis\": {\"endlinecolor\": \"#2a3f5f\", \"gridcolor\": \"white\", \"linecolor\": \"white\", \"minorgridcolor\": \"white\", \"startlinecolor\": \"#2a3f5f\"}, \"type\": \"carpet\"}], \"choropleth\": [{\"colorbar\": {\"outlinewidth\": 0, \"ticks\": \"\"}, \"type\": \"choropleth\"}], \"contour\": [{\"colorbar\": {\"outlinewidth\": 0, \"ticks\": \"\"}, \"colorscale\": [[0.0, \"#0d0887\"], [0.1111111111111111, \"#46039f\"], [0.2222222222222222, \"#7201a8\"], [0.3333333333333333, \"#9c179e\"], [0.4444444444444444, \"#bd3786\"], [0.5555555555555556, \"#d8576b\"], [0.6666666666666666, \"#ed7953\"], [0.7777777777777778, \"#fb9f3a\"], [0.8888888888888888, \"#fdca26\"], [1.0, \"#f0f921\"]], \"type\": \"contour\"}], \"contourcarpet\": [{\"colorbar\": {\"outlinewidth\": 0, \"ticks\": \"\"}, \"type\": \"contourcarpet\"}], \"heatmap\": [{\"colorbar\": {\"outlinewidth\": 0, \"ticks\": \"\"}, \"colorscale\": [[0.0, \"#0d0887\"], [0.1111111111111111, \"#46039f\"], [0.2222222222222222, \"#7201a8\"], [0.3333333333333333, \"#9c179e\"], [0.4444444444444444, \"#bd3786\"], [0.5555555555555556, \"#d8576b\"], [0.6666666666666666, \"#ed7953\"], [0.7777777777777778, \"#fb9f3a\"], [0.8888888888888888, \"#fdca26\"], [1.0, \"#f0f921\"]], \"type\": \"heatmap\"}], \"heatmapgl\": [{\"colorbar\": {\"outlinewidth\": 0, \"ticks\": \"\"}, \"colorscale\": [[0.0, \"#0d0887\"], [0.1111111111111111, \"#46039f\"], [0.2222222222222222, \"#7201a8\"], [0.3333333333333333, \"#9c179e\"], [0.4444444444444444, \"#bd3786\"], [0.5555555555555556, \"#d8576b\"], [0.6666666666666666, \"#ed7953\"], [0.7777777777777778, \"#fb9f3a\"], [0.8888888888888888, \"#fdca26\"], [1.0, \"#f0f921\"]], \"type\": \"heatmapgl\"}], \"histogram\": [{\"marker\": {\"colorbar\": {\"outlinewidth\": 0, \"ticks\": \"\"}}, \"type\": \"histogram\"}], \"histogram2d\": [{\"colorbar\": {\"outlinewidth\": 0, \"ticks\": \"\"}, \"colorscale\": [[0.0, \"#0d0887\"], [0.1111111111111111, \"#46039f\"], [0.2222222222222222, \"#7201a8\"], [0.3333333333333333, \"#9c179e\"], [0.4444444444444444, \"#bd3786\"], [0.5555555555555556, \"#d8576b\"], [0.6666666666666666, \"#ed7953\"], [0.7777777777777778, \"#fb9f3a\"], [0.8888888888888888, \"#fdca26\"], [1.0, \"#f0f921\"]], \"type\": \"histogram2d\"}], \"histogram2dcontour\": [{\"colorbar\": {\"outlinewidth\": 0, \"ticks\": \"\"}, \"colorscale\": [[0.0, \"#0d0887\"], [0.1111111111111111, \"#46039f\"], [0.2222222222222222, \"#7201a8\"], [0.3333333333333333, \"#9c179e\"], [0.4444444444444444, \"#bd3786\"], [0.5555555555555556, \"#d8576b\"], [0.6666666666666666, \"#ed7953\"], [0.7777777777777778, \"#fb9f3a\"], [0.8888888888888888, \"#fdca26\"], [1.0, \"#f0f921\"]], \"type\": \"histogram2dcontour\"}], \"mesh3d\": [{\"colorbar\": {\"outlinewidth\": 0, \"ticks\": \"\"}, \"type\": \"mesh3d\"}], \"parcoords\": [{\"line\": {\"colorbar\": {\"outlinewidth\": 0, \"ticks\": \"\"}}, \"type\": \"parcoords\"}], \"pie\": [{\"automargin\": true, \"type\": \"pie\"}], \"scatter\": [{\"marker\": {\"colorbar\": {\"outlinewidth\": 0, \"ticks\": \"\"}}, \"type\": \"scatter\"}], \"scatter3d\": [{\"line\": {\"colorbar\": {\"outlinewidth\": 0, \"ticks\": \"\"}}, \"marker\": {\"colorbar\": {\"outlinewidth\": 0, \"ticks\": \"\"}}, \"type\": \"scatter3d\"}], \"scattercarpet\": [{\"marker\": {\"colorbar\": {\"outlinewidth\": 0, \"ticks\": \"\"}}, \"type\": \"scattercarpet\"}], \"scattergeo\": [{\"marker\": {\"colorbar\": {\"outlinewidth\": 0, \"ticks\": \"\"}}, \"type\": \"scattergeo\"}], \"scattergl\": [{\"marker\": {\"colorbar\": {\"outlinewidth\": 0, \"ticks\": \"\"}}, \"type\": \"scattergl\"}], \"scattermapbox\": [{\"marker\": {\"colorbar\": {\"outlinewidth\": 0, \"ticks\": \"\"}}, \"type\": \"scattermapbox\"}], \"scatterpolar\": [{\"marker\": {\"colorbar\": {\"outlinewidth\": 0, \"ticks\": \"\"}}, \"type\": \"scatterpolar\"}], \"scatterpolargl\": [{\"marker\": {\"colorbar\": {\"outlinewidth\": 0, \"ticks\": \"\"}}, \"type\": \"scatterpolargl\"}], \"scatterternary\": [{\"marker\": {\"colorbar\": {\"outlinewidth\": 0, \"ticks\": \"\"}}, \"type\": \"scatterternary\"}], \"surface\": [{\"colorbar\": {\"outlinewidth\": 0, \"ticks\": \"\"}, \"colorscale\": [[0.0, \"#0d0887\"], [0.1111111111111111, \"#46039f\"], [0.2222222222222222, \"#7201a8\"], [0.3333333333333333, \"#9c179e\"], [0.4444444444444444, \"#bd3786\"], [0.5555555555555556, \"#d8576b\"], [0.6666666666666666, \"#ed7953\"], [0.7777777777777778, \"#fb9f3a\"], [0.8888888888888888, \"#fdca26\"], [1.0, \"#f0f921\"]], \"type\": \"surface\"}], \"table\": [{\"cells\": {\"fill\": {\"color\": \"#EBF0F8\"}, \"line\": {\"color\": \"white\"}}, \"header\": {\"fill\": {\"color\": \"#C8D4E3\"}, \"line\": {\"color\": \"white\"}}, \"type\": \"table\"}]}, \"layout\": {\"annotationdefaults\": {\"arrowcolor\": \"#2a3f5f\", \"arrowhead\": 0, \"arrowwidth\": 1}, \"coloraxis\": {\"colorbar\": {\"outlinewidth\": 0, \"ticks\": \"\"}}, \"colorscale\": {\"diverging\": [[0, \"#8e0152\"], [0.1, \"#c51b7d\"], [0.2, \"#de77ae\"], [0.3, \"#f1b6da\"], [0.4, \"#fde0ef\"], [0.5, \"#f7f7f7\"], [0.6, \"#e6f5d0\"], [0.7, \"#b8e186\"], [0.8, \"#7fbc41\"], [0.9, \"#4d9221\"], [1, \"#276419\"]], \"sequential\": [[0.0, \"#0d0887\"], [0.1111111111111111, \"#46039f\"], [0.2222222222222222, \"#7201a8\"], [0.3333333333333333, \"#9c179e\"], [0.4444444444444444, \"#bd3786\"], [0.5555555555555556, \"#d8576b\"], [0.6666666666666666, \"#ed7953\"], [0.7777777777777778, \"#fb9f3a\"], [0.8888888888888888, \"#fdca26\"], [1.0, \"#f0f921\"]], \"sequentialminus\": [[0.0, \"#0d0887\"], [0.1111111111111111, \"#46039f\"], [0.2222222222222222, \"#7201a8\"], [0.3333333333333333, \"#9c179e\"], [0.4444444444444444, \"#bd3786\"], [0.5555555555555556, \"#d8576b\"], [0.6666666666666666, \"#ed7953\"], [0.7777777777777778, \"#fb9f3a\"], [0.8888888888888888, \"#fdca26\"], [1.0, \"#f0f921\"]]}, \"colorway\": [\"#636efa\", \"#EF553B\", \"#00cc96\", \"#ab63fa\", \"#FFA15A\", \"#19d3f3\", \"#FF6692\", \"#B6E880\", \"#FF97FF\", \"#FECB52\"], \"font\": {\"color\": \"#2a3f5f\"}, \"geo\": {\"bgcolor\": \"white\", \"lakecolor\": \"white\", \"landcolor\": \"#E5ECF6\", \"showlakes\": true, \"showland\": true, \"subunitcolor\": \"white\"}, \"hoverlabel\": {\"align\": \"left\"}, \"hovermode\": \"closest\", \"mapbox\": {\"style\": \"light\"}, \"paper_bgcolor\": \"white\", \"plot_bgcolor\": \"#E5ECF6\", \"polar\": {\"angularaxis\": {\"gridcolor\": \"white\", \"linecolor\": \"white\", \"ticks\": \"\"}, \"bgcolor\": \"#E5ECF6\", \"radialaxis\": {\"gridcolor\": \"white\", \"linecolor\": \"white\", \"ticks\": \"\"}}, \"scene\": {\"xaxis\": {\"backgroundcolor\": \"#E5ECF6\", \"gridcolor\": \"white\", \"gridwidth\": 2, \"linecolor\": \"white\", \"showbackground\": true, \"ticks\": \"\", \"zerolinecolor\": \"white\"}, \"yaxis\": {\"backgroundcolor\": \"#E5ECF6\", \"gridcolor\": \"white\", \"gridwidth\": 2, \"linecolor\": \"white\", \"showbackground\": true, \"ticks\": \"\", \"zerolinecolor\": \"white\"}, \"zaxis\": {\"backgroundcolor\": \"#E5ECF6\", \"gridcolor\": \"white\", \"gridwidth\": 2, \"linecolor\": \"white\", \"showbackground\": true, \"ticks\": \"\", \"zerolinecolor\": \"white\"}}, \"shapedefaults\": {\"line\": {\"color\": \"#2a3f5f\"}}, \"ternary\": {\"aaxis\": {\"gridcolor\": \"white\", \"linecolor\": \"white\", \"ticks\": \"\"}, \"baxis\": {\"gridcolor\": \"white\", \"linecolor\": \"white\", \"ticks\": \"\"}, \"bgcolor\": \"#E5ECF6\", \"caxis\": {\"gridcolor\": \"white\", \"linecolor\": \"white\", \"ticks\": \"\"}}, \"title\": {\"x\": 0.05}, \"xaxis\": {\"automargin\": true, \"gridcolor\": \"white\", \"linecolor\": \"white\", \"ticks\": \"\", \"title\": {\"standoff\": 15}, \"zerolinecolor\": \"white\", \"zerolinewidth\": 2}, \"yaxis\": {\"automargin\": true, \"gridcolor\": \"white\", \"linecolor\": \"white\", \"ticks\": \"\", \"title\": {\"standoff\": 15}, \"zerolinecolor\": \"white\", \"zerolinewidth\": 2}}}, \"xaxis\": {\"anchor\": \"y\", \"domain\": [0.0, 1.0]}, \"yaxis\": {\"anchor\": \"x\", \"domain\": [0.0, 1.0], \"title\": {\"text\": \"accuracy\"}}},\n",
              "                        {\"responsive\": true}\n",
              "                    ).then(function(){\n",
              "                            \n",
              "var gd = document.getElementById('59e24b9b-24be-4a48-8971-da7705667935');\n",
              "var x = new MutationObserver(function (mutations, observer) {{\n",
              "        var display = window.getComputedStyle(gd).display;\n",
              "        if (!display || display === 'none') {{\n",
              "            console.log([gd, 'removed!']);\n",
              "            Plotly.purge(gd);\n",
              "            observer.disconnect();\n",
              "        }}\n",
              "}});\n",
              "\n",
              "// Listen for the removal of the full notebook cells\n",
              "var notebookContainer = gd.closest('#notebook-container');\n",
              "if (notebookContainer) {{\n",
              "    x.observe(notebookContainer, {childList: true});\n",
              "}}\n",
              "\n",
              "// Listen for the clearing of the current output cell\n",
              "var outputEl = gd.closest('.output');\n",
              "if (outputEl) {{\n",
              "    x.observe(outputEl, {childList: true});\n",
              "}}\n",
              "\n",
              "                        })\n",
              "                };\n",
              "                \n",
              "            </script>\n",
              "        </div>\n",
              "</body>\n",
              "</html>"
            ]
          },
          "metadata": {
            "tags": []
          }
        }
      ]
    },
    {
      "cell_type": "code",
      "metadata": {
        "id": "QRFU9lyVbKMI",
        "colab_type": "code",
        "outputId": "cd061afd-16bc-4e93-aa1c-29b6c45e5f37",
        "colab": {
          "base_uri": "https://localhost:8080/",
          "height": 34
        }
      },
      "source": [
        "print(f'Le score moyen de la cross validation est : {np.mean(scores)}')"
      ],
      "execution_count": 0,
      "outputs": [
        {
          "output_type": "stream",
          "text": [
            "Le score moyen de la cross validation est : 0.9274900398406374\n"
          ],
          "name": "stdout"
        }
      ]
    },
    {
      "cell_type": "code",
      "metadata": {
        "id": "A41HMHLUbtol",
        "colab_type": "code",
        "colab": {}
      },
      "source": [
        "svc_wc = LinearSVC()"
      ],
      "execution_count": 0,
      "outputs": []
    },
    {
      "cell_type": "code",
      "metadata": {
        "id": "LaOb7ry7bz-e",
        "colab_type": "code",
        "outputId": "09b88284-080c-4c7a-b4eb-b17103e1a0d3",
        "colab": {
          "base_uri": "https://localhost:8080/",
          "height": 85
        }
      },
      "source": [
        "svc.fit(vect_corpus_wc, y_train)"
      ],
      "execution_count": 0,
      "outputs": [
        {
          "output_type": "execute_result",
          "data": {
            "text/plain": [
              "LinearSVC(C=1.0, class_weight=None, dual=True, fit_intercept=True,\n",
              "          intercept_scaling=1, loss='squared_hinge', max_iter=1000,\n",
              "          multi_class='ovr', penalty='l2', random_state=None, tol=0.0001,\n",
              "          verbose=0)"
            ]
          },
          "metadata": {
            "tags": []
          },
          "execution_count": 85
        }
      ]
    },
    {
      "cell_type": "code",
      "metadata": {
        "id": "lffWfjx0b44p",
        "colab_type": "code",
        "colab": {}
      },
      "source": [
        "prediction_11_wc = svc.predict(vect_test_corpus_wc)"
      ],
      "execution_count": 0,
      "outputs": []
    },
    {
      "cell_type": "markdown",
      "metadata": {
        "id": "ODcoJOi-c3tQ",
        "colab_type": "text"
      },
      "source": [
        "### **Resultat SVC + TFIDF(ngram=(1,1), analyzer='word') + TFIDF(ngram=(1,1), analyzer='char')**"
      ]
    },
    {
      "cell_type": "code",
      "metadata": {
        "id": "WvjzE_R4cKch",
        "colab_type": "code",
        "outputId": "7ffe3dae-cdc7-41cd-908d-f49f8f15ac93",
        "colab": {
          "base_uri": "https://localhost:8080/",
          "height": 187
        }
      },
      "source": [
        "print(classification_report(y_test, prediction_11_wc))"
      ],
      "execution_count": 0,
      "outputs": [
        {
          "output_type": "stream",
          "text": [
            "              precision    recall  f1-score   support\n",
            "\n",
            "           7       0.91      0.96      0.94       178\n",
            "          10       0.99      0.93      0.96       180\n",
            "          15       0.95      0.96      0.95       180\n",
            "\n",
            "    accuracy                           0.95       538\n",
            "   macro avg       0.95      0.95      0.95       538\n",
            "weighted avg       0.95      0.95      0.95       538\n",
            "\n"
          ],
          "name": "stdout"
        }
      ]
    },
    {
      "cell_type": "code",
      "metadata": {
        "id": "S2MTDXOzcSpo",
        "colab_type": "code",
        "colab": {}
      },
      "source": [
        "scores = cross_val_score(svc_wc, vect_corpus_wc, y_train,scoring='accuracy')"
      ],
      "execution_count": 0,
      "outputs": []
    },
    {
      "cell_type": "code",
      "metadata": {
        "id": "v-hDfqMdckYg",
        "colab_type": "code",
        "outputId": "f71c2e22-d44a-444b-ff7c-4c5a91c9c413",
        "colab": {
          "base_uri": "https://localhost:8080/",
          "height": 542
        }
      },
      "source": [
        "px.scatter(pd.DataFrame({'accuracy' : scores}), y='accuracy')"
      ],
      "execution_count": 0,
      "outputs": [
        {
          "output_type": "display_data",
          "data": {
            "text/html": [
              "<html>\n",
              "<head><meta charset=\"utf-8\" /></head>\n",
              "<body>\n",
              "    <div>\n",
              "            <script src=\"https://cdnjs.cloudflare.com/ajax/libs/mathjax/2.7.5/MathJax.js?config=TeX-AMS-MML_SVG\"></script><script type=\"text/javascript\">if (window.MathJax) {MathJax.Hub.Config({SVG: {font: \"STIX-Web\"}});}</script>\n",
              "                <script type=\"text/javascript\">window.PlotlyConfig = {MathJaxConfig: 'local'};</script>\n",
              "        <script src=\"https://cdn.plot.ly/plotly-latest.min.js\"></script>    \n",
              "            <div id=\"94dfc542-97ec-46b7-bbb4-ebbef4abbf88\" class=\"plotly-graph-div\" style=\"height:525px; width:100%;\"></div>\n",
              "            <script type=\"text/javascript\">\n",
              "                \n",
              "                    window.PLOTLYENV=window.PLOTLYENV || {};\n",
              "                    \n",
              "                if (document.getElementById(\"94dfc542-97ec-46b7-bbb4-ebbef4abbf88\")) {\n",
              "                    Plotly.newPlot(\n",
              "                        '94dfc542-97ec-46b7-bbb4-ebbef4abbf88',\n",
              "                        [{\"hoverlabel\": {\"namelength\": 0}, \"hovertemplate\": \"accuracy=%{y}\", \"legendgroup\": \"\", \"marker\": {\"color\": \"#636efa\", \"symbol\": \"circle\"}, \"mode\": \"markers\", \"name\": \"\", \"showlegend\": false, \"type\": \"scatter\", \"xaxis\": \"x\", \"y\": [0.9243027888446215, 0.9362549800796812, 0.9163346613545816, 0.952191235059761, 0.9362549800796812], \"yaxis\": \"y\"}],\n",
              "                        {\"legend\": {\"tracegroupgap\": 0}, \"margin\": {\"t\": 60}, \"template\": {\"data\": {\"bar\": [{\"error_x\": {\"color\": \"#2a3f5f\"}, \"error_y\": {\"color\": \"#2a3f5f\"}, \"marker\": {\"line\": {\"color\": \"#E5ECF6\", \"width\": 0.5}}, \"type\": \"bar\"}], \"barpolar\": [{\"marker\": {\"line\": {\"color\": \"#E5ECF6\", \"width\": 0.5}}, \"type\": \"barpolar\"}], \"carpet\": [{\"aaxis\": {\"endlinecolor\": \"#2a3f5f\", \"gridcolor\": \"white\", \"linecolor\": \"white\", \"minorgridcolor\": \"white\", \"startlinecolor\": \"#2a3f5f\"}, \"baxis\": {\"endlinecolor\": \"#2a3f5f\", \"gridcolor\": \"white\", \"linecolor\": \"white\", \"minorgridcolor\": \"white\", \"startlinecolor\": \"#2a3f5f\"}, \"type\": \"carpet\"}], \"choropleth\": [{\"colorbar\": {\"outlinewidth\": 0, \"ticks\": \"\"}, \"type\": \"choropleth\"}], \"contour\": [{\"colorbar\": {\"outlinewidth\": 0, \"ticks\": \"\"}, \"colorscale\": [[0.0, \"#0d0887\"], [0.1111111111111111, \"#46039f\"], [0.2222222222222222, \"#7201a8\"], [0.3333333333333333, \"#9c179e\"], [0.4444444444444444, \"#bd3786\"], [0.5555555555555556, \"#d8576b\"], [0.6666666666666666, \"#ed7953\"], [0.7777777777777778, \"#fb9f3a\"], [0.8888888888888888, \"#fdca26\"], [1.0, \"#f0f921\"]], \"type\": \"contour\"}], \"contourcarpet\": [{\"colorbar\": {\"outlinewidth\": 0, \"ticks\": \"\"}, \"type\": \"contourcarpet\"}], \"heatmap\": [{\"colorbar\": {\"outlinewidth\": 0, \"ticks\": \"\"}, \"colorscale\": [[0.0, \"#0d0887\"], [0.1111111111111111, \"#46039f\"], [0.2222222222222222, \"#7201a8\"], [0.3333333333333333, \"#9c179e\"], [0.4444444444444444, \"#bd3786\"], [0.5555555555555556, \"#d8576b\"], [0.6666666666666666, \"#ed7953\"], [0.7777777777777778, \"#fb9f3a\"], [0.8888888888888888, \"#fdca26\"], [1.0, \"#f0f921\"]], \"type\": \"heatmap\"}], \"heatmapgl\": [{\"colorbar\": {\"outlinewidth\": 0, \"ticks\": \"\"}, \"colorscale\": [[0.0, \"#0d0887\"], [0.1111111111111111, \"#46039f\"], [0.2222222222222222, \"#7201a8\"], [0.3333333333333333, \"#9c179e\"], [0.4444444444444444, \"#bd3786\"], [0.5555555555555556, \"#d8576b\"], [0.6666666666666666, \"#ed7953\"], [0.7777777777777778, \"#fb9f3a\"], [0.8888888888888888, \"#fdca26\"], [1.0, \"#f0f921\"]], \"type\": \"heatmapgl\"}], \"histogram\": [{\"marker\": {\"colorbar\": {\"outlinewidth\": 0, \"ticks\": \"\"}}, \"type\": \"histogram\"}], \"histogram2d\": [{\"colorbar\": {\"outlinewidth\": 0, \"ticks\": \"\"}, \"colorscale\": [[0.0, \"#0d0887\"], [0.1111111111111111, \"#46039f\"], [0.2222222222222222, \"#7201a8\"], [0.3333333333333333, \"#9c179e\"], [0.4444444444444444, \"#bd3786\"], [0.5555555555555556, \"#d8576b\"], [0.6666666666666666, \"#ed7953\"], [0.7777777777777778, \"#fb9f3a\"], [0.8888888888888888, \"#fdca26\"], [1.0, \"#f0f921\"]], \"type\": \"histogram2d\"}], \"histogram2dcontour\": [{\"colorbar\": {\"outlinewidth\": 0, \"ticks\": \"\"}, \"colorscale\": [[0.0, \"#0d0887\"], [0.1111111111111111, \"#46039f\"], [0.2222222222222222, \"#7201a8\"], [0.3333333333333333, \"#9c179e\"], [0.4444444444444444, \"#bd3786\"], [0.5555555555555556, \"#d8576b\"], [0.6666666666666666, \"#ed7953\"], [0.7777777777777778, \"#fb9f3a\"], [0.8888888888888888, \"#fdca26\"], [1.0, \"#f0f921\"]], \"type\": \"histogram2dcontour\"}], \"mesh3d\": [{\"colorbar\": {\"outlinewidth\": 0, \"ticks\": \"\"}, \"type\": \"mesh3d\"}], \"parcoords\": [{\"line\": {\"colorbar\": {\"outlinewidth\": 0, \"ticks\": \"\"}}, \"type\": \"parcoords\"}], \"pie\": [{\"automargin\": true, \"type\": \"pie\"}], \"scatter\": [{\"marker\": {\"colorbar\": {\"outlinewidth\": 0, \"ticks\": \"\"}}, \"type\": \"scatter\"}], \"scatter3d\": [{\"line\": {\"colorbar\": {\"outlinewidth\": 0, \"ticks\": \"\"}}, \"marker\": {\"colorbar\": {\"outlinewidth\": 0, \"ticks\": \"\"}}, \"type\": \"scatter3d\"}], \"scattercarpet\": [{\"marker\": {\"colorbar\": {\"outlinewidth\": 0, \"ticks\": \"\"}}, \"type\": \"scattercarpet\"}], \"scattergeo\": [{\"marker\": {\"colorbar\": {\"outlinewidth\": 0, \"ticks\": \"\"}}, \"type\": \"scattergeo\"}], \"scattergl\": [{\"marker\": {\"colorbar\": {\"outlinewidth\": 0, \"ticks\": \"\"}}, \"type\": \"scattergl\"}], \"scattermapbox\": [{\"marker\": {\"colorbar\": {\"outlinewidth\": 0, \"ticks\": \"\"}}, \"type\": \"scattermapbox\"}], \"scatterpolar\": [{\"marker\": {\"colorbar\": {\"outlinewidth\": 0, \"ticks\": \"\"}}, \"type\": \"scatterpolar\"}], \"scatterpolargl\": [{\"marker\": {\"colorbar\": {\"outlinewidth\": 0, \"ticks\": \"\"}}, \"type\": \"scatterpolargl\"}], \"scatterternary\": [{\"marker\": {\"colorbar\": {\"outlinewidth\": 0, \"ticks\": \"\"}}, \"type\": \"scatterternary\"}], \"surface\": [{\"colorbar\": {\"outlinewidth\": 0, \"ticks\": \"\"}, \"colorscale\": [[0.0, \"#0d0887\"], [0.1111111111111111, \"#46039f\"], [0.2222222222222222, \"#7201a8\"], [0.3333333333333333, \"#9c179e\"], [0.4444444444444444, \"#bd3786\"], [0.5555555555555556, \"#d8576b\"], [0.6666666666666666, \"#ed7953\"], [0.7777777777777778, \"#fb9f3a\"], [0.8888888888888888, \"#fdca26\"], [1.0, \"#f0f921\"]], \"type\": \"surface\"}], \"table\": [{\"cells\": {\"fill\": {\"color\": \"#EBF0F8\"}, \"line\": {\"color\": \"white\"}}, \"header\": {\"fill\": {\"color\": \"#C8D4E3\"}, \"line\": {\"color\": \"white\"}}, \"type\": \"table\"}]}, \"layout\": {\"annotationdefaults\": {\"arrowcolor\": \"#2a3f5f\", \"arrowhead\": 0, \"arrowwidth\": 1}, \"coloraxis\": {\"colorbar\": {\"outlinewidth\": 0, \"ticks\": \"\"}}, \"colorscale\": {\"diverging\": [[0, \"#8e0152\"], [0.1, \"#c51b7d\"], [0.2, \"#de77ae\"], [0.3, \"#f1b6da\"], [0.4, \"#fde0ef\"], [0.5, \"#f7f7f7\"], [0.6, \"#e6f5d0\"], [0.7, \"#b8e186\"], [0.8, \"#7fbc41\"], [0.9, \"#4d9221\"], [1, \"#276419\"]], \"sequential\": [[0.0, \"#0d0887\"], [0.1111111111111111, \"#46039f\"], [0.2222222222222222, \"#7201a8\"], [0.3333333333333333, \"#9c179e\"], [0.4444444444444444, \"#bd3786\"], [0.5555555555555556, \"#d8576b\"], [0.6666666666666666, \"#ed7953\"], [0.7777777777777778, \"#fb9f3a\"], [0.8888888888888888, \"#fdca26\"], [1.0, \"#f0f921\"]], \"sequentialminus\": [[0.0, \"#0d0887\"], [0.1111111111111111, \"#46039f\"], [0.2222222222222222, \"#7201a8\"], [0.3333333333333333, \"#9c179e\"], [0.4444444444444444, \"#bd3786\"], [0.5555555555555556, \"#d8576b\"], [0.6666666666666666, \"#ed7953\"], [0.7777777777777778, \"#fb9f3a\"], [0.8888888888888888, \"#fdca26\"], [1.0, \"#f0f921\"]]}, \"colorway\": [\"#636efa\", \"#EF553B\", \"#00cc96\", \"#ab63fa\", \"#FFA15A\", \"#19d3f3\", \"#FF6692\", \"#B6E880\", \"#FF97FF\", \"#FECB52\"], \"font\": {\"color\": \"#2a3f5f\"}, \"geo\": {\"bgcolor\": \"white\", \"lakecolor\": \"white\", \"landcolor\": \"#E5ECF6\", \"showlakes\": true, \"showland\": true, \"subunitcolor\": \"white\"}, \"hoverlabel\": {\"align\": \"left\"}, \"hovermode\": \"closest\", \"mapbox\": {\"style\": \"light\"}, \"paper_bgcolor\": \"white\", \"plot_bgcolor\": \"#E5ECF6\", \"polar\": {\"angularaxis\": {\"gridcolor\": \"white\", \"linecolor\": \"white\", \"ticks\": \"\"}, \"bgcolor\": \"#E5ECF6\", \"radialaxis\": {\"gridcolor\": \"white\", \"linecolor\": \"white\", \"ticks\": \"\"}}, \"scene\": {\"xaxis\": {\"backgroundcolor\": \"#E5ECF6\", \"gridcolor\": \"white\", \"gridwidth\": 2, \"linecolor\": \"white\", \"showbackground\": true, \"ticks\": \"\", \"zerolinecolor\": \"white\"}, \"yaxis\": {\"backgroundcolor\": \"#E5ECF6\", \"gridcolor\": \"white\", \"gridwidth\": 2, \"linecolor\": \"white\", \"showbackground\": true, \"ticks\": \"\", \"zerolinecolor\": \"white\"}, \"zaxis\": {\"backgroundcolor\": \"#E5ECF6\", \"gridcolor\": \"white\", \"gridwidth\": 2, \"linecolor\": \"white\", \"showbackground\": true, \"ticks\": \"\", \"zerolinecolor\": \"white\"}}, \"shapedefaults\": {\"line\": {\"color\": \"#2a3f5f\"}}, \"ternary\": {\"aaxis\": {\"gridcolor\": \"white\", \"linecolor\": \"white\", \"ticks\": \"\"}, \"baxis\": {\"gridcolor\": \"white\", \"linecolor\": \"white\", \"ticks\": \"\"}, \"bgcolor\": \"#E5ECF6\", \"caxis\": {\"gridcolor\": \"white\", \"linecolor\": \"white\", \"ticks\": \"\"}}, \"title\": {\"x\": 0.05}, \"xaxis\": {\"automargin\": true, \"gridcolor\": \"white\", \"linecolor\": \"white\", \"ticks\": \"\", \"title\": {\"standoff\": 15}, \"zerolinecolor\": \"white\", \"zerolinewidth\": 2}, \"yaxis\": {\"automargin\": true, \"gridcolor\": \"white\", \"linecolor\": \"white\", \"ticks\": \"\", \"title\": {\"standoff\": 15}, \"zerolinecolor\": \"white\", \"zerolinewidth\": 2}}}, \"xaxis\": {\"anchor\": \"y\", \"domain\": [0.0, 1.0]}, \"yaxis\": {\"anchor\": \"x\", \"domain\": [0.0, 1.0], \"title\": {\"text\": \"accuracy\"}}},\n",
              "                        {\"responsive\": true}\n",
              "                    ).then(function(){\n",
              "                            \n",
              "var gd = document.getElementById('94dfc542-97ec-46b7-bbb4-ebbef4abbf88');\n",
              "var x = new MutationObserver(function (mutations, observer) {{\n",
              "        var display = window.getComputedStyle(gd).display;\n",
              "        if (!display || display === 'none') {{\n",
              "            console.log([gd, 'removed!']);\n",
              "            Plotly.purge(gd);\n",
              "            observer.disconnect();\n",
              "        }}\n",
              "}});\n",
              "\n",
              "// Listen for the removal of the full notebook cells\n",
              "var notebookContainer = gd.closest('#notebook-container');\n",
              "if (notebookContainer) {{\n",
              "    x.observe(notebookContainer, {childList: true});\n",
              "}}\n",
              "\n",
              "// Listen for the clearing of the current output cell\n",
              "var outputEl = gd.closest('.output');\n",
              "if (outputEl) {{\n",
              "    x.observe(outputEl, {childList: true});\n",
              "}}\n",
              "\n",
              "                        })\n",
              "                };\n",
              "                \n",
              "            </script>\n",
              "        </div>\n",
              "</body>\n",
              "</html>"
            ]
          },
          "metadata": {
            "tags": []
          }
        }
      ]
    },
    {
      "cell_type": "code",
      "metadata": {
        "id": "jZX6G4NdcZF1",
        "colab_type": "code",
        "outputId": "47fe0179-6266-4a44-ba9c-3524e709ee28",
        "colab": {
          "base_uri": "https://localhost:8080/",
          "height": 34
        }
      },
      "source": [
        "print(f'Le score moyen de la cross validation est : {np.mean(scores)}')"
      ],
      "execution_count": 0,
      "outputs": [
        {
          "output_type": "stream",
          "text": [
            "Le score moyen de la cross validation est : 0.9330677290836652\n"
          ],
          "name": "stdout"
        }
      ]
    },
    {
      "cell_type": "markdown",
      "metadata": {
        "id": "2gJ2EMXmdE9L",
        "colab_type": "text"
      },
      "source": [
        "L'ajout des matrices de notre char vectorizer améliore les performances de notre modèle de 1.2%. Je tiens à préciser que le paramètres de notre modèle n'ont pas été optimisés. On peut donc espérer observer des performances beaucoup plus intéressante.   \n",
        "\n",
        "Ici la taille de notre vocabulaire était de 15000 mots."
      ]
    },
    {
      "cell_type": "markdown",
      "metadata": {
        "id": "4kief7K9mcNP",
        "colab_type": "text"
      },
      "source": [
        "\n",
        "### **NGRAM_RANGE=(1,2)**"
      ]
    },
    {
      "cell_type": "markdown",
      "metadata": {
        "id": "YWcZ_s97eL31",
        "colab_type": "text"
      },
      "source": [
        "**Nous allons augmenter la notre range à (1,2)** Mais nous allons aussi supprimer dans un premier temps le paramètre max_feature. Afin de ne pas supprimer l'information.  "
      ]
    },
    {
      "cell_type": "code",
      "metadata": {
        "id": "DfM_7vgtflCi",
        "colab_type": "code",
        "colab": {}
      },
      "source": [
        "vect_word_2 = TfidfVectorizer(analyzer='word', tokenizer=prepareText, ngram_range=(1,2), dtype=np.float32)"
      ],
      "execution_count": 0,
      "outputs": []
    },
    {
      "cell_type": "code",
      "metadata": {
        "id": "OgSFNHfjfw4b",
        "colab_type": "code",
        "outputId": "6e0f646c-cd93-4a6e-8529-9d268e3752f8",
        "colab": {
          "base_uri": "https://localhost:8080/",
          "height": 51
        }
      },
      "source": [
        "%%time \n",
        "vec_corpus_word_2 = vect_word_2.fit_transform(x_train)"
      ],
      "execution_count": 0,
      "outputs": [
        {
          "output_type": "stream",
          "text": [
            "CPU times: user 48.3 s, sys: 292 ms, total: 48.6 s\n",
            "Wall time: 48.7 s\n"
          ],
          "name": "stdout"
        }
      ]
    },
    {
      "cell_type": "code",
      "metadata": {
        "id": "X7eA6QnBf76Q",
        "colab_type": "code",
        "colab": {}
      },
      "source": [
        "vec_test_corpus_word_2 = vect_word_2.transform(x_test)"
      ],
      "execution_count": 0,
      "outputs": []
    },
    {
      "cell_type": "code",
      "metadata": {
        "id": "zrfkPCe1f_hJ",
        "colab_type": "code",
        "outputId": "e0e2f28b-f81b-4a32-dc44-fbb346a7e827",
        "colab": {
          "base_uri": "https://localhost:8080/",
          "height": 34
        }
      },
      "source": [
        "print(f'La taille du vocabulaire avec ngram_range=(1,2) : {len(vect_word_2.vocabulary_)}')"
      ],
      "execution_count": 0,
      "outputs": [
        {
          "output_type": "stream",
          "text": [
            "La taille du vocabulaire avec ngram_range=(1,2) : 92307\n"
          ],
          "name": "stdout"
        }
      ]
    },
    {
      "cell_type": "markdown",
      "metadata": {
        "id": "XUGRTEfug023",
        "colab_type": "text"
      },
      "source": [
        "**On rappel que notre vocabulaire d'origin faisait 15000 mots après cleaning. ça taille à donc été multiplié par 6.**"
      ]
    },
    {
      "cell_type": "code",
      "metadata": {
        "id": "dHk0dRBdgjPP",
        "colab_type": "code",
        "colab": {}
      },
      "source": [
        "vec_corpus_wc_2 = sparse.hstack([vec_corpus_word_2, vect_corpus_char])"
      ],
      "execution_count": 0,
      "outputs": []
    },
    {
      "cell_type": "code",
      "metadata": {
        "id": "Aa4S09j-hiFp",
        "colab_type": "code",
        "colab": {}
      },
      "source": [
        "vec_test_corpus_wc_2 = sparse.hstack([vec_test_corpus_word_2, vect_test_corpus_char])"
      ],
      "execution_count": 0,
      "outputs": []
    },
    {
      "cell_type": "code",
      "metadata": {
        "id": "dvdWLvWVhRDc",
        "colab_type": "code",
        "colab": {}
      },
      "source": [
        "svc_wc2 = LinearSVC()\n",
        "svc_2 = LinearSVC()"
      ],
      "execution_count": 0,
      "outputs": []
    },
    {
      "cell_type": "code",
      "metadata": {
        "id": "Q99eQTFahZzu",
        "colab_type": "code",
        "outputId": "f605c8a2-eb7b-49e7-bdd2-c93729228f8c",
        "colab": {
          "base_uri": "https://localhost:8080/",
          "height": 85
        }
      },
      "source": [
        "svc_wc2.fit(vec_corpus_wc_2, y_train)"
      ],
      "execution_count": 0,
      "outputs": [
        {
          "output_type": "execute_result",
          "data": {
            "text/plain": [
              "LinearSVC(C=1.0, class_weight=None, dual=True, fit_intercept=True,\n",
              "          intercept_scaling=1, loss='squared_hinge', max_iter=1000,\n",
              "          multi_class='ovr', penalty='l2', random_state=None, tol=0.0001,\n",
              "          verbose=0)"
            ]
          },
          "metadata": {
            "tags": []
          },
          "execution_count": 98
        }
      ]
    },
    {
      "cell_type": "code",
      "metadata": {
        "id": "TSCGt6tWiitv",
        "colab_type": "code",
        "outputId": "ccd4eefb-4e15-4b54-ac8a-44b476aab4ff",
        "colab": {
          "base_uri": "https://localhost:8080/",
          "height": 85
        }
      },
      "source": [
        "svc_2.fit(vec_corpus_word_2, y_train)"
      ],
      "execution_count": 0,
      "outputs": [
        {
          "output_type": "execute_result",
          "data": {
            "text/plain": [
              "LinearSVC(C=1.0, class_weight=None, dual=True, fit_intercept=True,\n",
              "          intercept_scaling=1, loss='squared_hinge', max_iter=1000,\n",
              "          multi_class='ovr', penalty='l2', random_state=None, tol=0.0001,\n",
              "          verbose=0)"
            ]
          },
          "metadata": {
            "tags": []
          },
          "execution_count": 99
        }
      ]
    },
    {
      "cell_type": "code",
      "metadata": {
        "id": "rcExi5CMir7f",
        "colab_type": "code",
        "colab": {}
      },
      "source": [
        "prediction_2 = svc_2.predict(vec_test_corpus_word_2)"
      ],
      "execution_count": 0,
      "outputs": []
    },
    {
      "cell_type": "code",
      "metadata": {
        "id": "wKHxdRtvi7lt",
        "colab_type": "code",
        "colab": {}
      },
      "source": [
        "prediction_2_wc = svc_wc2.predict(vec_test_corpus_wc_2)"
      ],
      "execution_count": 0,
      "outputs": []
    },
    {
      "cell_type": "markdown",
      "metadata": {
        "id": "QIbvaMRAjmSk",
        "colab_type": "text"
      },
      "source": [
        "#### **Résultat SVC + TFIDF(ngram_range =(1,2) , analyzer='word')**\n",
        "\n",
        "---\n",
        "\n"
      ]
    },
    {
      "cell_type": "code",
      "metadata": {
        "id": "PjJ0ckCZjCTN",
        "colab_type": "code",
        "outputId": "5b678029-3352-46e4-8b9d-8777816c331f",
        "colab": {
          "base_uri": "https://localhost:8080/",
          "height": 187
        }
      },
      "source": [
        "print(classification_report(y_test, prediction_2))"
      ],
      "execution_count": 0,
      "outputs": [
        {
          "output_type": "stream",
          "text": [
            "              precision    recall  f1-score   support\n",
            "\n",
            "           7       0.93      0.94      0.94       178\n",
            "          10       0.98      0.94      0.96       180\n",
            "          15       0.94      0.96      0.95       180\n",
            "\n",
            "    accuracy                           0.95       538\n",
            "   macro avg       0.95      0.95      0.95       538\n",
            "weighted avg       0.95      0.95      0.95       538\n",
            "\n"
          ],
          "name": "stdout"
        }
      ]
    },
    {
      "cell_type": "code",
      "metadata": {
        "id": "7bwRosvUkZpY",
        "colab_type": "code",
        "colab": {}
      },
      "source": [
        "scores_2 = cross_val_score(svc_2, vec_corpus_word_2, y_train,scoring='accuracy')"
      ],
      "execution_count": 0,
      "outputs": []
    },
    {
      "cell_type": "code",
      "metadata": {
        "id": "pZG3EXYrkuIw",
        "colab_type": "code",
        "outputId": "54327fef-2e0b-4d57-9c61-a15a7568926e",
        "colab": {
          "base_uri": "https://localhost:8080/",
          "height": 542
        }
      },
      "source": [
        "px.scatter(pd.DataFrame({'accuracy' : scores_2}), y='accuracy')"
      ],
      "execution_count": 0,
      "outputs": [
        {
          "output_type": "display_data",
          "data": {
            "text/html": [
              "<html>\n",
              "<head><meta charset=\"utf-8\" /></head>\n",
              "<body>\n",
              "    <div>\n",
              "            <script src=\"https://cdnjs.cloudflare.com/ajax/libs/mathjax/2.7.5/MathJax.js?config=TeX-AMS-MML_SVG\"></script><script type=\"text/javascript\">if (window.MathJax) {MathJax.Hub.Config({SVG: {font: \"STIX-Web\"}});}</script>\n",
              "                <script type=\"text/javascript\">window.PlotlyConfig = {MathJaxConfig: 'local'};</script>\n",
              "        <script src=\"https://cdn.plot.ly/plotly-latest.min.js\"></script>    \n",
              "            <div id=\"34d0661a-e8c5-4347-8b3d-f42813020a7a\" class=\"plotly-graph-div\" style=\"height:525px; width:100%;\"></div>\n",
              "            <script type=\"text/javascript\">\n",
              "                \n",
              "                    window.PLOTLYENV=window.PLOTLYENV || {};\n",
              "                    \n",
              "                if (document.getElementById(\"34d0661a-e8c5-4347-8b3d-f42813020a7a\")) {\n",
              "                    Plotly.newPlot(\n",
              "                        '34d0661a-e8c5-4347-8b3d-f42813020a7a',\n",
              "                        [{\"hoverlabel\": {\"namelength\": 0}, \"hovertemplate\": \"accuracy=%{y}\", \"legendgroup\": \"\", \"marker\": {\"color\": \"#636efa\", \"symbol\": \"circle\"}, \"mode\": \"markers\", \"name\": \"\", \"showlegend\": false, \"type\": \"scatter\", \"xaxis\": \"x\", \"y\": [0.9243027888446215, 0.9322709163346613, 0.9123505976095617, 0.9482071713147411, 0.9243027888446215], \"yaxis\": \"y\"}],\n",
              "                        {\"legend\": {\"tracegroupgap\": 0}, \"margin\": {\"t\": 60}, \"template\": {\"data\": {\"bar\": [{\"error_x\": {\"color\": \"#2a3f5f\"}, \"error_y\": {\"color\": \"#2a3f5f\"}, \"marker\": {\"line\": {\"color\": \"#E5ECF6\", \"width\": 0.5}}, \"type\": \"bar\"}], \"barpolar\": [{\"marker\": {\"line\": {\"color\": \"#E5ECF6\", \"width\": 0.5}}, \"type\": \"barpolar\"}], \"carpet\": [{\"aaxis\": {\"endlinecolor\": \"#2a3f5f\", \"gridcolor\": \"white\", \"linecolor\": \"white\", \"minorgridcolor\": \"white\", \"startlinecolor\": \"#2a3f5f\"}, \"baxis\": {\"endlinecolor\": \"#2a3f5f\", \"gridcolor\": \"white\", \"linecolor\": \"white\", \"minorgridcolor\": \"white\", \"startlinecolor\": \"#2a3f5f\"}, \"type\": \"carpet\"}], \"choropleth\": [{\"colorbar\": {\"outlinewidth\": 0, \"ticks\": \"\"}, \"type\": \"choropleth\"}], \"contour\": [{\"colorbar\": {\"outlinewidth\": 0, \"ticks\": \"\"}, \"colorscale\": [[0.0, \"#0d0887\"], [0.1111111111111111, \"#46039f\"], [0.2222222222222222, \"#7201a8\"], [0.3333333333333333, \"#9c179e\"], [0.4444444444444444, \"#bd3786\"], [0.5555555555555556, \"#d8576b\"], [0.6666666666666666, \"#ed7953\"], [0.7777777777777778, \"#fb9f3a\"], [0.8888888888888888, \"#fdca26\"], [1.0, \"#f0f921\"]], \"type\": \"contour\"}], \"contourcarpet\": [{\"colorbar\": {\"outlinewidth\": 0, \"ticks\": \"\"}, \"type\": \"contourcarpet\"}], \"heatmap\": [{\"colorbar\": {\"outlinewidth\": 0, \"ticks\": \"\"}, \"colorscale\": [[0.0, \"#0d0887\"], [0.1111111111111111, \"#46039f\"], [0.2222222222222222, \"#7201a8\"], [0.3333333333333333, \"#9c179e\"], [0.4444444444444444, \"#bd3786\"], [0.5555555555555556, \"#d8576b\"], [0.6666666666666666, \"#ed7953\"], [0.7777777777777778, \"#fb9f3a\"], [0.8888888888888888, \"#fdca26\"], [1.0, \"#f0f921\"]], \"type\": \"heatmap\"}], \"heatmapgl\": [{\"colorbar\": {\"outlinewidth\": 0, \"ticks\": \"\"}, \"colorscale\": [[0.0, \"#0d0887\"], [0.1111111111111111, \"#46039f\"], [0.2222222222222222, \"#7201a8\"], [0.3333333333333333, \"#9c179e\"], [0.4444444444444444, \"#bd3786\"], [0.5555555555555556, \"#d8576b\"], [0.6666666666666666, \"#ed7953\"], [0.7777777777777778, \"#fb9f3a\"], [0.8888888888888888, \"#fdca26\"], [1.0, \"#f0f921\"]], \"type\": \"heatmapgl\"}], \"histogram\": [{\"marker\": {\"colorbar\": {\"outlinewidth\": 0, \"ticks\": \"\"}}, \"type\": \"histogram\"}], \"histogram2d\": [{\"colorbar\": {\"outlinewidth\": 0, \"ticks\": \"\"}, \"colorscale\": [[0.0, \"#0d0887\"], [0.1111111111111111, \"#46039f\"], [0.2222222222222222, \"#7201a8\"], [0.3333333333333333, \"#9c179e\"], [0.4444444444444444, \"#bd3786\"], [0.5555555555555556, \"#d8576b\"], [0.6666666666666666, \"#ed7953\"], [0.7777777777777778, \"#fb9f3a\"], [0.8888888888888888, \"#fdca26\"], [1.0, \"#f0f921\"]], \"type\": \"histogram2d\"}], \"histogram2dcontour\": [{\"colorbar\": {\"outlinewidth\": 0, \"ticks\": \"\"}, \"colorscale\": [[0.0, \"#0d0887\"], [0.1111111111111111, \"#46039f\"], [0.2222222222222222, \"#7201a8\"], [0.3333333333333333, \"#9c179e\"], [0.4444444444444444, \"#bd3786\"], [0.5555555555555556, \"#d8576b\"], [0.6666666666666666, \"#ed7953\"], [0.7777777777777778, \"#fb9f3a\"], [0.8888888888888888, \"#fdca26\"], [1.0, \"#f0f921\"]], \"type\": \"histogram2dcontour\"}], \"mesh3d\": [{\"colorbar\": {\"outlinewidth\": 0, \"ticks\": \"\"}, \"type\": \"mesh3d\"}], \"parcoords\": [{\"line\": {\"colorbar\": {\"outlinewidth\": 0, \"ticks\": \"\"}}, \"type\": \"parcoords\"}], \"pie\": [{\"automargin\": true, \"type\": \"pie\"}], \"scatter\": [{\"marker\": {\"colorbar\": {\"outlinewidth\": 0, \"ticks\": \"\"}}, \"type\": \"scatter\"}], \"scatter3d\": [{\"line\": {\"colorbar\": {\"outlinewidth\": 0, \"ticks\": \"\"}}, \"marker\": {\"colorbar\": {\"outlinewidth\": 0, \"ticks\": \"\"}}, \"type\": \"scatter3d\"}], \"scattercarpet\": [{\"marker\": {\"colorbar\": {\"outlinewidth\": 0, \"ticks\": \"\"}}, \"type\": \"scattercarpet\"}], \"scattergeo\": [{\"marker\": {\"colorbar\": {\"outlinewidth\": 0, \"ticks\": \"\"}}, \"type\": \"scattergeo\"}], \"scattergl\": [{\"marker\": {\"colorbar\": {\"outlinewidth\": 0, \"ticks\": \"\"}}, \"type\": \"scattergl\"}], \"scattermapbox\": [{\"marker\": {\"colorbar\": {\"outlinewidth\": 0, \"ticks\": \"\"}}, \"type\": \"scattermapbox\"}], \"scatterpolar\": [{\"marker\": {\"colorbar\": {\"outlinewidth\": 0, \"ticks\": \"\"}}, \"type\": \"scatterpolar\"}], \"scatterpolargl\": [{\"marker\": {\"colorbar\": {\"outlinewidth\": 0, \"ticks\": \"\"}}, \"type\": \"scatterpolargl\"}], \"scatterternary\": [{\"marker\": {\"colorbar\": {\"outlinewidth\": 0, \"ticks\": \"\"}}, \"type\": \"scatterternary\"}], \"surface\": [{\"colorbar\": {\"outlinewidth\": 0, \"ticks\": \"\"}, \"colorscale\": [[0.0, \"#0d0887\"], [0.1111111111111111, \"#46039f\"], [0.2222222222222222, \"#7201a8\"], [0.3333333333333333, \"#9c179e\"], [0.4444444444444444, \"#bd3786\"], [0.5555555555555556, \"#d8576b\"], [0.6666666666666666, \"#ed7953\"], [0.7777777777777778, \"#fb9f3a\"], [0.8888888888888888, \"#fdca26\"], [1.0, \"#f0f921\"]], \"type\": \"surface\"}], \"table\": [{\"cells\": {\"fill\": {\"color\": \"#EBF0F8\"}, \"line\": {\"color\": \"white\"}}, \"header\": {\"fill\": {\"color\": \"#C8D4E3\"}, \"line\": {\"color\": \"white\"}}, \"type\": \"table\"}]}, \"layout\": {\"annotationdefaults\": {\"arrowcolor\": \"#2a3f5f\", \"arrowhead\": 0, \"arrowwidth\": 1}, \"coloraxis\": {\"colorbar\": {\"outlinewidth\": 0, \"ticks\": \"\"}}, \"colorscale\": {\"diverging\": [[0, \"#8e0152\"], [0.1, \"#c51b7d\"], [0.2, \"#de77ae\"], [0.3, \"#f1b6da\"], [0.4, \"#fde0ef\"], [0.5, \"#f7f7f7\"], [0.6, \"#e6f5d0\"], [0.7, \"#b8e186\"], [0.8, \"#7fbc41\"], [0.9, \"#4d9221\"], [1, \"#276419\"]], \"sequential\": [[0.0, \"#0d0887\"], [0.1111111111111111, \"#46039f\"], [0.2222222222222222, \"#7201a8\"], [0.3333333333333333, \"#9c179e\"], [0.4444444444444444, \"#bd3786\"], [0.5555555555555556, \"#d8576b\"], [0.6666666666666666, \"#ed7953\"], [0.7777777777777778, \"#fb9f3a\"], [0.8888888888888888, \"#fdca26\"], [1.0, \"#f0f921\"]], \"sequentialminus\": [[0.0, \"#0d0887\"], [0.1111111111111111, \"#46039f\"], [0.2222222222222222, \"#7201a8\"], [0.3333333333333333, \"#9c179e\"], [0.4444444444444444, \"#bd3786\"], [0.5555555555555556, \"#d8576b\"], [0.6666666666666666, \"#ed7953\"], [0.7777777777777778, \"#fb9f3a\"], [0.8888888888888888, \"#fdca26\"], [1.0, \"#f0f921\"]]}, \"colorway\": [\"#636efa\", \"#EF553B\", \"#00cc96\", \"#ab63fa\", \"#FFA15A\", \"#19d3f3\", \"#FF6692\", \"#B6E880\", \"#FF97FF\", \"#FECB52\"], \"font\": {\"color\": \"#2a3f5f\"}, \"geo\": {\"bgcolor\": \"white\", \"lakecolor\": \"white\", \"landcolor\": \"#E5ECF6\", \"showlakes\": true, \"showland\": true, \"subunitcolor\": \"white\"}, \"hoverlabel\": {\"align\": \"left\"}, \"hovermode\": \"closest\", \"mapbox\": {\"style\": \"light\"}, \"paper_bgcolor\": \"white\", \"plot_bgcolor\": \"#E5ECF6\", \"polar\": {\"angularaxis\": {\"gridcolor\": \"white\", \"linecolor\": \"white\", \"ticks\": \"\"}, \"bgcolor\": \"#E5ECF6\", \"radialaxis\": {\"gridcolor\": \"white\", \"linecolor\": \"white\", \"ticks\": \"\"}}, \"scene\": {\"xaxis\": {\"backgroundcolor\": \"#E5ECF6\", \"gridcolor\": \"white\", \"gridwidth\": 2, \"linecolor\": \"white\", \"showbackground\": true, \"ticks\": \"\", \"zerolinecolor\": \"white\"}, \"yaxis\": {\"backgroundcolor\": \"#E5ECF6\", \"gridcolor\": \"white\", \"gridwidth\": 2, \"linecolor\": \"white\", \"showbackground\": true, \"ticks\": \"\", \"zerolinecolor\": \"white\"}, \"zaxis\": {\"backgroundcolor\": \"#E5ECF6\", \"gridcolor\": \"white\", \"gridwidth\": 2, \"linecolor\": \"white\", \"showbackground\": true, \"ticks\": \"\", \"zerolinecolor\": \"white\"}}, \"shapedefaults\": {\"line\": {\"color\": \"#2a3f5f\"}}, \"ternary\": {\"aaxis\": {\"gridcolor\": \"white\", \"linecolor\": \"white\", \"ticks\": \"\"}, \"baxis\": {\"gridcolor\": \"white\", \"linecolor\": \"white\", \"ticks\": \"\"}, \"bgcolor\": \"#E5ECF6\", \"caxis\": {\"gridcolor\": \"white\", \"linecolor\": \"white\", \"ticks\": \"\"}}, \"title\": {\"x\": 0.05}, \"xaxis\": {\"automargin\": true, \"gridcolor\": \"white\", \"linecolor\": \"white\", \"ticks\": \"\", \"title\": {\"standoff\": 15}, \"zerolinecolor\": \"white\", \"zerolinewidth\": 2}, \"yaxis\": {\"automargin\": true, \"gridcolor\": \"white\", \"linecolor\": \"white\", \"ticks\": \"\", \"title\": {\"standoff\": 15}, \"zerolinecolor\": \"white\", \"zerolinewidth\": 2}}}, \"xaxis\": {\"anchor\": \"y\", \"domain\": [0.0, 1.0]}, \"yaxis\": {\"anchor\": \"x\", \"domain\": [0.0, 1.0], \"title\": {\"text\": \"accuracy\"}}},\n",
              "                        {\"responsive\": true}\n",
              "                    ).then(function(){\n",
              "                            \n",
              "var gd = document.getElementById('34d0661a-e8c5-4347-8b3d-f42813020a7a');\n",
              "var x = new MutationObserver(function (mutations, observer) {{\n",
              "        var display = window.getComputedStyle(gd).display;\n",
              "        if (!display || display === 'none') {{\n",
              "            console.log([gd, 'removed!']);\n",
              "            Plotly.purge(gd);\n",
              "            observer.disconnect();\n",
              "        }}\n",
              "}});\n",
              "\n",
              "// Listen for the removal of the full notebook cells\n",
              "var notebookContainer = gd.closest('#notebook-container');\n",
              "if (notebookContainer) {{\n",
              "    x.observe(notebookContainer, {childList: true});\n",
              "}}\n",
              "\n",
              "// Listen for the clearing of the current output cell\n",
              "var outputEl = gd.closest('.output');\n",
              "if (outputEl) {{\n",
              "    x.observe(outputEl, {childList: true});\n",
              "}}\n",
              "\n",
              "                        })\n",
              "                };\n",
              "                \n",
              "            </script>\n",
              "        </div>\n",
              "</body>\n",
              "</html>"
            ]
          },
          "metadata": {
            "tags": []
          }
        }
      ]
    },
    {
      "cell_type": "code",
      "metadata": {
        "id": "yFlJYwO_kycv",
        "colab_type": "code",
        "outputId": "ee2a6837-e4dc-4c4c-f4db-63f3903f9b42",
        "colab": {
          "base_uri": "https://localhost:8080/",
          "height": 34
        }
      },
      "source": [
        "print(f'Le score moyen de la cross validation avec les ngram est : {np.mean(scores_2)}')"
      ],
      "execution_count": 0,
      "outputs": [
        {
          "output_type": "stream",
          "text": [
            "Le score moyen de la cross validation avec les ngram est : 0.9282868525896413\n"
          ],
          "name": "stdout"
        }
      ]
    },
    {
      "cell_type": "markdown",
      "metadata": {
        "id": "GoN3zHdQlTBt",
        "colab_type": "text"
      },
      "source": [
        "L'exactitude de notre modéle à augmenté de 0.1 %."
      ]
    },
    {
      "cell_type": "markdown",
      "metadata": {
        "id": "2NRXgc6vkGOu",
        "colab_type": "text"
      },
      "source": [
        ""
      ]
    },
    {
      "cell_type": "markdown",
      "metadata": {
        "id": "CWjyPiSsj9af",
        "colab_type": "text"
      },
      "source": [
        "#### **Résultat SVC + TFIDF(ngram_range =(1,2) , analyzer='word') + TFIDF(ngram_range =(2,6) , analyzer='char')**"
      ]
    },
    {
      "cell_type": "code",
      "metadata": {
        "id": "9NEPIvA2jTYc",
        "colab_type": "code",
        "outputId": "7f403a2a-2845-42c5-9ed0-0ccacccb2d51",
        "colab": {
          "base_uri": "https://localhost:8080/",
          "height": 187
        }
      },
      "source": [
        "print(classification_report(y_test, prediction_2_wc))"
      ],
      "execution_count": 0,
      "outputs": [
        {
          "output_type": "stream",
          "text": [
            "              precision    recall  f1-score   support\n",
            "\n",
            "           7       0.89      0.96      0.92       178\n",
            "          10       0.98      0.92      0.95       180\n",
            "          15       0.96      0.94      0.95       180\n",
            "\n",
            "    accuracy                           0.94       538\n",
            "   macro avg       0.94      0.94      0.94       538\n",
            "weighted avg       0.94      0.94      0.94       538\n",
            "\n"
          ],
          "name": "stdout"
        }
      ]
    },
    {
      "cell_type": "code",
      "metadata": {
        "id": "LDyG0ueelmCK",
        "colab_type": "code",
        "colab": {}
      },
      "source": [
        "scores_wc2 = cross_val_score(svc_wc2, vec_corpus_wc_2, y_train,scoring='accuracy')"
      ],
      "execution_count": 0,
      "outputs": []
    },
    {
      "cell_type": "code",
      "metadata": {
        "id": "e5k0m_9glnRK",
        "colab_type": "code",
        "outputId": "d5041096-0139-43be-a948-91f1f894f446",
        "colab": {
          "base_uri": "https://localhost:8080/",
          "height": 542
        }
      },
      "source": [
        "px.scatter(pd.DataFrame({'accuracy' : scores_wc2}), y='accuracy')"
      ],
      "execution_count": 0,
      "outputs": [
        {
          "output_type": "display_data",
          "data": {
            "text/html": [
              "<html>\n",
              "<head><meta charset=\"utf-8\" /></head>\n",
              "<body>\n",
              "    <div>\n",
              "            <script src=\"https://cdnjs.cloudflare.com/ajax/libs/mathjax/2.7.5/MathJax.js?config=TeX-AMS-MML_SVG\"></script><script type=\"text/javascript\">if (window.MathJax) {MathJax.Hub.Config({SVG: {font: \"STIX-Web\"}});}</script>\n",
              "                <script type=\"text/javascript\">window.PlotlyConfig = {MathJaxConfig: 'local'};</script>\n",
              "        <script src=\"https://cdn.plot.ly/plotly-latest.min.js\"></script>    \n",
              "            <div id=\"3e27afc1-9e15-4893-8a9c-dc191d993f30\" class=\"plotly-graph-div\" style=\"height:525px; width:100%;\"></div>\n",
              "            <script type=\"text/javascript\">\n",
              "                \n",
              "                    window.PLOTLYENV=window.PLOTLYENV || {};\n",
              "                    \n",
              "                if (document.getElementById(\"3e27afc1-9e15-4893-8a9c-dc191d993f30\")) {\n",
              "                    Plotly.newPlot(\n",
              "                        '3e27afc1-9e15-4893-8a9c-dc191d993f30',\n",
              "                        [{\"hoverlabel\": {\"namelength\": 0}, \"hovertemplate\": \"accuracy=%{y}\", \"legendgroup\": \"\", \"marker\": {\"color\": \"#636efa\", \"symbol\": \"circle\"}, \"mode\": \"markers\", \"name\": \"\", \"showlegend\": false, \"type\": \"scatter\", \"xaxis\": \"x\", \"y\": [0.9163346613545816, 0.9402390438247012, 0.9123505976095617, 0.952191235059761, 0.9322709163346613], \"yaxis\": \"y\"}],\n",
              "                        {\"legend\": {\"tracegroupgap\": 0}, \"margin\": {\"t\": 60}, \"template\": {\"data\": {\"bar\": [{\"error_x\": {\"color\": \"#2a3f5f\"}, \"error_y\": {\"color\": \"#2a3f5f\"}, \"marker\": {\"line\": {\"color\": \"#E5ECF6\", \"width\": 0.5}}, \"type\": \"bar\"}], \"barpolar\": [{\"marker\": {\"line\": {\"color\": \"#E5ECF6\", \"width\": 0.5}}, \"type\": \"barpolar\"}], \"carpet\": [{\"aaxis\": {\"endlinecolor\": \"#2a3f5f\", \"gridcolor\": \"white\", \"linecolor\": \"white\", \"minorgridcolor\": \"white\", \"startlinecolor\": \"#2a3f5f\"}, \"baxis\": {\"endlinecolor\": \"#2a3f5f\", \"gridcolor\": \"white\", \"linecolor\": \"white\", \"minorgridcolor\": \"white\", \"startlinecolor\": \"#2a3f5f\"}, \"type\": \"carpet\"}], \"choropleth\": [{\"colorbar\": {\"outlinewidth\": 0, \"ticks\": \"\"}, \"type\": \"choropleth\"}], \"contour\": [{\"colorbar\": {\"outlinewidth\": 0, \"ticks\": \"\"}, \"colorscale\": [[0.0, \"#0d0887\"], [0.1111111111111111, \"#46039f\"], [0.2222222222222222, \"#7201a8\"], [0.3333333333333333, \"#9c179e\"], [0.4444444444444444, \"#bd3786\"], [0.5555555555555556, \"#d8576b\"], [0.6666666666666666, \"#ed7953\"], [0.7777777777777778, \"#fb9f3a\"], [0.8888888888888888, \"#fdca26\"], [1.0, \"#f0f921\"]], \"type\": \"contour\"}], \"contourcarpet\": [{\"colorbar\": {\"outlinewidth\": 0, \"ticks\": \"\"}, \"type\": \"contourcarpet\"}], \"heatmap\": [{\"colorbar\": {\"outlinewidth\": 0, \"ticks\": \"\"}, \"colorscale\": [[0.0, \"#0d0887\"], [0.1111111111111111, \"#46039f\"], [0.2222222222222222, \"#7201a8\"], [0.3333333333333333, \"#9c179e\"], [0.4444444444444444, \"#bd3786\"], [0.5555555555555556, \"#d8576b\"], [0.6666666666666666, \"#ed7953\"], [0.7777777777777778, \"#fb9f3a\"], [0.8888888888888888, \"#fdca26\"], [1.0, \"#f0f921\"]], \"type\": \"heatmap\"}], \"heatmapgl\": [{\"colorbar\": {\"outlinewidth\": 0, \"ticks\": \"\"}, \"colorscale\": [[0.0, \"#0d0887\"], [0.1111111111111111, \"#46039f\"], [0.2222222222222222, \"#7201a8\"], [0.3333333333333333, \"#9c179e\"], [0.4444444444444444, \"#bd3786\"], [0.5555555555555556, \"#d8576b\"], [0.6666666666666666, \"#ed7953\"], [0.7777777777777778, \"#fb9f3a\"], [0.8888888888888888, \"#fdca26\"], [1.0, \"#f0f921\"]], \"type\": \"heatmapgl\"}], \"histogram\": [{\"marker\": {\"colorbar\": {\"outlinewidth\": 0, \"ticks\": \"\"}}, \"type\": \"histogram\"}], \"histogram2d\": [{\"colorbar\": {\"outlinewidth\": 0, \"ticks\": \"\"}, \"colorscale\": [[0.0, \"#0d0887\"], [0.1111111111111111, \"#46039f\"], [0.2222222222222222, \"#7201a8\"], [0.3333333333333333, \"#9c179e\"], [0.4444444444444444, \"#bd3786\"], [0.5555555555555556, \"#d8576b\"], [0.6666666666666666, \"#ed7953\"], [0.7777777777777778, \"#fb9f3a\"], [0.8888888888888888, \"#fdca26\"], [1.0, \"#f0f921\"]], \"type\": \"histogram2d\"}], \"histogram2dcontour\": [{\"colorbar\": {\"outlinewidth\": 0, \"ticks\": \"\"}, \"colorscale\": [[0.0, \"#0d0887\"], [0.1111111111111111, \"#46039f\"], [0.2222222222222222, \"#7201a8\"], [0.3333333333333333, \"#9c179e\"], [0.4444444444444444, \"#bd3786\"], [0.5555555555555556, \"#d8576b\"], [0.6666666666666666, \"#ed7953\"], [0.7777777777777778, \"#fb9f3a\"], [0.8888888888888888, \"#fdca26\"], [1.0, \"#f0f921\"]], \"type\": \"histogram2dcontour\"}], \"mesh3d\": [{\"colorbar\": {\"outlinewidth\": 0, \"ticks\": \"\"}, \"type\": \"mesh3d\"}], \"parcoords\": [{\"line\": {\"colorbar\": {\"outlinewidth\": 0, \"ticks\": \"\"}}, \"type\": \"parcoords\"}], \"pie\": [{\"automargin\": true, \"type\": \"pie\"}], \"scatter\": [{\"marker\": {\"colorbar\": {\"outlinewidth\": 0, \"ticks\": \"\"}}, \"type\": \"scatter\"}], \"scatter3d\": [{\"line\": {\"colorbar\": {\"outlinewidth\": 0, \"ticks\": \"\"}}, \"marker\": {\"colorbar\": {\"outlinewidth\": 0, \"ticks\": \"\"}}, \"type\": \"scatter3d\"}], \"scattercarpet\": [{\"marker\": {\"colorbar\": {\"outlinewidth\": 0, \"ticks\": \"\"}}, \"type\": \"scattercarpet\"}], \"scattergeo\": [{\"marker\": {\"colorbar\": {\"outlinewidth\": 0, \"ticks\": \"\"}}, \"type\": \"scattergeo\"}], \"scattergl\": [{\"marker\": {\"colorbar\": {\"outlinewidth\": 0, \"ticks\": \"\"}}, \"type\": \"scattergl\"}], \"scattermapbox\": [{\"marker\": {\"colorbar\": {\"outlinewidth\": 0, \"ticks\": \"\"}}, \"type\": \"scattermapbox\"}], \"scatterpolar\": [{\"marker\": {\"colorbar\": {\"outlinewidth\": 0, \"ticks\": \"\"}}, \"type\": \"scatterpolar\"}], \"scatterpolargl\": [{\"marker\": {\"colorbar\": {\"outlinewidth\": 0, \"ticks\": \"\"}}, \"type\": \"scatterpolargl\"}], \"scatterternary\": [{\"marker\": {\"colorbar\": {\"outlinewidth\": 0, \"ticks\": \"\"}}, \"type\": \"scatterternary\"}], \"surface\": [{\"colorbar\": {\"outlinewidth\": 0, \"ticks\": \"\"}, \"colorscale\": [[0.0, \"#0d0887\"], [0.1111111111111111, \"#46039f\"], [0.2222222222222222, \"#7201a8\"], [0.3333333333333333, \"#9c179e\"], [0.4444444444444444, \"#bd3786\"], [0.5555555555555556, \"#d8576b\"], [0.6666666666666666, \"#ed7953\"], [0.7777777777777778, \"#fb9f3a\"], [0.8888888888888888, \"#fdca26\"], [1.0, \"#f0f921\"]], \"type\": \"surface\"}], \"table\": [{\"cells\": {\"fill\": {\"color\": \"#EBF0F8\"}, \"line\": {\"color\": \"white\"}}, \"header\": {\"fill\": {\"color\": \"#C8D4E3\"}, \"line\": {\"color\": \"white\"}}, \"type\": \"table\"}]}, \"layout\": {\"annotationdefaults\": {\"arrowcolor\": \"#2a3f5f\", \"arrowhead\": 0, \"arrowwidth\": 1}, \"coloraxis\": {\"colorbar\": {\"outlinewidth\": 0, \"ticks\": \"\"}}, \"colorscale\": {\"diverging\": [[0, \"#8e0152\"], [0.1, \"#c51b7d\"], [0.2, \"#de77ae\"], [0.3, \"#f1b6da\"], [0.4, \"#fde0ef\"], [0.5, \"#f7f7f7\"], [0.6, \"#e6f5d0\"], [0.7, \"#b8e186\"], [0.8, \"#7fbc41\"], [0.9, \"#4d9221\"], [1, \"#276419\"]], \"sequential\": [[0.0, \"#0d0887\"], [0.1111111111111111, \"#46039f\"], [0.2222222222222222, \"#7201a8\"], [0.3333333333333333, \"#9c179e\"], [0.4444444444444444, \"#bd3786\"], [0.5555555555555556, \"#d8576b\"], [0.6666666666666666, \"#ed7953\"], [0.7777777777777778, \"#fb9f3a\"], [0.8888888888888888, \"#fdca26\"], [1.0, \"#f0f921\"]], \"sequentialminus\": [[0.0, \"#0d0887\"], [0.1111111111111111, \"#46039f\"], [0.2222222222222222, \"#7201a8\"], [0.3333333333333333, \"#9c179e\"], [0.4444444444444444, \"#bd3786\"], [0.5555555555555556, \"#d8576b\"], [0.6666666666666666, \"#ed7953\"], [0.7777777777777778, \"#fb9f3a\"], [0.8888888888888888, \"#fdca26\"], [1.0, \"#f0f921\"]]}, \"colorway\": [\"#636efa\", \"#EF553B\", \"#00cc96\", \"#ab63fa\", \"#FFA15A\", \"#19d3f3\", \"#FF6692\", \"#B6E880\", \"#FF97FF\", \"#FECB52\"], \"font\": {\"color\": \"#2a3f5f\"}, \"geo\": {\"bgcolor\": \"white\", \"lakecolor\": \"white\", \"landcolor\": \"#E5ECF6\", \"showlakes\": true, \"showland\": true, \"subunitcolor\": \"white\"}, \"hoverlabel\": {\"align\": \"left\"}, \"hovermode\": \"closest\", \"mapbox\": {\"style\": \"light\"}, \"paper_bgcolor\": \"white\", \"plot_bgcolor\": \"#E5ECF6\", \"polar\": {\"angularaxis\": {\"gridcolor\": \"white\", \"linecolor\": \"white\", \"ticks\": \"\"}, \"bgcolor\": \"#E5ECF6\", \"radialaxis\": {\"gridcolor\": \"white\", \"linecolor\": \"white\", \"ticks\": \"\"}}, \"scene\": {\"xaxis\": {\"backgroundcolor\": \"#E5ECF6\", \"gridcolor\": \"white\", \"gridwidth\": 2, \"linecolor\": \"white\", \"showbackground\": true, \"ticks\": \"\", \"zerolinecolor\": \"white\"}, \"yaxis\": {\"backgroundcolor\": \"#E5ECF6\", \"gridcolor\": \"white\", \"gridwidth\": 2, \"linecolor\": \"white\", \"showbackground\": true, \"ticks\": \"\", \"zerolinecolor\": \"white\"}, \"zaxis\": {\"backgroundcolor\": \"#E5ECF6\", \"gridcolor\": \"white\", \"gridwidth\": 2, \"linecolor\": \"white\", \"showbackground\": true, \"ticks\": \"\", \"zerolinecolor\": \"white\"}}, \"shapedefaults\": {\"line\": {\"color\": \"#2a3f5f\"}}, \"ternary\": {\"aaxis\": {\"gridcolor\": \"white\", \"linecolor\": \"white\", \"ticks\": \"\"}, \"baxis\": {\"gridcolor\": \"white\", \"linecolor\": \"white\", \"ticks\": \"\"}, \"bgcolor\": \"#E5ECF6\", \"caxis\": {\"gridcolor\": \"white\", \"linecolor\": \"white\", \"ticks\": \"\"}}, \"title\": {\"x\": 0.05}, \"xaxis\": {\"automargin\": true, \"gridcolor\": \"white\", \"linecolor\": \"white\", \"ticks\": \"\", \"title\": {\"standoff\": 15}, \"zerolinecolor\": \"white\", \"zerolinewidth\": 2}, \"yaxis\": {\"automargin\": true, \"gridcolor\": \"white\", \"linecolor\": \"white\", \"ticks\": \"\", \"title\": {\"standoff\": 15}, \"zerolinecolor\": \"white\", \"zerolinewidth\": 2}}}, \"xaxis\": {\"anchor\": \"y\", \"domain\": [0.0, 1.0]}, \"yaxis\": {\"anchor\": \"x\", \"domain\": [0.0, 1.0], \"title\": {\"text\": \"accuracy\"}}},\n",
              "                        {\"responsive\": true}\n",
              "                    ).then(function(){\n",
              "                            \n",
              "var gd = document.getElementById('3e27afc1-9e15-4893-8a9c-dc191d993f30');\n",
              "var x = new MutationObserver(function (mutations, observer) {{\n",
              "        var display = window.getComputedStyle(gd).display;\n",
              "        if (!display || display === 'none') {{\n",
              "            console.log([gd, 'removed!']);\n",
              "            Plotly.purge(gd);\n",
              "            observer.disconnect();\n",
              "        }}\n",
              "}});\n",
              "\n",
              "// Listen for the removal of the full notebook cells\n",
              "var notebookContainer = gd.closest('#notebook-container');\n",
              "if (notebookContainer) {{\n",
              "    x.observe(notebookContainer, {childList: true});\n",
              "}}\n",
              "\n",
              "// Listen for the clearing of the current output cell\n",
              "var outputEl = gd.closest('.output');\n",
              "if (outputEl) {{\n",
              "    x.observe(outputEl, {childList: true});\n",
              "}}\n",
              "\n",
              "                        })\n",
              "                };\n",
              "                \n",
              "            </script>\n",
              "        </div>\n",
              "</body>\n",
              "</html>"
            ]
          },
          "metadata": {
            "tags": []
          }
        }
      ]
    },
    {
      "cell_type": "code",
      "metadata": {
        "id": "Q2ZAf3BKl-Q5",
        "colab_type": "code",
        "outputId": "0e8ec56f-75d3-4336-cbe9-708341dc5cbb",
        "colab": {
          "base_uri": "https://localhost:8080/",
          "height": 34
        }
      },
      "source": [
        "print(f'Le score moyen de la cross validation avec les ngram=(1,2) est : {np.mean(scores_wc2)}')"
      ],
      "execution_count": 0,
      "outputs": [
        {
          "output_type": "stream",
          "text": [
            "Le score moyen de la cross validation avec les ngram=(1,2) est : 0.9306772908366534\n"
          ],
          "name": "stdout"
        }
      ]
    },
    {
      "cell_type": "markdown",
      "metadata": {
        "id": "m69EBxSZmOvv",
        "colab_type": "text"
      },
      "source": [
        "Avec l'ajout des **char vectorizer** nous avons gagné 1% d'exactitude en plus que sans. En revanche, comparé au résultat de la fusion des tfidf('word') + tfidf('char') avec le ngram_range=(1,1), on observe une perte d'exactitude de 0.3%. Cela, peut s'expliquer par l'augmentation de la taille de notre vocabulaire qui a été multiplié par 6. \n",
        "\n",
        "\n",
        "Remarque : Il est possible qu'avec l'augmentation de notre vocabulaire, notre modèle perde en précision sur le jeu de donnée d'entraînement, mais qu'il généralise mieux sur des données de validation."
      ]
    },
    {
      "cell_type": "markdown",
      "metadata": {
        "id": "Ffu-xJW9rWSQ",
        "colab_type": "text"
      },
      "source": [
        "### NGRAM_RANGE=(1,3)"
      ]
    },
    {
      "cell_type": "code",
      "metadata": {
        "id": "xriYDs_LriR3",
        "colab_type": "code",
        "colab": {}
      },
      "source": [
        "vect_word_3 = TfidfVectorizer(analyzer='word', tokenizer=prepareText, ngram_range=(1,3), dtype=np.float32)"
      ],
      "execution_count": 0,
      "outputs": []
    },
    {
      "cell_type": "code",
      "metadata": {
        "id": "rBLhmCsor85W",
        "colab_type": "code",
        "colab": {}
      },
      "source": [
        "vect_corpus_3 = vect_word_3.fit_transform(x_train)"
      ],
      "execution_count": 0,
      "outputs": []
    },
    {
      "cell_type": "code",
      "metadata": {
        "id": "AOB2N90osB2o",
        "colab_type": "code",
        "colab": {}
      },
      "source": [
        "vect_test_corpus_3 = vect_word_3.transform(x_test)"
      ],
      "execution_count": 0,
      "outputs": []
    },
    {
      "cell_type": "code",
      "metadata": {
        "id": "MWwX2VSkxzl8",
        "colab_type": "code",
        "outputId": "bbd0cadd-a459-476e-9cf8-294a5fc53b37",
        "colab": {
          "base_uri": "https://localhost:8080/",
          "height": 34
        }
      },
      "source": [
        "print(f\"La taille du vocabulaire est : {len(vect_word_3.vocabulary_)} mots \")"
      ],
      "execution_count": 0,
      "outputs": [
        {
          "output_type": "stream",
          "text": [
            "La taille du vocabulaire est : 181964 mots \n"
          ],
          "name": "stdout"
        }
      ]
    },
    {
      "cell_type": "code",
      "metadata": {
        "id": "NfIS9idjsQeO",
        "colab_type": "code",
        "colab": {}
      },
      "source": [
        "vect_corpus_wc_3 = sparse.hstack([vect_corpus_3, vect_corpus_char])"
      ],
      "execution_count": 0,
      "outputs": []
    },
    {
      "cell_type": "code",
      "metadata": {
        "id": "x21uT2WRsH78",
        "colab_type": "code",
        "colab": {}
      },
      "source": [
        "vec_test_corpus_wc_3 = sparse.hstack([vect_test_corpus_3, vect_test_corpus_char])"
      ],
      "execution_count": 0,
      "outputs": []
    },
    {
      "cell_type": "code",
      "metadata": {
        "id": "b1pcCTlJtvFz",
        "colab_type": "code",
        "colab": {}
      },
      "source": [
        "svc_wc3 = LinearSVC()\n",
        "svc_3 = LinearSVC()"
      ],
      "execution_count": 0,
      "outputs": []
    },
    {
      "cell_type": "code",
      "metadata": {
        "id": "mMy8GXUyuJMD",
        "colab_type": "code",
        "outputId": "8ba9b98b-9183-4425-b999-4c42d6559d63",
        "colab": {
          "base_uri": "https://localhost:8080/",
          "height": 85
        }
      },
      "source": [
        "svc_wc3.fit(vect_corpus_wc_3, y_train)"
      ],
      "execution_count": 0,
      "outputs": [
        {
          "output_type": "execute_result",
          "data": {
            "text/plain": [
              "LinearSVC(C=1.0, class_weight=None, dual=True, fit_intercept=True,\n",
              "          intercept_scaling=1, loss='squared_hinge', max_iter=1000,\n",
              "          multi_class='ovr', penalty='l2', random_state=None, tol=0.0001,\n",
              "          verbose=0)"
            ]
          },
          "metadata": {
            "tags": []
          },
          "execution_count": 117
        }
      ]
    },
    {
      "cell_type": "code",
      "metadata": {
        "id": "GKBS6QAAuN9T",
        "colab_type": "code",
        "outputId": "9731e062-3a4a-408c-ff4a-02906f31a540",
        "colab": {
          "base_uri": "https://localhost:8080/",
          "height": 85
        }
      },
      "source": [
        "svc_3.fit(vect_corpus_3, y_train)"
      ],
      "execution_count": 0,
      "outputs": [
        {
          "output_type": "execute_result",
          "data": {
            "text/plain": [
              "LinearSVC(C=1.0, class_weight=None, dual=True, fit_intercept=True,\n",
              "          intercept_scaling=1, loss='squared_hinge', max_iter=1000,\n",
              "          multi_class='ovr', penalty='l2', random_state=None, tol=0.0001,\n",
              "          verbose=0)"
            ]
          },
          "metadata": {
            "tags": []
          },
          "execution_count": 118
        }
      ]
    },
    {
      "cell_type": "code",
      "metadata": {
        "id": "gIyKLMR0ucm8",
        "colab_type": "code",
        "colab": {}
      },
      "source": [
        "prediction_3 = svc_3.predict(vect_test_corpus_3)"
      ],
      "execution_count": 0,
      "outputs": []
    },
    {
      "cell_type": "code",
      "metadata": {
        "id": "7-paHo57uvRO",
        "colab_type": "code",
        "colab": {}
      },
      "source": [
        "prediction_wc3 = svc_3.predict(vect_test_corpus_3)"
      ],
      "execution_count": 0,
      "outputs": []
    },
    {
      "cell_type": "markdown",
      "metadata": {
        "id": "stnsv8_uu3KY",
        "colab_type": "text"
      },
      "source": [
        "#### **TFID(ngram_range=(1,3), analyzer='word')**"
      ]
    },
    {
      "cell_type": "code",
      "metadata": {
        "id": "19WjYDI2vBft",
        "colab_type": "code",
        "outputId": "075bd27a-4caf-4f17-bac6-7db03563066f",
        "colab": {
          "base_uri": "https://localhost:8080/",
          "height": 187
        }
      },
      "source": [
        "print(classification_report(y_test, prediction_3))"
      ],
      "execution_count": 0,
      "outputs": [
        {
          "output_type": "stream",
          "text": [
            "              precision    recall  f1-score   support\n",
            "\n",
            "           7       0.93      0.94      0.94       178\n",
            "          10       0.99      0.94      0.96       180\n",
            "          15       0.93      0.96      0.95       180\n",
            "\n",
            "    accuracy                           0.95       538\n",
            "   macro avg       0.95      0.95      0.95       538\n",
            "weighted avg       0.95      0.95      0.95       538\n",
            "\n"
          ],
          "name": "stdout"
        }
      ]
    },
    {
      "cell_type": "code",
      "metadata": {
        "id": "6CfvEHKtvwtd",
        "colab_type": "code",
        "colab": {}
      },
      "source": [
        "scores_3 = cross_val_score(svc_3, vect_corpus_3, y_train,scoring='accuracy')"
      ],
      "execution_count": 0,
      "outputs": []
    },
    {
      "cell_type": "code",
      "metadata": {
        "id": "OlPGKq6vvy_E",
        "colab_type": "code",
        "outputId": "d8d0c621-aa1f-4039-8552-86d4ef1d7025",
        "colab": {
          "base_uri": "https://localhost:8080/",
          "height": 542
        }
      },
      "source": [
        "px.scatter(pd.DataFrame({'accuracy' : scores_3}), y='accuracy')"
      ],
      "execution_count": 0,
      "outputs": [
        {
          "output_type": "display_data",
          "data": {
            "text/html": [
              "<html>\n",
              "<head><meta charset=\"utf-8\" /></head>\n",
              "<body>\n",
              "    <div>\n",
              "            <script src=\"https://cdnjs.cloudflare.com/ajax/libs/mathjax/2.7.5/MathJax.js?config=TeX-AMS-MML_SVG\"></script><script type=\"text/javascript\">if (window.MathJax) {MathJax.Hub.Config({SVG: {font: \"STIX-Web\"}});}</script>\n",
              "                <script type=\"text/javascript\">window.PlotlyConfig = {MathJaxConfig: 'local'};</script>\n",
              "        <script src=\"https://cdn.plot.ly/plotly-latest.min.js\"></script>    \n",
              "            <div id=\"ea6b5d6e-9c6e-4735-b874-4eecdafee3bc\" class=\"plotly-graph-div\" style=\"height:525px; width:100%;\"></div>\n",
              "            <script type=\"text/javascript\">\n",
              "                \n",
              "                    window.PLOTLYENV=window.PLOTLYENV || {};\n",
              "                    \n",
              "                if (document.getElementById(\"ea6b5d6e-9c6e-4735-b874-4eecdafee3bc\")) {\n",
              "                    Plotly.newPlot(\n",
              "                        'ea6b5d6e-9c6e-4735-b874-4eecdafee3bc',\n",
              "                        [{\"hoverlabel\": {\"namelength\": 0}, \"hovertemplate\": \"accuracy=%{y}\", \"legendgroup\": \"\", \"marker\": {\"color\": \"#636efa\", \"symbol\": \"circle\"}, \"mode\": \"markers\", \"name\": \"\", \"showlegend\": false, \"type\": \"scatter\", \"xaxis\": \"x\", \"y\": [0.9243027888446215, 0.9322709163346613, 0.9043824701195219, 0.9482071713147411, 0.9243027888446215], \"yaxis\": \"y\"}],\n",
              "                        {\"legend\": {\"tracegroupgap\": 0}, \"margin\": {\"t\": 60}, \"template\": {\"data\": {\"bar\": [{\"error_x\": {\"color\": \"#2a3f5f\"}, \"error_y\": {\"color\": \"#2a3f5f\"}, \"marker\": {\"line\": {\"color\": \"#E5ECF6\", \"width\": 0.5}}, \"type\": \"bar\"}], \"barpolar\": [{\"marker\": {\"line\": {\"color\": \"#E5ECF6\", \"width\": 0.5}}, \"type\": \"barpolar\"}], \"carpet\": [{\"aaxis\": {\"endlinecolor\": \"#2a3f5f\", \"gridcolor\": \"white\", \"linecolor\": \"white\", \"minorgridcolor\": \"white\", \"startlinecolor\": \"#2a3f5f\"}, \"baxis\": {\"endlinecolor\": \"#2a3f5f\", \"gridcolor\": \"white\", \"linecolor\": \"white\", \"minorgridcolor\": \"white\", \"startlinecolor\": \"#2a3f5f\"}, \"type\": \"carpet\"}], \"choropleth\": [{\"colorbar\": {\"outlinewidth\": 0, \"ticks\": \"\"}, \"type\": \"choropleth\"}], \"contour\": [{\"colorbar\": {\"outlinewidth\": 0, \"ticks\": \"\"}, \"colorscale\": [[0.0, \"#0d0887\"], [0.1111111111111111, \"#46039f\"], [0.2222222222222222, \"#7201a8\"], [0.3333333333333333, \"#9c179e\"], [0.4444444444444444, \"#bd3786\"], [0.5555555555555556, \"#d8576b\"], [0.6666666666666666, \"#ed7953\"], [0.7777777777777778, \"#fb9f3a\"], [0.8888888888888888, \"#fdca26\"], [1.0, \"#f0f921\"]], \"type\": \"contour\"}], \"contourcarpet\": [{\"colorbar\": {\"outlinewidth\": 0, \"ticks\": \"\"}, \"type\": \"contourcarpet\"}], \"heatmap\": [{\"colorbar\": {\"outlinewidth\": 0, \"ticks\": \"\"}, \"colorscale\": [[0.0, \"#0d0887\"], [0.1111111111111111, \"#46039f\"], [0.2222222222222222, \"#7201a8\"], [0.3333333333333333, \"#9c179e\"], [0.4444444444444444, \"#bd3786\"], [0.5555555555555556, \"#d8576b\"], [0.6666666666666666, \"#ed7953\"], [0.7777777777777778, \"#fb9f3a\"], [0.8888888888888888, \"#fdca26\"], [1.0, \"#f0f921\"]], \"type\": \"heatmap\"}], \"heatmapgl\": [{\"colorbar\": {\"outlinewidth\": 0, \"ticks\": \"\"}, \"colorscale\": [[0.0, \"#0d0887\"], [0.1111111111111111, \"#46039f\"], [0.2222222222222222, \"#7201a8\"], [0.3333333333333333, \"#9c179e\"], [0.4444444444444444, \"#bd3786\"], [0.5555555555555556, \"#d8576b\"], [0.6666666666666666, \"#ed7953\"], [0.7777777777777778, \"#fb9f3a\"], [0.8888888888888888, \"#fdca26\"], [1.0, \"#f0f921\"]], \"type\": \"heatmapgl\"}], \"histogram\": [{\"marker\": {\"colorbar\": {\"outlinewidth\": 0, \"ticks\": \"\"}}, \"type\": \"histogram\"}], \"histogram2d\": [{\"colorbar\": {\"outlinewidth\": 0, \"ticks\": \"\"}, \"colorscale\": [[0.0, \"#0d0887\"], [0.1111111111111111, \"#46039f\"], [0.2222222222222222, \"#7201a8\"], [0.3333333333333333, \"#9c179e\"], [0.4444444444444444, \"#bd3786\"], [0.5555555555555556, \"#d8576b\"], [0.6666666666666666, \"#ed7953\"], [0.7777777777777778, \"#fb9f3a\"], [0.8888888888888888, \"#fdca26\"], [1.0, \"#f0f921\"]], \"type\": \"histogram2d\"}], \"histogram2dcontour\": [{\"colorbar\": {\"outlinewidth\": 0, \"ticks\": \"\"}, \"colorscale\": [[0.0, \"#0d0887\"], [0.1111111111111111, \"#46039f\"], [0.2222222222222222, \"#7201a8\"], [0.3333333333333333, \"#9c179e\"], [0.4444444444444444, \"#bd3786\"], [0.5555555555555556, \"#d8576b\"], [0.6666666666666666, \"#ed7953\"], [0.7777777777777778, \"#fb9f3a\"], [0.8888888888888888, \"#fdca26\"], [1.0, \"#f0f921\"]], \"type\": \"histogram2dcontour\"}], \"mesh3d\": [{\"colorbar\": {\"outlinewidth\": 0, \"ticks\": \"\"}, \"type\": \"mesh3d\"}], \"parcoords\": [{\"line\": {\"colorbar\": {\"outlinewidth\": 0, \"ticks\": \"\"}}, \"type\": \"parcoords\"}], \"pie\": [{\"automargin\": true, \"type\": \"pie\"}], \"scatter\": [{\"marker\": {\"colorbar\": {\"outlinewidth\": 0, \"ticks\": \"\"}}, \"type\": \"scatter\"}], \"scatter3d\": [{\"line\": {\"colorbar\": {\"outlinewidth\": 0, \"ticks\": \"\"}}, \"marker\": {\"colorbar\": {\"outlinewidth\": 0, \"ticks\": \"\"}}, \"type\": \"scatter3d\"}], \"scattercarpet\": [{\"marker\": {\"colorbar\": {\"outlinewidth\": 0, \"ticks\": \"\"}}, \"type\": \"scattercarpet\"}], \"scattergeo\": [{\"marker\": {\"colorbar\": {\"outlinewidth\": 0, \"ticks\": \"\"}}, \"type\": \"scattergeo\"}], \"scattergl\": [{\"marker\": {\"colorbar\": {\"outlinewidth\": 0, \"ticks\": \"\"}}, \"type\": \"scattergl\"}], \"scattermapbox\": [{\"marker\": {\"colorbar\": {\"outlinewidth\": 0, \"ticks\": \"\"}}, \"type\": \"scattermapbox\"}], \"scatterpolar\": [{\"marker\": {\"colorbar\": {\"outlinewidth\": 0, \"ticks\": \"\"}}, \"type\": \"scatterpolar\"}], \"scatterpolargl\": [{\"marker\": {\"colorbar\": {\"outlinewidth\": 0, \"ticks\": \"\"}}, \"type\": \"scatterpolargl\"}], \"scatterternary\": [{\"marker\": {\"colorbar\": {\"outlinewidth\": 0, \"ticks\": \"\"}}, \"type\": \"scatterternary\"}], \"surface\": [{\"colorbar\": {\"outlinewidth\": 0, \"ticks\": \"\"}, \"colorscale\": [[0.0, \"#0d0887\"], [0.1111111111111111, \"#46039f\"], [0.2222222222222222, \"#7201a8\"], [0.3333333333333333, \"#9c179e\"], [0.4444444444444444, \"#bd3786\"], [0.5555555555555556, \"#d8576b\"], [0.6666666666666666, \"#ed7953\"], [0.7777777777777778, \"#fb9f3a\"], [0.8888888888888888, \"#fdca26\"], [1.0, \"#f0f921\"]], \"type\": \"surface\"}], \"table\": [{\"cells\": {\"fill\": {\"color\": \"#EBF0F8\"}, \"line\": {\"color\": \"white\"}}, \"header\": {\"fill\": {\"color\": \"#C8D4E3\"}, \"line\": {\"color\": \"white\"}}, \"type\": \"table\"}]}, \"layout\": {\"annotationdefaults\": {\"arrowcolor\": \"#2a3f5f\", \"arrowhead\": 0, \"arrowwidth\": 1}, \"coloraxis\": {\"colorbar\": {\"outlinewidth\": 0, \"ticks\": \"\"}}, \"colorscale\": {\"diverging\": [[0, \"#8e0152\"], [0.1, \"#c51b7d\"], [0.2, \"#de77ae\"], [0.3, \"#f1b6da\"], [0.4, \"#fde0ef\"], [0.5, \"#f7f7f7\"], [0.6, \"#e6f5d0\"], [0.7, \"#b8e186\"], [0.8, \"#7fbc41\"], [0.9, \"#4d9221\"], [1, \"#276419\"]], \"sequential\": [[0.0, \"#0d0887\"], [0.1111111111111111, \"#46039f\"], [0.2222222222222222, \"#7201a8\"], [0.3333333333333333, \"#9c179e\"], [0.4444444444444444, \"#bd3786\"], [0.5555555555555556, \"#d8576b\"], [0.6666666666666666, \"#ed7953\"], [0.7777777777777778, \"#fb9f3a\"], [0.8888888888888888, \"#fdca26\"], [1.0, \"#f0f921\"]], \"sequentialminus\": [[0.0, \"#0d0887\"], [0.1111111111111111, \"#46039f\"], [0.2222222222222222, \"#7201a8\"], [0.3333333333333333, \"#9c179e\"], [0.4444444444444444, \"#bd3786\"], [0.5555555555555556, \"#d8576b\"], [0.6666666666666666, \"#ed7953\"], [0.7777777777777778, \"#fb9f3a\"], [0.8888888888888888, \"#fdca26\"], [1.0, \"#f0f921\"]]}, \"colorway\": [\"#636efa\", \"#EF553B\", \"#00cc96\", \"#ab63fa\", \"#FFA15A\", \"#19d3f3\", \"#FF6692\", \"#B6E880\", \"#FF97FF\", \"#FECB52\"], \"font\": {\"color\": \"#2a3f5f\"}, \"geo\": {\"bgcolor\": \"white\", \"lakecolor\": \"white\", \"landcolor\": \"#E5ECF6\", \"showlakes\": true, \"showland\": true, \"subunitcolor\": \"white\"}, \"hoverlabel\": {\"align\": \"left\"}, \"hovermode\": \"closest\", \"mapbox\": {\"style\": \"light\"}, \"paper_bgcolor\": \"white\", \"plot_bgcolor\": \"#E5ECF6\", \"polar\": {\"angularaxis\": {\"gridcolor\": \"white\", \"linecolor\": \"white\", \"ticks\": \"\"}, \"bgcolor\": \"#E5ECF6\", \"radialaxis\": {\"gridcolor\": \"white\", \"linecolor\": \"white\", \"ticks\": \"\"}}, \"scene\": {\"xaxis\": {\"backgroundcolor\": \"#E5ECF6\", \"gridcolor\": \"white\", \"gridwidth\": 2, \"linecolor\": \"white\", \"showbackground\": true, \"ticks\": \"\", \"zerolinecolor\": \"white\"}, \"yaxis\": {\"backgroundcolor\": \"#E5ECF6\", \"gridcolor\": \"white\", \"gridwidth\": 2, \"linecolor\": \"white\", \"showbackground\": true, \"ticks\": \"\", \"zerolinecolor\": \"white\"}, \"zaxis\": {\"backgroundcolor\": \"#E5ECF6\", \"gridcolor\": \"white\", \"gridwidth\": 2, \"linecolor\": \"white\", \"showbackground\": true, \"ticks\": \"\", \"zerolinecolor\": \"white\"}}, \"shapedefaults\": {\"line\": {\"color\": \"#2a3f5f\"}}, \"ternary\": {\"aaxis\": {\"gridcolor\": \"white\", \"linecolor\": \"white\", \"ticks\": \"\"}, \"baxis\": {\"gridcolor\": \"white\", \"linecolor\": \"white\", \"ticks\": \"\"}, \"bgcolor\": \"#E5ECF6\", \"caxis\": {\"gridcolor\": \"white\", \"linecolor\": \"white\", \"ticks\": \"\"}}, \"title\": {\"x\": 0.05}, \"xaxis\": {\"automargin\": true, \"gridcolor\": \"white\", \"linecolor\": \"white\", \"ticks\": \"\", \"title\": {\"standoff\": 15}, \"zerolinecolor\": \"white\", \"zerolinewidth\": 2}, \"yaxis\": {\"automargin\": true, \"gridcolor\": \"white\", \"linecolor\": \"white\", \"ticks\": \"\", \"title\": {\"standoff\": 15}, \"zerolinecolor\": \"white\", \"zerolinewidth\": 2}}}, \"xaxis\": {\"anchor\": \"y\", \"domain\": [0.0, 1.0]}, \"yaxis\": {\"anchor\": \"x\", \"domain\": [0.0, 1.0], \"title\": {\"text\": \"accuracy\"}}},\n",
              "                        {\"responsive\": true}\n",
              "                    ).then(function(){\n",
              "                            \n",
              "var gd = document.getElementById('ea6b5d6e-9c6e-4735-b874-4eecdafee3bc');\n",
              "var x = new MutationObserver(function (mutations, observer) {{\n",
              "        var display = window.getComputedStyle(gd).display;\n",
              "        if (!display || display === 'none') {{\n",
              "            console.log([gd, 'removed!']);\n",
              "            Plotly.purge(gd);\n",
              "            observer.disconnect();\n",
              "        }}\n",
              "}});\n",
              "\n",
              "// Listen for the removal of the full notebook cells\n",
              "var notebookContainer = gd.closest('#notebook-container');\n",
              "if (notebookContainer) {{\n",
              "    x.observe(notebookContainer, {childList: true});\n",
              "}}\n",
              "\n",
              "// Listen for the clearing of the current output cell\n",
              "var outputEl = gd.closest('.output');\n",
              "if (outputEl) {{\n",
              "    x.observe(outputEl, {childList: true});\n",
              "}}\n",
              "\n",
              "                        })\n",
              "                };\n",
              "                \n",
              "            </script>\n",
              "        </div>\n",
              "</body>\n",
              "</html>"
            ]
          },
          "metadata": {
            "tags": []
          }
        }
      ]
    },
    {
      "cell_type": "code",
      "metadata": {
        "id": "OH7t4h_FwyhJ",
        "colab_type": "code",
        "outputId": "f5a9f42f-ef43-48e8-8e4e-fcb2edf2f969",
        "colab": {
          "base_uri": "https://localhost:8080/",
          "height": 34
        }
      },
      "source": [
        "print(f'Le score moyen de la cross validation avec les ngram=(1,3) est : {np.mean(scores_3)}')"
      ],
      "execution_count": 0,
      "outputs": [
        {
          "output_type": "stream",
          "text": [
            "Le score moyen de la cross validation avec les ngram=(1,3) est : 0.9266932270916334\n"
          ],
          "name": "stdout"
        }
      ]
    },
    {
      "cell_type": "markdown",
      "metadata": {
        "id": "Ich7D_JCkFfJ",
        "colab_type": "text"
      },
      "source": [
        "#### TFID(ngram_range=(1,3), analyzer='word') + TFID(ngram_range=(1,3), analyzer='analyzer')"
      ]
    },
    {
      "cell_type": "code",
      "metadata": {
        "id": "9Ns3K_H9vTXt",
        "colab_type": "code",
        "outputId": "4fc04de1-7842-427a-edcf-31d3fe1d2cec",
        "colab": {
          "base_uri": "https://localhost:8080/",
          "height": 187
        }
      },
      "source": [
        "print(classification_report(y_test, prediction_wc3))"
      ],
      "execution_count": 0,
      "outputs": [
        {
          "output_type": "stream",
          "text": [
            "              precision    recall  f1-score   support\n",
            "\n",
            "           7       0.93      0.94      0.94       178\n",
            "          10       0.99      0.94      0.96       180\n",
            "          15       0.93      0.96      0.95       180\n",
            "\n",
            "    accuracy                           0.95       538\n",
            "   macro avg       0.95      0.95      0.95       538\n",
            "weighted avg       0.95      0.95      0.95       538\n",
            "\n"
          ],
          "name": "stdout"
        }
      ]
    },
    {
      "cell_type": "code",
      "metadata": {
        "id": "n-USalyUwYzh",
        "colab_type": "code",
        "colab": {}
      },
      "source": [
        "scores_wc3 = cross_val_score(svc_wc3, vect_corpus_wc_3, y_train,scoring='accuracy')"
      ],
      "execution_count": 0,
      "outputs": []
    },
    {
      "cell_type": "code",
      "metadata": {
        "id": "ZO1kRUzmwl7I",
        "colab_type": "code",
        "outputId": "47855f25-ba72-44e4-f9ff-66677cb0d2d4",
        "colab": {
          "base_uri": "https://localhost:8080/",
          "height": 542
        }
      },
      "source": [
        "px.scatter(pd.DataFrame({'accuracy' : scores_wc3}), y='accuracy')"
      ],
      "execution_count": 0,
      "outputs": [
        {
          "output_type": "display_data",
          "data": {
            "text/html": [
              "<html>\n",
              "<head><meta charset=\"utf-8\" /></head>\n",
              "<body>\n",
              "    <div>\n",
              "            <script src=\"https://cdnjs.cloudflare.com/ajax/libs/mathjax/2.7.5/MathJax.js?config=TeX-AMS-MML_SVG\"></script><script type=\"text/javascript\">if (window.MathJax) {MathJax.Hub.Config({SVG: {font: \"STIX-Web\"}});}</script>\n",
              "                <script type=\"text/javascript\">window.PlotlyConfig = {MathJaxConfig: 'local'};</script>\n",
              "        <script src=\"https://cdn.plot.ly/plotly-latest.min.js\"></script>    \n",
              "            <div id=\"50a3f7f1-d798-493c-9e46-24fe90528964\" class=\"plotly-graph-div\" style=\"height:525px; width:100%;\"></div>\n",
              "            <script type=\"text/javascript\">\n",
              "                \n",
              "                    window.PLOTLYENV=window.PLOTLYENV || {};\n",
              "                    \n",
              "                if (document.getElementById(\"50a3f7f1-d798-493c-9e46-24fe90528964\")) {\n",
              "                    Plotly.newPlot(\n",
              "                        '50a3f7f1-d798-493c-9e46-24fe90528964',\n",
              "                        [{\"hoverlabel\": {\"namelength\": 0}, \"hovertemplate\": \"accuracy=%{y}\", \"legendgroup\": \"\", \"marker\": {\"color\": \"#636efa\", \"symbol\": \"circle\"}, \"mode\": \"markers\", \"name\": \"\", \"showlegend\": false, \"type\": \"scatter\", \"xaxis\": \"x\", \"y\": [0.9203187250996016, 0.9402390438247012, 0.9163346613545816, 0.9442231075697212, 0.9322709163346613], \"yaxis\": \"y\"}],\n",
              "                        {\"legend\": {\"tracegroupgap\": 0}, \"margin\": {\"t\": 60}, \"template\": {\"data\": {\"bar\": [{\"error_x\": {\"color\": \"#2a3f5f\"}, \"error_y\": {\"color\": \"#2a3f5f\"}, \"marker\": {\"line\": {\"color\": \"#E5ECF6\", \"width\": 0.5}}, \"type\": \"bar\"}], \"barpolar\": [{\"marker\": {\"line\": {\"color\": \"#E5ECF6\", \"width\": 0.5}}, \"type\": \"barpolar\"}], \"carpet\": [{\"aaxis\": {\"endlinecolor\": \"#2a3f5f\", \"gridcolor\": \"white\", \"linecolor\": \"white\", \"minorgridcolor\": \"white\", \"startlinecolor\": \"#2a3f5f\"}, \"baxis\": {\"endlinecolor\": \"#2a3f5f\", \"gridcolor\": \"white\", \"linecolor\": \"white\", \"minorgridcolor\": \"white\", \"startlinecolor\": \"#2a3f5f\"}, \"type\": \"carpet\"}], \"choropleth\": [{\"colorbar\": {\"outlinewidth\": 0, \"ticks\": \"\"}, \"type\": \"choropleth\"}], \"contour\": [{\"colorbar\": {\"outlinewidth\": 0, \"ticks\": \"\"}, \"colorscale\": [[0.0, \"#0d0887\"], [0.1111111111111111, \"#46039f\"], [0.2222222222222222, \"#7201a8\"], [0.3333333333333333, \"#9c179e\"], [0.4444444444444444, \"#bd3786\"], [0.5555555555555556, \"#d8576b\"], [0.6666666666666666, \"#ed7953\"], [0.7777777777777778, \"#fb9f3a\"], [0.8888888888888888, \"#fdca26\"], [1.0, \"#f0f921\"]], \"type\": \"contour\"}], \"contourcarpet\": [{\"colorbar\": {\"outlinewidth\": 0, \"ticks\": \"\"}, \"type\": \"contourcarpet\"}], \"heatmap\": [{\"colorbar\": {\"outlinewidth\": 0, \"ticks\": \"\"}, \"colorscale\": [[0.0, \"#0d0887\"], [0.1111111111111111, \"#46039f\"], [0.2222222222222222, \"#7201a8\"], [0.3333333333333333, \"#9c179e\"], [0.4444444444444444, \"#bd3786\"], [0.5555555555555556, \"#d8576b\"], [0.6666666666666666, \"#ed7953\"], [0.7777777777777778, \"#fb9f3a\"], [0.8888888888888888, \"#fdca26\"], [1.0, \"#f0f921\"]], \"type\": \"heatmap\"}], \"heatmapgl\": [{\"colorbar\": {\"outlinewidth\": 0, \"ticks\": \"\"}, \"colorscale\": [[0.0, \"#0d0887\"], [0.1111111111111111, \"#46039f\"], [0.2222222222222222, \"#7201a8\"], [0.3333333333333333, \"#9c179e\"], [0.4444444444444444, \"#bd3786\"], [0.5555555555555556, \"#d8576b\"], [0.6666666666666666, \"#ed7953\"], [0.7777777777777778, \"#fb9f3a\"], [0.8888888888888888, \"#fdca26\"], [1.0, \"#f0f921\"]], \"type\": \"heatmapgl\"}], \"histogram\": [{\"marker\": {\"colorbar\": {\"outlinewidth\": 0, \"ticks\": \"\"}}, \"type\": \"histogram\"}], \"histogram2d\": [{\"colorbar\": {\"outlinewidth\": 0, \"ticks\": \"\"}, \"colorscale\": [[0.0, \"#0d0887\"], [0.1111111111111111, \"#46039f\"], [0.2222222222222222, \"#7201a8\"], [0.3333333333333333, \"#9c179e\"], [0.4444444444444444, \"#bd3786\"], [0.5555555555555556, \"#d8576b\"], [0.6666666666666666, \"#ed7953\"], [0.7777777777777778, \"#fb9f3a\"], [0.8888888888888888, \"#fdca26\"], [1.0, \"#f0f921\"]], \"type\": \"histogram2d\"}], \"histogram2dcontour\": [{\"colorbar\": {\"outlinewidth\": 0, \"ticks\": \"\"}, \"colorscale\": [[0.0, \"#0d0887\"], [0.1111111111111111, \"#46039f\"], [0.2222222222222222, \"#7201a8\"], [0.3333333333333333, \"#9c179e\"], [0.4444444444444444, \"#bd3786\"], [0.5555555555555556, \"#d8576b\"], [0.6666666666666666, \"#ed7953\"], [0.7777777777777778, \"#fb9f3a\"], [0.8888888888888888, \"#fdca26\"], [1.0, \"#f0f921\"]], \"type\": \"histogram2dcontour\"}], \"mesh3d\": [{\"colorbar\": {\"outlinewidth\": 0, \"ticks\": \"\"}, \"type\": \"mesh3d\"}], \"parcoords\": [{\"line\": {\"colorbar\": {\"outlinewidth\": 0, \"ticks\": \"\"}}, \"type\": \"parcoords\"}], \"pie\": [{\"automargin\": true, \"type\": \"pie\"}], \"scatter\": [{\"marker\": {\"colorbar\": {\"outlinewidth\": 0, \"ticks\": \"\"}}, \"type\": \"scatter\"}], \"scatter3d\": [{\"line\": {\"colorbar\": {\"outlinewidth\": 0, \"ticks\": \"\"}}, \"marker\": {\"colorbar\": {\"outlinewidth\": 0, \"ticks\": \"\"}}, \"type\": \"scatter3d\"}], \"scattercarpet\": [{\"marker\": {\"colorbar\": {\"outlinewidth\": 0, \"ticks\": \"\"}}, \"type\": \"scattercarpet\"}], \"scattergeo\": [{\"marker\": {\"colorbar\": {\"outlinewidth\": 0, \"ticks\": \"\"}}, \"type\": \"scattergeo\"}], \"scattergl\": [{\"marker\": {\"colorbar\": {\"outlinewidth\": 0, \"ticks\": \"\"}}, \"type\": \"scattergl\"}], \"scattermapbox\": [{\"marker\": {\"colorbar\": {\"outlinewidth\": 0, \"ticks\": \"\"}}, \"type\": \"scattermapbox\"}], \"scatterpolar\": [{\"marker\": {\"colorbar\": {\"outlinewidth\": 0, \"ticks\": \"\"}}, \"type\": \"scatterpolar\"}], \"scatterpolargl\": [{\"marker\": {\"colorbar\": {\"outlinewidth\": 0, \"ticks\": \"\"}}, \"type\": \"scatterpolargl\"}], \"scatterternary\": [{\"marker\": {\"colorbar\": {\"outlinewidth\": 0, \"ticks\": \"\"}}, \"type\": \"scatterternary\"}], \"surface\": [{\"colorbar\": {\"outlinewidth\": 0, \"ticks\": \"\"}, \"colorscale\": [[0.0, \"#0d0887\"], [0.1111111111111111, \"#46039f\"], [0.2222222222222222, \"#7201a8\"], [0.3333333333333333, \"#9c179e\"], [0.4444444444444444, \"#bd3786\"], [0.5555555555555556, \"#d8576b\"], [0.6666666666666666, \"#ed7953\"], [0.7777777777777778, \"#fb9f3a\"], [0.8888888888888888, \"#fdca26\"], [1.0, \"#f0f921\"]], \"type\": \"surface\"}], \"table\": [{\"cells\": {\"fill\": {\"color\": \"#EBF0F8\"}, \"line\": {\"color\": \"white\"}}, \"header\": {\"fill\": {\"color\": \"#C8D4E3\"}, \"line\": {\"color\": \"white\"}}, \"type\": \"table\"}]}, \"layout\": {\"annotationdefaults\": {\"arrowcolor\": \"#2a3f5f\", \"arrowhead\": 0, \"arrowwidth\": 1}, \"coloraxis\": {\"colorbar\": {\"outlinewidth\": 0, \"ticks\": \"\"}}, \"colorscale\": {\"diverging\": [[0, \"#8e0152\"], [0.1, \"#c51b7d\"], [0.2, \"#de77ae\"], [0.3, \"#f1b6da\"], [0.4, \"#fde0ef\"], [0.5, \"#f7f7f7\"], [0.6, \"#e6f5d0\"], [0.7, \"#b8e186\"], [0.8, \"#7fbc41\"], [0.9, \"#4d9221\"], [1, \"#276419\"]], \"sequential\": [[0.0, \"#0d0887\"], [0.1111111111111111, \"#46039f\"], [0.2222222222222222, \"#7201a8\"], [0.3333333333333333, \"#9c179e\"], [0.4444444444444444, \"#bd3786\"], [0.5555555555555556, \"#d8576b\"], [0.6666666666666666, \"#ed7953\"], [0.7777777777777778, \"#fb9f3a\"], [0.8888888888888888, \"#fdca26\"], [1.0, \"#f0f921\"]], \"sequentialminus\": [[0.0, \"#0d0887\"], [0.1111111111111111, \"#46039f\"], [0.2222222222222222, \"#7201a8\"], [0.3333333333333333, \"#9c179e\"], [0.4444444444444444, \"#bd3786\"], [0.5555555555555556, \"#d8576b\"], [0.6666666666666666, \"#ed7953\"], [0.7777777777777778, \"#fb9f3a\"], [0.8888888888888888, \"#fdca26\"], [1.0, \"#f0f921\"]]}, \"colorway\": [\"#636efa\", \"#EF553B\", \"#00cc96\", \"#ab63fa\", \"#FFA15A\", \"#19d3f3\", \"#FF6692\", \"#B6E880\", \"#FF97FF\", \"#FECB52\"], \"font\": {\"color\": \"#2a3f5f\"}, \"geo\": {\"bgcolor\": \"white\", \"lakecolor\": \"white\", \"landcolor\": \"#E5ECF6\", \"showlakes\": true, \"showland\": true, \"subunitcolor\": \"white\"}, \"hoverlabel\": {\"align\": \"left\"}, \"hovermode\": \"closest\", \"mapbox\": {\"style\": \"light\"}, \"paper_bgcolor\": \"white\", \"plot_bgcolor\": \"#E5ECF6\", \"polar\": {\"angularaxis\": {\"gridcolor\": \"white\", \"linecolor\": \"white\", \"ticks\": \"\"}, \"bgcolor\": \"#E5ECF6\", \"radialaxis\": {\"gridcolor\": \"white\", \"linecolor\": \"white\", \"ticks\": \"\"}}, \"scene\": {\"xaxis\": {\"backgroundcolor\": \"#E5ECF6\", \"gridcolor\": \"white\", \"gridwidth\": 2, \"linecolor\": \"white\", \"showbackground\": true, \"ticks\": \"\", \"zerolinecolor\": \"white\"}, \"yaxis\": {\"backgroundcolor\": \"#E5ECF6\", \"gridcolor\": \"white\", \"gridwidth\": 2, \"linecolor\": \"white\", \"showbackground\": true, \"ticks\": \"\", \"zerolinecolor\": \"white\"}, \"zaxis\": {\"backgroundcolor\": \"#E5ECF6\", \"gridcolor\": \"white\", \"gridwidth\": 2, \"linecolor\": \"white\", \"showbackground\": true, \"ticks\": \"\", \"zerolinecolor\": \"white\"}}, \"shapedefaults\": {\"line\": {\"color\": \"#2a3f5f\"}}, \"ternary\": {\"aaxis\": {\"gridcolor\": \"white\", \"linecolor\": \"white\", \"ticks\": \"\"}, \"baxis\": {\"gridcolor\": \"white\", \"linecolor\": \"white\", \"ticks\": \"\"}, \"bgcolor\": \"#E5ECF6\", \"caxis\": {\"gridcolor\": \"white\", \"linecolor\": \"white\", \"ticks\": \"\"}}, \"title\": {\"x\": 0.05}, \"xaxis\": {\"automargin\": true, \"gridcolor\": \"white\", \"linecolor\": \"white\", \"ticks\": \"\", \"title\": {\"standoff\": 15}, \"zerolinecolor\": \"white\", \"zerolinewidth\": 2}, \"yaxis\": {\"automargin\": true, \"gridcolor\": \"white\", \"linecolor\": \"white\", \"ticks\": \"\", \"title\": {\"standoff\": 15}, \"zerolinecolor\": \"white\", \"zerolinewidth\": 2}}}, \"xaxis\": {\"anchor\": \"y\", \"domain\": [0.0, 1.0]}, \"yaxis\": {\"anchor\": \"x\", \"domain\": [0.0, 1.0], \"title\": {\"text\": \"accuracy\"}}},\n",
              "                        {\"responsive\": true}\n",
              "                    ).then(function(){\n",
              "                            \n",
              "var gd = document.getElementById('50a3f7f1-d798-493c-9e46-24fe90528964');\n",
              "var x = new MutationObserver(function (mutations, observer) {{\n",
              "        var display = window.getComputedStyle(gd).display;\n",
              "        if (!display || display === 'none') {{\n",
              "            console.log([gd, 'removed!']);\n",
              "            Plotly.purge(gd);\n",
              "            observer.disconnect();\n",
              "        }}\n",
              "}});\n",
              "\n",
              "// Listen for the removal of the full notebook cells\n",
              "var notebookContainer = gd.closest('#notebook-container');\n",
              "if (notebookContainer) {{\n",
              "    x.observe(notebookContainer, {childList: true});\n",
              "}}\n",
              "\n",
              "// Listen for the clearing of the current output cell\n",
              "var outputEl = gd.closest('.output');\n",
              "if (outputEl) {{\n",
              "    x.observe(outputEl, {childList: true});\n",
              "}}\n",
              "\n",
              "                        })\n",
              "                };\n",
              "                \n",
              "            </script>\n",
              "        </div>\n",
              "</body>\n",
              "</html>"
            ]
          },
          "metadata": {
            "tags": []
          }
        }
      ]
    },
    {
      "cell_type": "code",
      "metadata": {
        "id": "R2xJaLrjwtxi",
        "colab_type": "code",
        "outputId": "702910c2-1ea4-48ed-bc39-839d3d1861be",
        "colab": {
          "base_uri": "https://localhost:8080/",
          "height": 34
        }
      },
      "source": [
        "print(f'Le score moyen de la cross validation avec les ngram=(1,3) est : {np.mean(scores_wc3)}')"
      ],
      "execution_count": 0,
      "outputs": [
        {
          "output_type": "stream",
          "text": [
            "Le score moyen de la cross validation avec les ngram=(1,3) est : 0.9306772908366534\n"
          ],
          "name": "stdout"
        }
      ]
    },
    {
      "cell_type": "markdown",
      "metadata": {
        "id": "IyUzHRAmxanB",
        "colab_type": "text"
      },
      "source": [
        "### Conclusion NGRAM\n",
        "\n",
        "* Afin d'améliorer les performances de notre algorithme avec les NGRAM il nous faut faire du **feature engineering**. \n",
        "\n",
        "* La suppression du **max_feature** nous à permis de d'améliorer énormément nos performances. Ils nous faut trouver la valeur idéal en fonction de la taille de notre vocabulaire."
      ]
    },
    {
      "cell_type": "markdown",
      "metadata": {
        "id": "0U96sYR0OBc3",
        "colab_type": "text"
      },
      "source": [
        "## Impacte du Max_feature \n",
        "\n",
        "Nous allons étudier l'impacte du paramètre max_feature. Il semble être responsable des mauvaises performances que nous avons observer durant l'entrainement de notre modèle. "
      ]
    },
    {
      "cell_type": "code",
      "metadata": {
        "id": "1Ak6ecapNpMt",
        "colab_type": "code",
        "colab": {}
      },
      "source": [
        "vect_word_max_feature = TfidfVectorizer(analyzer='word', tokenizer=prepareText, ngram_range=(1,3), dtype=np.float32)"
      ],
      "execution_count": 0,
      "outputs": []
    },
    {
      "cell_type": "code",
      "metadata": {
        "id": "nWvWg7E7N1SX",
        "colab_type": "code",
        "colab": {}
      },
      "source": [
        "vocab_size_prop = [0.01, 0.03, 0.05, 0.08, 0.1, 0.2, 0.3, 0.4, 0.5, 0.6, 0.7, 0.8, 0.9]"
      ],
      "execution_count": 0,
      "outputs": []
    },
    {
      "cell_type": "code",
      "metadata": {
        "id": "PAWBbx2uOATp",
        "colab_type": "code",
        "outputId": "a76c8068-37a3-4d10-af4d-4ebc5351ba6a",
        "colab": {
          "base_uri": "https://localhost:8080/",
          "height": 221
        }
      },
      "source": [
        "vect_word_max_feature.fit(x_train)"
      ],
      "execution_count": 0,
      "outputs": [
        {
          "output_type": "stream",
          "text": [
            "/usr/local/lib/python3.6/dist-packages/sklearn/feature_extraction/text.py:507: UserWarning:\n",
            "\n",
            "The parameter 'token_pattern' will not be used since 'tokenizer' is not None'\n",
            "\n"
          ],
          "name": "stderr"
        },
        {
          "output_type": "execute_result",
          "data": {
            "text/plain": [
              "TfidfVectorizer(analyzer='word', binary=False, decode_error='strict',\n",
              "                dtype=<class 'numpy.float32'>, encoding='utf-8',\n",
              "                input='content', lowercase=True, max_df=1.0, max_features=None,\n",
              "                min_df=1, ngram_range=(1, 3), norm='l2', preprocessor=None,\n",
              "                smooth_idf=True, stop_words=None, strip_accents=None,\n",
              "                sublinear_tf=False, token_pattern='(?u)\\\\b\\\\w\\\\w+\\\\b',\n",
              "                tokenizer=<function prepareText at 0x7f8204b08510>,\n",
              "                use_idf=True, vocabulary=None)"
            ]
          },
          "metadata": {
            "tags": []
          },
          "execution_count": 159
        }
      ]
    },
    {
      "cell_type": "code",
      "metadata": {
        "id": "6m1HDiZeOPI9",
        "colab_type": "code",
        "colab": {}
      },
      "source": [
        "vocab_size = len(vect_word_max_feature.vocabulary_)"
      ],
      "execution_count": 0,
      "outputs": []
    },
    {
      "cell_type": "code",
      "metadata": {
        "id": "dCwCyRp2DA_a",
        "colab_type": "code",
        "colab": {}
      },
      "source": [
        "import math"
      ],
      "execution_count": 0,
      "outputs": []
    },
    {
      "cell_type": "code",
      "metadata": {
        "id": "PIFCbi9mS8fH",
        "colab_type": "code",
        "colab": {}
      },
      "source": [
        "from sklearn.metrics import accuracy_score, precision_score, f1_score, roc_auc_score, recall_score\n",
        "from sklearn.model_selection import cross_val_score"
      ],
      "execution_count": 0,
      "outputs": []
    },
    {
      "cell_type": "code",
      "metadata": {
        "id": "yyqQx2YFR9AQ",
        "colab_type": "code",
        "outputId": "fc641d68-4057-4d49-a85c-b9a31f8ad302",
        "colab": {
          "base_uri": "https://localhost:8080/",
          "height": 1000
        }
      },
      "source": [
        "svc = LinearSVC()\n",
        "classification_report_results = {}\n",
        "for prop in vocab_size_prop:\n",
        "  max_feature = math.ceil(vocab_size * prop)\n",
        "  vect = TfidfVectorizer(analyzer='word', tokenizer=prepareText, max_features=max_feature, ngram_range=(1,3), dtype=np.float32)\n",
        "  vect_corpus = vect.fit_transform(x_train)\n",
        "  vect_test_corpus = vect.transform(x_test)\n",
        "  svc.fit(vect_corpus, y_train)\n",
        "  prediction = svc.predict(vect_test_corpus)\n",
        "  print(str( str(20 * '-') + \"- max_feature : \" + str(max_feature) + \"| soit : \" + str(prop * 100) + \"% du vocabulaire\" + str(20 * '-')))\n",
        "  classification_report_results[max_feature] = classification_report(y_test, prediction)\n",
        "  print(classification_report_results[max_feature])"
      ],
      "execution_count": 0,
      "outputs": [
        {
          "output_type": "stream",
          "text": [
            "--------------------- max_feature : 1820| soit : 1.0% du vocabulaire--------------------\n",
            "              precision    recall  f1-score   support\n",
            "\n",
            "           7       0.89      0.92      0.91       178\n",
            "          10       0.95      0.92      0.94       180\n",
            "          15       0.93      0.93      0.93       180\n",
            "\n",
            "    accuracy                           0.93       538\n",
            "   macro avg       0.93      0.93      0.93       538\n",
            "weighted avg       0.93      0.93      0.93       538\n",
            "\n",
            "--------------------- max_feature : 5459| soit : 3.0% du vocabulaire--------------------\n",
            "              precision    recall  f1-score   support\n",
            "\n",
            "           7       0.91      0.93      0.92       178\n",
            "          10       0.97      0.93      0.95       180\n",
            "          15       0.94      0.95      0.95       180\n",
            "\n",
            "    accuracy                           0.94       538\n",
            "   macro avg       0.94      0.94      0.94       538\n",
            "weighted avg       0.94      0.94      0.94       538\n",
            "\n",
            "--------------------- max_feature : 9099| soit : 5.0% du vocabulaire--------------------\n",
            "              precision    recall  f1-score   support\n",
            "\n",
            "           7       0.92      0.94      0.93       178\n",
            "          10       0.98      0.94      0.96       180\n",
            "          15       0.94      0.95      0.95       180\n",
            "\n",
            "    accuracy                           0.95       538\n",
            "   macro avg       0.95      0.95      0.95       538\n",
            "weighted avg       0.95      0.95      0.95       538\n",
            "\n",
            "--------------------- max_feature : 14558| soit : 8.0% du vocabulaire--------------------\n",
            "              precision    recall  f1-score   support\n",
            "\n",
            "           7       0.91      0.94      0.93       178\n",
            "          10       0.98      0.94      0.96       180\n",
            "          15       0.94      0.94      0.94       180\n",
            "\n",
            "    accuracy                           0.94       538\n",
            "   macro avg       0.94      0.94      0.94       538\n",
            "weighted avg       0.94      0.94      0.94       538\n",
            "\n",
            "--------------------- max_feature : 18197| soit : 10.0% du vocabulaire--------------------\n",
            "              precision    recall  f1-score   support\n",
            "\n",
            "           7       0.91      0.94      0.93       178\n",
            "          10       0.98      0.94      0.96       180\n",
            "          15       0.94      0.94      0.94       180\n",
            "\n",
            "    accuracy                           0.94       538\n",
            "   macro avg       0.94      0.94      0.94       538\n",
            "weighted avg       0.94      0.94      0.94       538\n",
            "\n",
            "--------------------- max_feature : 36393| soit : 20.0% du vocabulaire--------------------\n",
            "              precision    recall  f1-score   support\n",
            "\n",
            "           7       0.93      0.94      0.94       178\n",
            "          10       0.98      0.94      0.96       180\n",
            "          15       0.94      0.96      0.95       180\n",
            "\n",
            "    accuracy                           0.95       538\n",
            "   macro avg       0.95      0.95      0.95       538\n",
            "weighted avg       0.95      0.95      0.95       538\n",
            "\n",
            "--------------------- max_feature : 54590| soit : 30.0% du vocabulaire--------------------\n",
            "              precision    recall  f1-score   support\n",
            "\n",
            "           7       0.93      0.94      0.94       178\n",
            "          10       0.98      0.94      0.96       180\n",
            "          15       0.94      0.96      0.95       180\n",
            "\n",
            "    accuracy                           0.95       538\n",
            "   macro avg       0.95      0.95      0.95       538\n",
            "weighted avg       0.95      0.95      0.95       538\n",
            "\n",
            "--------------------- max_feature : 72786| soit : 40.0% du vocabulaire--------------------\n",
            "              precision    recall  f1-score   support\n",
            "\n",
            "           7       0.93      0.94      0.94       178\n",
            "          10       0.98      0.94      0.96       180\n",
            "          15       0.95      0.96      0.95       180\n",
            "\n",
            "    accuracy                           0.95       538\n",
            "   macro avg       0.95      0.95      0.95       538\n",
            "weighted avg       0.95      0.95      0.95       538\n",
            "\n",
            "--------------------- max_feature : 90982| soit : 50.0% du vocabulaire--------------------\n",
            "              precision    recall  f1-score   support\n",
            "\n",
            "           7       0.93      0.94      0.94       178\n",
            "          10       0.98      0.94      0.96       180\n",
            "          15       0.94      0.96      0.95       180\n",
            "\n",
            "    accuracy                           0.95       538\n",
            "   macro avg       0.95      0.95      0.95       538\n",
            "weighted avg       0.95      0.95      0.95       538\n",
            "\n",
            "--------------------- max_feature : 109179| soit : 60.0% du vocabulaire--------------------\n",
            "              precision    recall  f1-score   support\n",
            "\n",
            "           7       0.93      0.94      0.94       178\n",
            "          10       0.99      0.94      0.97       180\n",
            "          15       0.94      0.97      0.95       180\n",
            "\n",
            "    accuracy                           0.95       538\n",
            "   macro avg       0.95      0.95      0.95       538\n",
            "weighted avg       0.95      0.95      0.95       538\n",
            "\n",
            "--------------------- max_feature : 127375| soit : 70.0% du vocabulaire--------------------\n",
            "              precision    recall  f1-score   support\n",
            "\n",
            "           7       0.93      0.94      0.94       178\n",
            "          10       0.99      0.94      0.97       180\n",
            "          15       0.94      0.97      0.95       180\n",
            "\n",
            "    accuracy                           0.95       538\n",
            "   macro avg       0.95      0.95      0.95       538\n",
            "weighted avg       0.95      0.95      0.95       538\n",
            "\n",
            "--------------------- max_feature : 145572| soit : 80.0% du vocabulaire--------------------\n",
            "              precision    recall  f1-score   support\n",
            "\n",
            "           7       0.93      0.94      0.94       178\n",
            "          10       0.99      0.94      0.97       180\n",
            "          15       0.93      0.97      0.95       180\n",
            "\n",
            "    accuracy                           0.95       538\n",
            "   macro avg       0.95      0.95      0.95       538\n",
            "weighted avg       0.95      0.95      0.95       538\n",
            "\n",
            "--------------------- max_feature : 163768| soit : 90.0% du vocabulaire--------------------\n",
            "              precision    recall  f1-score   support\n",
            "\n",
            "           7       0.93      0.94      0.94       178\n",
            "          10       0.99      0.94      0.96       180\n",
            "          15       0.93      0.97      0.95       180\n",
            "\n",
            "    accuracy                           0.95       538\n",
            "   macro avg       0.95      0.95      0.95       538\n",
            "weighted avg       0.95      0.95      0.95       538\n",
            "\n"
          ],
          "name": "stdout"
        }
      ]
    },
    {
      "cell_type": "markdown",
      "metadata": {
        "id": "nl83dyUETJ5j",
        "colab_type": "text"
      },
      "source": [
        "#### **Validation croisé**"
      ]
    },
    {
      "cell_type": "markdown",
      "metadata": {
        "id": "JZ4z9WUsL0mw",
        "colab_type": "text"
      },
      "source": [
        "Validons nos résultat par  validation croisé. "
      ]
    },
    {
      "cell_type": "code",
      "metadata": {
        "id": "wlTOk18mxUaQ",
        "colab_type": "code",
        "colab": {}
      },
      "source": [
        "from datetime import datetime\n",
        "\n",
        "from sklearn.linear_model import LogisticRegression"
      ],
      "execution_count": 0,
      "outputs": []
    },
    {
      "cell_type": "code",
      "metadata": {
        "id": "v0H233z284AW",
        "colab_type": "code",
        "outputId": "6a8ff7b2-4335-40a7-a24f-5f6e1624659c",
        "colab": {
          "base_uri": "https://localhost:8080/",
          "height": 51
        }
      },
      "source": [
        "%%time \n",
        "import numpy as np\n",
        "\n",
        "svc = LinearSVC()\n",
        "report_max_feature = []\n",
        "report_f1_score = []\n",
        "report_time = []\n",
        "report_vect_shape = []\n",
        "\n",
        "for prop in vocab_size_prop:\n",
        "  max_feature = math.ceil(vocab_size * prop)\n",
        "  vect = TfidfVectorizer(analyzer='word', tokenizer=prepareText, max_features=max_feature, ngram_range=(1,3), dtype=np.float32)\n",
        "  start = datetime.now()\n",
        "  vect_corpus = vect.fit_transform(x_train)\n",
        "  scores = cross_val_score(svc, vect_corpus, y_train,scoring='accuracy')\n",
        "  end = datetime.now()\n",
        "  report_time.append(end-start)\n",
        "  report_vect_shape.append(str(vect_corpus.shape))\n",
        "  report_f1_score.append(np.mean(scores))\n",
        "  report_max_feature.append(max_feature)"
      ],
      "execution_count": 0,
      "outputs": [
        {
          "output_type": "stream",
          "text": [
            "CPU times: user 10min 14s, sys: 3.83 s, total: 10min 18s\n",
            "Wall time: 10min 19s\n"
          ],
          "name": "stdout"
        }
      ]
    },
    {
      "cell_type": "code",
      "metadata": {
        "id": "HO8g-DDU9Ei1",
        "colab_type": "code",
        "colab": {}
      },
      "source": [
        "report_svc = {'max feature' : report_max_feature, 'proportion' : vocab_size_prop, 'duration' : report_time, 'vector shape' : report_vect_shape,'f1-score' : report_f1_score}"
      ],
      "execution_count": 0,
      "outputs": []
    },
    {
      "cell_type": "code",
      "metadata": {
        "id": "CKmbnl429Seb",
        "colab_type": "code",
        "colab": {}
      },
      "source": [
        "df_svc = pd.DataFrame(report_svc)"
      ],
      "execution_count": 0,
      "outputs": []
    },
    {
      "cell_type": "code",
      "metadata": {
        "id": "poDkO8ibS5hZ",
        "colab_type": "code",
        "outputId": "464318d3-bc74-4576-d5d8-2d7f0d39875b",
        "colab": {
          "base_uri": "https://localhost:8080/",
          "height": 452
        }
      },
      "source": [
        "df_svc"
      ],
      "execution_count": 0,
      "outputs": [
        {
          "output_type": "execute_result",
          "data": {
            "text/html": [
              "<div>\n",
              "<style scoped>\n",
              "    .dataframe tbody tr th:only-of-type {\n",
              "        vertical-align: middle;\n",
              "    }\n",
              "\n",
              "    .dataframe tbody tr th {\n",
              "        vertical-align: top;\n",
              "    }\n",
              "\n",
              "    .dataframe thead th {\n",
              "        text-align: right;\n",
              "    }\n",
              "</style>\n",
              "<table border=\"1\" class=\"dataframe\">\n",
              "  <thead>\n",
              "    <tr style=\"text-align: right;\">\n",
              "      <th></th>\n",
              "      <th>max feature</th>\n",
              "      <th>proportion</th>\n",
              "      <th>duration</th>\n",
              "      <th>vector shape</th>\n",
              "      <th>f1-score</th>\n",
              "    </tr>\n",
              "  </thead>\n",
              "  <tbody>\n",
              "    <tr>\n",
              "      <th>0</th>\n",
              "      <td>1820</td>\n",
              "      <td>0.01</td>\n",
              "      <td>00:00:47.529951</td>\n",
              "      <td>(1255, 1820)</td>\n",
              "      <td>0.919522</td>\n",
              "    </tr>\n",
              "    <tr>\n",
              "      <th>1</th>\n",
              "      <td>5459</td>\n",
              "      <td>0.03</td>\n",
              "      <td>00:00:47.451275</td>\n",
              "      <td>(1255, 5459)</td>\n",
              "      <td>0.933865</td>\n",
              "    </tr>\n",
              "    <tr>\n",
              "      <th>2</th>\n",
              "      <td>9099</td>\n",
              "      <td>0.05</td>\n",
              "      <td>00:00:47.455973</td>\n",
              "      <td>(1255, 9099)</td>\n",
              "      <td>0.930677</td>\n",
              "    </tr>\n",
              "    <tr>\n",
              "      <th>3</th>\n",
              "      <td>14558</td>\n",
              "      <td>0.08</td>\n",
              "      <td>00:00:47.584522</td>\n",
              "      <td>(1255, 14558)</td>\n",
              "      <td>0.931474</td>\n",
              "    </tr>\n",
              "    <tr>\n",
              "      <th>4</th>\n",
              "      <td>18197</td>\n",
              "      <td>0.10</td>\n",
              "      <td>00:00:47.478120</td>\n",
              "      <td>(1255, 18197)</td>\n",
              "      <td>0.933068</td>\n",
              "    </tr>\n",
              "    <tr>\n",
              "      <th>5</th>\n",
              "      <td>36393</td>\n",
              "      <td>0.20</td>\n",
              "      <td>00:00:47.687334</td>\n",
              "      <td>(1255, 36393)</td>\n",
              "      <td>0.931474</td>\n",
              "    </tr>\n",
              "    <tr>\n",
              "      <th>6</th>\n",
              "      <td>54590</td>\n",
              "      <td>0.30</td>\n",
              "      <td>00:00:47.495475</td>\n",
              "      <td>(1255, 54590)</td>\n",
              "      <td>0.930677</td>\n",
              "    </tr>\n",
              "    <tr>\n",
              "      <th>7</th>\n",
              "      <td>72786</td>\n",
              "      <td>0.40</td>\n",
              "      <td>00:00:47.593437</td>\n",
              "      <td>(1255, 72786)</td>\n",
              "      <td>0.930677</td>\n",
              "    </tr>\n",
              "    <tr>\n",
              "      <th>8</th>\n",
              "      <td>90982</td>\n",
              "      <td>0.50</td>\n",
              "      <td>00:00:47.575346</td>\n",
              "      <td>(1255, 90982)</td>\n",
              "      <td>0.929880</td>\n",
              "    </tr>\n",
              "    <tr>\n",
              "      <th>9</th>\n",
              "      <td>109179</td>\n",
              "      <td>0.60</td>\n",
              "      <td>00:00:47.614264</td>\n",
              "      <td>(1255, 109179)</td>\n",
              "      <td>0.927490</td>\n",
              "    </tr>\n",
              "    <tr>\n",
              "      <th>10</th>\n",
              "      <td>127375</td>\n",
              "      <td>0.70</td>\n",
              "      <td>00:00:47.808900</td>\n",
              "      <td>(1255, 127375)</td>\n",
              "      <td>0.930677</td>\n",
              "    </tr>\n",
              "    <tr>\n",
              "      <th>11</th>\n",
              "      <td>145572</td>\n",
              "      <td>0.80</td>\n",
              "      <td>00:00:47.621602</td>\n",
              "      <td>(1255, 145572)</td>\n",
              "      <td>0.928287</td>\n",
              "    </tr>\n",
              "    <tr>\n",
              "      <th>12</th>\n",
              "      <td>163768</td>\n",
              "      <td>0.90</td>\n",
              "      <td>00:00:48.017798</td>\n",
              "      <td>(1255, 163768)</td>\n",
              "      <td>0.925896</td>\n",
              "    </tr>\n",
              "  </tbody>\n",
              "</table>\n",
              "</div>"
            ],
            "text/plain": [
              "    max feature  proportion        duration    vector shape  f1-score\n",
              "0          1820        0.01 00:00:47.529951    (1255, 1820)  0.919522\n",
              "1          5459        0.03 00:00:47.451275    (1255, 5459)  0.933865\n",
              "2          9099        0.05 00:00:47.455973    (1255, 9099)  0.930677\n",
              "3         14558        0.08 00:00:47.584522   (1255, 14558)  0.931474\n",
              "4         18197        0.10 00:00:47.478120   (1255, 18197)  0.933068\n",
              "5         36393        0.20 00:00:47.687334   (1255, 36393)  0.931474\n",
              "6         54590        0.30 00:00:47.495475   (1255, 54590)  0.930677\n",
              "7         72786        0.40 00:00:47.593437   (1255, 72786)  0.930677\n",
              "8         90982        0.50 00:00:47.575346   (1255, 90982)  0.929880\n",
              "9        109179        0.60 00:00:47.614264  (1255, 109179)  0.927490\n",
              "10       127375        0.70 00:00:47.808900  (1255, 127375)  0.930677\n",
              "11       145572        0.80 00:00:47.621602  (1255, 145572)  0.928287\n",
              "12       163768        0.90 00:00:48.017798  (1255, 163768)  0.925896"
            ]
          },
          "metadata": {
            "tags": []
          },
          "execution_count": 211
        }
      ]
    },
    {
      "cell_type": "code",
      "metadata": {
        "id": "6n5Evz1NDoCL",
        "colab_type": "code",
        "outputId": "c104eca0-f020-4e6d-c9ec-08b1406e5af4",
        "colab": {
          "base_uri": "https://localhost:8080/",
          "height": 542
        }
      },
      "source": [
        "px.scatter(df_svc,x='max feature',y='f1-score', color='proportion', size='proportion', labels={'max feature' : \"Taille du vocabulaire\"}, title='Évolution de la précision en fonction de la taille du vocabulaire')"
      ],
      "execution_count": 0,
      "outputs": [
        {
          "output_type": "display_data",
          "data": {
            "text/html": [
              "<html>\n",
              "<head><meta charset=\"utf-8\" /></head>\n",
              "<body>\n",
              "    <div>\n",
              "            <script src=\"https://cdnjs.cloudflare.com/ajax/libs/mathjax/2.7.5/MathJax.js?config=TeX-AMS-MML_SVG\"></script><script type=\"text/javascript\">if (window.MathJax) {MathJax.Hub.Config({SVG: {font: \"STIX-Web\"}});}</script>\n",
              "                <script type=\"text/javascript\">window.PlotlyConfig = {MathJaxConfig: 'local'};</script>\n",
              "        <script src=\"https://cdn.plot.ly/plotly-latest.min.js\"></script>    \n",
              "            <div id=\"f4ee087f-7113-4bf5-8802-d52f36e8e619\" class=\"plotly-graph-div\" style=\"height:525px; width:100%;\"></div>\n",
              "            <script type=\"text/javascript\">\n",
              "                \n",
              "                    window.PLOTLYENV=window.PLOTLYENV || {};\n",
              "                    \n",
              "                if (document.getElementById(\"f4ee087f-7113-4bf5-8802-d52f36e8e619\")) {\n",
              "                    Plotly.newPlot(\n",
              "                        'f4ee087f-7113-4bf5-8802-d52f36e8e619',\n",
              "                        [{\"hoverlabel\": {\"namelength\": 0}, \"hovertemplate\": \"Taille du vocabulaire=%{x}<br>f1-score=%{y}<br>proportion=%{marker.color}\", \"legendgroup\": \"\", \"marker\": {\"color\": [0.01, 0.03, 0.05, 0.08, 0.1, 0.2, 0.3, 0.4, 0.5, 0.6, 0.7, 0.8, 0.9], \"coloraxis\": \"coloraxis\", \"size\": [0.01, 0.03, 0.05, 0.08, 0.1, 0.2, 0.3, 0.4, 0.5, 0.6, 0.7, 0.8, 0.9], \"sizemode\": \"area\", \"sizeref\": 0.0022500000000000003, \"symbol\": \"circle\"}, \"mode\": \"markers\", \"name\": \"\", \"showlegend\": false, \"type\": \"scatter\", \"x\": [1820, 5459, 9099, 14558, 18197, 36393, 54590, 72786, 90982, 109179, 127375, 145572, 163768], \"xaxis\": \"x\", \"y\": [0.9195219123505975, 0.9338645418326692, 0.9306772908366533, 0.9314741035856574, 0.9330677290836654, 0.9314741035856573, 0.9306772908366533, 0.9306772908366533, 0.9298804780876493, 0.9274900398406374, 0.9306772908366533, 0.9282868525896413, 0.9258964143426294], \"yaxis\": \"y\"}],\n",
              "                        {\"coloraxis\": {\"colorbar\": {\"title\": {\"text\": \"proportion\"}}, \"colorscale\": [[0.0, \"#0d0887\"], [0.1111111111111111, \"#46039f\"], [0.2222222222222222, \"#7201a8\"], [0.3333333333333333, \"#9c179e\"], [0.4444444444444444, \"#bd3786\"], [0.5555555555555556, \"#d8576b\"], [0.6666666666666666, \"#ed7953\"], [0.7777777777777778, \"#fb9f3a\"], [0.8888888888888888, \"#fdca26\"], [1.0, \"#f0f921\"]]}, \"legend\": {\"itemsizing\": \"constant\", \"tracegroupgap\": 0}, \"template\": {\"data\": {\"bar\": [{\"error_x\": {\"color\": \"#2a3f5f\"}, \"error_y\": {\"color\": \"#2a3f5f\"}, \"marker\": {\"line\": {\"color\": \"#E5ECF6\", \"width\": 0.5}}, \"type\": \"bar\"}], \"barpolar\": [{\"marker\": {\"line\": {\"color\": \"#E5ECF6\", \"width\": 0.5}}, \"type\": \"barpolar\"}], \"carpet\": [{\"aaxis\": {\"endlinecolor\": \"#2a3f5f\", \"gridcolor\": \"white\", \"linecolor\": \"white\", \"minorgridcolor\": \"white\", \"startlinecolor\": \"#2a3f5f\"}, \"baxis\": {\"endlinecolor\": \"#2a3f5f\", \"gridcolor\": \"white\", \"linecolor\": \"white\", \"minorgridcolor\": \"white\", \"startlinecolor\": \"#2a3f5f\"}, \"type\": \"carpet\"}], \"choropleth\": [{\"colorbar\": {\"outlinewidth\": 0, \"ticks\": \"\"}, \"type\": \"choropleth\"}], \"contour\": [{\"colorbar\": {\"outlinewidth\": 0, \"ticks\": \"\"}, \"colorscale\": [[0.0, \"#0d0887\"], [0.1111111111111111, \"#46039f\"], [0.2222222222222222, \"#7201a8\"], [0.3333333333333333, \"#9c179e\"], [0.4444444444444444, \"#bd3786\"], [0.5555555555555556, \"#d8576b\"], [0.6666666666666666, \"#ed7953\"], [0.7777777777777778, \"#fb9f3a\"], [0.8888888888888888, \"#fdca26\"], [1.0, \"#f0f921\"]], \"type\": \"contour\"}], \"contourcarpet\": [{\"colorbar\": {\"outlinewidth\": 0, \"ticks\": \"\"}, \"type\": \"contourcarpet\"}], \"heatmap\": [{\"colorbar\": {\"outlinewidth\": 0, \"ticks\": \"\"}, \"colorscale\": [[0.0, \"#0d0887\"], [0.1111111111111111, \"#46039f\"], [0.2222222222222222, \"#7201a8\"], [0.3333333333333333, \"#9c179e\"], [0.4444444444444444, \"#bd3786\"], [0.5555555555555556, \"#d8576b\"], [0.6666666666666666, \"#ed7953\"], [0.7777777777777778, \"#fb9f3a\"], [0.8888888888888888, \"#fdca26\"], [1.0, \"#f0f921\"]], \"type\": \"heatmap\"}], \"heatmapgl\": [{\"colorbar\": {\"outlinewidth\": 0, \"ticks\": \"\"}, \"colorscale\": [[0.0, \"#0d0887\"], [0.1111111111111111, \"#46039f\"], [0.2222222222222222, \"#7201a8\"], [0.3333333333333333, \"#9c179e\"], [0.4444444444444444, \"#bd3786\"], [0.5555555555555556, \"#d8576b\"], [0.6666666666666666, \"#ed7953\"], [0.7777777777777778, \"#fb9f3a\"], [0.8888888888888888, \"#fdca26\"], [1.0, \"#f0f921\"]], \"type\": \"heatmapgl\"}], \"histogram\": [{\"marker\": {\"colorbar\": {\"outlinewidth\": 0, \"ticks\": \"\"}}, \"type\": \"histogram\"}], \"histogram2d\": [{\"colorbar\": {\"outlinewidth\": 0, \"ticks\": \"\"}, \"colorscale\": [[0.0, \"#0d0887\"], [0.1111111111111111, \"#46039f\"], [0.2222222222222222, \"#7201a8\"], [0.3333333333333333, \"#9c179e\"], [0.4444444444444444, \"#bd3786\"], [0.5555555555555556, \"#d8576b\"], [0.6666666666666666, \"#ed7953\"], [0.7777777777777778, \"#fb9f3a\"], [0.8888888888888888, \"#fdca26\"], [1.0, \"#f0f921\"]], \"type\": \"histogram2d\"}], \"histogram2dcontour\": [{\"colorbar\": {\"outlinewidth\": 0, \"ticks\": \"\"}, \"colorscale\": [[0.0, \"#0d0887\"], [0.1111111111111111, \"#46039f\"], [0.2222222222222222, \"#7201a8\"], [0.3333333333333333, \"#9c179e\"], [0.4444444444444444, \"#bd3786\"], [0.5555555555555556, \"#d8576b\"], [0.6666666666666666, \"#ed7953\"], [0.7777777777777778, \"#fb9f3a\"], [0.8888888888888888, \"#fdca26\"], [1.0, \"#f0f921\"]], \"type\": \"histogram2dcontour\"}], \"mesh3d\": [{\"colorbar\": {\"outlinewidth\": 0, \"ticks\": \"\"}, \"type\": \"mesh3d\"}], \"parcoords\": [{\"line\": {\"colorbar\": {\"outlinewidth\": 0, \"ticks\": \"\"}}, \"type\": \"parcoords\"}], \"pie\": [{\"automargin\": true, \"type\": \"pie\"}], \"scatter\": [{\"marker\": {\"colorbar\": {\"outlinewidth\": 0, \"ticks\": \"\"}}, \"type\": \"scatter\"}], \"scatter3d\": [{\"line\": {\"colorbar\": {\"outlinewidth\": 0, \"ticks\": \"\"}}, \"marker\": {\"colorbar\": {\"outlinewidth\": 0, \"ticks\": \"\"}}, \"type\": \"scatter3d\"}], \"scattercarpet\": [{\"marker\": {\"colorbar\": {\"outlinewidth\": 0, \"ticks\": \"\"}}, \"type\": \"scattercarpet\"}], \"scattergeo\": [{\"marker\": {\"colorbar\": {\"outlinewidth\": 0, \"ticks\": \"\"}}, \"type\": \"scattergeo\"}], \"scattergl\": [{\"marker\": {\"colorbar\": {\"outlinewidth\": 0, \"ticks\": \"\"}}, \"type\": \"scattergl\"}], \"scattermapbox\": [{\"marker\": {\"colorbar\": {\"outlinewidth\": 0, \"ticks\": \"\"}}, \"type\": \"scattermapbox\"}], \"scatterpolar\": [{\"marker\": {\"colorbar\": {\"outlinewidth\": 0, \"ticks\": \"\"}}, \"type\": \"scatterpolar\"}], \"scatterpolargl\": [{\"marker\": {\"colorbar\": {\"outlinewidth\": 0, \"ticks\": \"\"}}, \"type\": \"scatterpolargl\"}], \"scatterternary\": [{\"marker\": {\"colorbar\": {\"outlinewidth\": 0, \"ticks\": \"\"}}, \"type\": \"scatterternary\"}], \"surface\": [{\"colorbar\": {\"outlinewidth\": 0, \"ticks\": \"\"}, \"colorscale\": [[0.0, \"#0d0887\"], [0.1111111111111111, \"#46039f\"], [0.2222222222222222, \"#7201a8\"], [0.3333333333333333, \"#9c179e\"], [0.4444444444444444, \"#bd3786\"], [0.5555555555555556, \"#d8576b\"], [0.6666666666666666, \"#ed7953\"], [0.7777777777777778, \"#fb9f3a\"], [0.8888888888888888, \"#fdca26\"], [1.0, \"#f0f921\"]], \"type\": \"surface\"}], \"table\": [{\"cells\": {\"fill\": {\"color\": \"#EBF0F8\"}, \"line\": {\"color\": \"white\"}}, \"header\": {\"fill\": {\"color\": \"#C8D4E3\"}, \"line\": {\"color\": \"white\"}}, \"type\": \"table\"}]}, \"layout\": {\"annotationdefaults\": {\"arrowcolor\": \"#2a3f5f\", \"arrowhead\": 0, \"arrowwidth\": 1}, \"coloraxis\": {\"colorbar\": {\"outlinewidth\": 0, \"ticks\": \"\"}}, \"colorscale\": {\"diverging\": [[0, \"#8e0152\"], [0.1, \"#c51b7d\"], [0.2, \"#de77ae\"], [0.3, \"#f1b6da\"], [0.4, \"#fde0ef\"], [0.5, \"#f7f7f7\"], [0.6, \"#e6f5d0\"], [0.7, \"#b8e186\"], [0.8, \"#7fbc41\"], [0.9, \"#4d9221\"], [1, \"#276419\"]], \"sequential\": [[0.0, \"#0d0887\"], [0.1111111111111111, \"#46039f\"], [0.2222222222222222, \"#7201a8\"], [0.3333333333333333, \"#9c179e\"], [0.4444444444444444, \"#bd3786\"], [0.5555555555555556, \"#d8576b\"], [0.6666666666666666, \"#ed7953\"], [0.7777777777777778, \"#fb9f3a\"], [0.8888888888888888, \"#fdca26\"], [1.0, \"#f0f921\"]], \"sequentialminus\": [[0.0, \"#0d0887\"], [0.1111111111111111, \"#46039f\"], [0.2222222222222222, \"#7201a8\"], [0.3333333333333333, \"#9c179e\"], [0.4444444444444444, \"#bd3786\"], [0.5555555555555556, \"#d8576b\"], [0.6666666666666666, \"#ed7953\"], [0.7777777777777778, \"#fb9f3a\"], [0.8888888888888888, \"#fdca26\"], [1.0, \"#f0f921\"]]}, \"colorway\": [\"#636efa\", \"#EF553B\", \"#00cc96\", \"#ab63fa\", \"#FFA15A\", \"#19d3f3\", \"#FF6692\", \"#B6E880\", \"#FF97FF\", \"#FECB52\"], \"font\": {\"color\": \"#2a3f5f\"}, \"geo\": {\"bgcolor\": \"white\", \"lakecolor\": \"white\", \"landcolor\": \"#E5ECF6\", \"showlakes\": true, \"showland\": true, \"subunitcolor\": \"white\"}, \"hoverlabel\": {\"align\": \"left\"}, \"hovermode\": \"closest\", \"mapbox\": {\"style\": \"light\"}, \"paper_bgcolor\": \"white\", \"plot_bgcolor\": \"#E5ECF6\", \"polar\": {\"angularaxis\": {\"gridcolor\": \"white\", \"linecolor\": \"white\", \"ticks\": \"\"}, \"bgcolor\": \"#E5ECF6\", \"radialaxis\": {\"gridcolor\": \"white\", \"linecolor\": \"white\", \"ticks\": \"\"}}, \"scene\": {\"xaxis\": {\"backgroundcolor\": \"#E5ECF6\", \"gridcolor\": \"white\", \"gridwidth\": 2, \"linecolor\": \"white\", \"showbackground\": true, \"ticks\": \"\", \"zerolinecolor\": \"white\"}, \"yaxis\": {\"backgroundcolor\": \"#E5ECF6\", \"gridcolor\": \"white\", \"gridwidth\": 2, \"linecolor\": \"white\", \"showbackground\": true, \"ticks\": \"\", \"zerolinecolor\": \"white\"}, \"zaxis\": {\"backgroundcolor\": \"#E5ECF6\", \"gridcolor\": \"white\", \"gridwidth\": 2, \"linecolor\": \"white\", \"showbackground\": true, \"ticks\": \"\", \"zerolinecolor\": \"white\"}}, \"shapedefaults\": {\"line\": {\"color\": \"#2a3f5f\"}}, \"ternary\": {\"aaxis\": {\"gridcolor\": \"white\", \"linecolor\": \"white\", \"ticks\": \"\"}, \"baxis\": {\"gridcolor\": \"white\", \"linecolor\": \"white\", \"ticks\": \"\"}, \"bgcolor\": \"#E5ECF6\", \"caxis\": {\"gridcolor\": \"white\", \"linecolor\": \"white\", \"ticks\": \"\"}}, \"title\": {\"x\": 0.05}, \"xaxis\": {\"automargin\": true, \"gridcolor\": \"white\", \"linecolor\": \"white\", \"ticks\": \"\", \"title\": {\"standoff\": 15}, \"zerolinecolor\": \"white\", \"zerolinewidth\": 2}, \"yaxis\": {\"automargin\": true, \"gridcolor\": \"white\", \"linecolor\": \"white\", \"ticks\": \"\", \"title\": {\"standoff\": 15}, \"zerolinecolor\": \"white\", \"zerolinewidth\": 2}}}, \"title\": {\"text\": \"\\u00c9volution de la pr\\u00e9cision en fonction de la taille du vocabulaire\"}, \"xaxis\": {\"anchor\": \"y\", \"domain\": [0.0, 1.0], \"title\": {\"text\": \"Taille du vocabulaire\"}}, \"yaxis\": {\"anchor\": \"x\", \"domain\": [0.0, 1.0], \"title\": {\"text\": \"f1-score\"}}},\n",
              "                        {\"responsive\": true}\n",
              "                    ).then(function(){\n",
              "                            \n",
              "var gd = document.getElementById('f4ee087f-7113-4bf5-8802-d52f36e8e619');\n",
              "var x = new MutationObserver(function (mutations, observer) {{\n",
              "        var display = window.getComputedStyle(gd).display;\n",
              "        if (!display || display === 'none') {{\n",
              "            console.log([gd, 'removed!']);\n",
              "            Plotly.purge(gd);\n",
              "            observer.disconnect();\n",
              "        }}\n",
              "}});\n",
              "\n",
              "// Listen for the removal of the full notebook cells\n",
              "var notebookContainer = gd.closest('#notebook-container');\n",
              "if (notebookContainer) {{\n",
              "    x.observe(notebookContainer, {childList: true});\n",
              "}}\n",
              "\n",
              "// Listen for the clearing of the current output cell\n",
              "var outputEl = gd.closest('.output');\n",
              "if (outputEl) {{\n",
              "    x.observe(outputEl, {childList: true});\n",
              "}}\n",
              "\n",
              "                        })\n",
              "                };\n",
              "                \n",
              "            </script>\n",
              "        </div>\n",
              "</body>\n",
              "</html>"
            ]
          },
          "metadata": {
            "tags": []
          }
        }
      ]
    },
    {
      "cell_type": "markdown",
      "metadata": {
        "id": "QcKRZG6tnCbg",
        "colab_type": "text"
      },
      "source": [
        "Avec 1% soit 1820 mots du vocabulaire, on obtient un score de 91.9%. En ajoutant 2% des \"top words\" de notre vocabulaire, soit environ 3000 mots on gagne 2.1% en précision. L'augmentation de la taille du vocabulaire n'améliore pas les performance de notre modèle, au contraire on observe une baisse des performances."
      ]
    },
    {
      "cell_type": "markdown",
      "metadata": {
        "id": "eguDjNpXTEKr",
        "colab_type": "text"
      },
      "source": [
        "#### Evolution du temps "
      ]
    },
    {
      "cell_type": "code",
      "metadata": {
        "id": "8w8v0BmnoYaY",
        "colab_type": "code",
        "outputId": "f578969b-a4eb-4353-ebdd-ecb2aeb33e4c",
        "colab": {
          "base_uri": "https://localhost:8080/",
          "height": 542
        }
      },
      "source": [
        "px.scatter(df_svc,x='max feature', y='duration',  color='proportion', size='proportion', labels={'max feature' : \"Taille du vocabulaire\", 'duration' : \"Temps d'entrainement\"}, title=\"Évolution temps d'entrainement en fonction de la taille du vocabulaire\")"
      ],
      "execution_count": 0,
      "outputs": [
        {
          "output_type": "display_data",
          "data": {
            "text/html": [
              "<html>\n",
              "<head><meta charset=\"utf-8\" /></head>\n",
              "<body>\n",
              "    <div>\n",
              "            <script src=\"https://cdnjs.cloudflare.com/ajax/libs/mathjax/2.7.5/MathJax.js?config=TeX-AMS-MML_SVG\"></script><script type=\"text/javascript\">if (window.MathJax) {MathJax.Hub.Config({SVG: {font: \"STIX-Web\"}});}</script>\n",
              "                <script type=\"text/javascript\">window.PlotlyConfig = {MathJaxConfig: 'local'};</script>\n",
              "        <script src=\"https://cdn.plot.ly/plotly-latest.min.js\"></script>    \n",
              "            <div id=\"c1b9fdcf-f99d-408a-b876-1d2897fa982a\" class=\"plotly-graph-div\" style=\"height:525px; width:100%;\"></div>\n",
              "            <script type=\"text/javascript\">\n",
              "                \n",
              "                    window.PLOTLYENV=window.PLOTLYENV || {};\n",
              "                    \n",
              "                if (document.getElementById(\"c1b9fdcf-f99d-408a-b876-1d2897fa982a\")) {\n",
              "                    Plotly.newPlot(\n",
              "                        'c1b9fdcf-f99d-408a-b876-1d2897fa982a',\n",
              "                        [{\"hoverlabel\": {\"namelength\": 0}, \"hovertemplate\": \"Taille du vocabulaire=%{x}<br>Temps d'entrainement=%{y}<br>proportion=%{marker.color}\", \"legendgroup\": \"\", \"marker\": {\"color\": [0.01, 0.03, 0.05, 0.08, 0.1, 0.2, 0.3, 0.4, 0.5, 0.6, 0.7, 0.8, 0.9], \"coloraxis\": \"coloraxis\", \"size\": [0.01, 0.03, 0.05, 0.08, 0.1, 0.2, 0.3, 0.4, 0.5, 0.6, 0.7, 0.8, 0.9], \"sizemode\": \"area\", \"sizeref\": 0.0022500000000000003, \"symbol\": \"circle\"}, \"mode\": \"markers\", \"name\": \"\", \"showlegend\": false, \"type\": \"scatter\", \"x\": [1820, 5459, 9099, 14558, 18197, 36393, 54590, 72786, 90982, 109179, 127375, 145572, 163768], \"xaxis\": \"x\", \"y\": [47529951000, 47451275000, 47455973000, 47584522000, 47478120000, 47687334000, 47495475000, 47593437000, 47575346000, 47614264000, 47808900000, 47621602000, 48017798000], \"yaxis\": \"y\"}],\n",
              "                        {\"coloraxis\": {\"colorbar\": {\"title\": {\"text\": \"proportion\"}}, \"colorscale\": [[0.0, \"#0d0887\"], [0.1111111111111111, \"#46039f\"], [0.2222222222222222, \"#7201a8\"], [0.3333333333333333, \"#9c179e\"], [0.4444444444444444, \"#bd3786\"], [0.5555555555555556, \"#d8576b\"], [0.6666666666666666, \"#ed7953\"], [0.7777777777777778, \"#fb9f3a\"], [0.8888888888888888, \"#fdca26\"], [1.0, \"#f0f921\"]]}, \"legend\": {\"itemsizing\": \"constant\", \"tracegroupgap\": 0}, \"template\": {\"data\": {\"bar\": [{\"error_x\": {\"color\": \"#2a3f5f\"}, \"error_y\": {\"color\": \"#2a3f5f\"}, \"marker\": {\"line\": {\"color\": \"#E5ECF6\", \"width\": 0.5}}, \"type\": \"bar\"}], \"barpolar\": [{\"marker\": {\"line\": {\"color\": \"#E5ECF6\", \"width\": 0.5}}, \"type\": \"barpolar\"}], \"carpet\": [{\"aaxis\": {\"endlinecolor\": \"#2a3f5f\", \"gridcolor\": \"white\", \"linecolor\": \"white\", \"minorgridcolor\": \"white\", \"startlinecolor\": \"#2a3f5f\"}, \"baxis\": {\"endlinecolor\": \"#2a3f5f\", \"gridcolor\": \"white\", \"linecolor\": \"white\", \"minorgridcolor\": \"white\", \"startlinecolor\": \"#2a3f5f\"}, \"type\": \"carpet\"}], \"choropleth\": [{\"colorbar\": {\"outlinewidth\": 0, \"ticks\": \"\"}, \"type\": \"choropleth\"}], \"contour\": [{\"colorbar\": {\"outlinewidth\": 0, \"ticks\": \"\"}, \"colorscale\": [[0.0, \"#0d0887\"], [0.1111111111111111, \"#46039f\"], [0.2222222222222222, \"#7201a8\"], [0.3333333333333333, \"#9c179e\"], [0.4444444444444444, \"#bd3786\"], [0.5555555555555556, \"#d8576b\"], [0.6666666666666666, \"#ed7953\"], [0.7777777777777778, \"#fb9f3a\"], [0.8888888888888888, \"#fdca26\"], [1.0, \"#f0f921\"]], \"type\": \"contour\"}], \"contourcarpet\": [{\"colorbar\": {\"outlinewidth\": 0, \"ticks\": \"\"}, \"type\": \"contourcarpet\"}], \"heatmap\": [{\"colorbar\": {\"outlinewidth\": 0, \"ticks\": \"\"}, \"colorscale\": [[0.0, \"#0d0887\"], [0.1111111111111111, \"#46039f\"], [0.2222222222222222, \"#7201a8\"], [0.3333333333333333, \"#9c179e\"], [0.4444444444444444, \"#bd3786\"], [0.5555555555555556, \"#d8576b\"], [0.6666666666666666, \"#ed7953\"], [0.7777777777777778, \"#fb9f3a\"], [0.8888888888888888, \"#fdca26\"], [1.0, \"#f0f921\"]], \"type\": \"heatmap\"}], \"heatmapgl\": [{\"colorbar\": {\"outlinewidth\": 0, \"ticks\": \"\"}, \"colorscale\": [[0.0, \"#0d0887\"], [0.1111111111111111, \"#46039f\"], [0.2222222222222222, \"#7201a8\"], [0.3333333333333333, \"#9c179e\"], [0.4444444444444444, \"#bd3786\"], [0.5555555555555556, \"#d8576b\"], [0.6666666666666666, \"#ed7953\"], [0.7777777777777778, \"#fb9f3a\"], [0.8888888888888888, \"#fdca26\"], [1.0, \"#f0f921\"]], \"type\": \"heatmapgl\"}], \"histogram\": [{\"marker\": {\"colorbar\": {\"outlinewidth\": 0, \"ticks\": \"\"}}, \"type\": \"histogram\"}], \"histogram2d\": [{\"colorbar\": {\"outlinewidth\": 0, \"ticks\": \"\"}, \"colorscale\": [[0.0, \"#0d0887\"], [0.1111111111111111, \"#46039f\"], [0.2222222222222222, \"#7201a8\"], [0.3333333333333333, \"#9c179e\"], [0.4444444444444444, \"#bd3786\"], [0.5555555555555556, \"#d8576b\"], [0.6666666666666666, \"#ed7953\"], [0.7777777777777778, \"#fb9f3a\"], [0.8888888888888888, \"#fdca26\"], [1.0, \"#f0f921\"]], \"type\": \"histogram2d\"}], \"histogram2dcontour\": [{\"colorbar\": {\"outlinewidth\": 0, \"ticks\": \"\"}, \"colorscale\": [[0.0, \"#0d0887\"], [0.1111111111111111, \"#46039f\"], [0.2222222222222222, \"#7201a8\"], [0.3333333333333333, \"#9c179e\"], [0.4444444444444444, \"#bd3786\"], [0.5555555555555556, \"#d8576b\"], [0.6666666666666666, \"#ed7953\"], [0.7777777777777778, \"#fb9f3a\"], [0.8888888888888888, \"#fdca26\"], [1.0, \"#f0f921\"]], \"type\": \"histogram2dcontour\"}], \"mesh3d\": [{\"colorbar\": {\"outlinewidth\": 0, \"ticks\": \"\"}, \"type\": \"mesh3d\"}], \"parcoords\": [{\"line\": {\"colorbar\": {\"outlinewidth\": 0, \"ticks\": \"\"}}, \"type\": \"parcoords\"}], \"pie\": [{\"automargin\": true, \"type\": \"pie\"}], \"scatter\": [{\"marker\": {\"colorbar\": {\"outlinewidth\": 0, \"ticks\": \"\"}}, \"type\": \"scatter\"}], \"scatter3d\": [{\"line\": {\"colorbar\": {\"outlinewidth\": 0, \"ticks\": \"\"}}, \"marker\": {\"colorbar\": {\"outlinewidth\": 0, \"ticks\": \"\"}}, \"type\": \"scatter3d\"}], \"scattercarpet\": [{\"marker\": {\"colorbar\": {\"outlinewidth\": 0, \"ticks\": \"\"}}, \"type\": \"scattercarpet\"}], \"scattergeo\": [{\"marker\": {\"colorbar\": {\"outlinewidth\": 0, \"ticks\": \"\"}}, \"type\": \"scattergeo\"}], \"scattergl\": [{\"marker\": {\"colorbar\": {\"outlinewidth\": 0, \"ticks\": \"\"}}, \"type\": \"scattergl\"}], \"scattermapbox\": [{\"marker\": {\"colorbar\": {\"outlinewidth\": 0, \"ticks\": \"\"}}, \"type\": \"scattermapbox\"}], \"scatterpolar\": [{\"marker\": {\"colorbar\": {\"outlinewidth\": 0, \"ticks\": \"\"}}, \"type\": \"scatterpolar\"}], \"scatterpolargl\": [{\"marker\": {\"colorbar\": {\"outlinewidth\": 0, \"ticks\": \"\"}}, \"type\": \"scatterpolargl\"}], \"scatterternary\": [{\"marker\": {\"colorbar\": {\"outlinewidth\": 0, \"ticks\": \"\"}}, \"type\": \"scatterternary\"}], \"surface\": [{\"colorbar\": {\"outlinewidth\": 0, \"ticks\": \"\"}, \"colorscale\": [[0.0, \"#0d0887\"], [0.1111111111111111, \"#46039f\"], [0.2222222222222222, \"#7201a8\"], [0.3333333333333333, \"#9c179e\"], [0.4444444444444444, \"#bd3786\"], [0.5555555555555556, \"#d8576b\"], [0.6666666666666666, \"#ed7953\"], [0.7777777777777778, \"#fb9f3a\"], [0.8888888888888888, \"#fdca26\"], [1.0, \"#f0f921\"]], \"type\": \"surface\"}], \"table\": [{\"cells\": {\"fill\": {\"color\": \"#EBF0F8\"}, \"line\": {\"color\": \"white\"}}, \"header\": {\"fill\": {\"color\": \"#C8D4E3\"}, \"line\": {\"color\": \"white\"}}, \"type\": \"table\"}]}, \"layout\": {\"annotationdefaults\": {\"arrowcolor\": \"#2a3f5f\", \"arrowhead\": 0, \"arrowwidth\": 1}, \"coloraxis\": {\"colorbar\": {\"outlinewidth\": 0, \"ticks\": \"\"}}, \"colorscale\": {\"diverging\": [[0, \"#8e0152\"], [0.1, \"#c51b7d\"], [0.2, \"#de77ae\"], [0.3, \"#f1b6da\"], [0.4, \"#fde0ef\"], [0.5, \"#f7f7f7\"], [0.6, \"#e6f5d0\"], [0.7, \"#b8e186\"], [0.8, \"#7fbc41\"], [0.9, \"#4d9221\"], [1, \"#276419\"]], \"sequential\": [[0.0, \"#0d0887\"], [0.1111111111111111, \"#46039f\"], [0.2222222222222222, \"#7201a8\"], [0.3333333333333333, \"#9c179e\"], [0.4444444444444444, \"#bd3786\"], [0.5555555555555556, \"#d8576b\"], [0.6666666666666666, \"#ed7953\"], [0.7777777777777778, \"#fb9f3a\"], [0.8888888888888888, \"#fdca26\"], [1.0, \"#f0f921\"]], \"sequentialminus\": [[0.0, \"#0d0887\"], [0.1111111111111111, \"#46039f\"], [0.2222222222222222, \"#7201a8\"], [0.3333333333333333, \"#9c179e\"], [0.4444444444444444, \"#bd3786\"], [0.5555555555555556, \"#d8576b\"], [0.6666666666666666, \"#ed7953\"], [0.7777777777777778, \"#fb9f3a\"], [0.8888888888888888, \"#fdca26\"], [1.0, \"#f0f921\"]]}, \"colorway\": [\"#636efa\", \"#EF553B\", \"#00cc96\", \"#ab63fa\", \"#FFA15A\", \"#19d3f3\", \"#FF6692\", \"#B6E880\", \"#FF97FF\", \"#FECB52\"], \"font\": {\"color\": \"#2a3f5f\"}, \"geo\": {\"bgcolor\": \"white\", \"lakecolor\": \"white\", \"landcolor\": \"#E5ECF6\", \"showlakes\": true, \"showland\": true, \"subunitcolor\": \"white\"}, \"hoverlabel\": {\"align\": \"left\"}, \"hovermode\": \"closest\", \"mapbox\": {\"style\": \"light\"}, \"paper_bgcolor\": \"white\", \"plot_bgcolor\": \"#E5ECF6\", \"polar\": {\"angularaxis\": {\"gridcolor\": \"white\", \"linecolor\": \"white\", \"ticks\": \"\"}, \"bgcolor\": \"#E5ECF6\", \"radialaxis\": {\"gridcolor\": \"white\", \"linecolor\": \"white\", \"ticks\": \"\"}}, \"scene\": {\"xaxis\": {\"backgroundcolor\": \"#E5ECF6\", \"gridcolor\": \"white\", \"gridwidth\": 2, \"linecolor\": \"white\", \"showbackground\": true, \"ticks\": \"\", \"zerolinecolor\": \"white\"}, \"yaxis\": {\"backgroundcolor\": \"#E5ECF6\", \"gridcolor\": \"white\", \"gridwidth\": 2, \"linecolor\": \"white\", \"showbackground\": true, \"ticks\": \"\", \"zerolinecolor\": \"white\"}, \"zaxis\": {\"backgroundcolor\": \"#E5ECF6\", \"gridcolor\": \"white\", \"gridwidth\": 2, \"linecolor\": \"white\", \"showbackground\": true, \"ticks\": \"\", \"zerolinecolor\": \"white\"}}, \"shapedefaults\": {\"line\": {\"color\": \"#2a3f5f\"}}, \"ternary\": {\"aaxis\": {\"gridcolor\": \"white\", \"linecolor\": \"white\", \"ticks\": \"\"}, \"baxis\": {\"gridcolor\": \"white\", \"linecolor\": \"white\", \"ticks\": \"\"}, \"bgcolor\": \"#E5ECF6\", \"caxis\": {\"gridcolor\": \"white\", \"linecolor\": \"white\", \"ticks\": \"\"}}, \"title\": {\"x\": 0.05}, \"xaxis\": {\"automargin\": true, \"gridcolor\": \"white\", \"linecolor\": \"white\", \"ticks\": \"\", \"title\": {\"standoff\": 15}, \"zerolinecolor\": \"white\", \"zerolinewidth\": 2}, \"yaxis\": {\"automargin\": true, \"gridcolor\": \"white\", \"linecolor\": \"white\", \"ticks\": \"\", \"title\": {\"standoff\": 15}, \"zerolinecolor\": \"white\", \"zerolinewidth\": 2}}}, \"title\": {\"text\": \"\\u00c9volution temps d'entrainement en fonction de la taille du vocabulaire\"}, \"xaxis\": {\"anchor\": \"y\", \"domain\": [0.0, 1.0], \"title\": {\"text\": \"Taille du vocabulaire\"}}, \"yaxis\": {\"anchor\": \"x\", \"domain\": [0.0, 1.0], \"title\": {\"text\": \"Temps d'entrainement\"}}},\n",
              "                        {\"responsive\": true}\n",
              "                    ).then(function(){\n",
              "                            \n",
              "var gd = document.getElementById('c1b9fdcf-f99d-408a-b876-1d2897fa982a');\n",
              "var x = new MutationObserver(function (mutations, observer) {{\n",
              "        var display = window.getComputedStyle(gd).display;\n",
              "        if (!display || display === 'none') {{\n",
              "            console.log([gd, 'removed!']);\n",
              "            Plotly.purge(gd);\n",
              "            observer.disconnect();\n",
              "        }}\n",
              "}});\n",
              "\n",
              "// Listen for the removal of the full notebook cells\n",
              "var notebookContainer = gd.closest('#notebook-container');\n",
              "if (notebookContainer) {{\n",
              "    x.observe(notebookContainer, {childList: true});\n",
              "}}\n",
              "\n",
              "// Listen for the clearing of the current output cell\n",
              "var outputEl = gd.closest('.output');\n",
              "if (outputEl) {{\n",
              "    x.observe(outputEl, {childList: true});\n",
              "}}\n",
              "\n",
              "                        })\n",
              "                };\n",
              "                \n",
              "            </script>\n",
              "        </div>\n",
              "</body>\n",
              "</html>"
            ]
          },
          "metadata": {
            "tags": []
          }
        }
      ]
    },
    {
      "cell_type": "markdown",
      "metadata": {
        "id": "KOy9tS1WUn9P",
        "colab_type": "text"
      },
      "source": [
        "**Cela n'est pas flagrant car notre jeux de donnée et de petit taille. Mais on peu obsever une augmentation du temps d'entrainement avec l'augmentation de la taille de notre vocabulaire.**\n",
        "\n",
        "\n",
        "*Remarque : Reste à savoir si la puissance de calcul alloué sur colab est constante durant la période d'utilisation.*"
      ]
    },
    {
      "cell_type": "markdown",
      "metadata": {
        "id": "iEJD5_9Dd119",
        "colab_type": "text"
      },
      "source": [
        "## **Conclusion max_feature**\n",
        "\n",
        "L'utilisation du paramètre max_feature permet :\n",
        "\n",
        "Pros:\n",
        "\n",
        "* Gain en précisions et pertinence de notre modèle (valeur idéal à déterminer).\n",
        "* Réduction de la taille de notre vocabulaire, donc des données sur lequel notre modèle apprend. \n",
        "* Suppression de données non essentiel lors de l'entrainement. \n",
        "* Gain en temps d'entrainement (à étudier plus en détail)\n",
        "\n",
        "Cons:\n",
        "\n",
        "* Rechercher la bonne valeur. Je pense que la valeur dépend des données. Mais une valeur comprise entre 5K et 25K mots semble être intéressante.\n",
        "\n",
        "Le paramètre max_feature, permet de limiter notre vocabulaire à nos top N words. C'est N mots, sont déterminés par leur importances. Calculé avec le TF-IDF. **Avec seulement 1 % du vocabulaire, soit les 1870 mots ayant les scores (tfidf) les plus élevés, on obtient 92.5 % de f1-score. Ce qui est un très bon score.**\n",
        "\n",
        "Il est donc possible d'obtenir de très bon résultats dans nos prédictions, en utilisant un pourcentage de notre vocabulaire rassemblant uniquement les mots importants.\n",
        "\n",
        "Lorsque l'on entraine un modèle en machine learning, on cherche une **approximation** de la fonction qui, à partir des données fournis en entré, nous donne la bonne prédiction en sortie.  Grâce au paramètre **max_feature**, nous **réduisons la taille du vocabulaire**. La matrice généré par notre vectorizer est par consequent réduite. Elle est égale (nombre de texte, taille du vocabulaire). Notre modèle est entrainé sur un volume d'informations dont, on a supprimé un pourcentage d'informations moins important. \n",
        "\n",
        "\n",
        "La suppression des mots ayant un score d'importance moins élevé permet d'améliorer les performances de notre modèle (LinearSVC) et de diminuer le temps d'entrainement du modèle. \n",
        "\n",
        "\n",
        "**Remarque: Lorsque nous avions testé l'impacte des ngram_range sur les performances de notre modèle. Nous avions remarqué, que nous perdions en précision à mesure que l'on augmentait l'interval. Avec le max_feature optimal (3%) on obtient avec le ngram_range=(1,3) un bien meilleur score que précédemment 93.3% vs 92.6%.**\n"
      ]
    },
    {
      "cell_type": "markdown",
      "metadata": {
        "id": "pt4xZH5qIsee",
        "colab_type": "text"
      },
      "source": [
        "## **Validation**\n",
        "\n",
        "Nous allons maintenant mettre en application ce que nous avons étudier précédemment sur un autre jeu de donnée afin de valider nos arguments. \n",
        "\n",
        "* LinearSVC + TFIDF(ngram=(1,3), analyzer='word') + TFIDF(ngram=(2,6) analyzer='char')\n",
        "\n",
        "* LinearSVC + TFIDF(ngram=(1,3), analyzer='word')\n",
        "\n",
        "pour les deux TFIDF : \n",
        "\n",
        "1. Cherchez les meilleurs paramètres pour notre LinearSVC avec un randomizedSVC.\n",
        "  a. max_feature = 80% du vocab \n",
        "  b.  max_feature = 10% du vocab\n",
        "\n"
      ]
    },
    {
      "cell_type": "markdown",
      "metadata": {
        "id": "awrIPpf9S35X",
        "colab_type": "text"
      },
      "source": [
        "### Jeu de données \n",
        "\n",
        "Nous allons utiliser le jeu de données Fake News afin de valider nos arguments. Il s'agit d'un corpus de texte constitué de **\"fake news\"** et de vrais arcticles de presse.  "
      ]
    },
    {
      "cell_type": "code",
      "metadata": {
        "id": "4pbn8B_XT6DN",
        "colab_type": "code",
        "outputId": "80d02966-bd90-4218-b7de-a33de4f25f32",
        "colab": {
          "base_uri": "https://localhost:8080/",
          "height": 224
        }
      },
      "source": [
        " !pip install kaggle"
      ],
      "execution_count": 0,
      "outputs": [
        {
          "output_type": "stream",
          "text": [
            "Requirement already satisfied: kaggle in /usr/local/lib/python3.6/dist-packages (1.5.6)\n",
            "Requirement already satisfied: python-dateutil in /usr/local/lib/python3.6/dist-packages (from kaggle) (2.8.1)\n",
            "Requirement already satisfied: python-slugify in /usr/local/lib/python3.6/dist-packages (from kaggle) (4.0.0)\n",
            "Requirement already satisfied: six>=1.10 in /usr/local/lib/python3.6/dist-packages (from kaggle) (1.12.0)\n",
            "Requirement already satisfied: urllib3<1.25,>=1.21.1 in /usr/local/lib/python3.6/dist-packages (from kaggle) (1.24.3)\n",
            "Requirement already satisfied: certifi in /usr/local/lib/python3.6/dist-packages (from kaggle) (2020.4.5.1)\n",
            "Requirement already satisfied: requests in /usr/local/lib/python3.6/dist-packages (from kaggle) (2.23.0)\n",
            "Requirement already satisfied: tqdm in /usr/local/lib/python3.6/dist-packages (from kaggle) (4.38.0)\n",
            "Requirement already satisfied: text-unidecode>=1.3 in /usr/local/lib/python3.6/dist-packages (from python-slugify->kaggle) (1.3)\n",
            "Requirement already satisfied: chardet<4,>=3.0.2 in /usr/local/lib/python3.6/dist-packages (from requests->kaggle) (3.0.4)\n",
            "Requirement already satisfied: idna<3,>=2.5 in /usr/local/lib/python3.6/dist-packages (from requests->kaggle) (2.9)\n"
          ],
          "name": "stdout"
        }
      ]
    },
    {
      "cell_type": "code",
      "metadata": {
        "id": "lrXknH1WUrA9",
        "colab_type": "code",
        "outputId": "b78809cd-9068-4532-b069-6415151b0d5a",
        "colab": {
          "resources": {
            "http://localhost:8080/nbextensions/google.colab/files.js": {
              "data": "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",
              "ok": true,
              "headers": [
                [
                  "content-type",
                  "application/javascript"
                ]
              ],
              "status": 200,
              "status_text": ""
            }
          },
          "base_uri": "https://localhost:8080/",
          "height": 92
        }
      },
      "source": [
        "from google.colab import files\n",
        "files.upload() #upload kaggle.json"
      ],
      "execution_count": 0,
      "outputs": [
        {
          "output_type": "display_data",
          "data": {
            "text/html": [
              "\n",
              "     <input type=\"file\" id=\"files-625c40a4-4e33-42e6-be6e-71fe3f0455ff\" name=\"files[]\" multiple disabled />\n",
              "     <output id=\"result-625c40a4-4e33-42e6-be6e-71fe3f0455ff\">\n",
              "      Upload widget is only available when the cell has been executed in the\n",
              "      current browser session. Please rerun this cell to enable.\n",
              "      </output>\n",
              "      <script src=\"/nbextensions/google.colab/files.js\"></script> "
            ],
            "text/plain": [
              "<IPython.core.display.HTML object>"
            ]
          },
          "metadata": {
            "tags": []
          }
        },
        {
          "output_type": "stream",
          "text": [
            "Saving kaggle.json to kaggle.json\n"
          ],
          "name": "stdout"
        },
        {
          "output_type": "execute_result",
          "data": {
            "text/plain": [
              "{'kaggle.json': b'{\"username\":\"blackfalcon\",\"key\":\"29253f40952a569b346807ec55795121\"}'}"
            ]
          },
          "metadata": {
            "tags": []
          },
          "execution_count": 7
        }
      ]
    },
    {
      "cell_type": "code",
      "metadata": {
        "id": "_45IdTVGUtVV",
        "colab_type": "code",
        "outputId": "f012dab7-4cb3-4eab-aefd-77f6564748bd",
        "colab": {
          "base_uri": "https://localhost:8080/",
          "height": 34
        }
      },
      "source": [
        "!pip install -q kaggle\n",
        "!mkdir -p ~/.kaggle\n",
        "!cp kaggle.json ~/.kaggle/\n",
        "!ls ~/.kaggle\n",
        "!chmod 600 /root/.kaggle/kaggle.json"
      ],
      "execution_count": 0,
      "outputs": [
        {
          "output_type": "stream",
          "text": [
            "kaggle.json\n"
          ],
          "name": "stdout"
        }
      ]
    },
    {
      "cell_type": "code",
      "metadata": {
        "id": "21qRFTihUwyP",
        "colab_type": "code",
        "outputId": "8acd96fc-d64a-4b9e-9cb1-622bf1577af0",
        "colab": {
          "base_uri": "https://localhost:8080/",
          "height": 221
        }
      },
      "source": [
        "!kaggle kernels list — user YOUR_USER — sort-by dateRun\n",
        "\n",
        "!kaggle competitions download -c fake-news\n",
        "\n",
        "!unzip -q train.csv.zip -d .\n",
        "!unzip -q test.csv.zip -d ."
      ],
      "execution_count": 0,
      "outputs": [
        {
          "output_type": "stream",
          "text": [
            "usage: kaggle [-h] [-v] {competitions,c,datasets,d,kernels,k,config} ...\n",
            "kaggle: error: unrecognized arguments: — user YOUR_USER — sort-by dateRun\n",
            "Warning: Looks like you're using an outdated API Version, please consider updating (server 1.5.6 / client 1.5.4)\n",
            "Downloading submit.csv to /content\n",
            "  0% 0.00/40.6k [00:00<?, ?B/s]\n",
            "100% 40.6k/40.6k [00:00<00:00, 15.7MB/s]\n",
            "Downloading train.csv.zip to /content\n",
            "100% 37.0M/37.0M [00:00<00:00, 57.0MB/s]\n",
            "100% 37.0M/37.0M [00:00<00:00, 106MB/s] \n",
            "Downloading test.csv.zip to /content\n",
            "  0% 0.00/9.42M [00:00<?, ?B/s]\n",
            "100% 9.42M/9.42M [00:00<00:00, 86.6MB/s]\n"
          ],
          "name": "stdout"
        }
      ]
    },
    {
      "cell_type": "code",
      "metadata": {
        "id": "EhaqjF5hVMaN",
        "colab_type": "code",
        "outputId": "fdb8c6cc-6e61-44e8-bcc6-f7c5a758f185",
        "colab": {
          "base_uri": "https://localhost:8080/",
          "height": 51
        }
      },
      "source": [
        "!ls "
      ],
      "execution_count": 0,
      "outputs": [
        {
          "output_type": "stream",
          "text": [
            "kaggle.json  submit.csv  test.csv.zip  train.csv.zip\n",
            "sample_data  test.csv\t train.csv\n"
          ],
          "name": "stdout"
        }
      ]
    },
    {
      "cell_type": "code",
      "metadata": {
        "id": "YZ0qe3RuVShE",
        "colab_type": "code",
        "colab": {}
      },
      "source": [
        "import pandas as pd "
      ],
      "execution_count": 0,
      "outputs": []
    },
    {
      "cell_type": "code",
      "metadata": {
        "id": "z38sdMZHVb6w",
        "colab_type": "code",
        "colab": {}
      },
      "source": [
        "train_df = pd.read_csv('train.csv')"
      ],
      "execution_count": 0,
      "outputs": []
    },
    {
      "cell_type": "code",
      "metadata": {
        "id": "al7TY1y91KKG",
        "colab_type": "code",
        "colab": {}
      },
      "source": [
        "test_df = pd.read_csv('test.csv')"
      ],
      "execution_count": 0,
      "outputs": []
    },
    {
      "cell_type": "markdown",
      "metadata": {
        "id": "fRBSoX-YiqgJ",
        "colab_type": "text"
      },
      "source": [
        "#### Vocabulaire "
      ]
    },
    {
      "cell_type": "markdown",
      "metadata": {
        "id": "qPq8ZQ0NXX1H",
        "colab_type": "text"
      },
      "source": [
        "### Préparation des données"
      ]
    },
    {
      "cell_type": "code",
      "metadata": {
        "id": "z5BRs8m--m-U",
        "colab_type": "code",
        "outputId": "f61136da-d605-4408-92ff-f53bd82d1678",
        "colab": {
          "base_uri": "https://localhost:8080/",
          "height": 221
        }
      },
      "source": [
        "train_df.info()"
      ],
      "execution_count": 0,
      "outputs": [
        {
          "output_type": "stream",
          "text": [
            "<class 'pandas.core.frame.DataFrame'>\n",
            "RangeIndex: 20800 entries, 0 to 20799\n",
            "Data columns (total 5 columns):\n",
            " #   Column  Non-Null Count  Dtype \n",
            "---  ------  --------------  ----- \n",
            " 0   id      20800 non-null  int64 \n",
            " 1   title   20242 non-null  object\n",
            " 2   author  18843 non-null  object\n",
            " 3   text    20761 non-null  object\n",
            " 4   label   20800 non-null  int64 \n",
            "dtypes: int64(2), object(3)\n",
            "memory usage: 812.6+ KB\n"
          ],
          "name": "stdout"
        }
      ]
    },
    {
      "cell_type": "markdown",
      "metadata": {
        "id": "QyNOqJYAfmB2",
        "colab_type": "text"
      },
      "source": [
        "Pour les lignes ayant l'auteur et le titre à null. Nous allons remplacer la valuer **nan** par **\"Unknow\"**."
      ]
    },
    {
      "cell_type": "code",
      "metadata": {
        "id": "epj-nqtnfAFw",
        "colab_type": "code",
        "colab": {}
      },
      "source": [
        "train_df.author.fillna(\"unknow\", inplace=True)"
      ],
      "execution_count": 0,
      "outputs": []
    },
    {
      "cell_type": "code",
      "metadata": {
        "id": "Xnmboaqbg5WQ",
        "colab_type": "code",
        "colab": {}
      },
      "source": [
        "train_df.title.fillna(\"unknow\", inplace=True)"
      ],
      "execution_count": 0,
      "outputs": []
    },
    {
      "cell_type": "markdown",
      "metadata": {
        "id": "FXjSf7-Fggl3",
        "colab_type": "text"
      },
      "source": [
        "Nous allons supprimer les lignes sans articles"
      ]
    },
    {
      "cell_type": "code",
      "metadata": {
        "id": "FTnkay6tgme3",
        "colab_type": "code",
        "colab": {}
      },
      "source": [
        "train_df.dropna(inplace=True)"
      ],
      "execution_count": 0,
      "outputs": []
    },
    {
      "cell_type": "code",
      "metadata": {
        "id": "uLp2diudgu16",
        "colab_type": "code",
        "outputId": "31ddef46-21dd-4555-935a-2c1b6b93b036",
        "colab": {
          "base_uri": "https://localhost:8080/",
          "height": 221
        }
      },
      "source": [
        "train_df.info()"
      ],
      "execution_count": 0,
      "outputs": [
        {
          "output_type": "stream",
          "text": [
            "<class 'pandas.core.frame.DataFrame'>\n",
            "Int64Index: 20761 entries, 0 to 20799\n",
            "Data columns (total 5 columns):\n",
            " #   Column  Non-Null Count  Dtype \n",
            "---  ------  --------------  ----- \n",
            " 0   id      20761 non-null  int64 \n",
            " 1   title   20761 non-null  object\n",
            " 2   author  20761 non-null  object\n",
            " 3   text    20761 non-null  object\n",
            " 4   label   20761 non-null  int64 \n",
            "dtypes: int64(2), object(3)\n",
            "memory usage: 973.2+ KB\n"
          ],
          "name": "stdout"
        }
      ]
    },
    {
      "cell_type": "code",
      "metadata": {
        "id": "WT2bCh1rXW5i",
        "colab_type": "code",
        "colab": {}
      },
      "source": [
        "corpus = train_df.text.to_list()"
      ],
      "execution_count": 0,
      "outputs": []
    },
    {
      "cell_type": "code",
      "metadata": {
        "id": "SvyqYQHpYXNA",
        "colab_type": "code",
        "colab": {}
      },
      "source": [
        "titles = train_df.text.to_list()"
      ],
      "execution_count": 0,
      "outputs": []
    },
    {
      "cell_type": "code",
      "metadata": {
        "id": "W-i-a0-fd3Yx",
        "colab_type": "code",
        "colab": {}
      },
      "source": [
        "target = train_df.label.to_list()"
      ],
      "execution_count": 0,
      "outputs": []
    },
    {
      "cell_type": "markdown",
      "metadata": {
        "id": "kgHVYtQOYpra",
        "colab_type": "text"
      },
      "source": [
        "### TF-IDF \n",
        "\n",
        "1. Nous allons travailler avec un vectorizer avec les paramètres par défaut \n",
        "2. Nous allons utiliser un vectorizer avec le ngram_range=(1,3) et max_feature=3%\n",
        "3. Nous alons utiliser un vectorizer avec  le ngram_range=(1,3) et max_feature=80% "
      ]
    },
    {
      "cell_type": "markdown",
      "metadata": {
        "id": "av9qdCb-dTpY",
        "colab_type": "text"
      },
      "source": [
        "#### TF-IDF default "
      ]
    },
    {
      "cell_type": "code",
      "metadata": {
        "id": "CPIjTA5qdXH_",
        "colab_type": "code",
        "colab": {}
      },
      "source": [
        "from sklearn.feature_extraction.text import TfidfVectorizer"
      ],
      "execution_count": 0,
      "outputs": []
    },
    {
      "cell_type": "code",
      "metadata": {
        "id": "CfcsV41cvDbc",
        "colab_type": "code",
        "colab": {}
      },
      "source": [
        "vectorizer_default = TfidfVectorizer(analyzer='word', tokenizer=prepareText)"
      ],
      "execution_count": 0,
      "outputs": []
    },
    {
      "cell_type": "code",
      "metadata": {
        "id": "KvWmFP_vYuXK",
        "colab_type": "code",
        "colab": {}
      },
      "source": [
        "%%time\n",
        "vect_corpus_default = vectorizer_default.fit_transform(corpus)"
      ],
      "execution_count": 0,
      "outputs": []
    },
    {
      "cell_type": "code",
      "metadata": {
        "id": "3jK04XVY2lMG",
        "colab_type": "code",
        "colab": {}
      },
      "source": [
        "print(f\"La taille de notre vocabulaire était : {len(svc_default.vocabulary_)}\")"
      ],
      "execution_count": 0,
      "outputs": []
    },
    {
      "cell_type": "code",
      "metadata": {
        "id": "Gz_Y3Un6xqCy",
        "colab_type": "code",
        "colab": {}
      },
      "source": [
        "from sklearn.svm import LinearSVC\n",
        "from sklearn.metrics import confusion_matrix\n",
        "import math"
      ],
      "execution_count": 0,
      "outputs": []
    },
    {
      "cell_type": "code",
      "metadata": {
        "id": "YQ1AGHFmh-AV",
        "colab_type": "code",
        "colab": {}
      },
      "source": [
        "svc_default = LinearSVC()"
      ],
      "execution_count": 0,
      "outputs": []
    },
    {
      "cell_type": "code",
      "metadata": {
        "id": "7_3FmyUUzpBl",
        "colab_type": "code",
        "colab": {}
      },
      "source": [
        "accuracy = cross_val_score(svc_default, vect_corpus_default, y=target, scoring='accuracy', cv=3, n_jobs=-1)\n",
        "recall = cross_val_score(svc_default, vect_corpus_default, y=target, scoring='recall', cv=3, n_jobs=-1)"
      ],
      "execution_count": 0,
      "outputs": []
    },
    {
      "cell_type": "code",
      "metadata": {
        "id": "HqLxiPhk0PZx",
        "colab_type": "code",
        "outputId": "57ba6b1a-05f9-4255-cea3-31e9f7316b9b",
        "colab": {
          "base_uri": "https://localhost:8080/",
          "height": 34
        }
      },
      "source": [
        "print(f\"La precision du modèle est {np.mean(accuracy)} | la pertinence {np.mean(recall)} ce qui nous donne un score f1 de {2* np.mean(recall)*np.mean(accuracy)/(np.mean(recall)+np.mean(accuracy))}\")"
      ],
      "execution_count": 0,
      "outputs": [
        {
          "output_type": "stream",
          "text": [
            "La precision du modèle est 0.9497132933500261 | la pertinence 0.9570079043763254 ce qui nous donne un score f1 de 0.9533466452368962\n"
          ],
          "name": "stdout"
        }
      ]
    },
    {
      "cell_type": "markdown",
      "metadata": {
        "id": "vainhi483FjZ",
        "colab_type": "text"
      },
      "source": [
        "Nous obtenons un très bon f1-score de 95%. Notre modèle est très performant reste à voir si il généralise bien. "
      ]
    },
    {
      "cell_type": "markdown",
      "metadata": {
        "id": "lvKz1XqqlLyL",
        "colab_type": "text"
      },
      "source": [
        "#### TF-IDF ngram_range=(1,3) && max_feature=1%\n",
        "\n",
        "\n"
      ]
    },
    {
      "cell_type": "code",
      "metadata": {
        "id": "oEpMtD1m2UDb",
        "colab_type": "code",
        "colab": {}
      },
      "source": [
        "vectorizer_13 = TfidfVectorizer(analyzer='word', tokenizer=prepareText, ngram_range=(1,3))"
      ],
      "execution_count": 0,
      "outputs": []
    },
    {
      "cell_type": "markdown",
      "metadata": {
        "id": "fzUvfdgf1759",
        "colab_type": "text"
      },
      "source": [
        "Nous avons besoin de déterminer la taille de notre vocabulaire avec le ngram_range=(1,3)."
      ]
    },
    {
      "cell_type": "code",
      "metadata": {
        "id": "7f8w3nmJ2MO5",
        "colab_type": "code",
        "colab": {}
      },
      "source": [
        "vectorizer_13.fit(corpus)"
      ],
      "execution_count": 0,
      "outputs": []
    },
    {
      "cell_type": "code",
      "metadata": {
        "id": "MGAiCEQJJQFG",
        "colab_type": "code",
        "outputId": "bc400bda-c10f-4fb1-b161-951192faffbd",
        "colab": {
          "base_uri": "https://localhost:8080/",
          "height": 34
        }
      },
      "source": [
        "vocab_size = len(vectorizer_13.vocabulary_)\n",
        "one_percent = math.ceil(vocab_size * 0.01)\n",
        "octo_percent = math.ceil(vocab_size * 0.8)\n",
        "print(f\"La taille du vocabulaire est de {vocab_size} mots | 1% du vocaublaire : {one_percent} mots 80% du vocaublaire : {octo_percent} mots \")"
      ],
      "execution_count": 0,
      "outputs": [
        {
          "output_type": "stream",
          "text": [
            "La taille du vocabulaire est de 10050891 mots | 1% du vocaublaire : 100509 mots 80% du vocaublaire : 8040713 mots \n"
          ],
          "name": "stdout"
        }
      ]
    },
    {
      "cell_type": "code",
      "metadata": {
        "id": "wXDqSXLWMfFr",
        "colab_type": "code",
        "colab": {}
      },
      "source": [
        "vectorizer_13 = TfidfVectorizer(analyzer='word', tokenizer=prepareText, ngram_range=(1,3), max_features=one_percent)"
      ],
      "execution_count": 0,
      "outputs": []
    },
    {
      "cell_type": "code",
      "metadata": {
        "id": "88omkRPPNCIu",
        "colab_type": "code",
        "outputId": "1e6b0319-ea40-4cdf-f2aa-83d2dd8669f3",
        "colab": {
          "base_uri": "https://localhost:8080/",
          "height": 51
        }
      },
      "source": [
        "%%time\n",
        "vectorized_corpus_131 = vectorizer_13.fit_transform(corpus)"
      ],
      "execution_count": 0,
      "outputs": [
        {
          "output_type": "stream",
          "text": [
            "CPU times: user 43min 7s, sys: 26.2 s, total: 43min 33s\n",
            "Wall time: 43min 35s\n"
          ],
          "name": "stdout"
        }
      ]
    },
    {
      "cell_type": "code",
      "metadata": {
        "id": "kcPxOInAx5uU",
        "colab_type": "code",
        "outputId": "f5ad1ddc-29b6-43ea-f1a3-0a3a1ae01296",
        "colab": {
          "base_uri": "https://localhost:8080/"
        }
      },
      "source": [
        "print(f\"La taille du texte vetorize est : {vectorized_corpus_131.shape}\")"
      ],
      "execution_count": 0,
      "outputs": [
        {
          "output_type": "stream",
          "text": [
            "La taille du texte vetorize est : (20761, 100509)\n"
          ],
          "name": "stdout"
        }
      ]
    },
    {
      "cell_type": "code",
      "metadata": {
        "id": "8HiBiGswYiwE",
        "colab_type": "code",
        "colab": {}
      },
      "source": [
        "svc_31 = LinearSVC()"
      ],
      "execution_count": 0,
      "outputs": []
    },
    {
      "cell_type": "code",
      "metadata": {
        "id": "I0koE41SYT0W",
        "colab_type": "code",
        "colab": {}
      },
      "source": [
        "accuracy = cross_val_score(svc_31, vectorized_corpus_131, y=target, scoring='accuracy', cv=3, n_jobs=-1)\n",
        "recall = cross_val_score(svc_31, vectorized_corpus_131, y=target, scoring='recall', cv=3, n_jobs=-1)"
      ],
      "execution_count": 0,
      "outputs": []
    },
    {
      "cell_type": "code",
      "metadata": {
        "id": "ajgiFaYvYzHy",
        "colab_type": "code",
        "outputId": "c99c1e2b-c3ea-49bf-c67a-fdc449dc232f",
        "colab": {
          "base_uri": "https://localhost:8080/",
          "height": 34
        }
      },
      "source": [
        "print(f\"La precision du modèle est {np.mean(accuracy)} | la pertinence {np.mean(recall)} ce qui nous donne un score f1 de {2* np.mean(recall)*np.mean(accuracy)/(np.mean(recall)+np.mean(accuracy))}\")"
      ],
      "execution_count": 0,
      "outputs": [
        {
          "output_type": "stream",
          "text": [
            "La precision du modèle est 0.9618513952815689 | la pertinence 0.9679005205320994 ce qui nous donne un score f1 de 0.9648664769170766\n"
          ],
          "name": "stdout"
        }
      ]
    },
    {
      "cell_type": "markdown",
      "metadata": {
        "id": "5QL37qUjmPJf",
        "colab_type": "text"
      },
      "source": [
        "#### TF-IDF ngram_range=(1,3) && max_feature=80%\n"
      ]
    },
    {
      "cell_type": "code",
      "metadata": {
        "id": "P-IHFOugwx0n",
        "colab_type": "code",
        "colab": {}
      },
      "source": [
        "vectorizer_138 = TfidfVectorizer(analyzer='word', tokenizer=prepareText, ngram_range=(1,3), max_features=octo_percent)"
      ],
      "execution_count": 0,
      "outputs": []
    },
    {
      "cell_type": "code",
      "metadata": {
        "id": "VNmXFkwwwzxG",
        "colab_type": "code",
        "colab": {}
      },
      "source": [
        "vectorized_corpus_138 = vectorizer_138.fit_transform(corpus)"
      ],
      "execution_count": 0,
      "outputs": []
    },
    {
      "cell_type": "code",
      "metadata": {
        "id": "KEyb6cakw0JA",
        "colab_type": "code",
        "colab": {}
      },
      "source": [
        "svc_38 = LinearSVC()"
      ],
      "execution_count": 0,
      "outputs": []
    },
    {
      "cell_type": "code",
      "metadata": {
        "id": "3DqAgCOLxBN4",
        "colab_type": "code",
        "outputId": "ca232b31-6beb-4d37-8732-ff01ee069bec",
        "colab": {
          "base_uri": "https://localhost:8080/",
          "height": 71
        }
      },
      "source": [
        "accuracy = cross_val_score(svc_38, vectorized_corpus_138, y=target, scoring='accuracy', cv=3, n_jobs=-1)\n",
        "recall = cross_val_score(svc_38, vectorized_corpus_138, y=target, scoring='recall', cv=3, n_jobs=-1)"
      ],
      "execution_count": 0,
      "outputs": [
        {
          "output_type": "stream",
          "text": [
            "/usr/local/lib/python3.6/dist-packages/joblib/externals/loky/process_executor.py:706: UserWarning: A worker stopped while some jobs were given to the executor. This can be caused by a too short worker timeout or by a memory leak.\n",
            "  \"timeout or by a memory leak.\", UserWarning\n"
          ],
          "name": "stderr"
        }
      ]
    },
    {
      "cell_type": "code",
      "metadata": {
        "id": "vocqOiIr7uv8",
        "colab_type": "code",
        "outputId": "5f02bce5-56ca-42ba-ac76-958cdde83b13",
        "colab": {
          "base_uri": "https://localhost:8080/",
          "height": 34
        }
      },
      "source": [
        "print(f\"La precision du modèle est {np.mean(accuracy)} | la pertinence {np.mean(recall)} ce qui nous donne un score f1 de {2* np.mean(recall)*np.mean(accuracy)/(np.mean(recall)+np.mean(accuracy))}\")"
      ],
      "execution_count": 0,
      "outputs": [
        {
          "output_type": "stream",
          "text": [
            "La precision du modèle est 0.9550599610411918 | la pertinence 0.968768074031232 ce qui nous donne un score f1 de 0.9618651793972717\n"
          ],
          "name": "stdout"
        }
      ]
    },
    {
      "cell_type": "markdown",
      "metadata": {
        "id": "9o7s9Trym4l4",
        "colab_type": "text"
      },
      "source": [
        "#### TF-IDF(ngram_range=(1,3) && max_feature=3%) | TF-IDF(ngram_range=(1,3) && max_feature=40000 analyzer='char')\n"
      ]
    },
    {
      "cell_type": "code",
      "metadata": {
        "id": "Fb_RB62G8sUK",
        "colab_type": "code",
        "colab": {}
      },
      "source": [
        "three_percent = math.ceil(vocab_size * 0.03)"
      ],
      "execution_count": 0,
      "outputs": []
    },
    {
      "cell_type": "code",
      "metadata": {
        "id": "-znz4YE_73ww",
        "colab_type": "code",
        "colab": {}
      },
      "source": [
        "vectorizer_133 = TfidfVectorizer(analyzer='word', tokenizer=prepareText, ngram_range=(1,3), max_features=20000)\n",
        "vectorizer_c_133 = TfidfVectorizer(analyzer='char', ngram_range=(2,6), max_features=40000)"
      ],
      "execution_count": 0,
      "outputs": []
    },
    {
      "cell_type": "code",
      "metadata": {
        "id": "7pO8vddZ9O53",
        "colab_type": "code",
        "outputId": "062ad5a0-791f-4842-e6f1-e65b8d2f656c",
        "colab": {
          "base_uri": "https://localhost:8080/",
          "height": 51
        }
      },
      "source": [
        "%%time\n",
        "vectorized_corpus_133 = vectorizer_133.fit_transform(corpus)\n",
        "vectorized_c_corpus_133 = vectorizer_c_133.fit_transform(corpus)"
      ],
      "execution_count": 0,
      "outputs": [
        {
          "output_type": "stream",
          "text": [
            "CPU times: user 52min 25s, sys: 48.8 s, total: 53min 13s\n",
            "Wall time: 53min 14s\n"
          ],
          "name": "stdout"
        }
      ]
    },
    {
      "cell_type": "code",
      "metadata": {
        "id": "8SDr1eHw-Dsi",
        "colab_type": "code",
        "colab": {}
      },
      "source": [
        "from scipy import sparse"
      ],
      "execution_count": 0,
      "outputs": []
    },
    {
      "cell_type": "code",
      "metadata": {
        "id": "79v09aJavSbG",
        "colab_type": "code",
        "colab": {}
      },
      "source": [
        "wc_vect_corpus = sparse.hstack([vectorized_corpus_133, vectorized_c_corpus_133])"
      ],
      "execution_count": 0,
      "outputs": []
    },
    {
      "cell_type": "code",
      "metadata": {
        "id": "2Ht8iaZf95M_",
        "colab_type": "code",
        "colab": {}
      },
      "source": [
        "svc_33 = LinearSVC()"
      ],
      "execution_count": 0,
      "outputs": []
    },
    {
      "cell_type": "code",
      "metadata": {
        "id": "nJJFP3wF_Cwa",
        "colab_type": "code",
        "colab": {}
      },
      "source": [
        "accuracy = cross_val_score(svc_33, wc_vect_corpus, y=target, scoring='accuracy', cv=3, n_jobs=-1)\n",
        "recall = cross_val_score(svc_33, wc_vect_corpus, y=target, scoring='recall', cv=3, n_jobs=-1)"
      ],
      "execution_count": 0,
      "outputs": []
    },
    {
      "cell_type": "code",
      "metadata": {
        "id": "J9Cv1sDk_XVy",
        "colab_type": "code",
        "outputId": "267d706f-dcd2-4480-f05f-cb5323882f5b",
        "colab": {
          "base_uri": "https://localhost:8080/",
          "height": 54
        }
      },
      "source": [
        "print(f\"La precision du modèle est {np.mean(accuracy)} | la pertinence {np.mean(recall)} ce qui nous donne un score f1 de {2* np.mean(recall)*np.mean(accuracy)/(np.mean(recall)+np.mean(accuracy))}\")"
      ],
      "execution_count": 0,
      "outputs": [
        {
          "output_type": "stream",
          "text": [
            "La precision du modèle est 0.9894513751256612 | la pertinence 0.9918064391748603 ce qui nous donne un score f1 de 0.9906275074518884\n"
          ],
          "name": "stdout"
        }
      ]
    },
    {
      "cell_type": "markdown",
      "metadata": {
        "id": "TRffX3uKr35C",
        "colab_type": "text"
      },
      "source": [
        "### Interprétation des résulats\n",
        "\n",
        "* En ajoutant les ngram nous avons amélioré les performances de notre modèle. Nous somme passé de 95%  de f1-score (ngram_range=(1,1)) à 96% (ngram_range=(1,3)).\n",
        "\n",
        "* Le couplage des deux TFIDF nous à permit de gagné 3% en précision. Ce qui est non négligeable. Le f1-score de notre modèle a atteint les 99% de f1-score. \n",
        "\n",
        "Il est donc claire qu'en influent sur ces deux paramètres que sont max_feature et ngram_range, nous améliorons les performances de notre modèle. Le max_feature, permet de réduire la complexité des données sur lequels notre modèle s'entraine en limitant le vocabulaire aux mots importants. Notre modèle se base donc uniquement sur ces mots pour faire ces prédictions. Le ngram_range, quant à lui ajoute de l'information, en mettant en évidence des groupes de tokens qui joueraient un rôle de thème.\n",
        "\n",
        "Note : *Il est également possible d'influer sur les paramètres min_df, max_df. Ils permettent de supprimer les mots qui n'apparaissent pas plus de **min_df** fois ou qui apparaissent plus de **max_df** fois dans les textes.*\n",
        "\n",
        "Bon maintenant nous allons valider notre modèle sur le dataset de test. Voir lesquelles généralise le mieux."
      ]
    },
    {
      "cell_type": "markdown",
      "metadata": {
        "id": "_0WOZcl8-mCR",
        "colab_type": "text"
      },
      "source": [
        "## Validation\n",
        "\n",
        "Nous allons soumettre nos résultat sur kaggle afin de voir le score que l'on obtient avec notre meilleur modèle."
      ]
    },
    {
      "cell_type": "code",
      "metadata": {
        "id": "qr6TVpcr-h-u",
        "colab_type": "code",
        "colab": {}
      },
      "source": [
        "tfidf_word_svc = TfidfVectorizer(tokenizer=prepareText, analyzer='word', max_features=20000, ngram_range=(1,3))\n",
        "tfidf_char_svc = TfidfVectorizer(analyzer='char', max_features=40000, stop_words='english', ngram_range=(2,6))\n",
        "tfidf_svc = FeatureUnion([('word', tfidf_word_svc), ('char', tfidf_char_svc)])"
      ],
      "execution_count": 0,
      "outputs": []
    },
    {
      "cell_type": "code",
      "metadata": {
        "id": "IGA2DMVdAIct",
        "colab_type": "code",
        "colab": {}
      },
      "source": [
        "svc_pip = make_pipeline(tfidf_svc, svc)"
      ],
      "execution_count": 0,
      "outputs": []
    },
    {
      "cell_type": "code",
      "metadata": {
        "id": "QMRw5yMvAO5P",
        "colab_type": "code",
        "colab": {}
      },
      "source": [
        "%%time\n",
        "svc_pip.fit(corpus, target)"
      ],
      "execution_count": 0,
      "outputs": []
    },
    {
      "cell_type": "code",
      "metadata": {
        "id": "-GAhzVXGASC8",
        "colab_type": "code",
        "colab": {}
      },
      "source": [
        "predictions_svc = svc_pip.predict(test_corpus)"
      ],
      "execution_count": 0,
      "outputs": []
    },
    {
      "cell_type": "markdown",
      "metadata": {
        "id": "ntLn9ZtpAX5X",
        "colab_type": "text"
      },
      "source": [
        "### Submit"
      ]
    },
    {
      "cell_type": "code",
      "metadata": {
        "id": "k0Ra5bi8AaOL",
        "colab_type": "code",
        "colab": {}
      },
      "source": [
        "submit_svc = pd.DataFrame({'id': test_df.id, 'label' : predictions_svc})"
      ],
      "execution_count": 0,
      "outputs": []
    },
    {
      "cell_type": "code",
      "metadata": {
        "id": "M2w9GqCWAbne",
        "colab_type": "code",
        "colab": {}
      },
      "source": [
        "submit_svc.to_csv('submission.csv', index=False)"
      ],
      "execution_count": 0,
      "outputs": []
    },
    {
      "cell_type": "code",
      "metadata": {
        "id": "MXdzvoyaAgZO",
        "colab_type": "code",
        "colab": {}
      },
      "source": [
        "!kaggle competitions submit -c fake-news -f submission.csv -m \"SVC with default config and TFIDF\""
      ],
      "execution_count": 0,
      "outputs": []
    },
    {
      "cell_type": "markdown",
      "metadata": {
        "id": "I25c219cF-uh",
        "colab_type": "text"
      },
      "source": [
        "![Texte alternatif…](https://i.ibb.co/qnp0y0q/Capture-d-cran-2020-05-16-08-05-59.png)"
      ]
    },
    {
      "cell_type": "markdown",
      "metadata": {
        "id": "LHYyQvU5CTa0",
        "colab_type": "text"
      },
      "source": [
        "![Texte alternatif…](https://i.ibb.co/YRjWg5S/kaggle-result.png)"
      ]
    },
    {
      "cell_type": "markdown",
      "metadata": {
        "id": "Nms25f9MGLhC",
        "colab_type": "text"
      },
      "source": [
        "![Texte alternatif…](https://i.ibb.co/WHVyk53/Capture-d-cran-2020-05-16-08-08-40.png)"
      ]
    },
    {
      "cell_type": "markdown",
      "metadata": {
        "id": "VOFjuyPYAq3G",
        "colab_type": "text"
      },
      "source": [
        "On obtient 99.2 comme private score et 99.1 en public score.\n",
        "\n",
        "Remarque: L'usage du tfidf avec l'analyseur char peut rendre l'interprétation des prédictions moins lisible.\n",
        "\n",
        "voir : https://colab.research.google.com/drive/14-sxbLTVi3MG-xFeywv-zpcmFc7QxkkN#scrollTo=3_ylaFCDwgLn"
      ]
    }
  ]
}