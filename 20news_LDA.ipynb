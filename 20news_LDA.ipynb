{
  "nbformat": 4,
  "nbformat_minor": 0,
  "metadata": {
    "kernelspec": {
      "display_name": "Python 3",
      "language": "python",
      "name": "python3"
    },
    "language_info": {
      "codemirror_mode": {
        "name": "ipython",
        "version": 2
      },
      "file_extension": ".py",
      "mimetype": "text/x-python",
      "name": "python",
      "nbconvert_exporter": "python",
      "pygments_lexer": "ipython2",
      "version": "2.7.6"
    },
    "pycharm": {
      "stem_cell": {
        "cell_type": "raw",
        "source": [],
        "metadata": {
          "collapsed": false
        }
      }
    },
    "colab": {
      "name": "20news_LDA.ipynb",
      "provenance": [],
      "collapsed_sections": [],
      "toc_visible": true,
      "include_colab_link": true
    }
  },
  "cells": [
    {
      "cell_type": "markdown",
      "metadata": {
        "id": "view-in-github",
        "colab_type": "text"
      },
      "source": [
        "<a href=\"https://colab.research.google.com/github/Remydeme/Descarte/blob/master/20news_LDA.ipynb\" target=\"_parent\"><img src=\"https://colab.research.google.com/assets/colab-badge.svg\" alt=\"Open In Colab\"/></a>"
      ]
    },
    {
      "cell_type": "code",
      "metadata": {
        "id": "ZeDyADqbaa1C",
        "colab_type": "code",
        "colab": {
          "base_uri": "https://localhost:8080/",
          "height": 1000
        },
        "outputId": "0332fbf0-caf4-4e95-910a-c89ba7bea6fa"
      },
      "source": [
        "!pip install seaborn \n",
        "!pip install spacy \n",
        "!pip install pyldavis\n",
        "!pip install bokeh\n",
        "# download the vocab  \n",
        "!pip3 install spacy\n",
        "!python3 -m spacy download en_core_web_sm\n",
        "!pip install tqdm"
      ],
      "execution_count": null,
      "outputs": [
        {
          "output_type": "stream",
          "text": [
            "Requirement already satisfied: seaborn in /usr/local/lib/python3.6/dist-packages (0.10.0)\n",
            "Requirement already satisfied: pandas>=0.22.0 in /usr/local/lib/python3.6/dist-packages (from seaborn) (1.0.3)\n",
            "Requirement already satisfied: numpy>=1.13.3 in /usr/local/lib/python3.6/dist-packages (from seaborn) (1.18.2)\n",
            "Requirement already satisfied: matplotlib>=2.1.2 in /usr/local/lib/python3.6/dist-packages (from seaborn) (3.2.1)\n",
            "Requirement already satisfied: scipy>=1.0.1 in /usr/local/lib/python3.6/dist-packages (from seaborn) (1.4.1)\n",
            "Requirement already satisfied: pytz>=2017.2 in /usr/local/lib/python3.6/dist-packages (from pandas>=0.22.0->seaborn) (2018.9)\n",
            "Requirement already satisfied: python-dateutil>=2.6.1 in /usr/local/lib/python3.6/dist-packages (from pandas>=0.22.0->seaborn) (2.8.1)\n",
            "Requirement already satisfied: kiwisolver>=1.0.1 in /usr/local/lib/python3.6/dist-packages (from matplotlib>=2.1.2->seaborn) (1.2.0)\n",
            "Requirement already satisfied: cycler>=0.10 in /usr/local/lib/python3.6/dist-packages (from matplotlib>=2.1.2->seaborn) (0.10.0)\n",
            "Requirement already satisfied: pyparsing!=2.0.4,!=2.1.2,!=2.1.6,>=2.0.1 in /usr/local/lib/python3.6/dist-packages (from matplotlib>=2.1.2->seaborn) (2.4.7)\n",
            "Requirement already satisfied: six>=1.5 in /usr/local/lib/python3.6/dist-packages (from python-dateutil>=2.6.1->pandas>=0.22.0->seaborn) (1.12.0)\n",
            "Requirement already satisfied: spacy in /usr/local/lib/python3.6/dist-packages (2.2.4)\n",
            "Requirement already satisfied: thinc==7.4.0 in /usr/local/lib/python3.6/dist-packages (from spacy) (7.4.0)\n",
            "Requirement already satisfied: preshed<3.1.0,>=3.0.2 in /usr/local/lib/python3.6/dist-packages (from spacy) (3.0.2)\n",
            "Requirement already satisfied: tqdm<5.0.0,>=4.38.0 in /usr/local/lib/python3.6/dist-packages (from spacy) (4.38.0)\n",
            "Requirement already satisfied: cymem<2.1.0,>=2.0.2 in /usr/local/lib/python3.6/dist-packages (from spacy) (2.0.3)\n",
            "Requirement already satisfied: srsly<1.1.0,>=1.0.2 in /usr/local/lib/python3.6/dist-packages (from spacy) (1.0.2)\n",
            "Requirement already satisfied: requests<3.0.0,>=2.13.0 in /usr/local/lib/python3.6/dist-packages (from spacy) (2.21.0)\n",
            "Requirement already satisfied: setuptools in /usr/local/lib/python3.6/dist-packages (from spacy) (46.1.3)\n",
            "Requirement already satisfied: plac<1.2.0,>=0.9.6 in /usr/local/lib/python3.6/dist-packages (from spacy) (1.1.3)\n",
            "Requirement already satisfied: murmurhash<1.1.0,>=0.28.0 in /usr/local/lib/python3.6/dist-packages (from spacy) (1.0.2)\n",
            "Requirement already satisfied: wasabi<1.1.0,>=0.4.0 in /usr/local/lib/python3.6/dist-packages (from spacy) (0.6.0)\n",
            "Requirement already satisfied: numpy>=1.15.0 in /usr/local/lib/python3.6/dist-packages (from spacy) (1.18.2)\n",
            "Requirement already satisfied: blis<0.5.0,>=0.4.0 in /usr/local/lib/python3.6/dist-packages (from spacy) (0.4.1)\n",
            "Requirement already satisfied: catalogue<1.1.0,>=0.0.7 in /usr/local/lib/python3.6/dist-packages (from spacy) (1.0.0)\n",
            "Requirement already satisfied: urllib3<1.25,>=1.21.1 in /usr/local/lib/python3.6/dist-packages (from requests<3.0.0,>=2.13.0->spacy) (1.24.3)\n",
            "Requirement already satisfied: idna<2.9,>=2.5 in /usr/local/lib/python3.6/dist-packages (from requests<3.0.0,>=2.13.0->spacy) (2.8)\n",
            "Requirement already satisfied: chardet<3.1.0,>=3.0.2 in /usr/local/lib/python3.6/dist-packages (from requests<3.0.0,>=2.13.0->spacy) (3.0.4)\n",
            "Requirement already satisfied: certifi>=2017.4.17 in /usr/local/lib/python3.6/dist-packages (from requests<3.0.0,>=2.13.0->spacy) (2020.4.5.1)\n",
            "Requirement already satisfied: importlib-metadata>=0.20; python_version < \"3.8\" in /usr/local/lib/python3.6/dist-packages (from catalogue<1.1.0,>=0.0.7->spacy) (1.6.0)\n",
            "Requirement already satisfied: zipp>=0.5 in /usr/local/lib/python3.6/dist-packages (from importlib-metadata>=0.20; python_version < \"3.8\"->catalogue<1.1.0,>=0.0.7->spacy) (3.1.0)\n",
            "Requirement already satisfied: pyldavis in /usr/local/lib/python3.6/dist-packages (2.1.2)\n",
            "Requirement already satisfied: funcy in /usr/local/lib/python3.6/dist-packages (from pyldavis) (1.14)\n",
            "Requirement already satisfied: scipy>=0.18.0 in /usr/local/lib/python3.6/dist-packages (from pyldavis) (1.4.1)\n",
            "Requirement already satisfied: numexpr in /usr/local/lib/python3.6/dist-packages (from pyldavis) (2.7.1)\n",
            "Requirement already satisfied: future in /usr/local/lib/python3.6/dist-packages (from pyldavis) (0.16.0)\n",
            "Requirement already satisfied: numpy>=1.9.2 in /usr/local/lib/python3.6/dist-packages (from pyldavis) (1.18.2)\n",
            "Requirement already satisfied: pytest in /usr/local/lib/python3.6/dist-packages (from pyldavis) (3.6.4)\n",
            "Requirement already satisfied: wheel>=0.23.0 in /usr/local/lib/python3.6/dist-packages (from pyldavis) (0.34.2)\n",
            "Requirement already satisfied: joblib>=0.8.4 in /usr/local/lib/python3.6/dist-packages (from pyldavis) (0.14.1)\n",
            "Requirement already satisfied: jinja2>=2.7.2 in /usr/local/lib/python3.6/dist-packages (from pyldavis) (2.11.1)\n",
            "Requirement already satisfied: pandas>=0.17.0 in /usr/local/lib/python3.6/dist-packages (from pyldavis) (1.0.3)\n",
            "Requirement already satisfied: six>=1.10.0 in /usr/local/lib/python3.6/dist-packages (from pytest->pyldavis) (1.12.0)\n",
            "Requirement already satisfied: pluggy<0.8,>=0.5 in /usr/local/lib/python3.6/dist-packages (from pytest->pyldavis) (0.7.1)\n",
            "Requirement already satisfied: setuptools in /usr/local/lib/python3.6/dist-packages (from pytest->pyldavis) (46.1.3)\n",
            "Requirement already satisfied: atomicwrites>=1.0 in /usr/local/lib/python3.6/dist-packages (from pytest->pyldavis) (1.3.0)\n",
            "Requirement already satisfied: more-itertools>=4.0.0 in /usr/local/lib/python3.6/dist-packages (from pytest->pyldavis) (8.2.0)\n",
            "Requirement already satisfied: attrs>=17.4.0 in /usr/local/lib/python3.6/dist-packages (from pytest->pyldavis) (19.3.0)\n",
            "Requirement already satisfied: py>=1.5.0 in /usr/local/lib/python3.6/dist-packages (from pytest->pyldavis) (1.8.1)\n",
            "Requirement already satisfied: MarkupSafe>=0.23 in /usr/local/lib/python3.6/dist-packages (from jinja2>=2.7.2->pyldavis) (1.1.1)\n",
            "Requirement already satisfied: pytz>=2017.2 in /usr/local/lib/python3.6/dist-packages (from pandas>=0.17.0->pyldavis) (2018.9)\n",
            "Requirement already satisfied: python-dateutil>=2.6.1 in /usr/local/lib/python3.6/dist-packages (from pandas>=0.17.0->pyldavis) (2.8.1)\n",
            "Requirement already satisfied: bokeh in /usr/local/lib/python3.6/dist-packages (1.4.0)\n",
            "Requirement already satisfied: six>=1.5.2 in /usr/local/lib/python3.6/dist-packages (from bokeh) (1.12.0)\n",
            "Requirement already satisfied: PyYAML>=3.10 in /usr/local/lib/python3.6/dist-packages (from bokeh) (3.13)\n",
            "Requirement already satisfied: pillow>=4.0 in /usr/local/lib/python3.6/dist-packages (from bokeh) (7.0.0)\n",
            "Requirement already satisfied: packaging>=16.8 in /usr/local/lib/python3.6/dist-packages (from bokeh) (20.3)\n",
            "Requirement already satisfied: python-dateutil>=2.1 in /usr/local/lib/python3.6/dist-packages (from bokeh) (2.8.1)\n",
            "Requirement already satisfied: Jinja2>=2.7 in /usr/local/lib/python3.6/dist-packages (from bokeh) (2.11.1)\n",
            "Requirement already satisfied: numpy>=1.7.1 in /usr/local/lib/python3.6/dist-packages (from bokeh) (1.18.2)\n",
            "Requirement already satisfied: tornado>=4.3 in /usr/local/lib/python3.6/dist-packages (from bokeh) (4.5.3)\n",
            "Requirement already satisfied: pyparsing>=2.0.2 in /usr/local/lib/python3.6/dist-packages (from packaging>=16.8->bokeh) (2.4.7)\n",
            "Requirement already satisfied: MarkupSafe>=0.23 in /usr/local/lib/python3.6/dist-packages (from Jinja2>=2.7->bokeh) (1.1.1)\n",
            "Requirement already satisfied: spacy in /usr/local/lib/python3.6/dist-packages (2.2.4)\n",
            "Requirement already satisfied: plac<1.2.0,>=0.9.6 in /usr/local/lib/python3.6/dist-packages (from spacy) (1.1.3)\n",
            "Requirement already satisfied: requests<3.0.0,>=2.13.0 in /usr/local/lib/python3.6/dist-packages (from spacy) (2.21.0)\n",
            "Requirement already satisfied: numpy>=1.15.0 in /usr/local/lib/python3.6/dist-packages (from spacy) (1.18.2)\n",
            "Requirement already satisfied: thinc==7.4.0 in /usr/local/lib/python3.6/dist-packages (from spacy) (7.4.0)\n",
            "Requirement already satisfied: catalogue<1.1.0,>=0.0.7 in /usr/local/lib/python3.6/dist-packages (from spacy) (1.0.0)\n",
            "Requirement already satisfied: blis<0.5.0,>=0.4.0 in /usr/local/lib/python3.6/dist-packages (from spacy) (0.4.1)\n",
            "Requirement already satisfied: tqdm<5.0.0,>=4.38.0 in /usr/local/lib/python3.6/dist-packages (from spacy) (4.38.0)\n",
            "Requirement already satisfied: murmurhash<1.1.0,>=0.28.0 in /usr/local/lib/python3.6/dist-packages (from spacy) (1.0.2)\n",
            "Requirement already satisfied: srsly<1.1.0,>=1.0.2 in /usr/local/lib/python3.6/dist-packages (from spacy) (1.0.2)\n",
            "Requirement already satisfied: preshed<3.1.0,>=3.0.2 in /usr/local/lib/python3.6/dist-packages (from spacy) (3.0.2)\n",
            "Requirement already satisfied: setuptools in /usr/local/lib/python3.6/dist-packages (from spacy) (46.1.3)\n",
            "Requirement already satisfied: cymem<2.1.0,>=2.0.2 in /usr/local/lib/python3.6/dist-packages (from spacy) (2.0.3)\n",
            "Requirement already satisfied: wasabi<1.1.0,>=0.4.0 in /usr/local/lib/python3.6/dist-packages (from spacy) (0.6.0)\n",
            "Requirement already satisfied: idna<2.9,>=2.5 in /usr/local/lib/python3.6/dist-packages (from requests<3.0.0,>=2.13.0->spacy) (2.8)\n",
            "Requirement already satisfied: urllib3<1.25,>=1.21.1 in /usr/local/lib/python3.6/dist-packages (from requests<3.0.0,>=2.13.0->spacy) (1.24.3)\n",
            "Requirement already satisfied: chardet<3.1.0,>=3.0.2 in /usr/local/lib/python3.6/dist-packages (from requests<3.0.0,>=2.13.0->spacy) (3.0.4)\n",
            "Requirement already satisfied: certifi>=2017.4.17 in /usr/local/lib/python3.6/dist-packages (from requests<3.0.0,>=2.13.0->spacy) (2020.4.5.1)\n",
            "Requirement already satisfied: importlib-metadata>=0.20; python_version < \"3.8\" in /usr/local/lib/python3.6/dist-packages (from catalogue<1.1.0,>=0.0.7->spacy) (1.6.0)\n",
            "Requirement already satisfied: zipp>=0.5 in /usr/local/lib/python3.6/dist-packages (from importlib-metadata>=0.20; python_version < \"3.8\"->catalogue<1.1.0,>=0.0.7->spacy) (3.1.0)\n",
            "Requirement already satisfied: en_core_web_sm==2.2.5 from https://github.com/explosion/spacy-models/releases/download/en_core_web_sm-2.2.5/en_core_web_sm-2.2.5.tar.gz#egg=en_core_web_sm==2.2.5 in /usr/local/lib/python3.6/dist-packages (2.2.5)\n",
            "Requirement already satisfied: spacy>=2.2.2 in /usr/local/lib/python3.6/dist-packages (from en_core_web_sm==2.2.5) (2.2.4)\n",
            "Requirement already satisfied: srsly<1.1.0,>=1.0.2 in /usr/local/lib/python3.6/dist-packages (from spacy>=2.2.2->en_core_web_sm==2.2.5) (1.0.2)\n",
            "Requirement already satisfied: requests<3.0.0,>=2.13.0 in /usr/local/lib/python3.6/dist-packages (from spacy>=2.2.2->en_core_web_sm==2.2.5) (2.21.0)\n",
            "Requirement already satisfied: murmurhash<1.1.0,>=0.28.0 in /usr/local/lib/python3.6/dist-packages (from spacy>=2.2.2->en_core_web_sm==2.2.5) (1.0.2)\n",
            "Requirement already satisfied: plac<1.2.0,>=0.9.6 in /usr/local/lib/python3.6/dist-packages (from spacy>=2.2.2->en_core_web_sm==2.2.5) (1.1.3)\n",
            "Requirement already satisfied: thinc==7.4.0 in /usr/local/lib/python3.6/dist-packages (from spacy>=2.2.2->en_core_web_sm==2.2.5) (7.4.0)\n",
            "Requirement already satisfied: blis<0.5.0,>=0.4.0 in /usr/local/lib/python3.6/dist-packages (from spacy>=2.2.2->en_core_web_sm==2.2.5) (0.4.1)\n",
            "Requirement already satisfied: tqdm<5.0.0,>=4.38.0 in /usr/local/lib/python3.6/dist-packages (from spacy>=2.2.2->en_core_web_sm==2.2.5) (4.38.0)\n",
            "Requirement already satisfied: numpy>=1.15.0 in /usr/local/lib/python3.6/dist-packages (from spacy>=2.2.2->en_core_web_sm==2.2.5) (1.18.2)\n",
            "Requirement already satisfied: setuptools in /usr/local/lib/python3.6/dist-packages (from spacy>=2.2.2->en_core_web_sm==2.2.5) (46.1.3)\n",
            "Requirement already satisfied: cymem<2.1.0,>=2.0.2 in /usr/local/lib/python3.6/dist-packages (from spacy>=2.2.2->en_core_web_sm==2.2.5) (2.0.3)\n",
            "Requirement already satisfied: catalogue<1.1.0,>=0.0.7 in /usr/local/lib/python3.6/dist-packages (from spacy>=2.2.2->en_core_web_sm==2.2.5) (1.0.0)\n",
            "Requirement already satisfied: wasabi<1.1.0,>=0.4.0 in /usr/local/lib/python3.6/dist-packages (from spacy>=2.2.2->en_core_web_sm==2.2.5) (0.6.0)\n",
            "Requirement already satisfied: preshed<3.1.0,>=3.0.2 in /usr/local/lib/python3.6/dist-packages (from spacy>=2.2.2->en_core_web_sm==2.2.5) (3.0.2)\n",
            "Requirement already satisfied: certifi>=2017.4.17 in /usr/local/lib/python3.6/dist-packages (from requests<3.0.0,>=2.13.0->spacy>=2.2.2->en_core_web_sm==2.2.5) (2020.4.5.1)\n",
            "Requirement already satisfied: urllib3<1.25,>=1.21.1 in /usr/local/lib/python3.6/dist-packages (from requests<3.0.0,>=2.13.0->spacy>=2.2.2->en_core_web_sm==2.2.5) (1.24.3)\n",
            "Requirement already satisfied: chardet<3.1.0,>=3.0.2 in /usr/local/lib/python3.6/dist-packages (from requests<3.0.0,>=2.13.0->spacy>=2.2.2->en_core_web_sm==2.2.5) (3.0.4)\n",
            "Requirement already satisfied: idna<2.9,>=2.5 in /usr/local/lib/python3.6/dist-packages (from requests<3.0.0,>=2.13.0->spacy>=2.2.2->en_core_web_sm==2.2.5) (2.8)\n",
            "Requirement already satisfied: importlib-metadata>=0.20; python_version < \"3.8\" in /usr/local/lib/python3.6/dist-packages (from catalogue<1.1.0,>=0.0.7->spacy>=2.2.2->en_core_web_sm==2.2.5) (1.6.0)\n",
            "Requirement already satisfied: zipp>=0.5 in /usr/local/lib/python3.6/dist-packages (from importlib-metadata>=0.20; python_version < \"3.8\"->catalogue<1.1.0,>=0.0.7->spacy>=2.2.2->en_core_web_sm==2.2.5) (3.1.0)\n",
            "\u001b[38;5;2m✔ Download and installation successful\u001b[0m\n",
            "You can now load the model via spacy.load('en_core_web_sm')\n",
            "Requirement already satisfied: tqdm in /usr/local/lib/python3.6/dist-packages (4.38.0)\n"
          ],
          "name": "stdout"
        }
      ]
    },
    {
      "cell_type": "markdown",
      "metadata": {
        "id": "h4gLw63PRHTH",
        "colab_type": "text"
      },
      "source": [
        "# Introduction \n",
        "\n",
        "Le LDA  est un modèle de machine learning non supervisé, il permet d'associer un contexte à un document à partir des mots contenus dans ce document, lesquels pris individuellement pourraient appartenir à des contextes différents. \n",
        "\n",
        "Afin de tester l’algorithme nous avons travaillé sur le dataset “20newsGroup”. Ce jeu de données contient des textes à propos de 20 catégories différentes. \n"
      ]
    },
    {
      "cell_type": "code",
      "metadata": {
        "pycharm": {
          "is_executing": false,
          "name": "#%%\n"
        },
        "id": "YRyYXgwDZ-51",
        "colab_type": "code",
        "colab": {}
      },
      "source": [
        "from sklearn.datasets import fetch_20newsgroups\n",
        "import pandas as pd\n",
        "\n",
        "def twenty_newsgroup_to_csv():\n",
        "    newsgroups_train = fetch_20newsgroups(subset='train', remove=('headers', 'footers', 'quotes'))\n",
        "\n",
        "    df = pd.DataFrame([newsgroups_train.data, newsgroups_train.target.tolist()]).T\n",
        "    df.columns = ['text', 'target']\n",
        "\n",
        "    targets = pd.DataFrame( newsgroups_train.target_names)\n",
        "    targets.columns=['title']\n",
        "\n",
        "    out = pd.merge(df, targets, left_on='target', right_index=True)\n",
        "    out['date'] = pd.to_datetime('now')\n",
        "    return out \n",
        "    \n"
      ],
      "execution_count": null,
      "outputs": []
    },
    {
      "cell_type": "code",
      "metadata": {
        "pycharm": {
          "name": "#%%\n",
          "is_executing": false
        },
        "id": "2LPd6n2GZ-55",
        "colab_type": "code",
        "colab": {}
      },
      "source": [
        "news = twenty_newsgroup_to_csv()"
      ],
      "execution_count": null,
      "outputs": []
    },
    {
      "cell_type": "markdown",
      "metadata": {
        "collapsed": false,
        "id": "BCrysUBZZ-6H",
        "colab_type": "text"
      },
      "source": [
        "# Dataset \n",
        "\n",
        "On peu supprimer les colonne inutile : \n",
        "\n",
        "* Unnamed: 0\n",
        "* date "
      ]
    },
    {
      "cell_type": "code",
      "metadata": {
        "pycharm": {
          "name": "#%%\n",
          "is_executing": false
        },
        "id": "Hgo5MHixZ-6I",
        "colab_type": "code",
        "colab": {}
      },
      "source": [
        "news = news[['text', 'target', 'title']]"
      ],
      "execution_count": null,
      "outputs": []
    },
    {
      "cell_type": "markdown",
      "metadata": {
        "id": "1-z2tqFYJX01",
        "colab_type": "text"
      },
      "source": [
        "\n",
        "\n",
        "* text : Le texte\n",
        "* target : Nombre qui identifie la catégorie\n",
        "* title : Titre donné à la catégorie  "
      ]
    },
    {
      "cell_type": "markdown",
      "metadata": {
        "id": "rzdmvFp0KJkC",
        "colab_type": "text"
      },
      "source": [
        "## Distribution\n",
        "\n",
        "Etudions la distribution des donnée par classes. "
      ]
    },
    {
      "cell_type": "code",
      "metadata": {
        "pycharm": {
          "name": "#%%\n",
          "is_executing": false
        },
        "id": "rbRLjQXGZ-6L",
        "colab_type": "code",
        "colab": {
          "base_uri": "https://localhost:8080/",
          "height": 71
        },
        "outputId": "352a2fb2-414b-4769-b8a1-b9d0588a01b0"
      },
      "source": [
        "# Study the distribution \n",
        "import seaborn as sns \n",
        "\n",
        "distribution = news.title.value_counts()"
      ],
      "execution_count": null,
      "outputs": [
        {
          "output_type": "stream",
          "text": [
            "/usr/local/lib/python3.6/dist-packages/statsmodels/tools/_testing.py:19: FutureWarning: pandas.util.testing is deprecated. Use the functions in the public API at pandas.testing instead.\n",
            "  import pandas.util.testing as tm\n"
          ],
          "name": "stderr"
        }
      ]
    },
    {
      "cell_type": "code",
      "metadata": {
        "pycharm": {
          "name": "#%%\n",
          "is_executing": false
        },
        "id": "CWwOImzUZ-6O",
        "colab_type": "code",
        "colab": {
          "base_uri": "https://localhost:8080/",
          "height": 669
        },
        "outputId": "15399897-0cc1-4aab-c751-77bd85b87646"
      },
      "source": [
        "distribution = news.title.value_counts()\n",
        "distribution = pd.DataFrame({'Category' : distribution.index, 'Frequency' : distribution.values})\n",
        "distribution"
      ],
      "execution_count": null,
      "outputs": [
        {
          "output_type": "execute_result",
          "data": {
            "text/html": [
              "<div>\n",
              "<style scoped>\n",
              "    .dataframe tbody tr th:only-of-type {\n",
              "        vertical-align: middle;\n",
              "    }\n",
              "\n",
              "    .dataframe tbody tr th {\n",
              "        vertical-align: top;\n",
              "    }\n",
              "\n",
              "    .dataframe thead th {\n",
              "        text-align: right;\n",
              "    }\n",
              "</style>\n",
              "<table border=\"1\" class=\"dataframe\">\n",
              "  <thead>\n",
              "    <tr style=\"text-align: right;\">\n",
              "      <th></th>\n",
              "      <th>Category</th>\n",
              "      <th>Frequency</th>\n",
              "    </tr>\n",
              "  </thead>\n",
              "  <tbody>\n",
              "    <tr>\n",
              "      <th>0</th>\n",
              "      <td>rec.sport.hockey</td>\n",
              "      <td>600</td>\n",
              "    </tr>\n",
              "    <tr>\n",
              "      <th>1</th>\n",
              "      <td>soc.religion.christian</td>\n",
              "      <td>599</td>\n",
              "    </tr>\n",
              "    <tr>\n",
              "      <th>2</th>\n",
              "      <td>rec.motorcycles</td>\n",
              "      <td>598</td>\n",
              "    </tr>\n",
              "    <tr>\n",
              "      <th>3</th>\n",
              "      <td>rec.sport.baseball</td>\n",
              "      <td>597</td>\n",
              "    </tr>\n",
              "    <tr>\n",
              "      <th>4</th>\n",
              "      <td>sci.crypt</td>\n",
              "      <td>595</td>\n",
              "    </tr>\n",
              "    <tr>\n",
              "      <th>5</th>\n",
              "      <td>sci.med</td>\n",
              "      <td>594</td>\n",
              "    </tr>\n",
              "    <tr>\n",
              "      <th>6</th>\n",
              "      <td>rec.autos</td>\n",
              "      <td>594</td>\n",
              "    </tr>\n",
              "    <tr>\n",
              "      <th>7</th>\n",
              "      <td>comp.windows.x</td>\n",
              "      <td>593</td>\n",
              "    </tr>\n",
              "    <tr>\n",
              "      <th>8</th>\n",
              "      <td>sci.space</td>\n",
              "      <td>593</td>\n",
              "    </tr>\n",
              "    <tr>\n",
              "      <th>9</th>\n",
              "      <td>comp.os.ms-windows.misc</td>\n",
              "      <td>591</td>\n",
              "    </tr>\n",
              "    <tr>\n",
              "      <th>10</th>\n",
              "      <td>sci.electronics</td>\n",
              "      <td>591</td>\n",
              "    </tr>\n",
              "    <tr>\n",
              "      <th>11</th>\n",
              "      <td>comp.sys.ibm.pc.hardware</td>\n",
              "      <td>590</td>\n",
              "    </tr>\n",
              "    <tr>\n",
              "      <th>12</th>\n",
              "      <td>misc.forsale</td>\n",
              "      <td>585</td>\n",
              "    </tr>\n",
              "    <tr>\n",
              "      <th>13</th>\n",
              "      <td>comp.graphics</td>\n",
              "      <td>584</td>\n",
              "    </tr>\n",
              "    <tr>\n",
              "      <th>14</th>\n",
              "      <td>comp.sys.mac.hardware</td>\n",
              "      <td>578</td>\n",
              "    </tr>\n",
              "    <tr>\n",
              "      <th>15</th>\n",
              "      <td>talk.politics.mideast</td>\n",
              "      <td>564</td>\n",
              "    </tr>\n",
              "    <tr>\n",
              "      <th>16</th>\n",
              "      <td>talk.politics.guns</td>\n",
              "      <td>546</td>\n",
              "    </tr>\n",
              "    <tr>\n",
              "      <th>17</th>\n",
              "      <td>alt.atheism</td>\n",
              "      <td>480</td>\n",
              "    </tr>\n",
              "    <tr>\n",
              "      <th>18</th>\n",
              "      <td>talk.politics.misc</td>\n",
              "      <td>465</td>\n",
              "    </tr>\n",
              "    <tr>\n",
              "      <th>19</th>\n",
              "      <td>talk.religion.misc</td>\n",
              "      <td>377</td>\n",
              "    </tr>\n",
              "  </tbody>\n",
              "</table>\n",
              "</div>"
            ],
            "text/plain": [
              "                    Category  Frequency\n",
              "0           rec.sport.hockey        600\n",
              "1     soc.religion.christian        599\n",
              "2            rec.motorcycles        598\n",
              "3         rec.sport.baseball        597\n",
              "4                  sci.crypt        595\n",
              "5                    sci.med        594\n",
              "6                  rec.autos        594\n",
              "7             comp.windows.x        593\n",
              "8                  sci.space        593\n",
              "9    comp.os.ms-windows.misc        591\n",
              "10           sci.electronics        591\n",
              "11  comp.sys.ibm.pc.hardware        590\n",
              "12              misc.forsale        585\n",
              "13             comp.graphics        584\n",
              "14     comp.sys.mac.hardware        578\n",
              "15     talk.politics.mideast        564\n",
              "16        talk.politics.guns        546\n",
              "17               alt.atheism        480\n",
              "18        talk.politics.misc        465\n",
              "19        talk.religion.misc        377"
            ]
          },
          "metadata": {
            "tags": []
          },
          "execution_count": 9
        }
      ]
    },
    {
      "cell_type": "code",
      "metadata": {
        "id": "hhDqwyftd1SL",
        "colab_type": "code",
        "colab": {
          "base_uri": "https://localhost:8080/",
          "height": 297
        },
        "outputId": "7ed22035-bc4b-46df-c6b2-220f38bbb013"
      },
      "source": [
        "distribution.describe()"
      ],
      "execution_count": null,
      "outputs": [
        {
          "output_type": "execute_result",
          "data": {
            "text/html": [
              "<div>\n",
              "<style scoped>\n",
              "    .dataframe tbody tr th:only-of-type {\n",
              "        vertical-align: middle;\n",
              "    }\n",
              "\n",
              "    .dataframe tbody tr th {\n",
              "        vertical-align: top;\n",
              "    }\n",
              "\n",
              "    .dataframe thead th {\n",
              "        text-align: right;\n",
              "    }\n",
              "</style>\n",
              "<table border=\"1\" class=\"dataframe\">\n",
              "  <thead>\n",
              "    <tr style=\"text-align: right;\">\n",
              "      <th></th>\n",
              "      <th>Frequency</th>\n",
              "    </tr>\n",
              "  </thead>\n",
              "  <tbody>\n",
              "    <tr>\n",
              "      <th>count</th>\n",
              "      <td>20.000000</td>\n",
              "    </tr>\n",
              "    <tr>\n",
              "      <th>mean</th>\n",
              "      <td>565.700000</td>\n",
              "    </tr>\n",
              "    <tr>\n",
              "      <th>std</th>\n",
              "      <td>58.251813</td>\n",
              "    </tr>\n",
              "    <tr>\n",
              "      <th>min</th>\n",
              "      <td>377.000000</td>\n",
              "    </tr>\n",
              "    <tr>\n",
              "      <th>25%</th>\n",
              "      <td>574.500000</td>\n",
              "    </tr>\n",
              "    <tr>\n",
              "      <th>50%</th>\n",
              "      <td>591.000000</td>\n",
              "    </tr>\n",
              "    <tr>\n",
              "      <th>75%</th>\n",
              "      <td>594.250000</td>\n",
              "    </tr>\n",
              "    <tr>\n",
              "      <th>max</th>\n",
              "      <td>600.000000</td>\n",
              "    </tr>\n",
              "  </tbody>\n",
              "</table>\n",
              "</div>"
            ],
            "text/plain": [
              "        Frequency\n",
              "count   20.000000\n",
              "mean   565.700000\n",
              "std     58.251813\n",
              "min    377.000000\n",
              "25%    574.500000\n",
              "50%    591.000000\n",
              "75%    594.250000\n",
              "max    600.000000"
            ]
          },
          "metadata": {
            "tags": []
          },
          "execution_count": 10
        }
      ]
    },
    {
      "cell_type": "code",
      "metadata": {
        "pycharm": {
          "name": "#%%\n",
          "is_executing": false
        },
        "id": "xiY7WayTZ-6X",
        "colab_type": "code",
        "colab": {
          "base_uri": "https://localhost:8080/",
          "height": 477
        },
        "outputId": "9110ed7f-0071-4ac5-87b8-e76e21488394"
      },
      "source": [
        "import matplotlib.pyplot as plt \n",
        "\n",
        "plt.figure(figsize=(25,8))\n",
        "sns.barplot(y='Frequency', x='Category', data=distribution, hue='Category')\n",
        "plt.xticks(\n",
        "    rotation=45, \n",
        "    horizontalalignment='right',\n",
        "    fontweight='light',\n",
        "    fontsize='x-large'  \n",
        ")\n"
      ],
      "execution_count": null,
      "outputs": [
        {
          "output_type": "execute_result",
          "data": {
            "text/plain": [
              "(array([ 0,  1,  2,  3,  4,  5,  6,  7,  8,  9, 10, 11, 12, 13, 14, 15, 16,\n",
              "        17, 18, 19]), <a list of 20 Text major ticklabel objects>)"
            ]
          },
          "metadata": {
            "tags": []
          },
          "execution_count": 11
        },
        {
          "output_type": "display_data",
          "data": {
            "image/png": "[encoded data removed]",
            "text/plain": [
              "<Figure size 1800x576 with 1 Axes>"
            ]
          },
          "metadata": {
            "tags": [],
            "needs_background": "light"
          }
        }
      ]
    },
    {
      "cell_type": "markdown",
      "metadata": {
        "collapsed": false,
        "id": "chgvPVqbZ-6c",
        "colab_type": "text"
      },
      "source": [
        "La distribution des articles est quasiment uniforme seul les classes religion, atheism, \n",
        "et politics sont sous représenté. La moyenne de textes par théme est de 565 et l'écart moyen des catégorie est de 58. Soit environ 10%. \n",
        "\n",
        "\n",
        "Analysons si il y a des valeur null"
      ]
    },
    {
      "cell_type": "code",
      "metadata": {
        "pycharm": {
          "name": "#%%\n",
          "is_executing": false
        },
        "id": "EhfWd1NKZ-6c",
        "colab_type": "code",
        "colab": {
          "base_uri": "https://localhost:8080/",
          "height": 187
        },
        "outputId": "8e4725fa-3446-4134-a475-601d53c6a768"
      },
      "source": [
        "news.info()"
      ],
      "execution_count": null,
      "outputs": [
        {
          "output_type": "stream",
          "text": [
            "<class 'pandas.core.frame.DataFrame'>\n",
            "Int64Index: 11314 entries, 0 to 11302\n",
            "Data columns (total 3 columns):\n",
            " #   Column  Non-Null Count  Dtype \n",
            "---  ------  --------------  ----- \n",
            " 0   text    11314 non-null  object\n",
            " 1   target  11314 non-null  object\n",
            " 2   title   11314 non-null  object\n",
            "dtypes: object(3)\n",
            "memory usage: 353.6+ KB\n"
          ],
          "name": "stdout"
        }
      ]
    },
    {
      "cell_type": "markdown",
      "metadata": {
        "collapsed": false,
        "id": "5XS_ZOXPZ-6j",
        "colab_type": "text"
      },
      "source": [
        "\n",
        "On a 11096 textes et 11314 target ce qui signifie qu'il y a des textes vides ."
      ]
    },
    {
      "cell_type": "code",
      "metadata": {
        "pycharm": {
          "name": "#%%\n",
          "is_executing": false
        },
        "id": "h9xrUkTyZ-6j",
        "colab_type": "code",
        "colab": {
          "base_uri": "https://localhost:8080/",
          "height": 187
        },
        "outputId": "497e76c0-64c1-4e11-bd0e-ba3be4ae049e"
      },
      "source": [
        "news.dropna(inplace=True)\n",
        "news.info()"
      ],
      "execution_count": null,
      "outputs": [
        {
          "output_type": "stream",
          "text": [
            "<class 'pandas.core.frame.DataFrame'>\n",
            "Int64Index: 11314 entries, 0 to 11302\n",
            "Data columns (total 3 columns):\n",
            " #   Column  Non-Null Count  Dtype \n",
            "---  ------  --------------  ----- \n",
            " 0   text    11314 non-null  object\n",
            " 1   target  11314 non-null  object\n",
            " 2   title   11314 non-null  object\n",
            "dtypes: object(3)\n",
            "memory usage: 353.6+ KB\n"
          ],
          "name": "stdout"
        }
      ]
    },
    {
      "cell_type": "markdown",
      "metadata": {
        "id": "UbF2TrsFni38",
        "colab_type": "text"
      },
      "source": [
        "### Etude du nombre de mot par texte \n",
        "\n",
        "Nous allons étudier la distribution du nombre de mots par textes. Puis nous supprimerons les texte ayant moins de 40. Le LDA a de mauvaises performances sur les articles court. Nous expliquerons pourquoi dans une analyse mathématique du fonctionnement de l'algorithme.  "
      ]
    },
    {
      "cell_type": "code",
      "metadata": {
        "id": "RyehVaxwoZkW",
        "colab_type": "code",
        "colab": {}
      },
      "source": [
        "# count split the text into words \n",
        "array_of_article_words = []\n",
        "for article in news.text.to_list():\n",
        "  words = [word for word in article.split()]\n",
        "  array_of_article_words.append(words)"
      ],
      "execution_count": null,
      "outputs": []
    },
    {
      "cell_type": "code",
      "metadata": {
        "id": "RNSy35hzqGW7",
        "colab_type": "code",
        "colab": {
          "base_uri": "https://localhost:8080/",
          "height": 34
        },
        "outputId": "da8e547e-df25-44b4-915d-26398da15171"
      },
      "source": [
        "len(array_of_article_words)"
      ],
      "execution_count": null,
      "outputs": [
        {
          "output_type": "execute_result",
          "data": {
            "text/plain": [
              "11314"
            ]
          },
          "metadata": {
            "tags": []
          },
          "execution_count": 41
        }
      ]
    },
    {
      "cell_type": "code",
      "metadata": {
        "id": "QpSFsDTDqJnU",
        "colab_type": "code",
        "colab": {}
      },
      "source": [
        "news['tokenized'] = array_of_article_words"
      ],
      "execution_count": null,
      "outputs": []
    },
    {
      "cell_type": "code",
      "metadata": {
        "id": "U0OswS99rJwr",
        "colab_type": "code",
        "colab": {}
      },
      "source": [
        "news['doc_len'] = news['tokenized'].apply(lambda x: len(x))"
      ],
      "execution_count": null,
      "outputs": []
    },
    {
      "cell_type": "code",
      "metadata": {
        "id": "tDiwVAz6sJ6i",
        "colab_type": "code",
        "colab": {}
      },
      "source": [
        "plt.figure(figsize=(9, 9))\n",
        "plt.xticks(\n",
        "    rotation=45, \n",
        "    horizontalalignment='right',\n",
        "    fontweight='light',\n",
        "    fontsize='x-large'  \n",
        ")\n",
        "sns.countplot(x='doc_len', data=news)"
      ],
      "execution_count": null,
      "outputs": []
    },
    {
      "cell_type": "code",
      "metadata": {
        "id": "0OXrzoMoqPIw",
        "colab_type": "code",
        "colab": {
          "base_uri": "https://localhost:8080/",
          "height": 34
        },
        "outputId": "5d0f800a-5981-49e2-cb76-2ddbf66744b4"
      },
      "source": [
        "# only keep articles with more than 30 tokens, otherwise too short\n",
        "news = news[news['tokenized'].map(len) >= 40]\n",
        "# make sure all tokenized items are lists\n",
        "news = news[news['tokenized'].map(type) == list]\n",
        "news.reset_index(drop=True,inplace=True)\n",
        "print(\"After cleaning and excluding short aticles, the dataframe now has:\", len(news), \"articles\")"
      ],
      "execution_count": null,
      "outputs": [
        {
          "output_type": "stream",
          "text": [
            "After cleaning and excluding short aticles, the dataframe now has: 8551 articles\n"
          ],
          "name": "stdout"
        }
      ]
    },
    {
      "cell_type": "markdown",
      "metadata": {
        "collapsed": false,
        "id": "psiDQD6bZ-6l",
        "colab_type": "text"
      },
      "source": [
        "# Préparation du texte \n",
        "\n",
        "Nous allons faire un nettoyage du texte. C'est un nettoyage permettant de remplacer les caractères spéciaux des urls et mails. \n"
      ]
    },
    {
      "cell_type": "code",
      "metadata": {
        "pycharm": {
          "name": "#%%\n",
          "is_executing": false
        },
        "id": "idojJKPHZ-6l",
        "colab_type": "code",
        "colab": {}
      },
      "source": [
        "def standardize_text(df, text_field):\n",
        "    df[text_field] = df[text_field].str.replace(r\"http\\S+\", \"\")\n",
        "    df[text_field] = df[text_field].str.replace(r\"http\", \"\")\n",
        "    df[text_field] = df[text_field].str.replace(r\"@\\S+\", \"\")\n",
        "    df[text_field] = df[text_field].str.replace(r\"[^A-Za-z0-9(),!?@\\'\\`\\\"\\_\\n]\", \" \")\n",
        "    df[text_field] = df[text_field].str.replace(r\"@\", \"at\")\n",
        "    return df"
      ],
      "execution_count": null,
      "outputs": []
    },
    {
      "cell_type": "code",
      "metadata": {
        "pycharm": {
          "name": "#%%\n",
          "is_executing": false
        },
        "id": "yFWYoJgJZ-6n",
        "colab_type": "code",
        "colab": {}
      },
      "source": [
        "news = standardize_text(df=news, text_field='text')"
      ],
      "execution_count": null,
      "outputs": []
    },
    {
      "cell_type": "markdown",
      "metadata": {
        "id": "DjXP3fw8NTQS",
        "colab_type": "text"
      },
      "source": [
        "## CounVectorizer "
      ]
    },
    {
      "cell_type": "markdown",
      "metadata": {
        "collapsed": false,
        "pycharm": {
          "name": "#%% md\n"
        },
        "id": "tNpgtuRmZ-6p",
        "colab_type": "text"
      },
      "source": [
        "\n",
        "Le CountVectorizer est une fonction qui va réaliser plusieurs actions : \n",
        "\n",
        "- Créer un vocabulaire à partir de notre texte\n",
        "- Transformer notre collection de texte en token \n",
        "- Créer une représentation matriciel de chacun des mots du vocabulaire.\n",
        "- Compter la fréquence d'apparition de chaque mot dans le texte.\n",
        "\n",
        "Il retourne pour chaque mot une matrices :\n",
        "\n",
        "- une matrice creuse représentant le mot\n",
        "\n",
        "\n",
        "Avant d'appliquer le CountVectorizer sur le texte, nous allons faire une fonction qui va être appelée par le countVectorizer afin de réaliser le lemming ainsi que le passage en token comme nous le souhaitons. Les \"Stop words\" du vocabulaire anglais seront également retirés des textes ils représentent un bruit que l'on doit supprimer pour améliorer nos résultats. \n",
        "\n",
        "\n",
        "\n",
        "\n",
        "\n",
        "\n",
        "\n",
        "\n"
      ]
    },
    {
      "cell_type": "markdown",
      "metadata": {
        "collapsed": false,
        "id": "9q8UKu2zZ-6q",
        "colab_type": "text"
      },
      "source": [
        "### Spacy \n",
        "\n",
        "spaCy est une bibliothèque open-source gratuite pour le traitement du langage naturel en Python. Il comprend NER, étiquetage POS, analyse de dépendance, vecteurs de mots et plus encore.\n",
        "\n",
        "Nous allons importer spacy afin d'utiliser son tokenizer ainsi que ces listes de vocabulaire et de ponctuations. "
      ]
    },
    {
      "cell_type": "code",
      "metadata": {
        "pycharm": {
          "name": "#%%\n",
          "is_executing": false
        },
        "id": "iJjW15a7Z-6u",
        "colab_type": "code",
        "colab": {
          "base_uri": "https://localhost:8080/",
          "height": 34
        },
        "outputId": "38e9fb4b-317c-4f13-85ff-6ee285d86d3a"
      },
      "source": [
        "import spacy\n",
        "import en_core_web_sm\n",
        "\n",
        "print(f'Spacy version {spacy.__version__}')\n",
        "nlp = en_core_web_sm.load()\n",
        "stop_words = spacy.lang.en.STOP_WORDS\n",
        "punctuations = spacy.lang.punctuation.LIST_PUNCT"
      ],
      "execution_count": null,
      "outputs": [
        {
          "output_type": "stream",
          "text": [
            "Spacy version 2.2.4\n"
          ],
          "name": "stdout"
        }
      ]
    },
    {
      "cell_type": "code",
      "metadata": {
        "pycharm": {
          "name": "#%%\n",
          "is_executing": false
        },
        "id": "5-MonM2fZ-6w",
        "colab_type": "code",
        "colab": {}
      },
      "source": [
        "noisy_words = ['pt', 'gq', 'ml', 'kn', 'si','pl','cx', 'sl', 'lj', 'mr', 'okz', 'nrhj', 'giz', 'pl', 'ax', 'qs', 'ww', 'mt', 'sy', 'sp', 'hz', 'ck', 'ck', 'uw', 'cx', 'jb', 'tt', 'pl', 'uw', 'cx', 'nhl', 'sl', 'pp']\n",
        "def prepareText(text, punctuation=True, lemming=True, stop_word=True):\n",
        "    \"\"\"\n",
        "    Prepare the text by removing punctuation, stop words and doing lemming \n",
        "    :param text: \n",
        "    :return: text \n",
        "    \"\"\"     \n",
        "    clean_text = nlp(text)\n",
        "    \n",
        "    #lowering word\n",
        "    #lemming \n",
        "    # if words is pronoun don't apply lemming because spacy convert the words \n",
        "    # in \"_PRON-\" \n",
        "    if lemming == True:\n",
        "        clean_text = [word.lemma_.lower().strip() if word.lemma_ != \"-PRON-\" else word.lower_ for word in clean_text]\n",
        "    \n",
        "    #remove stop words\n",
        "    if stop_word == True:\n",
        "        clean_text = [ word for word in clean_text if (word not in stop_words) ]\n",
        "    # remove punctuation \n",
        "    if punctuation == True:\n",
        "        clean_text = [word for word in clean_text if word.isalpha() ]\n",
        "    \n",
        "    #remove single char [b-Z] we only keep 'a'\n",
        "    clean_text = [ word for word in clean_text if (len(word) != 1 and word != 'a') ]\n",
        "\n",
        "    clean_text = [ word for word in clean_text if (word not in noisy_words)]\n",
        "\n",
        "\n",
        "    return clean_text\n",
        "   \n",
        "   "
      ],
      "execution_count": null,
      "outputs": []
    },
    {
      "cell_type": "code",
      "metadata": {
        "id": "IyCvuYHQQa1T",
        "colab_type": "code",
        "colab": {
          "base_uri": "https://localhost:8080/",
          "height": 34
        },
        "outputId": "28e3c59d-c828-4772-f850-b3cde964ffe4"
      },
      "source": [
        "prepareText(text=\"Hello world this, z e e z d is some text sl !!!! full with ^ punctuations $$$$\")"
      ],
      "execution_count": null,
      "outputs": [
        {
          "output_type": "execute_result",
          "data": {
            "text/plain": [
              "['hello', 'world', 'text', 'punctuation']"
            ]
          },
          "metadata": {
            "tags": []
          },
          "execution_count": 32
        }
      ]
    },
    {
      "cell_type": "markdown",
      "metadata": {
        "collapsed": false,
        "pycharm": {
          "name": "#%% md\n"
        },
        "id": "44N1e3C2Z-6z",
        "colab_type": "text"
      },
      "source": [
        "Testons notre fonction de nettoyage de donné  "
      ]
    },
    {
      "cell_type": "markdown",
      "metadata": {
        "id": "PwYFbd5tmYrT",
        "colab_type": "text"
      },
      "source": [
        "\n",
        "On peut voir que la ponctuation a bien été supprimé ainsi que les \"stops words\" ici (\"is\" , \"some\" )."
      ]
    },
    {
      "cell_type": "code",
      "metadata": {
        "id": "hqyt_0RAsLaf",
        "colab_type": "code",
        "colab": {}
      },
      "source": [
        "from sklearn.feature_extraction.text import CountVectorizer\n",
        "from sklearn.decomposition import LatentDirichletAllocation\n",
        "from sklearn.pipeline import Pipeline\n"
      ],
      "execution_count": null,
      "outputs": []
    },
    {
      "cell_type": "code",
      "metadata": {
        "pycharm": {
          "name": "#%%\n",
          "is_executing": false
        },
        "id": "KDSpxIsKZ-6z",
        "colab_type": "code",
        "colab": {}
      },
      "source": [
        "vectorizer = CountVectorizer(tokenizer=prepareText)\n",
        "lda = LatentDirichletAllocation(n_components=20)\n",
        "pipeline = Pipeline([('vectorizer',vectorizer), ('lda',lda)])"
      ],
      "execution_count": null,
      "outputs": []
    },
    {
      "cell_type": "code",
      "metadata": {
        "pycharm": {
          "name": "#%%\n",
          "is_executing": false
        },
        "id": "4MfG42jBZ-62",
        "colab_type": "code",
        "colab": {}
      },
      "source": [
        "corpus = news.text.to_list()"
      ],
      "execution_count": null,
      "outputs": []
    },
    {
      "cell_type": "code",
      "metadata": {
        "pycharm": {
          "name": "#%%\n",
          "is_executing": false
        },
        "id": "PPM8DVBtZ-66",
        "colab_type": "code",
        "colab": {}
      },
      "source": [
        "topic_analysis = pipeline.fit_transform(corpus)"
      ],
      "execution_count": null,
      "outputs": []
    },
    {
      "cell_type": "markdown",
      "metadata": {
        "id": "THLjKJ8qPGgV",
        "colab_type": "text"
      },
      "source": [
        "La fonction suivante parcours notre dataframe. Applique le vectorizer sur chacun des textes, puis le lda. Le LDA retourne un tableau contenant des valeurs décimales. Ces valeurs décimales représentent l'importance qu'a joué une thème dans la génération du document. Chaque index réprésente donc un thème. \n",
        "La fonction argmax appliqué à la sortie du tableau de valeur retourne l'index du thème ayant le score le plus élevé. Et donc le thème ayant joué le rôle le plus important dans la génération du document. Cette index est alors utilisé pour récupérer les N premiers mots du thème ayant le score le plus élevé."
      ]
    },
    {
      "cell_type": "code",
      "metadata": {
        "pycharm": {
          "name": "#%%\n",
          "is_executing": false
        },
        "id": "zUORKN4wZ-68",
        "colab_type": "code",
        "colab": {}
      },
      "source": [
        "import numpy as np\n",
        " \n",
        "def extractTopicAndLoadInDataframe(key, lda_key, count_vect, dataFrame, lda, nb_words=5):\n",
        "    \"\"\"\n",
        "    :param cv: countVectorizer that was applied on the documents \n",
        "    :param df: the dataframe that contains the data \n",
        "    :param lda: Latent derichlet allocation trained \n",
        "    :param nb_words: number of words by topic that you want to used\n",
        "    :return: \n",
        "    \"\"\"\n",
        "    document_labels = []\n",
        "    for i, text in enumerate(dataFrame[key]):\n",
        "        text_vectorized = count_vect.transform([text]) # get vectorized text \n",
        "        index = np.argmax(lda.transform(text_vectorized)) # sort by \n",
        "        topic = lda.components_[index]\n",
        "        topic_word_index = topic.argsort()[-nb_words:] # get the 5 best word index of the topic\n",
        "        features = count_vect.get_feature_names()\n",
        "        labels = []\n",
        "        for j in topic_word_index:\n",
        "            labels.append(features[j]) \n",
        "        document_labels.append(labels)\n",
        "    dataFrame[lda_key] = document_labels"
      ],
      "execution_count": null,
      "outputs": []
    },
    {
      "cell_type": "code",
      "metadata": {
        "pycharm": {
          "name": "#%%\n",
          "is_executing": false
        },
        "id": "inJhQ1NpZ-6-",
        "colab_type": "code",
        "colab": {}
      },
      "source": [
        "extractTopicAndLoadInDataframe(key=\"text\", lda_key='lda_words',count_vect=vectorizer, dataFrame=news, lda=lda, nb_words=10)"
      ],
      "execution_count": null,
      "outputs": []
    },
    {
      "cell_type": "code",
      "metadata": {
        "pycharm": {
          "name": "#%%\n",
          "is_executing": false
        },
        "id": "Lgt65SxWZ-6_",
        "colab_type": "code",
        "colab": {}
      },
      "source": [
        "categories = news.title.unique()\n",
        "for category in categories:\n",
        "  print(f'___________Words for category {category} _____________')\n",
        "  print(((news[news['title'] == category]).head(5))['lda_words'])\n",
        "  "
      ],
      "execution_count": null,
      "outputs": []
    },
    {
      "cell_type": "markdown",
      "metadata": {
        "id": "8J18D7tU1BxM",
        "colab_type": "text"
      },
      "source": [
        "Les résultats sont intéressants. On observe que les mots associés à chaque texte ont une sémantique correspondant à la catégories. Afin de voir l'éfficacité de notre modèle il nous faudrait vérifier le taux d'érreur commis par notre modèle pour chaque théme. Étant données que l'on dispose des vrais label de chaque texte cela est possible. \n",
        "\n",
        " \n"
      ]
    },
    {
      "cell_type": "markdown",
      "metadata": {
        "id": "UxiZkV5wbn4j",
        "colab_type": "text"
      },
      "source": [
        "Remarque:  \n",
        "\n",
        "- Après avoir effectué un nettoyage du texte en supprimant les lettres seules ainsi que les mots n'ayant aucun sens selon moi. J'ai remarqué que la catégorie auto n'était plus détecté par le LDA.  \n",
        "\n",
        "- On observe également qu'il reste énormément de mots à deux  lettres ou trois n'ayant aucun sens qui ajoute du bruit et empêche à notre modèle de détecter toutes les thèmes. "
      ]
    },
    {
      "cell_type": "markdown",
      "metadata": {
        "id": "ih3BTQaVSptR",
        "colab_type": "text"
      },
      "source": [
        "## Calcul de la précision\n",
        "\n",
        "\n",
        "Pour faire ce cacul il nous faut associé à chaque groupe de mots le thème correspondant. Mais avant cela nous devons vérifier que notre modèle a été capable de retrouvé les 20 thèmes de départ."
      ]
    },
    {
      "cell_type": "markdown",
      "metadata": {
        "id": "jFw3ID7jGf18",
        "colab_type": "text"
      },
      "source": [
        "Premièrement nous allons associé à chaque groupe de mot le topic correspondant. Nous allons faire cette operation de manière séquentielle.\n",
        "\n",
        "- Afficher l'ensemble de mots (thème) 20 mots par thème\n",
        "- Associer l'un après l'autre les thème aux groupe de mots dans un tableau."
      ]
    },
    {
      "cell_type": "code",
      "metadata": {
        "id": "rTEwhiT0HKV6",
        "colab_type": "code",
        "colab": {}
      },
      "source": [
        "NB_TOPICS = 20\n",
        "NB_WORDS = 10\n",
        "topics = {}\n",
        "for index in range(NB_TOPICS):\n",
        "  topic = pipeline['lda'] .components_[index] \n",
        "  topic_word_index = topic.argsort()[-NB_WORDS:] # N words that have the greater saliance\n",
        "  # now that we have the words index we can use the vectorized_corpus to get the word\n",
        "  features = pipeline['vectorizer'].get_feature_names()\n",
        "  labels = []\n",
        "  for word_index in topic_word_index:\n",
        "      labels.append(features[word_index]) \n",
        "  topics[str(index)] = np.flip(labels)"
      ],
      "execution_count": null,
      "outputs": []
    },
    {
      "cell_type": "code",
      "metadata": {
        "id": "zx0CbvN9OFMI",
        "colab_type": "code",
        "colab": {}
      },
      "source": [
        "pd.DataFrame(topics)"
      ],
      "execution_count": null,
      "outputs": []
    },
    {
      "cell_type": "markdown",
      "metadata": {
        "id": "HWLdLWAsOfzs",
        "colab_type": "text"
      },
      "source": [
        "Alors les index :\n",
        "- [0].    => \n",
        "- [1]     => soc.religion.christian / talk.religion.misc \n",
        "- [2 ]    => category rec.sport.baseball\n",
        "- [18]    => category rec.sport.hockey\n",
        "- [7]     => comp.windows.x \n",
        "- [8]     => comp.os.ms-windows.misc\n",
        "- [9]     => category talk.politics.guns\n",
        "- [11].   => category talk.politics.misc\n",
        "- [12].   => general \n",
        "- [13].   => rec.motorcycles\n",
        "- [14].   => error \n",
        "- [15].   => \n",
        "- [17].   => \n",
        "- [3].    => talk.politics.mideast\n",
        "- [4].    => comp.sys.ibm.pc.hardware\n",
        "- [19].   => sci.med\n",
        "- [16].   => sci.religion\n",
        "\n",
        "- rec.motorcycles sci.med\n",
        "  comp.graphics\n",
        "  comp.sys.mac.hardware\n",
        "  rec.autos"
      ]
    },
    {
      "cell_type": "code",
      "metadata": {
        "id": "5bjzz3NvSEmb",
        "colab_type": "code",
        "colab": {}
      },
      "source": [
        "NB_TOPICS = 20\n",
        "NB_WORDS = 10\n",
        "topics = {}\n",
        "for index in range(NB_TOPICS):\n",
        "  topic = lda.components_[index] \n",
        "  topic_word_index = topic.argsort()[-NB_WORDS:] # N words that have the greater saliance\n",
        "  # now that we have the words index we can use the vectorized_corpus to get the word\n",
        "  features = vectorizer.get_feature_names()\n",
        "  labels = []\n",
        "  for word_index in topic_word_index:\n",
        "      labels.append(features[word_index]) \n",
        "  topics[str(index)] = labels"
      ],
      "execution_count": null,
      "outputs": []
    },
    {
      "cell_type": "code",
      "metadata": {
        "id": "jIucrUvuGUQq",
        "colab_type": "code",
        "colab": {}
      },
      "source": [
        "def extractAndMatchTopic(dataframe, topics, field, labels_key):\n",
        "    \"\"\"\n",
        "    :param df: the dataframe that contains the data \n",
        "    :param topics: dictionary that contains the words and as a key the topic name   \n",
        "    :return: \n",
        "    \"\"\"\n",
        "    topics_matched = []\n",
        "    for index in range(dataframe[field].size()):\n",
        "      match = False \n",
        "      for theme in topics:\n",
        "        labels = topics[theme]\n",
        "        if labels == dataframe[labels_key][index]:\n",
        "          topics_matched.append(theme)\n",
        "          match = True\n",
        "        if match == False:\n",
        "          topics_matched.append(\"unknown\")\n",
        "        else:\n",
        "          match = False \n",
        "    dataframe['detected_topic'] = topics_matched\n",
        "\n",
        "        \n",
        "        "
      ],
      "execution_count": null,
      "outputs": []
    },
    {
      "cell_type": "markdown",
      "metadata": {
        "id": "mHTfWhnuSghm",
        "colab_type": "text"
      },
      "source": [
        "## Test du LDA\n",
        "Essayont maintenant de voir à quelle catégorie est associé un texte qui n'a pas encore été vu par notre modèle."
      ]
    },
    {
      "cell_type": "code",
      "metadata": {
        "id": "--xlV88oqqSQ",
        "colab_type": "code",
        "colab": {}
      },
      "source": [
        "def twenty_newsgroup_test():\n",
        "    newsgroups_train = fetch_20newsgroups(subset='test', remove=('headers', 'footers', 'quotes'))\n",
        "\n",
        "    df = pd.DataFrame([newsgroups_train.data, newsgroups_train.target.tolist()]).T\n",
        "    df.columns = ['text', 'target']\n",
        "\n",
        "    targets = pd.DataFrame( newsgroups_train.target_names)\n",
        "    targets.columns=['title']\n",
        "\n",
        "    out = pd.merge(df, targets, left_on='target', right_index=True)\n",
        "    out['date'] = pd.to_datetime('now')\n",
        "    return out "
      ],
      "execution_count": null,
      "outputs": []
    },
    {
      "cell_type": "code",
      "metadata": {
        "id": "WPANfIfe10MQ",
        "colab_type": "code",
        "colab": {}
      },
      "source": [
        "test = twenty_newsgroup_test()"
      ],
      "execution_count": null,
      "outputs": []
    },
    {
      "cell_type": "code",
      "metadata": {
        "id": "g_Hsngt2VF0m",
        "colab_type": "code",
        "colab": {}
      },
      "source": [
        "test.info()"
      ],
      "execution_count": null,
      "outputs": []
    },
    {
      "cell_type": "code",
      "metadata": {
        "id": "yUOncaaCVJPF",
        "colab_type": "code",
        "colab": {}
      },
      "source": [
        "test.target.value_counts()"
      ],
      "execution_count": null,
      "outputs": []
    },
    {
      "cell_type": "code",
      "metadata": {
        "id": "0N1znf5V141P",
        "colab_type": "code",
        "colab": {}
      },
      "source": [
        "test.head()"
      ],
      "execution_count": null,
      "outputs": []
    },
    {
      "cell_type": "code",
      "metadata": {
        "id": "u3yIxC27195S",
        "colab_type": "code",
        "colab": {}
      },
      "source": [
        "test_corpus = test.text.to_list()"
      ],
      "execution_count": null,
      "outputs": []
    },
    {
      "cell_type": "code",
      "metadata": {
        "id": "buHpYGFP2QpD",
        "colab_type": "code",
        "colab": {}
      },
      "source": [
        "test_corpus = vectorizer.transform(test_corpus)"
      ],
      "execution_count": null,
      "outputs": []
    },
    {
      "cell_type": "code",
      "metadata": {
        "id": "ydLAmnWd4zV6",
        "colab_type": "code",
        "colab": {}
      },
      "source": [
        "test_result = lda.transform(test_corpus)"
      ],
      "execution_count": null,
      "outputs": []
    },
    {
      "cell_type": "code",
      "metadata": {
        "id": "kTY7D2jd6A3-",
        "colab_type": "code",
        "colab": {}
      },
      "source": [
        "extractTopicAndLoadInDataframe(key=\"text\", lda_key='lda_words',count_vect=vectorizer, dataFrame=test, lda=lda, nb_words=10)"
      ],
      "execution_count": null,
      "outputs": []
    },
    {
      "cell_type": "code",
      "metadata": {
        "id": "hIuM1Zeb_1My",
        "colab_type": "code",
        "colab": {}
      },
      "source": [
        "test.head()"
      ],
      "execution_count": null,
      "outputs": []
    },
    {
      "cell_type": "markdown",
      "metadata": {
        "id": "nZlvi4STabIR",
        "colab_type": "text"
      },
      "source": [
        "le modèle semble bien fonctionner, pour les catégorie auto le mot \"car\" est souvant dans la liste des mots associé au texte."
      ]
    },
    {
      "cell_type": "markdown",
      "metadata": {
        "id": "l_4sFOdC7Oj2",
        "colab_type": "text"
      },
      "source": [
        "### Visualisation "
      ]
    },
    {
      "cell_type": "markdown",
      "metadata": {
        "id": "bmaNyP1u602a",
        "colab_type": "text"
      },
      "source": [
        "### pyLDAvis\n",
        "pyLDAvis est conçu pour aider les utilisateurs à interpréter les thèmes dans un modèle de sujet adapté à un corpus de données textuelles. Le package extrait des informations d'un LDA pour fournir une visualisation Web interactive.\n"
      ]
    },
    {
      "cell_type": "code",
      "metadata": {
        "id": "-hz0vsb3K-mM",
        "colab_type": "code",
        "colab": {}
      },
      "source": [
        "import pyLDAvis.sklearn"
      ],
      "execution_count": null,
      "outputs": []
    },
    {
      "cell_type": "code",
      "metadata": {
        "id": "0G-vD9dw76Nc",
        "colab_type": "code",
        "colab": {}
      },
      "source": [
        "\n",
        "pyLDAvis.enable_notebook()\n",
        "panel = pyLDAvis.sklearn.prepare(lda, test_corpus, vectorizer, mds='tsne')\n",
        "panel"
      ],
      "execution_count": null,
      "outputs": []
    },
    {
      "cell_type": "markdown",
      "metadata": {
        "id": "XkQBFIaqSXxL",
        "colab_type": "text"
      },
      "source": [
        "\n",
        "Afin de classer les mots par importance le calcul de la sailliance est fait pour chaque mot : \n",
        "\n",
        "La saillance (de l'anglais salience) d'une chose quelconque est le fait qu'elle retienne l'attention ; plus précisément, la mesure dans laquelle elle retient l'attention par rapport aux autres choses présentes dans son environnement (y compris des choses similaires).\n",
        "\n",
        "---\n",
        "\n",
        "S(W) = frequency(w) * [sum p(t | w) * log (p(t | w) / p(t)]\n",
        "\n",
        "\n",
        "\n",
        "\n",
        "- p(t | w) : la probabilité que le mot w appartienne au théme t \n",
        "- p(w | t) : la probabilité que le théme t génère le mot w \n",
        "- p(d | w)  : probabilité que le mot w appartienne au document w \n",
        "\n",
        "\n",
        "alpha = permet de classer les mots par pertinence un alpha de 1 signifie que le prévilégie la pertinence à la frequence d'apparition du terme dans le théme.\n",
        "\n"
      ]
    },
    {
      "cell_type": "markdown",
      "metadata": {
        "id": "VULC311KKSHB",
        "colab_type": "text"
      },
      "source": [
        "1. Plus le cercle de la topic est large plus celle ci est fréquent e dans le corpus \n",
        "2. Les cercle qui sont proches cela signifie que les sujets sont considérés comme étant proches.\n",
        "3. Pour chaque sujet on peut voir la liste des 20 mots qui sont les plus représentatif est qui selon le LDA font que ce qu'un texte appartient a cette catégorie. \n",
        "4 . A quel point le mot est \n"
      ]
    },
    {
      "cell_type": "markdown",
      "metadata": {
        "id": "UrqNQeeoXYLb",
        "colab_type": "text"
      },
      "source": [
        "## LSA , TruncatedSVD\n",
        "\n",
        "\n",
        "Comparons les résultats de ces modèles avec ceux du LDA"
      ]
    },
    {
      "cell_type": "code",
      "metadata": {
        "id": "e0CW1E29Hp6Z",
        "colab_type": "code",
        "colab": {}
      },
      "source": [
        "from bokeh.io import push_notebook, show, output_notebook\n",
        "from bokeh.plotting import figure\n",
        "from bokeh.models import ColumnDataSource, LabelSet\n",
        "output_notebook()"
      ],
      "execution_count": null,
      "outputs": []
    },
    {
      "cell_type": "code",
      "metadata": {
        "id": "9HSPuraPXvun",
        "colab_type": "code",
        "colab": {}
      },
      "source": [
        "from sklearn.decomposition import NMF, LatentDirichletAllocation, TruncatedSVD\n",
        "from sklearn.feature_extraction.text import CountVectorizer\n",
        " \n",
        "NUM_TOPICS = 20\n",
        "test_corpus = test.text.to_list()\n",
        "vectorizer = CountVectorizer(tokenizer=prepareText)\n",
        "data_vectorized = vectorizer.fit_transform(test_corpus)"
      ],
      "execution_count": null,
      "outputs": []
    },
    {
      "cell_type": "code",
      "metadata": {
        "id": "tTP28HkadDVy",
        "colab_type": "code",
        "colab": {}
      },
      "source": [
        "\n",
        "# Build a Latent Dirichlet Allocation Modl\n",
        "lda_model = LatentDirichletAllocation(NUM_TOPICS, max_iter=10, learning_method='online')\n",
        "lda_Z = lda_model.fit_transform(data_vectorized)\n",
        "print(lda_Z.shape)  # (NO_DOCUMENTS, NO_TOPICS)\n",
        " "
      ],
      "execution_count": null,
      "outputs": []
    },
    {
      "cell_type": "code",
      "metadata": {
        "id": "TOCunJjxsegx",
        "colab_type": "code",
        "colab": {}
      },
      "source": [
        "\n",
        "# Build a Non-Negative Matrix Factorization Model\n",
        "nmf_model = NMF(n_components=NUM_TOPICS)\n",
        "nmf_Z = nmf_model.fit_transform(data_vectorized)\n",
        "print(nmf_Z.shape)  # (NO_DOCUMENTS, NO_TOPICS)\n",
        " "
      ],
      "execution_count": null,
      "outputs": []
    },
    {
      "cell_type": "code",
      "metadata": {
        "id": "jQKuyOOmsgaJ",
        "colab_type": "code",
        "colab": {}
      },
      "source": [
        "\n",
        "# Build a Latent Semantic Indexing Model\n",
        "lsi_model = TruncatedSVD(n_components=NUM_TOPICS)\n",
        "lsi_Z = lsi_model.fit_transform(data_vectorized)\n",
        "print(lsi_Z.shape)  # (NO_DOCUMENTS, NO_TOPICS)"
      ],
      "execution_count": null,
      "outputs": []
    },
    {
      "cell_type": "markdown",
      "metadata": {
        "id": "gqIyVcmsIwPz",
        "colab_type": "text"
      },
      "source": [
        ""
      ]
    },
    {
      "cell_type": "code",
      "metadata": {
        "id": "cf_LPWMZKZ7Y",
        "colab_type": "code",
        "colab": {}
      },
      "source": [
        "def print_topics(model, vectorizer, top_n=20):\n",
        "    for idx, topic in enumerate(model.components_):\n",
        "        print(\"Topic %d:\" % (idx))\n",
        "        print([(vectorizer.get_feature_names()[i], topic[i])\n",
        "                        for i in topic.argsort()[:-top_n - 1:-1]])\n",
        " \n",
        "print(\"LDA Model:\")\n",
        "print_topics(lda_model, vectorizer)\n",
        "print(\"=\" * 20)\n",
        " \n",
        "print(\"NMF Model:\")\n",
        "print_topics(nmf_model, vectorizer)\n",
        "print(\"=\" * 20)\n",
        " \n",
        "print(\"LSI Model:\")\n",
        "print_topics(lsi_model, vectorizer)\n",
        "print(\"=\" * 20)\n",
        " "
      ],
      "execution_count": null,
      "outputs": []
    },
    {
      "cell_type": "markdown",
      "metadata": {
        "id": "-NiAJHRLKzfG",
        "colab_type": "text"
      },
      "source": [
        "**Voyons à quoi ressemble le premier document du corpus dans différents espaces de sujet gras**"
      ]
    },
    {
      "cell_type": "code",
      "metadata": {
        "id": "eYyAM9zoK5Kd",
        "colab_type": "code",
        "colab": {}
      },
      "source": [
        "topic = 'rec.sport.hockey'\n",
        "text = test[test.title == topic].iloc[10, 0]\n",
        "vectorized_text = vectorizer.transform([text])\n",
        "results = []\n",
        "model = [\"lda\", \"NMF\", \"lsi\"]\n",
        "label = [topic, topic, topic]\n",
        "text = [text, text, text]\n",
        "lda_result = (lda_model.transform(vectorized_text))[0]\n",
        "nmf_result = (nmf_model.transform(vectorized_text))[0]\n",
        "lsi_result = (lsi_model.transform(vectorized_text))[0]\n",
        "results.append(lda_result)\n",
        "results.append(nmf_result)\n",
        "results.append(lsi_result)\n",
        "results_df = pd.DataFrame({'Text' : text, 'Model' : model, 'results' : results, 'True label' : label})\n",
        "print(f\"LDA : {lda_result} \\n\\n LSI : {lsi_result} \\n\\n nmf : {nmf_result}\")"
      ],
      "execution_count": null,
      "outputs": []
    },
    {
      "cell_type": "code",
      "metadata": {
        "id": "9RFSZKy6Tk-3",
        "colab_type": "code",
        "colab": {}
      },
      "source": [
        "results_df.Text[0]"
      ],
      "execution_count": null,
      "outputs": []
    },
    {
      "cell_type": "markdown",
      "metadata": {
        "id": "Lkk3tmYCK-xa",
        "colab_type": "text"
      },
      "source": [
        "**Interprêter ces résultats ? ** \n",
        "\n",
        "\n",
        "Chacun de ces algorithmes essaie de comprendre quel est la contribution de chacun des sujet dans la génération du document. Ici le document à l'index 0. \n",
        "\n",
        "D'après le LDA 60% du document index 1 est généré par le thème 14 (index 13) et 17% par le thème 16 (index 15). Lorsque l'on regarde les 10 premier mots du thème ça correpond à des mots courant, on ne peut pas y associer un label. Le thème 16 en revanche, on peut lui affecter le label sport. ce serait donc un texte parlant principalement de sport. Ce qui correspond bien au label. \n",
        "\n",
        "On peut donc dire que le thème le plus représenté d'après le LDA n'est pas forcément le théme à affecter a un texte. \n",
        "\n",
        "Étudions les résultats du LSI. Selon le LSI le thème 3 joue un rôle important dans la génération de notre document. Si on regarde le thème 3 qui correspond à l'index 2, on peut associer ce thème à la religion. Ce thème ne correspond pas du tout à la catégorie de notre texte. Le thème 6 peut être associé au spécial ce qui ne correspond également pas.\n",
        "\n",
        "\n",
        "\n",
        "Les résultats obtenus avec le NMF sont également incohérents. De plus, il est moins évident d'associer un label aux différents groupes de mots associé à chacun des thèmes.\n",
        "\n",
        "\n",
        "\n",
        "\n",
        "Le LDA semble avoir de bien meilleurs résultats que les deux autres techniques. On ne peut pas l'affirmer, car nous avons seulement regardé les résultats pour un texte. Il faudrait le vérifier pour un grand échantillon de textes de chacune des catégories pris au hasard. Mais là n'est pas notre objectif.\n"
      ]
    },
    {
      "cell_type": "markdown",
      "metadata": {
        "id": "WsZX4lVHnxXn",
        "colab_type": "text"
      },
      "source": [
        "\n",
        "LDA est la méthode la plus populaire pour la modélisation de sujets dans des applications réelles. En effet, il fournit des résultats précis, peut être entrainé en ligne. C'est à dire pas besoin d'entrainer de nouveau le modèle à chaque fois que nous obtenons de nouvelles données. Et peut être exécuté sur plusieurs cœurs. "
      ]
    },
    {
      "cell_type": "markdown",
      "metadata": {
        "id": "E0WfBRa7Pm9m",
        "colab_type": "text"
      },
      "source": [
        "### Visualisation de nos articles et mots à l'aide du SVD"
      ]
    },
    {
      "cell_type": "markdown",
      "metadata": {
        "id": "fxzGCbx9qGcu",
        "colab_type": "text"
      },
      "source": [
        "Le transformateur SVD effectue une réduction de dimensionnalité linéaire au moyen d'une décomposition de valeur singulière tronquée (SVD). Contrairement à l'ACP, cet estimateur ne centre pas les données avant de calculer la décomposition en valeurs singulières. Cela signifie qu'il peut fonctionner efficacement avec les matrices creuses."
      ]
    },
    {
      "cell_type": "code",
      "metadata": {
        "id": "jUgMVmpRYiJm",
        "colab_type": "code",
        "colab": {}
      },
      "source": [
        "svd = TruncatedSVD(n_components=NUM_TOPICS)\n",
        "documents_2d = svd.fit_transform(data_vectorized)\n",
        "df = pd.DataFrame(columns=['x', 'y', 'document'])\n",
        "df['x'], df['y'], df['document'] = documents_2d[:,0], documents_2d[:,1], range(len(test_corpus))\n",
        " "
      ],
      "execution_count": null,
      "outputs": []
    },
    {
      "cell_type": "code",
      "metadata": {
        "id": "2hgefpkcEtgy",
        "colab_type": "code",
        "colab": {}
      },
      "source": [
        "\n",
        "source = ColumnDataSource(ColumnDataSource.from_df(df))\n",
        "labels = LabelSet(x=\"x\", y=\"y\", text=\"document\", y_offset=8,\n",
        "                  text_font_size=\"8pt\", text_color=\"#555555\",\n",
        "                  source=source, text_align='center')\n",
        " "
      ],
      "execution_count": null,
      "outputs": []
    },
    {
      "cell_type": "code",
      "metadata": {
        "id": "4tHCStvfEw8-",
        "colab_type": "code",
        "colab": {}
      },
      "source": [
        "plot = figure(plot_width=700, plot_height=700)\n",
        "plot.circle(\"x\", \"y\", size=12, source=source, line_color=\"black\", fill_alpha=0.8)\n",
        "plot.add_layout(labels)\n",
        "show(plot, notebook_handle=True)\n"
      ],
      "execution_count": null,
      "outputs": []
    },
    {
      "cell_type": "code",
      "metadata": {
        "id": "DkmCxLrNJ8qJ",
        "colab_type": "code",
        "colab": {}
      },
      "source": [
        "svd = TruncatedSVD(n_components=2)\n",
        "words_2d = svd.fit_transform(data_vectorized.T)\n",
        " \n",
        "df = pd.DataFrame(columns=['x', 'y', 'word'])\n",
        "df['x'], df['y'], df['word'] = words_2d[:,0], words_2d[:,1], vectorizer.get_feature_names()\n",
        " \n",
        "source = ColumnDataSource(ColumnDataSource.from_df(df))\n",
        "labels = LabelSet(x=\"x\", y=\"y\", text=\"word\", y_offset=8,\n",
        "                  text_font_size=\"8pt\", text_color=\"#555555\",\n",
        "                  source=source, text_align='center')\n",
        " \n",
        "plot = figure(plot_width=600, plot_height=600)\n",
        "plot.circle(\"x\", \"y\", size=12, source=source, line_color=\"black\", fill_alpha=0.8)\n",
        "plot.add_layout(labels)\n",
        "show(plot, notebook_handle=True)"
      ],
      "execution_count": null,
      "outputs": []
    },
    {
      "cell_type": "markdown",
      "metadata": {
        "id": "keEIQkMErkJ-",
        "colab_type": "text"
      },
      "source": [
        "A l'aide de l'algorithme du SVD nous avons reduit les dimensions de nos matrices creuses afin de représenter en deux dimensions les mots et les textes vectorizé. \n",
        "\n",
        "Le résultats est intéressant. La proximité entre des mots sur le graphique témoigne de leur proximité sémantiques.\n",
        "\n",
        "On observe tout de même beaucoup de mot proche qui ne sont pas similaire sémantiquement.\n",
        "\n",
        "Cela est dû à deux éléments :\n",
        "\n",
        "- la quantité de texte n'est pas suffisante\n",
        "- le countVectorizer ne capture pas le sens mais l'importance d'un mot dans un texte. Il retourne deux matrices. Une matrice représentant le mot et une matrice représantant la fréquence d'apparition de celui ci dans le texte (son importance).\n"
      ]
    },
    {
      "cell_type": "markdown",
      "metadata": {
        "id": "h3RxrE0NrbQe",
        "colab_type": "text"
      },
      "source": [
        "## Étude de l'impacte de la distibution des données sur le LDA\n",
        "\n",
        "A partir du dataset 20NewsGroup nous allons créer un échantillons de données non équilibré de texte. La manière correcte de le faire serait :\n",
        "\n",
        "1.  Faire une fonction qui nous génére aléatoirement un pourcentage pour chaque théme \n",
        "2. Une fonction qui nous crée notre échantillons avec ce pourcentage.\n",
        "3. Une fonction qui nous construit notre nouveau corpus de texte "
      ]
    },
    {
      "cell_type": "markdown",
      "metadata": {
        "id": "rbtL7hWktpzr",
        "colab_type": "text"
      },
      "source": [
        "Nous allons faire une fonction qui va nous retourner un pourcentage pour chaque thème dans un tableau. "
      ]
    },
    {
      "cell_type": "code",
      "metadata": {
        "id": "A8BYAfnht-ng",
        "colab_type": "code",
        "colab": {}
      },
      "source": [
        "import random\n",
        "\n",
        "def topicsDistribution(size):\n",
        "  distribution = []\n",
        "  for index in range(size):\n",
        "    pourcentage = random.randrange(0, 100)\n",
        "    distribution.append(pourcentage/100)\n",
        "  return distribution"
      ],
      "execution_count": null,
      "outputs": []
    },
    {
      "cell_type": "code",
      "metadata": {
        "id": "UkCplJRA8eSF",
        "colab_type": "code",
        "colab": {}
      },
      "source": [
        "def corpus(percentages, dataframe, field):\n",
        "  counts = dataframe[field].value_counts()\n",
        "  frequency_df = pd.DataFrame({'Category' : counts.index, 'Frequency' : counts.values})\n",
        "  textCorpus = []\n",
        "  for index in range(len(percentages)):\n",
        "    #topic_size = frequency_df['Frequency'][index] * percentage\n",
        "    percentage = percentages[index]\n",
        "    topic_name = frequency_df['Category'][index] \n",
        "    texts = dataframe[dataframe.title == topic_name].sample(frac=percentage)\n",
        "    textCorpus.append(texts)\n",
        "  return pd.concat(textCorpus)\n",
        "\n",
        "     \n",
        "\n"
      ],
      "execution_count": null,
      "outputs": []
    },
    {
      "cell_type": "code",
      "metadata": {
        "id": "_7u2nGXF8G_m",
        "colab_type": "code",
        "colab": {}
      },
      "source": [
        "def generateRandomDistribution(dataframe, field):\n",
        "  size = len(dataframe[field].unique()) \n",
        "  percentages = topicsDistribution(size=size)\n",
        "  corpus_df = corpus(percentages=percentages, dataframe=dataframe, field=field)\n",
        "  return corpus_df "
      ],
      "execution_count": null,
      "outputs": []
    },
    {
      "cell_type": "code",
      "metadata": {
        "id": "lj_6KhGE_6_6",
        "colab_type": "code",
        "colab": {}
      },
      "source": [
        "dist = generateRandomDistribution(dataframe=news, field='title')"
      ],
      "execution_count": null,
      "outputs": []
    },
    {
      "cell_type": "markdown",
      "metadata": {
        "id": "SkoQwh3ariXb",
        "colab_type": "text"
      },
      "source": [
        "Nous allons travailler sur 10 distributions aléatoire différentes."
      ]
    },
    {
      "cell_type": "code",
      "metadata": {
        "id": "5SeB-VsfrhbV",
        "colab_type": "code",
        "colab": {}
      },
      "source": [
        "datasets = [ generateRandomDistribution(dataframe=news, field='title') for i in range(10)]"
      ],
      "execution_count": null,
      "outputs": []
    },
    {
      "cell_type": "code",
      "metadata": {
        "id": "0-MS6fyztSbG",
        "colab_type": "code",
        "colab": {}
      },
      "source": [
        "def plotCat(distribution):\n",
        "  plt.figure(figsize=(8,8))\n",
        "  sns.barplot(y='Frequency', x='Category', data=distribution, hue='Category')\n",
        "  plt.xticks(\n",
        "    rotation=45, \n",
        "    horizontalalignment='right',\n",
        "    fontweight='light',\n",
        "    fontsize='x-large'  \n",
        "  )\n"
      ],
      "execution_count": null,
      "outputs": []
    },
    {
      "cell_type": "code",
      "metadata": {
        "id": "5vS1nNuxzPEE",
        "colab_type": "code",
        "colab": {}
      },
      "source": [
        "import matplotlib.pyplot as plt "
      ],
      "execution_count": null,
      "outputs": []
    },
    {
      "cell_type": "markdown",
      "metadata": {
        "id": "Hhlwk_KP16k8",
        "colab_type": "text"
      },
      "source": [
        "Maintenant appliquons notre LDA sur ces différentes distribution."
      ]
    },
    {
      "cell_type": "code",
      "metadata": {
        "id": "Bwk6jSF92IJv",
        "colab_type": "code",
        "colab": {}
      },
      "source": [
        "analysis_results = []\n",
        "corpus = test.text.to_list()\n",
        "for index in range(len(datasets)):\n",
        "  dataset = datasets[index]\n",
        "  vectorizer = CountVectorizer(tokenizer=prepareText)\n",
        "  lda = LatentDirichletAllocation(n_components=20)\n",
        "  corpus = dataset.text.to_list()\n",
        "  vectorized_corpus = vectorizer.fit_transform(corpus)\n",
        "  result = lda.fit_transform(vectorized_corpus)\n",
        "  analysis_results.append((corpus, vectorized_corpus, result, vectorizer, lda))"
      ],
      "execution_count": null,
      "outputs": []
    },
    {
      "cell_type": "code",
      "metadata": {
        "id": "ta7JdthyNDTs",
        "colab_type": "code",
        "colab": {}
      },
      "source": [
        "  corpus, result, vectorizer, lda = analysis_results[0]\n",
        "  vectorized_corpus = vectorizer.transform(corpus)"
      ],
      "execution_count": null,
      "outputs": []
    },
    {
      "cell_type": "code",
      "metadata": {
        "id": "DrxgoE1whyab",
        "colab_type": "code",
        "colab": {}
      },
      "source": [
        "  corpus, result, vectorizer, lda = analysis_results[0]\n",
        "  vectorized_corpus = vectorizer.transform(corpus)"
      ],
      "execution_count": null,
      "outputs": []
    },
    {
      "cell_type": "code",
      "metadata": {
        "id": "vmfMK_McAh89",
        "colab_type": "code",
        "colab": {}
      },
      "source": [
        "import numpy as np\n",
        "pyLDAvis.enable_notebook()\n",
        "panels = []\n",
        "for corpus, vectorized_corpus, result, vectorizer, lda in analysis_results:\n",
        "  panel = pyLDAvis.sklearn.prepare(lda, vectorized_corpus, vectorizer, mds='tsne')\n",
        "  panels.append(panel)"
      ],
      "execution_count": null,
      "outputs": []
    },
    {
      "cell_type": "markdown",
      "metadata": {
        "id": "WD7UWs7uwxX1",
        "colab_type": "text"
      },
      "source": [
        "Fonction d'affichage de distribution "
      ]
    },
    {
      "cell_type": "code",
      "metadata": {
        "id": "o9PivWUgw1oY",
        "colab_type": "code",
        "colab": {}
      },
      "source": [
        "def distPlot(dataset, field='title'):    \n",
        "  distribution = dataset[field].value_counts()\n",
        "  distribution = pd.DataFrame({'Category' : distribution.index, 'Frequency' : distribution.values})\n",
        "  plt.figure(figsize=(8,8))\n",
        "  sns.barplot(y='Frequency', x='Category', data=distribution, hue='Category')\n",
        "  plt.xticks(\n",
        "    rotation=45, \n",
        "    horizontalalignment='right',\n",
        "    fontweight='light',\n",
        "    fontsize='x-large'  \n",
        "  )"
      ],
      "execution_count": null,
      "outputs": []
    },
    {
      "cell_type": "markdown",
      "metadata": {
        "id": "dXLnMlrnvzgq",
        "colab_type": "text"
      },
      "source": [
        ""
      ]
    },
    {
      "cell_type": "code",
      "metadata": {
        "id": "4PMDMrTfv0DO",
        "colab_type": "code",
        "colab": {}
      },
      "source": [
        "distPlot(dataset=datasets[0], field='title')"
      ],
      "execution_count": null,
      "outputs": []
    },
    {
      "cell_type": "code",
      "metadata": {
        "id": "yhs7rPKve95q",
        "colab_type": "code",
        "colab": {}
      },
      "source": [
        "datasets[0].title.value_counts().describe()"
      ],
      "execution_count": null,
      "outputs": []
    },
    {
      "cell_type": "code",
      "metadata": {
        "id": "HcT7hvy-k79f",
        "colab_type": "code",
        "colab": {}
      },
      "source": [
        "panels[0]"
      ],
      "execution_count": null,
      "outputs": []
    },
    {
      "cell_type": "code",
      "metadata": {
        "id": "-Y2QXRhZIxQy",
        "colab_type": "code",
        "colab": {}
      },
      "source": [
        "distPlot(dataset=datasets[1], field='title')"
      ],
      "execution_count": null,
      "outputs": []
    },
    {
      "cell_type": "code",
      "metadata": {
        "id": "OKoAerEffmob",
        "colab_type": "code",
        "colab": {}
      },
      "source": [
        "datasets[1].title.value_counts().describe()"
      ],
      "execution_count": null,
      "outputs": []
    },
    {
      "cell_type": "code",
      "metadata": {
        "id": "ycynuVHkIkjM",
        "colab_type": "code",
        "colab": {}
      },
      "source": [
        "panels[1]"
      ],
      "execution_count": null,
      "outputs": []
    },
    {
      "cell_type": "code",
      "metadata": {
        "id": "cXQrMIFpIyET",
        "colab_type": "code",
        "colab": {}
      },
      "source": [
        "distPlot(dataset=datasets[2], field='title')"
      ],
      "execution_count": null,
      "outputs": []
    },
    {
      "cell_type": "code",
      "metadata": {
        "id": "PCzc-NdafWjI",
        "colab_type": "code",
        "colab": {}
      },
      "source": [
        "datasets[2].title.value_counts().describe()"
      ],
      "execution_count": null,
      "outputs": []
    },
    {
      "cell_type": "code",
      "metadata": {
        "id": "SDiZzgkVIk4Q",
        "colab_type": "code",
        "colab": {}
      },
      "source": [
        "panels[2]"
      ],
      "execution_count": null,
      "outputs": []
    },
    {
      "cell_type": "code",
      "metadata": {
        "id": "Q_ERDILUIyne",
        "colab_type": "code",
        "colab": {}
      },
      "source": [
        "distPlot(dataset=datasets[3], field='title')"
      ],
      "execution_count": null,
      "outputs": []
    },
    {
      "cell_type": "code",
      "metadata": {
        "id": "w2a1-oV7fZRh",
        "colab_type": "code",
        "colab": {}
      },
      "source": [
        "datasets[3].title.value_counts().describe()"
      ],
      "execution_count": null,
      "outputs": []
    },
    {
      "cell_type": "code",
      "metadata": {
        "id": "fF8-zyElIlLk",
        "colab_type": "code",
        "colab": {}
      },
      "source": [
        "panels[3]"
      ],
      "execution_count": null,
      "outputs": []
    },
    {
      "cell_type": "code",
      "metadata": {
        "id": "2AVCu32GIzRr",
        "colab_type": "code",
        "colab": {}
      },
      "source": [
        "distPlot(dataset=datasets[4], field='title')"
      ],
      "execution_count": null,
      "outputs": []
    },
    {
      "cell_type": "code",
      "metadata": {
        "id": "swVJ5PuafdZE",
        "colab_type": "code",
        "colab": {}
      },
      "source": [
        "datasets[4].title.value_counts().describe()"
      ],
      "execution_count": null,
      "outputs": []
    },
    {
      "cell_type": "code",
      "metadata": {
        "id": "7zgiBWuSIlh-",
        "colab_type": "code",
        "colab": {}
      },
      "source": [
        "panels[4]"
      ],
      "execution_count": null,
      "outputs": []
    },
    {
      "cell_type": "markdown",
      "metadata": {
        "id": "2ToA37t-42Hb",
        "colab_type": "text"
      },
      "source": [
        "Étudions l'évolution d'une topic en particulier en fonction de la distribution. \n",
        "On choisit d'étudier le théme automobile. \n",
        "\n",
        "On rappel que pyLDAvis permet d'observer les K topics que le LDA à determinés.\n",
        "Les topics correspondent à un groupe de mots representant un théme **t**.\n",
        "\n",
        "Dans le premier plot on peut observer que que la sphére 14 contient des mots dont la sémentique est celle de l'automobile. On peut donc dire que ce théme est bien détecté par le LDA. Dans les deux premiers plot le LDA a été entrainé des textes sur le topic de l'automobile dont la fréquence moyenne était de 400 textes. Lorsque la quantité de texte sur le thème de l'automobile est inférieur à 100 textes. On observe sur le plot qu'aucune sphére ne contient un ensemble de mots que l'on peut associé à l'automobile. On observe en revanche ces mots répartie dans différents thème.\n",
        "\n",
        "On peut donc dire que lorsqu'un théme est sous représenté (frequence des textes du théme faible) il est difficile au LDA de détecter ce théme. Ce qui est mathématiquementlogique étant donné que la fréquence des mots associé à ce théme diminue. En effet, si la fréquence des mots associé au théme diminue la salliance des mots de ce même thème diminue. "
      ]
    },
    {
      "cell_type": "markdown",
      "metadata": {
        "id": "jjBV4wO9dPoC",
        "colab_type": "text"
      },
      "source": [
        "# Conclusion\n",
        "\n",
        "Afin de faire de la labéllisation de texte à l'aide du LDA, il nous faudra entrainer le modèle sur un de grand volume de données de différentes catégorie avec un dataset dont l'écart-type de la taille des catégories est faible. "
      ]
    }
  ]
}